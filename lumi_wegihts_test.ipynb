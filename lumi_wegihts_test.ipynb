{
 "cells": [
  {
   "cell_type": "code",
   "execution_count": 1,
   "id": "ef924f82-71f2-4cda-aaf0-022490756d54",
   "metadata": {},
   "outputs": [],
   "source": [
    "import awkward as ak\n",
    "from coffea.nanoevents import NanoEventsFactory, NanoAODSchema, BaseSchema\n",
    "from coffea.lookup_tools import txt_converters, rochester_lookup\n",
    "\n",
    "NanoAODSchema.warn_missing_crossrefs = False\n",
    "import awkward as ak\n",
    "import matplotlib.pyplot as plt\n",
    "import numpy as np\n",
    "import pandas as pd\n",
    "import sys\n",
    "np.set_printoptions(threshold=sys.maxsize)"
   ]
  },
  {
   "cell_type": "code",
   "execution_count": 15,
   "id": "532aa4c9-7710-45ec-94e3-dad215aad609",
   "metadata": {},
   "outputs": [],
   "source": [
    "# fname = \"root://eos.cms.rcac.purdue.edu//store/mc/RunIISummer20UL18NanoAODv9/DYJetsToLL_M-50_TuneCP5_13TeV-amcatnloFXFX-pythia8/NANOAODSIM/106X_upgrade2018_realistic_v16_L1v1-v2/230000/1A909DE6-CA08-434B-BDBB-B648B95BEFDF.root\"\n",
    "# xrootd_path = \"root://eos.cms.rcac.purdue.edu/\"\n",
    "# # fname = \"/store/mc/RunIISummer20UL18NanoAODv9/DYJetsToLL_M-50_TuneCP5_13TeV-amcatnloFXFX-pythia8/NANOAODSIM/106X_upgrade2018_realistic_v16_L1v1-v2/230000/1A909DE6-CA08-434B-BDBB-B648B95BEFDF.root\"\n",
    "# fname = \"root://eos.cms.rcac.purdue.edu//store/mc/RunIISummer20UL18NanoAODv9/DYJetsToLL_M-50_TuneCP5_13TeV-amcatnloFXFX-pythia8/NANOAODSIM/106X_upgrade2018_realistic_v16_L1v1-v2/40000/ECB51118-0153-2F40-BB6D-0204F0EE98C2.root\"\n",
    "fname = \"root://eos.cms.rcac.purdue.edu//store/mc/RunIISummer20UL18NanoAODv9/DYJetsToLL_M-50_TuneCP5_13TeV-amcatnloFXFX-pythia8/NANOAODSIM/106X_upgrade2018_realistic_v16_L1v1-v2/40000/ECB51118-0153-2F40-BB6D-0204F0EE98C2.root\"\n",
    "# fname = \"root://eos.cms.rcac.purdue.edu//store/mc/RunIISummer20UL18NanoAODv9/DYJetsToLL_M-50_TuneCP5_13TeV-amcatnloFXFX-pythia8/NANOAODSIM/106X_upgrade2018_realistic_v16_L1v1-v2/40000/D66D9A4F-7CC9-6A4C-A443-188717C3F075.root\"\n",
    "# events = NanoEventsFactory.from_root(\n",
    "#     {fname : \"Events\"},\n",
    "#     schemaclass=NanoAODSchema,\n",
    "#     metadata={\"dataset\": \"DYJets\"},\n",
    "#     delayed=False,\n",
    "#     # entry_start=770,\n",
    "#     # entry_stop = 200,\n",
    "#     entry_stop = 50#5000,\n",
    "# ).events()\n",
    "\n",
    "runs = NanoEventsFactory.from_root(\n",
    "    {fname : \"Runs\"},\n",
    "    schemaclass=BaseSchema, # BaseSchema is needed to look at the runs\n",
    "    metadata={\"dataset\": \"DYJets\"},\n",
    "    delayed=False,\n",
    ").events()"
   ]
  },
  {
   "cell_type": "code",
   "execution_count": 16,
   "id": "58e05c4b-9d9b-4de0-9f07-2b1155457f31",
   "metadata": {},
   "outputs": [
    {
     "data": {
      "text/plain": [
       "['run',\n",
       " 'genEventCount',\n",
       " 'genEventSumw',\n",
       " 'genEventSumw2',\n",
       " 'nLHEScaleSumw',\n",
       " 'LHEScaleSumw',\n",
       " 'nLHEPdfSumw',\n",
       " 'LHEPdfSumw']"
      ]
     },
     "execution_count": 16,
     "metadata": {},
     "output_type": "execute_result"
    }
   ],
   "source": [
    "runs.fields"
   ]
  },
  {
   "cell_type": "code",
   "execution_count": 17,
   "id": "7700d207-588c-48e3-9a77-1cf4f13d803e",
   "metadata": {},
   "outputs": [
    {
     "name": "stdout",
     "output_type": "stream",
     "text": [
      "[1.03901375e+10]\n",
      "[609837]\n"
     ]
    }
   ],
   "source": [
    "sumGenWgts = 0\n",
    "nGenEvts = 0\n",
    "branches = [\"genEventSumw\",\"genEventCount\"]\n",
    "for branch in branches:\n",
    "    print(ak.to_numpy(runs[branch]))"
   ]
  },
  {
   "cell_type": "code",
   "execution_count": 19,
   "id": "64a60fc3-6a7c-478d-a26e-bc01a17ae00b",
   "metadata": {},
   "outputs": [],
   "source": [
    "#multiple file test\n",
    "fnames = [\n",
    "    \"root://eos.cms.rcac.purdue.edu//store/mc/RunIISummer20UL18NanoAODv9/DYJetsToLL_M-50_TuneCP5_13TeV-amcatnloFXFX-pythia8/NANOAODSIM/106X_upgrade2018_realistic_v16_L1v1-v2/40000/ECB51118-0153-2F40-BB6D-0204F0EE98C2.root\",\n",
    "    \"root://eos.cms.rcac.purdue.edu//store/mc/RunIISummer20UL18NanoAODv9/DYJetsToLL_M-50_TuneCP5_13TeV-amcatnloFXFX-pythia8/NANOAODSIM/106X_upgrade2018_realistic_v16_L1v1-v2/40000/D66D9A4F-7CC9-6A4C-A443-188717C3F075.root\",\n",
    "]\n",
    "file_input = {fname : {\"object_path\": \"Runs\"} for fname in fnames}\n",
    "runs = NanoEventsFactory.from_root(\n",
    "        file_input,\n",
    "        metadata={\"dataset\": \"nano_dy\"},\n",
    "        schemaclass=BaseSchema,\n",
    ").events()"
   ]
  },
  {
   "cell_type": "code",
   "execution_count": 23,
   "id": "c5c83ba0-f3b5-4b53-b567-0f8bd1c983dd",
   "metadata": {},
   "outputs": [
    {
     "data": {
      "text/html": [
       "<pre>[1.04e+10,\n",
       " 1.46e+10]\n",
       "---------------------------------------------------------------\n",
       "type: 2 * float64[parameters={&quot;__doc__&quot;: &quot;sum of gen weights&quot;}]</pre>"
      ],
      "text/plain": [
       "<Array [1.04e+10, 1.46e+10] type='2 * float64[parameters={\"__doc__\": \"sum o...'>"
      ]
     },
     "execution_count": 23,
     "metadata": {},
     "output_type": "execute_result"
    }
   ],
   "source": [
    "genEventSumw_arr = runs.genEventSumw.compute()\n",
    "genEventSumw_arr"
   ]
  },
  {
   "cell_type": "code",
   "execution_count": 24,
   "id": "a83ade6a-5443-4cba-8c94-abd843f575d6",
   "metadata": {},
   "outputs": [
    {
     "data": {
      "text/plain": [
       "25002303181.614"
      ]
     },
     "execution_count": 24,
     "metadata": {},
     "output_type": "execute_result"
    }
   ],
   "source": [
    "ak.sum(genEventSumw_arr)"
   ]
  },
  {
   "cell_type": "code",
   "execution_count": null,
   "id": "e29c7a41-2f1a-489b-840a-47491891950b",
   "metadata": {},
   "outputs": [],
   "source": [
    "\"\"\"\n",
    "It was recoomended to do metadata collection run beforehand (call it preprocessing or something), save it save cached config and then do the normal coffea processor processing\n",
    "\"\"\""
   ]
  }
 ],
 "metadata": {
  "kernelspec": {
   "display_name": "Python [conda env:coffea2024]",
   "language": "python",
   "name": "conda-env-coffea2024-py"
  },
  "language_info": {
   "codemirror_mode": {
    "name": "ipython",
    "version": 3
   },
   "file_extension": ".py",
   "mimetype": "text/x-python",
   "name": "python",
   "nbconvert_exporter": "python",
   "pygments_lexer": "ipython3",
   "version": "3.10.13"
  }
 },
 "nbformat": 4,
 "nbformat_minor": 5
}
