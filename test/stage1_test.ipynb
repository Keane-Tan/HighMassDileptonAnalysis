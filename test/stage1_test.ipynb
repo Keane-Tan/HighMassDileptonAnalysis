{
 "cells": [
  {
   "cell_type": "code",
   "execution_count": 1,
   "id": "935d4fe9-1a25-42b3-a672-5bc1e11503b4",
   "metadata": {},
   "outputs": [
    {
     "name": "stdout",
     "output_type": "stream",
     "text": [
      "New directory path: /work/users/yun79/valerie/fork/copperheadV2\n"
     ]
    },
    {
     "name": "stderr",
     "output_type": "stream",
     "text": [
      "/work/users/yun79/valerie/fork/copperheadV2/src/copperhead_processor.py:20: FutureWarning: In version 2024.7.0 (target date: 2024-06-30 11:59:59-05:00), this will be an error.\n",
      "To raise these warnings as errors (and get stack traces to find out where they're called), run\n",
      "    import warnings\n",
      "    warnings.filterwarnings(\"error\", module=\"coffea.*\")\n",
      "after the first `import coffea` or use `@pytest.mark.filterwarnings(\"error:::coffea.*\")` in pytest.\n",
      "Issue: coffea.nanoevents.methods.vector will be removed and replaced with scikit-hep vector. Nanoevents schemas internal to coffea will be migrated. Otherwise please consider using that package!.\n",
      "  from coffea.nanoevents.methods import vector\n"
     ]
    }
   ],
   "source": [
    "import os\n",
    "\"\"\"\n",
    "sets overrides the parent directory as current directory\n",
    "\"\"\"\n",
    "# Get the current directory path\n",
    "current_directory = os.getcwd()\n",
    "\n",
    "# Get the parent directory path\n",
    "parent_directory = os.path.dirname(current_directory)\n",
    "\n",
    "# Change the current directory to the parent directory\n",
    "os.chdir(parent_directory)\n",
    "\n",
    "# Verify the change\n",
    "new_directory = os.getcwd()\n",
    "print(\"New directory path:\", new_directory)\n",
    "\n",
    "\n",
    "# Now you can import modules from the parent directory\n",
    "# from parent_module import my_function\n",
    "from src.copperhead_processor import EventProcessor\n",
    "from src.lib.get_parameters import getParametersForYr\n",
    "\n",
    "import awkward as ak\n",
    "import numpy as np\n",
    "from omegaconf import OmegaConf\n",
    "from coffea.nanoevents import NanoEventsFactory, NanoAODSchema"
   ]
  },
  {
   "cell_type": "code",
   "execution_count": 2,
   "id": "d67355fd-87ec-4ed8-855e-d512e4a2942e",
   "metadata": {},
   "outputs": [],
   "source": [
    "param_path = \"./configs/parameters/\"\n",
    "config = getParametersForYr(param_path, \"2018\")\n",
    "coffea_processor = EventProcessor(config)"
   ]
  },
  {
   "cell_type": "code",
   "execution_count": null,
   "id": "20718333-b81c-4477-b717-149db63e29dd",
   "metadata": {},
   "outputs": [
    {
     "name": "stdout",
     "output_type": "stream",
     "text": [
      "dataset: dy_M-100To200\n",
      "events.metadata: {'sumGenWgts': 7720081.838819998, 'nGenEvts': 2000000, 'data_entries': None, 'fraction': 1.0, 'original_fraction': 1.0, 'is_mc': True, 'dataset': 'dy_M-100To200', 'NanoAODv': 9, 'version': 'latest'}\n",
      "NanoAODv: 9\n",
      "doing rochester!\n",
      "doing fsr!\n",
      "doing geofit!\n",
      "electron_id: mvaFall17V2Iso_WP90\n",
      "small file test sumWeights: 6798350.261352539\n",
      "muons mass_resolution dpt1: dask.awkward<multiply, npartitions=1>\n",
      "prepare jets NanoAODv: 9\n"
     ]
    }
   ],
   "source": [
    "load_path = \"./test/stage1_inputs/dy_M-100To200\"\n",
    "\n",
    "dataset_dict = OmegaConf.load(load_path + \"/dataset_dict.yaml\")\n",
    "dataset_dict = OmegaConf.to_object(dataset_dict) # convert to normal dictionary, which may not be necessary, but oh well\n",
    "events = NanoEventsFactory.from_root(\n",
    "    dataset_dict[\"files\"],\n",
    "    schemaclass=NanoAODSchema,\n",
    "    metadata= dataset_dict[\"metadata\"],\n",
    "    uproot_options={\n",
    "        \"timeout\":2400,\n",
    "        # \"allow_read_errors_with_report\": True, # this makes process skip over OSErrors\n",
    "    },\n",
    ").events()\n",
    "out_collections = coffea_processor.process(events)\n",
    "out_collections = ak.zip(out_collections, depth_limit=1).compute()\n",
    "\n",
    "load_path = \"./test/stage1_outputs/dy_M-100To200\"\n",
    "target_out = ak.from_parquet(load_path+\"/part0.parquet\")\n",
    "for field in target_out.fields:\n",
    "    target_arr = ak.fill_none(target_out[field], -99.0)\n",
    "    out_arr = ak.fill_none(out_collections[field], -99.0)\n",
    "    is_same_arr = ak.all(ak.isclose(target_arr,out_arr))\n",
    "    if not is_same_arr:\n",
    "        print(f\"ERROR: not same array for field {field}!\")\n",
    "        raise ValueError\n",
    "print(\"Success!\")"
   ]
  },
  {
   "cell_type": "code",
   "execution_count": 17,
   "id": "50714921-4276-404a-8d9e-b0483d8b6401",
   "metadata": {},
   "outputs": [],
   "source": []
  },
  {
   "cell_type": "code",
   "execution_count": 10,
   "id": "d165c57e-f5b8-47ff-8bc3-68f6878f04f4",
   "metadata": {},
   "outputs": [],
   "source": []
  },
  {
   "cell_type": "code",
   "execution_count": 22,
   "id": "98db8963-4eb3-46b7-a935-575f9acaa44f",
   "metadata": {},
   "outputs": [],
   "source": [
    "\n",
    " "
   ]
  },
  {
   "cell_type": "code",
   "execution_count": 16,
   "id": "2626feda-0f5e-4ee8-ab3b-966daca8b4a9",
   "metadata": {},
   "outputs": [
    {
     "data": {
      "text/plain": [
       "awkward.highlevel.Array"
      ]
     },
     "execution_count": 16,
     "metadata": {},
     "output_type": "execute_result"
    }
   ],
   "source": []
  },
  {
   "cell_type": "code",
   "execution_count": null,
   "id": "91b43a56-14da-4f44-8614-af5dd886d469",
   "metadata": {},
   "outputs": [],
   "source": []
  }
 ],
 "metadata": {
  "kernelspec": {
   "display_name": "Python [conda env:root632]",
   "language": "python",
   "name": "conda-env-root632-py"
  },
  "language_info": {
   "codemirror_mode": {
    "name": "ipython",
    "version": 3
   },
   "file_extension": ".py",
   "mimetype": "text/x-python",
   "name": "python",
   "nbconvert_exporter": "python",
   "pygments_lexer": "ipython3",
   "version": "3.12.4"
  }
 },
 "nbformat": 4,
 "nbformat_minor": 5
}
