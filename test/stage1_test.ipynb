{
 "cells": [
  {
   "cell_type": "code",
   "execution_count": 1,
   "id": "935d4fe9-1a25-42b3-a672-5bc1e11503b4",
   "metadata": {},
   "outputs": [
    {
     "name": "stdout",
     "output_type": "stream",
     "text": [
      "New directory path: /work/users/yun79/valerie/fork/copperheadV2\n"
     ]
    },
    {
     "name": "stderr",
     "output_type": "stream",
     "text": [
      "/work/users/yun79/valerie/fork/copperheadV2/src/copperhead_processor.py:20: FutureWarning: In version 2024.7.0 (target date: 2024-06-30 11:59:59-05:00), this will be an error.\n",
      "To raise these warnings as errors (and get stack traces to find out where they're called), run\n",
      "    import warnings\n",
      "    warnings.filterwarnings(\"error\", module=\"coffea.*\")\n",
      "after the first `import coffea` or use `@pytest.mark.filterwarnings(\"error:::coffea.*\")` in pytest.\n",
      "Issue: coffea.nanoevents.methods.vector will be removed and replaced with scikit-hep vector. Nanoevents schemas internal to coffea will be migrated. Otherwise please consider using that package!.\n",
      "  from coffea.nanoevents.methods import vector\n"
     ]
    }
   ],
   "source": [
    "import os\n",
    "\"\"\"\n",
    "sets overrides the parent directory as current directory\n",
    "\"\"\"\n",
    "# Get the current directory path\n",
    "current_directory = os.getcwd()\n",
    "\n",
    "# Get the parent directory path\n",
    "parent_directory = os.path.dirname(current_directory)\n",
    "\n",
    "# Change the current directory to the parent directory\n",
    "os.chdir(parent_directory)\n",
    "\n",
    "# Verify the change\n",
    "new_directory = os.getcwd()\n",
    "print(\"New directory path:\", new_directory)\n",
    "\n",
    "\n",
    "# Now you can import modules from the parent directory\n",
    "# from parent_module import my_function\n",
    "from src.copperhead_processor import EventProcessor\n",
    "from src.lib.get_parameters import getParametersForYr\n",
    "\n",
    "import awkward as ak\n",
    "import numpy as np\n",
    "from omegaconf import OmegaConf\n",
    "from coffea.nanoevents import NanoEventsFactory, NanoAODSchema"
   ]
  },
  {
   "cell_type": "code",
   "execution_count": 2,
   "id": "d67355fd-87ec-4ed8-855e-d512e4a2942e",
   "metadata": {},
   "outputs": [],
   "source": [
    "param_path = \"./configs/parameters/\"\n",
    "config = getParametersForYr(param_path, \"2018\")\n",
    "coffea_processor = EventProcessor(config, test_mode=True) # we assume that test_mode is True"
   ]
  },
  {
   "cell_type": "code",
   "execution_count": 3,
   "id": "20718333-b81c-4477-b717-149db63e29dd",
   "metadata": {
    "scrolled": true
   },
   "outputs": [
    {
     "name": "stdout",
     "output_type": "stream",
     "text": [
      "dataset: dy_M-100To200\n",
      "events.metadata: {'sumGenWgts': 7720081.838819998, 'nGenEvts': 2000000, 'data_entries': None, 'fraction': 1.0, 'original_fraction': 1.0, 'is_mc': True, 'dataset': 'dy_M-100To200', 'NanoAODv': 9, 'version': 'latest'}\n",
      "NanoAODv: 9\n",
      "doing rochester!\n"
     ]
    },
    {
     "name": "stderr",
     "output_type": "stream",
     "text": [
      "/depot/cms/kernels/root632/lib/python3.12/site-packages/dask_awkward/lib/structure.py:907: UserWarning: Please ensure that dask.awkward<dask, npartitions=1>\n",
      "        is partitionwise-compatible with dask.awkward<dask, npartitions=1>\n",
      "        (e.g. counts comes from a dak.num(array, axis=1)),\n",
      "        otherwise this unflatten operation will fail when computed!\n",
      "  warnings.warn(\n"
     ]
    },
    {
     "name": "stdout",
     "output_type": "stream",
     "text": [
      "doing fsr!\n",
      "doing geofit!\n",
      "electron_id: mvaFall17V2Iso_WP90\n",
      "small file test sumWeights: 6798350.261352539\n",
      "muons mass_resolution dpt1: dask.awkward<multiply, npartitions=1>\n",
      "prepare jets NanoAODv: 9\n",
      "do jec!\n",
      "cross_section: 254.2\n",
      "doing musf!\n",
      "doing LHE!\n",
      "doing pdf!\n",
      "jet loop matched_mu_pass b4 : dask.awkward<bitwise-and, npartitions=1>\n",
      "doing jet puid weights!\n",
      "sj_dict.keys(): dict_keys(['nsoftjets2_nominal', 'htsoft2_nominal', 'nsoftjets5_nominal', 'htsoft5_nominal'])\n",
      "adding QGL weights!\n",
      "doing btag wgt!\n",
      "doing zpt weight!\n",
      "weight statistics: dict_keys(['genWeight', 'genWeight_normalization', 'xsec', 'lumi', 'muID', 'muIso', 'muTrig', 'LHERen', 'LHEFac', 'pdf_2rms', 'jetpuid_wgt', 'qgl'])\n",
      "adding btag wgts!\n"
     ]
    },
    {
     "name": "stderr",
     "output_type": "stream",
     "text": [
      "/depot/cms/kernels/root632/lib/python3.12/site-packages/awkward/_nplikes/array_module.py:246: RuntimeWarning: divide by zero encountered in divide\n",
      "  return impl(*broadcasted_args, **(kwargs or {}))\n"
     ]
    },
    {
     "name": "stdout",
     "output_type": "stream",
     "text": [
      "Success in dy_M-100To200!\n",
      "dataset: vbf_powheg\n",
      "events.metadata: {'sumGenWgts': 7720081.838819998, 'nGenEvts': 2000000, 'data_entries': None, 'fraction': 1.0, 'original_fraction': 1.0, 'is_mc': True, 'dataset': 'vbf_powheg', 'NanoAODv': 9, 'version': 'latest'}\n",
      "NanoAODv: 9\n",
      "doing rochester!\n",
      "doing fsr!\n",
      "doing geofit!\n",
      "electron_id: mvaFall17V2Iso_WP90\n",
      "small file test sumWeights: 38767.655119895935\n",
      "muons mass_resolution dpt1: dask.awkward<multiply, npartitions=1>\n",
      "prepare jets NanoAODv: 9\n",
      "do jec!\n",
      "cross_section: 0.0008210722\n",
      "doing musf!\n",
      "doing LHE!\n",
      "doing pdf!\n",
      "jet loop matched_mu_pass b4 : dask.awkward<bitwise-and, npartitions=1>\n",
      "doing jet puid weights!\n",
      "sj_dict.keys(): dict_keys(['nsoftjets2_nominal', 'htsoft2_nominal', 'nsoftjets5_nominal', 'htsoft5_nominal'])\n",
      "adding QGL weights!\n",
      "doing btag wgt!\n",
      "weight statistics: dict_keys(['genWeight', 'genWeight_normalization', 'xsec', 'lumi', 'muID', 'muIso', 'muTrig', 'LHERen', 'LHEFac', 'pdf_2rms', 'jetpuid_wgt', 'qgl'])\n",
      "adding btag wgts!\n",
      "Success in vbf_powheg!\n",
      "dataset: ggh_powheg\n",
      "events.metadata: {'sumGenWgts': 7720081.838819998, 'nGenEvts': 2000000, 'data_entries': None, 'fraction': 1.0, 'original_fraction': 1.0, 'is_mc': True, 'dataset': 'ggh_powheg', 'NanoAODv': 9, 'version': 'latest'}\n",
      "NanoAODv: 9\n",
      "doing rochester!\n",
      "doing fsr!\n",
      "doing geofit!\n",
      "electron_id: mvaFall17V2Iso_WP90\n",
      "small file test sumWeights: 214395.9242362976\n",
      "muons mass_resolution dpt1: dask.awkward<multiply, npartitions=1>\n",
      "prepare jets NanoAODv: 9\n",
      "do jec!\n",
      "cross_section: 0.01057\n",
      "doing NNLOPS!\n",
      "doing musf!\n",
      "doing LHE!\n",
      "doing pdf!\n",
      "jet loop matched_mu_pass b4 : dask.awkward<bitwise-and, npartitions=1>\n",
      "doing jet puid weights!\n",
      "sj_dict.keys(): dict_keys(['nsoftjets2_nominal', 'htsoft2_nominal', 'nsoftjets5_nominal', 'htsoft5_nominal'])\n",
      "adding QGL weights!\n",
      "doing btag wgt!\n",
      "weight statistics: dict_keys(['genWeight', 'genWeight_normalization', 'xsec', 'lumi', 'nnlops', 'muID', 'muIso', 'muTrig', 'LHERen', 'LHEFac', 'pdf_2rms', 'jetpuid_wgt', 'qgl'])\n",
      "adding btag wgts!\n",
      "Success in ggh_powheg!\n",
      "dataset: data_A\n",
      "events.metadata: {'sumGenWgts': 7720081.838819998, 'nGenEvts': 2000000, 'data_entries': None, 'fraction': 1.0, 'original_fraction': 1.0, 'is_mc': False, 'dataset': 'data_A', 'NanoAODv': 9, 'version': 'latest'}\n",
      "NanoAODv: 9\n",
      "doing rochester!\n",
      "doing fsr!\n",
      "doing geofit!\n",
      "electron_id: mvaFall17V2Iso_WP90\n",
      "muons mass_resolution dpt1: dask.awkward<multiply, npartitions=1>\n",
      "prepare jets NanoAODv: 9\n",
      "do jec!\n",
      "jet loop matched_mu_pass b4 : dask.awkward<bitwise-and, npartitions=1>\n",
      "sj_dict.keys(): dict_keys(['nsoftjets2_nominal', 'htsoft2_nominal', 'nsoftjets5_nominal', 'htsoft5_nominal'])\n",
      "weight statistics: dict_keys(['ones'])\n"
     ]
    },
    {
     "name": "stderr",
     "output_type": "stream",
     "text": [
      "/depot/cms/kernels/root632/lib/python3.12/site-packages/awkward/_nplikes/array_module.py:246: RuntimeWarning: divide by zero encountered in divide\n",
      "  return impl(*broadcasted_args, **(kwargs or {}))\n"
     ]
    },
    {
     "name": "stdout",
     "output_type": "stream",
     "text": [
      "Success in data_A!\n"
     ]
    }
   ],
   "source": [
    "samples = [\n",
    "    \"dy_M-100To200\", \n",
    "    \"vbf_powheg\",\n",
    "    \"ggh_powheg\", \n",
    "    \"data_A\",\n",
    "]\n",
    "for sample in samples:\n",
    "    load_path = f\"./test/stage1_inputs/{sample}\"\n",
    "    \n",
    "    dataset_dict = OmegaConf.load(load_path + \"/dataset_dict.yaml\")\n",
    "    dataset_dict = OmegaConf.to_object(dataset_dict) # convert to normal dictionary, which may not be necessary, but oh well\n",
    "    events = NanoEventsFactory.from_root(\n",
    "        dataset_dict[\"files\"],\n",
    "        schemaclass=NanoAODSchema,\n",
    "        metadata= dataset_dict[\"metadata\"],\n",
    "        uproot_options={\n",
    "            \"timeout\":2400,\n",
    "        },\n",
    "    ).events()\n",
    "    out_collections = coffea_processor.process(events)\n",
    "    out_collections = ak.zip(out_collections, depth_limit=1).compute()\n",
    "\n",
    "    load_path = f\"./test/stage1_outputs/{sample}\"\n",
    "    target_out = ak.from_parquet(load_path+\"/part0.parquet\")\n",
    "    for field in target_out.fields:\n",
    "        target_arr = ak.fill_none(target_out[field], -99.0)\n",
    "        out_arr = ak.fill_none(out_collections[field], -99.0)\n",
    "        # print(f\"len(target_arr): {len(target_arr)}\")\n",
    "        # print(f\"len(out_arr): {len(out_arr)}\")\n",
    "        is_same_arr = ak.all(ak.isclose(target_arr,out_arr))\n",
    "        if not is_same_arr:\n",
    "            print(f\"ERROR: not same array for field {field}!\")\n",
    "            raise ValueError\n",
    "    print(f\"Success in {sample}!\")"
   ]
  }
 ],
 "metadata": {
  "kernelspec": {
   "display_name": "Python [conda env:root632]",
   "language": "python",
   "name": "conda-env-root632-py"
  },
  "language_info": {
   "codemirror_mode": {
    "name": "ipython",
    "version": 3
   },
   "file_extension": ".py",
   "mimetype": "text/x-python",
   "name": "python",
   "nbconvert_exporter": "python",
   "pygments_lexer": "ipython3",
   "version": "3.12.4"
  }
 },
 "nbformat": 4,
 "nbformat_minor": 5
}
