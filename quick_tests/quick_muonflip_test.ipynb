{
 "cells": [
  {
   "cell_type": "code",
   "execution_count": 1,
   "id": "b1f7bf12-a768-41d2-9fa8-5915b45f491f",
   "metadata": {},
   "outputs": [],
   "source": [
    "import awkward as ak"
   ]
  },
  {
   "cell_type": "code",
   "execution_count": 47,
   "id": "07d1ebc7-fcb7-4db8-8cbd-0194fdc19808",
   "metadata": {},
   "outputs": [],
   "source": [
    "muon_pts = ak.Array(\n",
    "    [\n",
    "        [0,1],\n",
    "        [1],\n",
    "        [4,2,4],\n",
    "        [5,7,2,2.1],\n",
    "        [0.5]\n",
    "    ]\n",
    ")"
   ]
  },
  {
   "cell_type": "code",
   "execution_count": 51,
   "id": "d60e69d6-f40e-4d59-8d36-312978d8d8a2",
   "metadata": {},
   "outputs": [
    {
     "data": {
      "text/html": [
       "<pre>[True,\n",
       " False,\n",
       " False,\n",
       " True,\n",
       " False]\n",
       "--------------\n",
       "type: 5 * bool</pre>"
      ],
      "text/plain": [
       "<Array [True, False, False, True, False] type='5 * bool'>"
      ]
     },
     "execution_count": 51,
     "metadata": {},
     "output_type": "execute_result"
    }
   ],
   "source": [
    "muon_padded = ak.pad_none(muon_pts, 2)\n",
    "flip = muon_padded[:,0] < muon_padded[:,1]\n",
    "flip = ak.fill_none(flip, value=False)\n",
    "flip"
   ]
  },
  {
   "cell_type": "code",
   "execution_count": 53,
   "id": "1194d64a-e853-4a10-a7ef-55bd1479c117",
   "metadata": {},
   "outputs": [
    {
     "name": "stdout",
     "output_type": "stream",
     "text": [
      "[1, 1, 4, 7, 0.5]\n",
      "[0, None, 2, 5, None]\n"
     ]
    }
   ],
   "source": [
    "new_mu1_pts = ak.where(flip, muon_padded[:,1], muon_padded[:,0])\n",
    "print(new_mu1_pts)\n",
    "new_mu2_pts = ak.where(flip, muon_padded[:,0], muon_padded[:,1])\n",
    "print(new_mu2_pts)"
   ]
  },
  {
   "cell_type": "code",
   "execution_count": 22,
   "id": "98b5e2bc-821f-4e6a-a819-4b114799bcfd",
   "metadata": {},
   "outputs": [
    {
     "data": {
      "text/html": [
       "<pre>[[0, 1],\n",
       " [1],\n",
       " [4, 2, 4],\n",
       " [5, 7, 2, 2.1],\n",
       " [0.5]]\n",
       "-----------------------\n",
       "type: 5 * var * float64</pre>"
      ],
      "text/plain": [
       "<Array [[0, 1], [1], ..., [5, 7, 2, 2.1], [0.5]] type='5 * var * float64'>"
      ]
     },
     "execution_count": 22,
     "metadata": {},
     "output_type": "execute_result"
    }
   ],
   "source": [
    "nmuons_filter = ak.num(muon_pts, axis=1) > 0\n",
    "muon_pts[nmuons_filter]"
   ]
  },
  {
   "cell_type": "code",
   "execution_count": 23,
   "id": "197446f2-8eb6-42bf-937b-c4f1c0ffc09a",
   "metadata": {},
   "outputs": [
    {
     "data": {
      "text/html": [
       "<pre>[[False],\n",
       " [],\n",
       " [True],\n",
       " [False],\n",
       " []]\n",
       "--------------------\n",
       "type: 5 * var * bool</pre>"
      ],
      "text/plain": [
       "<Array [[False], [], [True], [False], []] type='5 * var * bool'>"
      ]
     },
     "execution_count": 23,
     "metadata": {},
     "output_type": "execute_result"
    }
   ],
   "source": [
    "bool_filter = muon_pts[nmuons_filter][:,0] > muon_pts[nmuons_filter][:,1:2]\n",
    "bool_filter"
   ]
  },
  {
   "cell_type": "code",
   "execution_count": 24,
   "id": "ab5f72da-37fd-4f98-ae5d-72b42e3cf473",
   "metadata": {},
   "outputs": [
    {
     "data": {
      "text/html": [
       "<pre>[[],\n",
       " [],\n",
       " [],\n",
       " [],\n",
       " []]\n",
       "-----------------------\n",
       "type: 5 * var * float64</pre>"
      ],
      "text/plain": [
       "<Array [[], [], [], [], []] type='5 * var * float64'>"
      ]
     },
     "execution_count": 24,
     "metadata": {},
     "output_type": "execute_result"
    }
   ],
   "source": [
    "muon_pts[nmuons_filter][:,2:1]"
   ]
  },
  {
   "cell_type": "code",
   "execution_count": 19,
   "id": "cd3a3c8d-061a-4276-9ce6-665edcae2a71",
   "metadata": {},
   "outputs": [
    {
     "data": {
      "text/html": [
       "<pre>[False,\n",
       " False,\n",
       " True,\n",
       " False,\n",
       " False]\n",
       "--------------\n",
       "type: 5 * bool</pre>"
      ],
      "text/plain": [
       "<Array [False, False, True, False, False] type='5 * bool'>"
      ]
     },
     "execution_count": 19,
     "metadata": {},
     "output_type": "execute_result"
    }
   ],
   "source": [
    "bool_filter = ak.sum(bool_filter, axis=1) >0 \n",
    "bool_filter"
   ]
  },
  {
   "cell_type": "code",
   "execution_count": null,
   "id": "7737a926-5f2a-4ec8-ba5c-fcce3aa0cbfb",
   "metadata": {},
   "outputs": [],
   "source": [
    "# flip 1st and 2nd columns if two cols exist\n",
    "nmuons_filter = ak.num(muon_pts, axis=1) > 0\n",
    "new_muon_pt = muon_pts[nmuons_filter]"
   ]
  },
  {
   "cell_type": "code",
   "execution_count": 45,
   "id": "fc7a6809-bf48-41f3-ab47-609e3e8cdfa7",
   "metadata": {},
   "outputs": [
    {
     "data": {
      "text/html": [
       "<pre>[True,\n",
       " False,\n",
       " False,\n",
       " False,\n",
       " True,\n",
       " False]\n",
       "--------------\n",
       "type: 6 * bool</pre>"
      ],
      "text/plain": [
       "<Array [True, False, False, False, True, False] type='6 * bool'>"
      ]
     },
     "execution_count": 45,
     "metadata": {},
     "output_type": "execute_result"
    }
   ],
   "source": [
    "idxs = ak.argmax(muon_pts[:, :2], axis=1)\n",
    "filter = ak.fill_none(idxs !=0, value=False)\n",
    "filter"
   ]
  },
  {
   "cell_type": "code",
   "execution_count": 46,
   "id": "0b434bcf-6fdf-426b-a097-adb568bd1bd3",
   "metadata": {},
   "outputs": [
    {
     "data": {
      "text/html": [
       "<pre>[[0, 1],\n",
       " [5, 7, 2, 2.1]]\n",
       "-----------------------\n",
       "type: 2 * var * float64</pre>"
      ],
      "text/plain": [
       "<Array [[0, 1], [5, 7, 2, 2.1]] type='2 * var * float64'>"
      ]
     },
     "execution_count": 46,
     "metadata": {},
     "output_type": "execute_result"
    }
   ],
   "source": [
    "muon_pts[filter]"
   ]
  },
  {
   "cell_type": "code",
   "execution_count": 35,
   "id": "3dcfaec1-19da-45e8-af9a-3d02b5d91b77",
   "metadata": {},
   "outputs": [
    {
     "data": {
      "text/html": [
       "<pre>[[1],\n",
       " [0, 1],\n",
       " None,\n",
       " [0, 1],\n",
       " [1],\n",
       " [0, 1]]\n",
       "-------------------------------\n",
       "type: 6 * option[var * float64]</pre>"
      ],
      "text/plain": [
       "<Array [[1], [0, 1], None, ..., [1], [0, 1]] type='6 * option[var * float64]'>"
      ]
     },
     "execution_count": 35,
     "metadata": {},
     "output_type": "execute_result"
    }
   ],
   "source": [
    "muon_pts[idxs]"
   ]
  },
  {
   "cell_type": "code",
   "execution_count": 36,
   "id": "58125420-a547-4d81-9715-9aed14866b13",
   "metadata": {},
   "outputs": [
    {
     "data": {
      "text/html": [
       "<pre>[1,\n",
       " 1,\n",
       " None,\n",
       " 4,\n",
       " 7,\n",
       " 0.5]\n",
       "------------------\n",
       "type: 6 * ?float64</pre>"
      ],
      "text/plain": [
       "<Array [1, 1, None, 4, 7, 0.5] type='6 * ?float64'>"
      ]
     },
     "execution_count": 36,
     "metadata": {},
     "output_type": "execute_result"
    }
   ],
   "source": [
    "ak.max(muon_pts[:, :2], axis=1)"
   ]
  },
  {
   "cell_type": "code",
   "execution_count": null,
   "id": "1ec76914-72c9-4b47-b8b5-be470684b01f",
   "metadata": {},
   "outputs": [],
   "source": []
  }
 ],
 "metadata": {
  "kernelspec": {
   "display_name": "Python [conda env:coffea2024]",
   "language": "python",
   "name": "conda-env-coffea2024-py"
  },
  "language_info": {
   "codemirror_mode": {
    "name": "ipython",
    "version": 3
   },
   "file_extension": ".py",
   "mimetype": "text/x-python",
   "name": "python",
   "nbconvert_exporter": "python",
   "pygments_lexer": "ipython3",
   "version": "3.10.13"
  }
 },
 "nbformat": 4,
 "nbformat_minor": 5
}
