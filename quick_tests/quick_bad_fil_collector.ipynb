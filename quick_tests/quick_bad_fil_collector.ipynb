{
 "cells": [
  {
   "cell_type": "markdown",
   "id": "901ce2ca-0f84-4205-a8dd-bae02d9ac16d",
   "metadata": {},
   "source": [
    "This notebook contains code that I used to dig through thousands of root files ot find the root files with no HLT_IsoMu27 branch it was very useful"
   ]
  },
  {
   "cell_type": "code",
   "execution_count": null,
   "id": "ddaca46d-5cdb-4ccf-bc65-f7b0176207d2",
   "metadata": {},
   "outputs": [],
   "source": [
    "import uproot\n",
    "import glob\n",
    "import numba\n",
    "import numpy as np\n",
    "import concurrent.futures"
   ]
  },
  {
   "cell_type": "code",
   "execution_count": null,
   "id": "ac904dbd-0ce2-46a6-9e4a-a08e3d45d235",
   "metadata": {},
   "outputs": [],
   "source": [
    "load_path = \"/eos/purdue//store/group/local/hmm/nanoAODv6_private/FSRmyNanoProdData2017_NANOV4/SingleMuon/RunIISummer16MiniAODv3_FSRmyNanoProdData2017_NANOV4_un2017F-31Mar2018-v1/\"\n",
    "filelist = glob.glob(f\"{load_path}/*/*/*.root\")"
   ]
  },
  {
   "cell_type": "code",
   "execution_count": null,
   "id": "5e1536fa-bf79-463e-9591-48ba810a4f36",
   "metadata": {},
   "outputs": [],
   "source": [
    "def getBadFile(fname):\n",
    "    try:\n",
    "        up_file = uproot.open(fname) \n",
    "        if not (\"HLT_IsoMu27\" in up_file['Events'].keys()): \n",
    "            return fname # bad file\n",
    "        else:\n",
    "            return \"\"\n",
    "    except Exception as e:\n",
    "        return f\"An error occurred with file {fname}: {e}\"\n",
    "\n",
    "# with concurrent.futures.ThreadPoolExecutor(max_workers=5) as executor:\n",
    "with concurrent.futures.ProcessPoolExecutor(max_workers=60) as executor:\n",
    "    # Submit each file check to the executor\n",
    "    results = list(executor.map(getBadFile, filelist))\n",
    "for result in results:\n",
    "    if result != \"\":\n",
    "        print(result)"
   ]
  }
 ],
 "metadata": {
  "kernelspec": {
   "display_name": "Python [conda env:root632]",
   "language": "python",
   "name": "conda-env-root632-py"
  },
  "language_info": {
   "codemirror_mode": {
    "name": "ipython",
    "version": 3
   },
   "file_extension": ".py",
   "mimetype": "text/x-python",
   "name": "python",
   "nbconvert_exporter": "python",
   "pygments_lexer": "ipython3",
   "version": "3.12.5"
  }
 },
 "nbformat": 4,
 "nbformat_minor": 5
}
