{
 "cells": [
  {
   "cell_type": "code",
   "execution_count": 1,
   "id": "2ab4d2bc-6642-4e39-93c2-a5105abaf326",
   "metadata": {},
   "outputs": [],
   "source": [
    "import uproot\n",
    "import glob\n",
    "import numpy as np"
   ]
  },
  {
   "cell_type": "code",
   "execution_count": 2,
   "id": "53dea457-1c92-4bb6-ace9-75009b0ba268",
   "metadata": {},
   "outputs": [],
   "source": [
    "# load_path = \"/eos/purdue/store/user/vscheure/DYJetsToLL_M-105To160_VBFFilter_TuneCP5_PSweights_13TeV-amcatnloFXFX-pythia8/UL18_Nano/240514_124107\"\n",
    "# fnames = glob.glob(f\"{load_path}/*/*/*.root\")\n",
    "load_path =  \"/eos/purdue/store/user/vscheure/DYJetsToLL_M-105To160_VBFFilter_TuneCP5_PSweights_13TeV-amcatnloFXFX-pythia8/UL18_Nano/240514_124107/0000/HIG-RunIIFall18wmNanoAODv9-00020_38.root \""
   ]
  },
  {
   "cell_type": "code",
   "execution_count": 3,
   "id": "ee171bf8-a1f7-48c4-937e-98c9d0933762",
   "metadata": {},
   "outputs": [
    {
     "data": {
      "text/plain": [
       "['tag;1',\n",
       " 'Events;1',\n",
       " 'LuminosityBlocks;1',\n",
       " 'Runs;1',\n",
       " 'MetaData;1',\n",
       " 'ParameterSets;1']"
      ]
     },
     "execution_count": 3,
     "metadata": {},
     "output_type": "execute_result"
    }
   ],
   "source": [
    "file_UL = uproot.open(load_path)\n",
    "ttrees = file_UL.keys()\n",
    "ttrees"
   ]
  },
  {
   "cell_type": "code",
   "execution_count": 4,
   "id": "5884b120-c858-4339-84ac-1cbf5bb311fb",
   "metadata": {},
   "outputs": [
    {
     "name": "stdout",
     "output_type": "stream",
     "text": [
      "['run', 'genEventCount', 'genEventSumw', 'genEventSumw2', 'nLHEScaleSumw', 'LHEScaleSumw', 'nLHEPdfSumw', 'LHEPdfSumw']\n",
      "event\n",
      "[1, 1, 1, 1, 1, 1, 1, 1, 1, 1, 1, 1, 1, ..., 1, 1, 1, 1, 1, 1, 1, 1, 1, 1, 1, 1]\n",
      "[4476096, 4476107, 4476132, 4476161, ..., 14214143, 14214156, 14214171]\n"
     ]
    }
   ],
   "source": [
    "print(file_UL['Runs'].keys())\n",
    "# print(file_UL['Runs']['run'].array())\n",
    "for key in file_UL['Events'].keys():\n",
    "    if \"event\" in key:\n",
    "        print(key)\n",
    "print(file_UL['Events']['run'].array())\n",
    "print(file_UL['Events']['event'].array())"
   ]
  },
  {
   "cell_type": "code",
   "execution_count": 5,
   "id": "17c586a3-ce16-4bb3-850a-486d41c90ebb",
   "metadata": {},
   "outputs": [],
   "source": [
    "# load_path = \"/eos/purdue/store/user/vscheure/DYJetsToLL_M-105To160_VBFFilter_TuneCP5_PSweights_13TeV-amcatnloFXFX-pythia8/UL18_Nano/240514_124107\"\n",
    "# fnames = glob.glob(f\"{load_path}/*/*.root\")\n",
    "# file_UL = uproot.open(fnames[0])\n",
    "# ttrees = file_uproot.keys()\n",
    "# ttrees"
   ]
  },
  {
   "cell_type": "code",
   "execution_count": 6,
   "id": "e6827e88-8c1e-4aa2-863a-eb8e14286af7",
   "metadata": {},
   "outputs": [],
   "source": [
    "# # print(file_UL['Runs'].keys())\n",
    "# print(file_UL['Runs']['run'].array())\n",
    "# # print(file_UL['Events'].keys())\n",
    "# print(file_UL['Events']['event'].array())"
   ]
  },
  {
   "cell_type": "code",
   "execution_count": 7,
   "id": "02c6818d-b6e3-4cb7-bf5f-01b8bf67bd34",
   "metadata": {},
   "outputs": [],
   "source": [
    "# eventN = 3338285\n",
    "# eventNfilter = file_UL['Events']['event'].array() == eventN\n",
    "# file_UL['Events']['Muon_pt'].array()[eventNfilter]"
   ]
  },
  {
   "cell_type": "code",
   "execution_count": 32,
   "id": "da09d445-b87c-4f82-bd62-599dce900545",
   "metadata": {},
   "outputs": [
    {
     "data": {
      "text/html": [
       "<pre>[[62, 45.4, 44.6, 13.4, 10.8, 10.5, 8.57, ..., 3.27, 3.19, 3.07, 3.01, 3.01, 3],\n",
       " [110, 92.2, 48.2, 16.9, 9.88, 8.68, ..., 3.17, 3.14, 3.06, 3.05, 3.02, 3.01],\n",
       " [168, 115, 75.5, 44.9, 31.7, 9.86, ..., 3.83, 3.72, 3.57, 3.43, 3.33, 3.17],\n",
       " [120, 78.7, 66.3, 11.6, 9.89, 5.74, 3.81, 3.72, 3.06],\n",
       " [46.9, 45.8, 24.1, 23.8, 20.4, 20, 13, ..., 3.24, 3.23, 3.1, 3.05, 3.04, 3],\n",
       " [337, 336, 60.8, 32.2, 21, 11, 4.23],\n",
       " [82.2, 56, 45.5, 29.5, 8.9, 6.6, 5.34, 4.44, 3.99, 3.96],\n",
       " [69.5, 50.1, 49.9, 36.3, 16.9, 15.9, ..., 3.45, 3.44, 3.34, 3.31, 3.13, 3.02],\n",
       " [50.9, 48.6, 18.3, 13.6, 11.1, 9.7, ..., 3.55, 3.5, 3.04, 3.03, 3.03, 3.03],\n",
       " [105, 74.6, 64.5, 39, 27.4, 25.3, ..., 3.46, 3.37, 3.37, 3.26, 3.22, 3.03],\n",
       " ...,\n",
       " [67.2, 60.3, 30.9, 24.3, 16, 15.3, 15.2, 11.1, 4.1, 3.28, 3.11],\n",
       " [43.7, 34.1, 13.7, 6.11, 4.03, 3.16],\n",
       " [32.3, 17.8, 16.2, 12.4, 9.92, 8.77, ..., 3.36, 3.2, 3.2, 3.13, 3.05, 3.02],\n",
       " [80.3, 75.9, 51.2, 34, 9.83, 7.33, 6.45, ..., 3.77, 3.58, 3.5, 3.35, 3.3, 3.1],\n",
       " [61.9, 54.7, 10.7, 9.92, 7.81, 7.8, ..., 3.35, 3.29, 3.29, 3.21, 3.07, 3.05],\n",
       " [134, 111, 89, 26.1, 18.9, 11.7, 8.45, ..., 3.6, 3.53, 3.49, 3.34, 3.24, 3.21],\n",
       " [57.1, 53.9, 4.16, 4.13, 3.95, 3.72, 3.67, 3.21],\n",
       " [82.8, 73.7, 59, 54.1, 38.3, 11.4, 7, ..., 3.95, 3.93, 3.74, 3.64, 3.53, 3.03],\n",
       " [62, 60.7, 14.4, 13.3, 11.6, 11.2, ..., 3.22, 3.21, 3.14, 3.14, 3.11, 3.08]]\n",
       "--------------------------------------------------------------------------------\n",
       "type: 7879 * var * float32</pre>"
      ],
      "text/plain": [
       "<Array [[62, 45.4, 44.6, ..., 3.01, 3.01, 3], ...] type='7879 * var * float32'>"
      ]
     },
     "execution_count": 32,
     "metadata": {},
     "output_type": "execute_result"
    }
   ],
   "source": [
    "file_UL['Events']['GenJet_pt'].array()"
   ]
  },
  {
   "cell_type": "code",
   "execution_count": null,
   "id": "a289a1ae-051b-4d90-948c-953762fc9715",
   "metadata": {},
   "outputs": [],
   "source": [
    "\n",
    "# runN_filter = runN_arr== runN\n",
    "# eventN_filter = eventN_arr== eventN\n",
    "# file_UL['Events']"
   ]
  },
  {
   "cell_type": "code",
   "execution_count": 8,
   "id": "2a192a15-fcd3-4b1c-81c4-8254f6c32c1d",
   "metadata": {},
   "outputs": [
    {
     "name": "stdout",
     "output_type": "stream",
     "text": [
      "wrong eventN!\n",
      "wrong eventN!\n",
      "wrong eventN!\n",
      "wrong eventN!\n",
      "wrong eventN!\n",
      "wrong eventN!\n",
      "wrong eventN!\n",
      "wrong eventN!\n",
      "wrong eventN!\n",
      "wrong eventN!\n",
      "wrong eventN!\n",
      "wrong eventN!\n",
      "wrong eventN!\n",
      "wrong eventN!\n",
      "wrong eventN!\n",
      "wrong eventN!\n",
      "wrong eventN!\n",
      "wrong eventN!\n",
      "wrong eventN!\n",
      "wrong eventN!\n",
      "wrong eventN!\n",
      "wrong eventN!\n",
      "wrong eventN!\n",
      "wrong eventN!\n",
      "wrong eventN!\n",
      "wrong eventN!\n",
      "wrong eventN!\n",
      "passed file_Rereco: /eos/purdue/store/mc/RunIIAutumn18NanoAODv6/DYJetsToLL_M-105To160_VBFFilter_TuneCP5_PSweights_13TeV-amcatnloFXFX-pythia8/NANOAODSIM/Nano25Oct2019_VBFPostMGFilter_102X_upgrade2018_realistic_v20_ext1-v1/60000/9ED1BFDA-0278-944F-8AB4-92A2B6ED7037.root\n",
      "wrong eventN!\n",
      "wrong eventN!\n",
      "wrong eventN!\n",
      "wrong eventN!\n"
     ]
    }
   ],
   "source": [
    "\"\"\"\n",
    "search within Rereco files for a given runN and eventN\n",
    "\"\"\"\n",
    "eventN = 4476107\n",
    "runN = 1\n",
    "\n",
    "load_path = \"/eos/purdue/store/mc/RunIIAutumn18NanoAODv6/DYJetsToLL_M-105To160_VBFFilter_TuneCP5_PSweights_13TeV-amcatnloFXFX-pythia8/NANOAODSIM\"\n",
    "fnames_Rereco = glob.glob(f\"{load_path}/*/*/*.root\")\n",
    "# print(fnames_Rereco)\n",
    "for fname_Rereco in fnames_Rereco:\n",
    "    file_Rereco = uproot.open(fname_Rereco)\n",
    "    runN_arr = file_Rereco['Events']['run'].array()\n",
    "    # print(f\"runN_arr: {runN_arr}\")\n",
    "    runN_filter = runN_arr== runN\n",
    "    if not np.any(runN_filter):\n",
    "        print(\"wrong runN!\")\n",
    "        continue\n",
    "    eventN_arr = file_Rereco['Events']['event'].array()\n",
    "    # print(f\"eventN_filter: {eventN_arr}\")\n",
    "    eventN_filter = eventN_arr== eventN\n",
    "    # print(f\"eventN_arr: {eventN_arr}\")\n",
    "    # print(f\"eventN_filter: {eventN_filter}\")\n",
    "    if not np.any(eventN_filter):\n",
    "        print(\"wrong eventN!\")\n",
    "        continue\n",
    "\n",
    "    merged_filter = runN_filter & eventN_filter\n",
    "    if not np.any(merged_filter):\n",
    "        print(\"wrong combnination!\")\n",
    "        continue\n",
    "    \n",
    "    # if arrived here, then check hopefully both runN and eventN match\n",
    "    print(f\"passed file_Rereco: {fname_Rereco}\")\n"
   ]
  },
  {
   "cell_type": "code",
   "execution_count": 18,
   "id": "a6ba92d6-cc74-429d-833e-d91c2a010aeb",
   "metadata": {},
   "outputs": [
    {
     "name": "stdout",
     "output_type": "stream",
     "text": [
      "eventNfilter: [False, False, False, False, False, ..., False, False, False, False, False]\n",
      "[[110, 92.2, 48.2, 16.9]]\n",
      "[157829, 157290, 157587, 157358, ..., 1051913720, 1051913357, 1051913618]\n"
     ]
    }
   ],
   "source": [
    "qualified_file = \"/eos/purdue/store/mc/RunIIAutumn18NanoAODv6/DYJetsToLL_M-105To160_VBFFilter_TuneCP5_PSweights_13TeV-amcatnloFXFX-pythia8/NANOAODSIM/Nano25Oct2019_VBFPostMGFilter_102X_upgrade2018_realistic_v20_ext1-v1/60000/9ED1BFDA-0278-944F-8AB4-92A2B6ED7037.root\"\n",
    "file_Rereco = uproot.open(qualified_file)\n",
    "eventNfilter = file_Rereco['Events']['event'].array() == eventN\n",
    "print(f\"eventNfilter: {eventNfilter}\")\n",
    "print(file_Rereco['Events']['GenJet_pt'].array()[eventNfilter])\n",
    "print(file_Rereco['Events']['event'].array())"
   ]
  },
  {
   "cell_type": "code",
   "execution_count": 6,
   "id": "416b24b4-aa04-42c7-a912-3764778c65e6",
   "metadata": {},
   "outputs": [
    {
     "name": "stdout",
     "output_type": "stream",
     "text": [
      "[[21, 21, 22, 44, 44, 44, 44, 62, 23, 23, ..., 71, 71, 2, 2, 1, 1, 1, 1, 1, 1]]\n",
      "[4476096, 4476107, 4476132, 4476161, ..., 14214143, 14214156, 14214171]\n"
     ]
    }
   ],
   "source": [
    "eventNfilter = file_UL['Events']['event'].array() == eventN\n",
    "# print(f\"eventNfilter: {eventNfilter}\")\n",
    "# print(file_UL['Events']['GenJet_pt'].array()[eventNfilter])\n",
    "print(file_UL['Events']['GenPart_pdgId'].array()[eventNfilter])\n",
    "print(file_UL['Events']['event'].array())"
   ]
  },
  {
   "cell_type": "code",
   "execution_count": 9,
   "id": "33f5aeac-cb85-4186-9ca3-9d5a94d27a3f",
   "metadata": {},
   "outputs": [
    {
     "name": "stdout",
     "output_type": "stream",
     "text": [
      "eventN: 4476096\n",
      "passed file_Rereco: /eos/purdue/store/mc/RunIIAutumn18NanoAODv6/DYJetsToLL_M-105To160_VBFFilter_TuneCP5_PSweights_13TeV-amcatnloFXFX-pythia8/NANOAODSIM/Nano25Oct2019_VBFPostMGFilter_102X_upgrade2018_realistic_v20_ext1-v1/60000/9ED1BFDA-0278-944F-8AB4-92A2B6ED7037.root\n",
      "Rereco gjet_pts: [[62, 45.4, 44.6, 13.4, 10.8, 10.5]]\n",
      "UL gjet_pts: [[62, 45.4, 44.6, 13.4, 10.8, 10.5, 8.57, ..., 3.27, 3.19, 3.07, 3.01, 3.01, 3]]\n",
      "--------------------------------------------------------------\n",
      "Rereco gjet_etas: [[2.17, 3.2, 2.89, -4.71, -0.631, 1.4]]\n",
      "UL gjet_etas: [[2.17, 3.2, 2.89, -4.71, -0.631, ..., -2.48, 0.399, -2.57, -2.62, -0.0526]]\n",
      "--------------------------------------------------------------\n",
      "Rereco gpart_pts: [[0, 0, 40.6, 40.6, 41, 39.9, ..., 2.3, 0.93, 0.0662, 0.0955, 0.0299, 0.0127]]\n",
      "UL gpart_pts: [[0, 0, 40.6, 40.6, 41, 39.9, ..., 2.3, 0.93, 0.0662, 0.0955, 0.0299, 0.0127]]\n",
      "--------------------------------------------------------------\n",
      "Rereco gpart_etas: [[2.39e+04, -2.28e+04, 3.7, 2.84, 3.68, ..., -1.78, -3.7, -3.68, -3.04, -3.21]]\n",
      "UL gpart_etas: [[2.39e+04, -2.28e+04, 3.7, 2.84, 3.68, ..., -1.78, -3.7, -3.68, -3.04, -3.21]]\n",
      "--------------------------------------------------------------\n",
      "Rereco gpart_ids: [[2, 21, 23, 2, 23, 23, 23, 23, 23, ..., 3, -1, 411, -421, 11, -11, 11, -11]]\n",
      "UL gpart_ids: [[2, 21, 23, 2, 23, 23, 23, 23, 23, ..., 3, -1, 411, -421, 11, -11, 11, -11]]\n",
      "--------------------------------------------------------------\n",
      "Rereco gpart_mass: [[0, 0, 112, 0, 112, 112, 112, 112, 112, 0, ..., 0, 0, 0, 0, 0, 0, 0, 0, 0, 0]]\n",
      "UL gpart_mass: [[0, 0, 112, 0, 112, 112, 112, 112, 112, 0, ..., 2.01, 0, 0, 0, 0, 0, 0, 0, 0]]\n",
      "eventN: 4476107\n",
      "passed file_Rereco: /eos/purdue/store/mc/RunIIAutumn18NanoAODv6/DYJetsToLL_M-105To160_VBFFilter_TuneCP5_PSweights_13TeV-amcatnloFXFX-pythia8/NANOAODSIM/Nano25Oct2019_VBFPostMGFilter_102X_upgrade2018_realistic_v20_ext1-v1/60000/9ED1BFDA-0278-944F-8AB4-92A2B6ED7037.root\n",
      "Rereco gjet_pts: [[110, 92.2, 48.2, 16.9]]\n",
      "UL gjet_pts: [[110, 92.2, 48.2, 16.9, 9.88, 8.68, ..., 3.17, 3.14, 3.06, 3.05, 3.02, 3.01]]\n",
      "--------------------------------------------------------------\n",
      "Rereco gjet_etas: [[-1.29, -0.352, -0.482, 2.98]]\n",
      "UL gjet_etas: [[-1.29, -0.351, -0.482, 2.98, 0.928, ..., 0.714, 4.76, 0.589, 3.42, 1.85]]\n",
      "--------------------------------------------------------------\n",
      "Rereco gpart_pts: [[0, 0, 104, 104, 102, 100, 99, ..., 1.73, 1.37, 3.09, 1.43, 0.201, 0.0411]]\n",
      "UL gpart_pts: [[0, 0, 104, 104, 102, 100, 99, ..., 1.73, 1.37, 3.09, 1.43, 0.201, 0.0411]]\n",
      "--------------------------------------------------------------\n",
      "Rereco gpart_etas: [[2.28e+04, -2.3e+04, -0.465, -1.31, -0.435, ..., -0.328, 0.727, -1.77, -0.729]]\n",
      "UL gpart_etas: [[2.28e+04, -2.3e+04, -0.465, -1.31, -0.435, ..., -0.328, 0.727, -1.77, -0.729]]\n",
      "--------------------------------------------------------------\n",
      "Rereco gpart_ids: [[3, 21, 23, 3, 23, 23, 23, 23, -13, ..., -433, 3, 4, -2, 421, -431, 11, -11]]\n",
      "UL gpart_ids: [[3, 21, 23, 3, 23, 23, 23, 23, -13, ..., -433, 3, 4, -2, 421, -431, 11, -11]]\n",
      "--------------------------------------------------------------\n",
      "Rereco gpart_mass: [[0, 0, 106, 0, 106, 106, 106, 106, 0, 0, 0, ..., 0, 0, 0, 0, 0, 0, 0, 0, 0, 0]]\n",
      "UL gpart_mass: [[0, 0, 106, 0, 106, 106, 106, 106, 0, 0, ..., 0, 2.11, 0, 0, 0, 0, 1.97, 0, 0]]\n",
      "eventN: 4476132\n",
      "passed file_Rereco: /eos/purdue/store/mc/RunIIAutumn18NanoAODv6/DYJetsToLL_M-105To160_VBFFilter_TuneCP5_PSweights_13TeV-amcatnloFXFX-pythia8/NANOAODSIM/Nano25Oct2019_VBFPostMGFilter_102X_upgrade2018_realistic_v20_ext1-v1/60000/9ED1BFDA-0278-944F-8AB4-92A2B6ED7037.root\n",
      "Rereco gjet_pts: [[168, 115, 75.5, 44.9, 31.7]]\n",
      "UL gjet_pts: [[168, 115, 75.5, 44.9, 31.7, 9.86, ..., 3.83, 3.72, 3.57, 3.43, 3.33, 3.17]]\n",
      "--------------------------------------------------------------\n",
      "Rereco gjet_etas: [[-2.43, -0.564, 1.37, 1.15, -2.75]]\n",
      "UL gjet_etas: [[-2.43, -0.564, 1.37, 1.15, -2.75, 4.96, ..., 3.86, 4.02, -3.59, -1.63, 0.501]]\n",
      "--------------------------------------------------------------\n",
      "Rereco gpart_pts: [[0, 0, 27.1, 117, 138, 26.6, ..., 0.0508, 0.0449, 0.0544, 0.00885, 0.00925]]\n",
      "UL gpart_pts: [[0, 0, 27.1, 117, 138, 26.6, ..., 0.0508, 0.0449, 0.0544, 0.00885, 0.00925]]\n",
      "--------------------------------------------------------------\n",
      "Rereco gpart_etas: [[2.3e+04, -2.38e+04, 2.66, -0.529, -2.59, ..., 1.1, 0.777, -7.27, -6.34]]\n",
      "UL gpart_etas: [[2.3e+04, -2.38e+04, 2.66, -0.529, -2.59, ..., 1.1, 0.777, -7.27, -6.34]]\n",
      "--------------------------------------------------------------\n",
      "Rereco gpart_ids: [[3, 21, 23, 3, 21, 23, 23, 23, 23, ..., -11, 22, 11, -11, 11, -11, 11, -11]]\n",
      "UL gpart_ids: [[3, 21, 23, 3, 21, 23, 23, 23, 23, ..., -11, 22, 11, -11, 11, -11, 11, -11]]\n",
      "--------------------------------------------------------------\n",
      "Rereco gpart_mass: [[0, 0, 110, 0, 0, 110, 110, 110, 110, 0, 0, ..., 0, 0, 0, 0, 0, 0, 0, 0, 0, 0]]\n",
      "UL gpart_mass: [[0, 0, 110, 0, 0, 110, 110, 110, 110, 0, 0, ..., 0, 0, 0, 0, 0, 0, 0, 0, 0, 0]]\n",
      "eventN: 4476161\n",
      "passed file_Rereco: /eos/purdue/store/mc/RunIIAutumn18NanoAODv6/DYJetsToLL_M-105To160_VBFFilter_TuneCP5_PSweights_13TeV-amcatnloFXFX-pythia8/NANOAODSIM/Nano25Oct2019_VBFPostMGFilter_102X_upgrade2018_realistic_v20_ext1-v1/60000/9ED1BFDA-0278-944F-8AB4-92A2B6ED7037.root\n",
      "Rereco gjet_pts: [[120, 78.7, 66.3, 11.6]]\n",
      "UL gjet_pts: [[120, 78.7, 66.3, 11.6, 9.89, 5.74, 3.81, 3.72, 3.06]]\n",
      "--------------------------------------------------------------\n",
      "Rereco gjet_etas: [[-0.407, 0.279, -3.57, -3.33]]\n",
      "UL gjet_etas: [[-0.407, 0.279, -3.57, -3.33, 3.54, 0.0156, 5.87, -3.97, -0.633]]\n",
      "--------------------------------------------------------------\n",
      "Rereco gpart_pts: [[0, 0, 7.19, 79.8, 119, 70, ..., 58.9, 0.000389, 0.0803, 8.44, 37.8, 33.9]]\n",
      "UL gpart_pts: [[0, 0, 7.19, 79.8, 119, 70, ..., 58.9, 0.000389, 0.0803, 8.44, 37.8, 33.9]]\n",
      "--------------------------------------------------------------\n",
      "Rereco gpart_etas: [[2.3e+04, -2.41e+04, 3.73, 0.256, -0.385, ..., 5.44, -3.38, -3.54, -3.54]]\n",
      "UL gpart_etas: [[2.3e+04, -2.41e+04, 3.73, 0.256, -0.385, ..., 5.44, -3.38, -3.54, -3.54]]\n",
      "--------------------------------------------------------------\n",
      "Rereco gpart_ids: [[-2, 5, -13, 13, -2, 5, -13, -13, ..., -421, -511, 11, -11, 431, -4212, -4122]]\n",
      "UL gpart_ids: [[-2, 5, -13, 13, -2, 5, -13, -13, ..., -421, -511, 11, -11, 431, -4212, -4122]]\n",
      "--------------------------------------------------------------\n",
      "Rereco gpart_mass: [[0, 0, 0, 0, 0, 0, 0, 0, 0, 0, 0, 0, ..., 0, 0, 0, 0, 0, 0, 0, 0, 0, 0, 0, 0]]\n",
      "UL gpart_mass: [[0, 0, 0, 0, 0, 0, 0, 0, 0, ..., 5.33, 2.11, 0, 5.28, 0, 0, 1.97, 2.45, 2.29]]\n",
      "eventN: 14214143\n",
      "passed file_Rereco: /eos/purdue/store/mc/RunIIAutumn18NanoAODv6/DYJetsToLL_M-105To160_VBFFilter_TuneCP5_PSweights_13TeV-amcatnloFXFX-pythia8/NANOAODSIM/Nano25Oct2019_VBFPostMGFilter_102X_upgrade2018_realistic_v20_ext1-v1/60000/430C0D3E-C5D3-504F-B5A6-575EE4623B2F.root\n",
      "Rereco gjet_pts: [[57.1, 53.9]]\n",
      "UL gjet_pts: [[57.1, 53.9, 4.16, 4.13, 3.95, 3.72, 3.67, 3.21]]\n",
      "--------------------------------------------------------------\n",
      "Rereco gjet_etas: [[1.62, 2.67]]\n",
      "UL gjet_etas: [[1.62, 2.67, 5.28, -3.65, 2.96, -1.24, 4.51, -5.21]]\n",
      "--------------------------------------------------------------\n",
      "Rereco gpart_pts: [[0, 0, 0, 6.89, 7.8, 6.3, ..., 1.86, 0.736, 0.112, 0.00216, 0.0101, 0.0525]]\n",
      "UL gpart_pts: [[0, 0, 0, 6.89, 7.8, 6.3, ..., 1.86, 0.736, 0.112, 0.00216, 0.0101, 0.0525]]\n",
      "--------------------------------------------------------------\n",
      "Rereco gpart_etas: [[2.33e+04, -2.28e+04, 2.33e+04, 5, 4.88, ..., -1.53, -1.59, -0.0607, -0.11]]\n",
      "UL gpart_etas: [[2.33e+04, -2.28e+04, 2.33e+04, 5, 4.88, ..., -1.53, -1.59, -0.0607, -0.11]]\n",
      "--------------------------------------------------------------\n",
      "Rereco gpart_ids: [[2, -2, 23, 23, 23, 23, 23, 23, 23, ..., 2, -2, 2, -4, -421, 11, -11, 11, -11]]\n",
      "UL gpart_ids: [[2, -2, 23, 23, 23, 23, 23, 23, 23, ..., 2, -2, 2, -4, -421, 11, -11, 11, -11]]\n",
      "--------------------------------------------------------------\n",
      "Rereco gpart_mass: [[0, 0, 124, 124, 124, 124, 124, 124, 124, 124, ..., 0, 0, 0, 0, 0, 0, 0, 0, 0]]\n",
      "UL gpart_mass: [[0, 0, 124, 124, 124, 124, 124, 124, 124, 124, ..., 0, 0, 0, 0, 0, 0, 0, 0, 0]]\n",
      "eventN: 14214156\n",
      "passed file_Rereco: /eos/purdue/store/mc/RunIIAutumn18NanoAODv6/DYJetsToLL_M-105To160_VBFFilter_TuneCP5_PSweights_13TeV-amcatnloFXFX-pythia8/NANOAODSIM/Nano25Oct2019_VBFPostMGFilter_102X_upgrade2018_realistic_v20_ext1-v1/60000/430C0D3E-C5D3-504F-B5A6-575EE4623B2F.root\n",
      "Rereco gjet_pts: [[82.8, 73.7, 59, 54.1, 38.3, 11.4]]\n",
      "UL gjet_pts: [[82.8, 73.7, 59, 54.1, 38.3, 11.4, 7, ..., 3.95, 3.93, 3.74, 3.64, 3.53, 3.03]]\n",
      "--------------------------------------------------------------\n",
      "Rereco gjet_etas: [[2.16, 0.485, -1.53, 0.00803, 4.29, 2.95]]\n",
      "UL gjet_etas: [[2.16, 0.485, -1.53, 0.00792, 4.29, ..., -3.8, -5.64, -4.99, 0.979, 1.84]]\n",
      "--------------------------------------------------------------\n",
      "Rereco gpart_pts: [[0, 0, 19.6, 61.6, 75.5, 21.2, 4.11, ..., 8.62, 12.4, 0.269, 0.0172, 8.19, 12]]\n",
      "UL gpart_pts: [[0, 0, 19.6, 61.6, 75.5, 21.2, 4.11, ..., 8.62, 12.4, 0.269, 0.0172, 8.19, 12]]\n",
      "--------------------------------------------------------------\n",
      "Rereco gpart_etas: [[2.34e+04, -2.3e+04, 1.37, -1.55, 2.62, ..., 2.2, -5.19, -5.14, 3.01, -1.54]]\n",
      "UL gpart_etas: [[2.34e+04, -2.3e+04, 1.37, -1.55, 2.62, ..., 2.2, -5.19, -5.14, 3.01, -1.54]]\n",
      "--------------------------------------------------------------\n",
      "Rereco gpart_ids: [[21, 2, 23, 2, 21, 23, 21, 23, -13, ..., 2, 111, 1, 11, -12, 11, -11, 421, 22]]\n",
      "UL gpart_ids: [[21, 2, 23, 2, 21, 23, 21, 23, -13, ..., 2, 111, 1, 11, -12, 11, -11, 421, 22]]\n",
      "--------------------------------------------------------------\n",
      "Rereco gpart_mass: [[0, 0, 126, 0, 0, 126, 0, 126, 0, 0, 0, ..., 0, 0, 0, 0, 0, 0, 0, 0, 0, 0, 0]]\n",
      "UL gpart_mass: [[0, 0, 126, 0, 0, 126, 0, 126, 0, 0, 0, ..., 2.01, 0, 0, 0, 0, 0, 0, 0, 0, 0]]\n",
      "eventN: 14214171\n",
      "passed file_Rereco: /eos/purdue/store/mc/RunIIAutumn18NanoAODv6/DYJetsToLL_M-105To160_VBFFilter_TuneCP5_PSweights_13TeV-amcatnloFXFX-pythia8/NANOAODSIM/Nano25Oct2019_VBFPostMGFilter_102X_upgrade2018_realistic_v20_ext1-v1/60000/430C0D3E-C5D3-504F-B5A6-575EE4623B2F.root\n",
      "Rereco gjet_pts: [[62, 60.8, 14.4, 13.3, 11.6, 11.2]]\n",
      "UL gjet_pts: [[62, 60.7, 14.4, 13.3, 11.6, 11.2, ..., 3.22, 3.21, 3.14, 3.14, 3.11, 3.08]]\n",
      "--------------------------------------------------------------\n",
      "Rereco gjet_etas: [[-0.0581, 0.613, 3.02, -5.09, 0.969, 3.04]]\n",
      "UL gjet_etas: [[-0.0581, 0.613, 3.02, -5.09, 0.969, 3.04, ..., 4.54, 4.47, -1.51, 5.12, 2.55]]\n",
      "--------------------------------------------------------------\n",
      "Rereco gpart_pts: [[0, 0, 0, 13.3, 8.25, 6.09, ..., 0.0239, 0.0477, 0.0251, 0.0264, 0.195, 0.902]]\n",
      "UL gpart_pts: [[0, 0, 0, 13.3, 8.25, 6.09, ..., 0.0239, 0.0477, 0.0251, 0.0264, 0.195, 0.902]]\n",
      "--------------------------------------------------------------\n",
      "Rereco gpart_etas: [[2.28e+04, -2.28e+04, 2.28e+04, 1.56, 2.11, ..., -1.28, -1.61, -1.77, -1.31]]\n",
      "UL gpart_etas: [[2.28e+04, -2.28e+04, 2.28e+04, 1.56, 2.11, ..., -1.28, -1.61, -1.77, -1.31]]\n",
      "--------------------------------------------------------------\n",
      "Rereco gpart_ids: [[1, -1, 23, 23, 23, 23, 23, 23, ..., -421, 431, 11, -11, 11, -11, -13, 14]]\n",
      "UL gpart_ids: [[1, -1, 23, 23, 23, 23, 23, 23, ..., -421, 431, 11, -11, 11, -11, -13, 14]]\n",
      "--------------------------------------------------------------\n",
      "Rereco gpart_mass: [[0, 0, 121, 121, 121, 121, 121, 121, 0, 0, ..., 0, 0, 0, 0, 0, 0, 0, 0, 0, 0]]\n",
      "UL gpart_mass: [[0, 0, 121, 121, 121, 121, 121, 121, 0, 0, ..., 0, 0, 1.97, 0, 0, 0, 0, 0, 0]]\n"
     ]
    }
   ],
   "source": [
    "import uproot\n",
    "import glob\n",
    "import numpy as np\n",
    "\n",
    "eventNs = [4476096, 4476107, 4476132, 4476161, 14214143, 14214156, 14214171]\n",
    "runN = 1 \n",
    "\n",
    "load_path_UL =  \"/eos/purdue/store/user/vscheure/DYJetsToLL_M-105To160_VBFFilter_TuneCP5_PSweights_13TeV-amcatnloFXFX-pythia8/UL18_Nano/240514_124107/0000/HIG-RunIIFall18wmNanoAODv9-00020_38.root \"\n",
    "file_UL = uproot.open(load_path_UL)\n",
    "\n",
    "load_path_Rereco = \"/eos/purdue/store/mc/RunIIAutumn18NanoAODv6/DYJetsToLL_M-105To160_VBFFilter_TuneCP5_PSweights_13TeV-amcatnloFXFX-pythia8/NANOAODSIM\"\n",
    "fnames_Rereco = glob.glob(f\"{load_path_Rereco}/*/*/*.root\")\n",
    "# print(fnames_Rereco)\n",
    "for eventN in eventNs:\n",
    "    print(f\"eventN: {eventN}\")\n",
    "    for fname_Rereco in fnames_Rereco:\n",
    "        file_Rereco = uproot.open(fname_Rereco)\n",
    "        runN_arr = file_Rereco['Events']['run'].array()\n",
    "        # print(f\"runN_arr: {runN_arr}\")\n",
    "        runN_filter = runN_arr== runN\n",
    "        if not np.any(runN_filter):\n",
    "            print(\"wrong runN!\")\n",
    "            continue\n",
    "        eventN_arr = file_Rereco['Events']['event'].array()\n",
    "        # print(f\"eventN_filter: {eventN_arr}\")\n",
    "        eventN_filter = eventN_arr== eventN\n",
    "        # print(f\"eventN_arr: {eventN_arr}\")\n",
    "        # print(f\"eventN_filter: {eventN_filter}\")\n",
    "        if not np.any(eventN_filter):\n",
    "            # print(\"wrong eventN!\")\n",
    "            continue\n",
    "    \n",
    "        merged_filter = runN_filter & eventN_filter\n",
    "        if not np.any(merged_filter):\n",
    "            # print(\"wrong combnination!\")\n",
    "            continue\n",
    "        \n",
    "        # if arrived here, then check hopefully both runN and eventN match\n",
    "        print(f\"passed file_Rereco: {fname_Rereco}\")\n",
    "        qualified_file = fname_Rereco\n",
    "        file_Rereco = uproot.open(qualified_file)\n",
    "        eventNfilter_Rereco = file_Rereco['Events']['event'].array() == eventN\n",
    "        eventNfilter_UL = file_UL['Events']['event'].array() == eventN\n",
    "        # genjet pt\n",
    "        gjet_pts = file_Rereco['Events']['GenJet_pt'].array()[eventNfilter_Rereco]\n",
    "        print(f\"Rereco gjet_pts: {gjet_pts}\")\n",
    "        \n",
    "        gjet_pts = file_UL['Events']['GenJet_pt'].array()[eventNfilter_UL]\n",
    "        print(f\"UL gjet_pts: {gjet_pts}\")\n",
    "        print(\"--------------------------------------------------------------\")\n",
    "        # genjet eta\n",
    "        gjet_etas = file_Rereco['Events']['GenJet_eta'].array()[eventNfilter_Rereco]\n",
    "        print(f\"Rereco gjet_etas: {gjet_etas}\")\n",
    "        \n",
    "        gjet_etas = file_UL['Events']['GenJet_eta'].array()[eventNfilter_UL]\n",
    "        print(f\"UL gjet_etas: {gjet_etas}\")\n",
    "        print(\"--------------------------------------------------------------\")\n",
    "        # genpart pt\n",
    "        gpart_pts = file_Rereco['Events']['GenPart_pt'].array()[eventNfilter_Rereco]\n",
    "        print(f\"Rereco gpart_pts: {gpart_pts}\")\n",
    "        \n",
    "        gpart_pts = file_UL['Events']['GenPart_pt'].array()[eventNfilter_UL]\n",
    "        print(f\"UL gpart_pts: {gpart_pts}\")\n",
    "        print(\"--------------------------------------------------------------\")\n",
    "        # genpart eta\n",
    "        gpart_etas = file_Rereco['Events']['GenPart_eta'].array()[eventNfilter_Rereco]\n",
    "        print(f\"Rereco gpart_etas: {gpart_etas}\")\n",
    "        \n",
    "        gpart_etas = file_UL['Events']['GenPart_eta'].array()[eventNfilter_UL]\n",
    "        print(f\"UL gpart_etas: {gpart_etas}\")\n",
    "        print(\"--------------------------------------------------------------\")\n",
    "        # genpart pdgId\n",
    "        gpart_ids = file_Rereco['Events']['GenPart_pdgId'].array()[eventNfilter_Rereco]\n",
    "        print(f\"Rereco gpart_ids: {gpart_ids}\")\n",
    "        \n",
    "        gpart_ids = file_UL['Events']['GenPart_pdgId'].array()[eventNfilter_UL]\n",
    "        print(f\"UL gpart_ids: {gpart_ids}\")\n",
    "        print(\"--------------------------------------------------------------\")\n",
    "        # genpart mass\n",
    "        gpart_mass = file_Rereco['Events']['GenPart_mass'].array()[eventNfilter_Rereco]\n",
    "        print(f\"Rereco gpart_mass: {gpart_mass}\")\n",
    "        \n",
    "        gpart_mass = file_UL['Events']['GenPart_mass'].array()[eventNfilter_UL]\n",
    "        print(f\"UL gpart_mass: {gpart_mass}\")\n"
   ]
  },
  {
   "cell_type": "code",
   "execution_count": null,
   "id": "24b762c0-9891-4c9f-b698-7d834d369505",
   "metadata": {},
   "outputs": [],
   "source": []
  }
 ],
 "metadata": {
  "kernelspec": {
   "display_name": "Python [conda env:coffea2024]",
   "language": "python",
   "name": "conda-env-coffea2024-py"
  },
  "language_info": {
   "codemirror_mode": {
    "name": "ipython",
    "version": 3
   },
   "file_extension": ".py",
   "mimetype": "text/x-python",
   "name": "python",
   "nbconvert_exporter": "python",
   "pygments_lexer": "ipython3",
   "version": "3.10.13"
  }
 },
 "nbformat": 4,
 "nbformat_minor": 5
}
