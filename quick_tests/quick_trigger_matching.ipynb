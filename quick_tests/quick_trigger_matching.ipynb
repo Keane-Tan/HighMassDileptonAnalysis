{
 "cells": [
  {
   "cell_type": "code",
   "execution_count": 2,
   "id": "35181aef-942c-4969-8e3a-51679a33a704",
   "metadata": {},
   "outputs": [],
   "source": [
    "import awkward as ak\n",
    "from coffea.nanoevents import NanoEventsFactory, NanoAODSchema\n",
    "import awkward as ak\n",
    "import matplotlib.pyplot as plt\n",
    "import numpy as np\n",
    "\n",
    "NanoAODSchema.warn_missing_crossrefs = False"
   ]
  },
  {
   "cell_type": "code",
   "execution_count": 1,
   "id": "7332e83f-ddd9-4550-a0d8-8f054b503d26",
   "metadata": {},
   "outputs": [
    {
     "ename": "NameError",
     "evalue": "name 'NanoEventsFactory' is not defined",
     "output_type": "error",
     "traceback": [
      "\u001b[0;31m---------------------------------------------------------------------------\u001b[0m",
      "\u001b[0;31mNameError\u001b[0m                                 Traceback (most recent call last)",
      "Cell \u001b[0;32mIn[1], line 4\u001b[0m\n\u001b[1;32m      1\u001b[0m fname \u001b[38;5;241m=\u001b[39m \u001b[38;5;124m\"\u001b[39m\u001b[38;5;124mroot://eos.cms.rcac.purdue.edu//store/mc/RunIISummer20UL18NanoAODv9/GluGluHToMuMu_M125_TuneCP5_13TeV-powheg-pythia8/NANOAODSIM/106X_upgrade2018_realistic_v16_L1v1-v1/2810000/C4DAB63C-E2A1-A541-93A8-3F46315E362C.root\u001b[39m\u001b[38;5;124m\"\u001b[39m\n\u001b[1;32m      2\u001b[0m \u001b[38;5;66;03m# fname = \"root://eos.cms.rcac.purdue.edu//store/mc/RunIISummer20UL18NanoAODv9/DYJetsToLL_M-50_TuneCP5_13TeV-amcatnloFXFX-pythia8/NANOAODSIM/106X_upgrade2018_realistic_v16_L1v1-v2/40000/ECB51118-0153-2F40-BB6D-0204F0EE98C2.root\"\u001b[39;00m\n\u001b[0;32m----> 4\u001b[0m events \u001b[38;5;241m=\u001b[39m \u001b[43mNanoEventsFactory\u001b[49m\u001b[38;5;241m.\u001b[39mfrom_root(\n\u001b[1;32m      5\u001b[0m     {fname: \u001b[38;5;124m\"\u001b[39m\u001b[38;5;124mEvents\u001b[39m\u001b[38;5;124m\"\u001b[39m},\n\u001b[1;32m      6\u001b[0m     schemaclass\u001b[38;5;241m=\u001b[39mNanoAODSchema,\n\u001b[1;32m      7\u001b[0m     metadata\u001b[38;5;241m=\u001b[39m{\u001b[38;5;124m\"\u001b[39m\u001b[38;5;124mdataset\u001b[39m\u001b[38;5;124m\"\u001b[39m: \u001b[38;5;124m\"\u001b[39m\u001b[38;5;124mDYJets\u001b[39m\u001b[38;5;124m\"\u001b[39m},\n\u001b[1;32m      8\u001b[0m )\u001b[38;5;241m.\u001b[39mevents()\n\u001b[1;32m     11\u001b[0m \u001b[38;5;66;03m# events = NanoEventsFactory.from_root(\u001b[39;00m\n\u001b[1;32m     12\u001b[0m \u001b[38;5;66;03m#     {fname : \"Events\"},\u001b[39;00m\n\u001b[1;32m     13\u001b[0m \u001b[38;5;66;03m#     schemaclass=NanoAODSchema,\u001b[39;00m\n\u001b[0;32m   (...)\u001b[0m\n\u001b[1;32m     34\u001b[0m \u001b[38;5;66;03m# plt.show()\u001b[39;00m\n\u001b[1;32m     35\u001b[0m \u001b[38;5;66;03m# plt.savefig(\"ggH_turnOn.png\")\u001b[39;00m\n",
      "\u001b[0;31mNameError\u001b[0m: name 'NanoEventsFactory' is not defined"
     ]
    }
   ],
   "source": [
    "fname = \"root://eos.cms.rcac.purdue.edu//store/mc/RunIISummer20UL18NanoAODv9/GluGluHToMuMu_M125_TuneCP5_13TeV-powheg-pythia8/NANOAODSIM/106X_upgrade2018_realistic_v16_L1v1-v1/2810000/C4DAB63C-E2A1-A541-93A8-3F46315E362C.root\"\n",
    "# fname = \"root://eos.cms.rcac.purdue.edu//store/mc/RunIISummer20UL18NanoAODv9/DYJetsToLL_M-50_TuneCP5_13TeV-amcatnloFXFX-pythia8/NANOAODSIM/106X_upgrade2018_realistic_v16_L1v1-v2/40000/ECB51118-0153-2F40-BB6D-0204F0EE98C2.root\"\n",
    "\n",
    "events = NanoEventsFactory.from_root(\n",
    "    {fname: \"Events\"},\n",
    "    schemaclass=NanoAODSchema,\n",
    "    metadata={\"dataset\": \"DYJets\"},\n",
    ").events()\n",
    "\n",
    "\n",
    "# events = NanoEventsFactory.from_root(\n",
    "#     {fname : \"Events\"},\n",
    "#     schemaclass=NanoAODSchema,\n",
    "#     metadata={\"dataset\": \"DYJets\"},\n",
    "#     delayed=False,\n",
    "# ).events()\n",
    "\n",
    "\n",
    "# filtered_events =  events.Muon.pt[events.HLT.IsoMu24]\n",
    "# leading_muPt = ak.to_numpy(\n",
    "#     ak.flatten(filtered_events[:,:1]).compute()\n",
    "# )\n",
    "# nonFiltered_leading_muPt = ak.to_numpy(ak.flatten(events.Muon.pt[:,:1]).compute())\n",
    "# xmax= 80\n",
    "# plt.xlim([5, xmax])\n",
    "# plt.hist(leading_muPt, bins=np.linspace(5, xmax, 100),histtype=u'step', label=\"HLT\")\n",
    "# plt.hist(nonFiltered_leading_muPt, bins=np.linspace(5, xmax, 100),histtype=u'step', label=\"pre-HLT\")\n",
    "# plt.axvline(x=24, color='red', ls='--')\n",
    "# plt.axvline(x=26, color='teal', ls='--')\n",
    "# plt.xlabel(\"Leading Muon pT\")\n",
    "# plt.title(\"ggH powheg histogram\")\n",
    "\n",
    "# plt.legend(loc='best')\n",
    "# plt.show()\n",
    "# plt.savefig(\"ggH_turnOn.png\")"
   ]
  },
  {
   "cell_type": "code",
   "execution_count": 10,
   "id": "4cf8c26c-b608-41d6-b661-cf1e8fa53518",
   "metadata": {},
   "outputs": [
    {
     "name": "stdout",
     "output_type": "stream",
     "text": [
      "999000\n"
     ]
    },
    {
     "data": {
      "text/plain": [
       "array(999000)"
      ]
     },
     "execution_count": 10,
     "metadata": {},
     "output_type": "execute_result"
    }
   ],
   "source": [
    "IsoMu24_arr = events.HLT.IsoMu24.compute()\n",
    "print(len(IsoMu24_arr))\n",
    "ak.num(IsoMu24_arr, axis=0)"
   ]
  },
  {
   "cell_type": "code",
   "execution_count": 13,
   "id": "5ae56778-f88d-4c22-8540-150b4404273d",
   "metadata": {},
   "outputs": [
    {
     "name": "stdout",
     "output_type": "stream",
     "text": [
      "trigger threshold 23 evnt_mismatchrate rate: 0.006471471471471472\n",
      "trigger threshold 23.5 evnt_mismatchrate rate: 0.004608608608608609\n",
      "trigger threshold 23.8 evnt_mismatchrate rate: 0.0034394394394394396\n",
      "trigger threshold 24 evnt_mismatchrate rate: 0.0026206206206206206\n",
      "trigger threshold 24.2 evnt_mismatchrate rate: 0.0033503503503503505\n",
      "trigger threshold 24.5 evnt_mismatchrate rate: 0.004508508508508508\n",
      "total HLT events: 999000\n"
     ]
    }
   ],
   "source": [
    "IsoMu24_arr = events.HLT.IsoMu24\n",
    "isoMu_filterbit = 2\n",
    "mu_id = 13\n",
    "thresholds = [23,23.5,23.8,24,24.2,24.5]\n",
    "total_events = ak.num(IsoMu24_arr, axis=0)\n",
    "for threshold in thresholds:\n",
    "    IsoMu24_muons = (events.TrigObj.id == mu_id) &  \\\n",
    "        ((events.TrigObj.filterBits & isoMu_filterbit) == isoMu_filterbit) & \\\n",
    "        (events.TrigObj.pt > threshold) # considering wildcard scenrios where exact 24 pt cut ain't doing it\n",
    "    isohlt_overall = ak.sum(IsoMu24_muons, axis=1) > 0\n",
    "    evnt_mismatchrate = ak.sum(isohlt_overall != IsoMu24_arr) / total_events\n",
    "    print(f\"trigger threshold {threshold} evnt_mismatchrate rate: {evnt_mismatchrate.compute()}\")\n",
    "\n",
    "print(f\"total HLT events: {total_events.compute()}\")"
   ]
  },
  {
   "cell_type": "code",
   "execution_count": 34,
   "id": "82cfb642-e354-4cec-94d0-cefa5e29f15c",
   "metadata": {},
   "outputs": [],
   "source": [
    "isoMu_filterbit = 2\n",
    "mu_id = 13\n",
    "threshold =24 # 24 pT cut\n",
    "IsoMu24_muons = (events.TrigObj.id == mu_id) &  \\\n",
    "        ((events.TrigObj.filterBits & isoMu_filterbit) == isoMu_filterbit) & \\\n",
    "        (events.TrigObj.pt > threshold)\n",
    "#check the first two leading muons match any of the HLT trigger objs. if neither match, reject event\n",
    "muons = ak.pad_none(events.Muon, 2)\n",
    "mu1 = muons[:,0]\n",
    "mu2 = muons[:,1]\n",
    "d_r1 = mu1.delta_r(events.TrigObj[IsoMu24_muons]) < 0.1\n",
    "d_r1 = ak.sum(d_r1, axis=1)\n",
    "d_r1 = ak.fill_none(d_r1, value=False)\n",
    "d_r2 = mu2.delta_r(events.TrigObj[IsoMu24_muons]) < 0.1\n",
    "d_r2 =  ak.sum(d_r2, axis=1)\n",
    "d_r2 = ak.fill_none(d_r2, value=False)\n",
    "\n",
    "trigger_match = d_r1 | d_r2"
   ]
  },
  {
   "cell_type": "code",
   "execution_count": 38,
   "id": "1f13097d-a96c-4407-b8ec-78c4ece60db5",
   "metadata": {},
   "outputs": [
    {
     "data": {
      "text/html": [
       "<pre>[[49.8, None],\n",
       " [63.7, 56.7],\n",
       " [82.6, 42],\n",
       " [53.2, None],\n",
       " [29.6, None],\n",
       " [30.2, None],\n",
       " [63.8, 52.9],\n",
       " [86.8, None],\n",
       " [52.2, 45.6],\n",
       " [77.2, None],\n",
       " ...,\n",
       " [47, 38, 4.07],\n",
       " [41.1, 20.6],\n",
       " [94.4, 37.7, 3.6],\n",
       " [41.7, None],\n",
       " [62.6, 53.8],\n",
       " [38.3, None],\n",
       " [51.7, 31.7],\n",
       " [337, 30.6, 27.3],\n",
       " [33.6, None]]\n",
       "-----------------------------------------------------------\n",
       "type: 999000 * var * ?float32[parameters={&quot;__doc__&quot;: &quot;pt&quot;}]</pre>"
      ],
      "text/plain": [
       "<Array [[49.8, None], [...], ..., [33.6, None]] type='999000 * var * ?float...'>"
      ]
     },
     "execution_count": 38,
     "metadata": {},
     "output_type": "execute_result"
    }
   ],
   "source": [
    "# d_r1.compute()\n",
    "# d_r2.compute()\n",
    "muons.pt.compute()"
   ]
  },
  {
   "cell_type": "code",
   "execution_count": 36,
   "id": "23e4e1dd-35d3-4c6d-92bf-62ca2aca8e83",
   "metadata": {},
   "outputs": [
    {
     "data": {
      "text/html": [
       "<pre>[1,\n",
       " 1,\n",
       " 1,\n",
       " 1,\n",
       " 1,\n",
       " 1,\n",
       " 1,\n",
       " 1,\n",
       " 1,\n",
       " 1,\n",
       " ...,\n",
       " 1,\n",
       " 1,\n",
       " 1,\n",
       " 1,\n",
       " 1,\n",
       " 1,\n",
       " 1,\n",
       " 1,\n",
       " 1]\n",
       "--------------------\n",
       "type: 999000 * int64</pre>"
      ],
      "text/plain": [
       "<Array [1, 1, 1, 1, 1, 1, 1, 1, ..., 1, 1, 1, 1, 1, 1, 1] type='999000 * int64'>"
      ]
     },
     "execution_count": 36,
     "metadata": {},
     "output_type": "execute_result"
    }
   ],
   "source": [
    "# ak.sum(d_r1, axis=1).compute()\n",
    "# ak.sum(d_r2, axis=1).compute()\n",
    "trigger_match.compute()"
   ]
  },
  {
   "cell_type": "code",
   "execution_count": 28,
   "id": "26db9458-b28a-4b18-8c8b-70275dceb498",
   "metadata": {
    "scrolled": true
   },
   "outputs": [
    {
     "ename": "TypeError",
     "evalue": "ak.Record objects are not allowed in this function\n\nThis error occurred while calling\n\n    ak.to_layout(\n        <Record-typetracer {dxy: ##, dxyErr: ##, ...} type='Muon[dxy: float...'>\n        allow_record = False\n        regulararray = False\n        primitive_policy = 'error'\n    )",
     "output_type": "error",
     "traceback": [
      "\u001b[0;31m---------------------------------------------------------------------------\u001b[0m",
      "\u001b[0;31mTypeError\u001b[0m                                 Traceback (most recent call last)",
      "File \u001b[0;32m/depot/cms/kernels/coffea2024/lib/python3.10/site-packages/awkward/_dispatch.py:62\u001b[0m, in \u001b[0;36mnamed_high_level_function.<locals>.dispatch\u001b[0;34m(*args, **kwargs)\u001b[0m\n\u001b[1;32m     61\u001b[0m \u001b[38;5;28;01mtry\u001b[39;00m:\n\u001b[0;32m---> 62\u001b[0m     \u001b[38;5;28;43mnext\u001b[39;49m\u001b[43m(\u001b[49m\u001b[43mgen_or_result\u001b[49m\u001b[43m)\u001b[49m\n\u001b[1;32m     63\u001b[0m \u001b[38;5;28;01mexcept\u001b[39;00m \u001b[38;5;167;01mStopIteration\u001b[39;00m \u001b[38;5;28;01mas\u001b[39;00m err:\n",
      "File \u001b[0;32m/depot/cms/kernels/coffea2024/lib/python3.10/site-packages/awkward/operations/ak_to_layout.py:80\u001b[0m, in \u001b[0;36mto_layout\u001b[0;34m(array, allow_record, allow_unknown, none_policy, use_from_iter, primitive_policy, string_policy, regulararray)\u001b[0m\n\u001b[1;32m     79\u001b[0m \u001b[38;5;66;03m# Implementation\u001b[39;00m\n\u001b[0;32m---> 80\u001b[0m \u001b[38;5;28;01mreturn\u001b[39;00m \u001b[43m_impl\u001b[49m\u001b[43m(\u001b[49m\n\u001b[1;32m     81\u001b[0m \u001b[43m    \u001b[49m\u001b[43marray\u001b[49m\u001b[43m,\u001b[49m\n\u001b[1;32m     82\u001b[0m \u001b[43m    \u001b[49m\u001b[43mallow_record\u001b[49m\u001b[43m,\u001b[49m\n\u001b[1;32m     83\u001b[0m \u001b[43m    \u001b[49m\u001b[43mallow_unknown\u001b[49m\u001b[43m,\u001b[49m\n\u001b[1;32m     84\u001b[0m \u001b[43m    \u001b[49m\u001b[43mnone_policy\u001b[49m\u001b[43m,\u001b[49m\n\u001b[1;32m     85\u001b[0m \u001b[43m    \u001b[49m\u001b[43mregulararray\u001b[49m\u001b[43m,\u001b[49m\n\u001b[1;32m     86\u001b[0m \u001b[43m    \u001b[49m\u001b[43muse_from_iter\u001b[49m\u001b[43m,\u001b[49m\n\u001b[1;32m     87\u001b[0m \u001b[43m    \u001b[49m\u001b[43mprimitive_policy\u001b[49m\u001b[43m,\u001b[49m\n\u001b[1;32m     88\u001b[0m \u001b[43m    \u001b[49m\u001b[43mstring_policy\u001b[49m\u001b[43m,\u001b[49m\n\u001b[1;32m     89\u001b[0m \u001b[43m\u001b[49m\u001b[43m)\u001b[49m\n",
      "File \u001b[0;32m/depot/cms/kernels/coffea2024/lib/python3.10/site-packages/awkward/operations/ak_to_layout.py:162\u001b[0m, in \u001b[0;36m_impl\u001b[0;34m(obj, allow_record, allow_unknown, none_policy, regulararray, use_from_iter, primitive_policy, string_policy)\u001b[0m\n\u001b[1;32m    161\u001b[0m \u001b[38;5;28;01mif\u001b[39;00m \u001b[38;5;129;01mnot\u001b[39;00m allow_record:\n\u001b[0;32m--> 162\u001b[0m     \u001b[38;5;28;01mraise\u001b[39;00m \u001b[38;5;167;01mTypeError\u001b[39;00m(\u001b[38;5;124m\"\u001b[39m\u001b[38;5;124mak.Record objects are not allowed in this function\u001b[39m\u001b[38;5;124m\"\u001b[39m)\n\u001b[1;32m    163\u001b[0m \u001b[38;5;28;01melse\u001b[39;00m:\n",
      "\u001b[0;31mTypeError\u001b[0m: ak.Record objects are not allowed in this function",
      "\nThe above exception was the direct cause of the following exception:\n",
      "\u001b[0;31mTypeError\u001b[0m                                 Traceback (most recent call last)",
      "Cell \u001b[0;32mIn[28], line 3\u001b[0m\n\u001b[1;32m      1\u001b[0m \u001b[38;5;66;03m# HLT_objs = events.TrigObj[IsoMu24_muons].compute()\u001b[39;00m\n\u001b[1;32m      2\u001b[0m \u001b[38;5;66;03m# ak.num(HLT_objs, axis=1)\u001b[39;00m\n\u001b[0;32m----> 3\u001b[0m \u001b[43mmu1\u001b[49m\u001b[43m[\u001b[49m\u001b[38;5;241;43m1\u001b[39;49m\u001b[43m]\u001b[49m\u001b[38;5;241m.\u001b[39mdelta_r(HLT_objs[\u001b[38;5;241m1\u001b[39m])\u001b[38;5;241m.\u001b[39mcompute()\n",
      "File \u001b[0;32m/depot/cms/kernels/coffea2024/lib/python3.10/site-packages/dask_awkward/lib/core.py:1500\u001b[0m, in \u001b[0;36mArray.__getitem__\u001b[0;34m(self, where)\u001b[0m\n\u001b[1;32m   1497\u001b[0m \u001b[38;5;28;01mif\u001b[39;00m \u001b[38;5;28misinstance\u001b[39m(where, \u001b[38;5;28mtuple\u001b[39m):\n\u001b[1;32m   1498\u001b[0m     \u001b[38;5;28;01mreturn\u001b[39;00m \u001b[38;5;28mself\u001b[39m\u001b[38;5;241m.\u001b[39m_getitem_tuple(where)\n\u001b[0;32m-> 1500\u001b[0m \u001b[38;5;28;01mreturn\u001b[39;00m \u001b[38;5;28;43mself\u001b[39;49m\u001b[38;5;241;43m.\u001b[39;49m\u001b[43m_getitem_single\u001b[49m\u001b[43m(\u001b[49m\u001b[43mwhere\u001b[49m\u001b[43m)\u001b[49m\n",
      "File \u001b[0;32m/depot/cms/kernels/coffea2024/lib/python3.10/site-packages/dask_awkward/lib/core.py:1454\u001b[0m, in \u001b[0;36mArray._getitem_single\u001b[0;34m(self, where)\u001b[0m\n\u001b[1;32m   1452\u001b[0m \u001b[38;5;66;03m# a single integer\u001b[39;00m\n\u001b[1;32m   1453\u001b[0m \u001b[38;5;28;01melif\u001b[39;00m \u001b[38;5;28misinstance\u001b[39m(where, \u001b[38;5;28mint\u001b[39m):\n\u001b[0;32m-> 1454\u001b[0m     \u001b[38;5;28;01mreturn\u001b[39;00m \u001b[38;5;28;43mself\u001b[39;49m\u001b[38;5;241;43m.\u001b[39;49m\u001b[43m_getitem_outer_int\u001b[49m\u001b[43m(\u001b[49m\u001b[43mwhere\u001b[49m\u001b[43m)\u001b[49m\n\u001b[1;32m   1456\u001b[0m \u001b[38;5;28;01melif\u001b[39;00m \u001b[38;5;28misinstance\u001b[39m(where, Array):\n\u001b[1;32m   1457\u001b[0m     layout \u001b[38;5;241m=\u001b[39m where\u001b[38;5;241m.\u001b[39mlayout\n",
      "File \u001b[0;32m/depot/cms/kernels/coffea2024/lib/python3.10/site-packages/dask_awkward/lib/core.py:1324\u001b[0m, in \u001b[0;36mArray._getitem_outer_int\u001b[0;34m(self, where)\u001b[0m\n\u001b[1;32m   1322\u001b[0m     \u001b[38;5;28;01mreturn\u001b[39;00m new_record_object(hlg, name, meta\u001b[38;5;241m=\u001b[39mnew_meta)\n\u001b[1;32m   1323\u001b[0m \u001b[38;5;28;01melse\u001b[39;00m:\n\u001b[0;32m-> 1324\u001b[0m     \u001b[38;5;28;01mreturn\u001b[39;00m \u001b[43mnew_scalar_object\u001b[49m\u001b[43m(\u001b[49m\u001b[43mhlg\u001b[49m\u001b[43m,\u001b[49m\u001b[43m \u001b[49m\u001b[43mname\u001b[49m\u001b[43m,\u001b[49m\u001b[43m \u001b[49m\u001b[43mmeta\u001b[49m\u001b[38;5;241;43m=\u001b[39;49m\u001b[43mnew_meta\u001b[49m\u001b[43m)\u001b[49m\n",
      "File \u001b[0;32m/depot/cms/kernels/coffea2024/lib/python3.10/site-packages/dask_awkward/lib/core.py:621\u001b[0m, in \u001b[0;36mnew_scalar_object\u001b[0;34m(dsk, name, meta, dtype)\u001b[0m\n\u001b[1;32m    618\u001b[0m     \u001b[38;5;167;01mValueError\u001b[39;00m(\u001b[38;5;124m\"\u001b[39m\u001b[38;5;124mOne (and only one) of dtype or meta can be defined.\u001b[39m\u001b[38;5;124m\"\u001b[39m)\n\u001b[1;32m    620\u001b[0m \u001b[38;5;28;01mif\u001b[39;00m \u001b[38;5;28misinstance\u001b[39m(meta, MaybeNone):\n\u001b[0;32m--> 621\u001b[0m     meta \u001b[38;5;241m=\u001b[39m \u001b[43mak\u001b[49m\u001b[38;5;241;43m.\u001b[39;49m\u001b[43mArray\u001b[49m\u001b[43m(\u001b[49m\u001b[43mmeta\u001b[49m\u001b[38;5;241;43m.\u001b[39;49m\u001b[43mcontent\u001b[49m\u001b[43m)\u001b[49m\n\u001b[1;32m    622\u001b[0m \u001b[38;5;28;01melif\u001b[39;00m meta \u001b[38;5;129;01mis\u001b[39;00m \u001b[38;5;129;01mnot\u001b[39;00m \u001b[38;5;28;01mNone\u001b[39;00m:\n\u001b[1;32m    623\u001b[0m     \u001b[38;5;28;01mtry\u001b[39;00m:\n",
      "File \u001b[0;32m/depot/cms/kernels/coffea2024/lib/python3.10/site-packages/awkward/highlevel.py:310\u001b[0m, in \u001b[0;36mArray.__init__\u001b[0;34m(self, data, behavior, with_name, check_valid, backend, attrs)\u001b[0m\n\u001b[1;32m    307\u001b[0m     layout \u001b[38;5;241m=\u001b[39m ak\u001b[38;5;241m.\u001b[39moperations\u001b[38;5;241m.\u001b[39mfrom_json(data, highlevel\u001b[38;5;241m=\u001b[39m\u001b[38;5;28;01mFalse\u001b[39;00m)\n\u001b[1;32m    309\u001b[0m \u001b[38;5;28;01melse\u001b[39;00m:\n\u001b[0;32m--> 310\u001b[0m     layout \u001b[38;5;241m=\u001b[39m \u001b[43mak\u001b[49m\u001b[38;5;241;43m.\u001b[39;49m\u001b[43moperations\u001b[49m\u001b[38;5;241;43m.\u001b[39;49m\u001b[43mto_layout\u001b[49m\u001b[43m(\u001b[49m\n\u001b[1;32m    311\u001b[0m \u001b[43m        \u001b[49m\u001b[43mdata\u001b[49m\u001b[43m,\u001b[49m\u001b[43m \u001b[49m\u001b[43mallow_record\u001b[49m\u001b[38;5;241;43m=\u001b[39;49m\u001b[38;5;28;43;01mFalse\u001b[39;49;00m\u001b[43m,\u001b[49m\u001b[43m \u001b[49m\u001b[43mregulararray\u001b[49m\u001b[38;5;241;43m=\u001b[39;49m\u001b[38;5;28;43;01mFalse\u001b[39;49;00m\u001b[43m,\u001b[49m\u001b[43m \u001b[49m\u001b[43mprimitive_policy\u001b[49m\u001b[38;5;241;43m=\u001b[39;49m\u001b[38;5;124;43m\"\u001b[39;49m\u001b[38;5;124;43merror\u001b[39;49m\u001b[38;5;124;43m\"\u001b[39;49m\n\u001b[1;32m    312\u001b[0m \u001b[43m    \u001b[49m\u001b[43m)\u001b[49m\n\u001b[1;32m    314\u001b[0m \u001b[38;5;28;01mif\u001b[39;00m \u001b[38;5;129;01mnot\u001b[39;00m \u001b[38;5;28misinstance\u001b[39m(layout, ak\u001b[38;5;241m.\u001b[39mcontents\u001b[38;5;241m.\u001b[39mContent):\n\u001b[1;32m    315\u001b[0m     \u001b[38;5;28;01mraise\u001b[39;00m \u001b[38;5;167;01mTypeError\u001b[39;00m(\u001b[38;5;124m\"\u001b[39m\u001b[38;5;124mcould not convert data into an ak.Array\u001b[39m\u001b[38;5;124m\"\u001b[39m)\n",
      "File \u001b[0;32m/depot/cms/kernels/coffea2024/lib/python3.10/site-packages/awkward/_dispatch.py:38\u001b[0m, in \u001b[0;36mnamed_high_level_function.<locals>.dispatch\u001b[0;34m(*args, **kwargs)\u001b[0m\n\u001b[1;32m     35\u001b[0m \u001b[38;5;129m@wraps\u001b[39m(func)\n\u001b[1;32m     36\u001b[0m \u001b[38;5;28;01mdef\u001b[39;00m \u001b[38;5;21mdispatch\u001b[39m(\u001b[38;5;241m*\u001b[39margs, \u001b[38;5;241m*\u001b[39m\u001b[38;5;241m*\u001b[39mkwargs):\n\u001b[1;32m     37\u001b[0m     \u001b[38;5;66;03m# NOTE: this decorator assumes that the operation is exposed under `ak.`\u001b[39;00m\n\u001b[0;32m---> 38\u001b[0m     \u001b[38;5;28;01mwith\u001b[39;00m OperationErrorContext(name, args, kwargs):\n\u001b[1;32m     39\u001b[0m         gen_or_result \u001b[38;5;241m=\u001b[39m func(\u001b[38;5;241m*\u001b[39margs, \u001b[38;5;241m*\u001b[39m\u001b[38;5;241m*\u001b[39mkwargs)\n\u001b[1;32m     40\u001b[0m         \u001b[38;5;28;01mif\u001b[39;00m isgenerator(gen_or_result):\n",
      "File \u001b[0;32m/depot/cms/kernels/coffea2024/lib/python3.10/site-packages/awkward/_errors.py:85\u001b[0m, in \u001b[0;36mErrorContext.__exit__\u001b[0;34m(self, exception_type, exception_value, traceback)\u001b[0m\n\u001b[1;32m     78\u001b[0m \u001b[38;5;28;01mtry\u001b[39;00m:\n\u001b[1;32m     79\u001b[0m     \u001b[38;5;66;03m# Handle caught exception\u001b[39;00m\n\u001b[1;32m     80\u001b[0m     \u001b[38;5;28;01mif\u001b[39;00m (\n\u001b[1;32m     81\u001b[0m         exception_type \u001b[38;5;129;01mis\u001b[39;00m \u001b[38;5;129;01mnot\u001b[39;00m \u001b[38;5;28;01mNone\u001b[39;00m\n\u001b[1;32m     82\u001b[0m         \u001b[38;5;129;01mand\u001b[39;00m \u001b[38;5;28missubclass\u001b[39m(exception_type, \u001b[38;5;167;01mException\u001b[39;00m)\n\u001b[1;32m     83\u001b[0m         \u001b[38;5;129;01mand\u001b[39;00m \u001b[38;5;28mself\u001b[39m\u001b[38;5;241m.\u001b[39mprimary() \u001b[38;5;129;01mis\u001b[39;00m \u001b[38;5;28mself\u001b[39m\n\u001b[1;32m     84\u001b[0m     ):\n\u001b[0;32m---> 85\u001b[0m         \u001b[38;5;28;43mself\u001b[39;49m\u001b[38;5;241;43m.\u001b[39;49m\u001b[43mhandle_exception\u001b[49m\u001b[43m(\u001b[49m\u001b[43mexception_type\u001b[49m\u001b[43m,\u001b[49m\u001b[43m \u001b[49m\u001b[43mexception_value\u001b[49m\u001b[43m)\u001b[49m\n\u001b[1;32m     86\u001b[0m \u001b[38;5;28;01mfinally\u001b[39;00m:\n\u001b[1;32m     87\u001b[0m     \u001b[38;5;66;03m# Step out of the way so that another ErrorContext can become primary.\u001b[39;00m\n\u001b[1;32m     88\u001b[0m     \u001b[38;5;28;01mif\u001b[39;00m \u001b[38;5;28mself\u001b[39m\u001b[38;5;241m.\u001b[39mprimary() \u001b[38;5;129;01mis\u001b[39;00m \u001b[38;5;28mself\u001b[39m:\n",
      "File \u001b[0;32m/depot/cms/kernels/coffea2024/lib/python3.10/site-packages/awkward/_errors.py:95\u001b[0m, in \u001b[0;36mErrorContext.handle_exception\u001b[0;34m(self, cls, exception)\u001b[0m\n\u001b[1;32m     93\u001b[0m     \u001b[38;5;28mself\u001b[39m\u001b[38;5;241m.\u001b[39mdecorate_exception(\u001b[38;5;28mcls\u001b[39m, exception)\n\u001b[1;32m     94\u001b[0m \u001b[38;5;28;01melse\u001b[39;00m:\n\u001b[0;32m---> 95\u001b[0m     \u001b[38;5;28;01mraise\u001b[39;00m \u001b[38;5;28mself\u001b[39m\u001b[38;5;241m.\u001b[39mdecorate_exception(\u001b[38;5;28mcls\u001b[39m, exception)\n",
      "\u001b[0;31mTypeError\u001b[0m: ak.Record objects are not allowed in this function\n\nThis error occurred while calling\n\n    ak.to_layout(\n        <Record-typetracer {dxy: ##, dxyErr: ##, ...} type='Muon[dxy: float...'>\n        allow_record = False\n        regulararray = False\n        primitive_policy = 'error'\n    )"
     ]
    }
   ],
   "source": [
    "# HLT_objs = events.TrigObj[IsoMu24_muons].compute()\n",
    "# ak.num(HLT_objs, axis=1)\n",
    "mu1[1].delta_r(HLT_objs[1]).compute()"
   ]
  },
  {
   "cell_type": "code",
   "execution_count": 31,
   "id": "99b28c77-3d75-495c-898f-7887a9b0bf75",
   "metadata": {},
   "outputs": [
    {
     "ename": "KeyboardInterrupt",
     "evalue": "",
     "output_type": "error",
     "traceback": [
      "\u001b[0;31m---------------------------------------------------------------------------\u001b[0m",
      "\u001b[0;31mKeyboardInterrupt\u001b[0m                         Traceback (most recent call last)",
      "Cell \u001b[0;32mIn[31], line 1\u001b[0m\n\u001b[0;32m----> 1\u001b[0m \u001b[43mmu1\u001b[49m\u001b[38;5;241;43m.\u001b[39;49m\u001b[43mcompute\u001b[49m\u001b[43m(\u001b[49m\u001b[43m)\u001b[49m\n",
      "File \u001b[0;32m/depot/cms/kernels/coffea2024/lib/python3.10/site-packages/dask/base.py:379\u001b[0m, in \u001b[0;36mDaskMethodsMixin.compute\u001b[0;34m(self, **kwargs)\u001b[0m\n\u001b[1;32m    355\u001b[0m \u001b[38;5;28;01mdef\u001b[39;00m \u001b[38;5;21mcompute\u001b[39m(\u001b[38;5;28mself\u001b[39m, \u001b[38;5;241m*\u001b[39m\u001b[38;5;241m*\u001b[39mkwargs):\n\u001b[1;32m    356\u001b[0m \u001b[38;5;250m    \u001b[39m\u001b[38;5;124;03m\"\"\"Compute this dask collection\u001b[39;00m\n\u001b[1;32m    357\u001b[0m \n\u001b[1;32m    358\u001b[0m \u001b[38;5;124;03m    This turns a lazy Dask collection into its in-memory equivalent.\u001b[39;00m\n\u001b[0;32m   (...)\u001b[0m\n\u001b[1;32m    377\u001b[0m \u001b[38;5;124;03m    dask.compute\u001b[39;00m\n\u001b[1;32m    378\u001b[0m \u001b[38;5;124;03m    \"\"\"\u001b[39;00m\n\u001b[0;32m--> 379\u001b[0m     (result,) \u001b[38;5;241m=\u001b[39m \u001b[43mcompute\u001b[49m\u001b[43m(\u001b[49m\u001b[38;5;28;43mself\u001b[39;49m\u001b[43m,\u001b[49m\u001b[43m \u001b[49m\u001b[43mtraverse\u001b[49m\u001b[38;5;241;43m=\u001b[39;49m\u001b[38;5;28;43;01mFalse\u001b[39;49;00m\u001b[43m,\u001b[49m\u001b[43m \u001b[49m\u001b[38;5;241;43m*\u001b[39;49m\u001b[38;5;241;43m*\u001b[39;49m\u001b[43mkwargs\u001b[49m\u001b[43m)\u001b[49m\n\u001b[1;32m    380\u001b[0m     \u001b[38;5;28;01mreturn\u001b[39;00m result\n",
      "File \u001b[0;32m/depot/cms/kernels/coffea2024/lib/python3.10/site-packages/dask/base.py:665\u001b[0m, in \u001b[0;36mcompute\u001b[0;34m(traverse, optimize_graph, scheduler, get, *args, **kwargs)\u001b[0m\n\u001b[1;32m    662\u001b[0m     postcomputes\u001b[38;5;241m.\u001b[39mappend(x\u001b[38;5;241m.\u001b[39m__dask_postcompute__())\n\u001b[1;32m    664\u001b[0m \u001b[38;5;28;01mwith\u001b[39;00m shorten_traceback():\n\u001b[0;32m--> 665\u001b[0m     results \u001b[38;5;241m=\u001b[39m \u001b[43mschedule\u001b[49m\u001b[43m(\u001b[49m\u001b[43mdsk\u001b[49m\u001b[43m,\u001b[49m\u001b[43m \u001b[49m\u001b[43mkeys\u001b[49m\u001b[43m,\u001b[49m\u001b[43m \u001b[49m\u001b[38;5;241;43m*\u001b[39;49m\u001b[38;5;241;43m*\u001b[39;49m\u001b[43mkwargs\u001b[49m\u001b[43m)\u001b[49m\n\u001b[1;32m    667\u001b[0m \u001b[38;5;28;01mreturn\u001b[39;00m repack([f(r, \u001b[38;5;241m*\u001b[39ma) \u001b[38;5;28;01mfor\u001b[39;00m r, (f, a) \u001b[38;5;129;01min\u001b[39;00m \u001b[38;5;28mzip\u001b[39m(results, postcomputes)])\n",
      "File \u001b[0;32m/depot/cms/kernels/coffea2024/lib/python3.10/queue.py:171\u001b[0m, in \u001b[0;36mQueue.get\u001b[0;34m(self, block, timeout)\u001b[0m\n\u001b[1;32m    169\u001b[0m \u001b[38;5;28;01melif\u001b[39;00m timeout \u001b[38;5;129;01mis\u001b[39;00m \u001b[38;5;28;01mNone\u001b[39;00m:\n\u001b[1;32m    170\u001b[0m     \u001b[38;5;28;01mwhile\u001b[39;00m \u001b[38;5;129;01mnot\u001b[39;00m \u001b[38;5;28mself\u001b[39m\u001b[38;5;241m.\u001b[39m_qsize():\n\u001b[0;32m--> 171\u001b[0m         \u001b[38;5;28;43mself\u001b[39;49m\u001b[38;5;241;43m.\u001b[39;49m\u001b[43mnot_empty\u001b[49m\u001b[38;5;241;43m.\u001b[39;49m\u001b[43mwait\u001b[49m\u001b[43m(\u001b[49m\u001b[43m)\u001b[49m\n\u001b[1;32m    172\u001b[0m \u001b[38;5;28;01melif\u001b[39;00m timeout \u001b[38;5;241m<\u001b[39m \u001b[38;5;241m0\u001b[39m:\n\u001b[1;32m    173\u001b[0m     \u001b[38;5;28;01mraise\u001b[39;00m \u001b[38;5;167;01mValueError\u001b[39;00m(\u001b[38;5;124m\"\u001b[39m\u001b[38;5;124m'\u001b[39m\u001b[38;5;124mtimeout\u001b[39m\u001b[38;5;124m'\u001b[39m\u001b[38;5;124m must be a non-negative number\u001b[39m\u001b[38;5;124m\"\u001b[39m)\n",
      "File \u001b[0;32m/depot/cms/kernels/coffea2024/lib/python3.10/threading.py:320\u001b[0m, in \u001b[0;36mCondition.wait\u001b[0;34m(self, timeout)\u001b[0m\n\u001b[1;32m    318\u001b[0m \u001b[38;5;28;01mtry\u001b[39;00m:    \u001b[38;5;66;03m# restore state no matter what (e.g., KeyboardInterrupt)\u001b[39;00m\n\u001b[1;32m    319\u001b[0m     \u001b[38;5;28;01mif\u001b[39;00m timeout \u001b[38;5;129;01mis\u001b[39;00m \u001b[38;5;28;01mNone\u001b[39;00m:\n\u001b[0;32m--> 320\u001b[0m         \u001b[43mwaiter\u001b[49m\u001b[38;5;241;43m.\u001b[39;49m\u001b[43macquire\u001b[49m\u001b[43m(\u001b[49m\u001b[43m)\u001b[49m\n\u001b[1;32m    321\u001b[0m         gotit \u001b[38;5;241m=\u001b[39m \u001b[38;5;28;01mTrue\u001b[39;00m\n\u001b[1;32m    322\u001b[0m     \u001b[38;5;28;01melse\u001b[39;00m:\n",
      "\u001b[0;31mKeyboardInterrupt\u001b[0m: "
     ]
    }
   ],
   "source": [
    "mu1.compute()"
   ]
  },
  {
   "cell_type": "code",
   "execution_count": 3,
   "id": "59e00fa8-98f1-425e-af06-e1be3b6fd5c6",
   "metadata": {},
   "outputs": [],
   "source": [
    "muHLT = (events.TrigObj.filterBits & 8 ) == 8\n",
    "muHLT_passed_events = ak.sum(muHLT.compute(),axis=1) > 0\n",
    "IsoMu24_events = events.HLT.IsoMu24.compute()"
   ]
  },
  {
   "cell_type": "code",
   "execution_count": 4,
   "id": "8fe353ab-5f66-4695-9059-0d188fb099f9",
   "metadata": {},
   "outputs": [],
   "source": [
    "mulHLT_passed_events = ak.sum(muHLT.compute(),axis=1) > 0"
   ]
  },
  {
   "cell_type": "code",
   "execution_count": 5,
   "id": "092afeda-3f97-4e3f-87a4-31f889ebb249",
   "metadata": {},
   "outputs": [
    {
     "data": {
      "text/html": [
       "<pre>[True,\n",
       " True,\n",
       " True,\n",
       " True,\n",
       " True,\n",
       " True,\n",
       " True,\n",
       " True,\n",
       " True,\n",
       " True,\n",
       " ...,\n",
       " True,\n",
       " True,\n",
       " True,\n",
       " True,\n",
       " True,\n",
       " True,\n",
       " True,\n",
       " True,\n",
       " True]\n",
       "-------------------\n",
       "type: 999000 * bool</pre>"
      ],
      "text/plain": [
       "<Array [True, True, True, True, ..., True, True, True] type='999000 * bool'>"
      ]
     },
     "execution_count": 5,
     "metadata": {},
     "output_type": "execute_result"
    }
   ],
   "source": [
    "mulHLT_passed_events"
   ]
  },
  {
   "cell_type": "code",
   "execution_count": 6,
   "id": "8a6c7033-6bd6-458a-b830-133dbbe2c164",
   "metadata": {},
   "outputs": [],
   "source": [
    "IsoMu24_arr = events.HLT.IsoMu24.compute()"
   ]
  },
  {
   "cell_type": "code",
   "execution_count": 20,
   "id": "59eeb85a-a1f3-4c36-a974-34eb9e5b4e19",
   "metadata": {},
   "outputs": [
    {
     "data": {
      "text/plain": [
       "0.017076076076076075"
      ]
     },
     "execution_count": 20,
     "metadata": {},
     "output_type": "execute_result"
    }
   ],
   "source": [
    "ak.sum(mulHLT_passed_events != IsoMu24_arr) / len(mulHLT_passed_events)"
   ]
  },
  {
   "cell_type": "code",
   "execution_count": 58,
   "id": "feb2d222-1528-48da-935f-82041e32399a",
   "metadata": {},
   "outputs": [
    {
     "data": {
      "text/html": [
       "<pre>[[True, True, True],\n",
       " [True, True, True, True],\n",
       " [True, True, True, True],\n",
       " [True, True],\n",
       " [True],\n",
       " [True],\n",
       " [True, True, True, True],\n",
       " [True, True],\n",
       " [True, True, True],\n",
       " [True, True, True, True, True],\n",
       " ...,\n",
       " [True, True, True, True],\n",
       " [True, False, True],\n",
       " [True, True, True, True],\n",
       " [True, True],\n",
       " [True, True, True, True],\n",
       " [True, True],\n",
       " [True, True, True],\n",
       " [True, True],\n",
       " [True]]\n",
       "-------------------------------------------------------\n",
       "type: 999000 * var * bool[parameters={&quot;__doc__&quot;: &quot;pt&quot;}]</pre>"
      ],
      "text/plain": [
       "<Array [[True, True, True], [...], ..., [True]] type='999000 * var * bool[p...'>"
      ]
     },
     "execution_count": 58,
     "metadata": {},
     "output_type": "execute_result"
    }
   ],
   "source": [
    "wildcard_cut  = (events.TrigObj.pt > 23.5).compute()\n",
    "wildcard_cut"
   ]
  },
  {
   "cell_type": "code",
   "execution_count": 59,
   "id": "aa2915c7-27a1-4539-9d40-72dd8cabecce",
   "metadata": {},
   "outputs": [],
   "source": [
    "wildcardWhlt = wildcard_cut & muHLT.compute()\n",
    "muHLT_arr = muHLT.compute()"
   ]
  },
  {
   "cell_type": "code",
   "execution_count": 60,
   "id": "4e1a2152-8a32-49d2-8730-994377868761",
   "metadata": {},
   "outputs": [
    {
     "data": {
      "text/plain": [
       "24842"
      ]
     },
     "execution_count": 60,
     "metadata": {},
     "output_type": "execute_result"
    }
   ],
   "source": [
    "ak.sum(wildcardWhlt != muHLT_arr)"
   ]
  },
  {
   "cell_type": "code",
   "execution_count": 61,
   "id": "4688b359-8588-4d46-95bd-b423fe43b825",
   "metadata": {
    "scrolled": true
   },
   "outputs": [
    {
     "data": {
      "text/html": [
       "<pre>[True,\n",
       " True,\n",
       " True,\n",
       " True,\n",
       " True,\n",
       " True,\n",
       " True,\n",
       " True,\n",
       " True,\n",
       " True,\n",
       " ...,\n",
       " True,\n",
       " True,\n",
       " True,\n",
       " True,\n",
       " True,\n",
       " True,\n",
       " True,\n",
       " True,\n",
       " True]\n",
       "-------------------\n",
       "type: 999000 * bool</pre>"
      ],
      "text/plain": [
       "<Array [True, True, True, True, ..., True, True, True] type='999000 * bool'>"
      ]
     },
     "execution_count": 61,
     "metadata": {},
     "output_type": "execute_result"
    }
   ],
   "source": [
    "mulHLT_passed_events = ak.sum(wildcardWhlt,axis=1) > 0\n",
    "mulHLT_passed_events"
   ]
  },
  {
   "cell_type": "code",
   "execution_count": 70,
   "id": "31674364-2616-4db8-95ce-ed07c5041c7c",
   "metadata": {},
   "outputs": [
    {
     "data": {
      "text/plain": [
       "0.005927520400950973"
      ]
     },
     "execution_count": 70,
     "metadata": {},
     "output_type": "execute_result"
    }
   ],
   "source": [
    "ak.sum(mulHLT_passed_events != IsoMu24_arr) / ak.sum(IsoMu24_arr)"
   ]
  },
  {
   "cell_type": "code",
   "execution_count": null,
   "id": "92fd489c-0592-4f3a-b91a-54c11ee533b7",
   "metadata": {},
   "outputs": [],
   "source": [
    "6995"
   ]
  },
  {
   "cell_type": "code",
   "execution_count": 65,
   "id": "04d82313-320b-4aca-9991-059d7dfdc9a5",
   "metadata": {},
   "outputs": [
    {
     "data": {
      "text/html": [
       "<pre>[[True, False, False],\n",
       " [True, True, False, False],\n",
       " [True, True, False, False],\n",
       " [True, False],\n",
       " [True],\n",
       " [True],\n",
       " [True, True, False, False],\n",
       " [True, False],\n",
       " [True, False, False],\n",
       " [True, True, False, False, False],\n",
       " ...,\n",
       " [True, True, False, False],\n",
       " [True, False, False],\n",
       " [True, True, False, False],\n",
       " [True, False],\n",
       " [True, True, False, False],\n",
       " [True, False],\n",
       " [True, False, False],\n",
       " [True, True],\n",
       " [True]]\n",
       "-----------------------------------\n",
       "type: 999000 * var * bool</pre>"
      ],
      "text/plain": [
       "<Array [[True, False, False], [...], ..., [True]] type='999000 * var * bool'>"
      ]
     },
     "execution_count": 65,
     "metadata": {},
     "output_type": "execute_result"
    }
   ],
   "source": [
    "wildcardWhlt"
   ]
  },
  {
   "cell_type": "code",
   "execution_count": 69,
   "id": "64742523-bf93-4038-b3ed-814e8222b214",
   "metadata": {},
   "outputs": [
    {
     "data": {
      "text/html": [
       "<pre>[[49.8],\n",
       " [63.7, 56.7],\n",
       " [82.6, 42],\n",
       " [53.2],\n",
       " [29.6],\n",
       " [30.2],\n",
       " [63.8, 52.9],\n",
       " [86.8],\n",
       " [52.2, 45.6],\n",
       " [77.2],\n",
       " ...,\n",
       " [47, 38, 4.07],\n",
       " [41.1, 20.6],\n",
       " [94.4, 37.7, 3.6],\n",
       " [41.7],\n",
       " [62.6, 53.8],\n",
       " [38.3],\n",
       " [51.7, 31.7],\n",
       " [337, 30.6, 27.3],\n",
       " [33.6]]\n",
       "----------------------------------------------------------\n",
       "type: 999000 * var * float32[parameters={&quot;__doc__&quot;: &quot;pt&quot;}]</pre>"
      ],
      "text/plain": [
       "<Array [[49.8], [63.7, 56.7], ..., [33.6]] type='999000 * var * float32[par...'>"
      ]
     },
     "execution_count": 69,
     "metadata": {},
     "output_type": "execute_result"
    }
   ],
   "source": [
    "events.Muon.pt.compute()"
   ]
  },
  {
   "cell_type": "code",
   "execution_count": null,
   "id": "3e0d5a89-51aa-40a5-b2ab-5ad948b3c59c",
   "metadata": {},
   "outputs": [],
   "source": [
    "mupt_hlt =  events.Muon.pt[wildcardWhlt== True].compute()\n",
    "mupt_nonhlt =  events.Muon.pt[wildcardWhlt == False].compute()\n",
    "\n",
    "\n",
    "\n",
    "xmax= 80\n",
    "plt.xlim([5, xmax])\n",
    "plt.hist(mupt_hlt, bins=np.linspace(5, xmax, 100),histtype=u'step', label=\"HLT\")\n",
    "plt.hist(mupt_nonhlt, bins=np.linspace(5, xmax, 100),histtype=u'step', label=\"non-HLT\")\n",
    "plt.axvline(x=24, color='red', ls='--')\n",
    "plt.axvline(x=26, color='teal', ls='--')\n",
    "plt.xlabel(\"Leading Muon pT\")\n",
    "plt.title(\"ggH powheg histogram\")\n",
    "\n",
    "plt.legend(loc='best')\n",
    "plt.show()"
   ]
  },
  {
   "cell_type": "code",
   "execution_count": 76,
   "id": "0efcbcb6-f532-4633-9aea-60eaec31f5ef",
   "metadata": {},
   "outputs": [],
   "source": [
    "relIso = events.Muon.pfRelIso04_all.compute()"
   ]
  },
  {
   "cell_type": "code",
   "execution_count": 78,
   "id": "6a44ea77-0581-4b18-9499-7bd11a11487e",
   "metadata": {},
   "outputs": [
    {
     "data": {
      "text/plain": [
       "5.144145203472276"
      ]
     },
     "execution_count": 78,
     "metadata": {},
     "output_type": "execute_result"
    }
   ],
   "source": [
    "ak.sum(relIso>0.25) /ak.sum(relIso)"
   ]
  },
  {
   "cell_type": "code",
   "execution_count": 86,
   "id": "5f35904c-99d2-431d-8a86-d4f7936a8aa2",
   "metadata": {},
   "outputs": [
    {
     "data": {
      "text/html": [
       "<pre>[[1],\n",
       " [-1, 1],\n",
       " [-1, 1],\n",
       " [-1],\n",
       " [1],\n",
       " [-1],\n",
       " [1, -1],\n",
       " [1],\n",
       " [1],\n",
       " [1, -1],\n",
       " ...,\n",
       " [1, -1],\n",
       " [1, -1],\n",
       " [1, 1],\n",
       " [1],\n",
       " [-1, 1],\n",
       " [1],\n",
       " [1, -1],\n",
       " [-1, -1],\n",
       " [-1]]\n",
       "----------------------------------------------------------------------------------\n",
       "type: 999000 * var * int32[parameters={&quot;__doc__&quot;: &quot;charge of associated L1 seed&quot;}]</pre>"
      ],
      "text/plain": [
       "<Array [[1], [-1, 1], ..., [-1, -1], [-1]] type='999000 * var * int32[param...'>"
      ]
     },
     "execution_count": 86,
     "metadata": {},
     "output_type": "execute_result"
    }
   ],
   "source": [
    "events.TrigObj[events.TrigObj.id==13].l1charge.compute()"
   ]
  },
  {
   "cell_type": "code",
   "execution_count": 90,
   "id": "c169e17c-2b74-4514-9159-f86bb6c91b15",
   "metadata": {},
   "outputs": [
    {
     "data": {
      "text/plain": [
       "['pt',\n",
       " 'eta',\n",
       " 'phi',\n",
       " 'l1pt',\n",
       " 'l1pt_2',\n",
       " 'l2pt',\n",
       " 'id',\n",
       " 'l1iso',\n",
       " 'l1charge',\n",
       " 'filterBits']"
      ]
     },
     "execution_count": 90,
     "metadata": {},
     "output_type": "execute_result"
    }
   ],
   "source": [
    "events.TrigObj.fields\n",
    "# events.TrigObj.id.compute()"
   ]
  },
  {
   "cell_type": "code",
   "execution_count": 110,
   "id": "ee622e3b-a62c-4b90-b43b-3a9c2f5ca058",
   "metadata": {},
   "outputs": [],
   "source": [
    "isoMu_filterbit = 2\n",
    "mu_id = 13\n",
    "bool_filter = (events.TrigObj.id == 13) &  \\\n",
    "    ((events.TrigObj.filterBits & isoMu_filterbit) == isoMu_filterbit) & \\\n",
    "    (events.TrigObj.pt > 24) # considering wildcard scenrios where exact 24 pt cut ain't doing it"
   ]
  },
  {
   "cell_type": "code",
   "execution_count": 111,
   "id": "ebf138cc-f8d3-4705-8a65-11375fd43716",
   "metadata": {},
   "outputs": [],
   "source": [
    "hlt_overall = ak.sum(bool_filter, axis=1) >0 "
   ]
  },
  {
   "cell_type": "code",
   "execution_count": 112,
   "id": "dce1f6f6-4c56-4cf2-92a5-a082a87fb752",
   "metadata": {},
   "outputs": [
    {
     "data": {
      "text/plain": [
       "999000"
      ]
     },
     "execution_count": 112,
     "metadata": {},
     "output_type": "execute_result"
    }
   ],
   "source": [
    "len(IsoMu24_arr)"
   ]
  },
  {
   "cell_type": "code",
   "execution_count": 113,
   "id": "386c5e6d-729e-4453-a09a-467ee1dae7a5",
   "metadata": {},
   "outputs": [
    {
     "data": {
      "text/plain": [
       "2618"
      ]
     },
     "execution_count": 113,
     "metadata": {},
     "output_type": "execute_result"
    }
   ],
   "source": [
    "ak.sum(hlt_overall != IsoMu24_arr).compute()"
   ]
  },
  {
   "cell_type": "code",
   "execution_count": 114,
   "id": "1191d7a3-f711-4969-b964-d2e34061bd10",
   "metadata": {},
   "outputs": [
    {
     "data": {
      "text/plain": [
       "0.0026206206206206206"
      ]
     },
     "execution_count": 114,
     "metadata": {},
     "output_type": "execute_result"
    }
   ],
   "source": [
    "(ak.sum(hlt_overall != IsoMu24_arr)/len(IsoMu24_arr)).compute()"
   ]
  },
  {
   "cell_type": "code",
   "execution_count": 103,
   "id": "24844b98-24cb-4f92-9fc2-03e4707e1ac5",
   "metadata": {},
   "outputs": [
    {
     "data": {
      "text/html": [
       "<pre>[[True, False, False],\n",
       " [True, True, False, False],\n",
       " [True, True, False, False],\n",
       " [True, False],\n",
       " [True],\n",
       " [True],\n",
       " [True, True, False, False],\n",
       " [True, False],\n",
       " [True, False, False],\n",
       " [True, True, False, False, False],\n",
       " ...,\n",
       " [True, True, False, False],\n",
       " [True, True, False],\n",
       " [True, True, False, False],\n",
       " [True, False],\n",
       " [True, True, False, False],\n",
       " [True, False],\n",
       " [True, True, False],\n",
       " [True, True],\n",
       " [True]]\n",
       "------------------------------------------------------------------------------------------------------------------------------------------------------------------------------------------------------------------------\n",
       "type: 999000 * var * bool[parameters={&quot;__doc__&quot;: &quot;ID of the object: 11 = Electron (PixelMatched e/gamma), 22 = Photon (PixelMatch-vetoed e/gamma), 13 = Muon, 15 = Tau, 1 = Jet, 6 = FatJet, 2 = MET, 3 = HT, 4 = MHT&quot;}]</pre>"
      ],
      "text/plain": [
       "<Array [[True, False, False], ..., [True]] type='999000 * var * bool[parame...'>"
      ]
     },
     "execution_count": 103,
     "metadata": {},
     "output_type": "execute_result"
    }
   ],
   "source": [
    "(events.TrigObj.id == 13).compute()"
   ]
  },
  {
   "cell_type": "code",
   "execution_count": 7,
   "id": "7f820f70-9c74-4b52-8d55-0876ed56a031",
   "metadata": {},
   "outputs": [
    {
     "data": {
      "text/html": [
       "<pre>[[49.7, 55.1, 49.7],\n",
       " [56.6, 63.6, 63.6, 56.6],\n",
       " [82.3, 41.9, 82.3, 41.9],\n",
       " [52.8, 52.8],\n",
       " [29.6],\n",
       " [30.4],\n",
       " [63.7, 53, 63.7, 53],\n",
       " [92.1, 92.1],\n",
       " [52.8, 52.8, 47.1],\n",
       " [77.8, 48.4, 77.8, 50.6, 50.6],\n",
       " ...,\n",
       " [38.1, 46.8, 46.8, 38.1],\n",
       " [41.1, 20.7, 41.6],\n",
       " [37.8, 95.2, 95.2, 37.8],\n",
       " [41.8, 41.8],\n",
       " [62, 53.8, 62, 53.8],\n",
       " [38.5, 38.5],\n",
       " [52, 31.7, 52],\n",
       " [27.5, 30.7],\n",
       " [33.6]]\n",
       "----------------------------------------------------------\n",
       "type: 999000 * var * float32[parameters={&quot;__doc__&quot;: &quot;pt&quot;}]</pre>"
      ],
      "text/plain": [
       "<Array [[49.7, 55.1, 49.7], [...], ..., [33.6]] type='999000 * var * float3...'>"
      ]
     },
     "execution_count": 7,
     "metadata": {},
     "output_type": "execute_result"
    }
   ],
   "source": [
    "events.TrigObj.pt.compute()"
   ]
  },
  {
   "cell_type": "code",
   "execution_count": 119,
   "id": "841a39a4-c46f-4353-a220-b2f11ebcc3f8",
   "metadata": {},
   "outputs": [
    {
     "ename": "IndexError",
     "evalue": "cannot slice ListArray (of length 999000) with array(0): index out of range while attempting to get index 0 (in compiled code: https://github.com/scikit-hep/awkward/blob/awkward-cpp-28/awkward-cpp/src/cpu-kernels/awkward_ListArray_getitem_next_at.cpp#L21)\n\nThis error occurred while attempting to slice\n\n    repr-raised-TypeError\n\nwith\n\n    (:, 0)",
     "output_type": "error",
     "traceback": [
      "\u001b[0;31m---------------------------------------------------------------------------\u001b[0m",
      "\u001b[0;31mIndexError\u001b[0m                                Traceback (most recent call last)",
      "File \u001b[0;32m/depot/cms/kernels/coffea2024/lib/python3.10/site-packages/awkward/highlevel.py:1062\u001b[0m, in \u001b[0;36mArray.__getitem__\u001b[0;34m(self, where)\u001b[0m\n\u001b[1;32m   1060\u001b[0m \u001b[38;5;28;01mwith\u001b[39;00m ak\u001b[38;5;241m.\u001b[39m_errors\u001b[38;5;241m.\u001b[39mSlicingErrorContext(\u001b[38;5;28mself\u001b[39m, where):\n\u001b[1;32m   1061\u001b[0m     \u001b[38;5;28;01mreturn\u001b[39;00m wrap_layout(\n\u001b[0;32m-> 1062\u001b[0m         prepare_layout(\u001b[38;5;28;43mself\u001b[39;49m\u001b[38;5;241;43m.\u001b[39;49m\u001b[43m_layout\u001b[49m\u001b[43m[\u001b[49m\u001b[43mwhere\u001b[49m\u001b[43m]\u001b[49m),\n\u001b[1;32m   1063\u001b[0m         \u001b[38;5;28mself\u001b[39m\u001b[38;5;241m.\u001b[39m_behavior,\n\u001b[1;32m   1064\u001b[0m         allow_other\u001b[38;5;241m=\u001b[39m\u001b[38;5;28;01mTrue\u001b[39;00m,\n\u001b[1;32m   1065\u001b[0m         attrs\u001b[38;5;241m=\u001b[39m\u001b[38;5;28mself\u001b[39m\u001b[38;5;241m.\u001b[39m_attrs,\n\u001b[1;32m   1066\u001b[0m     )\n",
      "File \u001b[0;32m/depot/cms/kernels/coffea2024/lib/python3.10/site-packages/awkward/contents/content.py:519\u001b[0m, in \u001b[0;36mContent.__getitem__\u001b[0;34m(self, where)\u001b[0m\n\u001b[1;32m    518\u001b[0m \u001b[38;5;28;01mdef\u001b[39;00m \u001b[38;5;21m__getitem__\u001b[39m(\u001b[38;5;28mself\u001b[39m, where):\n\u001b[0;32m--> 519\u001b[0m     \u001b[38;5;28;01mreturn\u001b[39;00m \u001b[38;5;28;43mself\u001b[39;49m\u001b[38;5;241;43m.\u001b[39;49m\u001b[43m_getitem\u001b[49m\u001b[43m(\u001b[49m\u001b[43mwhere\u001b[49m\u001b[43m)\u001b[49m\n",
      "File \u001b[0;32m/depot/cms/kernels/coffea2024/lib/python3.10/site-packages/awkward/contents/content.py:564\u001b[0m, in \u001b[0;36mContent._getitem\u001b[0;34m(self, where)\u001b[0m\n\u001b[1;32m    557\u001b[0m \u001b[38;5;28mnext\u001b[39m \u001b[38;5;241m=\u001b[39m ak\u001b[38;5;241m.\u001b[39mcontents\u001b[38;5;241m.\u001b[39mRegularArray(\n\u001b[1;32m    558\u001b[0m     this,\n\u001b[1;32m    559\u001b[0m     this\u001b[38;5;241m.\u001b[39mlength,\n\u001b[1;32m    560\u001b[0m     \u001b[38;5;241m1\u001b[39m,\n\u001b[1;32m    561\u001b[0m     parameters\u001b[38;5;241m=\u001b[39m\u001b[38;5;28;01mNone\u001b[39;00m,\n\u001b[1;32m    562\u001b[0m )\n\u001b[0;32m--> 564\u001b[0m out \u001b[38;5;241m=\u001b[39m \u001b[38;5;28;43mnext\u001b[39;49m\u001b[38;5;241;43m.\u001b[39;49m\u001b[43m_getitem_next\u001b[49m\u001b[43m(\u001b[49m\u001b[43mnextwhere\u001b[49m\u001b[43m[\u001b[49m\u001b[38;5;241;43m0\u001b[39;49m\u001b[43m]\u001b[49m\u001b[43m,\u001b[49m\u001b[43m \u001b[49m\u001b[43mnextwhere\u001b[49m\u001b[43m[\u001b[49m\u001b[38;5;241;43m1\u001b[39;49m\u001b[43m:\u001b[49m\u001b[43m]\u001b[49m\u001b[43m,\u001b[49m\u001b[43m \u001b[49m\u001b[38;5;28;43;01mNone\u001b[39;49;00m\u001b[43m)\u001b[49m\n\u001b[1;32m    566\u001b[0m \u001b[38;5;28;01mif\u001b[39;00m out\u001b[38;5;241m.\u001b[39mlength \u001b[38;5;129;01mis\u001b[39;00m \u001b[38;5;129;01mnot\u001b[39;00m unknown_length \u001b[38;5;129;01mand\u001b[39;00m out\u001b[38;5;241m.\u001b[39mlength \u001b[38;5;241m==\u001b[39m \u001b[38;5;241m0\u001b[39m:\n",
      "File \u001b[0;32m/depot/cms/kernels/coffea2024/lib/python3.10/site-packages/awkward/contents/regulararray.py:529\u001b[0m, in \u001b[0;36mRegularArray._getitem_next\u001b[0;34m(self, head, tail, advanced)\u001b[0m\n\u001b[1;32m    525\u001b[0m \u001b[38;5;28;01mif\u001b[39;00m advanced \u001b[38;5;129;01mis\u001b[39;00m \u001b[38;5;28;01mNone\u001b[39;00m \u001b[38;5;129;01mor\u001b[39;00m (\n\u001b[1;32m    526\u001b[0m     advanced\u001b[38;5;241m.\u001b[39mlength \u001b[38;5;129;01mis\u001b[39;00m \u001b[38;5;129;01mnot\u001b[39;00m unknown_length \u001b[38;5;129;01mand\u001b[39;00m advanced\u001b[38;5;241m.\u001b[39mlength \u001b[38;5;241m==\u001b[39m \u001b[38;5;241m0\u001b[39m\n\u001b[1;32m    527\u001b[0m ):\n\u001b[1;32m    528\u001b[0m     \u001b[38;5;28;01mreturn\u001b[39;00m RegularArray(\n\u001b[0;32m--> 529\u001b[0m         \u001b[43mnextcontent\u001b[49m\u001b[38;5;241;43m.\u001b[39;49m\u001b[43m_getitem_next\u001b[49m\u001b[43m(\u001b[49m\u001b[43mnexthead\u001b[49m\u001b[43m,\u001b[49m\u001b[43m \u001b[49m\u001b[43mnexttail\u001b[49m\u001b[43m,\u001b[49m\u001b[43m \u001b[49m\u001b[43madvanced\u001b[49m\u001b[43m)\u001b[49m,\n\u001b[1;32m    530\u001b[0m         nextsize,\n\u001b[1;32m    531\u001b[0m         \u001b[38;5;28mself\u001b[39m\u001b[38;5;241m.\u001b[39m_length,\n\u001b[1;32m    532\u001b[0m         parameters\u001b[38;5;241m=\u001b[39m\u001b[38;5;28mself\u001b[39m\u001b[38;5;241m.\u001b[39m_parameters,\n\u001b[1;32m    533\u001b[0m     )\n\u001b[1;32m    534\u001b[0m \u001b[38;5;28;01melse\u001b[39;00m:\n",
      "File \u001b[0;32m/depot/cms/kernels/coffea2024/lib/python3.10/site-packages/awkward/contents/listarray.py:730\u001b[0m, in \u001b[0;36mListArray._getitem_next\u001b[0;34m(self, head, tail, advanced)\u001b[0m\n\u001b[1;32m    725\u001b[0m \u001b[38;5;28;01massert\u001b[39;00m (\n\u001b[1;32m    726\u001b[0m     nextcarry\u001b[38;5;241m.\u001b[39mnplike \u001b[38;5;129;01mis\u001b[39;00m \u001b[38;5;28mself\u001b[39m\u001b[38;5;241m.\u001b[39m_backend\u001b[38;5;241m.\u001b[39mindex_nplike\n\u001b[1;32m    727\u001b[0m     \u001b[38;5;129;01mand\u001b[39;00m \u001b[38;5;28mself\u001b[39m\u001b[38;5;241m.\u001b[39m_starts\u001b[38;5;241m.\u001b[39mnplike \u001b[38;5;129;01mis\u001b[39;00m \u001b[38;5;28mself\u001b[39m\u001b[38;5;241m.\u001b[39m_backend\u001b[38;5;241m.\u001b[39mindex_nplike\n\u001b[1;32m    728\u001b[0m     \u001b[38;5;129;01mand\u001b[39;00m \u001b[38;5;28mself\u001b[39m\u001b[38;5;241m.\u001b[39m_stops\u001b[38;5;241m.\u001b[39mnplike \u001b[38;5;129;01mis\u001b[39;00m \u001b[38;5;28mself\u001b[39m\u001b[38;5;241m.\u001b[39m_backend\u001b[38;5;241m.\u001b[39mindex_nplike\n\u001b[1;32m    729\u001b[0m )\n\u001b[0;32m--> 730\u001b[0m \u001b[38;5;28;43mself\u001b[39;49m\u001b[38;5;241;43m.\u001b[39;49m\u001b[43m_maybe_index_error\u001b[49m\u001b[43m(\u001b[49m\n\u001b[1;32m    731\u001b[0m \u001b[43m    \u001b[49m\u001b[38;5;28;43mself\u001b[39;49m\u001b[38;5;241;43m.\u001b[39;49m\u001b[43m_backend\u001b[49m\u001b[43m[\u001b[49m\n\u001b[1;32m    732\u001b[0m \u001b[43m        \u001b[49m\u001b[38;5;124;43m\"\u001b[39;49m\u001b[38;5;124;43mawkward_ListArray_getitem_next_at\u001b[39;49m\u001b[38;5;124;43m\"\u001b[39;49m\u001b[43m,\u001b[49m\n\u001b[1;32m    733\u001b[0m \u001b[43m        \u001b[49m\u001b[43mnextcarry\u001b[49m\u001b[38;5;241;43m.\u001b[39;49m\u001b[43mdtype\u001b[49m\u001b[38;5;241;43m.\u001b[39;49m\u001b[43mtype\u001b[49m\u001b[43m,\u001b[49m\n\u001b[1;32m    734\u001b[0m \u001b[43m        \u001b[49m\u001b[38;5;28;43mself\u001b[39;49m\u001b[38;5;241;43m.\u001b[39;49m\u001b[43m_starts\u001b[49m\u001b[38;5;241;43m.\u001b[39;49m\u001b[43mdtype\u001b[49m\u001b[38;5;241;43m.\u001b[39;49m\u001b[43mtype\u001b[49m\u001b[43m,\u001b[49m\n\u001b[1;32m    735\u001b[0m \u001b[43m        \u001b[49m\u001b[38;5;28;43mself\u001b[39;49m\u001b[38;5;241;43m.\u001b[39;49m\u001b[43m_stops\u001b[49m\u001b[38;5;241;43m.\u001b[39;49m\u001b[43mdtype\u001b[49m\u001b[38;5;241;43m.\u001b[39;49m\u001b[43mtype\u001b[49m\u001b[43m,\u001b[49m\n\u001b[1;32m    736\u001b[0m \u001b[43m    \u001b[49m\u001b[43m]\u001b[49m\u001b[43m(\u001b[49m\n\u001b[1;32m    737\u001b[0m \u001b[43m        \u001b[49m\u001b[43mnextcarry\u001b[49m\u001b[38;5;241;43m.\u001b[39;49m\u001b[43mdata\u001b[49m\u001b[43m,\u001b[49m\n\u001b[1;32m    738\u001b[0m \u001b[43m        \u001b[49m\u001b[38;5;28;43mself\u001b[39;49m\u001b[38;5;241;43m.\u001b[39;49m\u001b[43m_starts\u001b[49m\u001b[38;5;241;43m.\u001b[39;49m\u001b[43mdata\u001b[49m\u001b[43m,\u001b[49m\n\u001b[1;32m    739\u001b[0m \u001b[43m        \u001b[49m\u001b[38;5;28;43mself\u001b[39;49m\u001b[38;5;241;43m.\u001b[39;49m\u001b[43m_stops\u001b[49m\u001b[38;5;241;43m.\u001b[39;49m\u001b[43mdata\u001b[49m\u001b[43m,\u001b[49m\n\u001b[1;32m    740\u001b[0m \u001b[43m        \u001b[49m\u001b[43mlenstarts\u001b[49m\u001b[43m,\u001b[49m\n\u001b[1;32m    741\u001b[0m \u001b[43m        \u001b[49m\u001b[43mhead\u001b[49m\u001b[43m,\u001b[49m\n\u001b[1;32m    742\u001b[0m \u001b[43m    \u001b[49m\u001b[43m)\u001b[49m\u001b[43m,\u001b[49m\n\u001b[1;32m    743\u001b[0m \u001b[43m    \u001b[49m\u001b[43mslicer\u001b[49m\u001b[38;5;241;43m=\u001b[39;49m\u001b[43mhead\u001b[49m\u001b[43m,\u001b[49m\n\u001b[1;32m    744\u001b[0m \u001b[43m\u001b[49m\u001b[43m)\u001b[49m\n\u001b[1;32m    745\u001b[0m nextcontent \u001b[38;5;241m=\u001b[39m \u001b[38;5;28mself\u001b[39m\u001b[38;5;241m.\u001b[39m_content\u001b[38;5;241m.\u001b[39m_carry(nextcarry, \u001b[38;5;28;01mTrue\u001b[39;00m)\n",
      "File \u001b[0;32m/depot/cms/kernels/coffea2024/lib/python3.10/site-packages/awkward/contents/content.py:282\u001b[0m, in \u001b[0;36mContent._maybe_index_error\u001b[0;34m(self, error, slicer)\u001b[0m\n\u001b[1;32m    281\u001b[0m message \u001b[38;5;241m=\u001b[39m \u001b[38;5;28mself\u001b[39m\u001b[38;5;241m.\u001b[39m_backend\u001b[38;5;241m.\u001b[39mformat_kernel_error(error)\n\u001b[0;32m--> 282\u001b[0m \u001b[38;5;28;01mraise\u001b[39;00m ak\u001b[38;5;241m.\u001b[39m_errors\u001b[38;5;241m.\u001b[39mindex_error(\u001b[38;5;28mself\u001b[39m, slicer, message)\n",
      "\u001b[0;31mIndexError\u001b[0m: cannot slice ListArray (of length 999000) with array(0): index out of range while attempting to get index 0 (in compiled code: https://github.com/scikit-hep/awkward/blob/awkward-cpp-28/awkward-cpp/src/cpu-kernels/awkward_ListArray_getitem_next_at.cpp#L21)",
      "\nThe above exception was the direct cause of the following exception:\n",
      "\u001b[0;31mIndexError\u001b[0m                                Traceback (most recent call last)",
      "Cell \u001b[0;32mIn[119], line 2\u001b[0m\n\u001b[1;32m      1\u001b[0m muTrigPasses \u001b[38;5;241m=\u001b[39m events\u001b[38;5;241m.\u001b[39mTrigObj[bool_filter]\n\u001b[0;32m----> 2\u001b[0m \u001b[43mmuTrigPasses\u001b[49m\u001b[38;5;241;43m.\u001b[39;49m\u001b[43mdelta_r\u001b[49m\u001b[43m(\u001b[49m\u001b[43mevents\u001b[49m\u001b[38;5;241;43m.\u001b[39;49m\u001b[43mMuon\u001b[49m\u001b[43m[\u001b[49m\u001b[43m:\u001b[49m\u001b[43m,\u001b[49m\u001b[38;5;241;43m0\u001b[39;49m\u001b[43m]\u001b[49m\u001b[43m)\u001b[49m\u001b[38;5;241;43m.\u001b[39;49m\u001b[43mcompute\u001b[49m\u001b[43m(\u001b[49m\u001b[43m)\u001b[49m\n",
      "File \u001b[0;32m/depot/cms/kernels/coffea2024/lib/python3.10/site-packages/dask/base.py:379\u001b[0m, in \u001b[0;36mDaskMethodsMixin.compute\u001b[0;34m(self, **kwargs)\u001b[0m\n\u001b[1;32m    355\u001b[0m \u001b[38;5;28;01mdef\u001b[39;00m \u001b[38;5;21mcompute\u001b[39m(\u001b[38;5;28mself\u001b[39m, \u001b[38;5;241m*\u001b[39m\u001b[38;5;241m*\u001b[39mkwargs):\n\u001b[1;32m    356\u001b[0m \u001b[38;5;250m    \u001b[39m\u001b[38;5;124;03m\"\"\"Compute this dask collection\u001b[39;00m\n\u001b[1;32m    357\u001b[0m \n\u001b[1;32m    358\u001b[0m \u001b[38;5;124;03m    This turns a lazy Dask collection into its in-memory equivalent.\u001b[39;00m\n\u001b[0;32m   (...)\u001b[0m\n\u001b[1;32m    377\u001b[0m \u001b[38;5;124;03m    dask.compute\u001b[39;00m\n\u001b[1;32m    378\u001b[0m \u001b[38;5;124;03m    \"\"\"\u001b[39;00m\n\u001b[0;32m--> 379\u001b[0m     (result,) \u001b[38;5;241m=\u001b[39m \u001b[43mcompute\u001b[49m\u001b[43m(\u001b[49m\u001b[38;5;28;43mself\u001b[39;49m\u001b[43m,\u001b[49m\u001b[43m \u001b[49m\u001b[43mtraverse\u001b[49m\u001b[38;5;241;43m=\u001b[39;49m\u001b[38;5;28;43;01mFalse\u001b[39;49;00m\u001b[43m,\u001b[49m\u001b[43m \u001b[49m\u001b[38;5;241;43m*\u001b[39;49m\u001b[38;5;241;43m*\u001b[39;49m\u001b[43mkwargs\u001b[49m\u001b[43m)\u001b[49m\n\u001b[1;32m    380\u001b[0m     \u001b[38;5;28;01mreturn\u001b[39;00m result\n",
      "File \u001b[0;32m/depot/cms/kernels/coffea2024/lib/python3.10/site-packages/dask/base.py:665\u001b[0m, in \u001b[0;36mcompute\u001b[0;34m(traverse, optimize_graph, scheduler, get, *args, **kwargs)\u001b[0m\n\u001b[1;32m    662\u001b[0m     postcomputes\u001b[38;5;241m.\u001b[39mappend(x\u001b[38;5;241m.\u001b[39m__dask_postcompute__())\n\u001b[1;32m    664\u001b[0m \u001b[38;5;28;01mwith\u001b[39;00m shorten_traceback():\n\u001b[0;32m--> 665\u001b[0m     results \u001b[38;5;241m=\u001b[39m \u001b[43mschedule\u001b[49m\u001b[43m(\u001b[49m\u001b[43mdsk\u001b[49m\u001b[43m,\u001b[49m\u001b[43m \u001b[49m\u001b[43mkeys\u001b[49m\u001b[43m,\u001b[49m\u001b[43m \u001b[49m\u001b[38;5;241;43m*\u001b[39;49m\u001b[38;5;241;43m*\u001b[39;49m\u001b[43mkwargs\u001b[49m\u001b[43m)\u001b[49m\n\u001b[1;32m    667\u001b[0m \u001b[38;5;28;01mreturn\u001b[39;00m repack([f(r, \u001b[38;5;241m*\u001b[39ma) \u001b[38;5;28;01mfor\u001b[39;00m r, (f, a) \u001b[38;5;129;01min\u001b[39;00m \u001b[38;5;28mzip\u001b[39m(results, postcomputes)])\n",
      "File \u001b[0;32m/depot/cms/kernels/coffea2024/lib/python3.10/site-packages/dask_awkward/lib/core.py:1885\u001b[0m, in \u001b[0;36mArgsKwargsPackedFunction.__call__\u001b[0;34m(self, *args_deps_expanded)\u001b[0m\n\u001b[1;32m   1883\u001b[0m     len_args \u001b[38;5;241m+\u001b[39m\u001b[38;5;241m=\u001b[39m n_args\n\u001b[1;32m   1884\u001b[0m kwargs \u001b[38;5;241m=\u001b[39m \u001b[38;5;28mself\u001b[39m\u001b[38;5;241m.\u001b[39mkwarg_repacker(args_deps_expanded[len_args:])[\u001b[38;5;241m0\u001b[39m]\n\u001b[0;32m-> 1885\u001b[0m \u001b[38;5;28;01mreturn\u001b[39;00m \u001b[38;5;28;43mself\u001b[39;49m\u001b[38;5;241;43m.\u001b[39;49m\u001b[43mfn\u001b[49m\u001b[43m(\u001b[49m\u001b[38;5;241;43m*\u001b[39;49m\u001b[43margs\u001b[49m\u001b[43m,\u001b[49m\u001b[43m \u001b[49m\u001b[38;5;241;43m*\u001b[39;49m\u001b[38;5;241;43m*\u001b[39;49m\u001b[43mkwargs\u001b[49m\u001b[43m)\u001b[49m\n",
      "File \u001b[0;32m/depot/cms/kernels/coffea2024/lib/python3.10/site-packages/awkward/highlevel.py:1060\u001b[0m, in \u001b[0;36mArray.__getitem__\u001b[0;34m(self, where)\u001b[0m\n\u001b[1;32m    631\u001b[0m \u001b[38;5;28;01mdef\u001b[39;00m \u001b[38;5;21m__getitem__\u001b[39m(\u001b[38;5;28mself\u001b[39m, where):\n\u001b[1;32m    632\u001b[0m \u001b[38;5;250m    \u001b[39m\u001b[38;5;124;03m\"\"\"\u001b[39;00m\n\u001b[1;32m    633\u001b[0m \u001b[38;5;124;03m    Args:\u001b[39;00m\n\u001b[1;32m    634\u001b[0m \u001b[38;5;124;03m        where (many types supported; see below): Index of positions to\u001b[39;00m\n\u001b[0;32m   (...)\u001b[0m\n\u001b[1;32m   1058\u001b[0m \u001b[38;5;124;03m    have the same dimension as the array being indexed.\u001b[39;00m\n\u001b[1;32m   1059\u001b[0m \u001b[38;5;124;03m    \"\"\"\u001b[39;00m\n\u001b[0;32m-> 1060\u001b[0m     \u001b[38;5;28;01mwith\u001b[39;00m ak\u001b[38;5;241m.\u001b[39m_errors\u001b[38;5;241m.\u001b[39mSlicingErrorContext(\u001b[38;5;28mself\u001b[39m, where):\n\u001b[1;32m   1061\u001b[0m         \u001b[38;5;28;01mreturn\u001b[39;00m wrap_layout(\n\u001b[1;32m   1062\u001b[0m             prepare_layout(\u001b[38;5;28mself\u001b[39m\u001b[38;5;241m.\u001b[39m_layout[where]),\n\u001b[1;32m   1063\u001b[0m             \u001b[38;5;28mself\u001b[39m\u001b[38;5;241m.\u001b[39m_behavior,\n\u001b[1;32m   1064\u001b[0m             allow_other\u001b[38;5;241m=\u001b[39m\u001b[38;5;28;01mTrue\u001b[39;00m,\n\u001b[1;32m   1065\u001b[0m             attrs\u001b[38;5;241m=\u001b[39m\u001b[38;5;28mself\u001b[39m\u001b[38;5;241m.\u001b[39m_attrs,\n\u001b[1;32m   1066\u001b[0m         )\n",
      "File \u001b[0;32m/depot/cms/kernels/coffea2024/lib/python3.10/site-packages/awkward/_errors.py:85\u001b[0m, in \u001b[0;36mErrorContext.__exit__\u001b[0;34m(self, exception_type, exception_value, traceback)\u001b[0m\n\u001b[1;32m     78\u001b[0m \u001b[38;5;28;01mtry\u001b[39;00m:\n\u001b[1;32m     79\u001b[0m     \u001b[38;5;66;03m# Handle caught exception\u001b[39;00m\n\u001b[1;32m     80\u001b[0m     \u001b[38;5;28;01mif\u001b[39;00m (\n\u001b[1;32m     81\u001b[0m         exception_type \u001b[38;5;129;01mis\u001b[39;00m \u001b[38;5;129;01mnot\u001b[39;00m \u001b[38;5;28;01mNone\u001b[39;00m\n\u001b[1;32m     82\u001b[0m         \u001b[38;5;129;01mand\u001b[39;00m \u001b[38;5;28missubclass\u001b[39m(exception_type, \u001b[38;5;167;01mException\u001b[39;00m)\n\u001b[1;32m     83\u001b[0m         \u001b[38;5;129;01mand\u001b[39;00m \u001b[38;5;28mself\u001b[39m\u001b[38;5;241m.\u001b[39mprimary() \u001b[38;5;129;01mis\u001b[39;00m \u001b[38;5;28mself\u001b[39m\n\u001b[1;32m     84\u001b[0m     ):\n\u001b[0;32m---> 85\u001b[0m         \u001b[38;5;28;43mself\u001b[39;49m\u001b[38;5;241;43m.\u001b[39;49m\u001b[43mhandle_exception\u001b[49m\u001b[43m(\u001b[49m\u001b[43mexception_type\u001b[49m\u001b[43m,\u001b[49m\u001b[43m \u001b[49m\u001b[43mexception_value\u001b[49m\u001b[43m)\u001b[49m\n\u001b[1;32m     86\u001b[0m \u001b[38;5;28;01mfinally\u001b[39;00m:\n\u001b[1;32m     87\u001b[0m     \u001b[38;5;66;03m# Step out of the way so that another ErrorContext can become primary.\u001b[39;00m\n\u001b[1;32m     88\u001b[0m     \u001b[38;5;28;01mif\u001b[39;00m \u001b[38;5;28mself\u001b[39m\u001b[38;5;241m.\u001b[39mprimary() \u001b[38;5;129;01mis\u001b[39;00m \u001b[38;5;28mself\u001b[39m:\n",
      "File \u001b[0;32m/depot/cms/kernels/coffea2024/lib/python3.10/site-packages/awkward/_errors.py:95\u001b[0m, in \u001b[0;36mErrorContext.handle_exception\u001b[0;34m(self, cls, exception)\u001b[0m\n\u001b[1;32m     93\u001b[0m     \u001b[38;5;28mself\u001b[39m\u001b[38;5;241m.\u001b[39mdecorate_exception(\u001b[38;5;28mcls\u001b[39m, exception)\n\u001b[1;32m     94\u001b[0m \u001b[38;5;28;01melse\u001b[39;00m:\n\u001b[0;32m---> 95\u001b[0m     \u001b[38;5;28;01mraise\u001b[39;00m \u001b[38;5;28mself\u001b[39m\u001b[38;5;241m.\u001b[39mdecorate_exception(\u001b[38;5;28mcls\u001b[39m, exception)\n",
      "\u001b[0;31mIndexError\u001b[0m: cannot slice ListArray (of length 999000) with array(0): index out of range while attempting to get index 0 (in compiled code: https://github.com/scikit-hep/awkward/blob/awkward-cpp-28/awkward-cpp/src/cpu-kernels/awkward_ListArray_getitem_next_at.cpp#L21)\n\nThis error occurred while attempting to slice\n\n    repr-raised-TypeError\n\nwith\n\n    (:, 0)"
     ]
    }
   ],
   "source": [
    "muTrigPasses = events.TrigObj[bool_filter]\n",
    "muTrigPasses.delta_r(events.Muon[:,0]).compute()"
   ]
  },
  {
   "cell_type": "code",
   "execution_count": 135,
   "id": "4f11fed3-ad3e-4778-a3a0-1e9a08dc47b0",
   "metadata": {},
   "outputs": [],
   "source": [
    "\n",
    "# mmevents = events[ak.num(events.Muon) > 2]"
   ]
  },
  {
   "cell_type": "code",
   "execution_count": 12,
   "id": "f2c16980-5f2d-40e0-b691-02394db1233d",
   "metadata": {},
   "outputs": [],
   "source": [
    "eventMu =events.Muon.compute()"
   ]
  },
  {
   "cell_type": "code",
   "execution_count": 14,
   "id": "3aa9aeda-9c00-47f9-95bd-d6a52baa7a9e",
   "metadata": {},
   "outputs": [
    {
     "data": {
      "text/plain": [
       "coffea.nanoevents.methods.nanoaod.MuonArray"
      ]
     },
     "execution_count": 14,
     "metadata": {},
     "output_type": "execute_result"
    }
   ],
   "source": [
    "type(eventMu)"
   ]
  },
  {
   "cell_type": "code",
   "execution_count": 21,
   "id": "54f5bc9f-3360-4254-9f0a-3024b9782013",
   "metadata": {},
   "outputs": [],
   "source": [
    "mevents = events[ak.num(events.Muon) >0][:40]\n",
    "meventMu =mevents.Muon.compute()"
   ]
  },
  {
   "cell_type": "code",
   "execution_count": 19,
   "id": "333f0962-4b15-4ae4-9f64-95b9f8e76b1c",
   "metadata": {},
   "outputs": [
    {
     "data": {
      "text/plain": [
       "40"
      ]
     },
     "execution_count": 19,
     "metadata": {},
     "output_type": "execute_result"
    }
   ],
   "source": [
    "len(meventMu)"
   ]
  },
  {
   "cell_type": "code",
   "execution_count": 22,
   "id": "c68d009b-96ab-49a8-8067-9c52dce920dd",
   "metadata": {},
   "outputs": [],
   "source": [
    "# mevents.Muon[:,0].delta_r(mevents.Muon).compute()\n",
    "# events.Muon[:,0].delta_r(events.Muon).compute()\n",
    "nearest_test = (mevents.Muon.nearest(mevents.Electron)).compute()"
   ]
  },
  {
   "cell_type": "code",
   "execution_count": 40,
   "id": "fd3ef926-9341-460b-bd06-09e85438888e",
   "metadata": {},
   "outputs": [
    {
     "data": {
      "text/html": [
       "<pre>[[None],\n",
       " [None, None],\n",
       " [None, None],\n",
       " [None],\n",
       " [{dEscaleDown: 0, dEscaleUp: 0, dEsigmaDown: 0, dEsigmaUp: 0, ...}],\n",
       " [None],\n",
       " [Electron, Electron],\n",
       " [None],\n",
       " [None, None],\n",
       " [{dEscaleDown: 0, dEscaleUp: 0, dEsigmaDown: -0.00516, dEsigmaUp: ..., ...}],\n",
       " ...,\n",
       " [None],\n",
       " [None, None, None],\n",
       " [None, None],\n",
       " [None],\n",
       " [None, None],\n",
       " [None, None],\n",
       " [None],\n",
       " [None],\n",
       " [None, None]]\n",
       "--------------------------------------------------------------------------------------------------------------------------------------------------------------------------------------------------------------------------------------------------------------------------------------------------------------------------------------------------------------------------------\n",
       "type: 40 * var * ?Electron[\n",
       "    dEscaleDown: float32[parameters={&quot;__doc__&quot;: &quot;ecal energy scale shifted 1 sigma down (adding gain/stat/syst in quadrature)&quot;}],\n",
       "    dEscaleUp: float32[parameters={&quot;__doc__&quot;: &quot;ecal energy scale shifted 1 sigma up(adding gain/stat/syst in quadrature)&quot;}],\n",
       "    dEsigmaDown: float32[parameters={&quot;__doc__&quot;: &quot;ecal energy smearing value shifted 1 sigma up&quot;}],\n",
       "    dEsigmaUp: float32[parameters={&quot;__doc__&quot;: &quot;ecal energy smearing value shifted 1 sigma up&quot;}],\n",
       "    deltaEtaSC: float32[parameters={&quot;__doc__&quot;: &quot;delta eta (SC,ele) with sign&quot;}],\n",
       "    dr03EcalRecHitSumEt: float32[parameters={&quot;__doc__&quot;: &quot;Non-PF Ecal isolation within a delta R cone of 0.3 with electron pt &gt; 35 GeV&quot;}],\n",
       "    dr03HcalDepth1TowerSumEt: float32[parameters={&quot;__doc__&quot;: &quot;Non-PF Hcal isolation within a delta R cone of 0.3 with electron pt &gt; 35 GeV&quot;}],\n",
       "    dr03TkSumPt: float32[parameters={&quot;__doc__&quot;: &quot;Non-PF track isolation within a delta R cone of 0.3 with electron pt &gt; 35 GeV&quot;}],\n",
       "    dr03TkSumPtHEEP: float32[parameters={&quot;__doc__&quot;: &quot;Non-PF track isolation within a delta R cone of 0.3 with electron pt &gt; 35 GeV used in HEEP ID&quot;}],\n",
       "    dxy: float32[parameters={&quot;__doc__&quot;: &quot;dxy (with sign) wrt first PV, in cm&quot;}],\n",
       "    dxyErr: float32[parameters={&quot;__doc__&quot;: &quot;dxy uncertainty, in cm&quot;}],\n",
       "    dz: float32[parameters={&quot;__doc__&quot;: &quot;dz (with sign) wrt first PV, in cm&quot;}],\n",
       "    dzErr: float32[parameters={&quot;__doc__&quot;: &quot;dz uncertainty, in cm&quot;}],\n",
       "    eCorr: float32[parameters={&quot;__doc__&quot;: &quot;ratio of the calibrated energy/miniaod energy&quot;}],\n",
       "    eInvMinusPInv: float32[parameters={&quot;__doc__&quot;: &quot;1/E_SC - 1/p_trk&quot;}],\n",
       "    energyErr: float32[parameters={&quot;__doc__&quot;: &quot;energy error of the cluster-track combination&quot;}],\n",
       "    eta: float32[parameters={&quot;__doc__&quot;: &quot;eta&quot;}],\n",
       "    hoe: float32[parameters={&quot;__doc__&quot;: &quot;H over E&quot;}],\n",
       "    ip3d: float32[parameters={&quot;__doc__&quot;: &quot;3D impact parameter wrt first PV, in cm&quot;}],\n",
       "    jetPtRelv2: float32[parameters={&quot;__doc__&quot;: &quot;Relative momentum of the lepton with respect to the closest jet after subtracting the lepton&quot;}],\n",
       "    jetRelIso: float32[parameters={&quot;__doc__&quot;: &quot;Relative isolation in matched jet (1/ptRatio-1, pfRelIso04_all if no matched jet)&quot;}],\n",
       "    mass: float32[parameters={&quot;__doc__&quot;: &quot;mass&quot;}],\n",
       "    miniPFRelIso_all: float32[parameters={&quot;__doc__&quot;: &quot;mini PF relative isolation, total (with scaled rho*EA PU corrections)&quot;}],\n",
       "    miniPFRelIso_chg: float32[parameters={&quot;__doc__&quot;: &quot;mini PF relative isolation, charged component&quot;}],\n",
       "    mvaFall17V2Iso: float32[parameters={&quot;__doc__&quot;: &quot;MVA Iso ID V2 score&quot;}],\n",
       "    mvaFall17V2noIso: float32[parameters={&quot;__doc__&quot;: &quot;MVA noIso ID V2 score&quot;}],\n",
       "    pfRelIso03_all: float32[parameters={&quot;__doc__&quot;: &quot;PF relative isolation dR=0.3, total (with rho*EA PU corrections)&quot;}],\n",
       "    pfRelIso03_chg: float32[parameters={&quot;__doc__&quot;: &quot;PF relative isolation dR=0.3, charged component&quot;}],\n",
       "    phi: float32[parameters={&quot;__doc__&quot;: &quot;phi&quot;}],\n",
       "    pt: float32[parameters={&quot;__doc__&quot;: &quot;p_{T}&quot;}],\n",
       "    r9: float32[parameters={&quot;__doc__&quot;: &quot;R9 of the supercluster, calculated with full 5x5 region&quot;}],\n",
       "    scEtOverPt: float32[parameters={&quot;__doc__&quot;: &quot;(supercluster transverse energy)/pt-1&quot;}],\n",
       "    sieie: float32[parameters={&quot;__doc__&quot;: &quot;sigma_IetaIeta of the supercluster, calculated with full 5x5 region&quot;}],\n",
       "    sip3d: float32[parameters={&quot;__doc__&quot;: &quot;3D impact parameter significance wrt first PV, in cm&quot;}],\n",
       "    mvaTTH: float32[parameters={&quot;__doc__&quot;: &quot;TTH MVA lepton ID score&quot;}],\n",
       "    charge: int32[parameters={&quot;__doc__&quot;: &quot;electric charge&quot;}],\n",
       "    cutBased: int32[parameters={&quot;__doc__&quot;: &quot;cut-based ID Fall17 V2 (0:fail, 1:veto, 2:loose, 3:medium, 4:tight)&quot;}],\n",
       "    jetIdx: int32[parameters={&quot;__doc__&quot;: &quot;index of the associated jet (-1 if none)&quot;}],\n",
       "    pdgId: int32[parameters={&quot;__doc__&quot;: &quot;PDG code assigned by the event reconstruction (not by MC truth)&quot;}],\n",
       "    photonIdx: int32[parameters={&quot;__doc__&quot;: &quot;index of the associated photon (-1 if none)&quot;}],\n",
       "    tightCharge: int32[parameters={&quot;__doc__&quot;: &quot;Tight charge criteria (0:none, 1:isGsfScPixChargeConsistent, 2:isGsfCtfScPixChargeConsistent)&quot;}],\n",
       "    vidNestedWPBitmap: int32[parameters={&quot;__doc__&quot;: &quot;VID compressed bitmap (MinPtCut,GsfEleSCEtaMultiRangeCut,GsfEleDEtaInSeedCut,GsfEleDPhiInCut,GsfEleFull5x5SigmaIEtaIEtaCut,GsfEleHadronicOverEMEnergyScaledCut,GsfEleEInverseMinusPInverseCut,GsfEleRelPFIsoScaledCut,GsfEleConversionVetoCut,GsfEleMissingHitsCut), 3 bits per cut&quot;}],\n",
       "    vidNestedWPBitmapHEEP: int32[parameters={&quot;__doc__&quot;: &quot;VID compressed bitmap (MinPtCut,GsfEleSCEtaMultiRangeCut,GsfEleDEtaInSeedCut,GsfEleDPhiInCut,GsfEleFull5x5SigmaIEtaIEtaWithSatCut,GsfEleFull5x5E2x5OverE5x5WithSatCut,GsfEleHadronicOverEMLinearCut,GsfEleTrkPtIsoCut,GsfEleEmHadD1IsoRhoCut,GsfEleDxyCut,GsfEleMissingHitsCut,GsfEleEcalDrivenCut), 1 bits per cut&quot;}],\n",
       "    convVeto: bool[parameters={&quot;__doc__&quot;: &quot;pass conversion veto&quot;}],\n",
       "    cutBased_HEEP: bool[parameters={&quot;__doc__&quot;: &quot;cut-based HEEP ID&quot;}],\n",
       "    isPFcand: bool[parameters={&quot;__doc__&quot;: &quot;electron is PF candidate&quot;}],\n",
       "    jetNDauCharged: uint8[parameters={&quot;__doc__&quot;: &quot;number of charged daughters of the closest jet&quot;}],\n",
       "    lostHits: uint8[parameters={&quot;__doc__&quot;: &quot;number of missing inner hits&quot;}],\n",
       "    mvaFall17V2Iso_WP80: bool[parameters={&quot;__doc__&quot;: &quot;MVA Iso ID V2 WP80&quot;}],\n",
       "    mvaFall17V2Iso_WP90: bool[parameters={&quot;__doc__&quot;: &quot;MVA Iso ID V2 WP90&quot;}],\n",
       "    mvaFall17V2Iso_WPL: bool[parameters={&quot;__doc__&quot;: &quot;MVA Iso ID V2 loose WP&quot;}],\n",
       "    mvaFall17V2noIso_WP80: bool[parameters={&quot;__doc__&quot;: &quot;MVA noIso ID V2 WP80&quot;}],\n",
       "    mvaFall17V2noIso_WP90: bool[parameters={&quot;__doc__&quot;: &quot;MVA noIso ID V2 WP90&quot;}],\n",
       "    mvaFall17V2noIso_WPL: bool[parameters={&quot;__doc__&quot;: &quot;MVA noIso ID V2 loose WP&quot;}],\n",
       "    seedGain: uint8[parameters={&quot;__doc__&quot;: &quot;Gain of the seed crystal&quot;}],\n",
       "    genPartIdx: int32[parameters={&quot;__doc__&quot;: &quot;Index into genParticle list for MC matching to status==1 electrons or photons&quot;}],\n",
       "    genPartFlav: uint8[parameters={&quot;__doc__&quot;: &quot;Flavour of genParticle (DressedLeptons for electrons) for MC matching to status==1 electrons or photons: 1 = prompt electron (including gamma*-&gt;mu mu), 15 = electron from prompt tau, 22 = prompt photon (likely conversion), 5 = electron from b, 4 = electron from c, 3 = electron from light or unknown, 0 = unmatched&quot;}],\n",
       "    cleanmask: uint8[parameters={&quot;__doc__&quot;: &quot;simple cleaning mask with priority to leptons&quot;}],\n",
       "    genPartIdxG: int64[parameters={&quot;__doc__&quot;: &quot;Index into genParticle list for MC matching to status==1 electrons or photons&quot;}],\n",
       "    jetIdxG: int64[parameters={&quot;__doc__&quot;: &quot;index of the associated jet (-1 if none)&quot;}],\n",
       "    photonIdxG: int64[parameters={&quot;__doc__&quot;: &quot;index of the associated photon (-1 if none)&quot;}], \n",
       "parameters={&quot;__doc__&quot;: &quot;slimmedElectrons after basic selection (pt &gt; 5 )&quot;, &quot;collection_name&quot;: &quot;Electron&quot;}]</pre>"
      ],
      "text/plain": [
       "<ElectronArray [[None], [None, ...], ..., [None, None]] type='40 * var * ?E...'>"
      ]
     },
     "execution_count": 40,
     "metadata": {},
     "output_type": "execute_result"
    }
   ],
   "source": [
    "nearest_test"
   ]
  },
  {
   "cell_type": "code",
   "execution_count": 45,
   "id": "c5138e5c-0736-4989-9170-507916b682c6",
   "metadata": {},
   "outputs": [
    {
     "name": "stdout",
     "output_type": "stream",
     "text": [
      "<class 'coffea.nanoevents.methods.nanoaod.ElectronRecord'>\n",
      "<class 'coffea.nanoevents.methods.nanoaod.ElectronRecord'>\n"
     ]
    }
   ],
   "source": [
    "print(type(nearest_test[4,0]))\n",
    "print(type(nearest_test[6,1]))\n",
    "# print((nearest_test[4]))\n",
    "# print((nearest_test[6]))"
   ]
  },
  {
   "cell_type": "code",
   "execution_count": null,
   "id": "2ee2ddeb-66fd-44ec-87d3-8ad54ccb9a4a",
   "metadata": {},
   "outputs": [],
   "source": []
  },
  {
   "cell_type": "code",
   "execution_count": 128,
   "id": "cc3a5323-d401-4b62-9d2a-2075a04373da",
   "metadata": {},
   "outputs": [
    {
     "data": {
      "text/plain": [
       "dask.awkward<delta-r, npartitions=1>"
      ]
     },
     "execution_count": 128,
     "metadata": {},
     "output_type": "execute_result"
    }
   ],
   "source": [
    "# events.Electron.delta_r(events.Muon[:,0]).compute()\n",
    "events.Muon[:,0].delta_r(events.Muon).compute()"
   ]
  },
  {
   "cell_type": "code",
   "execution_count": 125,
   "id": "73949c41-c28c-4ea3-8e1b-6901da25039e",
   "metadata": {},
   "outputs": [
    {
     "ename": "KeyboardInterrupt",
     "evalue": "",
     "output_type": "error",
     "traceback": [
      "\u001b[0;31m---------------------------------------------------------------------------\u001b[0m",
      "\u001b[0;31mKeyboardInterrupt\u001b[0m                         Traceback (most recent call last)",
      "Cell \u001b[0;32mIn[125], line 1\u001b[0m\n\u001b[0;32m----> 1\u001b[0m \u001b[43mevents\u001b[49m\u001b[38;5;241;43m.\u001b[39;49m\u001b[43mMuon\u001b[49m\u001b[43m[\u001b[49m\u001b[43m:\u001b[49m\u001b[43m,\u001b[49m\u001b[38;5;241;43m0\u001b[39;49m\u001b[43m]\u001b[49m\u001b[38;5;241;43m.\u001b[39;49m\u001b[43mcompute\u001b[49m\u001b[43m(\u001b[49m\u001b[43m)\u001b[49m\n",
      "File \u001b[0;32m/depot/cms/kernels/coffea2024/lib/python3.10/site-packages/dask/base.py:379\u001b[0m, in \u001b[0;36mDaskMethodsMixin.compute\u001b[0;34m(self, **kwargs)\u001b[0m\n\u001b[1;32m    355\u001b[0m \u001b[38;5;28;01mdef\u001b[39;00m \u001b[38;5;21mcompute\u001b[39m(\u001b[38;5;28mself\u001b[39m, \u001b[38;5;241m*\u001b[39m\u001b[38;5;241m*\u001b[39mkwargs):\n\u001b[1;32m    356\u001b[0m \u001b[38;5;250m    \u001b[39m\u001b[38;5;124;03m\"\"\"Compute this dask collection\u001b[39;00m\n\u001b[1;32m    357\u001b[0m \n\u001b[1;32m    358\u001b[0m \u001b[38;5;124;03m    This turns a lazy Dask collection into its in-memory equivalent.\u001b[39;00m\n\u001b[0;32m   (...)\u001b[0m\n\u001b[1;32m    377\u001b[0m \u001b[38;5;124;03m    dask.compute\u001b[39;00m\n\u001b[1;32m    378\u001b[0m \u001b[38;5;124;03m    \"\"\"\u001b[39;00m\n\u001b[0;32m--> 379\u001b[0m     (result,) \u001b[38;5;241m=\u001b[39m \u001b[43mcompute\u001b[49m\u001b[43m(\u001b[49m\u001b[38;5;28;43mself\u001b[39;49m\u001b[43m,\u001b[49m\u001b[43m \u001b[49m\u001b[43mtraverse\u001b[49m\u001b[38;5;241;43m=\u001b[39;49m\u001b[38;5;28;43;01mFalse\u001b[39;49;00m\u001b[43m,\u001b[49m\u001b[43m \u001b[49m\u001b[38;5;241;43m*\u001b[39;49m\u001b[38;5;241;43m*\u001b[39;49m\u001b[43mkwargs\u001b[49m\u001b[43m)\u001b[49m\n\u001b[1;32m    380\u001b[0m     \u001b[38;5;28;01mreturn\u001b[39;00m result\n",
      "File \u001b[0;32m/depot/cms/kernels/coffea2024/lib/python3.10/site-packages/dask/base.py:665\u001b[0m, in \u001b[0;36mcompute\u001b[0;34m(traverse, optimize_graph, scheduler, get, *args, **kwargs)\u001b[0m\n\u001b[1;32m    662\u001b[0m     postcomputes\u001b[38;5;241m.\u001b[39mappend(x\u001b[38;5;241m.\u001b[39m__dask_postcompute__())\n\u001b[1;32m    664\u001b[0m \u001b[38;5;28;01mwith\u001b[39;00m shorten_traceback():\n\u001b[0;32m--> 665\u001b[0m     results \u001b[38;5;241m=\u001b[39m \u001b[43mschedule\u001b[49m\u001b[43m(\u001b[49m\u001b[43mdsk\u001b[49m\u001b[43m,\u001b[49m\u001b[43m \u001b[49m\u001b[43mkeys\u001b[49m\u001b[43m,\u001b[49m\u001b[43m \u001b[49m\u001b[38;5;241;43m*\u001b[39;49m\u001b[38;5;241;43m*\u001b[39;49m\u001b[43mkwargs\u001b[49m\u001b[43m)\u001b[49m\n\u001b[1;32m    667\u001b[0m \u001b[38;5;28;01mreturn\u001b[39;00m repack([f(r, \u001b[38;5;241m*\u001b[39ma) \u001b[38;5;28;01mfor\u001b[39;00m r, (f, a) \u001b[38;5;129;01min\u001b[39;00m \u001b[38;5;28mzip\u001b[39m(results, postcomputes)])\n",
      "File \u001b[0;32m/depot/cms/kernels/coffea2024/lib/python3.10/queue.py:171\u001b[0m, in \u001b[0;36mQueue.get\u001b[0;34m(self, block, timeout)\u001b[0m\n\u001b[1;32m    169\u001b[0m \u001b[38;5;28;01melif\u001b[39;00m timeout \u001b[38;5;129;01mis\u001b[39;00m \u001b[38;5;28;01mNone\u001b[39;00m:\n\u001b[1;32m    170\u001b[0m     \u001b[38;5;28;01mwhile\u001b[39;00m \u001b[38;5;129;01mnot\u001b[39;00m \u001b[38;5;28mself\u001b[39m\u001b[38;5;241m.\u001b[39m_qsize():\n\u001b[0;32m--> 171\u001b[0m         \u001b[38;5;28;43mself\u001b[39;49m\u001b[38;5;241;43m.\u001b[39;49m\u001b[43mnot_empty\u001b[49m\u001b[38;5;241;43m.\u001b[39;49m\u001b[43mwait\u001b[49m\u001b[43m(\u001b[49m\u001b[43m)\u001b[49m\n\u001b[1;32m    172\u001b[0m \u001b[38;5;28;01melif\u001b[39;00m timeout \u001b[38;5;241m<\u001b[39m \u001b[38;5;241m0\u001b[39m:\n\u001b[1;32m    173\u001b[0m     \u001b[38;5;28;01mraise\u001b[39;00m \u001b[38;5;167;01mValueError\u001b[39;00m(\u001b[38;5;124m\"\u001b[39m\u001b[38;5;124m'\u001b[39m\u001b[38;5;124mtimeout\u001b[39m\u001b[38;5;124m'\u001b[39m\u001b[38;5;124m must be a non-negative number\u001b[39m\u001b[38;5;124m\"\u001b[39m)\n",
      "File \u001b[0;32m/depot/cms/kernels/coffea2024/lib/python3.10/threading.py:320\u001b[0m, in \u001b[0;36mCondition.wait\u001b[0;34m(self, timeout)\u001b[0m\n\u001b[1;32m    318\u001b[0m \u001b[38;5;28;01mtry\u001b[39;00m:    \u001b[38;5;66;03m# restore state no matter what (e.g., KeyboardInterrupt)\u001b[39;00m\n\u001b[1;32m    319\u001b[0m     \u001b[38;5;28;01mif\u001b[39;00m timeout \u001b[38;5;129;01mis\u001b[39;00m \u001b[38;5;28;01mNone\u001b[39;00m:\n\u001b[0;32m--> 320\u001b[0m         \u001b[43mwaiter\u001b[49m\u001b[38;5;241;43m.\u001b[39;49m\u001b[43macquire\u001b[49m\u001b[43m(\u001b[49m\u001b[43m)\u001b[49m\n\u001b[1;32m    321\u001b[0m         gotit \u001b[38;5;241m=\u001b[39m \u001b[38;5;28;01mTrue\u001b[39;00m\n\u001b[1;32m    322\u001b[0m     \u001b[38;5;28;01melse\u001b[39;00m:\n",
      "\u001b[0;31mKeyboardInterrupt\u001b[0m: "
     ]
    }
   ],
   "source": [
    "events.Muon[:,0].compute()"
   ]
  },
  {
   "cell_type": "code",
   "execution_count": 126,
   "id": "9e08098f-15f4-486f-8758-d2938c4949e0",
   "metadata": {},
   "outputs": [
    {
     "data": {
      "text/plain": [
       "['dxy',\n",
       " 'dxyErr',\n",
       " 'dxybs',\n",
       " 'dz',\n",
       " 'dzErr',\n",
       " 'eta',\n",
       " 'ip3d',\n",
       " 'jetPtRelv2',\n",
       " 'jetRelIso',\n",
       " 'mass',\n",
       " 'miniPFRelIso_all',\n",
       " 'miniPFRelIso_chg',\n",
       " 'pfRelIso03_all',\n",
       " 'pfRelIso03_chg',\n",
       " 'pfRelIso04_all',\n",
       " 'phi',\n",
       " 'pt',\n",
       " 'ptErr',\n",
       " 'segmentComp',\n",
       " 'sip3d',\n",
       " 'softMva',\n",
       " 'tkRelIso',\n",
       " 'tunepRelPt',\n",
       " 'mvaLowPt',\n",
       " 'mvaTTH',\n",
       " 'charge',\n",
       " 'jetIdx',\n",
       " 'nStations',\n",
       " 'nTrackerLayers',\n",
       " 'pdgId',\n",
       " 'tightCharge',\n",
       " 'fsrPhotonIdx',\n",
       " 'highPtId',\n",
       " 'highPurity',\n",
       " 'inTimeMuon',\n",
       " 'isGlobal',\n",
       " 'isPFcand',\n",
       " 'isStandalone',\n",
       " 'isTracker',\n",
       " 'jetNDauCharged',\n",
       " 'looseId',\n",
       " 'mediumId',\n",
       " 'mediumPromptId',\n",
       " 'miniIsoId',\n",
       " 'multiIsoId',\n",
       " 'mvaId',\n",
       " 'mvaLowPtId',\n",
       " 'pfIsoId',\n",
       " 'puppiIsoId',\n",
       " 'softId',\n",
       " 'softMvaId',\n",
       " 'tightId',\n",
       " 'tkIsoId',\n",
       " 'triggerIdLoose',\n",
       " 'genPartIdx',\n",
       " 'genPartFlav',\n",
       " 'cleanmask',\n",
       " 'fsrPhotonIdxG',\n",
       " 'genPartIdxG',\n",
       " 'jetIdxG']"
      ]
     },
     "execution_count": 126,
     "metadata": {},
     "output_type": "execute_result"
    }
   ],
   "source": [
    "events.Muon[:,0].fields"
   ]
  },
  {
   "cell_type": "code",
   "execution_count": null,
   "id": "6c24b58d-c3aa-4a35-b0f1-9cac733f4ef2",
   "metadata": {},
   "outputs": [],
   "source": []
  }
 ],
 "metadata": {
  "kernelspec": {
   "display_name": "Python [conda env:coffea2024]",
   "language": "python",
   "name": "conda-env-coffea2024-py"
  },
  "language_info": {
   "codemirror_mode": {
    "name": "ipython",
    "version": 3
   },
   "file_extension": ".py",
   "mimetype": "text/x-python",
   "name": "python",
   "nbconvert_exporter": "python",
   "pygments_lexer": "ipython3",
   "version": "3.10.13"
  }
 },
 "nbformat": 4,
 "nbformat_minor": 5
}
