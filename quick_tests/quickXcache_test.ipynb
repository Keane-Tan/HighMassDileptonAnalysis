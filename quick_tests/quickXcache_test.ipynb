{
 "cells": [
  {
   "cell_type": "code",
   "execution_count": null,
   "id": "ac12a9cd-ce10-44d5-a708-abdab8a9db68",
   "metadata": {},
   "outputs": [],
   "source": [
    "full_load_path = load_path+f\"/{sample}/*.parquet\"\n",
    "ak_zip = dak.from_parquet(full_load_path)"
   ]
  },
  {
   "cell_type": "code",
   "execution_count": null,
   "id": "63563d1f-d601-428a-a38f-26f769116a21",
   "metadata": {},
   "outputs": [],
   "source": [
    "ak_zip.fields"
   ]
  },
  {
   "cell_type": "code",
   "execution_count": null,
   "id": "5d9e1c0a-ef44-40d9-978d-44e5be7593d6",
   "metadata": {},
   "outputs": [],
   "source": [
    "var = ak_zip[\"region\"]"
   ]
  },
  {
   "cell_type": "code",
   "execution_count": 2,
   "id": "e49638a3-e90e-44d9-bfdb-15aeafaeb62b",
   "metadata": {
    "scrolled": true
   },
   "outputs": [
    {
     "name": "stderr",
     "output_type": "stream",
     "text": [
      "/depot/cms/kernels/coffea2024/lib/python3.10/site-packages/distributed/node.py:182: UserWarning: Port 8787 is already in use.\n",
      "Perhaps you already have a cluster running?\n",
      "Hosting the HTTP server on port 41471 instead\n",
      "  warnings.warn(\n",
      "/depot/cms/kernels/coffea2024/lib/python3.10/site-packages/distributed/client.py:3162: UserWarning: Sending large graph of size 18.51 MiB.\n",
      "This may cause some slowdown.\n",
      "Consider scattering data ahead of time and using futures.\n",
      "  warnings.warn(\n"
     ]
    },
    {
     "name": "stdout",
     "output_type": "stream",
     "text": [
      "root: [[], [], [20], [68.6, 9.74], [28.8], ..., [...], [25.2], [], [17.1], [54.6]]\n",
      "1: 8.250097512733191\n"
     ]
    },
    {
     "name": "stderr",
     "output_type": "stream",
     "text": [
      "/depot/cms/kernels/coffea2024/lib/python3.10/site-packages/distributed/node.py:182: UserWarning: Port 8787 is already in use.\n",
      "Perhaps you already have a cluster running?\n",
      "Hosting the HTTP server on port 41353 instead\n",
      "  warnings.warn(\n"
     ]
    },
    {
     "name": "stdout",
     "output_type": "stream",
     "text": [
      "root: [[], [], [20], [68.6, 9.74], [28.8], ..., [...], [25.2], [], [17.1], [54.6]]\n",
      "2: 7.52061769599095\n"
     ]
    },
    {
     "name": "stderr",
     "output_type": "stream",
     "text": [
      "/depot/cms/kernels/coffea2024/lib/python3.10/site-packages/distributed/node.py:182: UserWarning: Port 8787 is already in use.\n",
      "Perhaps you already have a cluster running?\n",
      "Hosting the HTTP server on port 36435 instead\n",
      "  warnings.warn(\n"
     ]
    },
    {
     "name": "stdout",
     "output_type": "stream",
     "text": [
      "root: [[], [], [20], [68.6, 9.74], [28.8], ..., [...], [25.2], [], [17.1], [54.6]]\n",
      "3: 7.30718805314973\n"
     ]
    },
    {
     "name": "stderr",
     "output_type": "stream",
     "text": [
      "/depot/cms/kernels/coffea2024/lib/python3.10/site-packages/distributed/node.py:182: UserWarning: Port 8787 is already in use.\n",
      "Perhaps you already have a cluster running?\n",
      "Hosting the HTTP server on port 35691 instead\n",
      "  warnings.warn(\n"
     ]
    },
    {
     "name": "stdout",
     "output_type": "stream",
     "text": [
      "root: [[], [], [20], [68.6, 9.74], [28.8], ..., [...], [25.2], [], [17.1], [54.6]]\n",
      "4: 7.44732133904472\n"
     ]
    },
    {
     "name": "stderr",
     "output_type": "stream",
     "text": [
      "/depot/cms/kernels/coffea2024/lib/python3.10/site-packages/distributed/node.py:182: UserWarning: Port 8787 is already in use.\n",
      "Perhaps you already have a cluster running?\n",
      "Hosting the HTTP server on port 34335 instead\n",
      "  warnings.warn(\n"
     ]
    },
    {
     "name": "stdout",
     "output_type": "stream",
     "text": [
      "root: [[], [], [20], [68.6, 9.74], [28.8], ..., [...], [25.2], [], [17.1], [54.6]]\n",
      "5: 7.675672775134444\n"
     ]
    },
    {
     "name": "stderr",
     "output_type": "stream",
     "text": [
      "/depot/cms/kernels/coffea2024/lib/python3.10/site-packages/distributed/node.py:182: UserWarning: Port 8787 is already in use.\n",
      "Perhaps you already have a cluster running?\n",
      "Hosting the HTTP server on port 39287 instead\n",
      "  warnings.warn(\n"
     ]
    },
    {
     "name": "stdout",
     "output_type": "stream",
     "text": [
      "root: [[], [], [20], [68.6, 9.74], [28.8], ..., [...], [25.2], [], [17.1], [54.6]]\n",
      "6: 7.929001154843718\n"
     ]
    },
    {
     "name": "stderr",
     "output_type": "stream",
     "text": [
      "/depot/cms/kernels/coffea2024/lib/python3.10/site-packages/distributed/node.py:182: UserWarning: Port 8787 is already in use.\n",
      "Perhaps you already have a cluster running?\n",
      "Hosting the HTTP server on port 43701 instead\n",
      "  warnings.warn(\n"
     ]
    },
    {
     "name": "stdout",
     "output_type": "stream",
     "text": [
      "root: [[], [], [20], [68.6, 9.74], [28.8], ..., [...], [25.2], [], [17.1], [54.6]]\n",
      "7: 7.5363332773558795\n"
     ]
    },
    {
     "name": "stderr",
     "output_type": "stream",
     "text": [
      "/depot/cms/kernels/coffea2024/lib/python3.10/site-packages/distributed/node.py:182: UserWarning: Port 8787 is already in use.\n",
      "Perhaps you already have a cluster running?\n",
      "Hosting the HTTP server on port 39939 instead\n",
      "  warnings.warn(\n"
     ]
    },
    {
     "name": "stdout",
     "output_type": "stream",
     "text": [
      "root: [[], [], [20], [68.6, 9.74], [28.8], ..., [...], [25.2], [], [17.1], [54.6]]\n",
      "8: 7.90363054163754\n"
     ]
    },
    {
     "name": "stderr",
     "output_type": "stream",
     "text": [
      "/depot/cms/kernels/coffea2024/lib/python3.10/site-packages/distributed/node.py:182: UserWarning: Port 8787 is already in use.\n",
      "Perhaps you already have a cluster running?\n",
      "Hosting the HTTP server on port 42283 instead\n",
      "  warnings.warn(\n"
     ]
    },
    {
     "name": "stdout",
     "output_type": "stream",
     "text": [
      "root: [[], [], [20], [68.6, 9.74], [28.8], ..., [...], [25.2], [], [17.1], [54.6]]\n",
      "9: 7.998250199947506\n"
     ]
    },
    {
     "name": "stderr",
     "output_type": "stream",
     "text": [
      "/depot/cms/kernels/coffea2024/lib/python3.10/site-packages/distributed/node.py:182: UserWarning: Port 8787 is already in use.\n",
      "Perhaps you already have a cluster running?\n",
      "Hosting the HTTP server on port 45083 instead\n",
      "  warnings.warn(\n"
     ]
    },
    {
     "name": "stdout",
     "output_type": "stream",
     "text": [
      "root: [[], [], [20], [68.6, 9.74], [28.8], ..., [...], [25.2], [], [17.1], [54.6]]\n",
      "10: 7.8811815599910915\n"
     ]
    },
    {
     "name": "stderr",
     "output_type": "stream",
     "text": [
      "/depot/cms/kernels/coffea2024/lib/python3.10/site-packages/distributed/node.py:182: UserWarning: Port 8787 is already in use.\n",
      "Perhaps you already have a cluster running?\n",
      "Hosting the HTTP server on port 36315 instead\n",
      "  warnings.warn(\n"
     ]
    },
    {
     "name": "stdout",
     "output_type": "stream",
     "text": [
      "root: [[], [], [20], [68.6, 9.74], [28.8], ..., [...], [25.2], [], [17.1], [54.6]]\n",
      "11: 8.063435532152653\n"
     ]
    },
    {
     "name": "stderr",
     "output_type": "stream",
     "text": [
      "/depot/cms/kernels/coffea2024/lib/python3.10/site-packages/distributed/node.py:182: UserWarning: Port 8787 is already in use.\n",
      "Perhaps you already have a cluster running?\n",
      "Hosting the HTTP server on port 43609 instead\n",
      "  warnings.warn(\n"
     ]
    },
    {
     "name": "stdout",
     "output_type": "stream",
     "text": [
      "root: [[], [], [20], [68.6, 9.74], [28.8], ..., [...], [25.2], [], [17.1], [54.6]]\n",
      "12: 9.513894848059863\n"
     ]
    },
    {
     "name": "stderr",
     "output_type": "stream",
     "text": [
      "/depot/cms/kernels/coffea2024/lib/python3.10/site-packages/distributed/node.py:182: UserWarning: Port 8787 is already in use.\n",
      "Perhaps you already have a cluster running?\n",
      "Hosting the HTTP server on port 44199 instead\n",
      "  warnings.warn(\n"
     ]
    },
    {
     "name": "stdout",
     "output_type": "stream",
     "text": [
      "root: [[], [], [20], [68.6, 9.74], [28.8], ..., [...], [25.2], [], [17.1], [54.6]]\n",
      "13: 8.422628575004637\n"
     ]
    },
    {
     "name": "stderr",
     "output_type": "stream",
     "text": [
      "/depot/cms/kernels/coffea2024/lib/python3.10/site-packages/distributed/node.py:182: UserWarning: Port 8787 is already in use.\n",
      "Perhaps you already have a cluster running?\n",
      "Hosting the HTTP server on port 46441 instead\n",
      "  warnings.warn(\n"
     ]
    },
    {
     "name": "stdout",
     "output_type": "stream",
     "text": [
      "root: [[], [], [20], [68.6, 9.74], [28.8], ..., [...], [25.2], [], [17.1], [54.6]]\n",
      "14: 8.759577920194715\n"
     ]
    },
    {
     "name": "stderr",
     "output_type": "stream",
     "text": [
      "/depot/cms/kernels/coffea2024/lib/python3.10/site-packages/distributed/node.py:182: UserWarning: Port 8787 is already in use.\n",
      "Perhaps you already have a cluster running?\n",
      "Hosting the HTTP server on port 32997 instead\n",
      "  warnings.warn(\n"
     ]
    },
    {
     "name": "stdout",
     "output_type": "stream",
     "text": [
      "root: [[], [], [20], [68.6, 9.74], [28.8], ..., [...], [25.2], [], [17.1], [54.6]]\n",
      "15: 7.0007635480724275\n"
     ]
    },
    {
     "name": "stderr",
     "output_type": "stream",
     "text": [
      "/depot/cms/kernels/coffea2024/lib/python3.10/site-packages/distributed/node.py:182: UserWarning: Port 8787 is already in use.\n",
      "Perhaps you already have a cluster running?\n",
      "Hosting the HTTP server on port 38301 instead\n",
      "  warnings.warn(\n"
     ]
    },
    {
     "name": "stdout",
     "output_type": "stream",
     "text": [
      "root: [[], [], [20], [68.6, 9.74], [28.8], ..., [...], [25.2], [], [17.1], [54.6]]\n",
      "16: 9.069584181997925\n"
     ]
    },
    {
     "name": "stderr",
     "output_type": "stream",
     "text": [
      "/depot/cms/kernels/coffea2024/lib/python3.10/site-packages/distributed/node.py:182: UserWarning: Port 8787 is already in use.\n",
      "Perhaps you already have a cluster running?\n",
      "Hosting the HTTP server on port 38777 instead\n",
      "  warnings.warn(\n"
     ]
    },
    {
     "name": "stdout",
     "output_type": "stream",
     "text": [
      "root: [[], [], [20], [68.6, 9.74], [28.8], ..., [...], [25.2], [], [17.1], [54.6]]\n",
      "17: 9.128745284397155\n"
     ]
    },
    {
     "name": "stderr",
     "output_type": "stream",
     "text": [
      "/depot/cms/kernels/coffea2024/lib/python3.10/site-packages/distributed/node.py:182: UserWarning: Port 8787 is already in use.\n",
      "Perhaps you already have a cluster running?\n",
      "Hosting the HTTP server on port 41233 instead\n",
      "  warnings.warn(\n"
     ]
    },
    {
     "name": "stdout",
     "output_type": "stream",
     "text": [
      "root: [[], [], [20], [68.6, 9.74], [28.8], ..., [...], [25.2], [], [17.1], [54.6]]\n",
      "18: 7.305455761961639\n"
     ]
    },
    {
     "name": "stderr",
     "output_type": "stream",
     "text": [
      "/depot/cms/kernels/coffea2024/lib/python3.10/site-packages/distributed/node.py:182: UserWarning: Port 8787 is already in use.\n",
      "Perhaps you already have a cluster running?\n",
      "Hosting the HTTP server on port 37603 instead\n",
      "  warnings.warn(\n"
     ]
    },
    {
     "name": "stdout",
     "output_type": "stream",
     "text": [
      "root: [[], [], [20], [68.6, 9.74], [28.8], ..., [...], [25.2], [], [17.1], [54.6]]\n",
      "19: 9.456884531769902\n"
     ]
    },
    {
     "name": "stderr",
     "output_type": "stream",
     "text": [
      "/depot/cms/kernels/coffea2024/lib/python3.10/site-packages/distributed/node.py:182: UserWarning: Port 8787 is already in use.\n",
      "Perhaps you already have a cluster running?\n",
      "Hosting the HTTP server on port 46693 instead\n",
      "  warnings.warn(\n"
     ]
    },
    {
     "name": "stdout",
     "output_type": "stream",
     "text": [
      "root: [[], [], [20], [68.6, 9.74], [28.8], ..., [...], [25.2], [], [17.1], [54.6]]\n",
      "20: 7.169355581980199\n"
     ]
    },
    {
     "name": "stderr",
     "output_type": "stream",
     "text": [
      "/depot/cms/kernels/coffea2024/lib/python3.10/site-packages/distributed/node.py:182: UserWarning: Port 8787 is already in use.\n",
      "Perhaps you already have a cluster running?\n",
      "Hosting the HTTP server on port 41821 instead\n",
      "  warnings.warn(\n"
     ]
    },
    {
     "name": "stdout",
     "output_type": "stream",
     "text": [
      "root: [[], [], [20], [68.6, 9.74], [28.8], ..., [...], [25.2], [], [17.1], [54.6]]\n",
      "21: 9.510914117097855\n"
     ]
    },
    {
     "name": "stderr",
     "output_type": "stream",
     "text": [
      "/depot/cms/kernels/coffea2024/lib/python3.10/site-packages/distributed/node.py:182: UserWarning: Port 8787 is already in use.\n",
      "Perhaps you already have a cluster running?\n",
      "Hosting the HTTP server on port 45891 instead\n",
      "  warnings.warn(\n"
     ]
    },
    {
     "name": "stdout",
     "output_type": "stream",
     "text": [
      "root: [[], [], [20], [68.6, 9.74], [28.8], ..., [...], [25.2], [], [17.1], [54.6]]\n",
      "22: 7.345925790257752\n"
     ]
    },
    {
     "name": "stderr",
     "output_type": "stream",
     "text": [
      "/depot/cms/kernels/coffea2024/lib/python3.10/site-packages/distributed/node.py:182: UserWarning: Port 8787 is already in use.\n",
      "Perhaps you already have a cluster running?\n",
      "Hosting the HTTP server on port 34713 instead\n",
      "  warnings.warn(\n"
     ]
    },
    {
     "name": "stdout",
     "output_type": "stream",
     "text": [
      "root: [[], [], [20], [68.6, 9.74], [28.8], ..., [...], [25.2], [], [17.1], [54.6]]\n",
      "23: 10.111242317128927\n"
     ]
    },
    {
     "name": "stderr",
     "output_type": "stream",
     "text": [
      "/depot/cms/kernels/coffea2024/lib/python3.10/site-packages/distributed/node.py:182: UserWarning: Port 8787 is already in use.\n",
      "Perhaps you already have a cluster running?\n",
      "Hosting the HTTP server on port 46631 instead\n",
      "  warnings.warn(\n"
     ]
    },
    {
     "name": "stdout",
     "output_type": "stream",
     "text": [
      "root: [[], [], [20], [68.6, 9.74], [28.8], ..., [...], [25.2], [], [17.1], [54.6]]\n",
      "24: 7.883269195910543\n"
     ]
    },
    {
     "name": "stderr",
     "output_type": "stream",
     "text": [
      "/depot/cms/kernels/coffea2024/lib/python3.10/site-packages/distributed/node.py:182: UserWarning: Port 8787 is already in use.\n",
      "Perhaps you already have a cluster running?\n",
      "Hosting the HTTP server on port 41849 instead\n",
      "  warnings.warn(\n"
     ]
    },
    {
     "name": "stdout",
     "output_type": "stream",
     "text": [
      "root: [[], [], [20], [68.6, 9.74], [28.8], ..., [...], [25.2], [], [17.1], [54.6]]\n",
      "25: 10.5605383743532\n"
     ]
    },
    {
     "name": "stderr",
     "output_type": "stream",
     "text": [
      "/depot/cms/kernels/coffea2024/lib/python3.10/site-packages/distributed/node.py:182: UserWarning: Port 8787 is already in use.\n",
      "Perhaps you already have a cluster running?\n",
      "Hosting the HTTP server on port 42239 instead\n",
      "  warnings.warn(\n"
     ]
    },
    {
     "name": "stdout",
     "output_type": "stream",
     "text": [
      "root: [[], [], [20], [68.6, 9.74], [28.8], ..., [...], [25.2], [], [17.1], [54.6]]\n",
      "26: 7.605319049209356\n"
     ]
    },
    {
     "name": "stderr",
     "output_type": "stream",
     "text": [
      "/depot/cms/kernels/coffea2024/lib/python3.10/site-packages/distributed/node.py:182: UserWarning: Port 8787 is already in use.\n",
      "Perhaps you already have a cluster running?\n",
      "Hosting the HTTP server on port 35177 instead\n",
      "  warnings.warn(\n"
     ]
    },
    {
     "name": "stdout",
     "output_type": "stream",
     "text": [
      "root: [[], [], [20], [68.6, 9.74], [28.8], ..., [...], [25.2], [], [17.1], [54.6]]\n",
      "27: 7.44227623892948\n"
     ]
    },
    {
     "name": "stderr",
     "output_type": "stream",
     "text": [
      "/depot/cms/kernels/coffea2024/lib/python3.10/site-packages/distributed/node.py:182: UserWarning: Port 8787 is already in use.\n",
      "Perhaps you already have a cluster running?\n",
      "Hosting the HTTP server on port 42643 instead\n",
      "  warnings.warn(\n"
     ]
    },
    {
     "name": "stdout",
     "output_type": "stream",
     "text": [
      "root: [[], [], [20], [68.6, 9.74], [28.8], ..., [...], [25.2], [], [17.1], [54.6]]\n"
     ]
    },
    {
     "name": "stderr",
     "output_type": "stream",
     "text": [
      "2024-02-27 19:34:19,608 - distributed.worker - ERROR - Failed to communicate with scheduler during heartbeat.\n",
      "Traceback (most recent call last):\n",
      "  File \"/depot/cms/kernels/coffea2024/lib/python3.10/site-packages/distributed/comm/tcp.py\", line 225, in read\n",
      "    frames_nosplit_nbytes_bin = await stream.read_bytes(fmt_size)\n",
      "tornado.iostream.StreamClosedError: Stream is closed\n",
      "\n",
      "The above exception was the direct cause of the following exception:\n",
      "\n",
      "Traceback (most recent call last):\n",
      "  File \"/depot/cms/kernels/coffea2024/lib/python3.10/site-packages/distributed/worker.py\", line 1252, in heartbeat\n",
      "    response = await retry_operation(\n",
      "  File \"/depot/cms/kernels/coffea2024/lib/python3.10/site-packages/distributed/utils_comm.py\", line 455, in retry_operation\n",
      "    return await retry(\n",
      "  File \"/depot/cms/kernels/coffea2024/lib/python3.10/site-packages/distributed/utils_comm.py\", line 434, in retry\n",
      "    return await coro()\n",
      "  File \"/depot/cms/kernels/coffea2024/lib/python3.10/site-packages/distributed/core.py\", line 1395, in send_recv_from_rpc\n",
      "    return await send_recv(comm=comm, op=key, **kwargs)\n",
      "  File \"/depot/cms/kernels/coffea2024/lib/python3.10/site-packages/distributed/core.py\", line 1154, in send_recv\n",
      "    response = await comm.read(deserializers=deserializers)\n",
      "  File \"/depot/cms/kernels/coffea2024/lib/python3.10/site-packages/distributed/comm/tcp.py\", line 236, in read\n",
      "    convert_stream_closed_error(self, e)\n",
      "  File \"/depot/cms/kernels/coffea2024/lib/python3.10/site-packages/distributed/comm/tcp.py\", line 142, in convert_stream_closed_error\n",
      "    raise CommClosedError(f\"in {obj}: {exc}\") from exc\n",
      "distributed.comm.core.CommClosedError: in <TCP (closed) ConnectionPool.heartbeat_worker local=tcp://127.0.0.1:50454 remote=tcp://127.0.0.1:36745>: Stream is closed\n"
     ]
    },
    {
     "name": "stdout",
     "output_type": "stream",
     "text": [
      "28: 10.908241436816752\n"
     ]
    },
    {
     "name": "stderr",
     "output_type": "stream",
     "text": [
      "/depot/cms/kernels/coffea2024/lib/python3.10/site-packages/distributed/node.py:182: UserWarning: Port 8787 is already in use.\n",
      "Perhaps you already have a cluster running?\n",
      "Hosting the HTTP server on port 33859 instead\n",
      "  warnings.warn(\n"
     ]
    },
    {
     "name": "stdout",
     "output_type": "stream",
     "text": [
      "root: [[], [], [20], [68.6, 9.74], [28.8], ..., [...], [25.2], [], [17.1], [54.6]]\n",
      "29: 7.760978675447404\n"
     ]
    },
    {
     "name": "stderr",
     "output_type": "stream",
     "text": [
      "/depot/cms/kernels/coffea2024/lib/python3.10/site-packages/distributed/node.py:182: UserWarning: Port 8787 is already in use.\n",
      "Perhaps you already have a cluster running?\n",
      "Hosting the HTTP server on port 38545 instead\n",
      "  warnings.warn(\n"
     ]
    },
    {
     "name": "stdout",
     "output_type": "stream",
     "text": [
      "root: [[], [], [20], [68.6, 9.74], [28.8], ..., [...], [25.2], [], [17.1], [54.6]]\n",
      "30: 11.388923301827163\n"
     ]
    },
    {
     "name": "stderr",
     "output_type": "stream",
     "text": [
      "/depot/cms/kernels/coffea2024/lib/python3.10/site-packages/distributed/node.py:182: UserWarning: Port 8787 is already in use.\n",
      "Perhaps you already have a cluster running?\n",
      "Hosting the HTTP server on port 40395 instead\n",
      "  warnings.warn(\n"
     ]
    },
    {
     "name": "stdout",
     "output_type": "stream",
     "text": [
      "root: [[], [], [20], [68.6, 9.74], [28.8], ..., [...], [25.2], [], [17.1], [54.6]]\n",
      "31: 8.00035119568929\n"
     ]
    },
    {
     "name": "stderr",
     "output_type": "stream",
     "text": [
      "/depot/cms/kernels/coffea2024/lib/python3.10/site-packages/distributed/node.py:182: UserWarning: Port 8787 is already in use.\n",
      "Perhaps you already have a cluster running?\n",
      "Hosting the HTTP server on port 45803 instead\n",
      "  warnings.warn(\n"
     ]
    },
    {
     "name": "stdout",
     "output_type": "stream",
     "text": [
      "root: [[], [], [20], [68.6, 9.74], [28.8], ..., [...], [25.2], [], [17.1], [54.6]]\n",
      "32: 7.701734439004213\n"
     ]
    }
   ],
   "source": [
    "from distributed import Client\n",
    "import time\n",
    "import dask_awkward as dak\n",
    "import dask.array as da\n",
    "import uproot\n",
    "\n",
    "if __name__ == \"__main__\":\n",
    "    for i in range(32):\n",
    "        tic = time.monotonic()\n",
    "        client = Client(n_workers=(i+1), threads_per_worker=1)\n",
    "        fname= \"root://cms-xcache.rcac.purdue.edu:1094//store/mc/RunIISummer20UL18NanoAODv9/TTTo2L2Nu_TuneCP5_13TeV-powheg-pythia8/NANOAODSIM/106X_upgrade2018_realistic_v16_L1v1-v1/130000/7B116A50-4A48-2E4E-8C7C-6B5A6C9F44DD.root\"\n",
    "        root = uproot.dask({fname:'Events'}, max_chunks=1)\n",
    "        print(f\"root: {root['Muon_pt'].compute()}\")\n",
    "        client.close()\n",
    "        del client\n",
    "        toc = time.monotonic()\n",
    "        print(f\"{i+1}:\", toc - tic)"
   ]
  },
  {
   "cell_type": "code",
   "execution_count": 23,
   "id": "62345e44-ad9c-4eac-afbe-5afe65a6751c",
   "metadata": {},
   "outputs": [
    {
     "name": "stderr",
     "output_type": "stream",
     "text": [
      "  0%|          | 0/5 [00:00<?, ?it/s]\n",
      "  0%|          | 0/200 [00:00<?, ?it/s]\u001b[A\n",
      "  5%|▌         | 10/200 [00:00<00:01, 99.35it/s]\u001b[A\n",
      " 10%|█         | 20/200 [00:00<00:01, 98.32it/s]\u001b[A\n",
      " 15%|█▌        | 30/200 [00:00<00:01, 98.21it/s]\u001b[A\n",
      " 20%|██        | 40/200 [00:00<00:01, 97.92it/s]\u001b[A\n",
      " 25%|██▌       | 50/200 [00:00<00:01, 97.67it/s]\u001b[A\n",
      " 30%|███       | 60/200 [00:00<00:01, 97.56it/s]\u001b[A\n",
      " 35%|███▌      | 70/200 [00:00<00:01, 97.56it/s]\u001b[A\n",
      " 40%|████      | 80/200 [00:00<00:01, 97.63it/s]\u001b[A\n",
      " 45%|████▌     | 90/200 [00:00<00:01, 97.52it/s]\u001b[A\n",
      " 50%|█████     | 100/200 [00:01<00:01, 97.42it/s]\u001b[A\n",
      " 55%|█████▌    | 110/200 [00:01<00:00, 97.46it/s]\u001b[A\n",
      " 60%|██████    | 120/200 [00:01<00:00, 97.55it/s]\u001b[A\n",
      " 65%|██████▌   | 130/200 [00:01<00:00, 97.45it/s]\u001b[A\n",
      " 70%|███████   | 140/200 [00:01<00:00, 97.40it/s]\u001b[A\n",
      " 75%|███████▌  | 150/200 [00:01<00:00, 97.43it/s]\u001b[A\n",
      " 80%|████████  | 160/200 [00:01<00:00, 97.50it/s]\u001b[A\n",
      " 85%|████████▌ | 170/200 [00:01<00:00, 97.54it/s]\u001b[A\n",
      " 90%|█████████ | 180/200 [00:01<00:00, 97.55it/s]\u001b[A\n",
      " 95%|█████████▌| 190/200 [00:01<00:00, 97.34it/s]\u001b[A\n",
      "100%|██████████| 200/200 [00:02<00:00, 97.30it/s]\u001b[A\n",
      " 20%|██        | 1/5 [00:02<00:08,  2.05s/it]    \u001b[A\n",
      "  0%|          | 0/200 [00:00<?, ?it/s]\u001b[A\n",
      "  5%|▌         | 10/200 [00:00<00:01, 99.08it/s]\u001b[A\n",
      " 10%|█         | 20/200 [00:00<00:01, 98.33it/s]\u001b[A\n",
      " 15%|█▌        | 30/200 [00:00<00:01, 98.00it/s]\u001b[A\n",
      " 20%|██        | 40/200 [00:00<00:01, 97.98it/s]\u001b[A\n",
      " 25%|██▌       | 50/200 [00:00<00:01, 97.65it/s]\u001b[A\n",
      " 30%|███       | 60/200 [00:00<00:01, 97.71it/s]\u001b[A\n",
      " 35%|███▌      | 70/200 [00:00<00:01, 97.72it/s]\u001b[A\n",
      " 40%|████      | 80/200 [00:00<00:01, 97.79it/s]\u001b[A\n",
      " 45%|████▌     | 90/200 [00:00<00:01, 97.85it/s]\u001b[A\n",
      " 50%|█████     | 100/200 [00:01<00:01, 97.69it/s]\u001b[A\n",
      " 55%|█████▌    | 110/200 [00:01<00:00, 97.52it/s]\u001b[A\n",
      " 60%|██████    | 120/200 [00:01<00:00, 97.29it/s]\u001b[A\n",
      " 65%|██████▌   | 130/200 [00:01<00:00, 97.41it/s]\u001b[A\n",
      " 70%|███████   | 140/200 [00:01<00:00, 97.45it/s]\u001b[A\n",
      " 75%|███████▌  | 150/200 [00:01<00:00, 97.35it/s]\u001b[A\n",
      " 80%|████████  | 160/200 [00:01<00:00, 97.47it/s]\u001b[A\n",
      " 85%|████████▌ | 170/200 [00:01<00:00, 97.54it/s]\u001b[A\n",
      " 90%|█████████ | 180/200 [00:01<00:00, 97.59it/s]\u001b[A\n",
      " 95%|█████████▌| 190/200 [00:01<00:00, 97.67it/s]\u001b[A\n",
      "100%|██████████| 200/200 [00:02<00:00, 97.73it/s]\u001b[A\n",
      " 40%|████      | 2/5 [00:04<00:06,  2.05s/it]    \u001b[A\n",
      "  0%|          | 0/200 [00:00<?, ?it/s]\u001b[A\n",
      "  5%|▌         | 10/200 [00:00<00:01, 99.11it/s]\u001b[A\n",
      " 10%|█         | 20/200 [00:00<00:01, 98.15it/s]\u001b[A\n",
      " 15%|█▌        | 30/200 [00:00<00:01, 97.91it/s]\u001b[A\n",
      " 20%|██        | 40/200 [00:00<00:01, 97.73it/s]\u001b[A\n",
      " 25%|██▌       | 50/200 [00:00<00:01, 97.75it/s]\u001b[A\n",
      " 30%|███       | 60/200 [00:00<00:01, 97.80it/s]\u001b[A\n",
      " 35%|███▌      | 70/200 [00:00<00:01, 97.70it/s]\u001b[A\n",
      " 40%|████      | 80/200 [00:00<00:01, 97.49it/s]\u001b[A\n",
      " 45%|████▌     | 90/200 [00:00<00:01, 97.51it/s]\u001b[A\n",
      " 50%|█████     | 100/200 [00:01<00:01, 97.49it/s]\u001b[A\n",
      " 55%|█████▌    | 110/200 [00:01<00:00, 97.55it/s]\u001b[A\n",
      " 60%|██████    | 120/200 [00:01<00:00, 97.66it/s]\u001b[A\n",
      " 65%|██████▌   | 130/200 [00:01<00:00, 97.74it/s]\u001b[A\n",
      " 70%|███████   | 140/200 [00:01<00:00, 97.78it/s]\u001b[A\n",
      " 75%|███████▌  | 150/200 [00:01<00:00, 97.60it/s]\u001b[A\n",
      " 80%|████████  | 160/200 [00:01<00:00, 97.52it/s]\u001b[A\n",
      " 85%|████████▌ | 170/200 [00:01<00:00, 97.51it/s]\u001b[A\n",
      " 90%|█████████ | 180/200 [00:01<00:00, 97.51it/s]\u001b[A\n",
      " 95%|█████████▌| 190/200 [00:01<00:00, 97.60it/s]\u001b[A\n",
      "100%|██████████| 200/200 [00:02<00:00, 97.65it/s]\u001b[A\n",
      " 60%|██████    | 3/5 [00:06<00:04,  2.05s/it]    \u001b[A\n",
      "  0%|          | 0/200 [00:00<?, ?it/s]\u001b[A\n",
      "  5%|▌         | 10/200 [00:00<00:01, 99.11it/s]\u001b[A\n",
      " 10%|█         | 20/200 [00:00<00:01, 98.23it/s]\u001b[A\n",
      " 15%|█▌        | 30/200 [00:00<00:01, 97.75it/s]\u001b[A\n",
      " 20%|██        | 40/200 [00:00<00:01, 97.41it/s]\u001b[A\n",
      " 25%|██▌       | 50/200 [00:00<00:01, 97.29it/s]\u001b[A\n",
      " 30%|███       | 60/200 [00:00<00:01, 97.46it/s]\u001b[A\n",
      " 35%|███▌      | 70/200 [00:00<00:01, 97.43it/s]\u001b[A\n",
      " 40%|████      | 80/200 [00:00<00:01, 97.57it/s]\u001b[A\n",
      " 45%|████▌     | 90/200 [00:00<00:01, 97.52it/s]\u001b[A\n",
      " 50%|█████     | 100/200 [00:01<00:01, 97.51it/s]\u001b[A\n",
      " 55%|█████▌    | 110/200 [00:01<00:00, 97.49it/s]\u001b[A\n",
      " 60%|██████    | 120/200 [00:01<00:00, 97.51it/s]\u001b[A\n",
      " 65%|██████▌   | 130/200 [00:01<00:00, 97.57it/s]\u001b[A\n",
      " 70%|███████   | 140/200 [00:01<00:00, 97.71it/s]\u001b[A\n",
      " 75%|███████▌  | 150/200 [00:01<00:00, 97.61it/s]\u001b[A\n",
      " 80%|████████  | 160/200 [00:01<00:00, 97.70it/s]\u001b[A\n",
      " 85%|████████▌ | 170/200 [00:01<00:00, 97.67it/s]\u001b[A\n",
      " 90%|█████████ | 180/200 [00:01<00:00, 97.69it/s]\u001b[A\n",
      " 95%|█████████▌| 190/200 [00:01<00:00, 97.63it/s]\u001b[A\n",
      "100%|██████████| 200/200 [00:02<00:00, 97.66it/s]\u001b[A\n",
      " 80%|████████  | 4/5 [00:08<00:02,  2.05s/it]    \u001b[A\n",
      "  0%|          | 0/200 [00:00<?, ?it/s]\u001b[A\n",
      "  5%|▌         | 10/200 [00:00<00:01, 98.69it/s]\u001b[A\n",
      " 10%|█         | 20/200 [00:00<00:01, 98.08it/s]\u001b[A\n",
      " 15%|█▌        | 30/200 [00:00<00:01, 97.93it/s]\u001b[A\n",
      " 20%|██        | 40/200 [00:00<00:01, 97.87it/s]\u001b[A\n",
      " 25%|██▌       | 50/200 [00:00<00:01, 97.83it/s]\u001b[A\n",
      " 30%|███       | 60/200 [00:00<00:01, 97.80it/s]\u001b[A\n",
      " 35%|███▌      | 70/200 [00:00<00:01, 97.97it/s]\u001b[A\n",
      " 40%|████      | 80/200 [00:00<00:01, 97.99it/s]\u001b[A\n",
      " 45%|████▌     | 90/200 [00:00<00:01, 97.99it/s]\u001b[A\n",
      " 50%|█████     | 100/200 [00:01<00:01, 97.94it/s]\u001b[A\n",
      " 55%|█████▌    | 110/200 [00:01<00:00, 97.86it/s]\u001b[A\n",
      " 60%|██████    | 120/200 [00:01<00:00, 97.80it/s]\u001b[A\n",
      " 65%|██████▌   | 130/200 [00:01<00:00, 97.79it/s]\u001b[A\n",
      " 70%|███████   | 140/200 [00:01<00:00, 97.72it/s]\u001b[A\n",
      " 75%|███████▌  | 150/200 [00:01<00:00, 97.70it/s]\u001b[A\n",
      " 80%|████████  | 160/200 [00:01<00:00, 97.63it/s]\u001b[A\n",
      " 85%|████████▌ | 170/200 [00:01<00:00, 97.57it/s]\u001b[A\n",
      " 90%|█████████ | 180/200 [00:01<00:00, 97.69it/s]\u001b[A\n",
      " 95%|█████████▌| 190/200 [00:01<00:00, 97.72it/s]\u001b[A\n",
      "100%|██████████| 200/200 [00:02<00:00, 97.79it/s]\u001b[A\n",
      "100%|██████████| 5/5 [00:10<00:00,  2.05s/it]    \u001b[A\n"
     ]
    }
   ],
   "source": [
    "from tqdm import tqdm\n",
    "# from tqdm.auto import tqdm  # notebook compatible\n",
    "import time\n",
    "for i1 in tqdm(range(5)):\n",
    "    for i2 in tqdm(range(200), leave=False):\n",
    "        # do something, e.g. sleep\n",
    "        time.sleep(0.01)"
   ]
  },
  {
   "cell_type": "code",
   "execution_count": null,
   "id": "7469cdcb-4b8a-46bf-9c28-704486b7540f",
   "metadata": {},
   "outputs": [],
   "source": []
  }
 ],
 "metadata": {
  "kernelspec": {
   "display_name": "Python [conda env:coffea2024]",
   "language": "python",
   "name": "conda-env-coffea2024-py"
  },
  "language_info": {
   "codemirror_mode": {
    "name": "ipython",
    "version": 3
   },
   "file_extension": ".py",
   "mimetype": "text/x-python",
   "name": "python",
   "nbconvert_exporter": "python",
   "pygments_lexer": "ipython3",
   "version": "3.10.13"
  }
 },
 "nbformat": 4,
 "nbformat_minor": 5
}
