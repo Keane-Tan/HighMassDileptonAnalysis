{
 "cells": [
  {
   "cell_type": "code",
   "execution_count": 1,
   "id": "779615dc-7a8c-4486-a96c-ac24345df341",
   "metadata": {},
   "outputs": [],
   "source": [
    "import ROOT as rt\n",
    "import numpy as np\n",
    "import matplotlib.pyplot as plt\n",
    "\n",
    "def getFEWZ_vals(FEWZ_histo):\n",
    "    n_points = FEWZ_histo.GetNbinsX()\n",
    "    x_vals = []\n",
    "    y_vals = []\n",
    "    for i in range(n_points):\n",
    "        if i<0 or i >=42:\n",
    "            continue\n",
    "        if (FEWZ_histo.GetBinCenter(i)) < 110.0:\n",
    "            x_vals.append(110.0)\n",
    "            y_vals.append(FEWZ_histo.GetBinContent(i+1)*1.05) \n",
    "            continue\n",
    "        if (FEWZ_histo.GetBinCenter(i)) >150:\n",
    "            x_vals.append(150.0)\n",
    "            y_vals.append(FEWZ_histo.GetBinContent(i)*0.95)  \n",
    "            continue\n",
    "        x_vals.append(FEWZ_histo.GetBinCenter(i))\n",
    "        y_vals.append(FEWZ_histo.GetBinContent(i))\n",
    "    return (np.array(x_vals), np.array(y_vals))"
   ]
  },
  {
   "cell_type": "code",
   "execution_count": 2,
   "id": "c3391973-0de3-4f4f-bff4-aa8d0c68c3ed",
   "metadata": {},
   "outputs": [
    {
     "name": "stdout",
     "output_type": "stream",
     "text": [
      "TFile**\t\t../data//NNLO_Bourilkov_2017.root\t\n",
      " TFile*\t\t../data//NNLO_Bourilkov_2017.root\t\n",
      "  KEY: TH1D\tfull_xsec;1\tfull_xsec\n",
      "  KEY: TH1D\tfull_36fb;1\tfull_36fb\n",
      "  KEY: TH1D\tfull_shape;1\tfull_shape\n",
      "  KEY: TH1D\tcc_xsec;1\tcc_xsec\n",
      "  KEY: TH1D\tcc_36fb;1\tcc_36fb\n",
      "  KEY: TH1D\tcc_shape;1\tcc_shape\n",
      "  KEY: TH1D\tncnc_xsec;1\tncnc_xsec\n",
      "  KEY: TH1D\tncnc_36fb;1\tncnc_36fb\n",
      "  KEY: TH1D\tncnc_shape;1\tncnc_shape\n",
      "  KEY: TH1D\tone_jet_xsec;1\tone_jet_xsec\n",
      "  KEY: TH1D\tone_jet_36fb;1\tone_jet_36fb\n",
      "  KEY: TH1D\tone_jet_shape;1\tone_jet_shape\n",
      "  KEY: TH1D\ttwo_jet_xsec;1\ttwo_jet_xsec\n",
      "  KEY: TH1D\ttwo_jet_36fb;1\ttwo_jet_36fb\n",
      "  KEY: TH1D\ttwo_jet_shape;1\ttwo_jet_shape\n"
     ]
    }
   ],
   "source": [
    "FEWZ_file = rt.TFile(\"../data//NNLO_Bourilkov_2017.root\", \"READ\")\n",
    "FEWZ_file.ls()"
   ]
  },
  {
   "cell_type": "code",
   "execution_count": 3,
   "id": "920bf3a5-6b86-4f94-a535-a92b471045c1",
   "metadata": {},
   "outputs": [
    {
     "name": "stdout",
     "output_type": "stream",
     "text": [
      "TH1.Print Name  = full_36fb, Entries= 50, Total sum= 476441\n",
      "TH1.Print Name  = full_xsec, Entries= 50, Total sum= 13.2345\n",
      "TH1.Print Name  = full_shape, Entries= 50, Total sum= 1\n"
     ]
    }
   ],
   "source": [
    "FEWZ_histo_36fb = FEWZ_file.Get(\"full_36fb\")\n",
    "FEWZ_histo_36fb.Print(\"v\")\n",
    "FEWZ_histo_full_xsec = FEWZ_file.Get(\"full_xsec\")\n",
    "FEWZ_histo_full_xsec.Print(\"v\")\n",
    "FEWZ_histo_full_shape = FEWZ_file.Get(\"full_shape\")\n",
    "FEWZ_histo_full_shape.Print(\"v\")"
   ]
  },
  {
   "cell_type": "code",
   "execution_count": 4,
   "id": "0669e6ea-090f-48c0-a33d-5f971da7fdd4",
   "metadata": {},
   "outputs": [
    {
     "name": "stdout",
     "output_type": "stream",
     "text": [
      "[110.  110.5 111.5 112.5 113.5 114.5 115.5 116.5 117.5 118.5 119.5 120.5\n",
      " 121.5 122.5 123.5 124.5 125.5 126.5 127.5 128.5 129.5 130.5 131.5 132.5\n",
      " 133.5 134.5 135.5 136.5 137.5 138.5 139.5 140.5 141.5 142.5 143.5 144.5\n",
      " 145.5 146.5 147.5 148.5 149.5 150. ]\n",
      "[0.06888883 0.06560841 0.05985101 0.05407571 0.05001306 0.04578032\n",
      " 0.0427122  0.03935657 0.03652706 0.03408782 0.03229583 0.02998172\n",
      " 0.02769406 0.02642185 0.02475544 0.02336045 0.02238799 0.02100063\n",
      " 0.02014974 0.01899276 0.01808521 0.01708502 0.01664578 0.01576014\n",
      " 0.01485364 0.0141665  0.01393876 0.01325116 0.01268733 0.01220556\n",
      " 0.0116554  0.01108455 0.01086104 0.01035282 0.00991412 0.00976164\n",
      " 0.00960334 0.00908779 0.00881902 0.00833113 0.00803085 0.00780209]\n"
     ]
    }
   ],
   "source": [
    "x_vals, y_vals = getFEWZ_vals(FEWZ_histo_full_shape)\n",
    "print(x_vals)\n",
    "print(y_vals)"
   ]
  },
  {
   "cell_type": "code",
   "execution_count": 5,
   "id": "bef053d7-6dfc-48e9-be72-249a4d01d547",
   "metadata": {},
   "outputs": [
    {
     "data": {
      "image/png": "[encoded data removed]",
      "text/plain": [
       "<Figure size 640x480 with 1 Axes>"
      ]
     },
     "metadata": {},
     "output_type": "display_data"
    }
   ],
   "source": [
    "histo_l = [\n",
    "    FEWZ_histo_36fb,\n",
    "    FEWZ_histo_full_xsec,\n",
    "    FEWZ_histo_full_shape,\n",
    "]\n",
    "for histo in histo_l:\n",
    "    x_vals, y_vals = getFEWZ_vals(histo)\n",
    "    y_vals = y_vals / np.sum(y_vals)\n",
    "    plt.plot(x_vals, y_vals, label = histo.GetName())\n",
    "plt.legend(loc=\"upper right\")\n",
    "plt.show()"
   ]
  },
  {
   "cell_type": "code",
   "execution_count": 31,
   "id": "609aa659-cc7d-48de-b597-053fcd23b17e",
   "metadata": {},
   "outputs": [
    {
     "name": "stdout",
     "output_type": "stream",
     "text": [
      "[#1] INFO:NumericIntegration -- RooRealIntegral::init(full_36fbspline pdf_Int[x]) using numeric integrator RooIntegrator1D to calculate Int(x)\n",
      "[#1] INFO:NumericIntegration -- RooRealIntegral::init(full_xsecspline pdf_Int[x]) using numeric integrator RooIntegrator1D to calculate Int(x)\n",
      "[#1] INFO:NumericIntegration -- RooRealIntegral::init(full_shapespline pdf_Int[x]) using numeric integrator RooIntegrator1D to calculate Int(x)\n"
     ]
    },
    {
     "name": "stderr",
     "output_type": "stream",
     "text": [
      "Warning in <TCanvas::Constructor>: Deleting canvas with same name: Canvas\n",
      "Info in <TCanvas::Print>: pdf file ./quick_plots/quickFEWZ_SplineTest.pdf has been created\n"
     ]
    }
   ],
   "source": [
    "# let's do a roospline on this\n",
    "histo_l = [\n",
    "    FEWZ_histo_36fb,\n",
    "    FEWZ_histo_full_xsec,\n",
    "    FEWZ_histo_full_shape,\n",
    "]\n",
    "name = \"Canvas\"\n",
    "canvas = rt.TCanvas(name,name,800, 800)\n",
    "x = rt.RooRealVar(\"x\", \"x\", 110, 150)\n",
    "frame = x.frame()\n",
    "color_map = {\n",
    "    \"full_36fb\" : rt.kBlue,\n",
    "    \"full_xsec\" : rt.kGreen,\n",
    "    \"full_shape\" : rt.kRed,\n",
    "}\n",
    "names = []\n",
    "\n",
    "legend = rt.TLegend(0.65,0.55,0.9,0.7)\n",
    "\n",
    "\n",
    "for histo in histo_l:\n",
    "    x_vals, y_vals = getFEWZ_vals(histo)\n",
    "    y_vals = y_vals / np.sum(y_vals)\n",
    "    x_arr_vec = rt.vector(\"double\")(x_vals)\n",
    "    y_arr_vec = rt.vector(\"double\")(y_vals)\n",
    "    name = histo.GetName() + \"spline\"\n",
    "    roo_spline = rt.RooSpline(name, name, x, x_arr_vec, y_arr_vec)\n",
    "    name = histo.GetName() + \"spline pdf\"\n",
    "    roo_spline_pdf = rt.RooWrapperPdf(name, name, roo_spline)\n",
    "    roo_spline_pdf.plotOn(frame, rt.RooFit.LineColor(color_map[histo.GetName()]))\n",
    "    # adding by name doesn't work for some reason, as TLegend has problem finding the object from frame\n",
    "    legend.AddEntry(frame.getObject(int(frame.numItems())-1),name, \"L\") # this adds the latest object added to frame to legend\n",
    "    # legend.AddEntry(frame.findObject(roo_spline_pdf.GetName()),name, \"L\") # this returns object not found\n",
    "\n",
    "frame.Draw()\n",
    "\n",
    "# legend.AddEntry(frame.getObject(int(frame.numItems())-1),name, \"L\")\n",
    "# legend.AddEntry(roo_spline_pdf,name, \"L\")\n",
    "\n",
    "names.append(name)\n",
    "\n",
    "# for name in names:\n",
    "#     legend.AddEntry(name,name, \"L\")\n",
    "\n",
    "    \n",
    "\n",
    "\n",
    "\n",
    "legend.Draw()\n",
    "canvas.Update()\n",
    "canvas.Draw()\n",
    "canvas.SaveAs(f\"./quick_plots/quickFEWZ_SplineTest.pdf\")"
   ]
  },
  {
   "cell_type": "code",
   "execution_count": 48,
   "id": "23f4beb6-7b31-4166-8d3e-8bdec7f5e9dd",
   "metadata": {},
   "outputs": [],
   "source": [
    "color_map = {\n",
    "    \"full_36fb\" : rt.kBlue,\n",
    "    \"full_xsec\" : rt.kGreen,\n",
    "    \"full_shape\" : rt.kRed,\n",
    "}"
   ]
  },
  {
   "cell_type": "code",
   "execution_count": 18,
   "id": "a8c959d3-53c7-4fd2-8e31-c004fef7dee0",
   "metadata": {},
   "outputs": [
    {
     "name": "stdout",
     "output_type": "stream",
     "text": [
      "roo_histDyMC_normalized.sumEntries() : 1.0000000027939677\n",
      "roo_histDyMC_normalized.sumEntries() : 1.0\n",
      "x_vals.shape: (42,)\n"
     ]
    },
    {
     "name": "stderr",
     "output_type": "stream",
     "text": [
      "Warning in <TCanvas::Constructor>: Deleting canvas with same name: Canvas\n",
      "Warning in <TFile::Append>: Replacing existing TH1: DyMC_hist__DY_dimuon_mass (Potential memory leak).\n",
      "Warning in <TFile::Append>: Replacing existing TH1: DyMC_hist__DY_dimuon_mass (Potential memory leak).\n",
      "Info in <TCanvas::Print>: pdf file ./quick_plots/stage3_plot_dy_ggH4.pdf has been created\n"
     ]
    }
   ],
   "source": [
    "# Now we compare the core Roospline to the DY background \n",
    "import awkward as ak\n",
    "import dask_awkward as dak\n",
    "import numpy as np\n",
    "import ROOT as rt\n",
    "\n",
    "load_path = \"/work/users/yun79/stage2_output/test/processed_events_dyMC.parquet\"\n",
    "processed_eventsSignalMC = ak.from_parquet(load_path)\n",
    "name = \"Canvas\"\n",
    "canvas = rt.TCanvas(name,name,800, 800) # giving a specific name for each canvas prevents segfault?\n",
    "# canvas = rt.TCanvas(name,name,400, 800) # giving a specific name for each canvas prevents segfault?\n",
    "\n",
    "canvas.cd()\n",
    "\n",
    "\n",
    "\n",
    "# the mass range and nbins are taken from Fig 6.15 of the long AN (page 57)\n",
    "mass_name = \"DY_dimuon_mass\"\n",
    "massDyMC =  rt.RooRealVar(mass_name,mass_name,125,110,150) # h peak range\n",
    "nbins = 42\n",
    "massDyMC.setBins(nbins)\n",
    "# clear canvas to plot the signal model\n",
    "canvas.Clear()\n",
    "legend = rt.TLegend(0.65,0.55,0.9,0.7)\n",
    "frame = massDyMC.frame()\n",
    "\n",
    "color_map = {\n",
    "    0 : rt.kBlue,\n",
    "    1 : rt.kGreen+2,\n",
    "    2 : rt.kRed,\n",
    "    3 : rt.kYellow,\n",
    "    4 : rt.kBlack,\n",
    "}\n",
    "dyMC_names = []\n",
    "# for cat_ix in range(1):\n",
    "for cat_ix in [0,4]:\n",
    "# cat_ix = 0\n",
    "    subCat_filter = (processed_eventsSignalMC[\"subCategory_idx\"] == cat_ix)\n",
    "    subCat_mass_arrDyMC = processed_eventsSignalMC.dimuon_mass[subCat_filter]\n",
    "    subCat_mass_arrDyMC  = ak.to_numpy(subCat_mass_arrDyMC) # convert to numpy for rt.RooDataSet\n",
    "    \n",
    "    roo_datasetDyMC = rt.RooDataSet.from_numpy({mass_name: subCat_mass_arrDyMC}, [massDyMC])\n",
    "    roo_datasetDyMC.SetName(f\"ggH PowHeg MC subCat {cat_ix}\")\n",
    "    roo_histDyMC = rt.RooDataHist(\"DyMC_hist\",f\"binned version of DyMC of subcat {cat_ix}\", rt.RooArgSet(massDyMC), roo_datasetDyMC)  # copies binning from mass variable\n",
    "    # normalize roo_histDyMC\n",
    "    THist = roo_histDyMC.createHistogram(mass_name)\n",
    "    # THist.Scale(1/roo_histSigMC.sumEntries()) # scale to make intgral equal to one\n",
    "    THist.Scale(1/THist.Integral())\n",
    "    roo_histDyMC_normalized = rt.RooDataHist(f\"DyMC SubCat{cat_ix}\",f\"binned version of DyMC of subcat {cat_ix}\", rt.RooArgSet(massDyMC), THist) # turn it back to RooDataHist for plotOn to work\n",
    "    \n",
    "    print(f\"roo_histDyMC_normalized.sumEntries() : {roo_histDyMC_normalized.sumEntries()}\")\n",
    "    roo_histDyMC_normalized.plotOn(frame, DataError=\"SumW2\", Name=roo_datasetDyMC.GetName(), MarkerColor=color_map[cat_ix], MarkerStyle=100)\n",
    "    dyMC_names.append(roo_histDyMC_normalized.GetName())\n",
    "    \n",
    "    \n",
    "\n",
    "# add in roospline\n",
    "x_vals, y_vals = getFEWZ_vals(FEWZ_histo_36fb)\n",
    "print(f\"x_vals.shape: {x_vals.shape}\")\n",
    "y_vals = y_vals / np.sum(y_vals)\n",
    "x_arr_vec = rt.vector(\"double\")(x_vals)\n",
    "y_arr_vec = rt.vector(\"double\")(y_vals)\n",
    "name = FEWZ_histo_36fb.GetName()\n",
    "roo_spline = rt.RooSpline(name, name, massDyMC, x_arr_vec, y_arr_vec)\n",
    "\n",
    "\n",
    "roo_spline.plotOn(frame, LineColor=rt.kGreen)\n",
    "\n",
    "\n",
    "# legend\n",
    "name = roo_spline.GetName()\n",
    "legend.AddEntry(name, \"RooSpline of FEWZ\", \"L\")\n",
    "for name in dyMC_names:\n",
    "    legend.AddEntry(name, name, \"P\")\n",
    "\n",
    "frame.Draw()\n",
    "legend.Draw()\n",
    "\n",
    "canvas.Update()\n",
    "canvas.Draw()\n",
    "\n",
    "canvas.SaveAs(f\"./quick_plots/stage3_plot_dy_ggH{cat_ix}.pdf\")"
   ]
  },
  {
   "cell_type": "code",
   "execution_count": 81,
   "id": "c7da4ac9-ea1c-4900-8ef7-de3292eaf20c",
   "metadata": {},
   "outputs": [
    {
     "name": "stdout",
     "output_type": "stream",
     "text": [
      "DataStore DyMC_hist_normalized (binned version of DyMC of subcat 0)\n",
      "  Contains 42 entries\n",
      "  Observables: \n",
      "    1)  DY_dimuon_mass = 149.524  L(110 - 150) B(42)  \"DY_dimuon_mass\"\n",
      "Binned Dataset DyMC_hist_normalized (binned version of DyMC of subcat 0)\n",
      "  Contains 42 bins with a total weight of 1\n",
      "  Observables:     1)  DY_dimuon_mass = 149.524  L(110 - 150) B(42)  \"DY_dimuon_mass\"\n"
     ]
    }
   ],
   "source": [
    "roo_histDyMC_normalized.Print(\"v\")"
   ]
  },
  {
   "cell_type": "code",
   "execution_count": 82,
   "id": "d3ce0828-8fa0-42aa-813a-af699680a93c",
   "metadata": {},
   "outputs": [
    {
     "data": {
      "text/plain": [
       "1.0000000027939677"
      ]
     },
     "execution_count": 82,
     "metadata": {},
     "output_type": "execute_result"
    }
   ],
   "source": [
    "total_wgt = 0\n",
    "for ix in range(42):\n",
    "    wgt = roo_histDyMC_normalized.weight(ix)\n",
    "    total_wgt += wgt\n",
    "    binCentre = roo_histDyMC_normalized.get(ix)[\"DY_dimuon_mass\"].getVal()\n",
    "total_wgt"
   ]
  },
  {
   "cell_type": "code",
   "execution_count": 73,
   "id": "5869d79f-ea33-4c2c-ba93-c091fd7b845c",
   "metadata": {},
   "outputs": [],
   "source": [
    "roo_histDyMC_normalized.weight(48)\n",
    "binCentre = roo_histDyMC_normalized.get(41)[\"DY_dimuon_mass\"].getVal()"
   ]
  },
  {
   "cell_type": "code",
   "execution_count": 74,
   "id": "28cb76c7-1d48-4224-83d8-b44551e25252",
   "metadata": {},
   "outputs": [
    {
     "data": {
      "text/plain": [
       "149.52380952380952"
      ]
     },
     "execution_count": 74,
     "metadata": {},
     "output_type": "execute_result"
    }
   ],
   "source": [
    "binCentre"
   ]
  },
  {
   "cell_type": "code",
   "execution_count": null,
   "id": "d61d4d2e-2643-4091-9083-dfec6c436836",
   "metadata": {},
   "outputs": [],
   "source": []
  }
 ],
 "metadata": {
  "kernelspec": {
   "display_name": "Python [conda env:root632]",
   "language": "python",
   "name": "conda-env-root632-py"
  },
  "language_info": {
   "codemirror_mode": {
    "name": "ipython",
    "version": 3
   },
   "file_extension": ".py",
   "mimetype": "text/x-python",
   "name": "python",
   "nbconvert_exporter": "python",
   "pygments_lexer": "ipython3",
   "version": "3.12.4"
  }
 },
 "nbformat": 4,
 "nbformat_minor": 5
}
