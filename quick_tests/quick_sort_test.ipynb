{
 "cells": [
  {
   "cell_type": "code",
   "execution_count": 44,
   "id": "aefed9fb-fac3-43bc-b87b-23512ef92fee",
   "metadata": {},
   "outputs": [],
   "source": [
    "from coffea.nanoevents import NanoEventsFactory, NanoAODSchema\n",
    "from distributed import Client\n",
    "import awkward as ak\n",
    "import numpy as np\n",
    "\n",
    "client = Client(n_workers=8,  threads_per_worker=1, processes=True, memory_limit='3 GiB') \n",
    "file_dict = {\"root://eos.cms.rcac.purdue.edu:1094///store/mc/RunIISummer20UL18NanoAODv9/DYJetsToLL_M-100to200_TuneCP5_13TeV-amcatnloFXFX-pythia8/NANOAODSIM/106X_upgrade2018_realistic_v16_L1v1-v1/40000/AA6F89B0-EDAA-3942-A3BB-BC3709722EB4.root\": {\"object_path\": \"Events\", \"steps\": [[0, 10017]], \"uuid\": \"b16b5dea-fbcd-11ed-bae7-a2a0b8bcbeef\"}}\n",
    "fname = \"root://eos.cms.rcac.purdue.edu:1094///store/mc/RunIISummer20UL18NanoAODv9/DYJetsToLL_M-100to200_TuneCP5_13TeV-amcatnloFXFX-pythia8/NANOAODSIM/106X_upgrade2018_realistic_v16_L1v1-v1/40000/AA6F89B0-EDAA-3942-A3BB-BC3709722EB4.root\"\n",
    "\n",
    "events = NanoEventsFactory.from_root(\n",
    "    {fname: \"Events\"},\n",
    "    # file_dict,\n",
    "    schemaclass=NanoAODSchema,\n",
    "    metadata={\"dataset\": \"DYJets\"},\n",
    "    delayed=False,\n",
    "    entry_stop = 5000,\n",
    ").events()"
   ]
  },
  {
   "cell_type": "code",
   "execution_count": 2,
   "id": "2f9dd398-c466-4611-8b3c-55211ec0bef6",
   "metadata": {},
   "outputs": [],
   "source": [
    "# import numpy as np\n",
    "# def getRandomVals(ak_arr):\n",
    "#     ak_length = ak.num(ak.flatten(ak_arr), axis=0)\n",
    "#     # print(ak_length)\n",
    "#     random_vals = 100 * np.random.rand(ak_length)\n",
    "#     # print(random_vals)\n",
    "#     counts = ak.num(ak_arr)\n",
    "#     return ak.unflatten(random_vals, counts)"
   ]
  },
  {
   "cell_type": "code",
   "execution_count": 3,
   "id": "ce5ecff5-fa90-467f-b61b-2b91f621435a",
   "metadata": {},
   "outputs": [],
   "source": [
    "# muons = events.Muon\n",
    "# nmuons = ak.num(muons, axis=1)\n",
    "# muon_selection = nmuons == 2\n",
    "# good_muons = muons[muon_selection]\n",
    "# arr = getRandomVals(good_muons.pt)\n",
    "# good_muons[\"pt\"] = good_muons.pt + arr\n",
    "# arr = ak.to_numpy(ak.zeros_like(good_muons.mass) )\n",
    "# arr[:,1] = arr[:,1] + ak.ones_like(good_muons.mass[:,0])*10000\n",
    "# # print(arr)\n",
    "# good_muons[\"mass\"] = good_muons.mass + arr"
   ]
  },
  {
   "cell_type": "code",
   "execution_count": 4,
   "id": "a993e6be-7a04-4f20-9c00-7b097654cb41",
   "metadata": {},
   "outputs": [],
   "source": [
    "# muons = events.Muon\n",
    "# nmuons = ak.num(muons, axis=1)\n",
    "# muon_selection = nmuons == 2\n",
    "# good_muons = muons[muon_selection]\n",
    "# num_events = ak.num(good_muons, axis=0)\n",
    "# pt_add = np.zeros((num_events,2))\n",
    "# pt_add[:,1] = 10000\n",
    "# good_muons[\"pt\"] = good_muons.pt + pt_add\n",
    "# mass_add = np.zeros((num_events,2))\n",
    "# mass_add[:,0] = 10000\n",
    "# # print(arr)\n",
    "# good_muons[\"mass\"] = good_muons.mass + mass_add"
   ]
  },
  {
   "cell_type": "code",
   "execution_count": 57,
   "id": "6e9b7915-7087-4842-8ed9-81bbfeed6db5",
   "metadata": {},
   "outputs": [],
   "source": [
    "jets = events.Jet\n",
    "njets = ak.num(jets, axis=1)\n",
    "jet_selection = njets == 2\n",
    "good_jets = jets[jet_selection]\n",
    "num_events = ak.num(good_jets, axis=0)\n",
    "pt_override = np.zeros((num_events,2))\n",
    "pt_override[:,1] = 10000\n",
    "good_jets[\"pt\"] = pt_override\n",
    "mass_override = np.zeros((num_events,2))\n",
    "mass_override[:,0] = 10000\n",
    "good_jets[\"mass\"] = mass_override"
   ]
  },
  {
   "cell_type": "code",
   "execution_count": 58,
   "id": "3b6b87cd-dff9-42c0-b0bd-7d369d619718",
   "metadata": {},
   "outputs": [
    {
     "name": "stdout",
     "output_type": "stream",
     "text": [
      "good jets pt b4 sort [[0, 1e+04], [0, 1e+04], [0, 1e+04], ..., [0, ...], [0, 1e+04], [0, 1e+04]]\n",
      "good jets mass b4 sort [[1e+04, 0], [1e+04, 0], [1e+04, 0], ..., [1e+04, ...], [1e+04, 0], [1e+04, 0]]\n",
      "good jets pt after sort [[1e+04, 0], [1e+04, 0], [1e+04, 0], ..., [1e+04, ...], [1e+04, 0], [1e+04, 0]]\n",
      "good jets mass after sort [[1e+04, 0], [1e+04, 0], [1e+04, 0], ..., [1e+04, ...], [1e+04, 0], [1e+04, 0]]\n",
      "good jets pt after pt sort [[1e+04, 0], [1e+04, 0], [1e+04, 0], ..., [1e+04, ...], [1e+04, 0], [1e+04, 0]]\n",
      "good jets mass after pt sort [[0, 1e+04], [0, 1e+04], [0, 1e+04], ..., [0, ...], [0, 1e+04], [0, 1e+04]]\n"
     ]
    }
   ],
   "source": [
    "print(f\"good jets pt b4 sort {good_jets.pt}\")\n",
    "print(f\"good jets mass b4 sort {good_jets.mass}\")\n",
    "sorted_jets = ak.sort(good_jets, ascending=False)\n",
    "print(f\"good jets pt after sort {sorted_jets.pt}\")\n",
    "print(f\"good jets mass after sort {sorted_jets.mass}\")\n",
    "ptsorted_args = ak.argsort(good_jets.pt, ascending=False)\n",
    "ptsorted_jets = good_jets[ptsorted_args]\n",
    "print(f\"good jets pt after pt sort {ptsorted_jets.pt}\")\n",
    "print(f\"good jets mass after pt sort {ptsorted_jets.mass}\")"
   ]
  },
  {
   "cell_type": "code",
   "execution_count": null,
   "id": "e43f1ecf-bf79-4309-a76d-25d59b00fd69",
   "metadata": {},
   "outputs": [],
   "source": []
  },
  {
   "cell_type": "code",
   "execution_count": 5,
   "id": "c9d446bc-4baa-4ea0-a481-ed691203ecc0",
   "metadata": {},
   "outputs": [
    {
     "data": {
      "text/html": [
       "<pre>[[1e+04, 47.8],\n",
       " [1e+04, 48.7],\n",
       " [1.01e+04, 52.5],\n",
       " [1e+04, 42.2],\n",
       " [1e+04, 64.7],\n",
       " [1.01e+04, 54.6],\n",
       " [1.01e+04, 68.9],\n",
       " [1e+04, 87.9],\n",
       " [1e+04, 10.8],\n",
       " [1e+04, 51.6],\n",
       " ...,\n",
       " [1.01e+04, 106],\n",
       " [1e+04, 61.1],\n",
       " [1e+04, 43.3],\n",
       " [1e+04, 38.1],\n",
       " [1e+04, 33.3],\n",
       " [1e+04, 39.7],\n",
       " [1e+04, 133],\n",
       " [1e+04, 78.5],\n",
       " [1e+04, 14.2]]\n",
       "-------------------------\n",
       "type: 868 * var * float64</pre>"
      ],
      "text/plain": [
       "<Array [[1e+04, 47.8], [...], ..., [1e+04, 14.2]] type='868 * var * float64'>"
      ]
     },
     "execution_count": 5,
     "metadata": {},
     "output_type": "execute_result"
    }
   ],
   "source": [
    "# good_muons.pt\n",
    "ak.sort(good_muons, ascending=False).pt"
   ]
  },
  {
   "cell_type": "code",
   "execution_count": 12,
   "id": "71fee76a-daae-44f4-908c-6277fa04f193",
   "metadata": {},
   "outputs": [
    {
     "ename": "NotImplementedError",
     "evalue": "\n\nSee if this has been reported at https://github.com/scikit-hep/awkward/issues",
     "output_type": "error",
     "traceback": [
      "\u001b[0;31m---------------------------------------------------------------------------\u001b[0m",
      "\u001b[0;31mNotImplementedError\u001b[0m                       Traceback (most recent call last)",
      "File \u001b[0;32m/depot/cms/kernels/coffea2024/lib/python3.10/site-packages/awkward/_dispatch.py:62\u001b[0m, in \u001b[0;36mnamed_high_level_function.<locals>.dispatch\u001b[0;34m(*args, **kwargs)\u001b[0m\n\u001b[1;32m     61\u001b[0m \u001b[38;5;28;01mtry\u001b[39;00m:\n\u001b[0;32m---> 62\u001b[0m     \u001b[38;5;28;43mnext\u001b[39;49m\u001b[43m(\u001b[49m\u001b[43mgen_or_result\u001b[49m\u001b[43m)\u001b[49m\n\u001b[1;32m     63\u001b[0m \u001b[38;5;28;01mexcept\u001b[39;00m \u001b[38;5;167;01mStopIteration\u001b[39;00m \u001b[38;5;28;01mas\u001b[39;00m err:\n",
      "File \u001b[0;32m/depot/cms/kernels/coffea2024/lib/python3.10/site-packages/awkward/operations/ak_argsort.py:69\u001b[0m, in \u001b[0;36margsort\u001b[0;34m(array, axis, ascending, stable, highlevel, behavior, attrs)\u001b[0m\n\u001b[1;32m     68\u001b[0m \u001b[38;5;66;03m# Implementation\u001b[39;00m\n\u001b[0;32m---> 69\u001b[0m \u001b[38;5;28;01mreturn\u001b[39;00m \u001b[43m_impl\u001b[49m\u001b[43m(\u001b[49m\u001b[43marray\u001b[49m\u001b[43m,\u001b[49m\u001b[43m \u001b[49m\u001b[43maxis\u001b[49m\u001b[43m,\u001b[49m\u001b[43m \u001b[49m\u001b[43mascending\u001b[49m\u001b[43m,\u001b[49m\u001b[43m \u001b[49m\u001b[43mstable\u001b[49m\u001b[43m,\u001b[49m\u001b[43m \u001b[49m\u001b[43mhighlevel\u001b[49m\u001b[43m,\u001b[49m\u001b[43m \u001b[49m\u001b[43mbehavior\u001b[49m\u001b[43m,\u001b[49m\u001b[43m \u001b[49m\u001b[43mattrs\u001b[49m\u001b[43m)\u001b[49m\n",
      "File \u001b[0;32m/depot/cms/kernels/coffea2024/lib/python3.10/site-packages/awkward/operations/ak_argsort.py:76\u001b[0m, in \u001b[0;36m_impl\u001b[0;34m(array, axis, ascending, stable, highlevel, behavior, attrs)\u001b[0m\n\u001b[1;32m     75\u001b[0m     layout \u001b[38;5;241m=\u001b[39m ctx\u001b[38;5;241m.\u001b[39munwrap(array, allow_record\u001b[38;5;241m=\u001b[39m\u001b[38;5;28;01mFalse\u001b[39;00m, primitive_policy\u001b[38;5;241m=\u001b[39m\u001b[38;5;124m\"\u001b[39m\u001b[38;5;124merror\u001b[39m\u001b[38;5;124m\"\u001b[39m)\n\u001b[0;32m---> 76\u001b[0m out \u001b[38;5;241m=\u001b[39m \u001b[43mak\u001b[49m\u001b[38;5;241;43m.\u001b[39;49m\u001b[43m_do\u001b[49m\u001b[38;5;241;43m.\u001b[39;49m\u001b[43margsort\u001b[49m\u001b[43m(\u001b[49m\u001b[43mlayout\u001b[49m\u001b[43m,\u001b[49m\u001b[43m \u001b[49m\u001b[43maxis\u001b[49m\u001b[43m,\u001b[49m\u001b[43m \u001b[49m\u001b[43mascending\u001b[49m\u001b[43m,\u001b[49m\u001b[43m \u001b[49m\u001b[43mstable\u001b[49m\u001b[43m)\u001b[49m\n\u001b[1;32m     77\u001b[0m \u001b[38;5;28;01mreturn\u001b[39;00m ctx\u001b[38;5;241m.\u001b[39mwrap(out, highlevel\u001b[38;5;241m=\u001b[39mhighlevel)\n",
      "File \u001b[0;32m/depot/cms/kernels/coffea2024/lib/python3.10/site-packages/awkward/_do.py:383\u001b[0m, in \u001b[0;36margsort\u001b[0;34m(layout, axis, ascending, stable)\u001b[0m\n\u001b[1;32m    382\u001b[0m parents \u001b[38;5;241m=\u001b[39m ak\u001b[38;5;241m.\u001b[39mindex\u001b[38;5;241m.\u001b[39mIndex64\u001b[38;5;241m.\u001b[39mzeros(layout\u001b[38;5;241m.\u001b[39mlength, nplike\u001b[38;5;241m=\u001b[39mlayout\u001b[38;5;241m.\u001b[39mbackend\u001b[38;5;241m.\u001b[39mindex_nplike)\n\u001b[0;32m--> 383\u001b[0m \u001b[38;5;28;01mreturn\u001b[39;00m \u001b[43mlayout\u001b[49m\u001b[38;5;241;43m.\u001b[39;49m\u001b[43m_argsort_next\u001b[49m\u001b[43m(\u001b[49m\n\u001b[1;32m    384\u001b[0m \u001b[43m    \u001b[49m\u001b[43mnegaxis\u001b[49m\u001b[43m,\u001b[49m\n\u001b[1;32m    385\u001b[0m \u001b[43m    \u001b[49m\u001b[43mstarts\u001b[49m\u001b[43m,\u001b[49m\n\u001b[1;32m    386\u001b[0m \u001b[43m    \u001b[49m\u001b[38;5;28;43;01mNone\u001b[39;49;00m\u001b[43m,\u001b[49m\n\u001b[1;32m    387\u001b[0m \u001b[43m    \u001b[49m\u001b[43mparents\u001b[49m\u001b[43m,\u001b[49m\n\u001b[1;32m    388\u001b[0m \u001b[43m    \u001b[49m\u001b[38;5;241;43m1\u001b[39;49m\u001b[43m,\u001b[49m\n\u001b[1;32m    389\u001b[0m \u001b[43m    \u001b[49m\u001b[43mascending\u001b[49m\u001b[43m,\u001b[49m\n\u001b[1;32m    390\u001b[0m \u001b[43m    \u001b[49m\u001b[43mstable\u001b[49m\u001b[43m,\u001b[49m\n\u001b[1;32m    391\u001b[0m \u001b[43m\u001b[49m\u001b[43m)\u001b[49m\n",
      "File \u001b[0;32m/depot/cms/kernels/coffea2024/lib/python3.10/site-packages/awkward/contents/listoffsetarray.py:1204\u001b[0m, in \u001b[0;36mListOffsetArray._argsort_next\u001b[0;34m(self, negaxis, starts, shifts, parents, outlength, ascending, stable)\u001b[0m\n\u001b[1;32m   1203\u001b[0m trimmed \u001b[38;5;241m=\u001b[39m \u001b[38;5;28mself\u001b[39m\u001b[38;5;241m.\u001b[39m_content[\u001b[38;5;28mself\u001b[39m\u001b[38;5;241m.\u001b[39m_offsets[\u001b[38;5;241m0\u001b[39m] : \u001b[38;5;28mself\u001b[39m\u001b[38;5;241m.\u001b[39m_offsets[\u001b[38;5;241m-\u001b[39m\u001b[38;5;241m1\u001b[39m]]\n\u001b[0;32m-> 1204\u001b[0m outcontent \u001b[38;5;241m=\u001b[39m \u001b[43mtrimmed\u001b[49m\u001b[38;5;241;43m.\u001b[39;49m\u001b[43m_argsort_next\u001b[49m\u001b[43m(\u001b[49m\n\u001b[1;32m   1205\u001b[0m \u001b[43m    \u001b[49m\u001b[43mnegaxis\u001b[49m\u001b[43m,\u001b[49m\n\u001b[1;32m   1206\u001b[0m \u001b[43m    \u001b[49m\u001b[38;5;28;43mself\u001b[39;49m\u001b[38;5;241;43m.\u001b[39;49m\u001b[43m_offsets\u001b[49m\u001b[43m[\u001b[49m\u001b[43m:\u001b[49m\u001b[38;5;241;43m-\u001b[39;49m\u001b[38;5;241;43m1\u001b[39;49m\u001b[43m]\u001b[49m\u001b[43m,\u001b[49m\n\u001b[1;32m   1207\u001b[0m \u001b[43m    \u001b[49m\u001b[43mshifts\u001b[49m\u001b[43m,\u001b[49m\n\u001b[1;32m   1208\u001b[0m \u001b[43m    \u001b[49m\u001b[43mnextparents\u001b[49m\u001b[43m,\u001b[49m\n\u001b[1;32m   1209\u001b[0m \u001b[43m    \u001b[49m\u001b[38;5;28;43mself\u001b[39;49m\u001b[38;5;241;43m.\u001b[39;49m\u001b[43m_offsets\u001b[49m\u001b[38;5;241;43m.\u001b[39;49m\u001b[43mlength\u001b[49m\u001b[43m \u001b[49m\u001b[38;5;241;43m-\u001b[39;49m\u001b[43m \u001b[49m\u001b[38;5;241;43m1\u001b[39;49m\u001b[43m,\u001b[49m\n\u001b[1;32m   1210\u001b[0m \u001b[43m    \u001b[49m\u001b[43mascending\u001b[49m\u001b[43m,\u001b[49m\n\u001b[1;32m   1211\u001b[0m \u001b[43m    \u001b[49m\u001b[43mstable\u001b[49m\u001b[43m,\u001b[49m\n\u001b[1;32m   1212\u001b[0m \u001b[43m\u001b[49m\u001b[43m)\u001b[49m\n\u001b[1;32m   1213\u001b[0m outoffsets \u001b[38;5;241m=\u001b[39m \u001b[38;5;28mself\u001b[39m\u001b[38;5;241m.\u001b[39m_compact_offsets64(\u001b[38;5;28;01mTrue\u001b[39;00m)\n",
      "File \u001b[0;32m/depot/cms/kernels/coffea2024/lib/python3.10/site-packages/awkward/contents/recordarray.py:848\u001b[0m, in \u001b[0;36mRecordArray._argsort_next\u001b[0;34m(self, negaxis, starts, shifts, parents, outlength, ascending, stable)\u001b[0m\n\u001b[1;32m    845\u001b[0m \u001b[38;5;28;01mdef\u001b[39;00m \u001b[38;5;21m_argsort_next\u001b[39m(\n\u001b[1;32m    846\u001b[0m     \u001b[38;5;28mself\u001b[39m, negaxis, starts, shifts, parents, outlength, ascending, stable\n\u001b[1;32m    847\u001b[0m ):\n\u001b[0;32m--> 848\u001b[0m     \u001b[38;5;28;01mraise\u001b[39;00m \u001b[38;5;167;01mNotImplementedError\u001b[39;00m\n",
      "\u001b[0;31mNotImplementedError\u001b[0m: ",
      "\nThe above exception was the direct cause of the following exception:\n",
      "\u001b[0;31mNotImplementedError\u001b[0m                       Traceback (most recent call last)",
      "Cell \u001b[0;32mIn[12], line 1\u001b[0m\n\u001b[0;32m----> 1\u001b[0m \u001b[43mak\u001b[49m\u001b[38;5;241;43m.\u001b[39;49m\u001b[43margsort\u001b[49m\u001b[43m(\u001b[49m\u001b[43mgood_muons\u001b[49m\u001b[43m,\u001b[49m\u001b[43m \u001b[49m\u001b[43mascending\u001b[49m\u001b[38;5;241;43m=\u001b[39;49m\u001b[38;5;28;43;01mFalse\u001b[39;49;00m\u001b[43m)\u001b[49m\n",
      "File \u001b[0;32m/depot/cms/kernels/coffea2024/lib/python3.10/site-packages/awkward/_dispatch.py:38\u001b[0m, in \u001b[0;36mnamed_high_level_function.<locals>.dispatch\u001b[0;34m(*args, **kwargs)\u001b[0m\n\u001b[1;32m     35\u001b[0m \u001b[38;5;129m@wraps\u001b[39m(func)\n\u001b[1;32m     36\u001b[0m \u001b[38;5;28;01mdef\u001b[39;00m \u001b[38;5;21mdispatch\u001b[39m(\u001b[38;5;241m*\u001b[39margs, \u001b[38;5;241m*\u001b[39m\u001b[38;5;241m*\u001b[39mkwargs):\n\u001b[1;32m     37\u001b[0m     \u001b[38;5;66;03m# NOTE: this decorator assumes that the operation is exposed under `ak.`\u001b[39;00m\n\u001b[0;32m---> 38\u001b[0m     \u001b[38;5;28;01mwith\u001b[39;00m OperationErrorContext(name, args, kwargs):\n\u001b[1;32m     39\u001b[0m         gen_or_result \u001b[38;5;241m=\u001b[39m func(\u001b[38;5;241m*\u001b[39margs, \u001b[38;5;241m*\u001b[39m\u001b[38;5;241m*\u001b[39mkwargs)\n\u001b[1;32m     40\u001b[0m         \u001b[38;5;28;01mif\u001b[39;00m isgenerator(gen_or_result):\n",
      "File \u001b[0;32m/depot/cms/kernels/coffea2024/lib/python3.10/site-packages/awkward/_errors.py:85\u001b[0m, in \u001b[0;36mErrorContext.__exit__\u001b[0;34m(self, exception_type, exception_value, traceback)\u001b[0m\n\u001b[1;32m     78\u001b[0m \u001b[38;5;28;01mtry\u001b[39;00m:\n\u001b[1;32m     79\u001b[0m     \u001b[38;5;66;03m# Handle caught exception\u001b[39;00m\n\u001b[1;32m     80\u001b[0m     \u001b[38;5;28;01mif\u001b[39;00m (\n\u001b[1;32m     81\u001b[0m         exception_type \u001b[38;5;129;01mis\u001b[39;00m \u001b[38;5;129;01mnot\u001b[39;00m \u001b[38;5;28;01mNone\u001b[39;00m\n\u001b[1;32m     82\u001b[0m         \u001b[38;5;129;01mand\u001b[39;00m \u001b[38;5;28missubclass\u001b[39m(exception_type, \u001b[38;5;167;01mException\u001b[39;00m)\n\u001b[1;32m     83\u001b[0m         \u001b[38;5;129;01mand\u001b[39;00m \u001b[38;5;28mself\u001b[39m\u001b[38;5;241m.\u001b[39mprimary() \u001b[38;5;129;01mis\u001b[39;00m \u001b[38;5;28mself\u001b[39m\n\u001b[1;32m     84\u001b[0m     ):\n\u001b[0;32m---> 85\u001b[0m         \u001b[38;5;28;43mself\u001b[39;49m\u001b[38;5;241;43m.\u001b[39;49m\u001b[43mhandle_exception\u001b[49m\u001b[43m(\u001b[49m\u001b[43mexception_type\u001b[49m\u001b[43m,\u001b[49m\u001b[43m \u001b[49m\u001b[43mexception_value\u001b[49m\u001b[43m)\u001b[49m\n\u001b[1;32m     86\u001b[0m \u001b[38;5;28;01mfinally\u001b[39;00m:\n\u001b[1;32m     87\u001b[0m     \u001b[38;5;66;03m# Step out of the way so that another ErrorContext can become primary.\u001b[39;00m\n\u001b[1;32m     88\u001b[0m     \u001b[38;5;28;01mif\u001b[39;00m \u001b[38;5;28mself\u001b[39m\u001b[38;5;241m.\u001b[39mprimary() \u001b[38;5;129;01mis\u001b[39;00m \u001b[38;5;28mself\u001b[39m:\n",
      "File \u001b[0;32m/depot/cms/kernels/coffea2024/lib/python3.10/site-packages/awkward/_errors.py:95\u001b[0m, in \u001b[0;36mErrorContext.handle_exception\u001b[0;34m(self, cls, exception)\u001b[0m\n\u001b[1;32m     93\u001b[0m     \u001b[38;5;28mself\u001b[39m\u001b[38;5;241m.\u001b[39mdecorate_exception(\u001b[38;5;28mcls\u001b[39m, exception)\n\u001b[1;32m     94\u001b[0m \u001b[38;5;28;01melse\u001b[39;00m:\n\u001b[0;32m---> 95\u001b[0m     \u001b[38;5;28;01mraise\u001b[39;00m \u001b[38;5;28mself\u001b[39m\u001b[38;5;241m.\u001b[39mdecorate_exception(\u001b[38;5;28mcls\u001b[39m, exception)\n",
      "\u001b[0;31mNotImplementedError\u001b[0m: \n\nSee if this has been reported at https://github.com/scikit-hep/awkward/issues"
     ]
    }
   ],
   "source": []
  },
  {
   "cell_type": "code",
   "execution_count": 8,
   "id": "356fbba6-93e4-4702-85fd-1f541f99df7a",
   "metadata": {},
   "outputs": [
    {
     "data": {
      "text/html": [
       "<pre>[[1e+04, 0.106],\n",
       " [1e+04, 0.106],\n",
       " [1e+04, 0.106],\n",
       " [1e+04, 0.106],\n",
       " [1e+04, 0.106],\n",
       " [1e+04, 0.106],\n",
       " [1e+04, 0.106],\n",
       " [1e+04, 0.106],\n",
       " [1e+04, 0.106],\n",
       " [1e+04, 0.106],\n",
       " ...,\n",
       " [1e+04, 0.106],\n",
       " [1e+04, 0.106],\n",
       " [1e+04, 0.106],\n",
       " [1e+04, 0.106],\n",
       " [1e+04, 0.106],\n",
       " [1e+04, 0.106],\n",
       " [1e+04, 0.106],\n",
       " [1e+04, 0.106],\n",
       " [1e+04, 0.106]]\n",
       "-------------------------\n",
       "type: 868 * var * float64</pre>"
      ],
      "text/plain": [
       "<Array [[1e+04, 0.106], [...], ..., [1e+04, 0.106]] type='868 * var * float64'>"
      ]
     },
     "execution_count": 8,
     "metadata": {},
     "output_type": "execute_result"
    }
   ],
   "source": [
    "ak.sort(good_muons, ascending=False).mass"
   ]
  },
  {
   "cell_type": "code",
   "execution_count": 6,
   "id": "e355531a-6d65-4fd2-af30-2f9b26701eeb",
   "metadata": {},
   "outputs": [
    {
     "data": {
      "text/html": [
       "<pre>[[47.8, 1e+04],\n",
       " [48.7, 1e+04],\n",
       " [52.5, 1.01e+04],\n",
       " [42.2, 1e+04],\n",
       " [64.7, 1e+04],\n",
       " [54.6, 1.01e+04],\n",
       " [68.9, 1.01e+04],\n",
       " [87.9, 1e+04],\n",
       " [10.8, 1e+04],\n",
       " [51.6, 1e+04],\n",
       " ...,\n",
       " [106, 1.01e+04],\n",
       " [61.1, 1e+04],\n",
       " [43.3, 1e+04],\n",
       " [38.1, 1e+04],\n",
       " [33.3, 1e+04],\n",
       " [39.7, 1e+04],\n",
       " [133, 1e+04],\n",
       " [78.5, 1e+04],\n",
       " [14.2, 1e+04]]\n",
       "-------------------------\n",
       "type: 868 * var * float64</pre>"
      ],
      "text/plain": [
       "<Array [[47.8, 1e+04], [...], ..., [14.2, 1e+04]] type='868 * var * float64'>"
      ]
     },
     "execution_count": 6,
     "metadata": {},
     "output_type": "execute_result"
    }
   ],
   "source": [
    "good_muons.pt"
   ]
  },
  {
   "cell_type": "code",
   "execution_count": 9,
   "id": "5bc6d786-f44b-4a87-95d6-993025ac551a",
   "metadata": {},
   "outputs": [
    {
     "data": {
      "text/html": [
       "<pre>[[1e+04, 0.106],\n",
       " [1e+04, 0.106],\n",
       " [1e+04, 0.106],\n",
       " [1e+04, 0.106],\n",
       " [1e+04, 0.106],\n",
       " [1e+04, 0.106],\n",
       " [1e+04, 0.106],\n",
       " [1e+04, 0.106],\n",
       " [1e+04, 0.106],\n",
       " [1e+04, 0.106],\n",
       " ...,\n",
       " [1e+04, 0.106],\n",
       " [1e+04, 0.106],\n",
       " [1e+04, 0.106],\n",
       " [1e+04, 0.106],\n",
       " [1e+04, 0.106],\n",
       " [1e+04, 0.106],\n",
       " [1e+04, 0.106],\n",
       " [1e+04, 0.106],\n",
       " [1e+04, 0.106]]\n",
       "-------------------------\n",
       "type: 868 * var * float64</pre>"
      ],
      "text/plain": [
       "<Array [[1e+04, 0.106], [...], ..., [1e+04, 0.106]] type='868 * var * float64'>"
      ]
     },
     "execution_count": 9,
     "metadata": {},
     "output_type": "execute_result"
    }
   ],
   "source": [
    "good_muons.mass"
   ]
  },
  {
   "cell_type": "code",
   "execution_count": null,
   "id": "2fd6e629-4d9d-4cdf-a9a7-e3e542fd38d5",
   "metadata": {},
   "outputs": [],
   "source": [
    "ak.sort(good_muons, ascending=False).pt"
   ]
  },
  {
   "cell_type": "code",
   "execution_count": 7,
   "id": "3a59fc10-f575-41cd-b4b6-a6b51b5ead38",
   "metadata": {},
   "outputs": [],
   "source": [
    "muons = events.Muon\n",
    "nmuons = ak.num(muons, axis=1)\n",
    "muon_selection = nmuons >= 1\n",
    "# good_muons = muons[muon_selection]\n",
    "good_muons = ak.pad_none(muons[muon_selection], target=2, clip=True)\n",
    "# good_muons = ak.sort(good_muons, axis=1, ascending=False)"
   ]
  },
  {
   "cell_type": "code",
   "execution_count": 8,
   "id": "a1aed65a-2d08-4140-a9cc-c0bfdb83e80c",
   "metadata": {},
   "outputs": [],
   "source": [
    "mu2_pt = good_muons.pt[:,1:2]"
   ]
  },
  {
   "cell_type": "code",
   "execution_count": 21,
   "id": "fdd13659-b22a-4bc5-b1b7-dd498788177c",
   "metadata": {},
   "outputs": [
    {
     "name": "stderr",
     "output_type": "stream",
     "text": [
      "/depot/cms/kernels/coffea2024/lib/python3.10/site-packages/distributed/node.py:182: UserWarning: Port 8787 is already in use.\n",
      "Perhaps you already have a cluster running?\n",
      "Hosting the HTTP server on port 42721 instead\n",
      "  warnings.warn(\n"
     ]
    }
   ],
   "source": [
    "\"\"\"\n",
    "doing same with delayed\n",
    "\"\"\"\n",
    "from coffea.nanoevents import NanoEventsFactory, NanoAODSchema\n",
    "from distributed import Client\n",
    "import awkward as ak\n",
    "import numpy as np\n",
    "\n",
    "client = Client(n_workers=8,  threads_per_worker=1, processes=True, memory_limit='3 GiB') \n",
    "file_dict = {\"root://eos.cms.rcac.purdue.edu:1094///store/mc/RunIISummer20UL18NanoAODv9/DYJetsToLL_M-100to200_TuneCP5_13TeV-amcatnloFXFX-pythia8/NANOAODSIM/106X_upgrade2018_realistic_v16_L1v1-v1/40000/AA6F89B0-EDAA-3942-A3BB-BC3709722EB4.root\": {\"object_path\": \"Events\", \"steps\": [[0, 10017]], \"uuid\": \"b16b5dea-fbcd-11ed-bae7-a2a0b8bcbeef\"}}\n",
    "fname = \"root://eos.cms.rcac.purdue.edu:1094///store/mc/RunIISummer20UL18NanoAODv9/DYJetsToLL_M-100to200_TuneCP5_13TeV-amcatnloFXFX-pythia8/NANOAODSIM/106X_upgrade2018_realistic_v16_L1v1-v1/40000/AA6F89B0-EDAA-3942-A3BB-BC3709722EB4.root\"\n",
    "\n",
    "events = NanoEventsFactory.from_root(\n",
    "    # {fname: \"Events\"},\n",
    "    file_dict,\n",
    "    schemaclass=NanoAODSchema,\n",
    "    metadata={\"dataset\": \"DYJets\"},\n",
    "    # delayed=False,\n",
    "    # entry_stop = 5000,\n",
    ").events()"
   ]
  },
  {
   "cell_type": "code",
   "execution_count": 41,
   "id": "ecbfc6db-da7a-4fe0-b3ca-219959177e3e",
   "metadata": {},
   "outputs": [],
   "source": [
    "muons = events.Muon\n",
    "nmuons = ak.num(muons, axis=1)\n",
    "muon_selection = nmuons == 2\n",
    "good_muons = muons[muon_selection]\n",
    "# num_events = ak.num(good_muons, axis=0)\n",
    "pt_add = ak.argsort(ak.zeros_like(good_muons.pt)) * 10000\n",
    "good_muons[\"pt\"] = good_muons.pt + pt_add\n",
    "mass_add = ak.argsort(ak.zeros_like(good_muons.pt))\n",
    "mass_add = ak.where(mass_add==0, 10000, 0)\n",
    "# print(arr)\n",
    "good_muons[\"mass\"] = good_muons.mass + mass_add"
   ]
  },
  {
   "cell_type": "code",
   "execution_count": 42,
   "id": "69279f64-664e-4805-b38d-36b28ee25962",
   "metadata": {},
   "outputs": [
    {
     "name": "stdout",
     "output_type": "stream",
     "text": [
      "good_muons.pt b4: [[47.8, 1e+04], [48.7, 1e+04], [52.5, ...], ..., [7.02, 1e+04], [40.8, 1e+04]]\n",
      "good_muons.mass b4: [[1e+04, 0.106], [1e+04, 0.106], [...], ..., [1e+04, 0.106], [1e+04, 0.106]]\n",
      "good_muons.pt after: [[1e+04, 47.8], [1e+04, 48.7], [...], ..., [...], [1e+04, 7.02], [1e+04, 40.8]]\n",
      "good_muons.mass b4: [[0.106, 1e+04], [0.106, 1e+04], [...], ..., [0.106, 1e+04], [0.106, 1e+04]]\n"
     ]
    }
   ],
   "source": [
    "args = ak.argsort(good_muons.pt, ascending=False)\n",
    "print(f\"good_muons.pt b4: {good_muons.pt.compute()}\")\n",
    "print(f\"good_muons.mass b4: {good_muons.mass.compute()}\")\n",
    "good_muons = good_muons[args]\n",
    "print(f\"good_muons.pt after: {good_muons.pt.compute()}\")\n",
    "print(f\"good_muons.mass b4: {good_muons.mass.compute()}\")"
   ]
  },
  {
   "cell_type": "code",
   "execution_count": 37,
   "id": "5f88feb2-f02b-41c4-8c77-6b7b4a031b3c",
   "metadata": {},
   "outputs": [
    {
     "name": "stderr",
     "output_type": "stream",
     "text": [
      "/depot/cms/kernels/coffea2024/lib/python3.10/site-packages/coffea/nanoevents/methods/candidate.py:11: FutureWarning: In version 2024.7.0 (target date: 2024-06-30 11:59:59-05:00), this will be an error.\n",
      "To raise these warnings as errors (and get stack traces to find out where they're called), run\n",
      "    import warnings\n",
      "    warnings.filterwarnings(\"error\", module=\"coffea.*\")\n",
      "after the first `import coffea` or use `@pytest.mark.filterwarnings(\"error:::coffea.*\")` in pytest.\n",
      "Issue: coffea.nanoevents.methods.vector will be removed and replaced with scikit-hep vector. Nanoevents schemas internal to coffea will be migrated. Otherwise please consider using that package!.\n",
      "  from coffea.nanoevents.methods import vector\n"
     ]
    },
    {
     "data": {
      "text/html": [
       "<pre>[[1e+04, 47.8],\n",
       " [1e+04, 48.7],\n",
       " [1.01e+04, 52.5],\n",
       " [1e+04, 42.2],\n",
       " [1e+04, 64.7],\n",
       " [1.01e+04, 54.6],\n",
       " [1.01e+04, 68.9],\n",
       " [1e+04, 87.9],\n",
       " [1e+04, 10.8],\n",
       " [1e+04, 51.6],\n",
       " ...,\n",
       " [1e+04, 60.2],\n",
       " [1e+04, 18.6],\n",
       " [1.01e+04, 77.7],\n",
       " [1e+04, 50.4],\n",
       " [1e+04, 48.3],\n",
       " [1e+04, 54.9],\n",
       " [1.01e+04, 56.1],\n",
       " [1e+04, 7.02],\n",
       " [1e+04, 40.8]]\n",
       "--------------------------\n",
       "type: 1716 * var * float64</pre>"
      ],
      "text/plain": [
       "<Array [[1e+04, 47.8], [...], ..., [1e+04, 40.8]] type='1716 * var * float64'>"
      ]
     },
     "execution_count": 37,
     "metadata": {},
     "output_type": "execute_result"
    }
   ],
   "source": [
    "good_muons.pt.compute()"
   ]
  },
  {
   "cell_type": "code",
   "execution_count": 34,
   "id": "d91154f3-6101-40a2-b449-eef31e0632e7",
   "metadata": {},
   "outputs": [
    {
     "name": "stderr",
     "output_type": "stream",
     "text": [
      "/depot/cms/kernels/coffea2024/lib/python3.10/site-packages/coffea/nanoevents/methods/candidate.py:11: FutureWarning: In version 2024.7.0 (target date: 2024-06-30 11:59:59-05:00), this will be an error.\n",
      "To raise these warnings as errors (and get stack traces to find out where they're called), run\n",
      "    import warnings\n",
      "    warnings.filterwarnings(\"error\", module=\"coffea.*\")\n",
      "after the first `import coffea` or use `@pytest.mark.filterwarnings(\"error:::coffea.*\")` in pytest.\n",
      "Issue: coffea.nanoevents.methods.vector will be removed and replaced with scikit-hep vector. Nanoevents schemas internal to coffea will be migrated. Otherwise please consider using that package!.\n",
      "  from coffea.nanoevents.methods import vector\n"
     ]
    },
    {
     "data": {
      "text/html": [
       "<pre>[[10000, 0],\n",
       " [10000, 0],\n",
       " [10000, 0],\n",
       " [10000, 0],\n",
       " [10000, 0],\n",
       " [10000, 0],\n",
       " [10000, 0],\n",
       " [10000, 0],\n",
       " [10000, 0],\n",
       " [10000, 0],\n",
       " ...,\n",
       " [10000, 0],\n",
       " [10000, 0],\n",
       " [10000, 0],\n",
       " [10000, 0],\n",
       " [10000, 0],\n",
       " [10000, 0],\n",
       " [10000, 0],\n",
       " [10000, 0],\n",
       " [10000, 0]]\n",
       "------------------------\n",
       "type: 1716 * var * int64</pre>"
      ],
      "text/plain": [
       "<Array [[10000, 0], [10000, 0], ..., [10000, 0]] type='1716 * var * int64'>"
      ]
     },
     "execution_count": 34,
     "metadata": {},
     "output_type": "execute_result"
    }
   ],
   "source": [
    "# pt_add = ak.argsort(ak.zeros_like(good_muons.pt))\n",
    "# (pt_add*10000).compute()\n",
    "# mass_add = ak.argsort(ak.zeros_like(good_muons.pt))\n",
    "# mass_add = ak.where(mass_add==0, 10000, 0)\n",
    "# mass_add.compute()"
   ]
  },
  {
   "cell_type": "code",
   "execution_count": 23,
   "id": "6be388c1-f420-4906-8a12-df60f40acf6f",
   "metadata": {},
   "outputs": [
    {
     "data": {
      "text/plain": [
       "dask.awkward<getitem, npartitions=1>"
      ]
     },
     "execution_count": 23,
     "metadata": {},
     "output_type": "execute_result"
    }
   ],
   "source": [
    "good_muons"
   ]
  },
  {
   "cell_type": "code",
   "execution_count": 15,
   "id": "c6e11e0a-64bb-46b8-8e3b-08f44c16155b",
   "metadata": {},
   "outputs": [],
   "source": [
    "\n"
   ]
  },
  {
   "cell_type": "code",
   "execution_count": null,
   "id": "aa349230-ea1f-4c07-825c-f4ab94fe2017",
   "metadata": {},
   "outputs": [],
   "source": [
    "print(good_muons.pt.compute())\n",
    "print(good_muons.mass.compute())"
   ]
  }
 ],
 "metadata": {
  "kernelspec": {
   "display_name": "Python [conda env:coffea2024]",
   "language": "python",
   "name": "conda-env-coffea2024-py"
  },
  "language_info": {
   "codemirror_mode": {
    "name": "ipython",
    "version": 3
   },
   "file_extension": ".py",
   "mimetype": "text/x-python",
   "name": "python",
   "nbconvert_exporter": "python",
   "pygments_lexer": "ipython3",
   "version": "3.10.13"
  }
 },
 "nbformat": 4,
 "nbformat_minor": 5
}
