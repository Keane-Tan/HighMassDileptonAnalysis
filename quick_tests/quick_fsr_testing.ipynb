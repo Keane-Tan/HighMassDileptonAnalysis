{
 "cells": [
  {
   "cell_type": "code",
   "execution_count": 1,
   "id": "3a7d391a-cb12-48d8-99a5-72b9aeba2c0b",
   "metadata": {},
   "outputs": [],
   "source": [
    "import numpy as np\n",
    "import awkward as ak\n",
    "from typing import TypeVar, Tuple\n",
    "ak_array = TypeVar('ak_array')\n",
    "coffea_nanoevent = TypeVar('coffea_nanoevent') \n",
    "\n",
    "\n",
    "def fsr_recovery_old(events):\n",
    "    fsrPhotonsToRecover = (\n",
    "        (events.Muon.fsrPhotonIdx >= 0)\n",
    "        & (events.Muon.matched_fsrPhoton.relIso03 < 1.8)\n",
    "        & (events.Muon.matched_fsrPhoton.dROverEt2 < 0.012)\n",
    "        & (events.Muon.matched_fsrPhoton.pt / events.Muon.pt < 0.4)\n",
    "        & (abs(events.Muon.matched_fsrPhoton.eta) < 2.4)\n",
    "    )\n",
    "    fsrPhotonsToRecover = ak.fill_none(fsrPhotonsToRecover, False)\n",
    "\n",
    "    px = ak.zeros_like(events.Muon.pt)\n",
    "    py = ak.zeros_like(events.Muon.pt)\n",
    "    pz = ak.zeros_like(events.Muon.pt)\n",
    "    e = ak.zeros_like(events.Muon.pt)\n",
    "\n",
    "    fsr = {\n",
    "        \"pt\": events.Muon.matched_fsrPhoton.pt,\n",
    "        \"eta\": events.Muon.matched_fsrPhoton.eta,\n",
    "        \"phi\": events.Muon.matched_fsrPhoton.phi,\n",
    "        \"mass\": 0.0,\n",
    "    }\n",
    "    print(f\"fsr pt: {fsr['pt'].compute()}\")\n",
    "    for obj in [events.Muon, fsr]:\n",
    "        px_ = obj[\"pt\"] * np.cos(obj[\"phi\"])\n",
    "        py_ = obj[\"pt\"] * np.sin(obj[\"phi\"])\n",
    "        pz_ = obj[\"pt\"] * np.sinh(obj[\"eta\"])\n",
    "        e_ = np.sqrt(px_**2 + py_**2 + pz_**2 + obj[\"mass\"] ** 2)\n",
    "\n",
    "        px = px + px_\n",
    "        py = py + py_\n",
    "        pz = pz + pz_\n",
    "        e = e + e_\n",
    "\n",
    "    pt = np.sqrt(px**2 + py**2)\n",
    "    print(f\"type(pt): {(pt.type)}\")\n",
    "    print(f\"total nmuons applied with fsrPhotons: {ak.sum(fsrPhotonsToRecover,axis=None)}\")\n",
    "    eta = np.arcsinh(pz / pt)\n",
    "    phi = np.arctan2(py, px)\n",
    "    mass = np.sqrt(e**2 - px**2 - py**2 - pz**2)\n",
    "    print(f\"type(eta): {(eta.type)}\")\n",
    "    print(f\"type(phi): {(phi.type)}\")\n",
    "    print(f\"type(mass): {(mass.type)}\")\n",
    "    iso = (events.Muon.pfRelIso04_all * events.Muon.pt - events.Muon.matched_fsrPhoton.pt) / pt\n",
    "\n",
    "    events[\"Muon\", \"pt_fsr\"] = ak.where(fsrPhotonsToRecover, pt, events.Muon.pt)\n",
    "    # events[\"Muon\", \"eta_fsr\"] = ak.where(fsrPhotonsToRecover, eta, events.Muon.eta)\n",
    "    # events[\"Muon\", \"phi_fsr\"] = ak.where(fsrPhotonsToRecover, phi, events.Muon.phi)\n",
    "    # events[\"Muon\", \"mass_fsr\"] = ak.where(fsrPhotonsToRecover, mass, events.Muon.mass)\n",
    "    # events[\"Muon\", \"iso_fsr\"] = ak.where(fsrPhotonsToRecover, iso, events.Muon.pfRelIso04_all)\n",
    "    return fsrPhotonsToRecover\n",
    "\n",
    "\n",
    "def fsr_recovery_new(events: coffea_nanoevent) -> ak_array:\n",
    "    fsrPhotonsToRecover = (\n",
    "        (events.Muon.fsrPhotonIdx >= 0) # pick rows and cols that have values (-1 means no photon found)\n",
    "        & (events.Muon.matched_fsrPhoton.relIso03 < 1.8)\n",
    "        & (events.Muon.matched_fsrPhoton.dROverEt2 < 0.012)\n",
    "        & (events.Muon.matched_fsrPhoton.pt / events.Muon.pt < 0.4) # suppress Zgamma -> mumu contanmination\n",
    "        & (abs(events.Muon.matched_fsrPhoton.eta) < 2.4)\n",
    "    ) \n",
    "    \n",
    "    fsrPhotonsToRecover = ak.fill_none(fsrPhotonsToRecover, False) \n",
    "    # print(f\"fsrPhotonsToRecover sum: {ak.sum(fsrPhotonsToRecover, axis=None).compute()}\")\n",
    "    # print(f\"fsrPhotonsToRecover : {ak.flatten(fsrPhotonsToRecover[fsrPhotonsToRecover]).compute()}\")\n",
    "    # add mass and charge as otherwise you can't add two lorentzvectors\n",
    "    events[\"FsrPhoton\", \"mass\"] = 0 \n",
    "    events[\"FsrPhoton\", \"charge\"] = 0 \n",
    "    # print(f\"events.Muon.matched_fsrPhoton.mass: {events.Muon.matched_fsrPhoton.mass}\")\n",
    "    # print(f\"events.FsrPhoton: {events.FsrPhoton[fsrPhotonsToRecover].compute()}\")\n",
    "    # print(f\"events.Muon.matched_fsrPhoton: {ak.flatten(events.Muon.matched_fsrPhoton[fsrPhotonsToRecover]).compute()}\")\n",
    "    \n",
    "    fsr_muons = events.Muon.matched_fsrPhoton + events.Muon # None means there weren't matched fsrphotons\n",
    "    \n",
    "    fsr_iso = (events.Muon.pfRelIso04_all * events.Muon.pt - events.Muon.matched_fsrPhoton.pt) / fsr_muons.pt\n",
    "   \n",
    "    events[\"Muon\", \"pt_fsr\"] = ak.where(fsrPhotonsToRecover, fsr_muons.pt, events.Muon.pt)\n",
    "    # events[\"Muon\", \"eta_fsr\"] = ak.where(fsrPhotonsToRecover, fsr_muons.eta, events.Muon.eta)\n",
    "    # events[\"Muon\", \"phi_fsr\"] = ak.where(fsrPhotonsToRecover, fsr_muons.phi, events.Muon.phi)\n",
    "    # events[\"Muon\", \"mass_fsr\"] = ak.where(fsrPhotonsToRecover, fsr_muons.mass, events.Muon.mass)\n",
    "    # events[\"Muon\", \"iso_fsr\"] = ak.where(fsrPhotonsToRecover, fsr_iso, events.Muon.pfRelIso04_all)\n",
    "    \n",
    "    \n",
    "    fsr_filter = (ak.sum(fsrPhotonsToRecover, axis=1) > 0)\n",
    "\n",
    "    fsr_events = events[fsr_filter]\n",
    "    argmax = ak.argmax(fsr_events.Muon.pt_fsr, axis=1)\n",
    "    argmax_not_leading = argmax != 0\n",
    "    argmax_not_leading_events = fsr_events[argmax_not_leading]\n",
    "    return fsrPhotonsToRecover # return boolean filter for geofit"
   ]
  },
  {
   "cell_type": "code",
   "execution_count": 2,
   "id": "c7486f87-c063-4370-910b-27ce3b28b926",
   "metadata": {},
   "outputs": [
    {
     "name": "stderr",
     "output_type": "stream",
     "text": [
      "/depot/cms/kernels/coffea2024/lib/python3.10/site-packages/distributed/node.py:182: UserWarning: Port 8787 is already in use.\n",
      "Perhaps you already have a cluster running?\n",
      "Hosting the HTTP server on port 33733 instead\n",
      "  warnings.warn(\n"
     ]
    }
   ],
   "source": [
    "from coffea.nanoevents import NanoEventsFactory, NanoAODSchema\n",
    "from distributed import Client\n",
    "# fname = \"root://eos.cms.rcac.purdue.edu:1094///store/mc/RunIISummer20UL18NanoAODv9/DYJetsToLL_M-100to200_TuneCP5_13TeV-amcatnloFXFX-pythia8/NANOAODSIM/106X_upgrade2018_realistic_v16_L1v1-v1/40000/AA6F89B0-EDAA-3942-A3BB-BC3709722EB4.root\" # dy_M-100To200\n",
    "client = Client(n_workers=8,  threads_per_worker=1, processes=True, memory_limit='3 GiB') \n",
    "# file_dict = {\"root://eos.cms.rcac.purdue.edu:1094///store/mc/RunIISummer20UL18NanoAODv9/DYJetsToLL_M-100to200_TuneCP5_13TeV-amcatnloFXFX-pythia8/NANOAODSIM/106X_upgrade2018_realistic_v16_L1v1-v1/40000/AA6F89B0-EDAA-3942-A3BB-BC3709722EB4.root\": {\"object_path\": \"Events\", \"steps\": [[0, 100017]], \"uuid\": \"b16b5dea-fbcd-11ed-bae7-a2a0b8bcbeef\"}}\n",
    "file_dict = {\"root://eos.cms.rcac.purdue.edu:1094///store/mc/RunIISummer20UL18NanoAODv9/DYJetsToLL_M-100to200_TuneCP5_13TeV-amcatnloFXFX-pythia8/NANOAODSIM/106X_upgrade2018_realistic_v16_L1v1-v1/40000/AA6F89B0-EDAA-3942-A3BB-BC3709722EB4.root\": {\"object_path\": \"Events\", \"steps\": [[0, 100017]], \"uuid\": \"b16b5dea-fbcd-11ed-bae7-a2a0b8bcbeef\"}}\n"
   ]
  },
  {
   "cell_type": "code",
   "execution_count": 3,
   "id": "8353e9d2-7cc9-4264-ad5b-7c89b5746960",
   "metadata": {},
   "outputs": [
    {
     "name": "stderr",
     "output_type": "stream",
     "text": [
      "/depot/cms/kernels/coffea2024/lib/python3.10/site-packages/coffea/nanoevents/methods/candidate.py:11: FutureWarning: In version 2024.7.0 (target date: 2024-06-30 11:59:59-05:00), this will be an error.\n",
      "To raise these warnings as errors (and get stack traces to find out where they're called), run\n",
      "    import warnings\n",
      "    warnings.filterwarnings(\"error\", module=\"coffea.*\")\n",
      "after the first `import coffea` or use `@pytest.mark.filterwarnings(\"error:::coffea.*\")` in pytest.\n",
      "Issue: coffea.nanoevents.methods.vector will be removed and replaced with scikit-hep vector. Nanoevents schemas internal to coffea will be migrated. Otherwise please consider using that package!.\n",
      "  from coffea.nanoevents.methods import vector\n",
      "/depot/cms/kernels/coffea2024/lib/python3.10/site-packages/coffea/nanoevents/methods/candidate.py:11: FutureWarning: In version 2024.7.0 (target date: 2024-06-30 11:59:59-05:00), this will be an error.\n",
      "To raise these warnings as errors (and get stack traces to find out where they're called), run\n",
      "    import warnings\n",
      "    warnings.filterwarnings(\"error\", module=\"coffea.*\")\n",
      "after the first `import coffea` or use `@pytest.mark.filterwarnings(\"error:::coffea.*\")` in pytest.\n",
      "Issue: coffea.nanoevents.methods.vector will be removed and replaced with scikit-hep vector. Nanoevents schemas internal to coffea will be migrated. Otherwise please consider using that package!.\n",
      "  from coffea.nanoevents.methods import vector\n"
     ]
    },
    {
     "name": "stdout",
     "output_type": "stream",
     "text": [
      "fsr pt: [[], [], [None], [None], [], ..., [], [None, None], [None], [None, None], []]\n",
      "type(pt): ?? * var * ?float32\n",
      "total nmuons applied with fsrPhotons: dask.awkward<sum, type=Scalar, dtype=int64>\n",
      "type(eta): ?? * var * ?float32\n",
      "type(phi): ?? * var * ?float32\n",
      "type(mass): ?? * var * ?float32\n"
     ]
    },
    {
     "name": "stderr",
     "output_type": "stream",
     "text": [
      "/depot/cms/kernels/coffea2024/lib/python3.10/site-packages/coffea/nanoevents/methods/candidate.py:11: FutureWarning: In version 2024.7.0 (target date: 2024-06-30 11:59:59-05:00), this will be an error.\n",
      "To raise these warnings as errors (and get stack traces to find out where they're called), run\n",
      "    import warnings\n",
      "    warnings.filterwarnings(\"error\", module=\"coffea.*\")\n",
      "after the first `import coffea` or use `@pytest.mark.filterwarnings(\"error:::coffea.*\")` in pytest.\n",
      "Issue: coffea.nanoevents.methods.vector will be removed and replaced with scikit-hep vector. Nanoevents schemas internal to coffea will be migrated. Otherwise please consider using that package!.\n",
      "  from coffea.nanoevents.methods import vector\n"
     ]
    },
    {
     "name": "stdout",
     "output_type": "stream",
     "text": [
      "[None, None, 7.23, 4.16, None, 13.3, ..., None, None, 75.3, 25.1, 57, None]\n"
     ]
    }
   ],
   "source": [
    "events = NanoEventsFactory.from_root(\n",
    "    # {fname: \"Events\"},\n",
    "    file_dict,\n",
    "    schemaclass=NanoAODSchema,\n",
    "    metadata={\"dataset\": \"DYJets\"},\n",
    "    # delayed=False,\n",
    "    # entry_stop = 10017,\n",
    ").events()\n",
    "nmuons = ak.num(events.Muon, axis=1)\n",
    "good_events = nmuons==2\n",
    "# events = events[good_events]\n",
    "fsr_recovery_old(events)\n",
    "padded_muons = ak.pad_none(events.Muon, target=2, clip=True)\n",
    "muon_flip = padded_muons.pt[:,0] < padded_muons.pt[:,1]  \n",
    "muon_flip = ak.fill_none(muon_flip, value=False)\n",
    "# take the subleading muon values if that now has higher pt after corrections\n",
    "mu1 = ak.where(muon_flip, padded_muons[:,1], padded_muons[:,0])\n",
    "mu2 = ak.where(muon_flip, padded_muons[:,0], padded_muons[:,1])\n",
    "mu1_pt_old = mu1.pt_fsr\n",
    "mu2_pt_old = mu2.pt_fsr\n",
    "print(mu1_pt_old.compute())"
   ]
  },
  {
   "cell_type": "code",
   "execution_count": 4,
   "id": "e4152bb5-9052-4bff-9405-6eb0cb2cb9f8",
   "metadata": {},
   "outputs": [
    {
     "name": "stderr",
     "output_type": "stream",
     "text": [
      "/depot/cms/kernels/coffea2024/lib/python3.10/site-packages/coffea/nanoevents/methods/candidate.py:11: FutureWarning: In version 2024.7.0 (target date: 2024-06-30 11:59:59-05:00), this will be an error.\n",
      "To raise these warnings as errors (and get stack traces to find out where they're called), run\n",
      "    import warnings\n",
      "    warnings.filterwarnings(\"error\", module=\"coffea.*\")\n",
      "after the first `import coffea` or use `@pytest.mark.filterwarnings(\"error:::coffea.*\")` in pytest.\n",
      "Issue: coffea.nanoevents.methods.vector will be removed and replaced with scikit-hep vector. Nanoevents schemas internal to coffea will be migrated. Otherwise please consider using that package!.\n",
      "  from coffea.nanoevents.methods import vector\n"
     ]
    },
    {
     "name": "stdout",
     "output_type": "stream",
     "text": [
      "[None, None, 7.23, 4.16, None, 13.3, ..., None, None, 75.3, 25.1, 57, None]\n"
     ]
    }
   ],
   "source": [
    "# file_dict = {\"root://eos.cms.rcac.purdue.edu:1094///store/mc/RunIISummer20UL18NanoAODv9/DYJetsToLL_M-100to200_TuneCP5_13TeV-amcatnloFXFX-pythia8/NANOAODSIM/106X_upgrade2018_realistic_v16_L1v1-v1/40000/AA6F89B0-EDAA-3942-A3BB-BC3709722EB4.root\": {\"object_path\": \"Events\", \"steps\": [[0, 10017]], \"uuid\": \"b16b5dea-fbcd-11ed-bae7-a2a0b8bcbeef\"}}\n",
    "events = NanoEventsFactory.from_root(\n",
    "    # {fname: \"Events\"},\n",
    "    file_dict,\n",
    "    schemaclass=NanoAODSchema,\n",
    "    metadata={\"dataset\": \"DYJets\"},\n",
    "    # delayed=False,\n",
    "    # entry_stop = 10017,\n",
    ").events()\n",
    "nmuons = ak.num(events.Muon, axis=1)\n",
    "good_events = nmuons==2\n",
    "# events = events[good_events]\n",
    "fsr_recovery_new(events)\n",
    "padded_muons = ak.pad_none(events.Muon, target=2, clip=True)\n",
    "muon_flip = padded_muons.pt[:,0] < padded_muons.pt[:,1]  \n",
    "muon_flip = ak.fill_none(muon_flip, value=False)\n",
    "# take the subleading muon values if that now has higher pt after corrections\n",
    "mu1 = ak.where(muon_flip, padded_muons[:,1], padded_muons[:,0])\n",
    "mu2 = ak.where(muon_flip, padded_muons[:,0], padded_muons[:,1])\n",
    "mu1_pt_new = mu1.pt_fsr\n",
    "mu2_pt_new = mu2.pt_fsr\n",
    "print(mu1_pt_new.compute())"
   ]
  },
  {
   "cell_type": "code",
   "execution_count": 5,
   "id": "4b3694aa-6db3-4451-b898-973bb3b9fc35",
   "metadata": {},
   "outputs": [
    {
     "name": "stderr",
     "output_type": "stream",
     "text": [
      "/depot/cms/kernels/coffea2024/lib/python3.10/site-packages/coffea/nanoevents/methods/candidate.py:11: FutureWarning: In version 2024.7.0 (target date: 2024-06-30 11:59:59-05:00), this will be an error.\n",
      "To raise these warnings as errors (and get stack traces to find out where they're called), run\n",
      "    import warnings\n",
      "    warnings.filterwarnings(\"error\", module=\"coffea.*\")\n",
      "after the first `import coffea` or use `@pytest.mark.filterwarnings(\"error:::coffea.*\")` in pytest.\n",
      "Issue: coffea.nanoevents.methods.vector will be removed and replaced with scikit-hep vector. Nanoevents schemas internal to coffea will be migrated. Otherwise please consider using that package!.\n",
      "  from coffea.nanoevents.methods import vector\n",
      "/depot/cms/kernels/coffea2024/lib/python3.10/site-packages/coffea/nanoevents/methods/candidate.py:11: FutureWarning: In version 2024.7.0 (target date: 2024-06-30 11:59:59-05:00), this will be an error.\n",
      "To raise these warnings as errors (and get stack traces to find out where they're called), run\n",
      "    import warnings\n",
      "    warnings.filterwarnings(\"error\", module=\"coffea.*\")\n",
      "after the first `import coffea` or use `@pytest.mark.filterwarnings(\"error:::coffea.*\")` in pytest.\n",
      "Issue: coffea.nanoevents.methods.vector will be removed and replaced with scikit-hep vector. Nanoevents schemas internal to coffea will be migrated. Otherwise please consider using that package!.\n",
      "  from coffea.nanoevents.methods import vector\n"
     ]
    },
    {
     "data": {
      "image/png": "[encoded data removed]",
      "text/plain": [
       "<Figure size 640x480 with 1 Axes>"
      ]
     },
     "metadata": {},
     "output_type": "display_data"
    },
    {
     "data": {
      "image/png": "[encoded data removed]",
      "text/plain": [
       "<Figure size 640x480 with 1 Axes>"
      ]
     },
     "metadata": {},
     "output_type": "display_data"
    }
   ],
   "source": [
    "import matplotlib.pyplot as plt\n",
    "binning_map = {\n",
    "    \"pt\" : [25, 300, 50],\n",
    "}\n",
    "variables = [\"mu1_pt\"\n",
    "            ]\n",
    "\n",
    "for var in variables:\n",
    "    kin = var.split(\"_\")[-1]\n",
    "    binning = np.linspace(*binning_map[kin])\n",
    "    hist_old, edges = np.histogram(mu1_pt_old.compute(), bins=binning)\n",
    "    hist_new, _= np.histogram(mu1_pt_new.compute(), bins=binning)\n",
    "    \n",
    "    plt.stairs(hist_old, edges, label = \"df_old\")\n",
    "    plt.stairs(hist_new, edges, label = \"df_new\")\n",
    "    plt.legend(loc=\"upper right\")\n",
    "    plt.title(f\"{var}\")\n",
    "    plt.show()\n",
    "    plt.stairs((hist_new-hist_old), edges)\n",
    "    plt.title(f\"{var}\"+\" diff\")\n",
    "    plt.show()"
   ]
  },
  {
   "cell_type": "code",
   "execution_count": null,
   "id": "a760cccd-00c0-4fe0-95cf-441a4762b42c",
   "metadata": {},
   "outputs": [],
   "source": []
  }
 ],
 "metadata": {
  "kernelspec": {
   "display_name": "Python [conda env:coffea2024]",
   "language": "python",
   "name": "conda-env-coffea2024-py"
  },
  "language_info": {
   "codemirror_mode": {
    "name": "ipython",
    "version": 3
   },
   "file_extension": ".py",
   "mimetype": "text/x-python",
   "name": "python",
   "nbconvert_exporter": "python",
   "pygments_lexer": "ipython3",
   "version": "3.10.13"
  }
 },
 "nbformat": 4,
 "nbformat_minor": 5
}
