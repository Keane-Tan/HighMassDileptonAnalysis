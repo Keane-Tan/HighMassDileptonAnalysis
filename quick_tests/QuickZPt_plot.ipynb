{
 "cells": [
  {
   "cell_type": "code",
   "execution_count": 1,
   "id": "ea521f4b-e67a-4bf5-bcee-dd9f4b9ca09b",
   "metadata": {},
   "outputs": [
    {
     "name": "stderr",
     "output_type": "stream",
     "text": [
      "/depot/cms/kernels/coffea2024/lib/python3.10/site-packages/distributed/node.py:182: UserWarning: Port 8787 is already in use.\n",
      "Perhaps you already have a cluster running?\n",
      "Hosting the HTTP server on port 42987 instead\n",
      "  warnings.warn(\n"
     ]
    }
   ],
   "source": [
    "from coffea.nanoevents import NanoEventsFactory, NanoAODSchema\n",
    "import dask_awkward as awkward\n",
    "import awkward as ak\n",
    "from distributed import LocalCluster, Client\n",
    "import numpy as np\n",
    "\n",
    "cluster = LocalCluster(processes=True)\n",
    "cluster.adapt(minimum=8, maximum=16)\n",
    "client = Client(cluster)\n",
    "root_file = \"root://eos.cms.rcac.purdue.edu:1094///store/mc/RunIISummer20UL18NanoAODv9/DYJetsToLL_M-50_TuneCP5_13TeV-amcatnloFXFX-pythia8/NANOAODSIM/106X_upgrade2018_realistic_v16_L1v1-v2/250000/151FCBC0-4DFA-3B4F-BC0D-5D57F9B2387E.root\"\n",
    "# events = NanoEventsFactory.from_root(\n",
    "#             {root_file : \"Events\"}, # dataset_dict is just a root file path string in test case\n",
    "#     schemaclass=NanoAODSchema,\n",
    "#     # metadata= dataset_dict[\"metadata\"],\n",
    "#     delayed= False,\n",
    "#     entry_start = 0,\n",
    "#     # entry_stop = 50,\n",
    "# ).events()"
   ]
  },
  {
   "cell_type": "code",
   "execution_count": 2,
   "id": "acc71892-525e-42b1-9ab1-b31a6b8088cd",
   "metadata": {},
   "outputs": [
    {
     "name": "stderr",
     "output_type": "stream",
     "text": [
      "/depot/cms/kernels/coffea2024/lib/python3.10/site-packages/coffea/nanoevents/methods/candidate.py:11: FutureWarning: In version 2024.7.0 (target date: 2024-06-30 11:59:59-05:00), this will be an error.\n",
      "To raise these warnings as errors (and get stack traces to find out where they're called), run\n",
      "    import warnings\n",
      "    warnings.filterwarnings(\"error\", module=\"coffea.*\")\n",
      "after the first `import coffea` or use `@pytest.mark.filterwarnings(\"error:::coffea.*\")` in pytest.\n",
      "Issue: coffea.nanoevents.methods.vector will be removed and replaced with scikit-hep vector. Nanoevents schemas internal to coffea will be migrated. Otherwise please consider using that package!.\n",
      "  from coffea.nanoevents.methods import vector\n"
     ]
    }
   ],
   "source": [
    "# file_dict =  {\"files\": {\"root://eos.cms.rcac.purdue.edu:1094///store/mc/RunIISummer20UL18NanoAODv9/DYJetsToLL_M-50_TuneCP5_13TeV-amcatnloFXFX-pythia8/NANOAODSIM/106X_upgrade2018_realistic_v16_L1v1-v2/250000/151FCBC0-4DFA-3B4F-BC0D-5D57F9B2387E.root\": {\"object_path\": \"Events\", \"steps\": [[0, 80797], [80797, 161594], [161594, 242391], [242391, 323188], [323188, 403985], [403985, 484782], [484782, 565579], [565579, 646376], [646376, 727173], [727173, 807970], [807970, 888760]], \"uuid\": \"bb4d080a-1a5a-11ec-b56a-f21a1e0abeef\"}}}\n",
    "file_dict =  {\"files\": {\"root://eos.cms.rcac.purdue.edu:1094///store/mc/RunIISummer20UL18NanoAODv9/DYJetsToLL_M-50_TuneCP5_13TeV-amcatnloFXFX-pythia8/NANOAODSIM/106X_upgrade2018_realistic_v16_L1v1-v2/250000/151FCBC0-4DFA-3B4F-BC0D-5D57F9B2387E.root\": {\"object_path\": \"Events\", \"steps\": [[0, 80797]], \"uuid\": \"bb4d080a-1a5a-11ec-b56a-f21a1e0abeef\"}}}\n",
    "\n",
    "events = NanoEventsFactory.from_root(\n",
    "    file_dict[\"files\"],\n",
    "    schemaclass=NanoAODSchema,\n",
    "    # metadata= dataset_dict[\"metadata\"],\n",
    ").events()"
   ]
  },
  {
   "cell_type": "code",
   "execution_count": 3,
   "id": "266b2335-6ef8-482d-be80-16bc67041cf9",
   "metadata": {},
   "outputs": [],
   "source": [
    "# events.Muon.fields\n",
    "padded_muon = ak.pad_none(events.Muon, 2)\n",
    "mu1 = padded_muon[:,0]\n",
    "mu2 = padded_muon[:,1]\n",
    "dimuon = mu1+ mu2"
   ]
  },
  {
   "cell_type": "code",
   "execution_count": 4,
   "id": "031f9a3b-1cad-4a9b-ae71-56e1981fc004",
   "metadata": {},
   "outputs": [
    {
     "name": "stdout",
     "output_type": "stream",
     "text": [
      "dask.awkward<num, npartitions=1>\n"
     ]
    }
   ],
   "source": [
    "jets = events.Jet\n",
    "print(ak.num(jets, axis=1))\n",
    "quick_jet_selection  = (jets.pt> 25) & (abs(jets.eta) <  4.7)"
   ]
  },
  {
   "cell_type": "code",
   "execution_count": 5,
   "id": "c5ba155b-60f1-4572-aca9-f2062343e0bd",
   "metadata": {},
   "outputs": [],
   "source": [
    "njets = ak.num(jets[quick_jet_selection], axis=1)\n",
    "# jets[jet_selection"
   ]
  },
  {
   "cell_type": "code",
   "execution_count": 6,
   "id": "ed5c196f-141b-4aeb-bf7f-8ad9dfdbaf3a",
   "metadata": {},
   "outputs": [
    {
     "name": "stderr",
     "output_type": "stream",
     "text": [
      "/depot/cms/kernels/coffea2024/lib/python3.10/site-packages/coffea/nanoevents/methods/candidate.py:11: FutureWarning: In version 2024.7.0 (target date: 2024-06-30 11:59:59-05:00), this will be an error.\n",
      "To raise these warnings as errors (and get stack traces to find out where they're called), run\n",
      "    import warnings\n",
      "    warnings.filterwarnings(\"error\", module=\"coffea.*\")\n",
      "after the first `import coffea` or use `@pytest.mark.filterwarnings(\"error:::coffea.*\")` in pytest.\n",
      "Issue: coffea.nanoevents.methods.vector will be removed and replaced with scikit-hep vector. Nanoevents schemas internal to coffea will be migrated. Otherwise please consider using that package!.\n",
      "  from coffea.nanoevents.methods import vector\n",
      "/depot/cms/kernels/coffea2024/lib/python3.10/site-packages/coffea/nanoevents/methods/candidate.py:11: FutureWarning: In version 2024.7.0 (target date: 2024-06-30 11:59:59-05:00), this will be an error.\n",
      "To raise these warnings as errors (and get stack traces to find out where they're called), run\n",
      "    import warnings\n",
      "    warnings.filterwarnings(\"error\", module=\"coffea.*\")\n",
      "after the first `import coffea` or use `@pytest.mark.filterwarnings(\"error:::coffea.*\")` in pytest.\n",
      "Issue: coffea.nanoevents.methods.vector will be removed and replaced with scikit-hep vector. Nanoevents schemas internal to coffea will be migrated. Otherwise please consider using that package!.\n",
      "  from coffea.nanoevents.methods import vector\n",
      "/depot/cms/kernels/coffea2024/lib/python3.10/site-packages/coffea/nanoevents/methods/candidate.py:11: FutureWarning: In version 2024.7.0 (target date: 2024-06-30 11:59:59-05:00), this will be an error.\n",
      "To raise these warnings as errors (and get stack traces to find out where they're called), run\n",
      "    import warnings\n",
      "    warnings.filterwarnings(\"error\", module=\"coffea.*\")\n",
      "after the first `import coffea` or use `@pytest.mark.filterwarnings(\"error:::coffea.*\")` in pytest.\n",
      "Issue: coffea.nanoevents.methods.vector will be removed and replaced with scikit-hep vector. Nanoevents schemas internal to coffea will be migrated. Otherwise please consider using that package!.\n",
      "  from coffea.nanoevents.methods import vector\n"
     ]
    }
   ],
   "source": [
    "dimuon_pt_0jet = dimuon.pt[njets==0]\n",
    "dimuon_pt_1jet = dimuon.pt[njets==1]\n",
    "dimuon_pt_2jet = dimuon.pt[njets>=2]\n",
    "dimuon_pt_0jet = ak.to_numpy(dimuon_pt_0jet.compute())\n",
    "dimuon_pt_0jet = dimuon_pt_0jet[~np.isnan(dimuon_pt_0jet)]\n",
    "dimuon_pt_1jet = ak.to_numpy(dimuon_pt_1jet.compute())\n",
    "dimuon_pt_1jet = dimuon_pt_1jet[~np.isnan(dimuon_pt_1jet)]\n",
    "dimuon_pt_2jet = ak.to_numpy(dimuon_pt_2jet.compute())\n",
    "dimuon_pt_2jet = dimuon_pt_2jet[~np.isnan(dimuon_pt_2jet)]\n"
   ]
  },
  {
   "cell_type": "code",
   "execution_count": 7,
   "id": "27edaf13-9254-4533-9512-bd755b4384d8",
   "metadata": {},
   "outputs": [],
   "source": [
    "binning = np.linspace(*[0, 200, 50])\n",
    "# binning = np.linspace(*[0, 5000, 50])\n",
    "\n",
    "dimuon_pt_0jet_hist, edges = np.histogram(dimuon_pt_0jet, bins=binning )\n",
    "dimuon_pt_1jet_hist, _= np.histogram(dimuon_pt_1jet, bins=binning )\n",
    "dimuon_pt_2jet_hist, _ = np.histogram(dimuon_pt_2jet, bins=binning ) "
   ]
  },
  {
   "cell_type": "code",
   "execution_count": 8,
   "id": "8e47b18d-d8f7-4d8b-9ca0-cd975ea0a060",
   "metadata": {},
   "outputs": [],
   "source": [
    "# normalize the histograms\n",
    "dimuon_pt_0jet_hist = dimuon_pt_0jet_hist / np.sum(dimuon_pt_0jet_hist)\n",
    "dimuon_pt_1jet_hist = dimuon_pt_1jet_hist / np.sum(dimuon_pt_1jet_hist)\n",
    "dimuon_pt_2jet_hist = dimuon_pt_2jet_hist / np.sum(dimuon_pt_2jet_hist)"
   ]
  },
  {
   "cell_type": "code",
   "execution_count": 9,
   "id": "99994242-329b-40ad-8ea3-28942eed4d26",
   "metadata": {},
   "outputs": [
    {
     "data": {
      "image/png": "[encoded data removed]",
      "text/plain": [
       "<Figure size 640x480 with 1 Axes>"
      ]
     },
     "metadata": {},
     "output_type": "display_data"
    }
   ],
   "source": [
    "import mplhep as hep\n",
    "import matplotlib.pyplot as plt \n",
    "# hep.style.use(\"CMS\")\n",
    "\n",
    "plt.stairs(dimuon_pt_0jet_hist, edges, fill=False, label = \"dimuon_pt with 0 jets\")\n",
    "plt.stairs(dimuon_pt_1jet_hist, edges, fill=False, label = \"dimuon_pt with 1 jets\")\n",
    "plt.stairs(dimuon_pt_2jet_hist, edges, fill=False, label = \"dimuon_pt with 2 jets\")\n",
    "\n",
    "plt.legend()\n",
    "plt.show()"
   ]
  },
  {
   "cell_type": "markdown",
   "id": "b8a125a6-595f-46a5-be6c-12e1c1376fca",
   "metadata": {},
   "source": [
    "# Now do the same but with the Zpt weights"
   ]
  },
  {
   "cell_type": "code",
   "execution_count": 10,
   "id": "5da85543-282c-45a5-af33-58ef393ffd4e",
   "metadata": {},
   "outputs": [],
   "source": [
    "from coffea.lookup_tools import extractor\n",
    "zpt_filename = \"data/zpt_weights.histo.json\"\n",
    "extractor_instance = extractor()\n",
    "extractor_instance.add_weight_sets([f\"* * {zpt_filename}\"])\n",
    "extractor_instance.finalize()\n",
    "evaluator = extractor_instance.make_evaluator()\n",
    "zpt_path = \"zpt_weights/2017_value\"\n",
    "evaluator[zpt_path]._axes = evaluator[zpt_path]._axes[0]\n",
    "zpt_lookup = evaluator[zpt_path]"
   ]
  },
  {
   "cell_type": "code",
   "execution_count": 11,
   "id": "cac0f6aa-46fb-4329-8f2d-51cc00fe19d6",
   "metadata": {},
   "outputs": [],
   "source": [
    "binning = np.linspace(*[0, 200, 50])\n",
    "dimuon_pt_0jet_hist, edges = np.histogram(dimuon_pt_0jet, bins=binning, weights= zpt_lookup(dimuon_pt_0jet),density=True)\n",
    "dimuon_pt_1jet_hist, _= np.histogram(dimuon_pt_1jet, bins=binning, weights= zpt_lookup(dimuon_pt_1jet),density=True)\n",
    "dimuon_pt_2jet_hist, _ = np.histogram(dimuon_pt_2jet, bins=binning, weights= zpt_lookup(dimuon_pt_2jet),density=True)"
   ]
  },
  {
   "cell_type": "code",
   "execution_count": 12,
   "id": "0f2ba453-140b-4a52-bb54-a97f19e7d20f",
   "metadata": {},
   "outputs": [],
   "source": [
    "# normalize the histograms\n",
    "dimuon_pt_0jet_hist = dimuon_pt_0jet_hist / np.sum(dimuon_pt_0jet_hist)\n",
    "dimuon_pt_1jet_hist = dimuon_pt_1jet_hist / np.sum(dimuon_pt_1jet_hist)\n",
    "dimuon_pt_2jet_hist = dimuon_pt_2jet_hist / np.sum(dimuon_pt_2jet_hist)"
   ]
  },
  {
   "cell_type": "code",
   "execution_count": 13,
   "id": "4f71bb2e-7305-48dc-9fbd-cae41bcbe193",
   "metadata": {},
   "outputs": [
    {
     "data": {
      "image/png": "[encoded data removed]",
      "text/plain": [
       "<Figure size 640x480 with 1 Axes>"
      ]
     },
     "metadata": {},
     "output_type": "display_data"
    }
   ],
   "source": [
    "import mplhep as hep\n",
    "import matplotlib.pyplot as plt \n",
    "# hep.style.use(\"CMS\")\n",
    "\n",
    "plt.stairs(dimuon_pt_0jet_hist, edges, fill=False, label = \"dimuon_pt with 0 jets\")\n",
    "plt.stairs(dimuon_pt_1jet_hist, edges, fill=False, label = \"dimuon_pt with 1 jets\")\n",
    "plt.stairs(dimuon_pt_2jet_hist, edges, fill=False, label = \"dimuon_pt with 2 jets\")\n",
    "\n",
    "plt.legend()\n",
    "plt.show()"
   ]
  },
  {
   "cell_type": "code",
   "execution_count": 14,
   "id": "603f2e27-3e24-4ff7-84eb-0d2568b54639",
   "metadata": {},
   "outputs": [
    {
     "data": {
      "text/plain": [
       "239404.2"
      ]
     },
     "execution_count": 14,
     "metadata": {},
     "output_type": "execute_result"
    }
   ],
   "source": [
    "np.max(dimuon_pt_2jet)\n",
    "# np.min(dimuon_pt_2jet)"
   ]
  },
  {
   "cell_type": "code",
   "execution_count": 15,
   "id": "41bd1168-7517-4e3c-b07e-63e064065a8b",
   "metadata": {},
   "outputs": [
    {
     "data": {
      "text/plain": [
       "1.0"
      ]
     },
     "execution_count": 15,
     "metadata": {},
     "output_type": "execute_result"
    }
   ],
   "source": [
    "dimuon_pt_2jet_hist.sum()"
   ]
  },
  {
   "cell_type": "code",
   "execution_count": null,
   "id": "37e1274c-66af-4320-9c12-29950924df0e",
   "metadata": {},
   "outputs": [],
   "source": []
  }
 ],
 "metadata": {
  "kernelspec": {
   "display_name": "Python [conda env:coffea2024]",
   "language": "python",
   "name": "conda-env-coffea2024-py"
  },
  "language_info": {
   "codemirror_mode": {
    "name": "ipython",
    "version": 3
   },
   "file_extension": ".py",
   "mimetype": "text/x-python",
   "name": "python",
   "nbconvert_exporter": "python",
   "pygments_lexer": "ipython3",
   "version": "3.10.13"
  }
 },
 "nbformat": 4,
 "nbformat_minor": 5
}
