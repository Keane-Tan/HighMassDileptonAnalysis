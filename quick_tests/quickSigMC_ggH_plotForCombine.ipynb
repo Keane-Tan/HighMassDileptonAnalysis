{
 "cells": [
  {
   "cell_type": "code",
   "execution_count": 1,
   "id": "a00987a0-25db-4b73-9f0b-4f46c811beb2",
   "metadata": {},
   "outputs": [],
   "source": [
    "import awkward as ak\n",
    "import dask_awkward as dak\n",
    "import numpy as np\n",
    "import ROOT as rt"
   ]
  },
  {
   "cell_type": "code",
   "execution_count": 2,
   "id": "75995dbd-9da5-4f38-9cd7-1de88a48a3d0",
   "metadata": {},
   "outputs": [
    {
     "data": {
      "text/plain": [
       "<cppyy.gbl.TCanvas object at 0x558c241d7370>"
      ]
     },
     "execution_count": 2,
     "metadata": {},
     "output_type": "execute_result"
    }
   ],
   "source": [
    "load_path = \"/work/users/yun79/stage2_output/test/processed_events_signalMC.parquet\"\n",
    "processed_eventsSignalMC = ak.from_parquet(load_path)\n",
    "name = \"Canvas\"\n",
    "canvas = rt.TCanvas(name,name,800, 800) # giving a specific name for each canvas prevents segfault?\n",
    "canvas.cd()"
   ]
  },
  {
   "cell_type": "code",
   "execution_count": 3,
   "id": "3f5d6874-dfce-462e-b662-20b702455792",
   "metadata": {},
   "outputs": [
    {
     "name": "stdout",
     "output_type": "stream",
     "text": [
      "[#0] WARNING:DataHandling -- RooDataSet.from_numpy() Ignored 20 out-of-range events\n",
      "[#1] INFO:Fitting -- RooAbsPdf::fitTo(ggH Signal Model subCat 0_over_ggH Signal Model subCat 0_Int[ggH_dimuon_mass]) fixing normalization set for coefficient determination to observables in data\n",
      "[#1] INFO:Fitting -- using CPU computation library compiled with -mavx2\n",
      "[#1] INFO:Fitting -- RooAddition::defaultErrorLevel(nll_ggH Signal Model subCat 0_over_ggH Signal Model subCat 0_Int[ggH_dimuon_mass]_SigMC_hist) Summation contains a RooNLLVar, using its error level\n",
      "[#1] INFO:Minimization -- RooAbsMinimizerFcn::setOptimizeConst: activating const optimization\n",
      "Minuit2Minimizer: Minimize with max-calls 2500 convergence for edm < 1 strategy 1\n",
      "Minuit2Minimizer : Valid minimum - status = 0\n",
      "FVAL  = 75442.7597377711063\n",
      "Edm   = 1.02291638251235938e-05\n",
      "Nfcn  = 281\n",
      "alpha1\t  = 1.02567\t +/-  0.021592\t(limited)\n",
      "alpha2\t  = 1.41499\t +/-  0.0324493\t(limited)\n",
      "n1\t  = 4.1674\t +/-  0.276325\t(limited)\n",
      "n2\t  = 5.93911\t +/-  0.582095\t(limited)\n",
      "sigma\t  = 1.83089\t +/-  0.017737\t(limited)\n",
      "[#1] INFO:Minimization -- RooAbsMinimizerFcn::setOptimizeConst: deactivating const optimization\n",
      "[#1] INFO:Fitting -- RooAbsPdf::fitTo(ggH Signal Model subCat 0_over_ggH Signal Model subCat 0_Int[ggH_dimuon_mass]) fixing normalization set for coefficient determination to observables in data\n",
      "[#1] INFO:Fitting -- RooAddition::defaultErrorLevel(nll_ggH Signal Model subCat 0_over_ggH Signal Model subCat 0_Int[ggH_dimuon_mass]_SigMC_hist) Summation contains a RooNLLVar, using its error level\n",
      "[#1] INFO:Minimization -- RooAbsMinimizerFcn::setOptimizeConst: activating const optimization\n",
      "Minuit2Minimizer: Minimize with max-calls 2500 convergence for edm < 1 strategy 1\n",
      "Minuit2Minimizer : Valid minimum - status = 0\n",
      "FVAL  = 75442.759729070196\n",
      "Edm   = 1.54443794004184192e-06\n",
      "Nfcn  = 74\n",
      "alpha1\t  = 1.02567\t +/-  0.0215955\t(limited)\n",
      "alpha2\t  = 1.41496\t +/-  0.0324426\t(limited)\n",
      "n1\t  = 4.16758\t +/-  0.276394\t(limited)\n",
      "n2\t  = 5.93883\t +/-  0.581882\t(limited)\n",
      "sigma\t  = 1.83091\t +/-  0.0177373\t(limited)\n",
      "[#1] INFO:Minimization -- RooAbsMinimizerFcn::setOptimizeConst: deactivating const optimization\n"
     ]
    },
    {
     "name": "stderr",
     "output_type": "stream",
     "text": [
      "Info in <Minuit2>: MnSeedGenerator Computing seed using NumericalGradient calculator\n",
      "Info in <Minuit2>: MnSeedGenerator Initial state: FCN =       79130.89447 Edm =       27042.87881 NCalls =     21\n",
      "Info in <Minuit2>: NegativeG2LineSearch Doing a NegativeG2LineSearch since one of the G2 component is negative\n",
      "Info in <Minuit2>: MnSeedGenerator Negative G2 found - new state: \n",
      "  Minimum value : 75906.48266\n",
      "  Edm           : 432.6738157\n",
      "  Internal parameters:\t[     -1.219013257     -1.219013257     -1.378904899     -1.240029952   -0.02564383614]\t\n",
      "  Internal gradient  :\t[      16931.08974      3156.889288      4123.085471      437.4484233     -2608.210668]\t\n",
      "  Internal covariance matrix:\n",
      "[[  2.9510072e-06              0              0              0              0]\n",
      " [              0  8.3102718e-06              0              0              0]\n",
      " [              0              0  1.8977596e-05              0              0]\n",
      " [              0              0              0  0.00014549743              0]\n",
      " [              0              0              0              0  6.6366556e-05]]]\n",
      "Info in <Minuit2>: MnSeedGenerator Initial state  \n",
      "  Minimum value : 75906.48266\n",
      "  Edm           : 432.6738157\n",
      "  Internal parameters:\t[     -1.219013257     -1.219013257     -1.378904899     -1.240029952   -0.02564383614]\t\n",
      "  Internal gradient  :\t[      16931.08974      3156.889288      4123.085471      437.4484233     -2608.210668]\t\n",
      "  Internal covariance matrix:\n",
      "[[  2.9510072e-06              0              0              0              0]\n",
      " [              0  8.3102718e-06              0              0              0]\n",
      " [              0              0  1.8977596e-05              0              0]\n",
      " [              0              0              0  0.00014549743              0]\n",
      " [              0              0              0              0  6.6366556e-05]]]\n",
      "Info in <Minuit2>: VariableMetricBuilder Start iterating until Edm is < 0.001 with call limit = 2500\n",
      "Info in <Minuit2>: VariableMetricBuilder    0 - FCN =       75906.48266 Edm =       432.6738157 NCalls =     70\n",
      "Info in <Minuit2>: VariableMetricBuilder    1 - FCN =       75713.87787 Edm =       26.86385569 NCalls =     82\n",
      "Info in <Minuit2>: VariableMetricBuilder    2 - FCN =       75644.01018 Edm =       13.19565611 NCalls =     98\n",
      "Info in <Minuit2>: VariableMetricBuilder    3 - FCN =       75548.81169 Edm =       84.32316104 NCalls =    114\n",
      "Info in <Minuit2>: VariableMetricBuilder    4 - FCN =        75480.1197 Edm =        20.2113984 NCalls =    129\n",
      "Info in <Minuit2>: VariableMetricBuilder    5 - FCN =       75460.24295 Edm =       5.893052481 NCalls =    141\n",
      "Info in <Minuit2>: VariableMetricBuilder    6 - FCN =       75451.68498 Edm =       2.164117841 NCalls =    154\n",
      "Info in <Minuit2>: VariableMetricBuilder    7 - FCN =        75444.1023 Edm =       0.773564454 NCalls =    167\n",
      "Info in <Minuit2>: VariableMetricBuilder    8 - FCN =       75443.03457 Edm =     0.07558277724 NCalls =    179\n",
      "Info in <Minuit2>: VariableMetricBuilder    9 - FCN =        75442.9324 Edm =     0.07877568927 NCalls =    191\n",
      "Info in <Minuit2>: VariableMetricBuilder   10 - FCN =       75442.88762 Edm =     0.01429251582 NCalls =    203\n",
      "Info in <Minuit2>: VariableMetricBuilder   11 - FCN =       75442.79967 Edm =     0.03620294617 NCalls =    216\n",
      "Info in <Minuit2>: VariableMetricBuilder   12 - FCN =       75442.76133 Edm =     0.00143413058 NCalls =    228\n",
      "Info in <Minuit2>: VariableMetricBuilder   13 - FCN =       75442.75974 Edm =   1.574635537e-05 NCalls =    240\n",
      "Info in <Minuit2>: VariableMetricBuilder After Hessian\n",
      "Info in <Minuit2>: VariableMetricBuilder   14 - FCN =       75442.75974 Edm =   1.022916383e-05 NCalls =    281\n",
      "Info in <Minuit2>: Minuit2Minimizer::Hesse Using max-calls 2500\n",
      "Info in <Minuit2>: Minuit2Minimizer::Hesse Hesse is valid - matrix is accurate\n",
      "Info in <Minuit2>: MnSeedGenerator Computing seed using NumericalGradient calculator\n",
      "Info in <Minuit2>: MnSeedGenerator Initial state: FCN =       75442.75974 Edm =   1.439137466e-05 NCalls =     21\n",
      "Info in <Minuit2>: MnSeedGenerator Initial state  \n",
      "  Minimum value : 75442.75974\n",
      "  Edm           : 1.439137466e-05\n",
      "  Internal parameters:\t[     -1.320116023      -1.27566183     -1.160101473     -1.078830199    -0.1126041062]\t\n",
      "  Internal gradient  :\t[     -1.158011295       2.05242806    -0.3677294851     0.1212110066    -0.5134137012]\t\n",
      "  Internal covariance matrix:\n",
      "[[  2.4762252e-06              0              0              0              0]\n",
      " [              0  4.9545922e-06              0              0              0]\n",
      " [              0              0  8.2588536e-05              0              0]\n",
      " [              0              0              0   0.0003320904              0]\n",
      " [              0              0              0              0  6.5732765e-05]]]\n",
      "Info in <Minuit2>: VariableMetricBuilder Start iterating until Edm is < 0.001 with call limit = 2500\n",
      "Info in <Minuit2>: VariableMetricBuilder    0 - FCN =       75442.75974 Edm =   1.439137466e-05 NCalls =     21\n",
      "Info in <Minuit2>: VariableMetricBuilder    1 - FCN =       75442.75973 Edm =   2.713545315e-06 NCalls =     33\n",
      "Info in <Minuit2>: VariableMetricBuilder After Hessian\n",
      "Info in <Minuit2>: VariableMetricBuilder    2 - FCN =       75442.75973 Edm =    1.54443794e-06 NCalls =     74\n",
      "Info in <Minuit2>: Minuit2Minimizer::Hesse Using max-calls 2500\n",
      "Info in <Minuit2>: Minuit2Minimizer::Hesse Hesse is valid - matrix is accurate\n",
      "Info in <TCanvas::Print>: pdf file ./quick_plots/stage3_plot_SigMC_ggH0.pdf has been created\n"
     ]
    },
    {
     "data": {
      "image/png": "[encoded data removed]",
      "text/plain": [
       "<IPython.core.display.Image object>"
      ]
     },
     "metadata": {},
     "output_type": "display_data"
    }
   ],
   "source": [
    "cat_ix = 0\n",
    "subCat_filter = (processed_eventsSignalMC[\"subCategory_idx\"] == cat_ix)\n",
    "subCat_mass_arrSigMC = processed_eventsSignalMC.dimuon_mass[subCat_filter]\n",
    "subCat_mass_arrSigMC  = ak.to_numpy(subCat_mass_arrSigMC) # convert to numpy for rt.RooDataSet\n",
    "\n",
    "# the mass range and nbins are taken from Fig 6.15 of the long AN (page 57)\n",
    "mass_name = \"ggH_dimuon_mass\"\n",
    "massSigMC =  rt.RooRealVar(mass_name,mass_name,125,110,140) # h peak range\n",
    "nbins = 90 # This could be wrong bc I counted by hand from the histogram\n",
    "massSigMC.setBins(nbins)\n",
    "\n",
    "roo_datasetSigMC = rt.RooDataSet.from_numpy({mass_name: subCat_mass_arrSigMC}, [massSigMC])\n",
    "roo_histSigMC = rt.RooDataHist(\"SigMC_hist\",f\"binned version of SigMC of subcat {cat_ix}\", rt.RooArgSet(massSigMC), roo_datasetSigMC)  # copies binning from mass variable\n",
    "# make roofit signal model\n",
    "mH = rt.RooRealVar(\"mH\" , \"mH\", 125, 115,135)\n",
    "mH.setConstant(True) #\n",
    "sigma = rt.RooRealVar(\"sigma\" , \"sigma\", 2, .1, 4.0)\n",
    "alpha1 = rt.RooRealVar(\"alpha1\" , \"alpha1\", 2, 0.01, 65)\n",
    "n1 = rt.RooRealVar(\"n1\" , \"n1\", 10, 0.01, 100)\n",
    "alpha2 = rt.RooRealVar(\"alpha2\" , \"alpha2\", 2.0, 0.01, 65)\n",
    "n2 = rt.RooRealVar(\"n2\" , \"n2\", 25, 0.01, 100)\n",
    "# n1.setConstant(True) # freeze for stability\n",
    "# n2.setConstant(True) # freeze for stability\n",
    "dcb_name = f\"ggH Signal Model subCat {cat_ix}\"\n",
    "sig_model = rt.RooCrystalBall(dcb_name,dcb_name,massSigMC, mH, sigma, alpha1, n1, alpha2, n2)\n",
    "\n",
    "# fit signal model\n",
    "_ = sig_model.fitTo(roo_histSigMC,  EvalBackend=\"cpu\", Save=True, )\n",
    "fit_result = sig_model.fitTo(roo_histSigMC,  EvalBackend=\"cpu\", Save=True, )\n",
    "\n",
    "# clear canvas to plot the signal model\n",
    "canvas.Clear()\n",
    "frame = massSigMC.frame()\n",
    "roo_datasetSigMC.plotOn(frame, DataError=\"SumW2\", Name=roo_datasetSigMC.GetName())\n",
    "sig_model.plotOn(frame, Name=sig_model.GetName(), LineColor=rt.kGreen)\n",
    "frame.Draw()\n",
    "\n",
    "\n",
    "# legend\n",
    "legend = rt.TLegend(0.65,0.55,0.9,0.7)\n",
    "name=sig_model.GetName()\n",
    "legend.AddEntry(name,name, \"L\")\n",
    "\n",
    "name=roo_datasetSigMC.GetName()\n",
    "legend.AddEntry(name,name, \"P\")\n",
    "legend.Draw()\n",
    "\n",
    "canvas.Update()\n",
    "canvas.Draw()\n",
    "\n",
    "canvas.SaveAs(f\"./quick_plots/stage3_plot_SigMC_ggH{cat_ix}.pdf\")"
   ]
  },
  {
   "cell_type": "code",
   "execution_count": null,
   "id": "5d68f892-fd50-40f5-bf30-7e3c03ca55b6",
   "metadata": {},
   "outputs": [],
   "source": []
  }
 ],
 "metadata": {
  "kernelspec": {
   "display_name": "Python [conda env:root632]",
   "language": "python",
   "name": "conda-env-root632-py"
  },
  "language_info": {
   "codemirror_mode": {
    "name": "ipython",
    "version": 3
   },
   "file_extension": ".py",
   "mimetype": "text/x-python",
   "name": "python",
   "nbconvert_exporter": "python",
   "pygments_lexer": "ipython3",
   "version": "3.12.4"
  }
 },
 "nbformat": 4,
 "nbformat_minor": 5
}
