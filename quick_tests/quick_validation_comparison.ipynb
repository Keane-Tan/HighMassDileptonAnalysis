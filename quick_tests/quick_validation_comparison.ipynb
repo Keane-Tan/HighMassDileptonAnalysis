{
 "cells": [
  {
   "cell_type": "code",
   "execution_count": 13,
   "id": "76f00d86-2368-468a-8c84-0cbdba38aaae",
   "metadata": {},
   "outputs": [],
   "source": [
    "import dask_awkward as dak\n",
    "import awkward as ak\n",
    "import numpy as np\n",
    "import matplotlib.pyplot as plt\n",
    "# sample = \"vbf_powheg\"\n",
    "# sample = \"ggh_powheg\"\n",
    "sample = \"dy_M-100To200\"\n",
    "# sample = \"data_A\"\n",
    "# full_load_path = load_path+f\"/{sample}/*/*.parquet\"\n",
    "# full_load_path = load_path+f\"/{sample}/0/*.parquet\"\n",
    "full_load_path = f\"/depot/cms/users/yun79/results/stage1/test_full2/2018/f1_0/{sample}/0/*.parquet\"\n",
    "\n",
    "df_new = dak.from_parquet(full_load_path) \n",
    "# region_cut = (df_new.h_peak | df_new.h_sidebands)\n",
    "# df_new = df_new[region_cut]"
   ]
  },
  {
   "cell_type": "code",
   "execution_count": 14,
   "id": "ad86c306-d8f9-4f0d-a0cf-4ca524b2af43",
   "metadata": {},
   "outputs": [],
   "source": [
    "# \"regions\" in df_old.columns\n",
    "# df_new[\"nBtagLoose\"]"
   ]
  },
  {
   "cell_type": "code",
   "execution_count": 15,
   "id": "85a7af5a-ff70-4fa9-86de-03b2f48d853c",
   "metadata": {},
   "outputs": [],
   "source": [
    "full_load_path = f\"/depot/cms/users/yun79/hmm/test_validation/stage1_output/2018/{sample}/*.parquet\"\n",
    "import dask.dataframe as dd\n",
    "import pandas as pd\n",
    "# df = dd.from_pandas(pd.DataFrame(), npartitions=1)\n",
    "df_old = dd.read_parquet(full_load_path)\n",
    "# region = df_old.region.compute()"
   ]
  },
  {
   "cell_type": "code",
   "execution_count": 16,
   "id": "4a280249-27d1-48aa-8ef2-dc73f902385d",
   "metadata": {},
   "outputs": [],
   "source": [
    "# # nnlops_full_load_path = f\"/depot/cms/users/yun79/results/stage1/test_full2/2018/f1_0/{sample}/0/nnlops/*.parquet\"\n",
    "# nnlops_full_load_path = f'/depot/cms/users/yun79/results/stage1/test_full2/2018/f1_0/{sample}/0/nnlops/wgt.parquet'\n",
    "# nnlops_wgts = ak.from_parquet(nnlops_full_load_path)[\"nnlops_wgt\"]\n",
    "# # nnlops_wgts"
   ]
  },
  {
   "cell_type": "code",
   "execution_count": 17,
   "id": "28ef09fe-19ff-420f-a53f-c1b586a2b853",
   "metadata": {},
   "outputs": [
    {
     "name": "stdout",
     "output_type": "stream",
     "text": [
      "[261, -224, 185, 208, 273, -209, 251, ..., 208, 215, 252, -223, -222, 217, 207]\n",
      "14446\n",
      "entry\n",
      "10       260.651312\n",
      "16      -224.159731\n",
      "19       184.628966\n",
      "20       207.817209\n",
      "22       273.440949\n",
      "            ...    \n",
      "99559    251.553698\n",
      "99598   -222.569194\n",
      "99601   -222.263125\n",
      "99605    217.219450\n",
      "99608    207.216150\n",
      "Name: weights, Length: 14446, dtype: float64\n",
      "(14446,)\n",
      "381.9822847073783\n",
      "-320.35149761334185\n",
      "381.98221811610995\n",
      "-320.35143920800095\n",
      "2.48659575626361e-07\n",
      "1.1014311106475548e-07\n",
      "1.5387308666637444e-07\n"
     ]
    }
   ],
   "source": [
    "weights_new = df_new[\"weights\"].compute()\n",
    "if \"ggh\" in sample:\n",
    "    print(\"ggh in sample!\")\n",
    "    nnlops_full_load_path = f'/depot/cms/users/yun79/results/stage1/test_full2/2018/f1_0/{sample}/0/nnlops/wgt.parquet'\n",
    "    nnlops_wgts = ak.from_parquet(nnlops_full_load_path)[\"nnlops_wgt\"]\n",
    "    weights_new = weights_new*nnlops_wgts\n",
    "print(weights_new)\n",
    "print(ak.num(weights_new, axis=0))\n",
    "weights_old = df_old[\"weights\"].compute()\n",
    "print(weights_old)\n",
    "print(weights_old.shape)\n",
    "print(max(weights_new))\n",
    "print(min(weights_new))\n",
    "print(max(weights_old))\n",
    "print(min(weights_old))\n",
    "print(max(abs(weights_new[:]-weights_old)/weights_old))\n",
    "print(np.mean(abs(weights_new[:]-weights_old)/weights_old))\n",
    "print(np.median(abs(weights_new[:]-weights_old)/weights_old))\n",
    "# print(max(abs(weights_new[:-3]-weights_old)/weights_old))\n",
    "# print(np.mean(abs(weights_new[:-3]-weights_old)/weights_old))\n",
    "# print(np.median(abs(weights_new[:-3]-weights_old)/weights_old))\n",
    "# print(max(abs(weights_new-weights_old[:-3])/weights_old[:-3]))\n",
    "# print(np.mean(abs(weights_new-weights_old[:-3])/weights_old[:-3]))\n",
    "# print(np.median(abs(weights_new-weights_old[:-3])/weights_old[:-3]))\n",
    "# print(max(abs(weights_new-weights_old)/weights_old))\n",
    "# print(np.mean(abs(weights_new-weights_old)/weights_old))"
   ]
  },
  {
   "cell_type": "code",
   "execution_count": null,
   "id": "d94eb404-985f-44fc-ac6f-3758a26beeae",
   "metadata": {},
   "outputs": [],
   "source": [
    "weights_new = df_new[\"dimuon_cos_theta_cs\"].compute()\n",
    "print(weights_new)\n",
    "print(ak.num(weights_new, axis=0))\n",
    "weights_old = df_old[\"dimuon_cos_theta_cs\"].compute()\n",
    "print(weights_old)\n",
    "print(weights_old.shape)\n",
    "print(max(weights_new))\n",
    "print(min(weights_new))\n",
    "print(max(weights_old))\n",
    "print(min(weights_old))\n",
    "print(max(abs(weights_new-weights_old)/weights_old))"
   ]
  },
  {
   "cell_type": "code",
   "execution_count": null,
   "id": "3cf23a09-6407-4999-89a3-53f27a6551ca",
   "metadata": {},
   "outputs": [],
   "source": [
    "weights_new = df_new[\"dimuon_phi_cs\"].compute()\n",
    "print(weights_new)\n",
    "print(ak.num(weights_new, axis=0))\n",
    "weights_old = df_old[\"dimuon_phi_cs\"].compute()\n",
    "print(weights_old)\n",
    "print(weights_old.shape)\n",
    "print(max(weights_new))\n",
    "print(min(weights_new))\n",
    "print(max(weights_old))\n",
    "print(min(weights_old))\n",
    "print(max(abs(weights_new-weights_old)/weights_old))"
   ]
  },
  {
   "cell_type": "code",
   "execution_count": 7,
   "id": "0763a58b-c1ab-4ea9-820a-2213b5bc50cf",
   "metadata": {},
   "outputs": [
    {
     "name": "stdout",
     "output_type": "stream",
     "text": [
      "(6486,)\n",
      "(6486,)\n",
      "0\n",
      "Series([], Name: jet1_pt, dtype: object)\n",
      "0\n",
      "[False, False, False, False, False, ..., False, False, False, False, False]\n",
      "0\n",
      "0.0\n",
      "0.0\n",
      "0.0\n"
     ]
    }
   ],
   "source": [
    "weights_new = df_new[\"jet1_pt\"].compute()\n",
    "print(ak.to_numpy(weights_new).shape)\n",
    "# print(ak.num(weights_new, axis=0))\n",
    "weights_old = df_old[\"jet1_pt\"].compute()\n",
    "# print(weights_old)\n",
    "print(weights_old.shape)\n",
    "# print(max(weights_new))\n",
    "# print(min(weights_new))\n",
    "# print(max(weights_old))\n",
    "# print(min(weights_old))\n",
    "\n",
    "print(np.argmax(abs(weights_new-weights_old)/weights_old))\n",
    "# print(ak.to_numpy(weights_new[weights_new!=weights_old]))\n",
    "# print(weights_old[weights_new!=weights_old])\n",
    "print(weights_old[weights_new!=weights_old] - weights_new[weights_new!=weights_old])\n",
    "\n",
    "# print(np.std(abs(weights_new-weights_old)/weights_old))\n",
    "print(np.sum(abs(weights_new-weights_old)/weights_old >= 1e-3))\n",
    "print(~np.isclose(weights_new,weights_old, rtol=1e-4, atol=1e1))\n",
    "print(np.sum(~np.isclose(weights_new,weights_old, rtol=1e-4, atol=1e-4)))\n",
    "# print(weights_new[1648])\n",
    "# print(weights_old.iloc[1648])\n",
    "print(max(abs(weights_new-weights_old)/weights_old))\n",
    "print(np.mean(abs(weights_new-weights_old)/weights_old))\n",
    "print(np.std(abs(weights_new-weights_old)/weights_old))"
   ]
  },
  {
   "cell_type": "code",
   "execution_count": 62,
   "id": "81001077-ff02-4d3d-a7c8-19a5f62aa924",
   "metadata": {},
   "outputs": [
    {
     "name": "stdout",
     "output_type": "stream",
     "text": [
      "(6486,)\n",
      "(6486,)\n",
      "4359\n",
      "entry\n",
      "1       -0.009975\n",
      "3       -0.013046\n",
      "5        0.000847\n",
      "6       -0.000057\n",
      "7       -0.010292\n",
      "           ...   \n",
      "10033    0.009846\n",
      "10037    0.002983\n",
      "10040   -0.038528\n",
      "10041    0.003319\n",
      "10042   -0.023132\n",
      "Name: jet2_pt, Length: 6485, dtype: float32\n",
      "141\n",
      "6345\n",
      "0.12532076286979654\n",
      "0.00026376334131369034\n",
      "0.0015898201548561032\n"
     ]
    }
   ],
   "source": [
    "weights_new = df_new[\"jet2_pt\"].compute()\n",
    "print(ak.to_numpy(weights_new).shape)\n",
    "# print(ak.num(weights_new, axis=0))\n",
    "weights_old = df_old[\"jet2_pt\"].compute()\n",
    "# print(weights_old)\n",
    "print(weights_old.shape)\n",
    "# print(max(weights_new))\n",
    "# print(min(weights_new))\n",
    "# print(max(weights_old))\n",
    "# print(min(weights_old))\n",
    "\n",
    "print(np.argmax(abs(weights_new-weights_old)/weights_old))\n",
    "# print(ak.to_numpy(weights_new[weights_new!=weights_old]))\n",
    "# print(weights_old[weights_new!=weights_old])\n",
    "print(weights_old[weights_new!=weights_old] - weights_new[weights_new!=weights_old])\n",
    "\n",
    "# # print(np.std(abs(weights_new-weights_old)/weights_old))\n",
    "print(np.sum(abs(weights_new-weights_old)/weights_old >= 1e-3))\n",
    "print(np.sum(abs(weights_new-weights_old)/weights_old < 1e-3))\n",
    "# print(~np.isclose(weights_new,weights_old, rtol=1e-4, atol=1e1))\n",
    "# print(np.sum(~np.isclose(weights_new,weights_old, rtol=1e-4, atol=1e-4)))\n",
    "# # print(weights_new[1648])\n",
    "# print(weights_old.iloc[1648])\n",
    "print(max(abs(weights_new-weights_old)/weights_old))\n",
    "print(np.mean(abs(weights_new-weights_old)/weights_old))\n",
    "print(np.std(abs(weights_new-weights_old)/weights_old))"
   ]
  },
  {
   "cell_type": "code",
   "execution_count": 29,
   "id": "1cae8d19-3069-4f0f-8511-6b032eefbc4f",
   "metadata": {},
   "outputs": [
    {
     "name": "stdout",
     "output_type": "stream",
     "text": [
      "jet1_mass_raw\n",
      "9.798126\n",
      "9.798126\n",
      "jet1_pt_gen\n",
      "66.40485\n",
      "66.40485\n",
      "jet1_pt_raw\n",
      "75.48926\n",
      "75.48926\n",
      "jet1_rho\n",
      "5.9321966\n",
      "5.9321966\n",
      "jet1_area\n",
      "0.5385742\n",
      "0.5385742\n"
     ]
    }
   ],
   "source": [
    "idx = 1648\n",
    "variables = [\"jet1_mass_raw\",\n",
    "             \"jet1_pt_gen\",\n",
    "\"jet1_pt_raw\",\n",
    "\"jet1_rho\",\n",
    "             \"jet1_area\",\n",
    "            ]\n",
    "for var in variables:\n",
    "    weights_new = df_new[var].compute()\n",
    "    weights_old = df_old[var].compute()\n",
    "    print(var)\n",
    "    print(weights_new[1648])\n",
    "    print(weights_old.iloc[1648])"
   ]
  },
  {
   "cell_type": "code",
   "execution_count": null,
   "id": "db7fca90-69f4-4f2c-bac3-b1775b343e44",
   "metadata": {
    "scrolled": true
   },
   "outputs": [],
   "source": [
    "binning_map = {\n",
    "    \"dimuon_cos_theta_cs\" : [-1, 1, 100],\n",
    "    \"dimuon_phi_cs\" : [0, 10, 50],\n",
    "    \n",
    "}\n",
    "variables = [\"dimuon_cos_theta_cs\", \n",
    "             \"dimuon_phi_cs\"\n",
    "            ]\n",
    "weights_old = df_old[\"weights\"].compute()\n",
    "weights_new = ak.to_numpy(df_new[\"weights\"].compute())\n",
    "if \"ggh\" in sample:\n",
    "    nnlops_full_load_path = f'/depot/cms/users/yun79/results/stage1/test_full2/2018/f1_0/{sample}/0/nnlops/wgt.parquet'\n",
    "    nnlops_wgts = ak.from_parquet(nnlops_full_load_path)[\"nnlops_wgt\"]\n",
    "    weights_new = weights_new*nnlops_wgts\n",
    "\n",
    "\n",
    "for var in variables:\n",
    "    binning = np.linspace(*binning_map[var])\n",
    "    # old_len = ak.num(df_old[\"mu1_pt\"].compute(), axis=0)\n",
    "    # new_len = ak.num(df_new[\"mu1_pt\"].compute(), axis=0)\n",
    "    # new_weights = np.ones(new_len)\n",
    "    # new_weights = new_weights*old_len/new_len\n",
    "    hist_old, edges = np.histogram(df_old[var].compute(), bins=binning ,weights=weights_old)\n",
    "    # hist_old, edges = np.histogram(df_old[var+\"_nominal\"].compute(), bins=binning )\n",
    "    \n",
    "    # hist_new, _= np.histogram(df_new[region_cut][var].compute(), bins=binning , weights=new_weights)\n",
    "    hist_new, _= np.histogram(df_new[var].compute(), bins=binning ,weights=weights_new)\n",
    "    \n",
    "    plt.stairs(hist_old, edges, label = \"df_old\")\n",
    "    plt.stairs(hist_new, edges, label = \"df_new\")\n",
    "    plt.legend(loc=\"upper right\")\n",
    "    plt.title(var)\n",
    "    plt.show()\n",
    "    plt.stairs((hist_new-hist_old), edges)\n",
    "    plt.title(var+\" diff\")\n",
    "    plt.show()"
   ]
  },
  {
   "cell_type": "code",
   "execution_count": 13,
   "id": "5ae3ba54-1bac-4b6d-9822-06b2e138bbaf",
   "metadata": {},
   "outputs": [
    {
     "name": "stdout",
     "output_type": "stream",
     "text": [
      "[0.509, 0.608, 0.509, 0.489, 0.509, ..., 0.509, 0.479, 0.519, 0.479, 0.469]\n",
      "6486\n",
      "entry\n",
      "1        0.508789\n",
      "3        0.608398\n",
      "5        0.508789\n",
      "6        0.488770\n",
      "7        0.508789\n",
      "           ...   \n",
      "10033    0.508789\n",
      "10037    0.478760\n",
      "10040    0.518555\n",
      "10041    0.478760\n",
      "10042    0.468750\n",
      "Name: jet1_area, Length: 6486, dtype: float32\n",
      "(6486,)\n",
      "0.72802734\n",
      "0.4387207\n",
      "0.72802734375\n",
      "0.438720703125\n",
      "0.0\n"
     ]
    }
   ],
   "source": [
    "weights_new = df_new[\"jet1_area\"].compute()\n",
    "print(weights_new)\n",
    "print(ak.num(weights_new, axis=0))\n",
    "weights_old = df_old[\"jet1_area\"].compute()\n",
    "print(weights_old)\n",
    "print(weights_old.shape)\n",
    "print(max(weights_new))\n",
    "print(min(weights_new))\n",
    "print(max(weights_old))\n",
    "print(min(weights_old))\n",
    "print(max(abs(weights_new-weights_old)))"
   ]
  },
  {
   "cell_type": "code",
   "execution_count": 18,
   "id": "c622872b-11bd-4cf6-9b31-d2d9015ab64d",
   "metadata": {
    "scrolled": true
   },
   "outputs": [
    {
     "data": {
      "image/png": "[encoded data removed]",
      "text/plain": [
       "<Figure size 640x480 with 1 Axes>"
      ]
     },
     "metadata": {},
     "output_type": "display_data"
    },
    {
     "data": {
      "image/png": "[encoded data removed]",
      "text/plain": [
       "<Figure size 640x480 with 1 Axes>"
      ]
     },
     "metadata": {},
     "output_type": "display_data"
    },
    {
     "data": {
      "image/png": "[encoded data removed]",
      "text/plain": [
       "<Figure size 640x480 with 1 Axes>"
      ]
     },
     "metadata": {},
     "output_type": "display_data"
    },
    {
     "data": {
      "image/png": "[encoded data removed]",
      "text/plain": [
       "<Figure size 640x480 with 1 Axes>"
      ]
     },
     "metadata": {},
     "output_type": "display_data"
    },
    {
     "data": {
      "image/png": "[encoded data removed]",
      "text/plain": [
       "<Figure size 640x480 with 1 Axes>"
      ]
     },
     "metadata": {},
     "output_type": "display_data"
    },
    {
     "data": {
      "image/png": "[encoded data removed]",
      "text/plain": [
       "<Figure size 640x480 with 1 Axes>"
      ]
     },
     "metadata": {},
     "output_type": "display_data"
    }
   ],
   "source": [
    "binning_map = {\n",
    "    # \"jet1_pt_jec\" : [25, 300, 50],\n",
    "    # \"jet1_mass_jec\" : [0, 150, 100],\n",
    "    # \"jet1_mass_raw\" : [0, 150, 100],\n",
    "    # \"jet1_pt_raw\" : [25, 300, 50],\n",
    "    # \"jet1_pt_gen\" : [25, 300, 50],\n",
    "    # \"jet1_rho\" : [0, 50, 25],\n",
    "    # \"jet1_area\" : [0.2, 1, 50],\n",
    "    \"mu1_pt\" : [25, 300, 50],\n",
    "    \"mu1_pt_raw\" : [25, 300, 50],\n",
    "    \"mu1_pt_fsr\" : [25, 300, 50],\n",
    "}\n",
    "variables = [\n",
    "#     \"jet1_pt_jec\",\n",
    "#     \"jet1_mass_jec\",\n",
    "#     \"jet1_mass_raw\",\n",
    "#              \"jet1_pt_gen\",\n",
    "# \"jet1_pt_raw\",\n",
    "# \"jet1_rho\",\n",
    "#              \"jet1_area\",\n",
    "    \"mu1_pt\",\n",
    "\"mu1_pt_raw\",\n",
    "    \"mu1_pt_fsr\",\n",
    "            ]\n",
    "weights_old = df_old[\"weights\"].compute()\n",
    "weights_new = ak.to_numpy(df_new[\"weights\"].compute())\n",
    "\n",
    "\n",
    "for var in variables:\n",
    "    binning = np.linspace(*binning_map[var])\n",
    "    # old_len = ak.num(df_old[\"mu1_pt\"].compute(), axis=0)\n",
    "    # new_len = ak.num(df_new[\"mu1_pt\"].compute(), axis=0)\n",
    "    # new_weights = np.ones(new_len)\n",
    "    # new_weights = new_weights*old_len/new_len\n",
    "    hist_old, edges = np.histogram(df_old[var].compute(), bins=binning ,weights=weights_old)\n",
    "    # hist_old, edges = np.histogram(df_old[var+\"_nominal\"].compute(), bins=binning )\n",
    "    \n",
    "    # hist_new, _= np.histogram(df_new[region_cut][var].compute(), bins=binning , weights=new_weights)\n",
    "    hist_new, _= np.histogram(df_new[var].compute(), bins=binning ,weights=weights_new)\n",
    "    \n",
    "    plt.stairs(hist_old, edges, label = \"df_old\")\n",
    "    plt.stairs(hist_new, edges, label = \"df_new\")\n",
    "    plt.legend(loc=\"upper right\")\n",
    "    plt.title(var)\n",
    "    plt.show()\n",
    "    plt.stairs((hist_new-hist_old), edges)\n",
    "    plt.title(var+\" diff\")\n",
    "    plt.show()"
   ]
  },
  {
   "cell_type": "code",
   "execution_count": null,
   "id": "72d66e82-af3f-4e1d-aea1-e4a4d2b17068",
   "metadata": {
    "scrolled": true
   },
   "outputs": [],
   "source": [
    "binning_map = {\n",
    "    \"pt\" : [25, 300, 50],\n",
    "    \"eta\" : [-5, 5, 30],\n",
    "    \"phi\" : [-3.1415, 3.1415, 101],\n",
    "    \"mass\" : [0, 150, 100],\n",
    "    \"res\" : [0, 30, 100],\n",
    "}\n",
    "# var = \"mu1_pt\"\n",
    "# var = \"dimuon_mass\"\n",
    "# var = \"jet1_pt\"\n",
    "# variables = [\"mu1_pt\", \"mu2_pt\", \"dimuon_mass\"]\n",
    "variables = [\"dimuon_mass\", \n",
    "             \"dimuon_ebe_mass_res\"\n",
    "            ]\n",
    "weights_old = df_old[\"weights\"].compute()\n",
    "weights_new = ak.to_numpy(df_new[\"weights\"].compute())\n",
    "if \"ggh\" in sample:\n",
    "    nnlops_full_load_path = f'/depot/cms/users/yun79/results/stage1/test_full2/2018/f1_0/{sample}/0/nnlops/wgt.parquet'\n",
    "    nnlops_wgts = ak.from_parquet(nnlops_full_load_path)[\"nnlops_wgt\"]\n",
    "    weights_new = weights_new*nnlops_wgts\n",
    "\n",
    "for var in variables:\n",
    "    kin = var.split(\"_\")[-1]\n",
    "    # binning = np.linspace(*[25, 300, 50])\n",
    "    binning = np.linspace(*binning_map[kin])\n",
    "    # old_len = ak.num(df_old[\"mu1_pt\"].compute(), axis=0)\n",
    "    # new_len = ak.num(df_new[\"mu1_pt\"].compute(), axis=0)\n",
    "    # new_weights = np.ones(new_len)\n",
    "    # new_weights = new_weights*old_len/new_len\n",
    "    hist_old, edges = np.histogram(df_old[var].compute(), bins=binning ,weights=weights_old)\n",
    "    # hist_old, edges = np.histogram(df_old[var+\"_nominal\"].compute(), bins=binning )\n",
    "    \n",
    "    # hist_new, _= np.histogram(df_new[region_cut][var].compute(), bins=binning , weights=new_weights)\n",
    "    hist_new, _= np.histogram(df_new[var].compute(), bins=binning ,weights=weights_new)\n",
    "    \n",
    "    plt.stairs(hist_old, edges, label = \"df_old\")\n",
    "    plt.stairs(hist_new, edges, label = \"df_new\")\n",
    "    plt.legend(loc=\"upper right\")\n",
    "    plt.title(var)\n",
    "    plt.show()\n",
    "    plt.stairs((hist_new-hist_old), edges)\n",
    "    plt.title(var+\" diff\")\n",
    "    plt.show()"
   ]
  },
  {
   "cell_type": "code",
   "execution_count": 5,
   "id": "f67a9125-d9cc-44c0-acc2-953440ff35dc",
   "metadata": {},
   "outputs": [
    {
     "name": "stdout",
     "output_type": "stream",
     "text": [
      "[0.00491, 0.00491, 0.00491, 0.00491, ..., 0.00491, 0.00491, 0.00491, 0.00491]\n",
      "6486\n",
      "entry\n",
      "1        0.004909\n",
      "3        0.004909\n",
      "5        0.004909\n",
      "6        0.004909\n",
      "7        0.004909\n",
      "           ...   \n",
      "10033    0.004909\n",
      "10037    0.004909\n",
      "10040    0.004909\n",
      "10041    0.004909\n",
      "10042    0.004909\n",
      "Name: weights, Length: 6486, dtype: float32\n",
      "(6486,)\n"
     ]
    }
   ],
   "source": [
    "weights_new = df_new[\"weights\"].compute()\n",
    "print(weights_new)\n",
    "print(ak.num(weights_new, axis=0))\n",
    "weights_old = df_old[\"weights\"].compute()\n",
    "print(weights_old)\n",
    "print(weights_old.shape)"
   ]
  },
  {
   "cell_type": "code",
   "execution_count": 6,
   "id": "a38c69d8-2dab-4ab5-aed4-f946a4b5b360",
   "metadata": {},
   "outputs": [
    {
     "data": {
      "text/plain": [
       "entry\n",
       "2270   -0.004909\n",
       "3587   -0.004909\n",
       "4620   -0.004909\n",
       "8121   -0.004909\n",
       "8661   -0.004909\n",
       "Name: weights, dtype: float32"
      ]
     },
     "execution_count": 6,
     "metadata": {},
     "output_type": "execute_result"
    }
   ],
   "source": [
    "weights_old[weights_old == np.min(weights_old)]"
   ]
  },
  {
   "cell_type": "code",
   "execution_count": null,
   "id": "38ce1183-3732-4480-a07a-726d2d854942",
   "metadata": {},
   "outputs": [],
   "source": [
    "binning = np.linspace(*[-0.008, 0.008, 12])\n",
    "hist_old, edges = np.histogram(weights_new, bins=binning )\n",
    "hist_new, _= np.histogram(weights_old, bins=binning )\n",
    "plt.stairs(hist_old, edges, label = \"df_old\")\n",
    "plt.stairs(hist_new, edges, label = \"df_new\")\n",
    "plt.legend(loc=\"upper right\")\n",
    "plt.show()\n",
    "plt.stairs((hist_new-hist_old), edges)\n",
    "plt.title(\"diff\")\n",
    "plt.show()"
   ]
  },
  {
   "cell_type": "code",
   "execution_count": 5,
   "id": "7f553f64-2876-42d0-bbd9-ffc6e396be6f",
   "metadata": {},
   "outputs": [
    {
     "name": "stdout",
     "output_type": "stream",
     "text": [
      "6527\n",
      "(6527,)\n"
     ]
    }
   ],
   "source": [
    "print(ak.sum(nmuons_new==2, axis=0))\n",
    "print(nmuons_old[nmuons_old==2].shape)"
   ]
  },
  {
   "cell_type": "code",
   "execution_count": null,
   "id": "978b0bb2-eefa-413b-b4f3-0083ed1b487b",
   "metadata": {},
   "outputs": [],
   "source": [
    "nmuons_new = df_new[\"nmuons\"].compute()\n",
    "print(nmuons_new)\n",
    "nmuons_old = df_old[\"nmuons\"].compute()\n",
    "print(nmuons_old)\n",
    "binning = np.linspace(*[0, 6.01, 7])\n",
    "hist_old, edges = np.histogram(nmuons_new, bins=binning )\n",
    "hist_new, _= np.histogram(nmuons_old, bins=binning )\n",
    "plt.stairs(hist_old, edges, label = \"df_old\")\n",
    "plt.stairs(hist_new, edges, label = \"df_new\")\n",
    "plt.legend(loc=\"upper right\")\n",
    "plt.show"
   ]
  },
  {
   "cell_type": "code",
   "execution_count": 3,
   "id": "27e79b3f-a06d-4748-998f-997c4abadd51",
   "metadata": {},
   "outputs": [
    {
     "name": "stdout",
     "output_type": "stream",
     "text": [
      "3.026836633682251\n",
      "3.0268366\n",
      "3.000633716583252\n",
      "3.0006337\n"
     ]
    }
   ],
   "source": [
    "print(ak.min(df_old[\"mu1_pt\"].compute()))\n",
    "print(ak.min(df_new[\"mu1_pt\"].compute()))\n",
    "print(ak.min(df_old[\"mu2_pt\"].compute()))\n",
    "print(ak.min(df_new[\"mu2_pt\"].compute()))"
   ]
  },
  {
   "cell_type": "code",
   "execution_count": null,
   "id": "9dcee1d3-2333-4ce6-a851-eee80ae7dfba",
   "metadata": {},
   "outputs": [],
   "source": [
    "print(ak.num(df_old[\"mu1_pt\"].compute(), axis=0))\n",
    "print(ak.num(df_new[\"mu1_pt\"].compute(), axis=0))\n",
    "print(ak.num(df_old[nmuons_old >1][\"mu2_pt\"].compute(), axis=0))\n",
    "# print(df_old[nmuons_old >1][\"mu2_pt\"].compute().shape)\n",
    "print(ak.num(df_new[nmuons_new >1][\"mu2_pt\"].compute(), axis=0))"
   ]
  },
  {
   "cell_type": "code",
   "execution_count": 6,
   "id": "9d52d8ae-514f-4981-abb4-6252f54b06ed",
   "metadata": {},
   "outputs": [
    {
     "data": {
      "text/html": [
       "<pre>------------------\n",
       "type: 0 * ?float64</pre>"
      ],
      "text/plain": [
       "<Array [] type='0 * ?float64'>"
      ]
     },
     "execution_count": 6,
     "metadata": {},
     "output_type": "execute_result"
    }
   ],
   "source": [
    "df_new[\"mu1_pt\"][(df_new[\"mu1_pt\"]<= 26)].compute()"
   ]
  },
  {
   "cell_type": "code",
   "execution_count": 6,
   "id": "5a2a9fc1-aa80-4094-b5a1-c53162b5573e",
   "metadata": {},
   "outputs": [
    {
     "name": "stdout",
     "output_type": "stream",
     "text": [
      "9770\n"
     ]
    }
   ],
   "source": [
    "print(ak.sum((df_old[\"mu1_pt\"] > 0).compute(), axis=0))"
   ]
  },
  {
   "cell_type": "code",
   "execution_count": 21,
   "id": "e18665aa-4659-4ca2-afac-f3912093c4d1",
   "metadata": {},
   "outputs": [],
   "source": [
    "binning_map = {\n",
    "    \"pt\" : [25, 300, 50],\n",
    "    \"eta\" : [-5, 5, 30],\n",
    "    \"phi\" : [-3.1415, 3.1415, 101],\n",
    "    \"mass\" : [0, 150, 100],\n",
    "}"
   ]
  },
  {
   "cell_type": "code",
   "execution_count": null,
   "id": "6680dea8-582c-447a-871e-13091c4c786b",
   "metadata": {
    "scrolled": true
   },
   "outputs": [],
   "source": [
    "# var = \"mu1_pt\"\n",
    "# var = \"dimuon_mass\"\n",
    "# var = \"jet1_pt\"\n",
    "# variables = [\"mu1_pt\", \"mu2_pt\", \"dimuon_mass\"]\n",
    "variables = [\"mu1_pt\",\"mu1_eta\", \"mu1_phi\", \n",
    "             # \"jet1_mass\", \n",
    "             \"jet1_pt\", \"jet1_eta\", \"jet1_phi\"\n",
    "            ]\n",
    "weights_old = df_old[\"weights\"].compute()\n",
    "weights_new = ak.to_numpy(df_new[\"weights\"].compute())\n",
    "if \"ggh\" in sample:\n",
    "    print(\"ggh in sample!\")\n",
    "    nnlops_full_load_path = f'/depot/cms/users/yun79/results/stage1/test_full2/2018/f1_0/{sample}/0/nnlops/wgt.parquet'\n",
    "    nnlops_wgts = ak.from_parquet(nnlops_full_load_path)[\"nnlops_wgt\"]\n",
    "    weights_new = weights_new*nnlops_wgts\n",
    "\n",
    "for var in variables:\n",
    "    kin = var.split(\"_\")[-1]\n",
    "    # binning = np.linspace(*[25, 300, 50])\n",
    "    binning = np.linspace(*binning_map[kin])\n",
    "    # old_len = ak.num(df_old[\"mu1_pt\"].compute(), axis=0)\n",
    "    # new_len = ak.num(df_new[\"mu1_pt\"].compute(), axis=0)\n",
    "    # new_weights = np.ones(new_len)\n",
    "    # new_weights = new_weights*old_len/new_len\n",
    "    hist_old, edges = np.histogram(df_old[var].compute(), bins=binning ,weights=weights_old)\n",
    "    # hist_old, edges = np.histogram(df_old[var+\"_nominal\"].compute(), bins=binning )\n",
    "    \n",
    "    # hist_new, _= np.histogram(df_new[region_cut][var].compute(), bins=binning , weights=new_weights)\n",
    "    hist_new, _= np.histogram(df_new[var].compute(), bins=binning ,weights=weights_new)\n",
    "    \n",
    "    plt.stairs(hist_old, edges, label = \"df_old\")\n",
    "    plt.stairs(hist_new, edges, label = \"df_new\")\n",
    "    plt.legend(loc=\"upper right\")\n",
    "    plt.title(var)\n",
    "    plt.show()\n",
    "    plt.stairs((hist_new-hist_old), edges)\n",
    "    plt.title(var+\" diff\")\n",
    "    plt.show()"
   ]
  },
  {
   "cell_type": "code",
   "execution_count": null,
   "id": "47661fb9-4613-4840-ba7e-4efbe0ff2baf",
   "metadata": {
    "scrolled": true
   },
   "outputs": [],
   "source": [
    "\"\"\"\n",
    "For mu2, special condition is needed bc when there's only one muon, mu2==mu1 in copperhead\n",
    "\"\"\"\n",
    "# var = \"mu1_pt\"\n",
    "# var = \"dimuon_mass\"\n",
    "# var = \"jet1_pt\"\n",
    "# variables = [\"mu1_pt\", \"mu2_pt\", \"dimuon_mass\"]\n",
    "variables = [\"mu2_pt\",\"mu2_eta\", \"mu2_phi\", \n",
    "             # \"jet2_mass\", \n",
    "             \"jet2_pt\", \"jet2_eta\", \"jet2_phi\"\n",
    "            ]\n",
    "weights_old = df_old[\"weights\"].compute()\n",
    "weights_new = ak.to_numpy(df_new[\"weights\"].compute())\n",
    "if \"ggh\" in sample:\n",
    "    nnlops_full_load_path = f'/depot/cms/users/yun79/results/stage1/test_full2/2018/f1_0/{sample}/0/nnlops/wgt.parquet'\n",
    "    nnlops_wgts = ak.from_parquet(nnlops_full_load_path)[\"nnlops_wgt\"]\n",
    "    weights_new = weights_new*nnlops_wgts\n",
    "    \n",
    "for var in variables:\n",
    "    kin = var.split(\"_\")[-1]\n",
    "    # binning = np.linspace(*[25, 300, 50])\n",
    "    binning = np.linspace(*binning_map[kin])\n",
    "    # the way copperheadV1 defines mu2 is the muon with the lowest pt, thus the\n",
    "    # only way to make copperheadV1 and copperheadV2 same is to ensure nmuons ==2\n",
    "    # if 'mu' in var:\n",
    "    #     nvars_new = df_new[\"nmuons\"].compute()\n",
    "    #     nvars_old = df_old[\"nmuons\"].compute()\n",
    "    # else:\n",
    "    #     nvars_new = df_new[\"njets\"].compute()\n",
    "    #     nvars_old = df_old[\"njets\"].compute()\n",
    "    # hist_old, edges = np.histogram(df_old[nvars_old ==2][var].compute(), bins=binning , weights=weights_old[nvars_old ==2])\n",
    "    # hist_new, _= np.histogram(df_new[nvars_new ==2][var].compute(), bins=binning , weights=weights_new[nvars_new ==2])\n",
    "    hist_old, edges = np.histogram(df_old[var].compute(), bins=binning , weights=weights_old)\n",
    "    hist_new, _= np.histogram(df_new[var].compute(), bins=binning , weights=weights_new)\n",
    "    \n",
    "    \n",
    "    plt.stairs(hist_old, edges, label = \"df_old\")\n",
    "    plt.stairs(hist_new, edges, label = \"df_new\")\n",
    "    plt.legend(loc=\"upper right\")\n",
    "    plt.title(var)\n",
    "    plt.show()\n",
    "    plt.stairs((hist_new-hist_old), edges)\n",
    "    plt.title(var+\" diff\")\n",
    "    plt.show()"
   ]
  },
  {
   "cell_type": "code",
   "execution_count": 12,
   "id": "364408bf-91fc-40d8-82e6-cd6d41ec50c1",
   "metadata": {},
   "outputs": [
    {
     "name": "stdout",
     "output_type": "stream",
     "text": [
      "run\n",
      "event\n",
      "npv\n",
      "met\n",
      "LHEMass\n",
      "two_muons\n",
      "event_selection\n",
      "pass_leading_pt\n",
      "mu1_pt\n",
      "mu1_pt_over_mass\n",
      "mu1_eta\n",
      "mu1_phi\n",
      "mu1_iso\n",
      "mu1_pt_raw\n",
      "mu2_pt\n",
      "mu2_pt_over_mass\n",
      "mu2_eta\n",
      "mu2_phi\n",
      "mu2_iso\n",
      "mu2_pt_raw\n",
      "dimuon_mass\n",
      "dimuon_ebe_mass_res\n",
      "dimuon_ebe_mass_res_rel\n",
      "dimuon_pt\n",
      "dimuon_pt_log\n",
      "dimuon_eta\n",
      "dimuon_phi\n",
      "dimuon_dEta\n",
      "dimuon_dPhi\n",
      "dimuon_dR\n",
      "dimuon_rap\n",
      "dimuon_cos_theta_cs\n",
      "dimuon_phi_cs\n",
      "mu1_ptErr\n",
      "mu2_ptErr\n",
      "dimuon_pisa_mass_res_rel\n",
      "dimuon_pisa_mass_res\n",
      "dimuon_cos_theta_cs_pisa\n",
      "dimuon_phi_cs_pisa\n",
      "gjet1_pt\n",
      "gjet2_pt\n",
      "gjj_pt\n",
      "gjet1_eta\n",
      "gjet2_eta\n",
      "gjj_eta\n",
      "gjet1_phi\n",
      "gjet2_phi\n",
      "gjj_phi\n",
      "gjet1_mass\n",
      "gjet2_mass\n",
      "gjj_mass\n",
      "gjj_dEta\n",
      "gjj_dPhi\n",
      "gjj_dR\n",
      "jet1_pt\n",
      "jet1_eta\n",
      "jet1_rap\n",
      "jet1_phi\n",
      "jet1_qgl\n",
      "jet1_jetId\n",
      "jet1_puId\n",
      "jet1_has_matched_genjet2_pt\n",
      "jet2_eta\n",
      "jet2_rap\n",
      "jet2_phi\n",
      "jet2_qgl\n",
      "jet2_jetId\n",
      "jet2_puId\n",
      "jet2_has_matched_genjj_mass\n",
      "jj_mass_log\n",
      "jj_pt\n",
      "jj_eta\n",
      "jj_phi\n",
      "jj_dEta\n",
      "jj_dPhi\n",
      "mmj1_dEta\n",
      "mmj1_dPhi\n",
      "mmj1_dR\n",
      "mmj2_dEta\n",
      "mmj2_dPhi\n",
      "mmj2_dR\n",
      "mmj_min_dEta\n",
      "mmj_min_dPhi\n",
      "mmjj_pt\n",
      "mmjj_eta\n",
      "mmjj_phi\n",
      "mmjj_mass\n",
      "rpt\n",
      "zeppenfeld\n",
      "ll_zstar_log\n",
      "nsoftjets2\n",
      "nsoftjets5\n",
      "htsoft2\n",
      "htsoft5\n",
      "selection\n",
      "jet2_pt\n",
      "jet1_has_matched_gen\n",
      "jet2_has_matched_gen\n",
      "jj_mass\n",
      "dataset\n",
      "weights\n",
      "fsr_mask\n"
     ]
    }
   ],
   "source": [
    "for col in df_old.columns:\n",
    "    print(col)"
   ]
  },
  {
   "cell_type": "code",
   "execution_count": 10,
   "id": "6a070a9a-02b8-4156-8331-e8f56d7043e9",
   "metadata": {
    "scrolled": true
   },
   "outputs": [],
   "source": [
    "# \"\"\"\n",
    "# fsr version\n",
    "# \"\"\"\n",
    "# variables = [\"mu1_pt\",\"mu1_eta\", \"mu1_phi\", \n",
    "#              \"jet1_mass\", \"jet1_pt\", \"jet1_eta\", \"jet1_phi\"\n",
    "#             ]\n",
    "# fsr_mask_old = df_old[\"fsr_mask\"].compute()\n",
    "# fsr_mask_new = df_new[\"fsr_mask\"].compute()\n",
    "# weights_old = df_old[\"weights\"].compute()[fsr_mask_old]\n",
    "# weights_new = ak.to_numpy(df_new[\"weights\"].compute())[fsr_mask_new]\n",
    "# df_old = df_old[fsr_mask_old]\n",
    "# df_new = df_new[fsr_mask_new]\n",
    "\n",
    "# for var in variables:\n",
    "#     kin = var.split(\"_\")[-1]\n",
    "#     # binning = np.linspace(*[25, 300, 50])\n",
    "#     binning = np.linspace(*binning_map[kin])\n",
    "#     # old_len = ak.num(df_old[\"mu1_pt\"].compute(), axis=0)\n",
    "#     # new_len = ak.num(df_new[\"mu1_pt\"].compute(), axis=0)\n",
    "#     # new_weights = np.ones(new_len)\n",
    "#     # new_weights = new_weights*old_len/new_len\n",
    "#     hist_old, edges = np.histogram(df_old[var].compute(), bins=binning ,weights=weights_old)\n",
    "#     # hist_old, edges = np.histogram(df_old[var+\"_nominal\"].compute(), bins=binning )\n",
    "    \n",
    "#     # hist_new, _= np.histogram(df_new[region_cut][var].compute(), bins=binning , weights=new_weights)\n",
    "#     hist_new, _= np.histogram(df_new[var].compute(), bins=binning ,weights=weights_new)\n",
    "    \n",
    "#     plt.stairs(hist_old, edges, label = \"df_old\")\n",
    "#     plt.stairs(hist_new, edges, label = \"df_new\")\n",
    "#     plt.legend(loc=\"upper right\")\n",
    "#     plt.title(var)\n",
    "#     plt.show()\n",
    "#     plt.stairs((hist_new-hist_old), edges)\n",
    "#     plt.title(var+\" diff\")\n",
    "#     plt.show()"
   ]
  },
  {
   "cell_type": "code",
   "execution_count": 11,
   "id": "7d618a36-99fd-419a-8bcf-42b8eea77815",
   "metadata": {
    "scrolled": true
   },
   "outputs": [],
   "source": [
    "# \"\"\"\n",
    "# fsr version for mu2, fsr_mask is already applied, so we don't change anything\n",
    "# \"\"\"\n",
    "# # var = \"mu1_pt\"\n",
    "# # var = \"dimuon_mass\"\n",
    "# # var = \"jet1_pt\"\n",
    "# # variables = [\"mu1_pt\", \"mu2_pt\", \"dimuon_mass\"]\n",
    "# variables = [\"mu2_pt\",\"mu2_eta\", \"mu2_phi\", \n",
    "#              \"jet2_mass\", \"jet2_pt\", \"jet2_eta\", \"jet2_phi\"\n",
    "#             ]\n",
    "# weights_old = df_old[\"weights\"].compute()\n",
    "# weights_new = ak.to_numpy(df_new[\"weights\"].compute())\n",
    "# for var in variables:\n",
    "#     kin = var.split(\"_\")[-1]\n",
    "#     # binning = np.linspace(*[25, 300, 50])\n",
    "#     binning = np.linspace(*binning_map[kin])\n",
    "#     # the way copperheadV1 defines mu2 is the muon with the lowest pt, thus the\n",
    "#     # only way to make copperheadV1 and copperheadV2 same is to ensure nmuons ==2\n",
    "#     if 'mu' in var:\n",
    "#         nvars_new = df_new[\"nmuons\"].compute()\n",
    "#         nvars_old = df_old[\"nmuons\"].compute()\n",
    "#     else:\n",
    "#         nvars_new = df_new[\"njets\"].compute()\n",
    "#         nvars_old = df_old[\"njets\"].compute()\n",
    "#     hist_old, edges = np.histogram(df_old[nvars_old ==2][var].compute(), bins=binning , weights=weights_old[nvars_old ==2])\n",
    "#     hist_new, _= np.histogram(df_new[nvars_new ==2][var].compute(), bins=binning , weights=weights_new[nvars_new ==2])\n",
    "    \n",
    "#     plt.stairs(hist_old, edges, label = \"df_old\")\n",
    "#     plt.stairs(hist_new, edges, label = \"df_new\")\n",
    "#     plt.legend(loc=\"upper right\")\n",
    "#     plt.title(var)\n",
    "#     plt.show()\n",
    "#     plt.stairs((hist_new-hist_old), edges)\n",
    "#     plt.title(var+\" diff\")\n",
    "#     plt.show()"
   ]
  },
  {
   "cell_type": "code",
   "execution_count": 70,
   "id": "c0ef1b0e-022e-442b-9b1f-c16f000e436d",
   "metadata": {},
   "outputs": [
    {
     "name": "stdout",
     "output_type": "stream",
     "text": [
      "entry\n",
      "393      63.289581\n",
      "669      63.089520\n",
      "1550     45.827698\n",
      "2286    110.583145\n",
      "4710     61.832088\n",
      "6403    166.207367\n",
      "6643     44.467964\n",
      "7378     59.695114\n",
      "8396     80.743317\n",
      "Name: mu1_pt, dtype: float32\n",
      "[59.3, 62.4, 41.3, 80.7, 50.2, 156, 37.7, 48.8, 73.7]\n"
     ]
    }
   ],
   "source": [
    "# sum(df_old[\"mu1_pt\"] ==np.nan)\n",
    "fsr_mu1_pt_old = df_old[\"mu1_pt\"].compute()\n",
    "fsr_mu1_pt_new =  df_new[\"mu1_pt\"].compute()\n",
    "print(fsr_mu1_pt_old[fsr_mu1_pt_old != fsr_mu1_pt_new])\n",
    "print(fsr_mu1_pt_new[fsr_mu1_pt_old != fsr_mu1_pt_new])\n",
    "# df_old[]"
   ]
  },
  {
   "cell_type": "code",
   "execution_count": 20,
   "id": "a35bae0d-3a8a-4e79-b1a8-85233f029bec",
   "metadata": {},
   "outputs": [
    {
     "data": {
      "text/plain": [
       "141.125"
      ]
     },
     "execution_count": 20,
     "metadata": {},
     "output_type": "execute_result"
    }
   ],
   "source": [
    "nvars_new = df_new[\"jet1_mass\"].compute()\n",
    "nvars_old = df_old[\"jet1_mass\"].compute()\n",
    "# nvars_old\n",
    "np.max(nvars_new)"
   ]
  },
  {
   "cell_type": "code",
   "execution_count": 21,
   "id": "e91a6a5e-df2f-4938-b45a-69aa01dd9550",
   "metadata": {},
   "outputs": [
    {
     "data": {
      "text/plain": [
       "0"
      ]
     },
     "execution_count": 21,
     "metadata": {},
     "output_type": "execute_result"
    }
   ],
   "source": [
    "diff = hist_old-hist_new\n",
    "len(diff[diff !=0])"
   ]
  },
  {
   "cell_type": "code",
   "execution_count": 6,
   "id": "cf03ad70-be0f-4f19-b2bf-3537710a6e2a",
   "metadata": {},
   "outputs": [
    {
     "data": {
      "text/plain": [
       "<matplotlib.patches.StepPatch at 0x7f64d2761360>"
      ]
     },
     "execution_count": 6,
     "metadata": {},
     "output_type": "execute_result"
    },
    {
     "data": {
      "image/png": "[encoded data removed]",
      "text/plain": [
       "<Figure size 640x480 with 1 Axes>"
      ]
     },
     "metadata": {},
     "output_type": "display_data"
    }
   ],
   "source": []
  },
  {
   "cell_type": "code",
   "execution_count": null,
   "id": "58737885-0c7c-4fe3-8f4d-caa66628f5f3",
   "metadata": {},
   "outputs": [],
   "source": [
    "# df_old.fields\n",
    "# df_old[\"mu1_pt\"].compute()\n",
    "# df_old[\"region\"].compute()\n",
    "# df_old[\"wgt_nominal\"].compute()\n"
   ]
  },
  {
   "cell_type": "code",
   "execution_count": 43,
   "id": "035e3ed6-53b4-4cfb-a793-6bc53408b664",
   "metadata": {},
   "outputs": [],
   "source": [
    "# (df_old).fields\n",
    "regions = df_old.region.compute() "
   ]
  },
  {
   "cell_type": "code",
   "execution_count": 59,
   "id": "667f1e1a-f20c-409a-9fff-73730acfd5fe",
   "metadata": {},
   "outputs": [],
   "source": [
    "# import dask.dataframe as dd\n",
    "# import pandas as pd\n",
    "# # df = dd.from_pandas(pd.DataFrame(), npartitions=1)\n",
    "# df = dd.read_parquet(full_load_path)\n",
    "# region = df.region.compute()"
   ]
  },
  {
   "cell_type": "code",
   "execution_count": 55,
   "id": "21b0852d-dfcb-4836-82cb-210304b468f2",
   "metadata": {},
   "outputs": [
    {
     "data": {
      "text/plain": [
       "entry\n",
       "3067      True\n",
       "4094     False\n",
       "4405      True\n",
       "6031     False\n",
       "6797      True\n",
       "         ...  \n",
       "90309    False\n",
       "90479    False\n",
       "92886     True\n",
       "94390    False\n",
       "95004     True\n",
       "Name: region, Length: 89712, dtype: bool[pyarrow]"
      ]
     },
     "execution_count": 55,
     "metadata": {},
     "output_type": "execute_result"
    }
   ],
   "source": [
    "region== \"h-peak\""
   ]
  },
  {
   "cell_type": "code",
   "execution_count": 60,
   "id": "a13880bc-9dc8-40dc-91d2-15175cd3e4aa",
   "metadata": {},
   "outputs": [
    {
     "data": {
      "text/plain": [
       "entry\n",
       "3067          h-peak\n",
       "4094     h-sidebands\n",
       "4405          h-peak\n",
       "6031     h-sidebands\n",
       "6797          h-peak\n",
       "            ...     \n",
       "90309    h-sidebands\n",
       "90479    h-sidebands\n",
       "92886         h-peak\n",
       "94390    h-sidebands\n",
       "95004         h-peak\n",
       "Name: region, Length: 89712, dtype: string"
      ]
     },
     "execution_count": 60,
     "metadata": {},
     "output_type": "execute_result"
    }
   ],
   "source": [
    "region"
   ]
  },
  {
   "cell_type": "code",
   "execution_count": 58,
   "id": "6db06227-f830-4def-86b8-352762b5775c",
   "metadata": {},
   "outputs": [
    {
     "data": {
      "text/plain": [
       "Index(['LHEMass', 'dataset', 'dimuon_cos_theta_cs', 'dimuon_cos_theta_cs_pisa',\n",
       "       'dimuon_dEta', 'dimuon_dPhi', 'dimuon_dR', 'dimuon_ebe_mass_res',\n",
       "       'dimuon_ebe_mass_res_rel', 'dimuon_eta', 'dimuon_mass', 'dimuon_phi',\n",
       "       'dimuon_phi_cs', 'dimuon_phi_cs_pisa', 'dimuon_pisa_mass_res',\n",
       "       'dimuon_pisa_mass_res_rel', 'dimuon_pt', 'dimuon_pt_log', 'event',\n",
       "       'htsoft2_nominal', 'htsoft5_nominal', 'jet1_eta_nominal',\n",
       "       'jet1_has_matched_gen_nominal', 'jet1_phi_nominal', 'jet1_pt_nominal',\n",
       "       'jet1_qgl_nominal', 'jet2_eta_nominal', 'jet2_has_matched_gen_nominal',\n",
       "       'jet2_phi_nominal', 'jet2_pt_nominal', 'jet2_qgl_nominal',\n",
       "       'jj_dEta_nominal', 'jj_dPhi_nominal', 'jj_eta_nominal',\n",
       "       'jj_mass_nominal', 'jj_mass_log_nominal', 'jj_phi_nominal',\n",
       "       'jj_pt_nominal', 'll_zstar_log_nominal', 'met', 'mmj1_dEta_nominal',\n",
       "       'mmj1_dPhi_nominal', 'mmj2_dEta_nominal', 'mmj2_dPhi_nominal',\n",
       "       'mmj_min_dEta_nominal', 'mmj_min_dPhi_nominal', 'mmjj_eta_nominal',\n",
       "       'mmjj_mass_nominal', 'mmjj_phi_nominal', 'mmjj_pt_nominal', 'mu1_eta',\n",
       "       'mu1_iso', 'mu1_phi', 'mu1_pt', 'mu1_pt_over_mass', 'mu2_eta',\n",
       "       'mu2_iso', 'mu2_phi', 'mu2_pt', 'mu2_pt_over_mass',\n",
       "       'nBtagLoose_nominal', 'nBtagMedium_nominal', 'njets_nominal', 'npv',\n",
       "       'nsoftjets2_nominal', 'nsoftjets5_nominal', 'region', 'rpt_nominal',\n",
       "       'run', 'wgt_nominal', 'year', 'zeppenfeld_nominal'],\n",
       "      dtype='object')"
      ]
     },
     "execution_count": 58,
     "metadata": {},
     "output_type": "execute_result"
    }
   ],
   "source": [
    "df.columns"
   ]
  },
  {
   "cell_type": "code",
   "execution_count": 8,
   "id": "d9d26852-9f3d-45a0-9db2-7a31d378cec3",
   "metadata": {},
   "outputs": [
    {
     "data": {
      "text/plain": [
       "dtype('float32')"
      ]
     },
     "execution_count": 8,
     "metadata": {},
     "output_type": "execute_result"
    }
   ],
   "source": [
    "A = np.ones(2, dtype=\"float32\")\n",
    "A.dtype"
   ]
  },
  {
   "cell_type": "code",
   "execution_count": 10,
   "id": "7cf6882a-6019-4b3d-999d-a5d3aa7b0d10",
   "metadata": {},
   "outputs": [
    {
     "data": {
      "text/plain": [
       "numpy.float64"
      ]
     },
     "execution_count": 10,
     "metadata": {},
     "output_type": "execute_result"
    }
   ],
   "source": [
    "type(sum(A))"
   ]
  },
  {
   "cell_type": "code",
   "execution_count": 12,
   "id": "0e3bbc13-f3cd-4212-8e7a-910e63910439",
   "metadata": {},
   "outputs": [
    {
     "data": {
      "text/plain": [
       "numpy.float32"
      ]
     },
     "execution_count": 12,
     "metadata": {},
     "output_type": "execute_result"
    }
   ],
   "source": [
    "type(np.sum(A))"
   ]
  },
  {
   "cell_type": "code",
   "execution_count": 57,
   "id": "11aa2708-fe65-4a12-a308-1f3c350b4dea",
   "metadata": {},
   "outputs": [
    {
     "name": "stderr",
     "output_type": "stream",
     "text": [
      "/depot/cms/kernels/coffea2024/lib/python3.10/site-packages/awkward/_nplikes/array_module.py:245: RuntimeWarning: invalid value encountered in sqrt\n",
      "  return impl(*broadcasted_args, **(kwargs or {}))\n"
     ]
    },
    {
     "data": {
      "text/html": [
       "<pre>[nan,\n",
       " nan]\n",
       "-----------------\n",
       "type: 2 * float64</pre>"
      ],
      "text/plain": [
       "<Array [nan, nan] type='2 * float64'>"
      ]
     },
     "execution_count": 57,
     "metadata": {},
     "output_type": "execute_result"
    }
   ],
   "source": [
    "np.sqrt(-ak.from_numpy(np.ones(2)))"
   ]
  },
  {
   "cell_type": "code",
   "execution_count": null,
   "id": "13937b64-a2ae-4217-99e0-f0ead2c4ede4",
   "metadata": {},
   "outputs": [],
   "source": []
  }
 ],
 "metadata": {
  "kernelspec": {
   "display_name": "Python [conda env:coffea2024]",
   "language": "python",
   "name": "conda-env-coffea2024-py"
  },
  "language_info": {
   "codemirror_mode": {
    "name": "ipython",
    "version": 3
   },
   "file_extension": ".py",
   "mimetype": "text/x-python",
   "name": "python",
   "nbconvert_exporter": "python",
   "pygments_lexer": "ipython3",
   "version": "3.10.13"
  }
 },
 "nbformat": 4,
 "nbformat_minor": 5
}
