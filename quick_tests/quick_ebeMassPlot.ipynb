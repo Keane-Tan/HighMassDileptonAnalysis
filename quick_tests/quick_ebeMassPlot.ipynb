{
 "cells": [
  {
   "cell_type": "code",
   "execution_count": 1,
   "id": "45e25b8d-936a-4b64-91e5-b1f76960e058",
   "metadata": {},
   "outputs": [
    {
     "name": "stdout",
     "output_type": "stream",
     "text": [
      "Gateway Client created\n"
     ]
    },
    {
     "name": "stderr",
     "output_type": "stream",
     "text": [
      "2024-05-09 15:11:43,693 - distributed.client - ERROR - Failed to reconnect to scheduler after 30.00 seconds, closing client\n"
     ]
    }
   ],
   "source": [
    "import dask_awkward as dak\n",
    "import awkward as ak\n",
    "import numpy as np\n",
    "import matplotlib.pyplot as plt\n",
    "import awkward as ak\n",
    "import dask_awkward as dak\n",
    "import numpy as np\n",
    "import json\n",
    "import argparse\n",
    "import os\n",
    "from distributed import Client\n",
    "import time    \n",
    "import tqdm\n",
    "import mplhep as hep\n",
    "import matplotlib.pyplot as plt\n",
    "import matplotlib\n",
    "import glob\n",
    "hep.style.use(\"CMS\")\n",
    "# client =  Client(n_workers=20,  threads_per_worker=2, processes=True, memory_limit='10 GiB') \n",
    "from dask_gateway import Gateway\n",
    "gateway = Gateway(\n",
    "    \"http://dask-gateway-k8s.geddes.rcac.purdue.edu/\",\n",
    "    proxy_address=\"traefik-dask-gateway-k8s.cms.geddes.rcac.purdue.edu:8786\",\n",
    ")\n",
    "cluster_info = gateway.list_clusters()[0]# get the first cluster by default. There only should be one anyways\n",
    "client = gateway.connect(cluster_info.name).get_client()\n",
    "print(\"Gateway Client created\")"
   ]
  },
  {
   "cell_type": "code",
   "execution_count": 2,
   "id": "4e2d936b-829a-47ae-9697-5b90460b9c20",
   "metadata": {},
   "outputs": [],
   "source": [
    "# get data events\n",
    "# common_load_path = \"/depot/cms/users/yun79/results/stage1/Run2StorageTest/2018/f1_0\"\n",
    "common_load_path = \"/work/users/yun79/stage1_output/Run2StorageTest/2018/f1_0\"\n",
    "data_load_path = common_load_path+\"/data*/*/*.parquet\"\n",
    "# data_load_path = common_load_path+\"/data_C/*/*.parquet\"\n",
    "\n",
    "data_events = dak.from_parquet(data_load_path) \n",
    "# we're only interested in ZCR\n",
    "filter = ak.fill_none(data_events[\"z_peak\"], value=False)\n",
    "data_events = data_events[filter]\n",
    "\n"
   ]
  },
  {
   "cell_type": "code",
   "execution_count": 3,
   "id": "7c09135b-6286-41c3-8db6-d12b7512bc69",
   "metadata": {
    "scrolled": true
   },
   "outputs": [],
   "source": [
    "# get MC events (all MC except DY)\n",
    "secondary_MC_strs = [\n",
    "    \"ttjet*\", # all TT samples\n",
    "    \"st_tw*\", # single Top samples\n",
    "    \"ewk*\", # single Top samples\n",
    "    \"ww*\", # diboson samples\n",
    "    \"wz*\", # diboson samples\n",
    "    \"zz*\", # diboson samples\n",
    "]\n",
    "filelist_big = []\n",
    "for mc_str in secondary_MC_strs:\n",
    "    filelist = glob.glob(common_load_path + f\"/{mc_str}/*/*.parquet\")\n",
    "    filelist_big += filelist\n",
    "mc_events = dak.from_parquet(filelist_big) \n",
    "# we're only interested in ZCR\n",
    "filter = ak.fill_none(mc_events[\"z_peak\"], value=False)\n",
    "mc_events = mc_events[filter]"
   ]
  },
  {
   "cell_type": "code",
   "execution_count": 4,
   "id": "e66a9190-1828-4240-bf37-be052cdee033",
   "metadata": {},
   "outputs": [],
   "source": [
    "def get_calib_categories(events):\n",
    "    BB = ((abs(events[\"mu1_eta\"])<=0.9) & (abs(events[\"mu2_eta\"])<=0.9))\n",
    "    BO = ((abs(events[\"mu1_eta\"])<=0.9) & ((abs(events[\"mu2_eta\"])>0.9) & (abs(events[\"mu2_eta\"]) <=1.8)))\n",
    "    BE = ((abs(events[\"mu1_eta\"])<=0.9) & ((abs(events[\"mu2_eta\"])>1.8) & (abs(events[\"mu2_eta\"]) <=2.4)))\n",
    "    OB = (((abs(events[\"mu1_eta\"])>0.9) & (abs(events[\"mu1_eta\"]) <=1.8)) & (abs(events[\"mu2_eta\"])<=0.9))\n",
    "    OO = (((abs(events[\"mu1_eta\"])>0.9) & (abs(events[\"mu1_eta\"]) <=1.8)) & ((abs(events[\"mu2_eta\"])>0.9) & (abs(events[\"mu2_eta\"]) <=1.8)))\n",
    "    OE = (((abs(events[\"mu1_eta\"])>0.9) & (abs(events[\"mu1_eta\"]) <=1.8)) & ((abs(events[\"mu2_eta\"])>1.8) & (abs(events[\"mu2_eta\"]) <=2.4)))\n",
    "    EB = (((abs(events[\"mu1_eta\"])>1.8) & (abs(events[\"mu1_eta\"]) <=2.4)) & (abs(events[\"mu2_eta\"])<=0.9))\n",
    "    EO = (((abs(events[\"mu1_eta\"])>1.8) & (abs(events[\"mu1_eta\"]) <=2.4)) & ((abs(events[\"mu2_eta\"])>0.9) & (abs(events[\"mu2_eta\"]) <=1.8)))\n",
    "    EE = (((abs(events[\"mu1_eta\"])>1.8) & (abs(events[\"mu1_eta\"]) <=2.4)) & ((abs(events[\"mu2_eta\"])>1.8) & (abs(events[\"mu2_eta\"]) <=2.4)))\n",
    "    categories = [((events[\"mu1_pt\"]>30)&(events[\"mu1_pt\"]<=45)&(BB | OB | EB)),\n",
    "                          ((events[\"mu1_pt\"]>30)&(events[\"mu1_pt\"]<=45)&(BO | OO | EO)),\n",
    "                          ((events[\"mu1_pt\"]>30)&(events[\"mu1_pt\"]<=45)&(BE | OE | EE)),\n",
    "                          ((events[\"mu1_pt\"]>45)&(events[\"mu1_pt\"]<=52)&BB),\n",
    "                          ((events[\"mu1_pt\"]>45)&(events[\"mu1_pt\"]<=52)&BO),\n",
    "                          ((events[\"mu1_pt\"]>45)&(events[\"mu1_pt\"]<=52)&BE),\n",
    "                          ((events[\"mu1_pt\"]>45)&(events[\"mu1_pt\"]<=52)&OB),\n",
    "                          ((events[\"mu1_pt\"]>45)&(events[\"mu1_pt\"]<=52)&OO),\n",
    "                          ((events[\"mu1_pt\"]>45)&(events[\"mu1_pt\"]<=52)&OE),\n",
    "                          ((events[\"mu1_pt\"]>45)&(events[\"mu1_pt\"]<=52)&EB),\n",
    "                          ((events[\"mu1_pt\"]>45)&(events[\"mu1_pt\"]<=52)&EO),\n",
    "                          ((events[\"mu1_pt\"]>45)&(events[\"mu1_pt\"]<=52)&EE),\n",
    "                  # voigtian start here onwards\n",
    "                          ((events[\"mu1_pt\"]>52)&(events[\"mu1_pt\"]<=62)&BB),\n",
    "                          ((events[\"mu1_pt\"]>52)&(events[\"mu1_pt\"]<=62)&BO),\n",
    "                          ((events[\"mu1_pt\"]>52)&(events[\"mu1_pt\"]<=62)&BE),\n",
    "                          ((events[\"mu1_pt\"]>52)&(events[\"mu1_pt\"]<=62)&OB),\n",
    "                          ((events[\"mu1_pt\"]>52)&(events[\"mu1_pt\"]<=62)&OO),\n",
    "                          ((events[\"mu1_pt\"]>52)&(events[\"mu1_pt\"]<=62)&OE),\n",
    "                          ((events[\"mu1_pt\"]>52)&(events[\"mu1_pt\"]<=62)&EB),\n",
    "                          ((events[\"mu1_pt\"]>52)&(events[\"mu1_pt\"]<=62)&EO),\n",
    "                          ((events[\"mu1_pt\"]>52)&(events[\"mu1_pt\"]<=62)&EE),\n",
    "                          ((events[\"mu1_pt\"]>62)&(events[\"mu1_pt\"]<=200)&BB),\n",
    "                          ((events[\"mu1_pt\"]>62)&(events[\"mu1_pt\"]<=200)&BO),\n",
    "                          ((events[\"mu1_pt\"]>62)&(events[\"mu1_pt\"]<=200)&BE),\n",
    "                          ((events[\"mu1_pt\"]>62)&(events[\"mu1_pt\"]<=200)&OB),\n",
    "                          ((events[\"mu1_pt\"]>62)&(events[\"mu1_pt\"]<=200)&OO),\n",
    "                          ((events[\"mu1_pt\"]>62)&(events[\"mu1_pt\"]<=200)&OE),\n",
    "                          ((events[\"mu1_pt\"]>62)&(events[\"mu1_pt\"]<=200)&EB),\n",
    "                          ((events[\"mu1_pt\"]>62)&(events[\"mu1_pt\"]<=200)&EO),\n",
    "                          ((events[\"mu1_pt\"]>62)&(events[\"mu1_pt\"]<=200)&EE),]\n",
    "    return categories"
   ]
  },
  {
   "cell_type": "code",
   "execution_count": 5,
   "id": "9df420ff-4674-4a7a-96c9-c143e0bd8e2f",
   "metadata": {
    "scrolled": true
   },
   "outputs": [
    {
     "name": "stdout",
     "output_type": "stream",
     "text": [
      "time elapsed in : 76.4024121761322\n",
      "time elapsed in : 72.85243368148804\n",
      "time elapsed in : 71.72584366798401\n"
     ]
    },
    {
     "ename": "KeyboardInterrupt",
     "evalue": "",
     "output_type": "error",
     "traceback": [
      "\u001b[0;31m---------------------------------------------------------------------------\u001b[0m",
      "\u001b[0;31mKeyboardInterrupt\u001b[0m                         Traceback (most recent call last)",
      "Cell \u001b[0;32mIn[5], line 41\u001b[0m\n\u001b[1;32m     36\u001b[0m \u001b[38;5;66;03m# mc_hist, _ = np.histogram(dimuon_mass.compute(), bins=binning, weights = weights.compute())\u001b[39;00m\n\u001b[1;32m     37\u001b[0m \u001b[38;5;28mzip\u001b[39m \u001b[38;5;241m=\u001b[39m ak\u001b[38;5;241m.\u001b[39mzip({\n\u001b[1;32m     38\u001b[0m     \u001b[38;5;124m\"\u001b[39m\u001b[38;5;124mdimuon_mass\u001b[39m\u001b[38;5;124m\"\u001b[39m : dimuon_mass,\n\u001b[1;32m     39\u001b[0m     \u001b[38;5;124m\"\u001b[39m\u001b[38;5;124mweights\u001b[39m\u001b[38;5;124m\"\u001b[39m : weights,\n\u001b[1;32m     40\u001b[0m })\n\u001b[0;32m---> 41\u001b[0m \u001b[38;5;28mzip\u001b[39m \u001b[38;5;241m=\u001b[39m \u001b[38;5;28;43mzip\u001b[39;49m\u001b[38;5;241;43m.\u001b[39;49m\u001b[43mcompute\u001b[49m\u001b[43m(\u001b[49m\u001b[43m)\u001b[49m\n\u001b[1;32m     42\u001b[0m mc_hist, _ \u001b[38;5;241m=\u001b[39m np\u001b[38;5;241m.\u001b[39mhistogram(\u001b[38;5;28mzip\u001b[39m\u001b[38;5;241m.\u001b[39mdimuon_mass, bins\u001b[38;5;241m=\u001b[39mbinning, weights \u001b[38;5;241m=\u001b[39m \u001b[38;5;28mzip\u001b[39m\u001b[38;5;241m.\u001b[39mweights)\n\u001b[1;32m     44\u001b[0m fig, ax_main \u001b[38;5;241m=\u001b[39m plt\u001b[38;5;241m.\u001b[39msubplots()\n",
      "File \u001b[0;32m/depot/cms/kernels/coffea2024/lib/python3.10/site-packages/dask/base.py:375\u001b[0m, in \u001b[0;36mDaskMethodsMixin.compute\u001b[0;34m(self, **kwargs)\u001b[0m\n\u001b[1;32m    351\u001b[0m \u001b[38;5;28;01mdef\u001b[39;00m \u001b[38;5;21mcompute\u001b[39m(\u001b[38;5;28mself\u001b[39m, \u001b[38;5;241m*\u001b[39m\u001b[38;5;241m*\u001b[39mkwargs):\n\u001b[1;32m    352\u001b[0m \u001b[38;5;250m    \u001b[39m\u001b[38;5;124;03m\"\"\"Compute this dask collection\u001b[39;00m\n\u001b[1;32m    353\u001b[0m \n\u001b[1;32m    354\u001b[0m \u001b[38;5;124;03m    This turns a lazy Dask collection into its in-memory equivalent.\u001b[39;00m\n\u001b[0;32m   (...)\u001b[0m\n\u001b[1;32m    373\u001b[0m \u001b[38;5;124;03m    dask.compute\u001b[39;00m\n\u001b[1;32m    374\u001b[0m \u001b[38;5;124;03m    \"\"\"\u001b[39;00m\n\u001b[0;32m--> 375\u001b[0m     (result,) \u001b[38;5;241m=\u001b[39m \u001b[43mcompute\u001b[49m\u001b[43m(\u001b[49m\u001b[38;5;28;43mself\u001b[39;49m\u001b[43m,\u001b[49m\u001b[43m \u001b[49m\u001b[43mtraverse\u001b[49m\u001b[38;5;241;43m=\u001b[39;49m\u001b[38;5;28;43;01mFalse\u001b[39;49;00m\u001b[43m,\u001b[49m\u001b[43m \u001b[49m\u001b[38;5;241;43m*\u001b[39;49m\u001b[38;5;241;43m*\u001b[39;49m\u001b[43mkwargs\u001b[49m\u001b[43m)\u001b[49m\n\u001b[1;32m    376\u001b[0m     \u001b[38;5;28;01mreturn\u001b[39;00m result\n",
      "File \u001b[0;32m/depot/cms/kernels/coffea2024/lib/python3.10/site-packages/dask/base.py:661\u001b[0m, in \u001b[0;36mcompute\u001b[0;34m(traverse, optimize_graph, scheduler, get, *args, **kwargs)\u001b[0m\n\u001b[1;32m    658\u001b[0m     postcomputes\u001b[38;5;241m.\u001b[39mappend(x\u001b[38;5;241m.\u001b[39m__dask_postcompute__())\n\u001b[1;32m    660\u001b[0m \u001b[38;5;28;01mwith\u001b[39;00m shorten_traceback():\n\u001b[0;32m--> 661\u001b[0m     results \u001b[38;5;241m=\u001b[39m \u001b[43mschedule\u001b[49m\u001b[43m(\u001b[49m\u001b[43mdsk\u001b[49m\u001b[43m,\u001b[49m\u001b[43m \u001b[49m\u001b[43mkeys\u001b[49m\u001b[43m,\u001b[49m\u001b[43m \u001b[49m\u001b[38;5;241;43m*\u001b[39;49m\u001b[38;5;241;43m*\u001b[39;49m\u001b[43mkwargs\u001b[49m\u001b[43m)\u001b[49m\n\u001b[1;32m    663\u001b[0m \u001b[38;5;28;01mreturn\u001b[39;00m repack([f(r, \u001b[38;5;241m*\u001b[39ma) \u001b[38;5;28;01mfor\u001b[39;00m r, (f, a) \u001b[38;5;129;01min\u001b[39;00m \u001b[38;5;28mzip\u001b[39m(results, postcomputes)])\n",
      "File \u001b[0;32m/depot/cms/kernels/coffea2024/lib/python3.10/threading.py:607\u001b[0m, in \u001b[0;36mEvent.wait\u001b[0;34m(self, timeout)\u001b[0m\n\u001b[1;32m    605\u001b[0m signaled \u001b[38;5;241m=\u001b[39m \u001b[38;5;28mself\u001b[39m\u001b[38;5;241m.\u001b[39m_flag\n\u001b[1;32m    606\u001b[0m \u001b[38;5;28;01mif\u001b[39;00m \u001b[38;5;129;01mnot\u001b[39;00m signaled:\n\u001b[0;32m--> 607\u001b[0m     signaled \u001b[38;5;241m=\u001b[39m \u001b[38;5;28;43mself\u001b[39;49m\u001b[38;5;241;43m.\u001b[39;49m\u001b[43m_cond\u001b[49m\u001b[38;5;241;43m.\u001b[39;49m\u001b[43mwait\u001b[49m\u001b[43m(\u001b[49m\u001b[43mtimeout\u001b[49m\u001b[43m)\u001b[49m\n\u001b[1;32m    608\u001b[0m \u001b[38;5;28;01mreturn\u001b[39;00m signaled\n",
      "File \u001b[0;32m/depot/cms/kernels/coffea2024/lib/python3.10/threading.py:324\u001b[0m, in \u001b[0;36mCondition.wait\u001b[0;34m(self, timeout)\u001b[0m\n\u001b[1;32m    322\u001b[0m \u001b[38;5;28;01melse\u001b[39;00m:\n\u001b[1;32m    323\u001b[0m     \u001b[38;5;28;01mif\u001b[39;00m timeout \u001b[38;5;241m>\u001b[39m \u001b[38;5;241m0\u001b[39m:\n\u001b[0;32m--> 324\u001b[0m         gotit \u001b[38;5;241m=\u001b[39m \u001b[43mwaiter\u001b[49m\u001b[38;5;241;43m.\u001b[39;49m\u001b[43macquire\u001b[49m\u001b[43m(\u001b[49m\u001b[38;5;28;43;01mTrue\u001b[39;49;00m\u001b[43m,\u001b[49m\u001b[43m \u001b[49m\u001b[43mtimeout\u001b[49m\u001b[43m)\u001b[49m\n\u001b[1;32m    325\u001b[0m     \u001b[38;5;28;01melse\u001b[39;00m:\n\u001b[1;32m    326\u001b[0m         gotit \u001b[38;5;241m=\u001b[39m waiter\u001b[38;5;241m.\u001b[39macquire(\u001b[38;5;28;01mFalse\u001b[39;00m)\n",
      "\u001b[0;31mKeyboardInterrupt\u001b[0m: "
     ]
    },
    {
     "data": {
      "text/plain": [
       "<Figure size 1000x1000 with 0 Axes>"
      ]
     },
     "metadata": {},
     "output_type": "display_data"
    },
    {
     "data": {
      "text/plain": [
       "<Figure size 1000x1000 with 0 Axes>"
      ]
     },
     "metadata": {},
     "output_type": "display_data"
    },
    {
     "data": {
      "text/plain": [
       "<Figure size 1000x1000 with 0 Axes>"
      ]
     },
     "metadata": {},
     "output_type": "display_data"
    }
   ],
   "source": [
    "import time\n",
    "time_step = time.time()\n",
    "binning = np.linspace(*[70, 110, 100])\n",
    "# fraction_weight = ak.to_numpy(1/events.fraction.compute())\n",
    "data_categories = get_calib_categories(data_events)\n",
    "mc_categories = get_calib_categories(mc_events)\n",
    "for idx in range(len(data_categories)):\n",
    "    cat_selection = data_categories[idx]\n",
    "    # print(f\"cat_selection: {cat_selection.compute()}\")\n",
    "    fraction_weight = 1/data_events.fraction\n",
    "    weights = data_events.weights*fraction_weight*cat_selection\n",
    "    # weights = ak.to_numpy(weights.compute())\n",
    "    dimuon_mass = ak.fill_none(data_events.dimuon_mass, value=-999.0)\n",
    "    # dimuon_mass = ak.to_numpy(dimuon_mass.compute())\n",
    "    filter = (dimuon_mass!=-999.0) & (weights != 0)\n",
    "    dimuon_mass = dimuon_mass[filter]\n",
    "    weights = weights[filter]\n",
    "    # data_hist, _ = np.histogram(dimuon_mass.compute(), bins=binning, weights = weights.compute())\n",
    "    zip = ak.zip({\n",
    "        \"dimuon_mass\" : dimuon_mass,\n",
    "        \"weights\" : weights,\n",
    "    })\n",
    "    zip = zip.compute()\n",
    "    data_hist, _ = np.histogram(zip.dimuon_mass, bins=binning, weights = zip.weights)\n",
    "    # MC ------------------------------------------------------------------------------------\n",
    "    cat_selection = mc_categories[idx]\n",
    "    # print(f\"cat_selection: {cat_selection.compute()}\")\n",
    "    fraction_weight = 1/mc_events.fraction\n",
    "    weights = mc_events.weights*fraction_weight*cat_selection\n",
    "    # weights = ak.to_numpy(weights.compute())\n",
    "    dimuon_mass = ak.fill_none(mc_events.dimuon_mass, value=-999.0)\n",
    "    # dimuon_mass = ak.to_numpy(dimuon_mass.compute())\n",
    "    filter = (dimuon_mass!=-999.0) & (weights != 0)\n",
    "    dimuon_mass = dimuon_mass[filter]\n",
    "    weights = weights[filter]\n",
    "    # mc_hist, _ = np.histogram(dimuon_mass.compute(), bins=binning, weights = weights.compute())\n",
    "    zip = ak.zip({\n",
    "        \"dimuon_mass\" : dimuon_mass,\n",
    "        \"weights\" : weights,\n",
    "    })\n",
    "    zip = zip.compute()\n",
    "    mc_hist, _ = np.histogram(zip.dimuon_mass, bins=binning, weights = zip.weights)\n",
    "\n",
    "    fig, ax_main = plt.subplots()\n",
    "    hep.histplot(\n",
    "        data_hist, xerr=True, \n",
    "        # yerr=data_err,\n",
    "        bins=binning, stack=False, histtype='errorbar', color='black', \n",
    "        label='Data', ax=ax_main\n",
    "    )\n",
    "    hep.histplot(mc_hist, bins=binning, \n",
    "                             stack=False, histtype='fill', \n",
    "                             label=\"MC\", \n",
    "                             # sort='label_r', \n",
    "                             color=\"Green\", \n",
    "                             ax=ax_main)\n",
    "    ax_main.legend(loc=\"upper right\")\n",
    "    ax_main.set_xlabel(\"dimuon mass [GeV]\")\n",
    "    ax_main.set_title(f\"Cat {idx} ZCR mass distribution\")\n",
    "    plt.savefig(f\"./cat{idx}.pdf\")\n",
    "    ax_main.set_yscale('log')\n",
    "    ax_main.set_ylim(0.01, 1e9)\n",
    "    plt.savefig(f\"./cat{idx}_log.pdf\")\n",
    "    print(f\"time elapsed in : {time.time()-time_step}\")\n",
    "    time_step = time.time()\n",
    "    plt.clf()\n"
   ]
  },
  {
   "cell_type": "code",
   "execution_count": 7,
   "id": "09705e6a-bfdf-44ff-a81a-870f06c13c53",
   "metadata": {},
   "outputs": [
    {
     "name": "stdout",
     "output_type": "stream",
     "text": [
      "\\includegraphics[width=0.35\textwidth]{images/cat0.png}\n",
      "\\includegraphics[width=0.35\textwidth]{images/cat1.png}\n",
      "\\includegraphics[width=0.35\textwidth]{images/cat2.png}\n",
      "\\includegraphics[width=0.35\textwidth]{images/cat3.png}\n",
      "\\includegraphics[width=0.35\textwidth]{images/cat4.png}\n",
      "\\includegraphics[width=0.35\textwidth]{images/cat5.png}\n",
      "\\includegraphics[width=0.35\textwidth]{images/cat6.png}\n",
      "\\includegraphics[width=0.35\textwidth]{images/cat7.png}\n",
      "\\includegraphics[width=0.35\textwidth]{images/cat8.png}\n",
      "\\includegraphics[width=0.35\textwidth]{images/cat9.png}\n",
      "\\includegraphics[width=0.35\textwidth]{images/cat10.png}\n",
      "\\includegraphics[width=0.35\textwidth]{images/cat11.png}\n",
      "\\includegraphics[width=0.35\textwidth]{images/cat12.png}\n",
      "\\includegraphics[width=0.35\textwidth]{images/cat13.png}\n",
      "\\includegraphics[width=0.35\textwidth]{images/cat14.png}\n",
      "\\includegraphics[width=0.35\textwidth]{images/cat15.png}\n",
      "\\includegraphics[width=0.35\textwidth]{images/cat16.png}\n",
      "\\includegraphics[width=0.35\textwidth]{images/cat17.png}\n",
      "\\includegraphics[width=0.35\textwidth]{images/cat18.png}\n",
      "\\includegraphics[width=0.35\textwidth]{images/cat19.png}\n",
      "\\includegraphics[width=0.35\textwidth]{images/cat20.png}\n",
      "\\includegraphics[width=0.35\textwidth]{images/cat21.png}\n",
      "\\includegraphics[width=0.35\textwidth]{images/cat22.png}\n",
      "\\includegraphics[width=0.35\textwidth]{images/cat23.png}\n",
      "\\includegraphics[width=0.35\textwidth]{images/cat24.png}\n",
      "\\includegraphics[width=0.35\textwidth]{images/cat25.png}\n",
      "\\includegraphics[width=0.35\textwidth]{images/cat26.png}\n",
      "\\includegraphics[width=0.35\textwidth]{images/cat27.png}\n",
      "\\includegraphics[width=0.35\textwidth]{images/cat28.png}\n",
      "\\includegraphics[width=0.35\textwidth]{images/cat29.png}\n"
     ]
    }
   ],
   "source": [
    "for idx in range(30):\n",
    "    name = f\"cat{idx}.png\"\n",
    "    print(\"\\includegraphics[width=0.35\" +\"\\textwidth]{images/\" +name+\"}\")"
   ]
  },
  {
   "cell_type": "code",
   "execution_count": null,
   "id": "89762b95-9e0e-4725-8039-2e1fa35e0540",
   "metadata": {},
   "outputs": [],
   "source": []
  }
 ],
 "metadata": {
  "kernelspec": {
   "display_name": "Python [conda env:coffea2024]",
   "language": "python",
   "name": "conda-env-coffea2024-py"
  },
  "language_info": {
   "codemirror_mode": {
    "name": "ipython",
    "version": 3
   },
   "file_extension": ".py",
   "mimetype": "text/x-python",
   "name": "python",
   "nbconvert_exporter": "python",
   "pygments_lexer": "ipython3",
   "version": "3.10.13"
  }
 },
 "nbformat": 4,
 "nbformat_minor": 5
}
