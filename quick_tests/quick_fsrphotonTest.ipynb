{
 "cells": [
  {
   "cell_type": "code",
   "execution_count": 1,
   "id": "b1bb6d5d-7bc2-45ca-9638-dd2e3db053e5",
   "metadata": {},
   "outputs": [],
   "source": [
    "import awkward as ak\n",
    "from coffea.nanoevents import NanoEventsFactory, NanoAODSchema\n",
    "import awkward as ak\n",
    "import matplotlib.pyplot as plt\n",
    "import numpy as np"
   ]
  },
  {
   "cell_type": "code",
   "execution_count": 87,
   "id": "31b60e2c-01dd-4376-b4d2-09d116d83630",
   "metadata": {},
   "outputs": [
    {
     "name": "stdout",
     "output_type": "stream",
     "text": [
      "number of idxs equal: 1816181\n",
      "number of idxs not equal: 48158\n"
     ]
    }
   ],
   "source": [
    "fname = \"root://eos.cms.rcac.purdue.edu//store/mc/RunIISummer20UL18NanoAODv9/GluGluHToMuMu_M125_TuneCP5_13TeV-powheg-pythia8/NANOAODSIM/106X_upgrade2018_realistic_v16_L1v1-v1/2810000/C4DAB63C-E2A1-A541-93A8-3F46315E362C.root\"\n",
    "# fname = \"root://eos.cms.rcac.purdue.edu//store/mc/RunIISummer20UL18NanoAODv9/DYJetsToLL_M-50_TuneCP5_13TeV-amcatnloFXFX-pythia8/NANOAODSIM/106X_upgrade2018_realistic_v16_L1v1-v2/40000/ECB51118-0153-2F40-BB6D-0204F0EE98C2.root\"\n",
    "\n",
    "events = NanoEventsFactory.from_root(\n",
    "    {fname: \"Events\"},\n",
    "    schemaclass=NanoAODSchema,\n",
    "    metadata={\"dataset\": \"DYJets\"},\n",
    ").events()\n",
    "is_equal = events.Muon.fsrPhotonIdxG == events.Muon.fsrPhotonIdx\n",
    "print(f\"number of idxs equal: {ak.sum(is_equal).compute()}\")\n",
    "print(f\"number of idxs not equal: {ak.sum(~is_equal).compute()}\")"
   ]
  },
  {
   "cell_type": "code",
   "execution_count": 86,
   "id": "5e934f3b-9b01-4555-b190-c9697b7dc81b",
   "metadata": {},
   "outputs": [
    {
     "data": {
      "text/plain": [
       "\u001b[0;31mType:\u001b[0m            Array\n",
       "\u001b[0;31mString form:\u001b[0m     dask.awkward<fsrPhotonIdx, npartitions=1>\n",
       "\u001b[0;31mFile:\u001b[0m            /depot/cms/kernels/coffea2024/lib/python3.10/site-packages/dask_awkward/lib/core.py\n",
       "\u001b[0;31mDocstring:\u001b[0m       Index of the associated FSR photon\n",
       "\u001b[0;31mClass docstring:\u001b[0m\n",
       "Partitioned, lazy, and parallel Awkward Array Dask collection.\n",
       "\n",
       "The class constructor is not intended for users. Instead use\n",
       "factory functions like :py:func:`~dask_awkward.from_parquet`,\n",
       ":py:func:`~dask_awkward.from_json`, etc.\n",
       "\n",
       "Within dask-awkward the ``new_array_object`` factory function is\n",
       "used for creating new instances."
      ]
     },
     "metadata": {},
     "output_type": "display_data"
    }
   ],
   "source": [
    "# events.FsrPhoton?\n",
    "# events.Electron.matched_fsrPhoton\n",
    "# events.Muon.matched_fsrPhoton?\n",
    "events.Muon.fsrPhotonIdx?"
   ]
  },
  {
   "cell_type": "code",
   "execution_count": 83,
   "id": "86904fe0-64e9-417d-b24e-1fe2d6c39bbe",
   "metadata": {},
   "outputs": [
    {
     "data": {
      "text/plain": [
       "['dxy',\n",
       " 'dxyErr',\n",
       " 'dxybs',\n",
       " 'dz',\n",
       " 'dzErr',\n",
       " 'eta',\n",
       " 'ip3d',\n",
       " 'jetPtRelv2',\n",
       " 'jetRelIso',\n",
       " 'mass',\n",
       " 'miniPFRelIso_all',\n",
       " 'miniPFRelIso_chg',\n",
       " 'pfRelIso03_all',\n",
       " 'pfRelIso03_chg',\n",
       " 'pfRelIso04_all',\n",
       " 'phi',\n",
       " 'pt',\n",
       " 'ptErr',\n",
       " 'segmentComp',\n",
       " 'sip3d',\n",
       " 'softMva',\n",
       " 'tkRelIso',\n",
       " 'tunepRelPt',\n",
       " 'mvaLowPt',\n",
       " 'mvaTTH',\n",
       " 'charge',\n",
       " 'jetIdx',\n",
       " 'nStations',\n",
       " 'nTrackerLayers',\n",
       " 'pdgId',\n",
       " 'tightCharge',\n",
       " 'fsrPhotonIdx',\n",
       " 'highPtId',\n",
       " 'highPurity',\n",
       " 'inTimeMuon',\n",
       " 'isGlobal',\n",
       " 'isPFcand',\n",
       " 'isStandalone',\n",
       " 'isTracker',\n",
       " 'jetNDauCharged',\n",
       " 'looseId',\n",
       " 'mediumId',\n",
       " 'mediumPromptId',\n",
       " 'miniIsoId',\n",
       " 'multiIsoId',\n",
       " 'mvaId',\n",
       " 'mvaLowPtId',\n",
       " 'pfIsoId',\n",
       " 'puppiIsoId',\n",
       " 'softId',\n",
       " 'softMvaId',\n",
       " 'tightId',\n",
       " 'tkIsoId',\n",
       " 'triggerIdLoose',\n",
       " 'genPartIdx',\n",
       " 'genPartFlav',\n",
       " 'cleanmask',\n",
       " 'fsrPhotonIdxG',\n",
       " 'genPartIdxG',\n",
       " 'jetIdxG']"
      ]
     },
     "execution_count": 83,
     "metadata": {},
     "output_type": "execute_result"
    }
   ],
   "source": [
    "events.Muon.fields"
   ]
  },
  {
   "cell_type": "code",
   "execution_count": 19,
   "id": "27136a22-a8d7-4355-b786-5a75841f6f04",
   "metadata": {},
   "outputs": [
    {
     "data": {
      "text/plain": [
       "\u001b[0;31mType:\u001b[0m            Array\n",
       "\u001b[0;31mString form:\u001b[0m     dask.awkward<photonIdxG, npartitions=1>\n",
       "\u001b[0;31mFile:\u001b[0m            /depot/cms/kernels/coffea2024/lib/python3.10/site-packages/dask_awkward/lib/core.py\n",
       "\u001b[0;31mDocstring:\u001b[0m       index of the associated photon (-1 if none)\n",
       "\u001b[0;31mClass docstring:\u001b[0m\n",
       "Partitioned, lazy, and parallel Awkward Array Dask collection.\n",
       "\n",
       "The class constructor is not intended for users. Instead use\n",
       "factory functions like :py:func:`~dask_awkward.from_parquet`,\n",
       ":py:func:`~dask_awkward.from_json`, etc.\n",
       "\n",
       "Within dask-awkward the ``new_array_object`` factory function is\n",
       "used for creating new instances."
      ]
     },
     "metadata": {},
     "output_type": "display_data"
    }
   ],
   "source": [
    "# events.Electron.matched_photon?\n",
    "events.Electron.photonIdxG?"
   ]
  },
  {
   "cell_type": "code",
   "execution_count": 20,
   "id": "bcedcf83-c285-4ca0-a55d-888241f14eed",
   "metadata": {},
   "outputs": [
    {
     "name": "stdout",
     "output_type": "stream",
     "text": [
      "[[0], [-1, -1], [-1, -1], [-1], [-1], ..., [-1], [-1, -1], [-1, -1, -1], [-1]]\n",
      "[[], [], [], [], [-1], [], [-1], [], [], ..., [], [-1], [], [], [], [], [], []]\n"
     ]
    }
   ],
   "source": [
    "print(events.Muon.fsrPhotonIdxG.compute())\n",
    "print(events.Electron.photonIdxG.compute())"
   ]
  },
  {
   "cell_type": "code",
   "execution_count": 63,
   "id": "08778ee2-661a-48b4-9979-1a5d7b128086",
   "metadata": {},
   "outputs": [
    {
     "name": "stdout",
     "output_type": "stream",
     "text": [
      "0\n"
     ]
    }
   ],
   "source": [
    "mu_photon_idxs = events.Muon.fsrPhotonIdxG[events.Muon.fsrPhotonIdxG != -1][:,:1]\n",
    "mu_photon_idxs = ak.flatten(ak.pad_none(mu_photon_idxs,1))\n",
    "el_photon_idxs = events.Electron.photonIdxG[events.Electron.photonIdxG != -1][:,:1]\n",
    "el_photon_idxs = ak.flatten(ak.pad_none(el_photon_idxs,1))\n",
    "# print(mu_photon_idxs.compute())\n",
    "flag = ak.fill_none((mu_photon_idxs==el_photon_idxs), value=False)\n",
    "print(ak.sum(flag).compute())\n",
    "# print(ak.num(mu_photon_idxs, axis=0).compute())\n",
    "# print(ak.sum(mu_photon_idxs, axis=0).compute())\n"
   ]
  },
  {
   "cell_type": "code",
   "execution_count": 88,
   "id": "255ea77a-0bc1-43c1-8211-1564ff494ce0",
   "metadata": {
    "scrolled": true
   },
   "outputs": [
    {
     "name": "stdout",
     "output_type": "stream",
     "text": [
      "[0, None, None, None, None, None, None, ..., None, None, None, None, None, None]\n",
      "[None, None, None, None, None, None, ..., None, None, None, None, None, None]\n",
      "0\n",
      "[0, None, None, None, None, None, None, ..., None, None, None, None, None, None]\n",
      "[None, None, None, None, None, None, ..., None, None, None, None, None, None]\n",
      "0\n",
      "[0, None, None, None, None, None, None, ..., None, None, None, None, None, None]\n",
      "[None, None, None, None, None, None, ..., None, None, None, None, None, None]\n",
      "0\n",
      "[None, None, None, None, None, None, ..., None, None, None, None, None, None]\n",
      "[None, None, None, None, None, None, ..., None, None, None, None, None, None]\n",
      "0\n"
     ]
    },
    {
     "ename": "KeyboardInterrupt",
     "evalue": "",
     "output_type": "error",
     "traceback": [
      "\u001b[0;31m---------------------------------------------------------------------------\u001b[0m",
      "\u001b[0;31mKeyboardInterrupt\u001b[0m                         Traceback (most recent call last)",
      "Cell \u001b[0;32mIn[88], line 8\u001b[0m\n\u001b[1;32m      6\u001b[0m el_photon_idxs \u001b[38;5;241m=\u001b[39m events\u001b[38;5;241m.\u001b[39mElectron\u001b[38;5;241m.\u001b[39mphotonIdxG[events\u001b[38;5;241m.\u001b[39mElectron\u001b[38;5;241m.\u001b[39mphotonIdxG \u001b[38;5;241m!=\u001b[39m \u001b[38;5;241m-\u001b[39m\u001b[38;5;241m1\u001b[39m][:,(j\u001b[38;5;241m-\u001b[39m\u001b[38;5;241m1\u001b[39m):j]\n\u001b[1;32m      7\u001b[0m el_photon_idxs \u001b[38;5;241m=\u001b[39m ak\u001b[38;5;241m.\u001b[39mflatten(ak\u001b[38;5;241m.\u001b[39mpad_none(el_photon_idxs,\u001b[38;5;241m1\u001b[39m)) \u001b[38;5;66;03m# get event length array of idxs with flatten\u001b[39;00m\n\u001b[0;32m----> 8\u001b[0m \u001b[38;5;28mprint\u001b[39m(\u001b[43mmu_photon_idxs\u001b[49m\u001b[38;5;241;43m.\u001b[39;49m\u001b[43mcompute\u001b[49m\u001b[43m(\u001b[49m\u001b[43m)\u001b[49m)\n\u001b[1;32m      9\u001b[0m \u001b[38;5;28mprint\u001b[39m(el_photon_idxs\u001b[38;5;241m.\u001b[39mcompute())\n\u001b[1;32m     10\u001b[0m flag \u001b[38;5;241m=\u001b[39m ak\u001b[38;5;241m.\u001b[39mfill_none((mu_photon_idxs\u001b[38;5;241m==\u001b[39mel_photon_idxs), value\u001b[38;5;241m=\u001b[39m\u001b[38;5;28;01mFalse\u001b[39;00m)\n",
      "File \u001b[0;32m/depot/cms/kernels/coffea2024/lib/python3.10/site-packages/dask/base.py:379\u001b[0m, in \u001b[0;36mDaskMethodsMixin.compute\u001b[0;34m(self, **kwargs)\u001b[0m\n\u001b[1;32m    355\u001b[0m \u001b[38;5;28;01mdef\u001b[39;00m \u001b[38;5;21mcompute\u001b[39m(\u001b[38;5;28mself\u001b[39m, \u001b[38;5;241m*\u001b[39m\u001b[38;5;241m*\u001b[39mkwargs):\n\u001b[1;32m    356\u001b[0m \u001b[38;5;250m    \u001b[39m\u001b[38;5;124;03m\"\"\"Compute this dask collection\u001b[39;00m\n\u001b[1;32m    357\u001b[0m \n\u001b[1;32m    358\u001b[0m \u001b[38;5;124;03m    This turns a lazy Dask collection into its in-memory equivalent.\u001b[39;00m\n\u001b[0;32m   (...)\u001b[0m\n\u001b[1;32m    377\u001b[0m \u001b[38;5;124;03m    dask.compute\u001b[39;00m\n\u001b[1;32m    378\u001b[0m \u001b[38;5;124;03m    \"\"\"\u001b[39;00m\n\u001b[0;32m--> 379\u001b[0m     (result,) \u001b[38;5;241m=\u001b[39m \u001b[43mcompute\u001b[49m\u001b[43m(\u001b[49m\u001b[38;5;28;43mself\u001b[39;49m\u001b[43m,\u001b[49m\u001b[43m \u001b[49m\u001b[43mtraverse\u001b[49m\u001b[38;5;241;43m=\u001b[39;49m\u001b[38;5;28;43;01mFalse\u001b[39;49;00m\u001b[43m,\u001b[49m\u001b[43m \u001b[49m\u001b[38;5;241;43m*\u001b[39;49m\u001b[38;5;241;43m*\u001b[39;49m\u001b[43mkwargs\u001b[49m\u001b[43m)\u001b[49m\n\u001b[1;32m    380\u001b[0m     \u001b[38;5;28;01mreturn\u001b[39;00m result\n",
      "File \u001b[0;32m/depot/cms/kernels/coffea2024/lib/python3.10/site-packages/dask/base.py:665\u001b[0m, in \u001b[0;36mcompute\u001b[0;34m(traverse, optimize_graph, scheduler, get, *args, **kwargs)\u001b[0m\n\u001b[1;32m    662\u001b[0m     postcomputes\u001b[38;5;241m.\u001b[39mappend(x\u001b[38;5;241m.\u001b[39m__dask_postcompute__())\n\u001b[1;32m    664\u001b[0m \u001b[38;5;28;01mwith\u001b[39;00m shorten_traceback():\n\u001b[0;32m--> 665\u001b[0m     results \u001b[38;5;241m=\u001b[39m \u001b[43mschedule\u001b[49m\u001b[43m(\u001b[49m\u001b[43mdsk\u001b[49m\u001b[43m,\u001b[49m\u001b[43m \u001b[49m\u001b[43mkeys\u001b[49m\u001b[43m,\u001b[49m\u001b[43m \u001b[49m\u001b[38;5;241;43m*\u001b[39;49m\u001b[38;5;241;43m*\u001b[39;49m\u001b[43mkwargs\u001b[49m\u001b[43m)\u001b[49m\n\u001b[1;32m    667\u001b[0m \u001b[38;5;28;01mreturn\u001b[39;00m repack([f(r, \u001b[38;5;241m*\u001b[39ma) \u001b[38;5;28;01mfor\u001b[39;00m r, (f, a) \u001b[38;5;129;01min\u001b[39;00m \u001b[38;5;28mzip\u001b[39m(results, postcomputes)])\n",
      "File \u001b[0;32m/depot/cms/kernels/coffea2024/lib/python3.10/queue.py:171\u001b[0m, in \u001b[0;36mQueue.get\u001b[0;34m(self, block, timeout)\u001b[0m\n\u001b[1;32m    169\u001b[0m \u001b[38;5;28;01melif\u001b[39;00m timeout \u001b[38;5;129;01mis\u001b[39;00m \u001b[38;5;28;01mNone\u001b[39;00m:\n\u001b[1;32m    170\u001b[0m     \u001b[38;5;28;01mwhile\u001b[39;00m \u001b[38;5;129;01mnot\u001b[39;00m \u001b[38;5;28mself\u001b[39m\u001b[38;5;241m.\u001b[39m_qsize():\n\u001b[0;32m--> 171\u001b[0m         \u001b[38;5;28;43mself\u001b[39;49m\u001b[38;5;241;43m.\u001b[39;49m\u001b[43mnot_empty\u001b[49m\u001b[38;5;241;43m.\u001b[39;49m\u001b[43mwait\u001b[49m\u001b[43m(\u001b[49m\u001b[43m)\u001b[49m\n\u001b[1;32m    172\u001b[0m \u001b[38;5;28;01melif\u001b[39;00m timeout \u001b[38;5;241m<\u001b[39m \u001b[38;5;241m0\u001b[39m:\n\u001b[1;32m    173\u001b[0m     \u001b[38;5;28;01mraise\u001b[39;00m \u001b[38;5;167;01mValueError\u001b[39;00m(\u001b[38;5;124m\"\u001b[39m\u001b[38;5;124m'\u001b[39m\u001b[38;5;124mtimeout\u001b[39m\u001b[38;5;124m'\u001b[39m\u001b[38;5;124m must be a non-negative number\u001b[39m\u001b[38;5;124m\"\u001b[39m)\n",
      "File \u001b[0;32m/depot/cms/kernels/coffea2024/lib/python3.10/threading.py:320\u001b[0m, in \u001b[0;36mCondition.wait\u001b[0;34m(self, timeout)\u001b[0m\n\u001b[1;32m    318\u001b[0m \u001b[38;5;28;01mtry\u001b[39;00m:    \u001b[38;5;66;03m# restore state no matter what (e.g., KeyboardInterrupt)\u001b[39;00m\n\u001b[1;32m    319\u001b[0m     \u001b[38;5;28;01mif\u001b[39;00m timeout \u001b[38;5;129;01mis\u001b[39;00m \u001b[38;5;28;01mNone\u001b[39;00m:\n\u001b[0;32m--> 320\u001b[0m         \u001b[43mwaiter\u001b[49m\u001b[38;5;241;43m.\u001b[39;49m\u001b[43macquire\u001b[49m\u001b[43m(\u001b[49m\u001b[43m)\u001b[49m\n\u001b[1;32m    321\u001b[0m         gotit \u001b[38;5;241m=\u001b[39m \u001b[38;5;28;01mTrue\u001b[39;00m\n\u001b[1;32m    322\u001b[0m     \u001b[38;5;28;01melse\u001b[39;00m:\n",
      "\u001b[0;31mKeyboardInterrupt\u001b[0m: "
     ]
    }
   ],
   "source": [
    "idxs = [1,2,3]\n",
    "for i in idxs:\n",
    "    mu_photon_idxs = events.Muon.fsrPhotonIdxG[events.Muon.fsrPhotonIdxG != -1][:,(i-1):i]\n",
    "    mu_photon_idxs = ak.flatten(ak.pad_none(mu_photon_idxs,1)) # get event length array of idxs with flatten\n",
    "    for j in idxs:\n",
    "        el_photon_idxs = events.Electron.photonIdxG[events.Electron.photonIdxG != -1][:,(j-1):j]\n",
    "        el_photon_idxs = ak.flatten(ak.pad_none(el_photon_idxs,1)) # get event length array of idxs with flatten\n",
    "        print(mu_photon_idxs.compute())\n",
    "        print(el_photon_idxs.compute())\n",
    "        flag = ak.fill_none((mu_photon_idxs==el_photon_idxs), value=False)\n",
    "        # print(\n",
    "        # print(ak.sum(flag).compute())"
   ]
  },
  {
   "cell_type": "code",
   "execution_count": 92,
   "id": "2551a733-eb92-465c-912c-e3e59ee86587",
   "metadata": {},
   "outputs": [
    {
     "name": "stdout",
     "output_type": "stream",
     "text": [
      "[[], [], [], [], [-1], [], [-1], [], [], ..., [], [-1], [], [], [], [], [], []]\n",
      "[[], [], [], [], [-1], [], [-1], [], [], ..., [], [-1], [], [], [], [], [], []]\n",
      "[[], [], [], [], [], [], [], [], [], ..., [], [], [], [], [], [], [], [], []]\n",
      "[[], [], [], [], [], [], [], [], [], ..., [], [], [], [], [], [], [], [], []]\n"
     ]
    }
   ],
   "source": [
    "idxs = [1,2,3]\n",
    "# big = events.Electron.photonIdxG[events.Electron.photonIdxG != -1]\n",
    "big = events.Electron.photonIdxG\n",
    "\n",
    "print(big.compute())\n",
    "for i in idxs:\n",
    "    # el_photon_idxs = events.Electron.photonIdxG[events.Electron.photonIdxG != -1][:,(i-1):i]\n",
    "    el_photon_idxs = events.Electron.photonIdxG[:,(i-1):i]\n",
    "\n",
    "    print(el_photon_idxs.compute())"
   ]
  },
  {
   "cell_type": "code",
   "execution_count": null,
   "id": "42a06a9e-fea5-4b6b-b391-8257a0dea08e",
   "metadata": {},
   "outputs": [],
   "source": [
    "idxs = [1,2,3]\n",
    "big = events.Muon.fsrPhotonIdxG[events.Muon.fsrPhotonIdxG != -1]\n",
    "print(big.compute())\n",
    "for i in idxs:\n",
    "    mu_photon_idxs = events.Muon.fsrPhotonIdxG[events.Muon.fsrPhotonIdxG != -1][:,(i-1):i]\n",
    "    print(mu_photon_idxs.compute())"
   ]
  },
  {
   "cell_type": "code",
   "execution_count": 71,
   "id": "34206bda-68fc-4a1b-b6be-745d1e7e7ef8",
   "metadata": {},
   "outputs": [
    {
     "name": "stdout",
     "output_type": "stream",
     "text": [
      "0\n",
      "657\n",
      "47502\n",
      "0\n",
      "1297\n",
      "34940\n"
     ]
    }
   ],
   "source": [
    "mu_photon_idxs = events.Muon.fsrPhotonIdxG[events.Muon.fsrPhotonIdxG != -1]\n",
    "el_photon_idxs = events.Electron.photonIdxG[events.Electron.photonIdxG != -1]\n",
    "\n",
    "print(ak.sum(ak.num(mu_photon_idxs, axis=1)>3).compute())\n",
    "print(ak.sum(ak.num(mu_photon_idxs, axis=1)>1).compute())\n",
    "print(ak.sum(ak.num(mu_photon_idxs, axis=1)>0).compute())\n",
    "print(ak.sum(ak.num(el_photon_idxs, axis=1)>3).compute())\n",
    "print(ak.sum(ak.num(el_photon_idxs, axis=1)>1).compute())\n",
    "print(ak.sum(ak.num(el_photon_idxs, axis=1)>0).compute())"
   ]
  },
  {
   "cell_type": "code",
   "execution_count": 77,
   "id": "8542df2a-66e7-4fde-abb5-cb49f6b5052e",
   "metadata": {},
   "outputs": [
    {
     "data": {
      "text/plain": [
       "\u001b[0;31mType:\u001b[0m            Array\n",
       "\u001b[0;31mString form:\u001b[0m     dask.awkward<fsrPhotonIdxG, npartitions=1>\n",
       "\u001b[0;31mFile:\u001b[0m            /depot/cms/kernels/coffea2024/lib/python3.10/site-packages/dask_awkward/lib/core.py\n",
       "\u001b[0;31mDocstring:\u001b[0m       Index of the associated FSR photon\n",
       "\u001b[0;31mClass docstring:\u001b[0m\n",
       "Partitioned, lazy, and parallel Awkward Array Dask collection.\n",
       "\n",
       "The class constructor is not intended for users. Instead use\n",
       "factory functions like :py:func:`~dask_awkward.from_parquet`,\n",
       ":py:func:`~dask_awkward.from_json`, etc.\n",
       "\n",
       "Within dask-awkward the ``new_array_object`` factory function is\n",
       "used for creating new instances."
      ]
     },
     "metadata": {},
     "output_type": "display_data"
    }
   ],
   "source": [
    "events.Electron.photonIdxG?\n",
    "events.Muon.fsrPhotonIdxG?"
   ]
  },
  {
   "cell_type": "code",
   "execution_count": 78,
   "id": "ed598668-08c4-440b-a1dd-ef2e16dcfbbb",
   "metadata": {},
   "outputs": [
    {
     "data": {
      "text/html": [
       "<pre>[[True],\n",
       " [False, False],\n",
       " [False, False],\n",
       " [False],\n",
       " [False],\n",
       " [False],\n",
       " [False, False],\n",
       " [False],\n",
       " [False, False],\n",
       " [False],\n",
       " ...,\n",
       " [False, False, False],\n",
       " [False, False],\n",
       " [False, False, False],\n",
       " [False],\n",
       " [False, False],\n",
       " [False],\n",
       " [False, False],\n",
       " [False, False, False],\n",
       " [False]]\n",
       "---------------------------------------------------------------------------------------\n",
       "type: 999000 * var * bool[parameters={&quot;__doc__&quot;: &quot;Index of the associated FSR photon&quot;}]</pre>"
      ],
      "text/plain": [
       "<Array [[True], [False, ...], ..., [False]] type='999000 * var * bool[param...'>"
      ]
     },
     "execution_count": 78,
     "metadata": {},
     "output_type": "execute_result"
    }
   ],
   "source": [
    "(events.Muon.fsrPhotonIdx >= 0).compute()"
   ]
  },
  {
   "cell_type": "code",
   "execution_count": 58,
   "id": "2ce9dd1a-a0ff-44d0-b586-b544839bec5c",
   "metadata": {},
   "outputs": [
    {
     "name": "stdout",
     "output_type": "stream",
     "text": [
      "[0, None, None, None, None, None, None, ..., None, None, None, None, None, None]\n"
     ]
    }
   ],
   "source": [
    "# print(mu_photon_idxs.compute())\n",
    "# print(el_photon_idxs.compute())\n",
    "# (mu_photon_idxs==el_photon_idxs).compute()\n",
    "# print(ak.flatten(mu_photon_idxs).compute())\n",
    "print(ak.flatten(ak.pad_none(mu_photon_idxs,1)).compute())\n"
   ]
  },
  {
   "cell_type": "code",
   "execution_count": 67,
   "id": "e3b06c42-78cd-4e76-be9f-e7dddb29ab3a",
   "metadata": {},
   "outputs": [
    {
     "data": {
      "text/plain": [
       "48158"
      ]
     },
     "execution_count": 67,
     "metadata": {},
     "output_type": "execute_result"
    }
   ],
   "source": [
    "ak.sum(events.Muon.fsrPhotonIdx!=events.Muon.fsrPhotonIdxG).compute()"
   ]
  },
  {
   "cell_type": "code",
   "execution_count": 35,
   "id": "a2d261ee-e738-42f2-97f7-95cea53590ea",
   "metadata": {},
   "outputs": [
    {
     "data": {
      "text/plain": [
       "918383"
      ]
     },
     "execution_count": 35,
     "metadata": {},
     "output_type": "execute_result"
    }
   ],
   "source": [
    "# mu_photon_idxs = ak.sum(mu_photon_idxs, axis=1)\n",
    "# el_photon_idxs = ak.sum(el_photon_idxs, axis=1)\n",
    "ak.sum(mu_photon_idxs==el_photon_idxs, axis=0).compute()"
   ]
  },
  {
   "cell_type": "code",
   "execution_count": null,
   "id": "dc548143-0e02-4e6b-9320-8310d24c74f5",
   "metadata": {},
   "outputs": [],
   "source": [
    "events.Muon.matched_fsrPhoton.delta_r(events.Electron.matched_photon).compute()"
   ]
  },
  {
   "cell_type": "code",
   "execution_count": 42,
   "id": "635be8e1-5fe2-47f0-a5f7-f77bf881cabc",
   "metadata": {},
   "outputs": [
    {
     "data": {
      "text/plain": [
       "['dROverEt2', 'eta', 'phi', 'pt', 'relIso03', 'muonIdx', 'muonIdxG']"
      ]
     },
     "execution_count": 42,
     "metadata": {},
     "output_type": "execute_result"
    }
   ],
   "source": [
    "events.Muon.matched_fsrPhoton.fields"
   ]
  },
  {
   "cell_type": "code",
   "execution_count": 48,
   "id": "48660add-df5c-4e3f-8974-4dcc4bfd94a7",
   "metadata": {},
   "outputs": [
    {
     "data": {
      "text/plain": [
       "3717"
      ]
     },
     "execution_count": 48,
     "metadata": {},
     "output_type": "execute_result"
    }
   ],
   "source": [
    "ak.sum(ak.fill_none((events.Muon.matched_fsrPhoton.relIso03 > 1.8),value=False)).compute()"
   ]
  },
  {
   "cell_type": "code",
   "execution_count": null,
   "id": "32b912e6-41e0-4d72-8fe5-edee6f5c130b",
   "metadata": {},
   "outputs": [],
   "source": []
  }
 ],
 "metadata": {
  "kernelspec": {
   "display_name": "Python [conda env:coffea2024]",
   "language": "python",
   "name": "conda-env-coffea2024-py"
  },
  "language_info": {
   "codemirror_mode": {
    "name": "ipython",
    "version": 3
   },
   "file_extension": ".py",
   "mimetype": "text/x-python",
   "name": "python",
   "nbconvert_exporter": "python",
   "pygments_lexer": "ipython3",
   "version": "3.10.13"
  }
 },
 "nbformat": 4,
 "nbformat_minor": 5
}
