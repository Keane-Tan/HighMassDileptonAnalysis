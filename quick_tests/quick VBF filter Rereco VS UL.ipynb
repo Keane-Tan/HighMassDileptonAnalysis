{
 "cells": [
  {
   "cell_type": "code",
   "execution_count": 1,
   "id": "606e2811-2077-4810-b6f2-9dbe6d8c5d1c",
   "metadata": {},
   "outputs": [],
   "source": [
    "import dask_awkward as dak\n",
    "import awkward as ak\n",
    "import numpy as np\n",
    "import matplotlib.pyplot as plt\n",
    "from distributed import LocalCluster, Client, progress\n",
    "import dask.dataframe as dd\n",
    "import pandas as pd\n",
    "\n",
    "\n",
    "client =  Client(n_workers=31,  threads_per_worker=1, processes=True, memory_limit='4 GiB') "
   ]
  },
  {
   "cell_type": "code",
   "execution_count": 2,
   "id": "0d10c215-acec-4ec1-b8af-f00415ea98a5",
   "metadata": {},
   "outputs": [],
   "source": [
    "\n",
    "\n",
    "full_load_path = f\"/depot/cms/users/yun79/results/stage1/test_VBF-filter_JECoff_05June2024/2018/f1_0/dy_VBF_filter/*/*.parquet\"\n",
    "df_dyVBFfilter_UL = dak.from_parquet(full_load_path)\n",
    "full_load_path = f\"/depot/cms/users/yun79/results/stage1/test_VBF-filter_JECoff_05June2024/2018/f1_0/dy_m105_160_vbf_amc/*/*.parquet\"\n",
    "df_dyVBFfilter_Rereco = dak.from_parquet(full_load_path)\n",
    "\n",
    "variables = [\"dimuon_mass\",\n",
    "             \"mu1_pt\",\"mu1_eta\",\n",
    "             \"mu2_pt\",\"mu2_eta\",\n",
    "             \"jet1_pt\", \"jet1_eta\", \n",
    "             \"jet2_pt\", \"jet2_eta\", \n",
    "             \"gjet1_pt\", \"gjet1_eta\", \n",
    "             \"gjet2_pt\", \"gjet2_eta\", \n",
    "             \"gjet1_mass\",\n",
    "             \"gjet2_mass\",\n",
    "            ]\n",
    "fields2load = variables + [ \"fraction\", \"h_sidebands\", \"h_peak\", \"z_peak\", \"vbf_cut\",\"nBtagLoose\", \"nBtagMedium\",\"gjj_mass\", \"jj_mass\"]\n",
    "# fields2load.append(\"weights\")\n",
    "# add in wegiht portions\n",
    "for field in df_dyVBFfilter_UL.fields:\n",
    "    if \"wgt_nominal\" in field:\n",
    "        fields2load.append(field)\n",
    "# load in the features once to save runtime\n",
    "df_dyVBFfilter_UL = df_dyVBFfilter_UL[fields2load].compute()\n",
    "df_dyVBFfilter_Rereco = df_dyVBFfilter_Rereco[fields2load].compute()"
   ]
  },
  {
   "cell_type": "code",
   "execution_count": 3,
   "id": "dbdbbd95-f9a9-43e2-82ce-035f09c60e8e",
   "metadata": {},
   "outputs": [],
   "source": [
    "from coffea.analysis_tools import Weights\n",
    "wgt_l = []\n",
    "for field in df_dyVBFfilter_UL.fields:\n",
    "    if \"wgt_nominal\" in field:\n",
    "        wgt_l.append(field)\n",
    "# remove wgt_nominal_total, which is just all weights multiplied\n",
    "wgt_l.remove(\"wgt_nominal_total\")\n",
    "weights_UL_collection = Weights(len(df_dyVBFfilter_UL.wgt_nominal_total), storeIndividual=True)\n",
    "weights_Rereco_collection = Weights(len(df_dyVBFfilter_Rereco.wgt_nominal_total), storeIndividual=True)\n",
    "# add in different weights one by one\n",
    "for wgt_name in wgt_l:\n",
    "    weights_UL_collection.add(wgt_name, df_dyVBFfilter_UL[wgt_name])\n",
    "    weights_Rereco_collection.add(wgt_name, df_dyVBFfilter_Rereco[wgt_name])"
   ]
  },
  {
   "cell_type": "code",
   "execution_count": 4,
   "id": "2a5ca2b6-9b42-4240-a34c-0020b61f1bc2",
   "metadata": {},
   "outputs": [
    {
     "data": {
      "text/plain": [
       "{'wgt_nominal_genWeight': WeightStatistics(sumw=1294963274.3582, sumw2=489714860565.7775, minw=-204.2561798095703, maxw=204.2561798095703, n=11748486),\n",
       " 'wgt_nominal_genWeight_normalization': WeightStatistics(sumw=0.0037337640368470958, sumw2=1.1866204618069732e-12, minw=3.178081019841323e-10, maxw=3.178081019841323e-10, n=11748486),\n",
       " 'wgt_nominal_xsec': WeightStatistics(sumw=23614456.86000067, sumw2=47465058.28860118, minw=2.01, maxw=2.01, n=11748486),\n",
       " 'wgt_nominal_lumi': WeightStatistics(sumw=704556705420.0, sumw2=4.22522656240374e+16, minw=59970.0, maxw=59970.0, n=11748486),\n",
       " 'wgt_nominal_pu': WeightStatistics(sumw=12054356.615959974, sumw2=12433761.422998415, minw=0.4090519016783799, maxw=1.339562335517277, n=11748486),\n",
       " 'wgt_nominal_muID': WeightStatistics(sumw=11148225.027485186, sumw2=10578632.962871723, minw=0.9489073764470426, maxw=0.9489073764470426, n=11748486),\n",
       " 'wgt_nominal_muIso': WeightStatistics(sumw=12349377.310674872, sumw2=12981001.974331517, minw=1.0511462762669908, maxw=1.0511462762669908, n=11748486),\n",
       " 'wgt_nominal_muTrig': WeightStatistics(sumw=11728626.676517308, sumw2=11708838.5301074, minw=0.9825701713562012, maxw=1.0048410892486572, n=11748486),\n",
       " 'wgt_nominal_LHERen': WeightStatistics(sumw=11748486.0, sumw2=11748486.0, minw=1.0, maxw=1.0, n=11748486),\n",
       " 'wgt_nominal_LHEFac': WeightStatistics(sumw=11748486.0, sumw2=11748486.0, minw=1.0, maxw=1.0, n=11748486),\n",
       " 'wgt_nominal_pdf_2rms': WeightStatistics(sumw=11748486.0, sumw2=11748486.0, minw=1.0, maxw=1.0, n=11748486),\n",
       " 'wgt_nominal_jetpuid_wgt': WeightStatistics(sumw=12679615.812173367, sumw2=14523208.48113343, minw=0.8759542107582092, maxw=25.229034423828125, n=11748486),\n",
       " 'wgt_nominal_qgl': WeightStatistics(sumw=11787338.36746907, sumw2=11988962.607941065, minw=0.37871156880674434, maxw=3.356768795911704, n=11748486),\n",
       " 'wgt_nominal_zpt_wgt': WeightStatistics(sumw=11800207.061622918, sumw2=11984914.095196007, minw=0.7432288527488708, maxw=2.1015093326568604, n=11748486)}"
      ]
     },
     "execution_count": 4,
     "metadata": {},
     "output_type": "execute_result"
    }
   ],
   "source": [
    "weights_Rereco_collection.weightStatistics"
   ]
  },
  {
   "cell_type": "code",
   "execution_count": 5,
   "id": "4bd17c47-b5d4-4669-aa91-a1569f2acab4",
   "metadata": {},
   "outputs": [
    {
     "name": "stdout",
     "output_type": "stream",
     "text": [
      "[4.51797368e-10 4.51797368e-10 4.51797368e-10 ... 4.51797368e-10\n",
      " 4.51797368e-10 4.51797368e-10]\n",
      "[3.17808102e-10 3.17808102e-10 3.17808102e-10 ... 3.17808102e-10\n",
      " 3.17808102e-10 3.17808102e-10]\n",
      "[ 204.25617981 -204.25617981  204.25617981 ...  204.25617981  204.25617981\n",
      "  204.25617981]\n",
      "[ 204.25617981  204.25617981  204.25617981 ...  204.25617981 -204.25617981\n",
      "  204.25617981]\n",
      "8269387\n",
      "11748486\n"
     ]
    }
   ],
   "source": [
    "print(weights_UL_collection.partial_weight(include=[\"wgt_nominal_genWeight_normalization\"] ) )\n",
    "print(weights_Rereco_collection.partial_weight(include=[\"wgt_nominal_genWeight_normalization\"] ) )\n",
    "print(weights_UL_collection.partial_weight(include=[\"wgt_nominal_genWeight\"] ) )\n",
    "print(weights_Rereco_collection.partial_weight(include=[\"wgt_nominal_genWeight\"] ) )\n",
    "print(len(weights_UL_collection.partial_weight(include=[\"wgt_nominal_genWeight\"] ) ))\n",
    "print(len(weights_Rereco_collection.partial_weight(include=[\"wgt_nominal_genWeight\"] ) ))"
   ]
  },
  {
   "cell_type": "code",
   "execution_count": 6,
   "id": "d86e2b4c-bc57-4d76-9695-dd42034a2c40",
   "metadata": {},
   "outputs": [
    {
     "data": {
      "text/plain": [
       "0.003736087281573416"
      ]
     },
     "execution_count": 6,
     "metadata": {},
     "output_type": "execute_result"
    }
   ],
   "source": [
    "8269387*4.51797368e-10"
   ]
  },
  {
   "cell_type": "code",
   "execution_count": 7,
   "id": "2349a2db-c659-4b26-86fd-189f0b4cc83f",
   "metadata": {},
   "outputs": [
    {
     "data": {
      "text/plain": [
       "0.003733764037033572"
      ]
     },
     "execution_count": 7,
     "metadata": {},
     "output_type": "execute_result"
    }
   ],
   "source": [
    "11748486*3.17808102e-10"
   ]
  },
  {
   "cell_type": "code",
   "execution_count": null,
   "id": "07fc2c94-74c5-4e39-a837-545b699327f9",
   "metadata": {},
   "outputs": [],
   "source": [
    "wgt_UL = weights_UL_collection.partial_weight(include=[\"wgt_nominal_genWeight\", \"wgt_nominal_genWeight_normalization\"])\n",
    "wgt_Rereco = weights_Rereco_collection.partial_weight(include=[\"wgt_nominal_genWeight\", \"wgt_nominal_genWeight_normalization\"])\n",
    "print(np.sum(wgt_UL))\n",
    "print(np.sum(wgt_Rereco))\n",
    "print((wgt_UL))\n",
    "print((wgt_Rereco))\n",
    "print(len(wgt_UL))\n",
    "print(len(wgt_Rereco))"
   ]
  },
  {
   "cell_type": "code",
   "execution_count": 54,
   "id": "500b4aa7-6771-4049-bdbc-f74fa6c1bbc0",
   "metadata": {},
   "outputs": [
    {
     "name": "stdout",
     "output_type": "stream",
     "text": [
      "996789428163.9166\n",
      "1416158977894.188\n",
      "[120539.7 120539.7 120539.7 ... 120539.7 120539.7 120539.7]\n",
      "[120539.7 120539.7 120539.7 ... 120539.7 120539.7 120539.7]\n",
      "8269387\n",
      "11748486\n"
     ]
    }
   ],
   "source": [
    "wgt_UL = weights_UL_collection.partial_weight(include=[\"wgt_nominal_xsec\", \"wgt_nominal_lumi\"])\n",
    "wgt_Rereco = weights_Rereco_collection.partial_weight(include=[\"wgt_nominal_xsec\", \"wgt_nominal_lumi\"])\n",
    "print(np.sum(wgt_UL))\n",
    "print(np.sum(wgt_Rereco))\n",
    "print((wgt_UL))\n",
    "print((wgt_Rereco))\n",
    "print(len(wgt_UL))\n",
    "print(len(wgt_Rereco))\n"
   ]
  },
  {
   "cell_type": "code",
   "execution_count": 55,
   "id": "2a28c001-12e4-46ce-896d-6492f2502276",
   "metadata": {},
   "outputs": [
    {
     "name": "stdout",
     "output_type": "stream",
     "text": [
      "1037766154844.8983\n",
      "1580579125000.23\n",
      "[182170.02155479 142093.04693469 110321.25286491 ... 158056.64678831\n",
      " 122490.15503608  96367.26746493]\n",
      "[109369.06134154 116520.22222325 113094.81160313 ... 113542.39065877\n",
      " 121925.69782722 103572.35377029]\n",
      "8269387\n",
      "11748486\n"
     ]
    }
   ],
   "source": [
    "wgt_UL = weights_UL_collection.partial_weight(exclude=[\"wgt_nominal_genWeight\", \"wgt_nominal_genWeight_normalization\"])\n",
    "wgt_Rereco = weights_Rereco_collection.partial_weight(exclude=[\"wgt_nominal_genWeight\", \"wgt_nominal_genWeight_normalization\"])\n",
    "print(np.sum(wgt_UL))\n",
    "print(np.sum(wgt_Rereco))\n",
    "print((wgt_UL))\n",
    "print((wgt_Rereco))\n",
    "print(len(wgt_UL))\n",
    "print(len(wgt_Rereco))\n",
    "\n",
    "\n"
   ]
  },
  {
   "cell_type": "code",
   "execution_count": 12,
   "id": "082c62f8-673a-4f63-8710-2e84be81929f",
   "metadata": {},
   "outputs": [
    {
     "data": {
      "text/plain": [
       "1.0006222258602313"
      ]
     },
     "execution_count": 12,
     "metadata": {},
     "output_type": "execute_result"
    }
   ],
   "source": [
    "0.003736087281573416/0.003733764037033572"
   ]
  },
  {
   "cell_type": "code",
   "execution_count": 17,
   "id": "141c7ec9-d412-405e-8804-85d2170bb0ed",
   "metadata": {},
   "outputs": [
    {
     "data": {
      "text/plain": [
       "1.4216043114391514"
      ]
     },
     "execution_count": 17,
     "metadata": {},
     "output_type": "execute_result"
    }
   ],
   "source": [
    "9.22824044e-08/6.49142688e-08"
   ]
  },
  {
   "cell_type": "code",
   "execution_count": 18,
   "id": "d1c7572e-2fc7-4644-8f41-37eb3fb380c1",
   "metadata": {},
   "outputs": [
    {
     "data": {
      "text/plain": [
       "0.7034306184592651"
      ]
     },
     "execution_count": 18,
     "metadata": {},
     "output_type": "execute_result"
    }
   ],
   "source": [
    "1/1.4216043114391514\n"
   ]
  },
  {
   "cell_type": "code",
   "execution_count": 24,
   "id": "8a053f95-e5a1-4163-ae87-5f1c4fb67d44",
   "metadata": {},
   "outputs": [
    {
     "name": "stdout",
     "output_type": "stream",
     "text": [
      "46008\n",
      "3517664\n"
     ]
    }
   ],
   "source": [
    "print(ak.sum(ak.is_none(df_dyVBFfilter_UL.gjj_mass)))\n",
    "print(ak.sum(ak.is_none(df_dyVBFfilter_Rereco.gjj_mass)))"
   ]
  },
  {
   "cell_type": "code",
   "execution_count": 25,
   "id": "e87cdedc-8a20-402d-a94c-5c2d15e215e0",
   "metadata": {},
   "outputs": [
    {
     "data": {
      "text/plain": [
       "1.4207203024843316"
      ]
     },
     "execution_count": 25,
     "metadata": {},
     "output_type": "execute_result"
    }
   ],
   "source": [
    "11748486/8269387"
   ]
  },
  {
   "cell_type": "code",
   "execution_count": 26,
   "id": "9372a055-8f6a-432e-8b80-429f90dc6a81",
   "metadata": {},
   "outputs": [
    {
     "data": {
      "text/plain": [
       "76.45765953747174"
      ]
     },
     "execution_count": 26,
     "metadata": {},
     "output_type": "execute_result"
    }
   ],
   "source": [
    "3517664/46008"
   ]
  },
  {
   "cell_type": "code",
   "execution_count": 27,
   "id": "126c7713-61ea-4fac-9af4-b7e43c0b17d3",
   "metadata": {},
   "outputs": [
    {
     "name": "stdout",
     "output_type": "stream",
     "text": [
      "911672175.9126022\n",
      "1294963274.3582\n",
      "[ 204.25617981 -204.25617981  204.25617981 ...  204.25617981  204.25617981\n",
      "  204.25617981]\n",
      "[ 204.25617981  204.25617981  204.25617981 ...  204.25617981 -204.25617981\n",
      "  204.25617981]\n",
      "8269387\n",
      "11748486\n"
     ]
    }
   ],
   "source": [
    "wgt_UL = weights_UL_collection.partial_weight(include=[\"wgt_nominal_genWeight\"])\n",
    "wgt_Rereco = weights_Rereco_collection.partial_weight(include=[\"wgt_nominal_genWeight\"])\n",
    "print(np.sum(wgt_UL))\n",
    "print(np.sum(wgt_Rereco))\n",
    "print((wgt_UL))\n",
    "print((wgt_Rereco))\n",
    "print(len(wgt_UL))\n",
    "print(len(wgt_Rereco))"
   ]
  },
  {
   "cell_type": "code",
   "execution_count": 28,
   "id": "f35ac6ce-d109-4db5-9a2b-d39dfed38b6a",
   "metadata": {},
   "outputs": [
    {
     "data": {
      "text/plain": [
       "3146552884.2936797"
      ]
     },
     "execution_count": 28,
     "metadata": {},
     "output_type": "execute_result"
    }
   ],
   "source": [
    "1/3.17808102e-10"
   ]
  },
  {
   "cell_type": "code",
   "execution_count": 29,
   "id": "763c45ae-cc0c-4c85-9181-5a88d649f1db",
   "metadata": {},
   "outputs": [
    {
     "data": {
      "text/plain": [
       "2213381641.4795933"
      ]
     },
     "execution_count": 29,
     "metadata": {},
     "output_type": "execute_result"
    }
   ],
   "source": [
    "1/4.51797368e-10"
   ]
  },
  {
   "cell_type": "code",
   "execution_count": 73,
   "id": "a2b078ac-0ad5-4700-878c-065f5b01d6e4",
   "metadata": {},
   "outputs": [
    {
     "name": "stdout",
     "output_type": "stream",
     "text": [
      "hist_VbfFilter_UL: [0.000672, 0.000518, 0.000714, 0.0899, ..., 0.0042, 0.00351, 0.00294, 0.00252]\n",
      "hist_VbfFilter_Rereco: [7.13e-06, 5.64e-06, 1.91e-05, 0.053, ..., 0.00246, 0.00204, 0.00172, 0.00148]\n"
     ]
    },
    {
     "data": {
      "image/png": "[encoded data removed]",
      "text/plain": [
       "<Figure size 1000x1000 with 1 Axes>"
      ]
     },
     "metadata": {},
     "output_type": "display_data"
    },
    {
     "data": {
      "text/plain": [
       "<Figure size 1000x1000 with 0 Axes>"
      ]
     },
     "metadata": {},
     "output_type": "display_data"
    }
   ],
   "source": [
    "\"\"\"\n",
    "dijet mass plot of vbf filtered DY vs normal DY \n",
    "\"\"\"\n",
    "import sys\n",
    "np.set_printoptions(threshold=sys.maxsize)\n",
    "\n",
    "import mplhep as hep\n",
    "plt.style.use(hep.style.CMS)\n",
    "binning_map = {\n",
    "    \"gjj_mass\" : [200, 1200, 21],\n",
    "    # \"jj_mass\" : [250, 2_000, 21],\n",
    "    \"jj_mass\" : [200, 500, 21],\n",
    "}\n",
    "\n",
    "wgt_UL = weights_UL_collection.partial_weight(include=[\"wgt_nominal_genWeight\", \"wgt_nominal_genWeight_normalization\"])\n",
    "wgt_Rereco = weights_Rereco_collection.partial_weight(include=[\"wgt_nominal_genWeight\", \"wgt_nominal_genWeight_normalization\"])\n",
    "for var in [\"gjj_mass\"]:\n",
    "    fig, ax_main = plt.subplots()\n",
    "    binning = np.linspace(*binning_map[var])\n",
    "    hist_VbfFilter_UL, edges = np.histogram(df_dyVBFfilter_UL[var], bins=binning, weights=wgt_UL)\n",
    "    print(f\"hist_VbfFilter_UL: {hist_VbfFilter_UL}\")\n",
    "    hist_VbfFilter_UL_w2, _ = np.histogram(ak.fill_none(df_dyVBFfilter_UL[var], value=0.0), bins=binning, weights=wgt_UL*wgt_UL)\n",
    "    hist_VbfFilter_Rereco, _= np.histogram(ak.fill_none(df_dyVBFfilter_Rereco[var], value=0.0), bins=binning, weights=wgt_Rereco)\n",
    "    print(f\"hist_VbfFilter_Rereco: {hist_VbfFilter_Rereco}\")\n",
    "    hist_VbfFilter_Rereco_w2, _= np.histogram(df_dyVBFfilter_Rereco[var], bins=binning, weights=wgt_Rereco*wgt_Rereco)\n",
    "\n",
    "\n",
    "    err_VbfFilter_UL = np.sqrt(hist_VbfFilter_UL_w2)\n",
    "    # print(f\"err_VbfFilter_UL: {err_VbfFilter_UL}\")\n",
    "    hep.histplot(hist_VbfFilter_UL, bins=binning, \n",
    "         histtype='errorbar', \n",
    "        label=\"UL\", \n",
    "         xerr=True, \n",
    "         yerr=err_VbfFilter_UL,\n",
    "        color = \"blue\",\n",
    "        ax=ax_main\n",
    "    )\n",
    "    err_VbfFilter_Rereco = np.sqrt(hist_VbfFilter_Rereco_w2)\n",
    "    # print(f\"err_VbfFilter_Rereco: {err_VbfFilter_Rereco}\")\n",
    "    hep.histplot(hist_VbfFilter_Rereco, bins=binning, \n",
    "         histtype='errorbar', \n",
    "        label=\"Rereco\", \n",
    "         xerr=True, \n",
    "         yerr=err_VbfFilter_Rereco,\n",
    "        color = \"red\",\n",
    "        ax=ax_main\n",
    "    )\n",
    "    plt.legend(loc=\"upper right\")\n",
    "    plt.title(f\"{var} distribution\")\n",
    "    # plt.savefig(f\"./quick_plots/{var}_separate_normal.pdf\")\n",
    "    plt.show()\n",
    "    plt.clf()"
   ]
  },
  {
   "cell_type": "code",
   "execution_count": 56,
   "id": "a16acd70-f0a4-498f-a378-8741c2a5c79d",
   "metadata": {},
   "outputs": [
    {
     "name": "stdout",
     "output_type": "stream",
     "text": [
      "err_VbfFilter_UL: [0, 0, 0, 0.000124, 0.000106, ..., 2.74e-05, 2.51e-05, 2.31e-05, 2.12e-05]\n",
      "err_VbfFilter_Rereco: [0, 0, 0, 8.88e-05, 7.57e-05, ..., 1.98e-05, 1.81e-05, 1.67e-05, 1.54e-05]\n"
     ]
    },
    {
     "data": {
      "image/png": "[encoded data removed]",
      "text/plain": [
       "<Figure size 1000x1000 with 1 Axes>"
      ]
     },
     "metadata": {},
     "output_type": "display_data"
    },
    {
     "data": {
      "text/plain": [
       "<Figure size 1000x1000 with 0 Axes>"
      ]
     },
     "metadata": {},
     "output_type": "display_data"
    }
   ],
   "source": [
    "vbf_filter_UL = ak.fill_none((df_dyVBFfilter_UL.gjj_mass > 350), value=False)\n",
    "vbf_filter_Rereco = ak.fill_none((df_dyVBFfilter_Rereco.gjj_mass > 350), value=False)\n",
    "\n",
    "\"\"\"\n",
    "dijet mass plot of vbf filtered DY vs normal DY \n",
    "\"\"\"\n",
    "import mplhep as hep\n",
    "plt.style.use(hep.style.CMS)\n",
    "binning_map = {\n",
    "    \"gjj_mass\" : [200, 1200, 21],\n",
    "    # \"jj_mass\" : [250, 2_000, 21],\n",
    "    \"jj_mass\" : [200, 500, 21],\n",
    "}\n",
    "\n",
    "wgt_UL = weights_UL_collection.partial_weight(include=[\"wgt_nominal_genWeight\", \"wgt_nominal_genWeight_normalization\"])*vbf_filter_UL\n",
    "wgt_Rereco = weights_Rereco_collection.partial_weight(include=[\"wgt_nominal_genWeight\", \"wgt_nominal_genWeight_normalization\"])*vbf_filter_Rereco\n",
    "\n",
    "for var in [\"gjj_mass\"]:\n",
    "    fig, ax_main = plt.subplots()\n",
    "    binning = np.linspace(*binning_map[var])\n",
    "    hist_VbfFilter_UL, edges = np.histogram(df_dyVBFfilter_UL[var], bins=binning, weights=wgt_UL)\n",
    "    hist_VbfFilter_UL_w2, _ = np.histogram(df_dyVBFfilter_UL[var], bins=binning, weights=wgt_UL*wgt_UL)\n",
    "    hist_VbfFilter_Rereco, _= np.histogram(df_dyVBFfilter_Rereco[var], bins=binning, weights=wgt_Rereco)\n",
    "    hist_VbfFilter_Rereco_w2, _= np.histogram(df_dyVBFfilter_Rereco[var], bins=binning, weights=wgt_Rereco*wgt_Rereco)\n",
    "\n",
    "\n",
    "    err_VbfFilter_UL = np.sqrt(hist_VbfFilter_UL_w2)\n",
    "    print(f\"err_VbfFilter_UL: {err_VbfFilter_UL}\")\n",
    "    hep.histplot(hist_VbfFilter_UL, bins=binning, \n",
    "         histtype='errorbar', \n",
    "        label=\"UL\", \n",
    "         xerr=True, \n",
    "         yerr=err_VbfFilter_UL,\n",
    "        color = \"blue\",\n",
    "        ax=ax_main\n",
    "    )\n",
    "    err_VbfFilter_Rereco = np.sqrt(hist_VbfFilter_Rereco_w2)\n",
    "    print(f\"err_VbfFilter_Rereco: {err_VbfFilter_Rereco}\")\n",
    "    hep.histplot(hist_VbfFilter_Rereco, bins=binning, \n",
    "         histtype='errorbar', \n",
    "        label=\"Rereco\", \n",
    "         xerr=True, \n",
    "         yerr=err_VbfFilter_Rereco,\n",
    "        color = \"red\",\n",
    "        ax=ax_main\n",
    "    )\n",
    "    plt.legend(loc=\"upper right\")\n",
    "    plt.title(f\"{var} distribution\")\n",
    "    # plt.savefig(f\"./quick_plots/{var}_separate_normal.pdf\")\n",
    "    plt.show()\n",
    "    plt.clf()"
   ]
  },
  {
   "cell_type": "code",
   "execution_count": 14,
   "id": "5f15e931-b1bb-4603-afec-7ede06efb1db",
   "metadata": {},
   "outputs": [
    {
     "name": "stdout",
     "output_type": "stream",
     "text": [
      "err_VbfFilter_UL: [0, 0, 0, 0.000106, 9.01e-05, ..., 2.34e-05, 2.15e-05, 1.98e-05, 1.82e-05]\n",
      "err_VbfFilter_Rereco: [0, 0, 0, 8.88e-05, 7.57e-05, ..., 1.98e-05, 1.81e-05, 1.67e-05, 1.54e-05]\n"
     ]
    },
    {
     "data": {
      "image/png": "[encoded data removed]",
      "text/plain": [
       "<Figure size 1000x1000 with 1 Axes>"
      ]
     },
     "metadata": {},
     "output_type": "display_data"
    },
    {
     "data": {
      "text/plain": [
       "<Figure size 1000x1000 with 0 Axes>"
      ]
     },
     "metadata": {},
     "output_type": "display_data"
    }
   ],
   "source": [
    "vbf_filter_UL = ak.fill_none((df_dyVBFfilter_UL.gjj_mass > 350), value=False)\n",
    "vbf_filter_Rereco = ak.fill_none((df_dyVBFfilter_Rereco.gjj_mass > 350), value=False)\n",
    "\n",
    "\"\"\"\n",
    "dijet mass plot of vbf filtered DY vs normal DY \n",
    "\"\"\"\n",
    "import mplhep as hep\n",
    "plt.style.use(hep.style.CMS)\n",
    "binning_map = {\n",
    "    \"gjj_mass\" : [200, 1200, 21],\n",
    "    # \"jj_mass\" : [250, 2_000, 21],\n",
    "    \"jj_mass\" : [200, 500, 21],\n",
    "}\n",
    "\n",
    "wgt_UL = weights_UL_collection.partial_weight(include=[\"wgt_nominal_genWeight\", \"wgt_nominal_genWeight_normalization\"])*vbf_filter_UL\n",
    "wgt_Rereco = weights_Rereco_collection.partial_weight(include=[\"wgt_nominal_genWeight\", \"wgt_nominal_genWeight_normalization\"])*vbf_filter_Rereco\n",
    "# filter out events with genjet1 and 2 less than 10 GeV\n",
    "UL_extraFilter = (df_dyVBFfilter_UL[\"gjet1_pt\"] < 10) | (df_dyVBFfilter_UL[\"gjet2_pt\"] < 10) \n",
    "UL_extraFilter = ~UL_extraFilter\n",
    "wgt_UL = wgt_UL*UL_extraFilter\n",
    "for var in [\"gjj_mass\"]:\n",
    "    fig, ax_main = plt.subplots()\n",
    "    binning = np.linspace(*binning_map[var])\n",
    "    hist_VbfFilter_UL, edges = np.histogram(df_dyVBFfilter_UL[var], bins=binning, weights=wgt_UL)\n",
    "    hist_VbfFilter_UL_w2, _ = np.histogram(df_dyVBFfilter_UL[var], bins=binning, weights=wgt_UL*wgt_UL)\n",
    "    hist_VbfFilter_Rereco, _= np.histogram(df_dyVBFfilter_Rereco[var], bins=binning, weights=wgt_Rereco)\n",
    "    hist_VbfFilter_Rereco_w2, _= np.histogram(df_dyVBFfilter_Rereco[var], bins=binning, weights=wgt_Rereco*wgt_Rereco)\n",
    "\n",
    "\n",
    "    err_VbfFilter_UL = np.sqrt(hist_VbfFilter_UL_w2)\n",
    "    print(f\"err_VbfFilter_UL: {err_VbfFilter_UL}\")\n",
    "    hep.histplot(hist_VbfFilter_UL, bins=binning, \n",
    "         histtype='errorbar', \n",
    "        label=\"UL\", \n",
    "         xerr=True, \n",
    "         yerr=err_VbfFilter_UL,\n",
    "        color = \"blue\",\n",
    "        ax=ax_main\n",
    "    )\n",
    "    err_VbfFilter_Rereco = np.sqrt(hist_VbfFilter_Rereco_w2)\n",
    "    print(f\"err_VbfFilter_Rereco: {err_VbfFilter_Rereco}\")\n",
    "    hep.histplot(hist_VbfFilter_Rereco, bins=binning, \n",
    "         histtype='errorbar', \n",
    "        label=\"Rereco\", \n",
    "         xerr=True, \n",
    "         yerr=err_VbfFilter_Rereco,\n",
    "        color = \"red\",\n",
    "        ax=ax_main\n",
    "    )\n",
    "    plt.legend(loc=\"upper right\")\n",
    "    plt.title(f\"{var} distribution\")\n",
    "    # plt.savefig(f\"./quick_plots/{var}_separate_normal.pdf\")\n",
    "    plt.show()\n",
    "    plt.clf()"
   ]
  },
  {
   "cell_type": "code",
   "execution_count": 57,
   "id": "62fb768a-2269-4de4-8599-3ea8fc858603",
   "metadata": {},
   "outputs": [
    {
     "name": "stdout",
     "output_type": "stream",
     "text": [
      "[1.75, 1.75, 1.73, 1.73, 1.73, 1.74, 1.71, 1.71, 1.71, 1.7]\n",
      "1.7267555368171075\n"
     ]
    }
   ],
   "source": [
    "\n",
    "print(hist_VbfFilter_UL[10:]/hist_VbfFilter_Rereco[10:])\n",
    "print(np.mean(hist_VbfFilter_UL[10:]/hist_VbfFilter_Rereco[10:]))"
   ]
  },
  {
   "cell_type": "code",
   "execution_count": 50,
   "id": "f6fe7085-3c29-47a4-bfa6-3a62fc0d7f2f",
   "metadata": {},
   "outputs": [
    {
     "data": {
      "text/plain": [
       "array([ 200.,  250.,  300.,  350.,  400.,  450.,  500.,  550.,  600.,\n",
       "        650.,  700.,  750.,  800.,  850.,  900.,  950., 1000., 1050.,\n",
       "       1100., 1150., 1200.])"
      ]
     },
     "execution_count": 50,
     "metadata": {},
     "output_type": "execute_result"
    }
   ],
   "source": [
    "np.linspace(*[200, 1200, 21])"
   ]
  },
  {
   "cell_type": "code",
   "execution_count": 72,
   "id": "13f9753a-8c3d-496d-b8dc-b56d9ad2c431",
   "metadata": {},
   "outputs": [
    {
     "name": "stdout",
     "output_type": "stream",
     "text": [
      "0.9622259787817404\n",
      "0.700364370353763\n"
     ]
    }
   ],
   "source": [
    "vbf_filter_UL = ak.fill_none((df_dyVBFfilter_UL.gjj_mass > 350), value=False)\n",
    "vbf_filter_Rereco = ak.fill_none((df_dyVBFfilter_Rereco.gjj_mass > 350), value=False)\n",
    "filterEff_UL  = ak.sum(vbf_filter_UL) / len(vbf_filter_UL)\n",
    "print(filterEff_UL)\n",
    "filterEff_Rereco  = ak.sum(vbf_filter_Rereco) / len(vbf_filter_Rereco)\n",
    "print(filterEff_Rereco)"
   ]
  },
  {
   "cell_type": "code",
   "execution_count": 12,
   "id": "3fcf395e-6d21-4eee-9432-eb7417f271f5",
   "metadata": {},
   "outputs": [
    {
     "name": "stdout",
     "output_type": "stream",
     "text": [
      "[3.36, 5.62, 83.6, 8.51, 3.31, 3.69, ..., 7.75, 78.5, 4.76, 35.2, 44.8, 4.25]\n",
      "[None, None, None, None, None, None, ..., None, None, None, None, None, None]\n",
      "[None, None, None, None, 14, None, ..., None, 65.5, 16.4, 19.8, None, None]\n",
      "[None, None, None, None, None, None, ..., None, None, None, None, None, None]\n"
     ]
    }
   ],
   "source": [
    "nonfilter = ak.is_none(df_dyVBFfilter_UL.gjj_mass )\n",
    "print(df_dyVBFfilter_UL.gjet1_pt[nonfilter])\n",
    "print(df_dyVBFfilter_UL.gjet2_pt[nonfilter])\n",
    "nonfilter = ak.is_none(df_dyVBFfilter_Rereco.gjj_mass )\n",
    "print(df_dyVBFfilter_Rereco.gjet1_pt[nonfilter])\n",
    "print(df_dyVBFfilter_Rereco.gjet2_pt[nonfilter])"
   ]
  },
  {
   "cell_type": "code",
   "execution_count": 8,
   "id": "6865d81f-177f-42c2-ab6c-de001a6b8fe0",
   "metadata": {},
   "outputs": [
    {
     "name": "stdout",
     "output_type": "stream",
     "text": [
      "[7.57, 86.7, 22.3, 19, 23.8, 9.01, 72, ..., 12.8, 6.82, 116, 13.8, 45.3, 7.38]\n",
      "[6.77, 26.9, 14.4, 8.45, 7.96, 7.82, ..., 11.9, 6.19, 23.7, 7.1, 40.8, 7.22]\n",
      "[-2.83, 1.81, 4.81, 3.6, 3.08, 2.93, ..., -4.56, 3.26, -1.74, 4.57, -1.79, 4.15]\n",
      "[5.34, -2.9, -2.67, -3.67, -3.7, -4.65, ..., -5.31, 4.47, -2.94, 2.98, -4.6]\n",
      "[1.02, 3.31, 8.09, 6.79, 3.36, 6.2, ..., 2.38, 1.64, 24.8, 6.89, 3.91, 2.9]\n",
      "[1.55, 7.07, 3.03, 2.39, 1.52, 2.59, ..., 3.88, 2.93, 4.97, 2.02, 4.15, 2.96]\n",
      "[426, 514, 754, 477, 407, 371, 491, ..., 483, 612, 471, 1.17e+03, 422, 471, 580]\n"
     ]
    }
   ],
   "source": [
    "vbf_filter_UL = ak.fill_none((df_dyVBFfilter_UL.gjj_mass > 350), value=False)\n",
    "print(df_dyVBFfilter_UL.gjet1_pt[vbf_filter_UL])\n",
    "print(df_dyVBFfilter_UL.gjet2_pt[vbf_filter_UL])\n",
    "print(df_dyVBFfilter_UL.gjet1_eta[vbf_filter_UL])\n",
    "print(df_dyVBFfilter_UL.gjet2_eta[vbf_filter_UL])\n",
    "print(df_dyVBFfilter_UL.gjet1_mass[vbf_filter_UL])\n",
    "print(df_dyVBFfilter_UL.gjet2_mass[vbf_filter_UL])\n",
    "print(df_dyVBFfilter_UL.gjj_mass[vbf_filter_UL])"
   ]
  },
  {
   "cell_type": "code",
   "execution_count": null,
   "id": "acc8f709-aae7-4fe6-b296-2e84ceb4cd4e",
   "metadata": {},
   "outputs": [],
   "source": [
    "\n",
    "px_ = obj_pt * np.cos(obj.phi)\n",
    "py_ = obj_pt * np.sin(obj.phi)\n",
    "pz_ = obj_pt * np.sinh(obj.eta)\n",
    "e_ = np.sqrt(px_**2 + py_**2 + pz_**2 + obj.mass**2)"
   ]
  },
  {
   "cell_type": "code",
   "execution_count": 76,
   "id": "8d7e8fe3-36fa-4e54-9342-0bd7f8be5d68",
   "metadata": {},
   "outputs": [
    {
     "name": "stdout",
     "output_type": "stream",
     "text": [
      "0.0055636530253088895\n",
      "0.29941423941774287\n"
     ]
    }
   ],
   "source": [
    "vbf_filter_UL = ak.is_none(df_dyVBFfilter_UL.gjj_mass )\n",
    "vbf_filter_Rereco = ak.is_none(df_dyVBFfilter_Rereco.gjj_mass)\n",
    "filterEff_UL  = ak.sum(vbf_filter_UL) / len(vbf_filter_UL)\n",
    "print(filterEff_UL)\n",
    "filterEff_Rereco  = ak.sum(vbf_filter_Rereco) / len(vbf_filter_Rereco)\n",
    "print(filterEff_Rereco)"
   ]
  },
  {
   "cell_type": "code",
   "execution_count": 59,
   "id": "3e83e12f-1cb0-4244-ab23-2bd118014fca",
   "metadata": {},
   "outputs": [
    {
     "data": {
      "text/plain": [
       "8269387"
      ]
     },
     "execution_count": 59,
     "metadata": {},
     "output_type": "execute_result"
    }
   ],
   "source": [
    "len(vbf_filter_UL)"
   ]
  },
  {
   "cell_type": "code",
   "execution_count": 62,
   "id": "0d91f34c-5fbe-4750-9980-039464dda040",
   "metadata": {},
   "outputs": [
    {
     "data": {
      "text/plain": [
       "0.7278585132782255"
      ]
     },
     "execution_count": 62,
     "metadata": {},
     "output_type": "execute_result"
    }
   ],
   "source": [
    "0.700364370353763/0.9622259787817404"
   ]
  },
  {
   "cell_type": "code",
   "execution_count": 67,
   "id": "2c3b7ac3-230c-4635-9e3f-daaea4f8d757",
   "metadata": {},
   "outputs": [
    {
     "data": {
      "text/plain": [
       "0.01629593461648035"
      ]
     },
     "execution_count": 67,
     "metadata": {},
     "output_type": "execute_result"
    }
   ],
   "source": [
    "hist_VbfFilter_Rereco[7]"
   ]
  },
  {
   "cell_type": "code",
   "execution_count": 68,
   "id": "1e084f84-bff3-4a1a-b2cb-838d0e3299d4",
   "metadata": {},
   "outputs": [
    {
     "data": {
      "text/plain": [
       "0.02823930558790702"
      ]
     },
     "execution_count": 68,
     "metadata": {},
     "output_type": "execute_result"
    }
   ],
   "source": [
    "hist_VbfFilter_UL[7]"
   ]
  },
  {
   "cell_type": "code",
   "execution_count": 17,
   "id": "e5fda517-f84c-4609-928e-96d2928d8fc4",
   "metadata": {},
   "outputs": [
    {
     "data": {
      "text/plain": [
       "9776913"
      ]
     },
     "execution_count": 17,
     "metadata": {},
     "output_type": "execute_result"
    }
   ],
   "source": [
    "\"\"\"\n",
    "check the number of events for non extension rereco events\n",
    "\"\"\"\n",
    "from coffea.nanoevents import NanoEventsFactory, NanoAODSchema, BaseSchema\n",
    "import glob\n",
    "load_path = \"/eos/purdue/store/mc/RunIIAutumn18NanoAODv6/DYJetsToLL_M-105To160_VBFFilter_TuneCP5_PSweights_13TeV-amcatnloFXFX-pythia8/NANOAODSIM/Nano25Oct2019_VBFPostMGFilter_102X_upgrade2018_realistic_v20-v1\"\n",
    "fnames = glob.glob(f\"{load_path}/*/*.root\")\n",
    "file_input = {fname : {\"object_path\": \"Runs\"} for fname in fnames}\n",
    "runs = NanoEventsFactory.from_root(\n",
    "        file_input,\n",
    "        metadata={},\n",
    "        schemaclass=BaseSchema,\n",
    "        uproot_options={\"timeout\":2400},\n",
    ").events()  \n",
    "ak.sum(runs.genEventCount_).compute()"
   ]
  },
  {
   "cell_type": "code",
   "execution_count": 18,
   "id": "4fad3998-ed61-439a-b621-ae85df38a47c",
   "metadata": {
    "scrolled": true
   },
   "outputs": [
    {
     "data": {
      "text/plain": [
       "19729948"
      ]
     },
     "execution_count": 18,
     "metadata": {},
     "output_type": "execute_result"
    }
   ],
   "source": [
    "load_path = \"/eos/purdue/store/mc/RunIIAutumn18NanoAODv6/DYJetsToLL_M-105To160_VBFFilter_TuneCP5_PSweights_13TeV-amcatnloFXFX-pythia8/NANOAODSIM/Nano25Oct2019_VBFPostMGFilter_102X_upgrade2018_realistic_v20_ext1-v1\"\n",
    "fnames = glob.glob(f\"{load_path}/*/*.root\")\n",
    "file_input = {fname : {\"object_path\": \"Runs\"} for fname in fnames}\n",
    "runs = NanoEventsFactory.from_root(\n",
    "        file_input,\n",
    "        metadata={},\n",
    "        schemaclass=BaseSchema,\n",
    "        uproot_options={\"timeout\":2400},\n",
    ").events()  \n",
    "ak.sum(runs.genEventCount_).compute()"
   ]
  },
  {
   "cell_type": "code",
   "execution_count": 19,
   "id": "7745b364-a735-4d2c-8a92-bf6a9838d170",
   "metadata": {},
   "outputs": [
    {
     "data": {
      "text/plain": [
       "29506861"
      ]
     },
     "execution_count": 19,
     "metadata": {},
     "output_type": "execute_result"
    }
   ],
   "source": [
    "19729948 + 9776913"
   ]
  },
  {
   "cell_type": "code",
   "execution_count": 20,
   "id": "80c589cb-c664-45bc-b272-7e574db5e8bf",
   "metadata": {},
   "outputs": [
    {
     "data": {
      "text/plain": [
       "20756969"
      ]
     },
     "execution_count": 20,
     "metadata": {},
     "output_type": "execute_result"
    }
   ],
   "source": [
    "20756969"
   ]
  },
  {
   "cell_type": "code",
   "execution_count": null,
   "id": "b959bb48-3b9c-4993-b017-5ba21d68ab93",
   "metadata": {},
   "outputs": [],
   "source": []
  }
 ],
 "metadata": {
  "kernelspec": {
   "display_name": "Python [conda env:coffea2024]",
   "language": "python",
   "name": "conda-env-coffea2024-py"
  },
  "language_info": {
   "codemirror_mode": {
    "name": "ipython",
    "version": 3
   },
   "file_extension": ".py",
   "mimetype": "text/x-python",
   "name": "python",
   "nbconvert_exporter": "python",
   "pygments_lexer": "ipython3",
   "version": "3.10.13"
  }
 },
 "nbformat": 4,
 "nbformat_minor": 5
}
