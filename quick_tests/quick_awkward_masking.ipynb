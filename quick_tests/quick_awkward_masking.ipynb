{
 "cells": [
  {
   "cell_type": "code",
   "execution_count": 1,
   "id": "82b05883-3894-48ca-939c-bc959be20504",
   "metadata": {},
   "outputs": [],
   "source": [
    "import awkward as ak"
   ]
  },
  {
   "cell_type": "code",
   "execution_count": 2,
   "id": "62304b5d-4887-4c15-8e01-d5f08f72615e",
   "metadata": {},
   "outputs": [],
   "source": [
    "A = ak.Array(\n",
    "    [\n",
    "        [1,2,3],\n",
    "        [1,],\n",
    "        [5,4]\n",
    "    ]\n",
    ")\n",
    "mask = ak.Array(\n",
    "    [\n",
    "        [False,True,False],\n",
    "        [True],\n",
    "        [True,False]\n",
    "    ]\n",
    ")"
   ]
  },
  {
   "cell_type": "code",
   "execution_count": 3,
   "id": "582c6dfd-424a-4cef-82bb-0dbabcd192a4",
   "metadata": {},
   "outputs": [
    {
     "data": {
      "text/html": [
       "<pre>[[2],\n",
       " [1],\n",
       " [5]]\n",
       "---------------------\n",
       "type: 3 * var * int64</pre>"
      ],
      "text/plain": [
       "<Array [[2], [1], [5]] type='3 * var * int64'>"
      ]
     },
     "execution_count": 3,
     "metadata": {},
     "output_type": "execute_result"
    }
   ],
   "source": [
    "A[mask]"
   ]
  },
  {
   "cell_type": "code",
   "execution_count": 5,
   "id": "cd99fca5-0d0d-4b93-b3c8-6fe49bed10e8",
   "metadata": {},
   "outputs": [
    {
     "data": {
      "text/html": [
       "<pre>[[None, 2, None],\n",
       " [1],\n",
       " [5, None]]\n",
       "----------------------\n",
       "type: 3 * var * ?int64</pre>"
      ],
      "text/plain": [
       "<Array [[None, 2, None], [1], [5, None]] type='3 * var * ?int64'>"
      ]
     },
     "execution_count": 5,
     "metadata": {},
     "output_type": "execute_result"
    }
   ],
   "source": [
    "ak.mask(A,mask)"
   ]
  },
  {
   "cell_type": "code",
   "execution_count": null,
   "id": "dbb9c057-457f-4485-915d-bc817631c21c",
   "metadata": {},
   "outputs": [],
   "source": []
  }
 ],
 "metadata": {
  "kernelspec": {
   "display_name": "Python [conda env:coffea2024]",
   "language": "python",
   "name": "conda-env-coffea2024-py"
  },
  "language_info": {
   "codemirror_mode": {
    "name": "ipython",
    "version": 3
   },
   "file_extension": ".py",
   "mimetype": "text/x-python",
   "name": "python",
   "nbconvert_exporter": "python",
   "pygments_lexer": "ipython3",
   "version": "3.10.13"
  }
 },
 "nbformat": 4,
 "nbformat_minor": 5
}
