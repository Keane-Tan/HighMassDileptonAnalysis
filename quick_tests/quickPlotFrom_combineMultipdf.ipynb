{
 "cells": [
  {
   "cell_type": "code",
   "execution_count": 1,
   "id": "ab5ae3f7-6bb9-4875-ad01-432ae4f4fe4f",
   "metadata": {},
   "outputs": [],
   "source": [
    "import uproot\n",
    "# import ROOT\n",
    "import matplotlib.pyplot as plt"
   ]
  },
  {
   "cell_type": "code",
   "execution_count": 22,
   "id": "3c9f49ae-fbc6-4e85-8b56-a8e7e3085694",
   "metadata": {},
   "outputs": [
    {
     "data": {
      "text/plain": [
       "'\\nmultipdf\\ncombine -M MultiDimFit -d combine_test_datacard.txt --points 100 --algo grid --setParameterRanges r=50,1500 --cminDefaultMinimizerStrategy 0 --saveNLL -n Envelope -m 125 --setParameters myIndex=-1 --X-rtd REMOVE_CONSTANT_ZERO_POINT=1\\n'"
      ]
     },
     "execution_count": 22,
     "metadata": {},
     "output_type": "execute_result"
    }
   ],
   "source": [
    "# combine comamnd used to make the root file\n",
    "\"\"\"\n",
    "multipdf:\n",
    "    combine -M MultiDimFit -d combine_test_datacard_long.txt --points 50 --algo grid --setParameterRanges r=-10,10 --cminDefaultMinimizerStrategy 0 --saveNLL -n Envelope -m 125 --X-rtd REMOVE_CONSTANT_ZERO_POINT=1\n",
    "\n",
    "freezing multipdf with index=0\n",
    "    combine -M MultiDimFit -d combine_test_datacard_long.txt --points 50 --algo grid --setParameterRanges r=-10,10 --cminDefaultMinimizerStrategy 0 --saveNLL --freezeParameters pdf_index --setParameters pdf_index=0 -n fixed_pdf_0 -m 125 --X-rtd REMOVE_CONSTANT_ZERO_POINT=1\n",
    "freezing multipdf with index=1\n",
    "    combine -M MultiDimFit -d combine_test_datacard_long.txt --points 50 --algo grid --setParameterRanges r=-10,10 --cminDefaultMinimizerStrategy 0 --saveNLL --freezeParameters pdf_index --setParameters pdf_index=2 -n fixed_pdf_2 -m 125 --X-rtd REMOVE_CONSTANT_ZERO_POINT=1\n",
    "freezing multipdf with index=2\n",
    "    combine -M MultiDimFit -d combine_test_datacard_long.txt --points 50 --algo grid --setParameterRanges r=-10,10 --cminDefaultMinimizerStrategy 0 --saveNLL --freezeParameters pdf_index --setParameters pdf_index=1 -n fixed_pdf_1 -m 125 --X-rtd REMOVE_CONSTANT_ZERO_POINT=1    \n",
    "\"\"\""
   ]
  },
  {
   "cell_type": "code",
   "execution_count": 27,
   "id": "f68636a6-76c7-4e4f-b9d9-4cbf3deac705",
   "metadata": {},
   "outputs": [],
   "source": [
    "load_path = \"./higgsCombineEnvelope.MultiDimFit.mH125.root\"\n",
    "file = uproot.open(load_path)"
   ]
  },
  {
   "cell_type": "code",
   "execution_count": 28,
   "id": "cffb7ff4-1c86-415b-be0a-90331ebee503",
   "metadata": {},
   "outputs": [
    {
     "name": "stdout",
     "output_type": "stream",
     "text": [
      "['toys;1', 'limit;1']\n"
     ]
    }
   ],
   "source": [
    "print(file.keys())\n",
    "file['limit'].keys()\n",
    "nll_arr = file['limit']['nll'].array()\n",
    "r_arr = file['limit']['r'].array()"
   ]
  },
  {
   "cell_type": "code",
   "execution_count": 29,
   "id": "b2259c1b-59bb-4c55-8c4e-eda81b8588f6",
   "metadata": {},
   "outputs": [
    {
     "name": "stdout",
     "output_type": "stream",
     "text": [
      "[200, 132]\n",
      "[0, 2.63e+03]\n"
     ]
    }
   ],
   "source": [
    "# file['limit'].keys()\n",
    "print(file['limit']['r'].array())\n",
    "print(file['limit']['deltaNLL'].array())\n"
   ]
  },
  {
   "cell_type": "code",
   "execution_count": 6,
   "id": "8b962721-3902-4166-99c5-1e0fc9189cf4",
   "metadata": {},
   "outputs": [
    {
     "data": {
      "text/plain": [
       "False"
      ]
     },
     "execution_count": 6,
     "metadata": {},
     "output_type": "execute_result"
    }
   ],
   "source": [
    "# file['limit']['nll'].array()\n",
    "import numpy as np\n",
    "nll = file['limit']['nll'].array()\n",
    "nll0 = file['limit']['nll0'].array()\n",
    "deltaNLL = file['limit']['deltaNLL'].array()\n",
    "np.all(deltaNLL == (nll0/nll ))"
   ]
  },
  {
   "cell_type": "code",
   "execution_count": 7,
   "id": "856f33e9-1d82-4276-a5f8-e282d27dd4f2",
   "metadata": {},
   "outputs": [
    {
     "data": {
      "text/html": [
       "<pre>[2.28e+05,\n",
       " 2.28e+05,\n",
       " 2.28e+05,\n",
       " 2.28e+05,\n",
       " 2.28e+05,\n",
       " 2.28e+05,\n",
       " 2.28e+05,\n",
       " 2.28e+05,\n",
       " 2.28e+05,\n",
       " 2.28e+05,\n",
       " ...,\n",
       " 2.28e+05,\n",
       " 2.28e+05,\n",
       " 2.28e+05,\n",
       " 2.28e+05,\n",
       " 2.28e+05,\n",
       " 2.28e+05,\n",
       " 2.28e+05,\n",
       " 2.28e+05,\n",
       " 2.28e+05]\n",
       "------------------\n",
       "type: 51 * float64</pre>"
      ],
      "text/plain": [
       "<Array [2.28e+05, 2.28e+05, ..., 2.28e+05, 2.28e+05] type='51 * float64'>"
      ]
     },
     "execution_count": 7,
     "metadata": {},
     "output_type": "execute_result"
    }
   ],
   "source": [
    "nll0+nll"
   ]
  },
  {
   "cell_type": "code",
   "execution_count": 33,
   "id": "9a3fb116-a140-4ff3-a34c-1a1b48a8a6dc",
   "metadata": {},
   "outputs": [],
   "source": [
    "def getRandNLL(load_path: str):\n",
    "    file = uproot.open(load_path)\n",
    "    nll = file['limit']['nll'].array()\n",
    "    nll0 = file['limit']['nll0'].array()\n",
    "    deltaNLL = file['limit']['deltaNLL'].array()\n",
    "    y_arr = 2*(deltaNLL + nll0 + nll)[1:]\n",
    "    # y_arr = 2*(deltaNLL)[1:]\n",
    "    x_arr = file['limit']['r'].array()[1:]\n",
    "    # print(f\"file['limit']['r']: {file['limit']['r'].array()}\")\n",
    "    return x_arr, y_arr"
   ]
  },
  {
   "cell_type": "code",
   "execution_count": 64,
   "id": "028f6906-9d58-4ec6-9305-0ffcb650167c",
   "metadata": {},
   "outputs": [
    {
     "name": "stdout",
     "output_type": "stream",
     "text": [
      "x_arr: [-9.4, -9, -8.6, -8.2, -7.8, -7.4, -7, ..., 7.4, 7.8, 8.2, 8.6, 9, 9.4, 9.8]\n",
      "y_arr: [1.34e+06, 1.34e+06, 1.34e+06, 1.34e+06, ..., 1.34e+06, 1.34e+06, 1.34e+06]\n",
      "x_arr: [-9.4, -9, -8.6, -8.2, -7.8, -7.4, -7, ..., 7.4, 7.8, 8.2, 8.6, 9, 9.4, 9.8]\n",
      "y_arr: [1.49e+06, 1.49e+06, 1.49e+06, 1.49e+06, ..., 1.34e+06, 1.34e+06, 1.34e+06]\n"
     ]
    },
    {
     "data": {
      "image/png": "[encoded data removed]",
      "text/plain": [
       "<Figure size 640x480 with 1 Axes>"
      ]
     },
     "metadata": {},
     "output_type": "display_data"
    }
   ],
   "source": [
    "load_path_dict = {\n",
    "    \"Envelope\": \"./higgsCombineEnvelope.MultiDimFit.mH125.root\",\n",
    "    # \"BWZ_Redux\": \"./higgsCombinefixed_pdf_0.MultiDimFit.mH125.root\",\n",
    "    # \"SumExp\": \"./higgsCombinefixed_pdf_1.MultiDimFit.mH125.root\",\n",
    "    \"FEWZxBern\": \"./higgsCombinefixed_pdf_2.MultiDimFit.mH125.root\",\n",
    "    # \"PowerLaw\": \"./higgsCombinefixed_pdf_2.MultiDimFit.mH125.root\",\n",
    "    # \"BWZxBern\": \"./higgsCombinefixed_pdf_3.MultiDimFit.mH125.root\",\n",
    "}\n",
    "color_map = {\n",
    "    \"BWZ_Redux\": \"Green\",\n",
    "    \"SumExp\": \"Blue\",\n",
    "    \"FEWZxBern\": \"Red\",\n",
    "    # \"PowerLaw\": \"Red\",\n",
    "    # \"BWZxBern\": \"Purple\",\n",
    "}\n",
    "for process, load_path in load_path_dict.items():\n",
    "    x_arr,y_arr = getRandNLL(load_path)\n",
    "    print(f\"x_arr: {(x_arr)}\")\n",
    "    print(f\"y_arr: {y_arr}\")\n",
    "    if \"Envelope\" in load_path:\n",
    "        plt.plot(x_arr,y_arr, color='orange', marker='o', label=process)\n",
    "    else:\n",
    "        plt.plot(x_arr,y_arr, color=color_map[process], label=process)\n",
    "plt.legend()\n",
    "plt.xlim([0.0, 10.0])\n",
    "# plt.xlim([-10.0, 0.0])\n",
    "# plt.ylim([-100, 20000])\n",
    "plt.ylim([1.2e6, 1.4e6])\n",
    "plt.xlabel(\"Signal Strength (r)\")\n",
    "# plt.ylabel(\"-2lnL(r) + c\")\n",
    "plt.ylabel(\"-2$\\\\Delta$Ln[L(r)]\")\n",
    "plt.show()"
   ]
  },
  {
   "cell_type": "code",
   "execution_count": 52,
   "id": "94a020cc-1f19-4c3a-9276-06c9b1aabf38",
   "metadata": {},
   "outputs": [
    {
     "name": "stdout",
     "output_type": "stream",
     "text": [
      "TFile**\t\t./combine_test_datacard.root\t\n",
      " TFile*\t\t./combine_test_datacard.root\t\n",
      "  KEY: RooWorkspace\tw;1\tw\n",
      "  KEY: TProcessID\tProcessID0;1\t0b98ba46-3efe-11ef-b9b5-900b050abeef\n"
     ]
    }
   ],
   "source": [
    "import ROOT as rt\n",
    "f = rt.TFile(\"./combine_test_datacard.root\")\n",
    "# ws = f.FindObjectAny(\"\")\n",
    "f.ls()\n",
    "ws = f.Get(\"w\")"
   ]
  },
  {
   "cell_type": "code",
   "execution_count": 54,
   "id": "9787349d-2d7f-49a5-838d-e5feec7b826f",
   "metadata": {
    "scrolled": true
   },
   "outputs": [
    {
     "name": "stdout",
     "output_type": "stream",
     "text": [
      "--- RooAbsArg ---\n",
      "  Value State: clean\n",
      "  Shape State: clean\n",
      "  Attributes:  [SnapShot_ExtRefClone,group_POI] \n",
      "  Address: 0x560bd44083d0\n",
      "  Clients: \n",
      "    (0x560bd4407d10,V-) ProcessNormalization::n_exp_bindimuon_mass_proc_signal \"\"\n",
      "  Servers: \n",
      "  Proxies: \n",
      "--- RooAbsReal ---\n",
      "\n",
      "  Plot label is \"r\"\n",
      "--- RooAbsRealLValue ---\n",
      "  Fit range is [ 0 , 20 ]\n",
      "--- RooRealVar ---\n",
      "  Error = 0\n"
     ]
    }
   ],
   "source": [
    "# ws.Print()\n",
    "ws.var(\"r\").Print(\"v\")"
   ]
  },
  {
   "cell_type": "code",
   "execution_count": 61,
   "id": "7ffa1bc4-ee02-40a8-8029-133181bd66a7",
   "metadata": {},
   "outputs": [
    {
     "name": "stdout",
     "output_type": "stream",
     "text": [
      "TFile**\t\t./higgsCombineTest.MarkovChainMC.mH120.root\t\n",
      " TFile*\t\t./higgsCombineTest.MarkovChainMC.mH120.root\t\n",
      "  KEY: TDirectoryFile\ttoys;1\ttoys\n",
      "  KEY: TTree\tlimit;1\tlimit\n"
     ]
    }
   ],
   "source": [
    "import ROOT as rt\n",
    "f = rt.TFile(\"./higgsCombineTest.MarkovChainMC.mH120.root\")\n",
    "# ws = f.FindObjectAny(\"\")\n",
    "f.ls()\n",
    "ws = f.Get(\"limit\")\n"
   ]
  },
  {
   "cell_type": "code",
   "execution_count": 62,
   "id": "a8b53854-abb3-46ea-9a3c-4da8f00ef978",
   "metadata": {},
   "outputs": [
    {
     "name": "stdout",
     "output_type": "stream",
     "text": [
      "******************************************************************************\n",
      "*Tree    :limit     : limit                                                  *\n",
      "*Entries :        0 : Total =            5326 bytes  File  Size =        790 *\n",
      "*        :          : Tree compression factor =   1.00                       *\n",
      "******************************************************************************\n",
      "*Br    0 :limit     : limit/D                                                *\n",
      "*Entries :        0 : Total  Size=        493 bytes  One basket in memory    *\n",
      "*Baskets :        0 : Basket Size=      32000 bytes  Compression=   1.00     *\n",
      "*............................................................................*\n",
      "*Br    1 :limitErr  : limitErr/D                                             *\n",
      "*Entries :        0 : Total  Size=        505 bytes  One basket in memory    *\n",
      "*Baskets :        0 : Basket Size=      32000 bytes  Compression=   1.00     *\n",
      "*............................................................................*\n",
      "*Br    2 :mh        : mh/D                                                   *\n",
      "*Entries :        0 : Total  Size=        481 bytes  One basket in memory    *\n",
      "*Baskets :        0 : Basket Size=      32000 bytes  Compression=   1.00     *\n",
      "*............................................................................*\n",
      "*Br    3 :syst      : syst/I                                                 *\n",
      "*Entries :        0 : Total  Size=        481 bytes  One basket in memory    *\n",
      "*Baskets :        0 : Basket Size=      32000 bytes  Compression=   1.00     *\n",
      "*............................................................................*\n",
      "*Br    4 :iToy      : iToy/I                                                 *\n",
      "*Entries :        0 : Total  Size=        481 bytes  One basket in memory    *\n",
      "*Baskets :        0 : Basket Size=      32000 bytes  Compression=   1.00     *\n",
      "*............................................................................*\n",
      "*Br    5 :iSeed     : iSeed/I                                                *\n",
      "*Entries :        0 : Total  Size=        485 bytes  One basket in memory    *\n",
      "*Baskets :        0 : Basket Size=      32000 bytes  Compression=   1.00     *\n",
      "*............................................................................*\n",
      "*Br    6 :iChannel  : iChannel/I                                             *\n",
      "*Entries :        0 : Total  Size=        497 bytes  One basket in memory    *\n",
      "*Baskets :        0 : Basket Size=      32000 bytes  Compression=   1.00     *\n",
      "*............................................................................*\n",
      "*Br    7 :t_cpu     : t_cpu/F                                                *\n",
      "*Entries :        0 : Total  Size=        485 bytes  One basket in memory    *\n",
      "*Baskets :        0 : Basket Size=      32000 bytes  Compression=   1.00     *\n",
      "*............................................................................*\n",
      "*Br    8 :t_real    : t_real/F                                               *\n",
      "*Entries :        0 : Total  Size=        489 bytes  One basket in memory    *\n",
      "*Baskets :        0 : Basket Size=      32000 bytes  Compression=   1.00     *\n",
      "*............................................................................*\n",
      "*Br    9 :quantileExpected : quantileExpected/F                              *\n",
      "*Entries :        0 : Total  Size=        529 bytes  One basket in memory    *\n",
      "*Baskets :        0 : Basket Size=      32000 bytes  Compression=   1.00     *\n",
      "*............................................................................*\n"
     ]
    }
   ],
   "source": [
    "ws.Print()"
   ]
  },
  {
   "cell_type": "code",
   "execution_count": 111,
   "id": "314986a2-1f00-4ea2-aa91-e9451e8edb19",
   "metadata": {},
   "outputs": [
    {
     "name": "stdout",
     "output_type": "stream",
     "text": [
      "TFile**\t\t../data//NNLO_Bourilkov_2017.root\t\n",
      " TFile*\t\t../data//NNLO_Bourilkov_2017.root\t\n",
      "  KEY: TH1D\tfull_xsec;1\tfull_xsec\n",
      "  KEY: TH1D\tfull_36fb;1\tfull_36fb\n",
      "  KEY: TH1D\tfull_shape;1\tfull_shape\n",
      "  KEY: TH1D\tcc_xsec;1\tcc_xsec\n",
      "  KEY: TH1D\tcc_36fb;1\tcc_36fb\n",
      "  KEY: TH1D\tcc_shape;1\tcc_shape\n",
      "  KEY: TH1D\tncnc_xsec;1\tncnc_xsec\n",
      "  KEY: TH1D\tncnc_36fb;1\tncnc_36fb\n",
      "  KEY: TH1D\tncnc_shape;1\tncnc_shape\n",
      "  KEY: TH1D\tone_jet_xsec;1\tone_jet_xsec\n",
      "  KEY: TH1D\tone_jet_36fb;1\tone_jet_36fb\n",
      "  KEY: TH1D\tone_jet_shape;1\tone_jet_shape\n",
      "  KEY: TH1D\ttwo_jet_xsec;1\ttwo_jet_xsec\n",
      "  KEY: TH1D\ttwo_jet_36fb;1\ttwo_jet_36fb\n",
      "  KEY: TH1D\ttwo_jet_shape;1\ttwo_jet_shape\n"
     ]
    }
   ],
   "source": [
    "FEWZ_file = rt.TFile(\"../data//NNLO_Bourilkov_2017.root\", \"READ\")\n",
    "FEWZ_file.ls()"
   ]
  },
  {
   "cell_type": "code",
   "execution_count": 112,
   "id": "b19ef11b-d7a8-4e8c-961b-18932f45cbc0",
   "metadata": {},
   "outputs": [
    {
     "name": "stdout",
     "output_type": "stream",
     "text": [
      "TH1.Print Name  = full_36fb, Entries= 50, Total sum= 476441\n",
      "TH1.Print Name  = full_xsec, Entries= 50, Total sum= 13.2345\n",
      "TH1.Print Name  = full_shape, Entries= 50, Total sum= 1\n"
     ]
    }
   ],
   "source": [
    "FEWZ_histo_36fb = FEWZ_file.Get(\"full_36fb\")\n",
    "FEWZ_histo_36fb.Print(\"v\")\n",
    "FEWZ_histo_full_xsec = FEWZ_file.Get(\"full_xsec\")\n",
    "FEWZ_histo_full_xsec.Print(\"v\")\n",
    "FEWZ_histo_full_shape = FEWZ_file.Get(\"full_shape\")\n",
    "FEWZ_histo_full_shape.Print(\"v\")"
   ]
  },
  {
   "cell_type": "code",
   "execution_count": 113,
   "id": "36b25f2f-6025-4dc2-9a72-c9789dc1d032",
   "metadata": {},
   "outputs": [],
   "source": [
    "# FEWZ_histo = FEWZ_histo_36fb\n",
    "# FEWZ_histo = FEWZ_histo_full_shape\n",
    "import numpy as np\n",
    "def getFEWZ_vals(FEWZ_histo):\n",
    "    n_points = FEWZ_histo.GetNbinsX()\n",
    "    x_vals = []\n",
    "    y_vals = []\n",
    "    for i in range(n_points):\n",
    "        if i<0 or i >=42:\n",
    "            continue\n",
    "        if (FEWZ_histo.GetBinCenter(i)) < 110.0:\n",
    "            x_vals.append(110.0)\n",
    "            y_vals.append(FEWZ_histo.GetBinContent(i+1)*1.05) \n",
    "            continue\n",
    "        if (FEWZ_histo.GetBinCenter(i)) >150:\n",
    "            x_vals.append(150.0)\n",
    "            y_vals.append(FEWZ_histo.GetBinContent(i)*0.95)  \n",
    "            continue\n",
    "        x_vals.append(FEWZ_histo.GetBinCenter(i))\n",
    "        y_vals.append(FEWZ_histo.GetBinContent(i))\n",
    "    return (np.array(x_vals), np.array(y_vals))"
   ]
  },
  {
   "cell_type": "code",
   "execution_count": 114,
   "id": "e224f6af-514e-4aa9-be47-d851b14ea7c9",
   "metadata": {},
   "outputs": [
    {
     "name": "stdout",
     "output_type": "stream",
     "text": [
      "[110.  110.5 111.5 112.5 113.5 114.5 115.5 116.5 117.5 118.5 119.5 120.5\n",
      " 121.5 122.5 123.5 124.5 125.5 126.5 127.5 128.5 129.5 130.5 131.5 132.5\n",
      " 133.5 134.5 135.5 136.5 137.5 138.5 139.5 140.5 141.5 142.5 143.5 144.5\n",
      " 145.5 146.5 147.5 148.5 149.5 150. ]\n",
      "[0.06888883 0.06560841 0.05985101 0.05407571 0.05001306 0.04578032\n",
      " 0.0427122  0.03935657 0.03652706 0.03408782 0.03229583 0.02998172\n",
      " 0.02769406 0.02642185 0.02475544 0.02336045 0.02238799 0.02100063\n",
      " 0.02014974 0.01899276 0.01808521 0.01708502 0.01664578 0.01576014\n",
      " 0.01485364 0.0141665  0.01393876 0.01325116 0.01268733 0.01220556\n",
      " 0.0116554  0.01108455 0.01086104 0.01035282 0.00991412 0.00976164\n",
      " 0.00960334 0.00908779 0.00881902 0.00833113 0.00803085 0.00780209]\n"
     ]
    }
   ],
   "source": [
    "x_vals, y_vals = getFEWZ_vals(FEWZ_histo_full_shape)\n",
    "print(x_vals)\n",
    "print(y_vals)"
   ]
  },
  {
   "cell_type": "code",
   "execution_count": 115,
   "id": "8441d04b-6276-4859-a61b-6b57d1fc7610",
   "metadata": {},
   "outputs": [
    {
     "data": {
      "image/png": "[encoded data removed]",
      "text/plain": [
       "<Figure size 640x480 with 1 Axes>"
      ]
     },
     "metadata": {},
     "output_type": "display_data"
    }
   ],
   "source": [
    "histo_l = [\n",
    "    FEWZ_histo_36fb,\n",
    "    FEWZ_histo_full_xsec,\n",
    "    FEWZ_histo_full_shape,\n",
    "]\n",
    "for histo in histo_l:\n",
    "    x_vals, y_vals = getFEWZ_vals(histo)\n",
    "    y_vals = y_vals / np.sum(y_vals)\n",
    "    plt.plot(x_vals, y_vals, label = histo.GetName())\n",
    "plt.legend(loc=\"upper right\")\n",
    "plt.show()"
   ]
  },
  {
   "cell_type": "code",
   "execution_count": 94,
   "id": "f7852f6f-34ac-4487-9c1c-b250619dbbfd",
   "metadata": {},
   "outputs": [
    {
     "data": {
      "text/plain": [
       "'full_36fb'"
      ]
     },
     "execution_count": 94,
     "metadata": {},
     "output_type": "execute_result"
    }
   ],
   "source": [
    "str(FEWZ_histo_36fb.GetName())"
   ]
  },
  {
   "cell_type": "code",
   "execution_count": 73,
   "id": "0aec5eba-c2af-4704-a685-a0fe6b78e877",
   "metadata": {},
   "outputs": [
    {
     "data": {
      "text/plain": [
       "42"
      ]
     },
     "execution_count": 73,
     "metadata": {},
     "output_type": "execute_result"
    }
   ],
   "source": [
    "len(x_vals)"
   ]
  },
  {
   "cell_type": "code",
   "execution_count": 91,
   "id": "019397e5-c631-4719-969b-a9296357a4fd",
   "metadata": {},
   "outputs": [
    {
     "ename": "TypeError",
     "evalue": "unsupported operand type(s) for /: 'list' and 'float'",
     "output_type": "error",
     "traceback": [
      "\u001b[0;31m---------------------------------------------------------------------------\u001b[0m",
      "\u001b[0;31mTypeError\u001b[0m                                 Traceback (most recent call last)",
      "Cell \u001b[0;32mIn[91], line 1\u001b[0m\n\u001b[0;32m----> 1\u001b[0m \u001b[43my_vals\u001b[49m\u001b[43m \u001b[49m\u001b[38;5;241;43m/\u001b[39;49m\u001b[43m \u001b[49m\u001b[38;5;28;43msum\u001b[39;49m\u001b[43m(\u001b[49m\u001b[43my_vals\u001b[49m\u001b[43m)\u001b[49m\n",
      "\u001b[0;31mTypeError\u001b[0m: unsupported operand type(s) for /: 'list' and 'float'"
     ]
    }
   ],
   "source": [
    "y_vals "
   ]
  },
  {
   "cell_type": "code",
   "execution_count": 85,
   "id": "7c4bddbd-ea71-4316-83a5-dc2c606577e4",
   "metadata": {},
   "outputs": [
    {
     "data": {
      "text/plain": [
       "0.06888882561972971"
      ]
     },
     "execution_count": 85,
     "metadata": {},
     "output_type": "execute_result"
    }
   ],
   "source": [
    "0.06560840535212353*1.05"
   ]
  },
  {
   "cell_type": "code",
   "execution_count": null,
   "id": "4718a7fb-fb68-47b9-a5af-1c051a69c223",
   "metadata": {},
   "outputs": [],
   "source": []
  }
 ],
 "metadata": {
  "kernelspec": {
   "display_name": "Python [conda env:root632]",
   "language": "python",
   "name": "conda-env-root632-py"
  },
  "language_info": {
   "codemirror_mode": {
    "name": "ipython",
    "version": 3
   },
   "file_extension": ".py",
   "mimetype": "text/x-python",
   "name": "python",
   "nbconvert_exporter": "python",
   "pygments_lexer": "ipython3",
   "version": "3.12.4"
  }
 },
 "nbformat": 4,
 "nbformat_minor": 5
}
