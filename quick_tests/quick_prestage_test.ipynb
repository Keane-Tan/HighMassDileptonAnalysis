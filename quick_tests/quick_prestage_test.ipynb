{
 "cells": [
  {
   "cell_type": "code",
   "execution_count": 1,
   "id": "25cd84b9-8325-4184-96dd-4e38f70395e1",
   "metadata": {},
   "outputs": [],
   "source": [
    "from coffea.dataset_tools import rucio_utils\n",
    "from coffea.dataset_tools.preprocess import preprocess\n",
    "from coffea.nanoevents import NanoEventsFactory, NanoAODSchema,BaseSchema\n",
    "import awkward as ak"
   ]
  },
  {
   "cell_type": "code",
   "execution_count": 2,
   "id": "1294b9e2-c059-44a3-9626-bf3777e98450",
   "metadata": {},
   "outputs": [],
   "source": [
    "fname = \"root://eos.cms.rcac.purdue.edu:1094///store/mc/RunIISummer20UL18NanoAODv9/VBFHToMuMu_M125_TuneCP5_withDipoleRecoil_13TeV-powheg-pythia8/NANOAODSIM/106X_upgrade2018_realistic_v16_L1v1-v1/2820000/083C985C-C112-3B46-A053-D72C1F83309D.root\"\n",
    "file_input = {fname : {\"object_path\": \"Runs\"} }\n",
    "runs = NanoEventsFactory.from_root(\n",
    "                        file_input,\n",
    "                        metadata={},\n",
    "                        schemaclass=BaseSchema,\n",
    "                ).events()\n",
    "sumWeights_run = ak.sum(runs.genEventSumw).compute()"
   ]
  },
  {
   "cell_type": "code",
   "execution_count": 3,
   "id": "3c883380-04d2-4118-9b69-b02c71419934",
   "metadata": {},
   "outputs": [
    {
     "name": "stderr",
     "output_type": "stream",
     "text": [
      "/depot/cms/kernels/coffea2024/lib/python3.10/site-packages/coffea/nanoevents/methods/candidate.py:11: FutureWarning: In version 2024.7.0 (target date: 2024-06-30 11:59:59-05:00), this will be an error.\n",
      "To raise these warnings as errors (and get stack traces to find out where they're called), run\n",
      "    import warnings\n",
      "    warnings.filterwarnings(\"error\", module=\"coffea.*\")\n",
      "after the first `import coffea` or use `@pytest.mark.filterwarnings(\"error:::coffea.*\")` in pytest.\n",
      "Issue: coffea.nanoevents.methods.vector will be removed and replaced with scikit-hep vector. Nanoevents schemas internal to coffea will be migrated. Otherwise please consider using that package!.\n",
      "  from coffea.nanoevents.methods import vector\n"
     ]
    }
   ],
   "source": [
    "file_input =  {fname : {\n",
    "        \"object_path\": \"Events\", \"steps\": [[0, 77000], [77000, 154000], [154000, 231000], [231000, 308000], [308000, 385000], [385000, 462000], [462000, 539000], [539000, 616000], [616000, 693000], [693000, 770000], [770000, 847000], [847000, 924000]], \"uuid\": \"b16b5dea-fbcd-11ed-bae7-a2a0b8bcbeef\"}\n",
    "             }\n",
    "events = NanoEventsFactory.from_root(\n",
    "        file_input,\n",
    "        metadata={},\n",
    "        schemaclass=NanoAODSchema,\n",
    ").events()"
   ]
  },
  {
   "cell_type": "code",
   "execution_count": 4,
   "id": "3d701466-b5a4-4880-9bb5-5a8b53ef9077",
   "metadata": {},
   "outputs": [],
   "source": [
    "sumWeights_events = ak.sum(events.genWeight, axis=0).compute()"
   ]
  },
  {
   "cell_type": "code",
   "execution_count": 11,
   "id": "7119ca14-c4ac-4c3c-bc32-f66aab27af4c",
   "metadata": {},
   "outputs": [
    {
     "data": {
      "text/plain": [
       "3566701.5744304657"
      ]
     },
     "execution_count": 11,
     "metadata": {},
     "output_type": "execute_result"
    }
   ],
   "source": [
    "events[\"genWeight\"] = ak.values_astype(events.genWeight, \"float64\")\n",
    "# ak.sum(ak.values_astype(events.genWeight, \"float64\"), axis=0).compute()\n",
    "ak.sum(events.genWeight, axis=0).compute()"
   ]
  },
  {
   "cell_type": "code",
   "execution_count": 5,
   "id": "2b1bc44e-56c3-456c-bb1b-5658574636f0",
   "metadata": {},
   "outputs": [
    {
     "name": "stdout",
     "output_type": "stream",
     "text": [
      "sum gen weights using run method: 3566701.572599999\n",
      "sum gen weights using events method: 3565629.0\n"
     ]
    }
   ],
   "source": [
    "print(f\"sum gen weights using run method: {sumWeights_run}\")\n",
    "print(f\"sum gen weights using events method: {sumWeights_events}\")\n"
   ]
  },
  {
   "cell_type": "code",
   "execution_count": 10,
   "id": "0cb3d31d-e0dd-4317-ad00-0c4e924ee62f",
   "metadata": {},
   "outputs": [
    {
     "data": {
      "text/plain": [
       "\u001b[0;31mType:\u001b[0m            Array\n",
       "\u001b[0;31mString form:\u001b[0m     dask.awkward<genWeight, npartitions=12>\n",
       "\u001b[0;31mLength:\u001b[0m          924000\n",
       "\u001b[0;31mFile:\u001b[0m            /depot/cms/kernels/coffea2024/lib/python3.10/site-packages/dask_awkward/lib/core.py\n",
       "\u001b[0;31mDocstring:\u001b[0m       generator weight\n",
       "\u001b[0;31mClass docstring:\u001b[0m\n",
       "Partitioned, lazy, and parallel Awkward Array Dask collection.\n",
       "\n",
       "The class constructor is not intended for users. Instead use\n",
       "factory functions like :py:func:`~dask_awkward.from_parquet`,\n",
       ":py:func:`~dask_awkward.from_json`, etc.\n",
       "\n",
       "Within dask-awkward the ``new_array_object`` factory function is\n",
       "used for creating new instances."
      ]
     },
     "metadata": {},
     "output_type": "display_data"
    }
   ],
   "source": [
    "events.genWeight?"
   ]
  },
  {
   "cell_type": "code",
   "execution_count": null,
   "id": "6334243d-4802-4463-90fb-41f0dad24cca",
   "metadata": {},
   "outputs": [],
   "source": []
  }
 ],
 "metadata": {
  "kernelspec": {
   "display_name": "Python [conda env:coffea2024]",
   "language": "python",
   "name": "conda-env-coffea2024-py"
  },
  "language_info": {
   "codemirror_mode": {
    "name": "ipython",
    "version": 3
   },
   "file_extension": ".py",
   "mimetype": "text/x-python",
   "name": "python",
   "nbconvert_exporter": "python",
   "pygments_lexer": "ipython3",
   "version": "3.10.13"
  }
 },
 "nbformat": 4,
 "nbformat_minor": 5
}
