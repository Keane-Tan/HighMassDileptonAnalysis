{
 "cells": [
  {
   "cell_type": "code",
   "execution_count": 52,
   "id": "bcd1e79f-129d-4318-8dc0-0324b352bdd5",
   "metadata": {},
   "outputs": [],
   "source": [
    "import dask_awkward as dak\n",
    "import awkward as ak\n",
    "import numpy as np\n",
    "import matplotlib.pyplot as plt\n",
    "# sample = \"vbf_powheg\"\n",
    "sample = \"ggh_powheg\"\n",
    "# sample = \"dy_M-100To200\"\n",
    "# sample = \"data_A\"\n",
    "# sample = \"data_D\"\n",
    "full_load_path = f\"/depot/cms/users/yun79/valerie/fork/original/clean/copperhead_fork2/stage2_quick_validation/{sample}/*.parquet\"\n",
    "\n",
    "\n",
    "import dask.dataframe as dd\n",
    "import pandas as pd\n",
    "df_old = dd.read_parquet(full_load_path)\n"
   ]
  },
  {
   "cell_type": "code",
   "execution_count": 53,
   "id": "16f873f0-ce6a-4ddc-b8b0-1c5763ada58b",
   "metadata": {},
   "outputs": [],
   "source": [
    "# print(df_old.columns.tolist())"
   ]
  },
  {
   "cell_type": "code",
   "execution_count": 54,
   "id": "3fb8c0b7-b394-40d2-acc0-6b0368d2b05e",
   "metadata": {
    "scrolled": true
   },
   "outputs": [],
   "source": [
    "region = df_old.region.compute()\n"
   ]
  },
  {
   "cell_type": "code",
   "execution_count": 55,
   "id": "8a24fea0-ffbf-428a-9a38-4977678e5431",
   "metadata": {},
   "outputs": [
    {
     "name": "stdout",
     "output_type": "stream",
     "text": [
      "0.9775999188423157\n",
      "4.877048240814474e-07\n"
     ]
    }
   ],
   "source": [
    "scores = df_old.score_ggHnew_2018_nominal.compute()\n",
    "print(np.max(scores))\n",
    "print(np.min(scores))"
   ]
  },
  {
   "cell_type": "code",
   "execution_count": 5,
   "id": "4d1047a7-2b36-4963-8605-6464aea8d995",
   "metadata": {},
   "outputs": [],
   "source": [
    "binning_map = {\n",
    "    \"score_ggHnew_2018_nominal\" : [0, 1, 50],\n",
    "}"
   ]
  },
  {
   "cell_type": "code",
   "execution_count": 6,
   "id": "1d868c95-9b10-4993-85d5-b0903a96a2bc",
   "metadata": {},
   "outputs": [
    {
     "data": {
      "image/png": "[encoded data removed]",
      "text/plain": [
       "<Figure size 640x480 with 1 Axes>"
      ]
     },
     "metadata": {},
     "output_type": "display_data"
    }
   ],
   "source": [
    "binning = np.linspace(*binning_map[\"score_ggHnew_2018_nominal\"])\n",
    "\n",
    "hist_old, edges = np.histogram(scores, bins=binning)\n",
    "\n",
    "\n",
    "plt.stairs(hist_old, edges, label = \"df_old\")\n",
    "plt.legend(loc=\"upper right\")\n",
    "plt.show()"
   ]
  },
  {
   "cell_type": "code",
   "execution_count": 56,
   "id": "ea2f2565-0410-47e2-8a05-b593eb8fc1e0",
   "metadata": {},
   "outputs": [],
   "source": [
    "csv_path =  \"/depot/cms/hmm/vscheure/v9withRun3/stage2_output/2018/ggh_powheg/ggh_powheg.csv\"\n",
    "df_valerie = pd.read_csv(csv_path)"
   ]
  },
  {
   "cell_type": "code",
   "execution_count": 57,
   "id": "2f7d39a0-2c82-438b-85b6-6802a46b67ce",
   "metadata": {},
   "outputs": [
    {
     "data": {
      "text/plain": [
       "622220"
      ]
     },
     "execution_count": 57,
     "metadata": {},
     "output_type": "execute_result"
    }
   ],
   "source": [
    "len(df_valerie)"
   ]
  },
  {
   "cell_type": "code",
   "execution_count": 58,
   "id": "977d0c26-39e7-4e57-9039-cae0a0d9eaf3",
   "metadata": {},
   "outputs": [
    {
     "data": {
      "text/plain": [
       "595994"
      ]
     },
     "execution_count": 58,
     "metadata": {},
     "output_type": "execute_result"
    }
   ],
   "source": [
    "len(scores)"
   ]
  },
  {
   "cell_type": "code",
   "execution_count": 11,
   "id": "50207c50-9754-4483-b8e9-5603e2bb5053",
   "metadata": {},
   "outputs": [
    {
     "data": {
      "text/html": [
       "<div>\n",
       "<style scoped>\n",
       "    .dataframe tbody tr th:only-of-type {\n",
       "        vertical-align: middle;\n",
       "    }\n",
       "\n",
       "    .dataframe tbody tr th {\n",
       "        vertical-align: top;\n",
       "    }\n",
       "\n",
       "    .dataframe thead th {\n",
       "        text-align: right;\n",
       "    }\n",
       "</style>\n",
       "<table border=\"1\" class=\"dataframe\">\n",
       "  <thead>\n",
       "    <tr style=\"text-align: right;\">\n",
       "      <th></th>\n",
       "      <th>entry</th>\n",
       "      <th>dataset</th>\n",
       "      <th>region</th>\n",
       "      <th>channel_nominal</th>\n",
       "      <th>category</th>\n",
       "      <th>dimuon_mass</th>\n",
       "      <th>score_ggHnew_2018_nominal</th>\n",
       "      <th>wgt_nominal</th>\n",
       "    </tr>\n",
       "  </thead>\n",
       "  <tbody>\n",
       "    <tr>\n",
       "      <th>0</th>\n",
       "      <td>2</td>\n",
       "      <td>ggh_powheg</td>\n",
       "      <td>h-peak</td>\n",
       "      <td>ggh</td>\n",
       "      <td>All</td>\n",
       "      <td>126.358860</td>\n",
       "      <td>0.453473</td>\n",
       "      <td>0.000594</td>\n",
       "    </tr>\n",
       "    <tr>\n",
       "      <th>1</th>\n",
       "      <td>6</td>\n",
       "      <td>ggh_powheg</td>\n",
       "      <td>h-peak</td>\n",
       "      <td>ggh</td>\n",
       "      <td>All</td>\n",
       "      <td>126.172405</td>\n",
       "      <td>0.293614</td>\n",
       "      <td>0.000756</td>\n",
       "    </tr>\n",
       "    <tr>\n",
       "      <th>2</th>\n",
       "      <td>7</td>\n",
       "      <td>ggh_powheg</td>\n",
       "      <td>h-peak</td>\n",
       "      <td>ggh</td>\n",
       "      <td>All</td>\n",
       "      <td>124.239132</td>\n",
       "      <td>0.599458</td>\n",
       "      <td>0.000591</td>\n",
       "    </tr>\n",
       "    <tr>\n",
       "      <th>3</th>\n",
       "      <td>8</td>\n",
       "      <td>ggh_powheg</td>\n",
       "      <td>h-peak</td>\n",
       "      <td>ggh</td>\n",
       "      <td>All</td>\n",
       "      <td>123.407955</td>\n",
       "      <td>0.710822</td>\n",
       "      <td>0.000597</td>\n",
       "    </tr>\n",
       "    <tr>\n",
       "      <th>4</th>\n",
       "      <td>14</td>\n",
       "      <td>ggh_powheg</td>\n",
       "      <td>h-peak</td>\n",
       "      <td>ggh</td>\n",
       "      <td>All</td>\n",
       "      <td>124.892743</td>\n",
       "      <td>0.489720</td>\n",
       "      <td>0.000571</td>\n",
       "    </tr>\n",
       "  </tbody>\n",
       "</table>\n",
       "</div>"
      ],
      "text/plain": [
       "   entry     dataset  region channel_nominal category  dimuon_mass  \\\n",
       "0      2  ggh_powheg  h-peak             ggh      All   126.358860   \n",
       "1      6  ggh_powheg  h-peak             ggh      All   126.172405   \n",
       "2      7  ggh_powheg  h-peak             ggh      All   124.239132   \n",
       "3      8  ggh_powheg  h-peak             ggh      All   123.407955   \n",
       "4     14  ggh_powheg  h-peak             ggh      All   124.892743   \n",
       "\n",
       "   score_ggHnew_2018_nominal  wgt_nominal  \n",
       "0                   0.453473     0.000594  \n",
       "1                   0.293614     0.000756  \n",
       "2                   0.599458     0.000591  \n",
       "3                   0.710822     0.000597  \n",
       "4                   0.489720     0.000571  "
      ]
     },
     "execution_count": 11,
     "metadata": {},
     "output_type": "execute_result"
    }
   ],
   "source": [
    "df_valerie.head()"
   ]
  },
  {
   "cell_type": "code",
   "execution_count": 12,
   "id": "03e0c531-e6f4-4bb8-a2c6-de48f51bcb7f",
   "metadata": {},
   "outputs": [],
   "source": [
    "df_zpeak = df_valerie[~((df_valerie.region == \"h-peak\") | (df_valerie.region == \"h-sidebands\"))]\n"
   ]
  },
  {
   "cell_type": "code",
   "execution_count": 13,
   "id": "129f1424-2936-495f-a6ff-6e2754cb59b8",
   "metadata": {
    "scrolled": true
   },
   "outputs": [
    {
     "data": {
      "text/html": [
       "<div>\n",
       "<style scoped>\n",
       "    .dataframe tbody tr th:only-of-type {\n",
       "        vertical-align: middle;\n",
       "    }\n",
       "\n",
       "    .dataframe tbody tr th {\n",
       "        vertical-align: top;\n",
       "    }\n",
       "\n",
       "    .dataframe thead th {\n",
       "        text-align: right;\n",
       "    }\n",
       "</style>\n",
       "<table border=\"1\" class=\"dataframe\">\n",
       "  <thead>\n",
       "    <tr style=\"text-align: right;\">\n",
       "      <th></th>\n",
       "      <th>entry</th>\n",
       "      <th>dataset</th>\n",
       "      <th>region</th>\n",
       "      <th>channel_nominal</th>\n",
       "      <th>category</th>\n",
       "      <th>dimuon_mass</th>\n",
       "      <th>score_ggHnew_2018_nominal</th>\n",
       "      <th>wgt_nominal</th>\n",
       "    </tr>\n",
       "  </thead>\n",
       "  <tbody>\n",
       "    <tr>\n",
       "      <th>81</th>\n",
       "      <td>137</td>\n",
       "      <td>ggh_powheg</td>\n",
       "      <td>z-peak</td>\n",
       "      <td>ggh</td>\n",
       "      <td>All</td>\n",
       "      <td>94.474872</td>\n",
       "      <td>0.033268</td>\n",
       "      <td>0.000516</td>\n",
       "    </tr>\n",
       "    <tr>\n",
       "      <th>125</th>\n",
       "      <td>212</td>\n",
       "      <td>ggh_powheg</td>\n",
       "      <td>z-peak</td>\n",
       "      <td>ggh</td>\n",
       "      <td>All</td>\n",
       "      <td>103.933244</td>\n",
       "      <td>0.444499</td>\n",
       "      <td>0.000596</td>\n",
       "    </tr>\n",
       "    <tr>\n",
       "      <th>148</th>\n",
       "      <td>260</td>\n",
       "      <td>ggh_powheg</td>\n",
       "      <td>z-peak</td>\n",
       "      <td>ggh</td>\n",
       "      <td>All</td>\n",
       "      <td>102.805174</td>\n",
       "      <td>0.311467</td>\n",
       "      <td>0.000623</td>\n",
       "    </tr>\n",
       "    <tr>\n",
       "      <th>288</th>\n",
       "      <td>476</td>\n",
       "      <td>ggh_powheg</td>\n",
       "      <td>z-peak</td>\n",
       "      <td>ggh</td>\n",
       "      <td>All</td>\n",
       "      <td>102.718358</td>\n",
       "      <td>0.377356</td>\n",
       "      <td>0.000602</td>\n",
       "    </tr>\n",
       "    <tr>\n",
       "      <th>371</th>\n",
       "      <td>615</td>\n",
       "      <td>ggh_powheg</td>\n",
       "      <td>z-peak</td>\n",
       "      <td>ggh</td>\n",
       "      <td>All</td>\n",
       "      <td>100.759409</td>\n",
       "      <td>0.045346</td>\n",
       "      <td>-0.000589</td>\n",
       "    </tr>\n",
       "    <tr>\n",
       "      <th>...</th>\n",
       "      <td>...</td>\n",
       "      <td>...</td>\n",
       "      <td>...</td>\n",
       "      <td>...</td>\n",
       "      <td>...</td>\n",
       "      <td>...</td>\n",
       "      <td>...</td>\n",
       "      <td>...</td>\n",
       "    </tr>\n",
       "    <tr>\n",
       "      <th>621811</th>\n",
       "      <td>99186</td>\n",
       "      <td>ggh_powheg</td>\n",
       "      <td>z-peak</td>\n",
       "      <td>ggh</td>\n",
       "      <td>All</td>\n",
       "      <td>96.272526</td>\n",
       "      <td>0.100361</td>\n",
       "      <td>0.000784</td>\n",
       "    </tr>\n",
       "    <tr>\n",
       "      <th>621817</th>\n",
       "      <td>99195</td>\n",
       "      <td>ggh_powheg</td>\n",
       "      <td>z-peak</td>\n",
       "      <td>ggh</td>\n",
       "      <td>All</td>\n",
       "      <td>105.250944</td>\n",
       "      <td>0.149580</td>\n",
       "      <td>0.000633</td>\n",
       "    </tr>\n",
       "    <tr>\n",
       "      <th>621854</th>\n",
       "      <td>99262</td>\n",
       "      <td>ggh_powheg</td>\n",
       "      <td>z-peak</td>\n",
       "      <td>ggh</td>\n",
       "      <td>All</td>\n",
       "      <td>88.313872</td>\n",
       "      <td>0.252273</td>\n",
       "      <td>0.000845</td>\n",
       "    </tr>\n",
       "    <tr>\n",
       "      <th>622126</th>\n",
       "      <td>99742</td>\n",
       "      <td>ggh_powheg</td>\n",
       "      <td>z-peak</td>\n",
       "      <td>ggh</td>\n",
       "      <td>All</td>\n",
       "      <td>99.870922</td>\n",
       "      <td>0.036618</td>\n",
       "      <td>0.000740</td>\n",
       "    </tr>\n",
       "    <tr>\n",
       "      <th>622143</th>\n",
       "      <td>99769</td>\n",
       "      <td>ggh_powheg</td>\n",
       "      <td>z-peak</td>\n",
       "      <td>ggh</td>\n",
       "      <td>All</td>\n",
       "      <td>100.458528</td>\n",
       "      <td>0.001370</td>\n",
       "      <td>0.000511</td>\n",
       "    </tr>\n",
       "  </tbody>\n",
       "</table>\n",
       "<p>9744 rows × 8 columns</p>\n",
       "</div>"
      ],
      "text/plain": [
       "        entry     dataset  region channel_nominal category  dimuon_mass  \\\n",
       "81        137  ggh_powheg  z-peak             ggh      All    94.474872   \n",
       "125       212  ggh_powheg  z-peak             ggh      All   103.933244   \n",
       "148       260  ggh_powheg  z-peak             ggh      All   102.805174   \n",
       "288       476  ggh_powheg  z-peak             ggh      All   102.718358   \n",
       "371       615  ggh_powheg  z-peak             ggh      All   100.759409   \n",
       "...       ...         ...     ...             ...      ...          ...   \n",
       "621811  99186  ggh_powheg  z-peak             ggh      All    96.272526   \n",
       "621817  99195  ggh_powheg  z-peak             ggh      All   105.250944   \n",
       "621854  99262  ggh_powheg  z-peak             ggh      All    88.313872   \n",
       "622126  99742  ggh_powheg  z-peak             ggh      All    99.870922   \n",
       "622143  99769  ggh_powheg  z-peak             ggh      All   100.458528   \n",
       "\n",
       "        score_ggHnew_2018_nominal  wgt_nominal  \n",
       "81                       0.033268     0.000516  \n",
       "125                      0.444499     0.000596  \n",
       "148                      0.311467     0.000623  \n",
       "288                      0.377356     0.000602  \n",
       "371                      0.045346    -0.000589  \n",
       "...                           ...          ...  \n",
       "621811                   0.100361     0.000784  \n",
       "621817                   0.149580     0.000633  \n",
       "621854                   0.252273     0.000845  \n",
       "622126                   0.036618     0.000740  \n",
       "622143                   0.001370     0.000511  \n",
       "\n",
       "[9744 rows x 8 columns]"
      ]
     },
     "execution_count": 13,
     "metadata": {},
     "output_type": "execute_result"
    }
   ],
   "source": [
    "df_zpeak"
   ]
  },
  {
   "cell_type": "code",
   "execution_count": 14,
   "id": "6269ab37-e321-4791-b3c1-6af07599c5fb",
   "metadata": {},
   "outputs": [
    {
     "data": {
      "text/plain": [
       "entry\n",
       "2     126.358860\n",
       "6     126.172405\n",
       "7     124.239132\n",
       "8     123.407955\n",
       "14    124.892743\n",
       "Name: dimuon_mass, dtype: float64"
      ]
     },
     "execution_count": 14,
     "metadata": {},
     "output_type": "execute_result"
    }
   ],
   "source": [
    "sub_cat = df_old.dimuon_mass.compute()[:5]\n",
    "sub_cat"
   ]
  },
  {
   "cell_type": "code",
   "execution_count": 59,
   "id": "c11a2d91-8936-45cc-a9b4-96a76574f251",
   "metadata": {},
   "outputs": [],
   "source": [
    "scores_sigRegion = scores[(region == \"h-peak\") | (region == \"h-sidebands\")]"
   ]
  },
  {
   "cell_type": "code",
   "execution_count": 60,
   "id": "2357a157-2bdb-4d83-a3d6-34039831badb",
   "metadata": {},
   "outputs": [
    {
     "data": {
      "text/plain": [
       "586656"
      ]
     },
     "execution_count": 60,
     "metadata": {},
     "output_type": "execute_result"
    }
   ],
   "source": [
    "len(scores_sigRegion)"
   ]
  },
  {
   "cell_type": "code",
   "execution_count": 17,
   "id": "941a461e-e3c4-404a-8e68-15a5f915033f",
   "metadata": {},
   "outputs": [],
   "source": [
    "scores_val = df_valerie[\"score_ggHnew_2018_nominal\"]"
   ]
  },
  {
   "cell_type": "code",
   "execution_count": 61,
   "id": "81e738af-b36d-4a2e-bcda-eec613bb9e07",
   "metadata": {},
   "outputs": [
    {
     "data": {
      "image/png": "[encoded data removed]",
      "text/plain": [
       "<Figure size 640x480 with 1 Axes>"
      ]
     },
     "metadata": {},
     "output_type": "display_data"
    },
    {
     "data": {
      "image/png": "[encoded data removed]",
      "text/plain": [
       "<Figure size 640x480 with 1 Axes>"
      ]
     },
     "metadata": {},
     "output_type": "display_data"
    },
    {
     "data": {
      "text/plain": [
       "<Figure size 640x480 with 0 Axes>"
      ]
     },
     "metadata": {},
     "output_type": "display_data"
    }
   ],
   "source": [
    "binning = np.linspace(*binning_map[\"score_ggHnew_2018_nominal\"])\n",
    "\n",
    "histV1_Yun, edges = np.histogram(scores, bins=binning)\n",
    "df_ggh = df_valerie[(df_valerie.channel_nominal == \"ggh\")]\n",
    "scores_val = df_ggh[\"score_ggHnew_2018_nominal\"]\n",
    "histV1_val, _ = np.histogram(scores_val, bins=binning)\n",
    "\n",
    "\n",
    "plt.stairs(histV1_Yun, edges, label = \"V1 Yun\")\n",
    "plt.stairs(histV1_val, edges, label = \"V1 Valerie\")\n",
    "plt.legend(loc=\"upper right\")\n",
    "plt.show()\n",
    "# plt.savefig(\"../validation/stage2_validation.pdf\")\n",
    "plt.clf()\n",
    "plt.stairs(histV1_Yun-histV1_val, edges, label = \"V1 Yun-Val\")\n",
    "plt.legend(loc=\"upper right\")\n",
    "plt.show()\n",
    "# plt.savefig(\"../validation/stage2_validationV1diffs.pdf\")\n",
    "plt.clf()\n"
   ]
  },
  {
   "cell_type": "code",
   "execution_count": 23,
   "id": "975f737d-ee20-4c56-b9e9-63c06121d46e",
   "metadata": {},
   "outputs": [
    {
     "data": {
      "text/plain": [
       "4.877048240814474e-07"
      ]
     },
     "execution_count": 23,
     "metadata": {},
     "output_type": "execute_result"
    }
   ],
   "source": [
    "np.min(scores_val)"
   ]
  },
  {
   "cell_type": "code",
   "execution_count": 24,
   "id": "4d1f756e-1379-490a-af1d-48af80616963",
   "metadata": {},
   "outputs": [
    {
     "data": {
      "text/plain": [
       "622220"
      ]
     },
     "execution_count": 24,
     "metadata": {},
     "output_type": "execute_result"
    }
   ],
   "source": [
    "len(scores_val)"
   ]
  },
  {
   "cell_type": "code",
   "execution_count": 26,
   "id": "7aa838f4-f3f3-420f-8933-953d502e20ce",
   "metadata": {},
   "outputs": [
    {
     "data": {
      "text/plain": [
       "entry\n",
       "2        0.453473\n",
       "6        0.293614\n",
       "7        0.599458\n",
       "8        0.710822\n",
       "14       0.489720\n",
       "           ...   \n",
       "99890    0.435234\n",
       "99891    0.587142\n",
       "99892    0.440764\n",
       "99896    0.372064\n",
       "99898    0.347489\n",
       "Name: score_ggHnew_2018_nominal, Length: 595013, dtype: float64"
      ]
     },
     "execution_count": 26,
     "metadata": {},
     "output_type": "execute_result"
    }
   ],
   "source": [
    "scores"
   ]
  },
  {
   "cell_type": "code",
   "execution_count": 36,
   "id": "b0f88da9-2866-4246-9706-c3f7c4295d39",
   "metadata": {},
   "outputs": [
    {
     "data": {
      "text/plain": [
       "622220"
      ]
     },
     "execution_count": 36,
     "metadata": {},
     "output_type": "execute_result"
    }
   ],
   "source": [
    "len(df_valerie)"
   ]
  },
  {
   "cell_type": "code",
   "execution_count": 37,
   "id": "c43f2712-61d1-4741-99fa-6e08a5307ae3",
   "metadata": {},
   "outputs": [
    {
     "data": {
      "text/html": [
       "<div>\n",
       "<style scoped>\n",
       "    .dataframe tbody tr th:only-of-type {\n",
       "        vertical-align: middle;\n",
       "    }\n",
       "\n",
       "    .dataframe tbody tr th {\n",
       "        vertical-align: top;\n",
       "    }\n",
       "\n",
       "    .dataframe thead th {\n",
       "        text-align: right;\n",
       "    }\n",
       "</style>\n",
       "<table border=\"1\" class=\"dataframe\">\n",
       "  <thead>\n",
       "    <tr style=\"text-align: right;\">\n",
       "      <th></th>\n",
       "      <th>entry</th>\n",
       "      <th>dataset</th>\n",
       "      <th>region</th>\n",
       "      <th>channel_nominal</th>\n",
       "      <th>category</th>\n",
       "      <th>dimuon_mass</th>\n",
       "      <th>score_ggHnew_2018_nominal</th>\n",
       "      <th>wgt_nominal</th>\n",
       "    </tr>\n",
       "  </thead>\n",
       "  <tbody>\n",
       "    <tr>\n",
       "      <th>0</th>\n",
       "      <td>2</td>\n",
       "      <td>ggh_powheg</td>\n",
       "      <td>h-peak</td>\n",
       "      <td>ggh</td>\n",
       "      <td>All</td>\n",
       "      <td>126.358860</td>\n",
       "      <td>0.453473</td>\n",
       "      <td>0.000594</td>\n",
       "    </tr>\n",
       "    <tr>\n",
       "      <th>1</th>\n",
       "      <td>6</td>\n",
       "      <td>ggh_powheg</td>\n",
       "      <td>h-peak</td>\n",
       "      <td>ggh</td>\n",
       "      <td>All</td>\n",
       "      <td>126.172405</td>\n",
       "      <td>0.293614</td>\n",
       "      <td>0.000756</td>\n",
       "    </tr>\n",
       "    <tr>\n",
       "      <th>2</th>\n",
       "      <td>7</td>\n",
       "      <td>ggh_powheg</td>\n",
       "      <td>h-peak</td>\n",
       "      <td>ggh</td>\n",
       "      <td>All</td>\n",
       "      <td>124.239132</td>\n",
       "      <td>0.599458</td>\n",
       "      <td>0.000591</td>\n",
       "    </tr>\n",
       "    <tr>\n",
       "      <th>3</th>\n",
       "      <td>8</td>\n",
       "      <td>ggh_powheg</td>\n",
       "      <td>h-peak</td>\n",
       "      <td>ggh</td>\n",
       "      <td>All</td>\n",
       "      <td>123.407955</td>\n",
       "      <td>0.710822</td>\n",
       "      <td>0.000597</td>\n",
       "    </tr>\n",
       "    <tr>\n",
       "      <th>4</th>\n",
       "      <td>14</td>\n",
       "      <td>ggh_powheg</td>\n",
       "      <td>h-peak</td>\n",
       "      <td>ggh</td>\n",
       "      <td>All</td>\n",
       "      <td>124.892743</td>\n",
       "      <td>0.489720</td>\n",
       "      <td>0.000571</td>\n",
       "    </tr>\n",
       "    <tr>\n",
       "      <th>...</th>\n",
       "      <td>...</td>\n",
       "      <td>...</td>\n",
       "      <td>...</td>\n",
       "      <td>...</td>\n",
       "      <td>...</td>\n",
       "      <td>...</td>\n",
       "      <td>...</td>\n",
       "      <td>...</td>\n",
       "    </tr>\n",
       "    <tr>\n",
       "      <th>622215</th>\n",
       "      <td>99891</td>\n",
       "      <td>ggh_powheg</td>\n",
       "      <td>h-peak</td>\n",
       "      <td>ggh</td>\n",
       "      <td>All</td>\n",
       "      <td>126.336090</td>\n",
       "      <td>0.227753</td>\n",
       "      <td>0.000681</td>\n",
       "    </tr>\n",
       "    <tr>\n",
       "      <th>622216</th>\n",
       "      <td>99893</td>\n",
       "      <td>ggh_powheg</td>\n",
       "      <td>h-peak</td>\n",
       "      <td>ggh</td>\n",
       "      <td>All</td>\n",
       "      <td>125.246460</td>\n",
       "      <td>0.292824</td>\n",
       "      <td>0.000658</td>\n",
       "    </tr>\n",
       "    <tr>\n",
       "      <th>622217</th>\n",
       "      <td>99894</td>\n",
       "      <td>ggh_powheg</td>\n",
       "      <td>h-peak</td>\n",
       "      <td>ggh</td>\n",
       "      <td>All</td>\n",
       "      <td>125.827095</td>\n",
       "      <td>0.271237</td>\n",
       "      <td>0.000536</td>\n",
       "    </tr>\n",
       "    <tr>\n",
       "      <th>622218</th>\n",
       "      <td>99897</td>\n",
       "      <td>ggh_powheg</td>\n",
       "      <td>h-peak</td>\n",
       "      <td>ggh</td>\n",
       "      <td>All</td>\n",
       "      <td>126.316742</td>\n",
       "      <td>0.606424</td>\n",
       "      <td>0.000553</td>\n",
       "    </tr>\n",
       "    <tr>\n",
       "      <th>622219</th>\n",
       "      <td>99898</td>\n",
       "      <td>ggh_powheg</td>\n",
       "      <td>h-peak</td>\n",
       "      <td>ggh</td>\n",
       "      <td>All</td>\n",
       "      <td>123.846740</td>\n",
       "      <td>0.581425</td>\n",
       "      <td>0.000596</td>\n",
       "    </tr>\n",
       "  </tbody>\n",
       "</table>\n",
       "<p>622220 rows × 8 columns</p>\n",
       "</div>"
      ],
      "text/plain": [
       "        entry     dataset  region channel_nominal category  dimuon_mass  \\\n",
       "0           2  ggh_powheg  h-peak             ggh      All   126.358860   \n",
       "1           6  ggh_powheg  h-peak             ggh      All   126.172405   \n",
       "2           7  ggh_powheg  h-peak             ggh      All   124.239132   \n",
       "3           8  ggh_powheg  h-peak             ggh      All   123.407955   \n",
       "4          14  ggh_powheg  h-peak             ggh      All   124.892743   \n",
       "...       ...         ...     ...             ...      ...          ...   \n",
       "622215  99891  ggh_powheg  h-peak             ggh      All   126.336090   \n",
       "622216  99893  ggh_powheg  h-peak             ggh      All   125.246460   \n",
       "622217  99894  ggh_powheg  h-peak             ggh      All   125.827095   \n",
       "622218  99897  ggh_powheg  h-peak             ggh      All   126.316742   \n",
       "622219  99898  ggh_powheg  h-peak             ggh      All   123.846740   \n",
       "\n",
       "        score_ggHnew_2018_nominal  wgt_nominal  \n",
       "0                        0.453473     0.000594  \n",
       "1                        0.293614     0.000756  \n",
       "2                        0.599458     0.000591  \n",
       "3                        0.710822     0.000597  \n",
       "4                        0.489720     0.000571  \n",
       "...                           ...          ...  \n",
       "622215                   0.227753     0.000681  \n",
       "622216                   0.292824     0.000658  \n",
       "622217                   0.271237     0.000536  \n",
       "622218                   0.606424     0.000553  \n",
       "622219                   0.581425     0.000596  \n",
       "\n",
       "[622220 rows x 8 columns]"
      ]
     },
     "execution_count": 37,
     "metadata": {},
     "output_type": "execute_result"
    }
   ],
   "source": [
    "df_valerie"
   ]
  },
  {
   "cell_type": "code",
   "execution_count": 44,
   "id": "d4af34d6-9f06-460d-b140-24e2e6bcf552",
   "metadata": {},
   "outputs": [],
   "source": [
    "df_ggh = df_valerie[(df_valerie.channel_nominal == \"ggh\")]"
   ]
  },
  {
   "cell_type": "code",
   "execution_count": 50,
   "id": "9d0cf544-e6e8-4243-8ae9-eb924fb3f33d",
   "metadata": {},
   "outputs": [
    {
     "data": {
      "text/html": [
       "<div>\n",
       "<style scoped>\n",
       "    .dataframe tbody tr th:only-of-type {\n",
       "        vertical-align: middle;\n",
       "    }\n",
       "\n",
       "    .dataframe tbody tr th {\n",
       "        vertical-align: top;\n",
       "    }\n",
       "\n",
       "    .dataframe thead th {\n",
       "        text-align: right;\n",
       "    }\n",
       "</style>\n",
       "<table border=\"1\" class=\"dataframe\">\n",
       "  <thead>\n",
       "    <tr style=\"text-align: right;\">\n",
       "      <th></th>\n",
       "      <th>entry</th>\n",
       "      <th>dataset</th>\n",
       "      <th>region</th>\n",
       "      <th>channel_nominal</th>\n",
       "      <th>category</th>\n",
       "      <th>dimuon_mass</th>\n",
       "      <th>score_ggHnew_2018_nominal</th>\n",
       "      <th>wgt_nominal</th>\n",
       "    </tr>\n",
       "  </thead>\n",
       "  <tbody>\n",
       "    <tr>\n",
       "      <th>0</th>\n",
       "      <td>2</td>\n",
       "      <td>ggh_powheg</td>\n",
       "      <td>h-peak</td>\n",
       "      <td>ggh</td>\n",
       "      <td>All</td>\n",
       "      <td>126.358860</td>\n",
       "      <td>0.453473</td>\n",
       "      <td>0.000594</td>\n",
       "    </tr>\n",
       "    <tr>\n",
       "      <th>1</th>\n",
       "      <td>6</td>\n",
       "      <td>ggh_powheg</td>\n",
       "      <td>h-peak</td>\n",
       "      <td>ggh</td>\n",
       "      <td>All</td>\n",
       "      <td>126.172405</td>\n",
       "      <td>0.293614</td>\n",
       "      <td>0.000756</td>\n",
       "    </tr>\n",
       "    <tr>\n",
       "      <th>2</th>\n",
       "      <td>7</td>\n",
       "      <td>ggh_powheg</td>\n",
       "      <td>h-peak</td>\n",
       "      <td>ggh</td>\n",
       "      <td>All</td>\n",
       "      <td>124.239132</td>\n",
       "      <td>0.599458</td>\n",
       "      <td>0.000591</td>\n",
       "    </tr>\n",
       "    <tr>\n",
       "      <th>3</th>\n",
       "      <td>8</td>\n",
       "      <td>ggh_powheg</td>\n",
       "      <td>h-peak</td>\n",
       "      <td>ggh</td>\n",
       "      <td>All</td>\n",
       "      <td>123.407955</td>\n",
       "      <td>0.710822</td>\n",
       "      <td>0.000597</td>\n",
       "    </tr>\n",
       "    <tr>\n",
       "      <th>4</th>\n",
       "      <td>14</td>\n",
       "      <td>ggh_powheg</td>\n",
       "      <td>h-peak</td>\n",
       "      <td>ggh</td>\n",
       "      <td>All</td>\n",
       "      <td>124.892743</td>\n",
       "      <td>0.489720</td>\n",
       "      <td>0.000571</td>\n",
       "    </tr>\n",
       "    <tr>\n",
       "      <th>...</th>\n",
       "      <td>...</td>\n",
       "      <td>...</td>\n",
       "      <td>...</td>\n",
       "      <td>...</td>\n",
       "      <td>...</td>\n",
       "      <td>...</td>\n",
       "      <td>...</td>\n",
       "      <td>...</td>\n",
       "    </tr>\n",
       "    <tr>\n",
       "      <th>622215</th>\n",
       "      <td>99891</td>\n",
       "      <td>ggh_powheg</td>\n",
       "      <td>h-peak</td>\n",
       "      <td>ggh</td>\n",
       "      <td>All</td>\n",
       "      <td>126.336090</td>\n",
       "      <td>0.227753</td>\n",
       "      <td>0.000681</td>\n",
       "    </tr>\n",
       "    <tr>\n",
       "      <th>622216</th>\n",
       "      <td>99893</td>\n",
       "      <td>ggh_powheg</td>\n",
       "      <td>h-peak</td>\n",
       "      <td>ggh</td>\n",
       "      <td>All</td>\n",
       "      <td>125.246460</td>\n",
       "      <td>0.292824</td>\n",
       "      <td>0.000658</td>\n",
       "    </tr>\n",
       "    <tr>\n",
       "      <th>622217</th>\n",
       "      <td>99894</td>\n",
       "      <td>ggh_powheg</td>\n",
       "      <td>h-peak</td>\n",
       "      <td>ggh</td>\n",
       "      <td>All</td>\n",
       "      <td>125.827095</td>\n",
       "      <td>0.271237</td>\n",
       "      <td>0.000536</td>\n",
       "    </tr>\n",
       "    <tr>\n",
       "      <th>622218</th>\n",
       "      <td>99897</td>\n",
       "      <td>ggh_powheg</td>\n",
       "      <td>h-peak</td>\n",
       "      <td>ggh</td>\n",
       "      <td>All</td>\n",
       "      <td>126.316742</td>\n",
       "      <td>0.606424</td>\n",
       "      <td>0.000553</td>\n",
       "    </tr>\n",
       "    <tr>\n",
       "      <th>622219</th>\n",
       "      <td>99898</td>\n",
       "      <td>ggh_powheg</td>\n",
       "      <td>h-peak</td>\n",
       "      <td>ggh</td>\n",
       "      <td>All</td>\n",
       "      <td>123.846740</td>\n",
       "      <td>0.581425</td>\n",
       "      <td>0.000596</td>\n",
       "    </tr>\n",
       "  </tbody>\n",
       "</table>\n",
       "<p>595013 rows × 8 columns</p>\n",
       "</div>"
      ],
      "text/plain": [
       "        entry     dataset  region channel_nominal category  dimuon_mass  \\\n",
       "0           2  ggh_powheg  h-peak             ggh      All   126.358860   \n",
       "1           6  ggh_powheg  h-peak             ggh      All   126.172405   \n",
       "2           7  ggh_powheg  h-peak             ggh      All   124.239132   \n",
       "3           8  ggh_powheg  h-peak             ggh      All   123.407955   \n",
       "4          14  ggh_powheg  h-peak             ggh      All   124.892743   \n",
       "...       ...         ...     ...             ...      ...          ...   \n",
       "622215  99891  ggh_powheg  h-peak             ggh      All   126.336090   \n",
       "622216  99893  ggh_powheg  h-peak             ggh      All   125.246460   \n",
       "622217  99894  ggh_powheg  h-peak             ggh      All   125.827095   \n",
       "622218  99897  ggh_powheg  h-peak             ggh      All   126.316742   \n",
       "622219  99898  ggh_powheg  h-peak             ggh      All   123.846740   \n",
       "\n",
       "        score_ggHnew_2018_nominal  wgt_nominal  \n",
       "0                        0.453473     0.000594  \n",
       "1                        0.293614     0.000756  \n",
       "2                        0.599458     0.000591  \n",
       "3                        0.710822     0.000597  \n",
       "4                        0.489720     0.000571  \n",
       "...                           ...          ...  \n",
       "622215                   0.227753     0.000681  \n",
       "622216                   0.292824     0.000658  \n",
       "622217                   0.271237     0.000536  \n",
       "622218                   0.606424     0.000553  \n",
       "622219                   0.581425     0.000596  \n",
       "\n",
       "[595013 rows x 8 columns]"
      ]
     },
     "execution_count": 50,
     "metadata": {},
     "output_type": "execute_result"
    }
   ],
   "source": [
    "df_ggh"
   ]
  },
  {
   "cell_type": "code",
   "execution_count": 45,
   "id": "457b3a7b-6048-47e7-a119-4bb76a179352",
   "metadata": {},
   "outputs": [
    {
     "data": {
      "text/plain": [
       "595013"
      ]
     },
     "execution_count": 45,
     "metadata": {},
     "output_type": "execute_result"
    }
   ],
   "source": [
    "len(df_ggh)"
   ]
  },
  {
   "cell_type": "code",
   "execution_count": 46,
   "id": "3e2e3ed8-bd89-436a-a93a-cc197598a3da",
   "metadata": {},
   "outputs": [],
   "source": [
    "df_vbf = df_valerie[~(df_valerie.channel_nominal == \"ggh\")]"
   ]
  },
  {
   "cell_type": "code",
   "execution_count": 47,
   "id": "f0a417a9-ba12-4787-bfa2-f3f19fa0103b",
   "metadata": {},
   "outputs": [
    {
     "data": {
      "text/html": [
       "<div>\n",
       "<style scoped>\n",
       "    .dataframe tbody tr th:only-of-type {\n",
       "        vertical-align: middle;\n",
       "    }\n",
       "\n",
       "    .dataframe tbody tr th {\n",
       "        vertical-align: top;\n",
       "    }\n",
       "\n",
       "    .dataframe thead th {\n",
       "        text-align: right;\n",
       "    }\n",
       "</style>\n",
       "<table border=\"1\" class=\"dataframe\">\n",
       "  <thead>\n",
       "    <tr style=\"text-align: right;\">\n",
       "      <th></th>\n",
       "      <th>entry</th>\n",
       "      <th>dataset</th>\n",
       "      <th>region</th>\n",
       "      <th>channel_nominal</th>\n",
       "      <th>category</th>\n",
       "      <th>dimuon_mass</th>\n",
       "      <th>score_ggHnew_2018_nominal</th>\n",
       "      <th>wgt_nominal</th>\n",
       "    </tr>\n",
       "  </thead>\n",
       "  <tbody>\n",
       "    <tr>\n",
       "      <th>47</th>\n",
       "      <td>90</td>\n",
       "      <td>ggh_powheg</td>\n",
       "      <td>h-sidebands</td>\n",
       "      <td>vbf</td>\n",
       "      <td>All</td>\n",
       "      <td>135.705325</td>\n",
       "      <td>NaN</td>\n",
       "      <td>0.000283</td>\n",
       "    </tr>\n",
       "    <tr>\n",
       "      <th>61</th>\n",
       "      <td>109</td>\n",
       "      <td>ggh_powheg</td>\n",
       "      <td>h-peak</td>\n",
       "      <td>ttHorVH</td>\n",
       "      <td>All</td>\n",
       "      <td>124.683415</td>\n",
       "      <td>NaN</td>\n",
       "      <td>0.000575</td>\n",
       "    </tr>\n",
       "    <tr>\n",
       "      <th>67</th>\n",
       "      <td>121</td>\n",
       "      <td>ggh_powheg</td>\n",
       "      <td>h-peak</td>\n",
       "      <td>ttHorVH</td>\n",
       "      <td>All</td>\n",
       "      <td>125.339951</td>\n",
       "      <td>NaN</td>\n",
       "      <td>0.000561</td>\n",
       "    </tr>\n",
       "    <tr>\n",
       "      <th>68</th>\n",
       "      <td>124</td>\n",
       "      <td>ggh_powheg</td>\n",
       "      <td>h-peak</td>\n",
       "      <td>vbf</td>\n",
       "      <td>All</td>\n",
       "      <td>121.286282</td>\n",
       "      <td>NaN</td>\n",
       "      <td>0.000653</td>\n",
       "    </tr>\n",
       "    <tr>\n",
       "      <th>73</th>\n",
       "      <td>129</td>\n",
       "      <td>ggh_powheg</td>\n",
       "      <td>h-peak</td>\n",
       "      <td>vbf</td>\n",
       "      <td>All</td>\n",
       "      <td>124.071876</td>\n",
       "      <td>NaN</td>\n",
       "      <td>0.000650</td>\n",
       "    </tr>\n",
       "    <tr>\n",
       "      <th>...</th>\n",
       "      <td>...</td>\n",
       "      <td>...</td>\n",
       "      <td>...</td>\n",
       "      <td>...</td>\n",
       "      <td>...</td>\n",
       "      <td>...</td>\n",
       "      <td>...</td>\n",
       "      <td>...</td>\n",
       "    </tr>\n",
       "    <tr>\n",
       "      <th>622086</th>\n",
       "      <td>99678</td>\n",
       "      <td>ggh_powheg</td>\n",
       "      <td>h-peak</td>\n",
       "      <td>vbf</td>\n",
       "      <td>All</td>\n",
       "      <td>122.932708</td>\n",
       "      <td>NaN</td>\n",
       "      <td>0.000630</td>\n",
       "    </tr>\n",
       "    <tr>\n",
       "      <th>622090</th>\n",
       "      <td>99685</td>\n",
       "      <td>ggh_powheg</td>\n",
       "      <td>h-peak</td>\n",
       "      <td>ttHorVH</td>\n",
       "      <td>All</td>\n",
       "      <td>126.077617</td>\n",
       "      <td>NaN</td>\n",
       "      <td>0.000586</td>\n",
       "    </tr>\n",
       "    <tr>\n",
       "      <th>622114</th>\n",
       "      <td>99726</td>\n",
       "      <td>ggh_powheg</td>\n",
       "      <td>h-sidebands</td>\n",
       "      <td>vbf</td>\n",
       "      <td>All</td>\n",
       "      <td>113.392804</td>\n",
       "      <td>NaN</td>\n",
       "      <td>0.000930</td>\n",
       "    </tr>\n",
       "    <tr>\n",
       "      <th>622144</th>\n",
       "      <td>99770</td>\n",
       "      <td>ggh_powheg</td>\n",
       "      <td>h-peak</td>\n",
       "      <td>ttHorVH</td>\n",
       "      <td>All</td>\n",
       "      <td>123.238203</td>\n",
       "      <td>NaN</td>\n",
       "      <td>0.001591</td>\n",
       "    </tr>\n",
       "    <tr>\n",
       "      <th>622208</th>\n",
       "      <td>99875</td>\n",
       "      <td>ggh_powheg</td>\n",
       "      <td>h-peak</td>\n",
       "      <td>vbf</td>\n",
       "      <td>All</td>\n",
       "      <td>123.499048</td>\n",
       "      <td>NaN</td>\n",
       "      <td>0.000772</td>\n",
       "    </tr>\n",
       "  </tbody>\n",
       "</table>\n",
       "<p>27207 rows × 8 columns</p>\n",
       "</div>"
      ],
      "text/plain": [
       "        entry     dataset       region channel_nominal category  dimuon_mass  \\\n",
       "47         90  ggh_powheg  h-sidebands             vbf      All   135.705325   \n",
       "61        109  ggh_powheg       h-peak         ttHorVH      All   124.683415   \n",
       "67        121  ggh_powheg       h-peak         ttHorVH      All   125.339951   \n",
       "68        124  ggh_powheg       h-peak             vbf      All   121.286282   \n",
       "73        129  ggh_powheg       h-peak             vbf      All   124.071876   \n",
       "...       ...         ...          ...             ...      ...          ...   \n",
       "622086  99678  ggh_powheg       h-peak             vbf      All   122.932708   \n",
       "622090  99685  ggh_powheg       h-peak         ttHorVH      All   126.077617   \n",
       "622114  99726  ggh_powheg  h-sidebands             vbf      All   113.392804   \n",
       "622144  99770  ggh_powheg       h-peak         ttHorVH      All   123.238203   \n",
       "622208  99875  ggh_powheg       h-peak             vbf      All   123.499048   \n",
       "\n",
       "        score_ggHnew_2018_nominal  wgt_nominal  \n",
       "47                            NaN     0.000283  \n",
       "61                            NaN     0.000575  \n",
       "67                            NaN     0.000561  \n",
       "68                            NaN     0.000653  \n",
       "73                            NaN     0.000650  \n",
       "...                           ...          ...  \n",
       "622086                        NaN     0.000630  \n",
       "622090                        NaN     0.000586  \n",
       "622114                        NaN     0.000930  \n",
       "622144                        NaN     0.001591  \n",
       "622208                        NaN     0.000772  \n",
       "\n",
       "[27207 rows x 8 columns]"
      ]
     },
     "execution_count": 47,
     "metadata": {},
     "output_type": "execute_result"
    }
   ],
   "source": [
    "df_vbf"
   ]
  },
  {
   "cell_type": "code",
   "execution_count": null,
   "id": "c7576938-aa88-4545-9905-c38cb7e59a9a",
   "metadata": {},
   "outputs": [],
   "source": []
  }
 ],
 "metadata": {
  "kernelspec": {
   "display_name": "Python [conda env:coffea2024]",
   "language": "python",
   "name": "conda-env-coffea2024-py"
  },
  "language_info": {
   "codemirror_mode": {
    "name": "ipython",
    "version": 3
   },
   "file_extension": ".py",
   "mimetype": "text/x-python",
   "name": "python",
   "nbconvert_exporter": "python",
   "pygments_lexer": "ipython3",
   "version": "3.10.13"
  }
 },
 "nbformat": 4,
 "nbformat_minor": 5
}
