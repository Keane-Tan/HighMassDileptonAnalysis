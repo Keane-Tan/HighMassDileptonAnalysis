{
 "cells": [
  {
   "cell_type": "code",
   "execution_count": 1,
   "id": "deb50695-99eb-4eff-a8e8-e9d7aa96b93a",
   "metadata": {
    "scrolled": true
   },
   "outputs": [],
   "source": [
    "import dask_awkward as dak\n",
    "import awkward as ak\n",
    "from distributed import LocalCluster, Client, progress\n",
    "import time\n",
    "import numpy as np\n",
    "import matplotlib.pyplot as plt\n",
    "import json\n",
    "import mplhep as hep\n",
    "import glob\n",
    "import pandas as pd\n",
    "\n",
    "plt.style.use(hep.style.CMS)\n",
    "\n",
    "client =  Client(n_workers=15,  threads_per_worker=2, processes=True, memory_limit='8 GiB') \n"
   ]
  },
  {
   "cell_type": "code",
   "execution_count": 2,
   "id": "67323fa4-14bd-4c8e-9cae-a35ccae64249",
   "metadata": {},
   "outputs": [],
   "source": [
    "training_samples = {\n",
    "        \"background\": [ # for some reason, having more than dy causes things to break\n",
    "            \"dy_M-100To200\", \n",
    "            \"ttjets_dl\",\n",
    "            \"ttjets_sl\",\n",
    "            \"st_tw_top\",\n",
    "            \"st_tw_antitop\",\n",
    "            \"ww_2l2nu\",\n",
    "            \"wz_1l1nu2q\",\n",
    "            \"wz_2l2q\",\n",
    "            \"wz_3lnu\",\n",
    "            \"zz\",\n",
    "            \"ewk_lljj_mll50_mjj120\",\n",
    "        ],\n",
    "        \"signal\": [\n",
    "            \"ggh_powheg\", \n",
    "            \"vbf_powheg\",\n",
    "    ],\n",
    "}\n",
    "MC_groups = {\n",
    "    \"DY\" : [\"dy_M-100To200\"],\n",
    "    \"Top\": [\"ttjets_dl\",\n",
    "            \"ttjets_sl\",\n",
    "            \"st_tw_top\",\n",
    "            \"st_tw_antitop\",],\n",
    "    \"VV\": [\"ww_2l2nu\",\n",
    "            \"wz_1l1nu2q\",\n",
    "            \"wz_2l2q\",\n",
    "            \"wz_3lnu\",\n",
    "            \"zz\",],\n",
    "    \"EWK\" : [\"ewk_lljj_mll50_mjj120\"]\n",
    "}"
   ]
  },
  {
   "cell_type": "code",
   "execution_count": 3,
   "id": "ff3ca0d1-0bc7-4296-843e-829d5cba8fbd",
   "metadata": {},
   "outputs": [],
   "source": [
    "start_time = time.time()\n",
    "cols_of_interest = [\n",
    "    'dimuon_mass',\n",
    "]\n",
    "additional_fields = [\n",
    "    \"wgt_nominal_total\",\n",
    "    \"h_sidebands\",\n",
    "    \"h_peak\",\n",
    "    \"vbf_cut\",\n",
    "    \"nBtagLoose\",\n",
    "    \"nBtagMedium\",\n",
    "    \"mu1_pt\",\n",
    "    \"mu2_pt\",\n",
    "    \"mu1_pt_roch\",\n",
    "    \"mu2_pt_roch\",\n",
    "    \"mu1_pt_fsr\",\n",
    "    \"mu2_pt_fsr\",\n",
    "    # \"mu1_pt_gf\",\n",
    "    # \"mu2_pt_gf\",\n",
    "    \"mu1_pt_raw\",\n",
    "    \"mu1_eta\",\n",
    "    \"mu2_eta\",\n",
    "    \"mu1_phi\",\n",
    "    \"mu2_phi\",\n",
    "    \"dimuon_pt\",\n",
    "    \"dimuon_eta\",\n",
    "    \"dimuon_phi\",\n",
    "    \"dimuon_mass\",\n",
    "    \"jet1_rapidity\",\n",
    "    \"jet2_rapidity\",\n",
    "    \"jet1_phi\",\n",
    "    \"jet1_pt\",\n",
    "    \"jet2_pt\",\n",
    "    \"jet2_phi\",\n",
    "    \"jet1_eta\",\n",
    "    \"jet2_eta\",\n",
    "    \"jj_mass\",\n",
    "    \"jj_dEta\",\n",
    "    \"event\"\n",
    "]\n",
    "fields2compute = cols_of_interest +  additional_fields\n",
    "fields2compute = list(set(fields2compute))\n"
   ]
  },
  {
   "cell_type": "code",
   "execution_count": 31,
   "id": "88a7449a-0e85-4ea1-804f-ea77ea2c6c4c",
   "metadata": {},
   "outputs": [],
   "source": [
    "def getHist(events, field2plot, binning):\n",
    "    weight = ak.fill_none(events.wgt_nominal_total, value=0)\n",
    "    value = ak.fill_none(events[field2plot], value=-999)\n",
    "    # use np.isnan to filter away remaining nan values\n",
    "    nan_filter = ~(np.isnan(weight) | np.isnan(value)) # some nans are not None, apparently\n",
    "    weight = weight[nan_filter]\n",
    "    weight = ak.values_astype(weight, np.float64)\n",
    "    value = value[nan_filter]\n",
    "    \n",
    "    print(f\"getHist weight sum: {np.sum(weight)}\")\n",
    "    print(f\"getHist value sum: {np.sum(value)}\")\n",
    "    print(f\"getHist weight: {weight}\")\n",
    "    print(f\"getHist value: {value}\")\n",
    "    # print(f\"getHist is none weight: {ak.sum(ak.is_none(weight))}\")\n",
    "    # print(f\"getHist is none value: {ak.sum(ak.is_none(value))}\")\n",
    "    # weight = weight/ np.sum(weight) # normalize to one\n",
    "    # print(f\"np.sum(weight): {np.sum(weight)}\")\n",
    "    hist, edges = np.histogram(value, bins=binning, weights=weight)\n",
    "    print(f\"getHist hist b4 normalization: {hist}\")\n",
    "    hist = hist / np.sum(hist)\n",
    "    print(f\"np.sum(hist): {np.sum(hist)}\")\n",
    "    return hist, edges\n",
    "\n",
    "def applyGGH_cut(events):\n",
    "    btag_cut =ak.fill_none((events.nBtagLoose >= 2), value=False) | ak.fill_none((events.nBtagMedium >= 1), value=False)\n",
    "    # vbf_cut = ak.fill_none(events.vbf_cut, value=False\n",
    "    vbf_cut = (events.jj_mass > 400) & (events.jj_dEta > 2.5)\n",
    "    # vbf_cut = (events.jj_mass > 400) & (events.jj_dEta > 2.5) & (events.jet1_pt > 35) \n",
    "    vbf_cut = ak.fill_none(vbf_cut, value=False)\n",
    "    # region = events.h_sidebands | events.h_peak\n",
    "    dimuon_mass = events.dimuon_mass\n",
    "    region = (dimuon_mass >= 110) & (dimuon_mass <= 150.0)\n",
    "    \n",
    "    # region = events.h_sidebands \n",
    "    ggH_filter = (\n",
    "        ~vbf_cut & \n",
    "        region &\n",
    "        ~btag_cut # btag cut is for VH and ttH categories\n",
    "    )\n",
    "    return events[ggH_filter]\n",
    "\n",
    "\n",
    "def applyVBF_cut(events):\n",
    "    btag_cut =ak.fill_none((events.nBtagLoose >= 2), value=False) | ak.fill_none((events.nBtagMedium >= 1), value=False)\n",
    "    # vbf_cut = ak.fill_none(events.vbf_cut, value=False\n",
    "    vbf_cut = (events.jj_mass > 400) & (events.jj_dEta > 2.5) & (events.jet1_pt > 35) \n",
    "    vbf_cut = ak.fill_none(vbf_cut, value=False)\n",
    "    # region = events.h_peak \n",
    "    # region = events.h_sidebands | events.h_peak\n",
    "    # region = events.h_sidebands \n",
    "    dimuon_mass = events.dimuon_mass\n",
    "    # region = (dimuon_mass >= 110) & (dimuon_mass <= 150.0)\n",
    "    region = (dimuon_mass > 115.03) & (dimuon_mass < 135.03)\n",
    "    # region = ((dimuon_mass > 110) & (dimuon_mass < 115.03)) | ((dimuon_mass > 135.03) & (dimuon_mass < 150))\n",
    "    VBF_filter = (\n",
    "        vbf_cut & \n",
    "        region &\n",
    "        ~btag_cut # btag cut is for VH and ttH categories\n",
    "    )\n",
    "    trues = ak.ones_like(dimuon_mass, dtype=\"bool\")\n",
    "    falses = ak.zeros_like(dimuon_mass, dtype=\"bool\")\n",
    "    events[\"vbf_filter\"] = ak.where(VBF_filter, trues,falses)\n",
    "    return events[VBF_filter]\n",
    "    # return events\n",
    "\n",
    "def calculateEdgeCases(events):\n",
    "    dimuon_mass = events.dimuon_mass\n",
    "    within_SR = (dimuon_mass >= 110) & (dimuon_mass <= 150)\n",
    "    print(f\"ak.num(within_SR,axis=0): {ak.num(within_SR,axis=0)}\")\n",
    "    region = events.h_sidebands | events.h_peak\n",
    "    print(f\"ak.num(region,axis=0): {ak.num(region,axis=0)}\")\n",
    "    print(f\"ak.sum(region): {ak.sum(region)}\")\n",
    "    test_filter = ~(within_SR & region)\n",
    "    test_filter = test_filter[within_SR]\n",
    "    return test_filter\n",
    "\n",
    "def getDeltaPhi(phi1,phi2):\n",
    "    phi1 = ak.values_astype(phi1, np.float64)\n",
    "    phi2 = ak.values_astype(phi2, np.float64)\n",
    "    # print(f\"phi1: {phi1.compute()}\")\n",
    "    dphi = abs(np.mod(phi1 - phi2 + np.pi, 2 * np.pi) - np.pi)\n",
    "    return dphi\n",
    "\n",
    "def computeBkgFromParquet(load_path, bkgSample_l, fields2compute):\n",
    "    zip_l = []\n",
    "    # fields2compute =  fields2compute +[\"wgt_nominal_zpt_wgt\"]\n",
    "    for sample in bkgSample_l:\n",
    "        events = dak.from_parquet(load_path+f\"/{sample}/*/*.parquet\")\n",
    "        # print(events.fields)\n",
    "        # print(events.wgt_nominal_zpt_wgt)\n",
    "        # events[\"jj_dRapidity\"] = np.abs(events.jet1_rapidity - events.jet2_rapidity)\n",
    "        # events[\"mmj1_dRapidity\"] = np.abs(events.jet1_rapidity - events.dimuon_rapidity)\n",
    "        # events[\"mmj2_dRapidity\"] = np.abs(events.jet2_rapidity - events.dimuon_rapidity)\n",
    "        events[\"jj_dPhiV2\"] = ak.fill_none(getDeltaPhi(events.jet1_phi, events.jet2_phi), value=-1)\n",
    "        # bool_filter = ak.fill_none((events.mmj1_dEta < events.mmj2_dEta), value=True)\n",
    "        # events[\"mmj_min_dEtaV2\"] = ak.where(bool_filter, events.mmj1_dEta, events.mmj2_dEta)\n",
    "        # bool_filter = ak.fill_none((events.mmj1_dPhi < events.mmj2_dPhi), value=True)\n",
    "        # events[\"mmj_min_dPhiV2\"] = ak.where(bool_filter, events.mmj1_dPhi, events.mmj2_dPhi)\n",
    "        zip = ak.zip({field: events[field] for field in fields2compute}).compute()\n",
    "        zip_l.append(zip)\n",
    "    \n",
    "    final_zip = ak.concatenate(zip_l)\n",
    "    # zpt removal test start ------------------------\n",
    "    # final_zip[\"wgt_nominal_total\"] = final_zip.wgt_nominal_total / final_zip.wgt_nominal_zpt_wgt\n",
    "    # zpt removal test end ------------------------\n",
    "    return final_zip\n",
    "\n"
   ]
  },
  {
   "cell_type": "code",
   "execution_count": 26,
   "id": "2d070156-a9f5-4b1f-a568-cfd2c826c6ec",
   "metadata": {},
   "outputs": [],
   "source": [
    "# \"\"\"\n",
    "# similar test, but with VBF\n",
    "# \"\"\"\n",
    "# # normal from_parquet doesn't work, so using convoluted concatenating method\n",
    "# # year = 2018\n",
    "# # load_path = f\"/depot/cms/users/yun79/results/stage1/BDT_inputValidation_JetIdUpdate/{year}*/f1_0\"\n",
    "# # load_path = f\"/depot/cms/users/yun79/results/stage1/BDT_inputValidation_JetIdUpdate/{year}preVFP/f1_0\"\n",
    "# # load_path = f\"/depot/cms/users/yun79/results/stage1/BDT_inputValidation_JetIdUpdate/{year}/f1_0\"\n",
    "# # load_path = f\"/depot/cms/users/yun79/results/stage1/BDT_inputValidation_JetIdUpdate/{year}/f1_0\"\n",
    "# # load_path = f\"/depot/cms/users/yun79/results/stage1/BDT_inputValidation_JetIdUpdate/*/f1_0\"\n",
    "# load_path = f\"/depot/cms/users/yun79/results/stage1/BDT_WgtON_original_AN_BDTV2_Oct18/*/f1_0\"\n",
    "\n",
    "\n",
    "# events_data = dak.from_parquet(f\"{load_path}/data_*/*/*.parquet\")\n",
    "# events_data = ak.zip({field: events_data[field] for field in fields2compute}).compute()\n",
    "# edge_cases = calculateEdgeCases(events_data)\n",
    "# print(ak.sum(edge_cases))\n",
    "# print(ak.num(edge_cases, axis=0))\n",
    "# # events_data = applyVBF_cut(events_data)\n",
    "# # data_yield = ak.num(events_data.dimuon_mass, axis=0)\n",
    "# # data_yield"
   ]
  },
  {
   "cell_type": "code",
   "execution_count": 34,
   "id": "afcaa26d-b48c-438a-8bcc-71084ac56000",
   "metadata": {
    "scrolled": true
   },
   "outputs": [
    {
     "name": "stdout",
     "output_type": "stream",
     "text": [
      "data_yield for /depot/cms/users/yun79/results/stage1/testV1UsingV2_Oct29/2017_RERECO/f1_0/data_E: 111343\n",
      "data_yield for /depot/cms/users/yun79/results/stage1/testV1UsingV2_Oct29/2017_RERECO/f1_0/data_C: 115753\n",
      "data_yield for /depot/cms/users/yun79/results/stage1/testV1UsingV2_Oct29/2017_RERECO/f1_0/data_F: 161956\n",
      "data_yield for /depot/cms/users/yun79/results/stage1/testV1UsingV2_Oct29/2017_RERECO/f1_0/data_B: 57575\n",
      "data_yield for /depot/cms/users/yun79/results/stage1/testV1UsingV2_Oct29/2017_RERECO/f1_0/data_D: 51029\n",
      "497656\n"
     ]
    }
   ],
   "source": [
    "\"\"\"\n",
    "similar test, but with VBF\n",
    "\"\"\"\n",
    "# normal from_parquet doesn't work, so using convoluted concatenating method\n",
    "year = \"2017\"\n",
    "# load_path = f\"/depot/cms/users/yun79/results/stage1/BDT_inputValidation_JetIdUpdate/{year}*/f1_0\"\n",
    "# load_path = f\"/depot/cms/users/yun79/results/stage1/BDT_inputValidation_JetIdUpdate/{year}preVFP/f1_0\"\n",
    "# load_path = f\"/depot/cms/users/yun79/results/stage1/BDT_inputValidation_JetIdUpdate/{year}/f1_0\"\n",
    "# load_path = f\"/depot/cms/users/yun79/results/stage1/BDT_inputValidation_JetIdUpdate/{year}/f1_0\"\n",
    "# load_path = f\"/depot/cms/users/yun79/results/stage1/BDT_inputValidation_JetIdUpdate/*/f1_0\"\n",
    "# load_path = f\"/depot/cms/users/yun79/results/stage1/BDT_WgtON_original_AN_BDTV2_Oct18/*/f1_0\"\n",
    "# load_path = f\"/depot/cms/users/yun79/results/stage1/BDT_WgtON_original_AN_BDTV2_Oct18/{year}/f1_0\"\n",
    "# load_path = f\"/depot/cms/users/yun79/results/stage1/BDT_inputValidation_JetIdUpdate/{year}/f1_0\"\n",
    "# load_path = f\"/depot/cms/users/yun79/results/stage1/RERECO_Run2_data_w_MuLeadingPtCutOff_defaultJEC_BtagCorrected_newEventFilter_HLTFixed_HltFillNoneTest_Oct18/{year}_RERECO/f1_0\"\n",
    "# load_path = f\"/depot/cms/users/yun79/results/stage1/RERECO_Run2_data_w_MuLeadingPtCutOff_defaultJEC_BtagCorrected_newEventFilter_HLTFixed_HltFillNoneTest_Oct18/{year}_RERECO/f1_0\"\n",
    "# load_path = f\"/depot/cms/users/yun79/results/stage1/BDT_WgtON_original_AN_BDTV2_Oct18/{year}/f1_0\"\n",
    "# load_path = f\"/depot/cms/users/yun79/results/stage1/testV1UsingV2_Oct28/{year}_RERECO/f1_0\"\n",
    "load_path = f\"/depot/cms/users/yun79/results/stage1/testV1UsingV2_Oct29/{year}_RERECO/f1_0\"\n",
    "\n",
    "# events_data = dak.from_parquet(f\"{load_path}/data_*/*/*.parquet\")\n",
    "# events_data = dak.from_parquet(f\"{load_path}/data_B/*/*.parquet\")\n",
    "filelist = glob.glob(f\"{load_path}/data_*\")\n",
    "# filelist = glob.glob(f\"{load_path}/data_F\")\n",
    "total_integral = 0\n",
    "for file in filelist:\n",
    "    events_data = dak.from_parquet(f\"{file}/*/*.parquet\")\n",
    "    events_data = ak.zip({field: events_data[field] for field in fields2compute}).compute()\n",
    "    # events_data = applyVBF_cut(events_data)\n",
    "    events_data = applyGGH_cut(events_data)\n",
    "    # df = pd.DataFrame({field: ak.fill_none(events_data[field], value=-999.9) for field in events_data.fields})\n",
    "    # df.to_csv(\"event_dataC_V2.csv\")\n",
    "    \n",
    "    data_yield = ak.num(events_data.dimuon_mass, axis=0)\n",
    "    print(f\"data_yield for {file}: {data_yield}\")\n",
    "    total_integral += data_yield\n",
    "print(total_integral)\n"
   ]
  },
  {
   "cell_type": "code",
   "execution_count": 4,
   "id": "15d0454e-03f9-4b86-8a28-02b3f03d1134",
   "metadata": {},
   "outputs": [
    {
     "name": "stdout",
     "output_type": "stream",
     "text": [
      "data_yield for /depot/cms/users/yun79/hmm/copperheadV1clean/DmitryMaster_Oct24/stage1_output/2018/data_C: 457\n",
      "data_yield for /depot/cms/users/yun79/hmm/copperheadV1clean/DmitryMaster_Oct24/stage1_output/2018/data_A: 919\n",
      "data_yield for /depot/cms/users/yun79/hmm/copperheadV1clean/DmitryMaster_Oct24/stage1_output/2018/data_B: 445\n",
      "data_yield for /depot/cms/users/yun79/hmm/copperheadV1clean/DmitryMaster_Oct24/stage1_output/2018/data_D: 2112\n"
     ]
    },
    {
     "data": {
      "text/plain": [
       "3933"
      ]
     },
     "execution_count": 4,
     "metadata": {},
     "output_type": "execute_result"
    }
   ],
   "source": [
    "\"\"\"\n",
    "copperheadV1 test\n",
    "\"\"\"\n",
    "import glob\n",
    "\n",
    "def applyVBF_cutV1(events):\n",
    "    btag_cut =ak.fill_none((events.nBtagLoose_nominal >= 2), value=False) | ak.fill_none((events.nBtagMedium_nominal >= 1), value=False)\n",
    "    # vbf_cut = ak.fill_none(events.vbf_cut, value=False\n",
    "    vbf_cut = (events.jj_mass_nominal > 400) & (events.jj_dEta_nominal > 2.5) & (events.jet1_pt_nominal > 35) \n",
    "    vbf_cut = ak.fill_none(vbf_cut, value=False)\n",
    "    # region = events.h_peak \n",
    "    # region = events.h_sidebands | events.h_peak\n",
    "    # region = events.h_sidebands \n",
    "    dimuon_mass = events.dimuon_mass\n",
    "    # region = (dimuon_mass >= 110) & (dimuon_mass <= 150.0)\n",
    "    region = (dimuon_mass > 115.03) & (dimuon_mass < 135.03)\n",
    "    # region = ((dimuon_mass > 110) & (dimuon_mass < 115.03)) | ((dimuon_mass > 135.03) & (dimuon_mass < 150))\n",
    "\n",
    "    # region = (events.region == \"h-peak\") | (events.region == \"h-sidebands\")\n",
    "    # region = events.region == \"h-sidebands\"\n",
    "    VBF_filter = (\n",
    "        vbf_cut & \n",
    "        region &\n",
    "        ~btag_cut # btag cut is for VH and ttH categories\n",
    "    )\n",
    "    trues = ak.ones_like(dimuon_mass, dtype=\"bool\")\n",
    "    falses = ak.zeros_like(dimuon_mass, dtype=\"bool\")\n",
    "    events[\"vbf_filter\"] = ak.where(VBF_filter, trues,falses)\n",
    "    return events[VBF_filter]\n",
    "    # return events\n",
    "\n",
    "def applyGGH_cutV1(events):\n",
    "    btag_cut =ak.fill_none((events.nBtagLoose_nominal >= 2), value=False) | ak.fill_none((events.nBtagMedium_nominal >= 1), value=False)\n",
    "    vbf_cut = (events.jj_mass_nominal > 400) & (events.jj_dEta_nominal > 2.5)\n",
    "    # vbf_cut = (events.jj_mass_nominal > 400) & (events.jj_dEta_nominal > 2.5) & (events.jet1_pt_nominal > 35) \n",
    "    vbf_cut = ak.fill_none(vbf_cut, value=False)\n",
    "    dimuon_mass = events.dimuon_mass\n",
    "    region = (dimuon_mass >= 110) & (dimuon_mass <= 150.0)\n",
    "    # region = ((dimuon_mass > 110) & (dimuon_mass < 115.03)) | ((dimuon_mass > 135.03) & (dimuon_mass < 150))\n",
    "    # region = events.region == \"h-peak\"\n",
    "    # region = events.region == \"h-sidebands\"\n",
    "    ggH_filter = (\n",
    "        ~vbf_cut & \n",
    "        region &\n",
    "        ~btag_cut # btag cut is for VH and ttH categories\n",
    "    )\n",
    "    return events[ggH_filter]\n",
    "\n",
    "V1_fields_2compute = [\n",
    "    # \"wgt_nominal\",\n",
    "    \"nBtagLoose_nominal\",\n",
    "    \"nBtagMedium_nominal\",\n",
    "    \"mu1_pt\",\n",
    "    \"mu2_pt\",\n",
    "    \"mu1_eta\",\n",
    "    \"mu2_eta\",\n",
    "    \"mu1_phi\",\n",
    "    \"mu2_phi\",\n",
    "    \"dimuon_pt\",\n",
    "    \"dimuon_eta\",\n",
    "    \"dimuon_phi\",\n",
    "    \"dimuon_mass\",\n",
    "    \"jet1_phi_nominal\",\n",
    "    \"jet1_pt_nominal\",\n",
    "    \"jet2_pt_nominal\",\n",
    "    \"jet2_phi_nominal\",\n",
    "    \"jet1_eta_nominal\",\n",
    "    \"jet2_eta_nominal\",\n",
    "    \"jj_mass_nominal\",\n",
    "    \"jj_dEta_nominal\",\n",
    "    # \"region\",\n",
    "    \"event\",\n",
    "]\n",
    " \n",
    "year = \"2018\"\n",
    "# load_path = f\"/depot/cms/users/yun79/results/stage1/BDT_inputValidation_JetIdUpdate/{year}*/f1_0\"\n",
    "# load_path = f\"/depot/cms/users/yun79/results/stage1/BDT_inputValidation_JetIdUpdate/{year}preVFP/f1_0\"\n",
    "# load_path = f\"/depot/cms/users/yun79/results/stage1/BDT_inputValidation_JetIdUpdate/{year}/f1_0\"\n",
    "# load_path = f\"/depot/cms/users/yun79/results/stage1/BDT_inputValidation_JetIdUpdate/{year}/f1_0\"\n",
    "# load_path = f\"/depot/cms/users/yun79/results/stage1/BDT_inputValidation_JetIdUpdate/*/f1_0\"\n",
    "# load_path = f\"/depot/cms/users/yun79/results/stage1/BDT_WgtON_original_AN_BDTV2_Oct18/*/f1_0\"\n",
    "# load_path = f\"/depot/cms/users/yun79/results/stage1/BDT_WgtON_original_AN_BDTV2_Oct18/{year}/f1_0\"\n",
    "# load_path = f\"/depot/cms/users/yun79/results/stage1/BDT_inputValidation_JetIdUpdate/{year}/f1_0\"\n",
    "# load_path = f\"/depot/cms/users/yun79/results/stage1/RERECO_Run2_data_w_MuLeadingPtCutOff_defaultJEC_BtagCorrected_newEventFilter_HLTFixed_HltFillNoneTest_Oct18/{year}_RERECO/f1_0\"\n",
    "# load_path = f\"/depot/cms/users/yun79/hmm/copperheadV1clean/test_Oct24/stage1_output/2018/\"\n",
    "# load_path = f\"/depot/cms/users/yun79/hmm/copperheadV1clean/RERECO_Oct24/stage1_output/2018/\"\n",
    "load_path = f\"/depot/cms/users/yun79/hmm/copperheadV1clean/DmitryMaster_Oct24/stage1_output/{year}/\"\n",
    "# load_path = f\"/depot/cms/users/yun79/hmm/copperheadV1clean/DmitryMaster_w_centralRERECO_Oct25/stage1_output/{year}/\"\n",
    "# load_path = f\"/depot/cms/users/yun79/hmm/copperheadV1clean/DmitryMaster_testJECoff_Oct28/stage1_output/{year}/\"\n",
    "# load_path = f\"/depot/cms/users/yun79/hmm/copperheadV1clean/DmitryMaster_JECoff_GeofitFixed_Oct29/stage1_output/{year}/\"\n",
    "\n",
    "\n",
    "\n",
    "# events_data = dak.from_parquet(f\"{load_path}/data_D/*.parquet\")\n",
    "# events_data = dak.from_parquet(f\"{load_path}/data_F/*.parquet\")\n",
    "# filelist = glob.glob(f\"{load_path}/data_F\")\n",
    "filelist = glob.glob(f\"{load_path}/data_*\")\n",
    "total_integral = 0\n",
    "for file in filelist:\n",
    "    events_data = dak.from_parquet(f\"{file}/*.parquet\")\n",
    "    # print(events_data.fields)\n",
    "    # events_data.fields\n",
    "    events_data = ak.zip({field: events_data[field] for field in V1_fields_2compute}).compute()\n",
    "    events_data = applyVBF_cutV1(events_data)\n",
    "    # events_data = applyGGH_cutV1(events_data)\n",
    "    \n",
    "    \n",
    "    data_yield = ak.num(events_data.dimuon_mass, axis=0)\n",
    "    # ak.to_dataframe(events_data).to_csv(\"event_dataC_V1.csv\")\n",
    "    df = pd.DataFrame({field: ak.fill_none(events_data[field], value=-999.9) for field in events_data.fields})\n",
    "    df.to_csv(\"event_dataC_V1.csv\")\n",
    "    print(f\"data_yield for {file}: {data_yield}\")\n",
    "    total_integral += data_yield\n",
    "total_integral\n"
   ]
  },
  {
   "cell_type": "code",
   "execution_count": 1,
   "id": "9aa4861e-2f54-4653-8a5e-d4f3772c3892",
   "metadata": {},
   "outputs": [],
   "source": [
    "# import uproot\n",
    "# import glob\n",
    "# import numba\n",
    "# import numpy as np\n",
    "# import concurrent.futures\n",
    "\n",
    "# @numba.jit(parallel=True, nopython=False)\n",
    "# def getBadFileIdx(fnames):\n",
    "#     bad_files = np.zeros(len(fnames))\n",
    "#     for file_idx in numba.prange(len(fnames)):\n",
    "#         up_file = uproot.open(fnames[file_idx]) \n",
    "#         if not (\"HLT_IsoMu27\" in up_file['Events'].keys()):\n",
    "#             # print(fnames[file_idx])\n",
    "#             bad_files[file_idx] = 1\n",
    "#             # bad_files.append(file)\n",
    "#     return bad_files"
   ]
  },
  {
   "cell_type": "code",
   "execution_count": 12,
   "id": "c4a97165-e314-423f-96aa-a53511a6a6c5",
   "metadata": {},
   "outputs": [
    {
     "data": {
      "text/plain": [
       "2500"
      ]
     },
     "execution_count": 12,
     "metadata": {},
     "output_type": "execute_result"
    }
   ],
   "source": [
    "len(results)"
   ]
  },
  {
   "cell_type": "code",
   "execution_count": 9,
   "id": "adb338aa-3c3b-4305-811a-0adaeff0eca5",
   "metadata": {},
   "outputs": [
    {
     "name": "stdout",
     "output_type": "stream",
     "text": [
      "TFile**\t\t/eos/purdue/store/group/local/hmm/FSRnano18D_NANOV10b/SingleMuon/RunIISummer16MiniAODv3_FSRnano18D_NANOV10b_un2018D-22Jan2019-v2/200408_223523/0000/nano18D_NANO_1.root\t\n",
      " TFile*\t\t/eos/purdue/store/group/local/hmm/FSRnano18D_NANOV10b/SingleMuon/RunIISummer16MiniAODv3_FSRnano18D_NANOV10b_un2018D-22Jan2019-v2/200408_223523/0000/nano18D_NANO_1.root\t\n",
      "  KEY: TObjString\ttag;1\tCollectable string class\n",
      "  KEY: TTree\tEvents;1\tEvents\n",
      "  KEY: TTree\tLuminosityBlocks;1\tLuminosityBlocks\n",
      "  KEY: TTree\tRuns;1\tRuns\n",
      "  KEY: TTree\tMetaData;1\tJob metadata\n",
      "  KEY: TTree\tParameterSets;1\tParameter sets\n"
     ]
    }
   ],
   "source": [
    "import ROOT as rt\n",
    "\n",
    "file = rt.TFile(filelist[0])\n",
    "file.ls()"
   ]
  },
  {
   "cell_type": "code",
   "execution_count": 80,
   "id": "8c7575dc-dcb6-4523-b7ba-c12538755ac2",
   "metadata": {},
   "outputs": [
    {
     "name": "stdout",
     "output_type": "stream",
     "text": [
      "data_B\n"
     ]
    }
   ],
   "source": [
    "! ls /depot/cms/users/yun79/hmm/copperheadV1clean/DmitryMaster_w_centralRERECO_Oct25/stage1_output/2017"
   ]
  },
  {
   "cell_type": "code",
   "execution_count": 35,
   "id": "eee6010b-daa3-4806-a569-096a61ffbd21",
   "metadata": {},
   "outputs": [
    {
     "name": "stdout",
     "output_type": "stream",
     "text": [
      "data_A\tdata_B\tdata_C\tdata_D\n"
     ]
    }
   ],
   "source": [
    "! ls /depot/cms/users/yun79/hmm/copperheadV1clean/RERECO_Oct24/stage1_output/2018/"
   ]
  },
  {
   "cell_type": "code",
   "execution_count": 5,
   "id": "4b9b8a5b-db56-477d-8495-d5c71af8834d",
   "metadata": {
    "scrolled": true
   },
   "outputs": [],
   "source": [
    "\n",
    "# events_bkg = dak.from_parquet(bkg_l) \n",
    "# events_bkg = ak.zip({field : events_bkg[field] for field in fields2compute}).compute()\n",
    "\n",
    "# normal from_parquet doesn't work, so using convoluted concatenating method\n",
    "# year = 2018\n",
    "# load_path = f\"/depot/cms/users/yun79/results/stage1/BDT_inputValidation_JetIdUpdate/{year}*/f1_0\"\n",
    "# load_path = f\"/depot/cms/users/yun79/results/stage1/BDT_inputValidation_JetIdUpdate/{year}/f1_0\"\n",
    "load_path = f\"/depot/cms/users/yun79/results/stage1/BDT_inputValidation_JetIdUpdate/*/f1_0\"\n",
    "events_data = dak.from_parquet(f\"{load_path}/data_*/*/*.parquet\")\n",
    "events_data = ak.zip({field: events_data[field] for field in fields2compute}).compute()\n",
    "events_data = applyGGH_cut(events_data)\n",
    "data_yield = ak.num(events_data.dimuon_mass, axis=0)\n",
    "\n"
   ]
  },
  {
   "cell_type": "code",
   "execution_count": null,
   "id": "33d8e8a8-61fa-48dc-8673-b66e81aa23bf",
   "metadata": {},
   "outputs": [],
   "source": [
    "# load_path = f\"/depot/cms/users/yun79/results/stage1/Run2RERECO_data_OCt14_2014/{year}/f1_0\"\n",
    "# load_path = f\"/depot/cms/users/yun79/results/stage1/Run2RERECO_data_w_LumiMask_JETID_JETPUID_BTag_DefaultJEC_Oct15_2014/{year}_RERECO/f1_0\"\n",
    "# load_path = f\"/depot/cms/users/yun79/results/stage1/Run2RERECO_data_w_LumiMask_JETID_JETPUID_BTag_Oct16_2014/{year}_RERECO/f1_0\"\n",
    "load_path = f\"/depot/cms/users/yun79/results/stage1/Run2RERECO_data_w_LumiMask_JETID_JETPUID_BTag_DefaultJEC_Oct15_2014/*_RERECO/f1_0\"\n",
    "\n",
    "\n",
    "events_data_rereco = dak.from_parquet(f\"{load_path}/data_*/*/*.parquet\")\n",
    "events_data_rereco = ak.zip({field: events_data_rereco[field] for field in fields2compute}).compute()\n",
    "events_data_rereco = applyGGH_cut(events_data_rereco)\n",
    "data_yield_rereco = ak.num(events_data_rereco.dimuon_mass, axis=0)"
   ]
  },
  {
   "cell_type": "code",
   "execution_count": 7,
   "id": "b7c706c1-d1a6-4d47-9efe-3d697bac5cfa",
   "metadata": {},
   "outputs": [
    {
     "name": "stdout",
     "output_type": "stream",
     "text": [
      "1609961\n",
      "1610974\n"
     ]
    }
   ],
   "source": [
    "print(data_yield)\n",
    "print(data_yield_rereco)"
   ]
  },
  {
   "cell_type": "code",
   "execution_count": 10,
   "id": "d4edb277-7f77-4499-a980-abfc0571162b",
   "metadata": {},
   "outputs": [
    {
     "name": "stdout",
     "output_type": "stream",
     "text": [
      "1606887\n",
      "1620838\n"
     ]
    }
   ],
   "source": [
    "\"\"\"\n",
    "similar test, but with data_C 2018 UL only\n",
    "\"\"\"\n",
    "# normal from_parquet doesn't work, so using convoluted concatenating method\n",
    "year = 2018\n",
    "# load_path = f\"/depot/cms/users/yun79/results/stage1/BDT_inputValidation_JetIdUpdate/{year}*/f1_0\"\n",
    "# load_path = f\"/depot/cms/users/yun79/results/stage1/BDT_inputValidation_JetIdUpdate/{year}preVFP/f1_0\"\n",
    "# load_path = f\"/depot/cms/users/yun79/results/stage1/BDT_inputValidation_JetIdUpdate/{year}/f1_0\"\n",
    "load_path = f\"/depot/cms/users/yun79/results/stage1/BDT_inputValidation_JetIdUpdate/20*/f1_0\"\n",
    "\n",
    "# events_data = dak.from_parquet(f\"{load_path}/data_C/*/*.parquet\")\n",
    "events_data = dak.from_parquet(f\"{load_path}/data_*/*/*.parquet\")\n",
    "events_data = ak.zip({field: events_data[field] for field in fields2compute}).compute()\n",
    "events_data = applyGGH_cut(events_data)\n",
    "data_yield = ak.num(events_data.dimuon_mass, axis=0)\n",
    "\n",
    "# load_path = f\"/depot/cms/users/yun79/results/stage1/Run2UL_data_w_LumiMask_DefaultJEC_Oct16_2014/{year}/f1_0\"\n",
    "# load_path = f\"/depot/cms/users/yun79/results/stage1/Run2UL_data_w_LumiMask_DefaultJEC_RochOff_GeofitOff_Oct16_2014/{year}/f1_0\"\n",
    "# load_path = f\"/depot/cms/users/yun79/results/stage1/Run2UL_data_w_LumiMask_DefaultJEC_RochOff_GeofitOff_FsrOff_Oct16_2014/{year}/f1_0\"\n",
    "# load_path = f\"/depot/cms/users/yun79/results/stage1/Run2UL_data_w_LumiMask_DefaultJEC_RochOff_GeofitOff_ElectronEcalGapOn_Oct16_2014/{year}/f1_0\"\n",
    "# load_path = f\"/depot/cms/users/yun79/results/stage1/Run2UL_data_w_LumiMask_DefaultJEC_ElectronEcalGapOn_Oct16_2014/{year}/f1_0\"\n",
    "# load_path = f\"/depot/cms/users/yun79/results/stage1/Run2UL_data_w_LumiMask_ElectronEcalGapOn_TriggerMatchOff_Oct16_2014/{year}/f1_0\"\n",
    "# load_path = f\"/depot/cms/users/yun79/results/stage1/Run2UL_data_w_LumiMask_ElectronEcalGapOn_TriggerMatchOff_MuLeadingPtCutOff_Oct16_2014/{year}/f1_0\"\n",
    "# load_path = f\"/depot/cms/users/yun79/results/stage1/Run2UL_data_w_ElectronEcalGapOn_TriggerMatchOff_MuLeadingPtCutOff_DefaultJEC_Oct16_2014/{year}/f1_0\"\n",
    "# load_path = f\"/depot/cms/users/yun79/results/stage1/Run2UL_data_w_ElectronEcalGapOnNCorrected_TriggerMatchOff_MuLeadingPtCutOff_DefaultJEC_Oct16_2014/{year}/f1_0\"\n",
    "# load_path = f\"/depot/cms/users/yun79/results/stage1/Run2UL_data_w_MuLeadingPtCutOff_defaultJEC_BtagCorrected_Oct16_2014/{year}_RERECO/f1_0\"\n",
    "# load_path = f\"/depot/cms/users/yun79/results/stage1/Run2UL_data_w_ElectronEcalGapOnNCorrected_MuLeadingPtCutOff_defaultJEC_BtagCorrected_Oct16_2014/{year}_RERECO/f1_0\"\n",
    "# load_path = f\"/depot/cms/users/yun79/results/stage1/Run2_data_w_MuLeadingPtCutOff_defaultJEC_BtagCorrected_Oct16_2014/{year}_RERECO/f1_0\"\n",
    "# load_path = f\"/depot/cms/users/yun79/results/stage1/Run2_data_w_MuLeadingPtCutOff_defaultJEC_BtagCorrected_newEventFilter_Oct16_2014/{year}_RERECO/f1_0\"\n",
    "\n",
    "\n",
    "# load_path = f\"/depot/cms/users/yun79/results/stage1/Run2_data_w_MuLeadingPtCutOff_defaultJEC_BtagCorrected_newEventFilter_Oct16_2014/{year}_RERECO/f1_0\"\n",
    "# load_path = f\"/depot/cms/users/yun79/results/stage1/Run2_data_w_MuLeadingPtCutOff_defaultJEC_BtagCorrected_newEventFilter_HLTFixed_Oct16_2014/{year}_RERECO/f1_0\"\n",
    "# load_path = f\"/depot/cms/users/yun79/results/stage1/Run2_data_w_MuLeadingPtCutOff_TriggerMatchOff_defaultJEC_BtagCorrected_newEventFilter_HLTFixed_Oct16_2014/{year}_RERECO/f1_0\"\n",
    "# load_path = f\"/depot/cms/users/yun79/results/stage1/Run2_data_w_MuLeadingPtCutOff_defaultJEC_BtagCorrected_newEventFilter_HLTFixed_Oct16_2014/*_RERECO/f1_0\"\n",
    "# load_path = f\"/depot/cms/users/yun79/results/stage1/Run2_data_w_MuLeadingPtCutOff_TriggerMatchOff_defaultJEC_BtagCorrected_newEventFilter_HLTFixed_Oct16_2014/*_RERECO/f1_0\"\n",
    "# load_path = f\"/depot/cms/users/yun79/results/stage1/Run2_data_w_MuLeadingPtCutOff_TriggerMatchOff_defaultJEC_BtagCorrected_newEventFilter_HLTFixed_Oct16_2014/{year}_RERECO/f1_0\"\n",
    "# load_path = f\"/depot/cms/users/yun79/results/stage1/Run2_data_w_MuLeadingPtCutOff_TriggerMatchOff_defaultJEC_BtagCorrected_newEventFilter_HLTFixed_HltFillNoneTest_Oct16_2014/{year}_RERECO/f1_0\"\n",
    "# load_path = f\"/depot/cms/users/yun79/results/stage1/BDT_WgtON_original_AN_BDTV2_Oct18/{year}/f1_0\"\n",
    "# load_path = f\"/depot/cms/users/yun79/results/stage1/BDT_WgtON_original_AN_BDTV2_Oct18/*/f1_0\"\n",
    "load_path = f\"/depot/cms/users/yun79/results/stage1/RERECO_Run2_data_w_MuLeadingPtCutOff_defaultJEC_BtagCorrected_newEventFilter_HLTFixed_HltFillNoneTest_Oct18/*_RERECO/f1_0\"\n",
    "\n",
    "\n",
    "\n",
    "# events_data_rereco = dak.from_parquet(f\"{load_path}/data_C/*/*.parquet\")\n",
    "events_data_rereco = dak.from_parquet(f\"{load_path}/data_*/*/*.parquet\")\n",
    "events_data_rereco = ak.zip({field: events_data_rereco[field] for field in fields2compute}).compute()\n",
    "events_data_rereco = applyGGH_cut(events_data_rereco)\n",
    "data_yield_rereco = ak.num(events_data_rereco.dimuon_mass, axis=0)\n",
    "print(data_yield)\n",
    "print(data_yield_rereco)"
   ]
  },
  {
   "cell_type": "code",
   "execution_count": 6,
   "id": "9bea02ca-2935-4d97-b8d6-67bb6bc2e288",
   "metadata": {},
   "outputs": [],
   "source": [
    "# isnan = np.isnan(ak.to_numpy(events_bkg.wgt_nominal_total))\n",
    "# np.sum(isnan)\n",
    "# # hist_bkg"
   ]
  },
  {
   "cell_type": "code",
   "execution_count": 7,
   "id": "6aef3c9f-d2f2-4a80-b2ab-b27a9bd642ac",
   "metadata": {
    "scrolled": true
   },
   "outputs": [],
   "source": [
    "# nbins = 60\n",
    "# bin_map = {\n",
    "#      \"dimuon_pt\": [0,200, nbins], \n",
    "#     \"dimuon_rapidity\" : [-2.5,2.5, nbins], \n",
    "#     \"dimuon_eta\" : [-8,8, nbins],\n",
    "# }\n",
    "with open(\"./plot_settings_gghCat_BDT_input.json\", \"r\") as file:\n",
    "    bin_map = json.load(file)\n",
    "# bin_map"
   ]
  },
  {
   "cell_type": "code",
   "execution_count": 8,
   "id": "fa3ae764-41bf-4936-8cca-5ff778ddd9eb",
   "metadata": {
    "scrolled": true
   },
   "outputs": [
    {
     "name": "stdout",
     "output_type": "stream",
     "text": [
      "getHist weight sum: 13.84659559419017\n",
      "getHist value sum: -13723.506476295119\n",
      "getHist weight: [0.000352, 0.000295, 0.000369, 0.000393, ..., 2.4e-05, 2.13e-05, 2.67e-05]\n",
      "getHist value: [-1, -1, -1, -1, 2.36, -1, -1, 1.37, ..., -1, -1, -1, -1, -1, 2.56, 1.86, -1]\n",
      "getHist hist b4 normalization: [0.0459, 0.0445, 0.0458, 0.0512, 0.0449, ..., 0.0584, 0.069, 0.065, 0.0677]\n",
      "np.sum(hist): 0.9999999999999999\n",
      "getHist weight sum: 809642.0579307787\n",
      "getHist value sum: -9613472.744227482\n",
      "getHist weight: [0.0325, 0.0273, 0.0258, 0.0332, 0.0251, ..., 0.0132, 0.0178, 0.0119, 0.0143]\n",
      "getHist value: [-1, -1, -1, -1, -1, -1, -1, 1.44, ..., -1, 2.78, 2.18, -1, 2.33, -1, 1.8, 2.28]\n",
      "getHist hist b4 normalization: [1.18e+03, 1.2e+03, 1.2e+03, 1.24e+03, ..., 3.39e+03, 3.58e+03, 3.7e+03]\n",
      "np.sum(hist): 0.9999999999999998\n"
     ]
    },
    {
     "data": {
      "text/plain": [
       "<Figure size 1000x1000 with 0 Axes>"
      ]
     },
     "metadata": {},
     "output_type": "display_data"
    }
   ],
   "source": [
    "year = \"Run2\"\n",
    "# for field in cols_of_interest:\n",
    "for field in ([\"jj_dPhiV2\"]):\n",
    "    binning = np.linspace(*bin_map[field][\"binning_linspace\"])\n",
    "    xmin = bin_map[field][\"binning_linspace\"][0]\n",
    "    xmax = bin_map[field][\"binning_linspace\"][1]\n",
    "    hist_sig, edges = getHist(events_sig, field, binning)\n",
    "    # raise ValueError\n",
    "    hist_bkg, edges = getHist(events_bkg, field, binning)\n",
    "    fig, ax_main = plt.subplots()\n",
    "    # plt.stairs(hist_sig,edges=edges,label=\"signal\", color=\"blue\")\n",
    "    # plt.stairs(hist_bkg,edges=edges,label=\"background\", color=\"red\")\n",
    "    hep.histplot(\n",
    "        hist_sig, \n",
    "        bins=binning, \n",
    "        stack=False, \n",
    "        histtype='step', \n",
    "        color='blue', \n",
    "        label='signal', \n",
    "        ax=ax_main,\n",
    "    )\n",
    "    # print(f\"hist_bkg: {hist_bkg}\")\n",
    "    hep.histplot(\n",
    "        hist_bkg, \n",
    "        bins=binning, \n",
    "        stack=False, \n",
    "        histtype='step', \n",
    "        color='red', \n",
    "        label='background', \n",
    "        ax=ax_main,\n",
    "    )\n",
    "    ax_main.set_xlabel(bin_map[field][\"xlabel\"])\n",
    "    ax_main.set_ylabel(\"A.U.\")\n",
    "    if bin_map[field][\"logscale\"]:\n",
    "        plt.yscale('log')  # Set y-axis to log scale\n",
    "        plt.ylim(1e-3, 1)\n",
    "    plt.xlim(xmin, xmax)\n",
    "    plt.legend()\n",
    "    # plt.show()\n",
    "    CenterOfMass = 13\n",
    "    # lumi = 59.97 # 2018 lumi value\n",
    "    lumi = 137.9 # Run2 value\n",
    "    hep.cms.label(data=True, loc=0, label=\"Private Work\", com=CenterOfMass, ax=ax_main, lumi=lumi)\n",
    "    plt.savefig(f\"plots/BDT_input{year}_{field}\")\n",
    "    plt.clf()"
   ]
  },
  {
   "cell_type": "code",
   "execution_count": 9,
   "id": "58dcdad5-391a-4147-9827-1b876ea26b85",
   "metadata": {},
   "outputs": [
    {
     "data": {
      "text/plain": [
       "0"
      ]
     },
     "execution_count": 9,
     "metadata": {},
     "output_type": "execute_result"
    }
   ],
   "source": [
    "ak.sum(ak.is_none(events_bkg.jj_dPhiV2))"
   ]
  },
  {
   "cell_type": "code",
   "execution_count": 10,
   "id": "51b3e350-62e6-475d-82c2-2f9772cd12ba",
   "metadata": {},
   "outputs": [
    {
     "data": {
      "text/plain": [
       "True"
      ]
     },
     "execution_count": 10,
     "metadata": {},
     "output_type": "execute_result"
    }
   ],
   "source": [
    "import awkward as ak\n",
    "import numpy as np\n",
    "\n",
    "A = ak.Array([None,1])\n",
    "# np.isnan(ak.to_numpy(A))\n",
    "np.isnan( ak.Array([None,1]))\n",
    "np.any(ak.is_none(ak.Array([None,1])))"
   ]
  },
  {
   "cell_type": "code",
   "execution_count": 11,
   "id": "5454d642-f089-42f5-aa05-5bf2be38ac1d",
   "metadata": {},
   "outputs": [
    {
     "data": {
      "text/plain": [
       "array([ 100.        ,  129.1549665 ,  166.81005372,  215.443469  ,\n",
       "        278.25594022,  359.38136638,  464.15888336,  599.48425032,\n",
       "        774.26368268, 1000.        ])"
      ]
     },
     "execution_count": 11,
     "metadata": {},
     "output_type": "execute_result"
    }
   ],
   "source": [
    "np.logspace(2, 3, num=9+1)"
   ]
  },
  {
   "cell_type": "code",
   "execution_count": 12,
   "id": "35ce73d8-d514-4cb2-be04-d48ab7f8290b",
   "metadata": {},
   "outputs": [
    {
     "data": {
      "text/plain": [
       "array([0.1       , 0.12915497, 0.16681005, 0.21544347, 0.27825594,\n",
       "       0.35938137, 0.46415888, 0.59948425, 0.77426368, 1.        ])"
      ]
     },
     "execution_count": 12,
     "metadata": {},
     "output_type": "execute_result"
    }
   ],
   "source": [
    "np.logspace(-1, 0, num=9+1)"
   ]
  },
  {
   "cell_type": "code",
   "execution_count": 12,
   "id": "c18ee956-40ac-4f3d-bb9c-d74de5bfa23f",
   "metadata": {},
   "outputs": [
    {
     "data": {
      "text/plain": [
       "[0.02, 0.15, 0.28, 0.5, 0.67, 0.83]"
      ]
     },
     "execution_count": 12,
     "metadata": {},
     "output_type": "execute_result"
    }
   ],
   "source": [
    "sorted([0.5, 0.15, 0.83, 0.02, 0.28, 0.67])"
   ]
  },
  {
   "cell_type": "code",
   "execution_count": null,
   "id": "0cb190b3-eedb-4084-b113-33957d9502c7",
   "metadata": {},
   "outputs": [],
   "source": [
    "# import dask_awkward as dak\n",
    "# import awkward as ak\n",
    "# from coffea.nanoevents import NanoEventsFactory, NanoAODSchema\n",
    "# from dask_awkward.lib.core import map_partitions\n",
    "# import numpy as np\n",
    "\n",
    "# input_dict = {\"test\": {\n",
    "#     \"files\": {\n",
    "#         # \"root://eos.cms.rcac.purdue.edu:1094//store/mc/RunIISummer20UL18NanoAODv9/DYJetsToLL_M-100to200_TuneCP5_13TeV-amcatnloFXFX-pythia8/NANOAODSIM/106X_upgrade2018_realistic_v16_L1v1-v1/40000/AA6F89B0-EDAA-3942-A3BB-BC3709722EB4.root\": {\n",
    "#         \"root://eos.cms.rcac.purdue.edu//store/group/local/hmm/FSRnano18D_NANOV10b/SingleMuon/RunIISummer16MiniAODv3_FSRnano18D_NANOV10b_un2018D-22Jan2019-v2/200408_223523/0004/nano18D_NANO_4814.root\" : {\n",
    "#             \"object_path\": \"Events\", \"steps\": [[0, 10000],[10000, 20000]], \"num_entries\": 19, \"uuid\": \"77528b92-6481-11ef-aeb3-83890d0abeef\"}\n",
    "#     }, \n",
    "#     \"form\": None, \"metadata\": {\"sumGenWgts\": 217532.83170000004, \"nGenEvts\": 1959, \"data_entries\": None, \"fraction\": 1.0, \"original_fraction\": 1.0, \"is_mc\": True, \"dataset\": \"test\"}}}\n",
    "\n",
    "# events = NanoEventsFactory.from_root(\n",
    "#     input_dict['test']['files'],\n",
    "#     schemaclass=NanoAODSchema,\n",
    "# ).events()"
   ]
  },
  {
   "cell_type": "code",
   "execution_count": 36,
   "id": "51f7ea93-d628-4473-a965-e8bb4eb99d12",
   "metadata": {},
   "outputs": [
    {
     "name": "stderr",
     "output_type": "stream",
     "text": [
      "/depot/cms/kernels/root632/lib/python3.12/site-packages/coffea/nanoevents/methods/candidate.py:11: FutureWarning: In version 2025.1.0 (target date: 2024-12-31 11:59:59-06:00), this will be an error.\n",
      "To raise these warnings as errors (and get stack traces to find out where they're called), run\n",
      "    import warnings\n",
      "    warnings.filterwarnings(\"error\", module=\"coffea.*\")\n",
      "after the first `import coffea` or use `@pytest.mark.filterwarnings(\"error:::coffea.*\")` in pytest.\n",
      "Issue: coffea.nanoevents.methods.vector will be removed and replaced with scikit-hep vector. Nanoevents schemas internal to coffea will be migrated. Otherwise please consider using that package!.\n",
      "  from coffea.nanoevents.methods import vector\n",
      "/depot/cms/kernels/root632/lib/python3.12/site-packages/coffea/nanoevents/methods/candidate.py:11: FutureWarning: In version 2025.1.0 (target date: 2024-12-31 11:59:59-06:00), this will be an error.\n",
      "To raise these warnings as errors (and get stack traces to find out where they're called), run\n",
      "    import warnings\n",
      "    warnings.filterwarnings(\"error\", module=\"coffea.*\")\n",
      "after the first `import coffea` or use `@pytest.mark.filterwarnings(\"error:::coffea.*\")` in pytest.\n",
      "Issue: coffea.nanoevents.methods.vector will be removed and replaced with scikit-hep vector. Nanoevents schemas internal to coffea will be migrated. Otherwise please consider using that package!.\n",
      "  from coffea.nanoevents.methods import vector\n"
     ]
    },
    {
     "data": {
      "text/plain": [
       "0"
      ]
     },
     "execution_count": 36,
     "metadata": {},
     "output_type": "execute_result"
    }
   ],
   "source": [
    "ak.sum(events.GenJet.pt < 10).compute()"
   ]
  },
  {
   "cell_type": "code",
   "execution_count": 14,
   "id": "9c25b68d-ba02-49aa-aa34-be7313cd762a",
   "metadata": {},
   "outputs": [
    {
     "name": "stderr",
     "output_type": "stream",
     "text": [
      "Warning in <TClass::Init>: no dictionary for class edm::Hash<1> is available\n",
      "Warning in <TClass::Init>: no dictionary for class edm::ParameterSetBlob is available\n",
      "Warning in <TClass::Init>: no dictionary for class edm::ProcessHistory is available\n",
      "Warning in <TClass::Init>: no dictionary for class edm::ProcessConfiguration is available\n",
      "Warning in <TClass::Init>: no dictionary for class pair<edm::Hash<1>,edm::ParameterSetBlob> is available\n"
     ]
    }
   ],
   "source": [
    "# import ROOT as rt\n",
    "\n",
    "# # file = rt.TFile(\"/eos/purdue/store/group/local/hmm/FSRnano18D_NANOV10b/SingleMuon/RunIISummer16MiniAODv3_FSRnano18D_NANOV10b_un2018D-22Jan2019-v2/200408_223523/0004/nano18D_NANO_4814.root\")\n",
    "# file = rt.TFile(\"/eos/purdue/store/group/local/hmm/FSRnano18D_NANOV10b/SingleMuon/RunIISummer16MiniAODv3_FSRnano18D_NANOV10b_un2018D-22Jan2019-v2/200408_223523/0004/nano18D_NANO_4813.root\")"
   ]
  },
  {
   "cell_type": "code",
   "execution_count": null,
   "id": "3f61477c-ad90-4920-9ccc-76cea0438c47",
   "metadata": {},
   "outputs": [],
   "source": []
  }
 ],
 "metadata": {
  "kernelspec": {
   "display_name": "Python [conda env:root632]",
   "language": "python",
   "name": "conda-env-root632-py"
  },
  "language_info": {
   "codemirror_mode": {
    "name": "ipython",
    "version": 3
   },
   "file_extension": ".py",
   "mimetype": "text/x-python",
   "name": "python",
   "nbconvert_exporter": "python",
   "pygments_lexer": "ipython3",
   "version": "3.12.5"
  }
 },
 "nbformat": 4,
 "nbformat_minor": 5
}
