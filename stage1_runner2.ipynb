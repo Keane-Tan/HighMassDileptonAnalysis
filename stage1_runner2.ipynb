{
 "cells": [
  {
   "cell_type": "code",
   "execution_count": 1,
   "id": "70a0f4b5-bda0-4630-962c-8db1ad95a36c",
   "metadata": {
    "scrolled": true
   },
   "outputs": [
    {
     "name": "stdout",
     "output_type": "stream",
     "text": [
      "Local scale Client created\n",
      "new dataset: dict_keys(['dy_M-100To200', 'ttjets_dl', 'ttjets_sl'])\n",
      "  0%|                                                     | 0/3 [00:00<?, ?it/s]sample_name: dy_M-100To200\n",
      "len(fnames): 128\n",
      "2024-03-15 03:10:06,403 - distributed.core - INFO - Connection to tcp://127.0.0.1:41267 has been closed.\n",
      "2024-03-15 03:10:06,403 - distributed.core - INFO - Connection to tcp://127.0.0.1:41267 has been closed.\n",
      "2024-03-15 03:10:06,404 - distributed.core - INFO - Connection to tcp://127.0.0.1:41267 has been closed.\n",
      "2024-03-15 03:10:06,404 - distributed.core - INFO - Connection to tcp://127.0.0.1:41267 has been closed.\n",
      "2024-03-15 03:10:06,405 - distributed.core - INFO - Connection to tcp://127.0.0.1:41267 has been closed.\n",
      "2024-03-15 03:10:06,406 - distributed.core - INFO - Connection to tcp://127.0.0.1:41267 has been closed.\n",
      "2024-03-15 03:10:06,407 - distributed.core - INFO - Connection to tcp://127.0.0.1:41267 has been closed.\n",
      "2024-03-15 03:10:06,424 - distributed.core - INFO - Connection to tcp://127.0.0.1:41267 has been closed.\n",
      " 33%|███████████████                              | 1/3 [00:34<01:08, 34.24s/it]sample_name: ttjets_dl\n",
      "len(fnames): 155\n",
      "2024-03-15 03:10:28,420 - distributed.core - INFO - Connection to tcp://127.0.0.1:41267 has been closed.\n",
      "2024-03-15 03:10:28,422 - distributed.core - INFO - Connection to tcp://127.0.0.1:41267 has been closed.\n",
      "2024-03-15 03:10:28,422 - distributed.core - INFO - Connection to tcp://127.0.0.1:41267 has been closed.\n",
      "2024-03-15 03:10:28,422 - distributed.core - INFO - Connection to tcp://127.0.0.1:41267 has been closed.\n",
      "2024-03-15 03:10:28,422 - distributed.core - INFO - Connection to tcp://127.0.0.1:41267 has been closed.\n",
      "2024-03-15 03:10:28,423 - distributed.core - INFO - Connection to tcp://127.0.0.1:41267 has been closed.\n",
      "2024-03-15 03:10:28,424 - distributed.core - INFO - Connection to tcp://127.0.0.1:41267 has been closed.\n",
      "2024-03-15 03:10:28,424 - distributed.core - INFO - Connection to tcp://127.0.0.1:41267 has been closed.\n",
      "2024-03-15 03:10:28,424 - distributed.core - INFO - Connection to tcp://127.0.0.1:41267 has been closed.\n",
      "2024-03-15 03:10:28,425 - distributed.core - INFO - Connection to tcp://127.0.0.1:41267 has been closed.\n",
      "2024-03-15 03:10:41,418 - distributed.core - INFO - Connection to tcp://127.0.0.1:41267 has been closed.\n",
      "2024-03-15 03:10:41,418 - distributed.core - INFO - Connection to tcp://127.0.0.1:41267 has been closed.\n",
      "2024-03-15 03:10:41,458 - distributed.core - INFO - Connection to tcp://127.0.0.1:41267 has been closed.\n",
      " 67%|██████████████████████████████               | 2/3 [00:58<00:28, 28.49s/it]2024-03-15 03:10:43,399 - distributed.core - INFO - Connection to tcp://127.0.0.1:41267 has been closed.\n",
      "2024-03-15 03:10:44,397 - distributed.core - INFO - Connection to tcp://127.0.0.1:41267 has been closed.\n",
      "2024-03-15 03:10:45,399 - distributed.core - INFO - Connection to tcp://127.0.0.1:41267 has been closed.\n",
      "sample_name: ttjets_sl\n",
      "len(fnames): 391\n",
      "2024-03-15 03:11:53,708 - distributed.core - INFO - Connection to tcp://127.0.0.1:41267 has been closed.\n",
      "2024-03-15 03:11:53,708 - distributed.core - INFO - Connection to tcp://127.0.0.1:41267 has been closed.\n",
      "2024-03-15 03:11:53,736 - distributed.core - INFO - Connection to tcp://127.0.0.1:41267 has been closed.\n",
      "2024-03-15 03:11:53,737 - distributed.core - INFO - Connection to tcp://127.0.0.1:41267 has been closed.\n",
      "2024-03-15 03:11:53,748 - distributed.core - INFO - Connection to tcp://127.0.0.1:41267 has been closed.\n",
      "2024-03-15 03:11:53,749 - distributed.core - INFO - Connection to tcp://127.0.0.1:41267 has been closed.\n",
      "2024-03-15 03:11:53,751 - distributed.core - INFO - Connection to tcp://127.0.0.1:41267 has been closed.\n",
      "2024-03-15 03:11:53,752 - distributed.core - INFO - Connection to tcp://127.0.0.1:41267 has been closed.\n",
      "2024-03-15 03:11:53,753 - distributed.core - INFO - Connection to tcp://127.0.0.1:41267 has been closed.\n",
      "100%|█████████████████████████████████████████████| 3/3 [02:11<00:00, 43.79s/it]\n",
      "Finished everything in 133.415 s.\n",
      "Total Events in files 840754954.\n",
      "2024-03-15 03:11:55,882 - distributed.core - INFO - Connection to tcp://127.0.0.1:41267 has been closed.\n",
      "2024-03-15 03:11:57,276 - distributed.deploy.adaptive_core - INFO - Adaptive stop\n"
     ]
    }
   ],
   "source": [
    "# ! python run_prestage.py --year 2018 --chunksize 10000\n",
    "# ! python run_prestage.py --year 2018 --chunksize 5000\n",
    "# ! python run_prestage.py --year 2018 --chunksize 20000\n",
    "# ! python run_prestage.py --year 2018 --chunksize 100000\n",
    "# ! python -W ignore  run_prestage.py --chunksize 200000 --input_string \"Year_2018/DataRun_A,B,C,D/Bkg_DY,TT/Sig_ggH,VBF\"\n",
    "# ! python run_prestage.py --chunksize 80000 --input_string \"Year_2018/DataRun_A,C/Bkg_TT/Sig_\"\n",
    "# ! python run_prestage.py --chunksize 80000 --year 2018 --input_string \"/DataRun_A,B,C,D/Bkg_DY,TT/Sig_ggH,VBF\" --cluster True\n",
    "# ! python run_prestage.py --chunksize 80000 --year 2018 --input_string \"/DataRun_/Bkg_TT/Sig_ggH,VBF\" --cluster True\n",
    "# data_l = ['A', 'B', 'C', 'D']\n",
    "data_l = []\n",
    "bkg_l = ['DY', 'TT',]\n",
    "# sig_l = ['ggH', 'VBF']\n",
    "# bkg_l = []\n",
    "sig_l = []\n",
    "! python run_prestage.py --chunksize 100000 --year 2018  --data {' '.join(data_l)} --background {' '.join(bkg_l)} --signal {' '.join(sig_l)}\n",
    "# ! python run_prestage.py --chunksize 5000 --year 2018  --data {' '.join(data_l)} --background {' '.join(bkg_l)} --signal {' '.join(sig_l)}"
   ]
  },
  {
   "cell_type": "code",
   "execution_count": 4,
   "id": "58807b89-458f-4e69-b271-c5ca4ee4daa9",
   "metadata": {},
   "outputs": [
    {
     "name": "stdout",
     "output_type": "stream",
     "text": [
      "  0%|                                                     | 0/3 [00:00<?, ?it/s]new_samples[sample_name]['metadata']['fraction']: 0.29999999908811936\n",
      "new_samples[sample_name]['metadata']['fraction']: 0.3\n",
      "new_samples[sample_name]['metadata']['fraction']: 0.3\n",
      "100%|███████████████████████████████████████████| 3/3 [00:00<00:00, 3505.97it/s]\n",
      "Finished everything in 0.033 s.\n"
     ]
    }
   ],
   "source": [
    "# ! python run_prestage.py --change_fraction 0.1\n",
    "# ! python run_prestage.py --change_fraction 0.001\n",
    "# ! python run_prestage.py --change_fraction 0.0005\n",
    "# ! python run_prestage.py --change_fraction 0.09 \n",
    "# ! python run_prestage.py --change_fraction 0.25\n",
    "# ! python run_prestage.py --change_fraction 1.0\n",
    "! python run_prestage.py --change_fraction 0.3"
   ]
  },
  {
   "cell_type": "code",
   "execution_count": 5,
   "id": "a49e9bf1-138f-41b4-945e-a8e23a7cc798",
   "metadata": {
    "scrolled": true
   },
   "outputs": [],
   "source": [
    "# !  python -W ignore run_stage1.py  --save_path \"/depot/cms/users/yun79/results/stage1/test/\"\n",
    "# ! nohup python -W ignore run_stage1.py  --save_path \"/depot/cms/users/yun79/results/stage1/test_full/\" &> output.log\n",
    "# ! python -W ignore run_stage1.py  --save_path \"/depot/cms/users/yun79/results/stage1/test_full/\" \n",
    "# ! nohup python -W ignore run_stage1.py  --save_path \"/depot/cms/users/yun79/results/stage1/test_full3/\"  &> output.log\n",
    "# ! python -W ignore run_stage1.py -y 2018 --save_path  \"/depot/cms/users/yun79/results/stage1/test_full3\"\n",
    "# ! python -W ignore run_stage1.py -y 2018 --save_path  \"/depot/cms/users/yun79/results/stage1/test_full2\"\n",
    "# ! nohup python -W ignore run_stage1.py -y 2018 --use_gateway --save_path  \"/depot/cms/users/yun79/results/stage1/test_validation_bigV2\" \n",
    "! nohup python -W ignore run_stage1.py -y 2018 --save_path  \"/depot/cms/users/yun79/results/stage1/test_validation_bigV2_2\" &> output.log\n",
    "# ! python -W ignore run_stage1.py -y 2018 --save_path  \"/depot/cms/users/yun79/results/stage1/test_validation_bigV2_2\" "
   ]
  },
  {
   "cell_type": "code",
   "execution_count": null,
   "id": "f2bffeb7-1839-429b-be54-d84791922be5",
   "metadata": {},
   "outputs": [],
   "source": []
  }
 ],
 "metadata": {
  "kernelspec": {
   "display_name": "Python [conda env:coffea2024]",
   "language": "python",
   "name": "conda-env-coffea2024-py"
  },
  "language_info": {
   "codemirror_mode": {
    "name": "ipython",
    "version": 3
   },
   "file_extension": ".py",
   "mimetype": "text/x-python",
   "name": "python",
   "nbconvert_exporter": "python",
   "pygments_lexer": "ipython3",
   "version": "3.10.13"
  }
 },
 "nbformat": 4,
 "nbformat_minor": 5
}
