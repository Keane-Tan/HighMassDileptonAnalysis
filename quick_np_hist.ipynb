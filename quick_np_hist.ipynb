{
 "cells": [
  {
   "cell_type": "code",
   "execution_count": 2,
   "id": "f43fe434-43f6-4d54-8348-fb36e74e1ad4",
   "metadata": {},
   "outputs": [],
   "source": [
    "import json\n",
    "import numpy as np\n",
    "import dask_awkward as dak"
   ]
  },
  {
   "cell_type": "code",
   "execution_count": 65,
   "id": "80a0267d-a2a4-48a7-acac-9859b3f95578",
   "metadata": {},
   "outputs": [
    {
     "name": "stdout",
     "output_type": "stream",
     "text": [
      "process: ggh_powheg\n",
      "['mu1_pt', 'mu2_pt', 'mu1_eta', 'mu2_eta', 'mu1_phi', 'mu2_phi', 'mu1_iso', 'mu2_iso', 'dimuon_mass', 'dimuon_ebe_mass_res', 'dimuon_ebe_mass_res_rel', 'dimuon_pt', 'dimuon_eta', 'dimuon_phi', 'dimuon_dEta', 'dimuon_dPhi', 'dimuon_dR', 'dimuon_cos_theta_cs', 'dimuon_phi_cs', 'jet1_pt', 'jet1_eta', 'jet1_rap', 'jet1_phi', 'jet1_qgl', 'jet1_jetId', 'jet1_puId', 'jet2_pt', 'jet2_eta', 'jet2_rap', 'jet2_phi', 'jet2_qgl', 'jet2_jetId', 'jet2_puId', 'jj_mass', 'jj_pt', 'jj_eta', 'jj_phi', 'jj_dEta', 'jj_dPhi', 'mmj1_dEta', 'mmj1_dPhi', 'mmj1_dR', 'mmj2_dEta', 'mmj2_dPhi', 'mmj2_dR', 'mmj_min_dEta', 'mmj_min_dPhi', 'mmjj_pt', 'mmjj_eta', 'mmjj_phi', 'mmjj_mass', 'rpt', 'zeppenfeld', 'njets', 'nBtagLoose', 'nBtagMedium', 'z_peak', 'h_sidebands', 'h_peak', 'vbf_cut', 'fraction', 'gjj_mass', 'gjet1_pt', 'gjet2_pt', 'gjet1_eta', 'gjet2_eta', 'gjet1_phi', 'gjet2_phi', 'gjet1_mass', 'gjet2_mass', 'gjj_dEta', 'gjj_dPhi', 'gjj_dR', 'weight_nominal']\n"
     ]
    }
   ],
   "source": [
    "with open(\"./histogram/plot_settings.json\", \"r\") as file:\n",
    "    plot_settings = json.load(file)\n",
    "available_processes = [\"ggh_powheg\"]\n",
    "# process = \"vbf_powheg\"\n",
    "load_path = \"/depot/cms/users/yun79/results/stage1/test_full\"\n",
    "# load_path = load_path + f\"/f0_1\"\n",
    "load_path = load_path + f\"/f0_001\"\n",
    "# color_map= {\n",
    "#     \"vbf_powheg\" : \n",
    "# }\n",
    "var = \"jet1_pt\"\n",
    "binning = np.linspace(*plot_settings[var][\"binning_linspace\"])\n",
    "data_hists = []\n",
    "mc_hists = []\n",
    "# dummy_hist.Draw(\"hist\");\n",
    "\n",
    "for process in available_processes:\n",
    "    print(f\"process: {process}\")\n",
    "    full_load_path = load_path+f\"/{process}/*/*.parquet\"\n",
    "    events = dak.from_parquet(full_load_path) \n",
    "    print(events.fields)"
   ]
  },
  {
   "cell_type": "code",
   "execution_count": 6,
   "id": "bc5ad67a-97ca-4256-9795-baa2d08f50ee",
   "metadata": {},
   "outputs": [],
   "source": [
    "#checkt that there's no None values\n",
    "import awkward as \n",
    "\n",
    "arr = ak.fill_none((events.h_sidebands.compute() | events.h_peak.compute()), value=-999)\n",
    "print(ak.sum(arr==-999))"
   ]
  },
  {
   "cell_type": "code",
   "execution_count": 17,
   "id": "45522e65-fa3c-4020-88b4-b51a4aa4a78d",
   "metadata": {},
   "outputs": [],
   "source": []
  },
  {
   "cell_type": "code",
   "execution_count": 19,
   "id": "a84ba0ea-bfa3-4a0c-b78c-e62d7c104a2a",
   "metadata": {},
   "outputs": [
    {
     "data": {
      "text/plain": [
       "(129926,)"
      ]
     },
     "execution_count": 19,
     "metadata": {},
     "output_type": "execute_result"
    }
   ],
   "source": [
    "np_arr.shape"
   ]
  },
  {
   "cell_type": "code",
   "execution_count": 20,
   "id": "47ee6bf6-070e-4475-af1f-12d1e350f633",
   "metadata": {},
   "outputs": [
    {
     "data": {
      "text/plain": [
       "(123090,)"
      ]
     },
     "execution_count": 20,
     "metadata": {},
     "output_type": "execute_result"
    }
   ],
   "source": [
    "np_arr[np_arr==True].shape"
   ]
  },
  {
   "cell_type": "code",
   "execution_count": 21,
   "id": "2325dad2-acce-46b6-9285-3d58333f52b0",
   "metadata": {},
   "outputs": [
    {
     "data": {
      "text/plain": [
       "[25, 300, 30]"
      ]
     },
     "execution_count": 21,
     "metadata": {},
     "output_type": "execute_result"
    }
   ],
   "source": [
    "plot_settings[var][\"binning_linspace\"]"
   ]
  },
  {
   "cell_type": "code",
   "execution_count": 78,
   "id": "625e9e3a-3ff7-4ca1-b31f-349ac6a2c3ff",
   "metadata": {},
   "outputs": [
    {
     "data": {
      "text/plain": [
       "array([3., 0., 0., 0., 0., 0., 0.])"
      ]
     },
     "execution_count": 78,
     "metadata": {},
     "output_type": "execute_result"
    }
   ],
   "source": [
    "test_binning = np.linspace(0,8,8)\n",
    "np_array = np.ones(5)\n",
    "np_weight = np.ones(5)\n",
    "np_weight[2:4] = 0\n",
    "np_hist, edges = np.histogram(np_array, bins=test_binning, weights=np_weight)\n",
    "np_hist"
   ]
  },
  {
   "cell_type": "code",
   "execution_count": 85,
   "id": "55a6ed7d-ef74-4118-9874-25da1c2a3608",
   "metadata": {},
   "outputs": [
    {
     "data": {
      "text/plain": [
       "array([6., 0., 0., 0., 0., 0., 0.])"
      ]
     },
     "execution_count": 85,
     "metadata": {},
     "output_type": "execute_result"
    }
   ],
   "source": [
    "np_hist*2"
   ]
  },
  {
   "cell_type": "code",
   "execution_count": 66,
   "id": "4bd4ca33-4def-437f-966f-f941c5676a65",
   "metadata": {},
   "outputs": [
    {
     "data": {
      "text/plain": [
       "(608,)"
      ]
     },
     "execution_count": 66,
     "metadata": {},
     "output_type": "execute_result"
    }
   ],
   "source": [
    "vbf_cut = ak.fill_none(events.vbf_cut, value=False) # in the future none values will be replaced with False\n",
    "region = events.h_sidebands | events.h_peak\n",
    "btag_cut =(events.nBtagLoose >= 2) | (events.nBtagMedium >= 1)\n",
    "cat_selection = (\n",
    "    ~vbf_cut & # we're interested in ggH category\n",
    "    region &\n",
    "    btag_cut # btag cut is for VH and ttH categories\n",
    ").compute()\n",
    "cat_selection = ak.to_numpy(cat_selection)\n",
    "cat_selection[cat_selection].shape"
   ]
  },
  {
   "cell_type": "code",
   "execution_count": 67,
   "id": "2eda511b-07ac-41a5-9c44-f7fde3bac74f",
   "metadata": {},
   "outputs": [
    {
     "data": {
      "text/plain": [
       "641"
      ]
     },
     "execution_count": 67,
     "metadata": {},
     "output_type": "execute_result"
    }
   ],
   "source": [
    "ak.num(events.h_sidebands, axis=0).compute()\n",
    "cat_selection"
   ]
  },
  {
   "cell_type": "code",
   "execution_count": 83,
   "id": "aa77e579-f4fc-4ac6-8311-2c13997d4985",
   "metadata": {},
   "outputs": [
    {
     "data": {
      "text/plain": [
       "array([0.5, 0.5, 0.5, 0.5, 0.5, 0.5, 0.5, 0.5, 0. , 0.5, 0.5, 0.5, 0.5,\n",
       "       0.5, 0.5, 0.5, 0.5, 0. , 0.5, 0.5, 0.5, 0. , 0.5, 0.5, 0.5, 0.5,\n",
       "       0.5, 0.5, 0.5, 0.5, 0. , 0.5, 0.5, 0.5, 0.5, 0.5, 0.5, 0.5, 0.5,\n",
       "       0.5, 0.5, 0.5, 0.5, 0.5, 0.5, 0.5, 0.5, 0.5, 0.5, 0.5, 0.5, 0. ,\n",
       "       0.5, 0.5, 0.5, 0.5, 0.5, 0.5, 0.5, 0.5, 0.5, 0.5, 0.5, 0.5, 0.5,\n",
       "       0.5, 0.5, 0.5, 0.5, 0.5, 0.5, 0.5, 0.5, 0.5, 0. , 0.5, 0.5, 0.5,\n",
       "       0.5, 0. , 0.5, 0.5, 0.5, 0.5, 0.5, 0. , 0.5, 0.5, 0.5, 0.5, 0.5,\n",
       "       0.5, 0.5, 0.5, 0.5, 0.5, 0.5, 0.5, 0.5, 0.5, 0.5, 0.5, 0.5, 0.5,\n",
       "       0.5, 0.5, 0.5, 0.5, 0.5, 0.5, 0.5, 0.5, 0.5, 0.5, 0.5, 0.5, 0.5,\n",
       "       0.5, 0.5, 0.5, 0.5, 0.5, 0.5, 0.5, 0.5, 0.5, 0.5, 0.5, 0.5, 0.5,\n",
       "       0.5, 0.5, 0.5, 0.5, 0.5, 0.5, 0.5, 0.5, 0.5, 0.5, 0.5, 0.5, 0. ,\n",
       "       0.5, 0.5, 0.5, 0.5, 0.5, 0.5, 0.5, 0.5, 0.5, 0.5, 0.5, 0. , 0.5,\n",
       "       0.5, 0.5, 0.5, 0.5, 0. , 0.5, 0.5, 0.5, 0.5, 0.5, 0.5, 0.5, 0.5,\n",
       "       0.5, 0.5, 0.5, 0.5, 0.5, 0.5, 0.5, 0.5, 0.5, 0.5, 0.5, 0.5, 0.5,\n",
       "       0.5, 0.5, 0.5, 0.5, 0.5, 0.5, 0.5, 0.5, 0.5, 0.5, 0.5, 0.5, 0.5,\n",
       "       0.5, 0.5, 0.5, 0.5, 0.5, 0.5, 0.5, 0.5, 0.5, 0.5, 0.5, 0.5, 0.5,\n",
       "       0.5, 0.5, 0.5, 0.5, 0.5, 0.5, 0.5, 0.5, 0.5, 0.5, 0.5, 0.5, 0.5,\n",
       "       0.5, 0.5, 0.5, 0.5, 0.5, 0.5, 0.5, 0.5, 0.5, 0.5, 0.5, 0.5, 0.5,\n",
       "       0.5, 0.5, 0.5, 0.5, 0.5, 0.5, 0.5, 0.5, 0.5, 0.5, 0.5, 0.5, 0.5,\n",
       "       0.5, 0.5, 0.5, 0.5, 0.5, 0.5, 0.5, 0.5, 0.5, 0.5, 0.5, 0.5, 0.5,\n",
       "       0.5, 0.5, 0.5, 0.5, 0.5, 0.5, 0.5, 0.5, 0.5, 0.5, 0.5, 0.5, 0.5,\n",
       "       0.5, 0.5, 0.5, 0.5, 0.5, 0.5, 0.5, 0.5, 0.5, 0.5, 0.5, 0.5, 0.5,\n",
       "       0.5, 0.5, 0.5, 0.5, 0.5, 0.5, 0. , 0.5, 0.5, 0.5, 0.5, 0.5, 0.5,\n",
       "       0.5, 0.5, 0.5, 0. , 0.5, 0.5, 0.5, 0.5, 0.5, 0.5, 0.5, 0. , 0.5,\n",
       "       0.5, 0.5, 0. , 0.5, 0.5, 0.5, 0.5, 0.5, 0.5, 0.5, 0.5, 0. , 0.5,\n",
       "       0.5, 0.5, 0.5, 0.5, 0.5, 0. , 0.5, 0.5, 0.5, 0.5, 0.5, 0.5, 0.5,\n",
       "       0.5, 0.5, 0.5, 0.5, 0.5, 0. , 0.5, 0.5, 0.5, 0.5, 0.5, 0.5, 0.5,\n",
       "       0.5, 0.5, 0.5, 0.5, 0.5, 0.5, 0.5, 0.5, 0.5, 0.5, 0.5, 0.5, 0.5,\n",
       "       0.5, 0.5, 0.5, 0.5, 0.5, 0.5, 0.5, 0.5, 0.5, 0.5, 0.5, 0.5, 0.5,\n",
       "       0.5, 0.5, 0.5, 0.5, 0.5, 0.5, 0.5, 0.5, 0.5, 0.5, 0.5, 0.5, 0.5,\n",
       "       0.5, 0.5, 0.5, 0.5, 0.5, 0.5, 0.5, 0.5, 0.5, 0.5, 0.5, 0.5, 0.5,\n",
       "       0.5, 0.5, 0.5, 0.5, 0.5, 0.5, 0.5, 0.5, 0.5, 0.5, 0.5, 0.5, 0.5,\n",
       "       0.5, 0.5, 0.5, 0.5, 0.5, 0.5, 0.5, 0.5, 0.5, 0.5, 0.5, 0.5, 0.5,\n",
       "       0.5, 0.5, 0.5, 0.5, 0.5, 0.5, 0.5, 0.5, 0.5, 0. , 0.5, 0.5, 0.5,\n",
       "       0.5, 0. , 0.5, 0.5, 0.5, 0.5, 0.5, 0.5, 0. , 0.5, 0.5, 0.5, 0.5,\n",
       "       0.5, 0.5, 0.5, 0.5, 0.5, 0.5, 0.5, 0.5, 0.5, 0.5, 0.5, 0.5, 0.5,\n",
       "       0.5, 0.5, 0.5, 0.5, 0.5, 0.5, 0.5, 0.5, 0.5, 0.5, 0.5, 0.5, 0.5,\n",
       "       0.5, 0.5, 0.5, 0.5, 0.5, 0.5, 0. , 0.5, 0.5, 0.5, 0.5, 0.5, 0.5,\n",
       "       0.5, 0.5, 0.5, 0.5, 0.5, 0.5, 0. , 0.5, 0.5, 0.5, 0.5, 0.5, 0. ,\n",
       "       0.5, 0.5, 0.5, 0.5, 0.5, 0.5, 0.5, 0.5, 0.5, 0.5, 0.5, 0.5, 0.5,\n",
       "       0.5, 0.5, 0.5, 0.5, 0.5, 0.5, 0.5, 0.5, 0.5, 0.5, 0.5, 0.5, 0. ,\n",
       "       0.5, 0.5, 0.5, 0.5, 0.5, 0.5, 0.5, 0.5, 0.5, 0.5, 0.5, 0.5, 0.5,\n",
       "       0.5, 0.5, 0.5, 0.5, 0.5, 0. , 0.5, 0.5, 0. , 0.5, 0.5, 0.5, 0.5,\n",
       "       0.5, 0.5, 0.5, 0.5, 0.5, 0. , 0.5, 0.5, 0.5, 0.5, 0.5, 0.5, 0.5,\n",
       "       0. , 0.5, 0.5, 0.5, 0.5, 0.5, 0.5, 0.5, 0.5, 0. , 0.5, 0.5, 0.5,\n",
       "       0.5, 0.5, 0.5, 0.5, 0.5, 0.5, 0. , 0.5, 0.5, 0.5, 0.5, 0.5, 0.5,\n",
       "       0.5, 0.5, 0.5, 0.5, 0.5, 0.5, 0.5, 0.5, 0.5, 0.5, 0.5, 0.5, 0.5,\n",
       "       0.5, 0.5, 0.5, 0.5, 0.5, 0.5, 0.5, 0.5, 0.5, 0. , 0.5, 0.5, 0.5,\n",
       "       0. , 0.5, 0.5, 0.5, 0.5, 0.5, 0.5, 0.5, 0.5, 0.5, 0.5, 0.5, 0.5,\n",
       "       0.5, 0.5, 0.5, 0.5])"
      ]
     },
     "execution_count": 83,
     "metadata": {},
     "output_type": "execute_result"
    }
   ],
   "source": [
    "cat_selection * 1/2"
   ]
  },
  {
   "cell_type": "code",
   "execution_count": null,
   "id": "243f0c82-f7ee-47df-a2ee-87b2f5cffdc1",
   "metadata": {},
   "outputs": [],
   "source": []
  }
 ],
 "metadata": {
  "kernelspec": {
   "display_name": "Python [conda env:coffea2024]",
   "language": "python",
   "name": "conda-env-coffea2024-py"
  },
  "language_info": {
   "codemirror_mode": {
    "name": "ipython",
    "version": 3
   },
   "file_extension": ".py",
   "mimetype": "text/x-python",
   "name": "python",
   "nbconvert_exporter": "python",
   "pygments_lexer": "ipython3",
   "version": "3.10.13"
  }
 },
 "nbformat": 4,
 "nbformat_minor": 5
}
