{
 "cells": [
  {
   "cell_type": "code",
   "execution_count": 1,
   "id": "b9fe889b-d132-4cbc-93ad-5b2705804ab8",
   "metadata": {},
   "outputs": [],
   "source": [
    "import ROOT"
   ]
  },
  {
   "cell_type": "code",
   "execution_count": 47,
   "id": "f4174c64-033c-4cc0-bcc1-61e55dfa058c",
   "metadata": {},
   "outputs": [],
   "source": [
    "year = 2018\n",
    "njet = 0\n",
    "file = ROOT.TFile(f\"{year}_njet{njet}.root\", \"READ\")\n",
    "save_path = \"./plots\"\n",
    "workspace = file.Get(\"zpt_Workspace\")\n",
    "hist_data = workspace.obj(\"hist_data\")\n",
    "hist_dy = workspace.obj(\"hist_dy\")"
   ]
  },
  {
   "cell_type": "code",
   "execution_count": 65,
   "id": "492a7629-219c-4c21-9a10-907c3c96934a",
   "metadata": {},
   "outputs": [
    {
     "name": "stdout",
     "output_type": "stream",
     "text": [
      "rebin_coeff: 10\n"
     ]
    },
    {
     "name": "stderr",
     "output_type": "stream",
     "text": [
      "Warning in <TCanvas::Constructor>: Deleting canvas with same name: canvas\n",
      "Info in <TCanvas::Print>: png file test_polynomial_binning.png has been created\n"
     ]
    }
   ],
   "source": [
    "hist_data = workspace.obj(\"hist_data\").Clone(\"hist_data_clone\")\n",
    "hist_dy = workspace.obj(\"hist_dy\").Clone(\"hist_dy_clone\")\n",
    "target_nbins = 50\n",
    "orig_nbins = hist_data.GetNbinsX()\n",
    "rebin_coeff = int(orig_nbins/target_nbins)\n",
    "print(f\"rebin_coeff: {rebin_coeff}\")\n",
    "hist_data = hist_data.Rebin(rebin_coeff, \"rebinned hist_data\") \n",
    "hist_dy = hist_dy.Rebin(rebin_coeff, \"rebinned hist_dy\") \n",
    "\n",
    "\n",
    "\n",
    "hist_SF = hist_data.Clone(\"hist_SF\")\n",
    "hist_SF.Divide(hist_dy)\n",
    "\n",
    "\n",
    "order = 7\n",
    "\n",
    "# Draw the histogram and fit\n",
    "canvas = ROOT.TCanvas(\"canvas\", f\"{order}th-Order Polynomial Fit\", 800, 600)\n",
    "hist_SF.Draw()\n",
    "canvas.SaveAs(f\"{year}_njet{njet}_SF_Hist.png\")"
   ]
  },
  {
   "cell_type": "code",
   "execution_count": 69,
   "id": "c35ea55a-96d6-4605-b4fe-608e4ec609d2",
   "metadata": {},
   "outputs": [
    {
     "name": "stdout",
     "output_type": "stream",
     "text": [
      "Chi2: 1170.9752966120684\n",
      "NDF: 42\n",
      "Chi2/NDF: 27.880364205049247\n",
      "****************************************\n",
      "Minimizer is Minuit2 / Migrad\n",
      "Chi2                      =      1170.98\n",
      "NDf                       =           42\n",
      "Edm                       =  1.93314e-09\n",
      "NCalls                    =          741\n",
      "p0                        =     0.635804   +/-   0.000745401 \n",
      "p1                        =    0.0844285   +/-   0.000132114 \n",
      "p2                        =  -0.00548066   +/-   5.98055e-06 \n",
      "p3                        =  0.000157687   +/-   1.00132e-07 \n",
      "p4                        = -2.20465e-06   +/-   7.8029e-10  \n",
      "p5                        =  1.57946e-08   +/-   5.08576e-12 \n",
      "p6                        = -5.59425e-11   +/-   2.9218e-14  \n",
      "p7                        =  7.77105e-14   +/-   1.20302e-16 \n"
     ]
    },
    {
     "name": "stderr",
     "output_type": "stream",
     "text": [
      "Warning in <TCanvas::Constructor>: Deleting canvas with same name: canvas\n",
      "Info in <TCanvas::Print>: png file test_polynomial_fits.png has been created\n"
     ]
    }
   ],
   "source": [
    "# Draw the histogram and fit\n",
    "canvas = ROOT.TCanvas(\"canvas\", f\"{order}th-Order Polynomial Fit\", 800, 600)\n",
    "\n",
    "\n",
    "# Define the order of the polynomial\n",
    "\n",
    "# fit_func = hist_SF.GetFunction(f\"pol{order}\")\n",
    "\n",
    "# Generate the polynomial expression dynamically\n",
    "polynomial_expr = \" + \".join([f\"[{i}]*x**{i}\" for i in range(order + 1)])\n",
    "\n",
    "# Define the TF1 function with the generated expression\n",
    "polynomial_func = ROOT.TF1(f\"poly{order}\", polynomial_expr, -5, 5)\n",
    "\n",
    "# Set initial parameter guesses (optional)\n",
    "for i in range(order + 1):\n",
    "    polynomial_func.SetParameter(i, 1)  # Initial guess for each parameter\n",
    "\n",
    "fit_func = polynomial_func\n",
    "# print(fit_func)\n",
    "\n",
    "fit_result = hist_SF.Fit(fit_func, \"S\")  # \"S\" option ensures we get the fit result\n",
    "# print(fit_result)\n",
    "# fit_result.Print()\n",
    "# Extract chi2 and dof\n",
    "# fit_func = hist_SF.GetFunction(\"pol3\")\n",
    "chi2 = fit_func.GetChisquare()  # Total chi-squared\n",
    "ndf = fit_func.GetNDF()  # Number of degrees of freedom\n",
    "\n",
    "# Calculate chi2/dof\n",
    "chi2_dof = chi2 / ndf if ndf > 0 else float(\"inf\")\n",
    "\n",
    "# Print fit results\n",
    "print(f\"Chi2: {chi2}\")\n",
    "print(f\"NDF: {ndf}\")\n",
    "print(f\"Chi2/NDF: {chi2_dof}\")\n",
    "\n",
    "hist_SF.SetLineColor(ROOT.kBlue)\n",
    "hist_SF.Draw()\n",
    "fit_func.SetLineColor(ROOT.kRed)  # Change color for each fit\n",
    "fit_func.Draw(\"SAME\")  # Draw the fit function on the same canvas\n",
    "\n",
    "\n",
    "# Add a legend\n",
    "legend = ROOT.TLegend(0.7, 0.7, 0.9, 0.9)  # Legend coordinates (x1, y1, x2, y2)\n",
    "legend.AddEntry(hist_SF, \"hist_SF\", \"l\")  # \"l\" means line style\n",
    "legend.AddEntry(fit_func, \"fit\", \"l\")\n",
    "legend.Draw()\n",
    "\n",
    "# Update the canvas\n",
    "canvas.Update()\n",
    "\n",
    "\n",
    "# Save the canvas\n",
    "canvas.SaveAs(\"test_polynomial_fits.png\")"
   ]
  },
  {
   "cell_type": "code",
   "execution_count": 13,
   "id": "c9691e22-6be1-4f3f-9805-014405e26ff3",
   "metadata": {},
   "outputs": [
    {
     "data": {
      "text/plain": [
       "<cppyy.gbl.TFitResultPtr object at 0x55e7eff51890>"
      ]
     },
     "execution_count": 13,
     "metadata": {},
     "output_type": "execute_result"
    },
    {
     "name": "stderr",
     "output_type": "stream",
     "text": [
      "Error in <TFitResultPtr>: TFitResult is empty - use the fit option S\n",
      "Error in <TFitResultPtr>: TFitResult is empty - use the fit option S\n",
      "Error in <TFitResultPtr>: TFitResult is empty - use the fit option S\n",
      "Error in <TFitResultPtr>: TFitResult is empty - use the fit option S\n",
      "Error in <TFitResultPtr>: TFitResult is empty - use the fit option S\n",
      "Error in <TFitResultPtr>: TFitResult is empty - use the fit option S\n",
      "Error in <TFitResultPtr>: TFitResult is empty - use the fit option S\n",
      "Error in <TFitResultPtr>: TFitResult is empty - use the fit option S\n",
      "Error in <TFitResultPtr>: TFitResult is empty - use the fit option S\n",
      "Error in <TFitResultPtr>: TFitResult is empty - use the fit option S\n",
      "Error in <TFitResultPtr>: TFitResult is empty - use the fit option S\n",
      "Error in <TFitResultPtr>: TFitResult is empty - use the fit option S\n",
      "Error in <TFitResultPtr>: TFitResult is empty - use the fit option S\n",
      "Error in <TFitResultPtr>: TFitResult is empty - use the fit option S\n",
      "Error in <TFitResultPtr>: TFitResult is empty - use the fit option S\n",
      "Error in <TFitResultPtr>: TFitResult is empty - use the fit option S\n",
      "Error in <TFitResultPtr>: TFitResult is empty - use the fit option S\n",
      "Error in <TFitResultPtr>: TFitResult is empty - use the fit option S\n",
      "Error in <TFitResultPtr>: TFitResult is empty - use the fit option S\n",
      "Error in <TFitResultPtr>: TFitResult is empty - use the fit option S\n",
      "Error in <TFitResultPtr>: TFitResult is empty - use the fit option S\n",
      "Error in <TFitResultPtr>: TFitResult is empty - use the fit option S\n"
     ]
    }
   ],
   "source": [
    "fit_result"
   ]
  },
  {
   "cell_type": "code",
   "execution_count": 39,
   "id": "8a3095fe-02be-4bea-9438-82ddba04f187",
   "metadata": {},
   "outputs": [],
   "source": [
    "x_axis = hist_SF.GetXaxis()\n",
    "x_min = x_axis.GetXmin()\n",
    "x_max = x_axis.GetXmax()"
   ]
  },
  {
   "cell_type": "code",
   "execution_count": 41,
   "id": "2f3c4da6-311b-4296-8274-683b4a181b90",
   "metadata": {},
   "outputs": [
    {
     "data": {
      "text/plain": [
       "26.8"
      ]
     },
     "execution_count": 41,
     "metadata": {},
     "output_type": "execute_result"
    }
   ],
   "source": [
    "x_max"
   ]
  },
  {
   "cell_type": "code",
   "execution_count": 46,
   "id": "70b88f53-5ad6-4509-aa52-9df8f1e3a36d",
   "metadata": {},
   "outputs": [
    {
     "name": "stdout",
     "output_type": "stream",
     "text": [
      "0.0\n",
      "200.0\n"
     ]
    }
   ],
   "source": [
    "import numpy as np\n",
    "binning_array = np.linspace(0,200, 501)\n",
    "\n",
    "            \n",
    "# Step 2: Create the histogram with variable bin widths\n",
    "hist_test = ROOT.TH1F(\"hist_test\", \"Data\", len(binning_array) - 1, binning_array)\n",
    "x_axis = hist_test.GetXaxis()\n",
    "x_min = x_axis.GetXmin()\n",
    "x_max = x_axis.GetXmax()\n",
    "\n",
    "print(x_min)\n",
    "print(x_max)"
   ]
  },
  {
   "cell_type": "code",
   "execution_count": 44,
   "id": "01b10f6a-3eb1-4070-847d-600fa4476912",
   "metadata": {},
   "outputs": [
    {
     "data": {
      "text/plain": [
       "200.0"
      ]
     },
     "execution_count": 44,
     "metadata": {},
     "output_type": "execute_result"
    }
   ],
   "source": [
    "binning_array.max()"
   ]
  },
  {
   "cell_type": "code",
   "execution_count": null,
   "id": "005c847d-3f88-4a1a-bc09-d37683083ffb",
   "metadata": {},
   "outputs": [],
   "source": []
  }
 ],
 "metadata": {
  "kernelspec": {
   "display_name": "Python [conda env:root632]",
   "language": "python",
   "name": "conda-env-root632-py"
  },
  "language_info": {
   "codemirror_mode": {
    "name": "ipython",
    "version": 3
   },
   "file_extension": ".py",
   "mimetype": "text/x-python",
   "name": "python",
   "nbconvert_exporter": "python",
   "pygments_lexer": "ipython3",
   "version": "3.12.7"
  }
 },
 "nbformat": 4,
 "nbformat_minor": 5
}
