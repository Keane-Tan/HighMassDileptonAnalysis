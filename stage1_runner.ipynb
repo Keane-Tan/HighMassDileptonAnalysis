{
 "cells": [
  {
   "cell_type": "code",
   "execution_count": 1,
   "id": "2cba9b31-ead8-4158-8cd4-bd34f80297b0",
   "metadata": {
    "scrolled": true
   },
   "outputs": [
    {
     "name": "stdout",
     "output_type": "stream",
     "text": [
      "make parameters key: muon_pt_cut\n",
      "make parameters key: muon_eta_cut\n",
      "make parameters key: muon_iso_cut\n",
      "make parameters key: muon_id\n",
      "make parameters key: muon_flags\n",
      "make parameters key: muon_leading_pt\n",
      "make parameters key: muon_trigmatch_iso\n",
      "make parameters key: muon_trigmatch_dr\n",
      "make parameters key: muon_trigmatch_id\n",
      "make parameters key: electron_pt_cut\n",
      "make parameters key: electron_eta_cut\n",
      "make parameters key: electron_id\n",
      "make parameters key: jet_pt_cut\n",
      "make parameters key: jet_eta_cut\n",
      "make parameters key: jet_id\n",
      "make parameters key: jet_puid\n",
      "make parameters key: min_dr_mu_jet\n",
      "make parameters key: btag_loose_wp\n",
      "make parameters key: btag_medium_wp\n",
      "make parameters key: softjet_dr2\n",
      "make parameters key: lumimask\n",
      "make parameters key: hlt\n",
      "make parameters key: roccor_file\n",
      "make parameters key: nnlops_file\n",
      "make parameters key: btag_sf_json\n",
      "make parameters key: btag_sf_csv\n",
      "make parameters key: pu_file_data\n",
      "make parameters key: pu_file_mc\n",
      "make parameters key: muSFFileList\n",
      "make parameters key: zpt_weights_file\n",
      "make parameters key: puid_sf_file\n",
      "make parameters key: res_calib_path\n",
      "make parameters key: sths_names\n",
      "make parameters key: btag_systs\n",
      "make parameters key: event_flags\n",
      "make parameters key: do_l1prefiring_wgts\n",
      "make parameters key: n_pdf_variations\n",
      "make parameters key: dnn_max\n",
      "make parameters key: cross_sections\n",
      "make parameters key: integrated_lumis\n",
      "make parameters key: jec_parameters\n",
      "make parameters sub_jec_pars: {'jec_variations': ['Absolute_up', 'Absolute_down', 'Absolute2018_up', 'Absolute2018_down', 'BBEC1_up', 'BBEC1_down', 'BBEC12018_up', 'BBEC12018_down', 'EC2_up', 'EC2_down', 'EC22018_up', 'EC22018_down', 'HF_up', 'HF_down', 'HF2018_up', 'HF2018_down', 'RelativeBal_up', 'RelativeBal_down', 'RelativeSample2018_up', 'RelativeSample2018_down', 'FlavorQCD_up', 'FlavorQCD_down'], 'runs': ['A', 'B', 'C', 'D'], 'jec_levels_mc': ['L1FastJet', 'L2Relative', 'L3Absolute'], 'jec_levels_data': ['L1FastJet', 'L2Relative', 'L3Absolute', 'L2L3Residual'], 'jec_tags': 'Autumn18_V19_MC', 'jer_tags': 'Autumn18_V7_MC', 'jec_data_tags': {'Autumn18_RunA_V19_DATA': ['A'], 'Autumn18_RunB_V19_DATA': ['B'], 'Autumn18_RunC_V19_DATA': ['C'], 'Autumn18_RunD_V19_DATA': ['D']}, 'jer_variations': ['jer1_up', 'jer1_down', 'jer2_up', 'jer2_down', 'jer3_up', 'jer3_down', 'jer4_up', 'jer4_down', 'jer5_up', 'jer5_down', 'jer6_up', 'jer6_down']}\n",
      "make_parameters config_to_save: \n",
      " {'muon_pt_cut': 20.0, 'muon_eta_cut': 2.4, 'muon_iso_cut': 0.25, 'muon_id': 'mediumId', 'muon_flags': [], 'muon_leading_pt': 26.0, 'muon_trigmatch_iso': 0.15, 'muon_trigmatch_dr': 0.1, 'muon_trigmatch_id': 'tightId', 'electron_pt_cut': 20.0, 'electron_eta_cut': 2.5, 'electron_id': 'mvaFall17V2Iso_WP90', 'jet_pt_cut': 25.0, 'jet_eta_cut': 4.7, 'jet_id': 'tight', 'jet_puid': 'loose', 'min_dr_mu_jet': 0.4, 'btag_loose_wp': 0.1208, 'btag_medium_wp': 0.4168, 'softjet_dr2': 0.16, 'lumimask': 'data/lumimasks/Cert_314472-325175_13TeV_Legacy2018_Collisions18_JSON.txt', 'hlt': ['IsoMu24'], 'roccor_file': 'data/roch_corr/RoccoR2018UL.txt', 'nnlops_file': 'data/NNLOPS_reweight.root', 'btag_sf_json': '/cvmfs/cms.cern.ch/rsync/cms-nanoAOD/jsonpog-integration/POG/BTV/2018_UL/btagging.json.gz', 'btag_sf_csv': 'data/btag/DeepCSV_106XUL18SF.csv', 'pu_file_data': 'data/pileup/puData2018_UL_withVar.root', 'pu_file_mc': 'data/pileup/mcPileup2018.root', 'muSFFileList': [{'id': ('data/muon_sf/year2018/MuonSF_Run2018_UL_ID.root', 'NUM_MediumID_DEN_TrackerMuons_abseta_pt'), 'iso': ('data/muon_sf/year2018/MuonSF_Run2018_UL_ISO.root', 'NUM_TightRelIso_DEN_MediumID_abseta_pt'), 'trig': ('data/muon_sf/mu2018/EfficienciesStudies_2018_trigger_EfficienciesAndSF_2018Data_BeforeMuonHLTUpdate.root', 'IsoMu24_PtEtaBins/efficienciesDATA/abseta_pt_DATA', 'IsoMu24_PtEtaBins/efficienciesMC/abseta_pt_MC'), 'scale': 0.14981586876464678}, {'id': ('data/muon_sf/year2018/MuonSF_Run2018_UL_ID.root', 'NUM_MediumID_DEN_TrackerMuons_abseta_pt'), 'iso': ('data/muon_sf/year2018/MuonSF_Run2018_UL_ISO.root', 'NUM_TightRelIso_DEN_MediumID_abseta_pt'), 'trig': ('data/muon_sf/mu2018/EfficienciesStudies_2018_trigger_EfficienciesAndSF_2018Data_AfterMuonHLTUpdate.root', 'IsoMu24_PtEtaBins/efficienciesDATA/abseta_pt_DATA', 'IsoMu24_PtEtaBins/efficienciesMC/abseta_pt_MC'), 'scale': 0.8501841312353532}], 'zpt_weights_file': 'data/zpt_weights.histo.json', 'puid_sf_file': 'data/PUID_106XTraining_ULRun2_EffSFandUncties_v1.root', 'res_calib_path': 'data/res_calib/', 'sths_names': ['Yield', 'PTH200', 'Mjj60', 'Mjj120', 'Mjj350', 'Mjj700', 'Mjj1000', 'Mjj1500', 'PTH25', 'JET01'], 'btag_systs': ['jes', 'lf', 'hfstats1', 'hfstats2', 'cferr1', 'cferr2', 'hf', 'lfstats1', 'lfstats2'], 'event_flags': ['BadPFMuonFilter', 'EcalDeadCellTriggerPrimitiveFilter', 'HBHENoiseFilter', 'HBHENoiseIsoFilter', 'globalSuperTightHalo2016Filter', 'goodVertices', 'BadChargedCandidateFilter'], 'do_l1prefiring_wgts': False, 'n_pdf_variations': 33, 'dnn_max': 2.35, 'cross_sections': {'test': 6200.0, 'dy_M-50': 6195.8, 'dy_M-50_nocut': 6450.0, 'dy_M-100To200': 254.2, 'dy_0j': 4620.52, 'dy_1j': 922.5, 'dy_2j': 293.6, 'dy_m105_160_mg': 47.17, 'dy_m105_160_vbf_mg': {'2016': 1.77, '2017': 2.04, '2018': 2.03}, 'dy_m105_160_amc': 47.17, 'dy_m105_160_vbf_amc': {'2016': 1.77, '2017': 2.04, '2018': 2.03}, 'ewk_lljj_mll105_160': {'2016': 0.0508896, '2017': 0.0508896, '2018': 0.0508896}, 'ewk_lljj_mll105_160_py': {'2016': 0.0508896, '2017': 0.0508896, '2018': 0.0508896}, 'ewk_lljj_mll105_160_ptj0': {'2016': 0.07486, '2017': 0.0789, '2018': 0.0789}, 'ewk_lljj_mll50_mjj120': 1.719, 'ewk_lljj_mll105_160_py_dipole': {'2016': 0.07486, '2017': 0.0789, '2018': 0.0789}, 'ewk_m50': 3.998, 'st_top': 136.02, 'st_t_top': 3.4, 'st_t_antitop': 80.95, 'st_tw_top': 32.51, 'st_tw_antitop': 32.45, 'ttjets_dl': 86.65, 'ttjets_sl': 358.57, 'ww_2l2nu': 11.09, 'wz_3lnu': 5.22, 'wz_2l2q': 6.45, 'wz_1l1nu2q': 9.12, 'zz': 12.17, 'ttw': 0.2001, 'ttz': 0.2529, 'www': 0.2086, 'wwz': 0.1651, 'wzz': 0.05565, 'zzz': 0.01398, 'ggh_powheg': 0.01057, 'ggh_powhegPS': 0.01057, 'ggh_amcPS': 0.01057, 'ggh_amcPS_TuneCP5down': 0.01057, 'ggh_amcPS_TuneCP5up': 0.01057, 'ggh_amc': 0.01057, 'ggh_localTest': 0.01057, 'vbf': 0.0008210722, 'vbf_sync': 0.0008210722, 'vbf_powheg': 0.0008210722, 'vbf_powheg_herwig': 0.0008210722, 'vbf_powheg_dipole': 0.0008210722, 'vbf_powhegPS': 0.0008210722, 'vbf_amc_herwig': 0.0008210722, 'vbf_amcPS_TuneCP5down': 0.0008210722, 'vbf_amcPS_TuneCP5up': 0.0008210722, 'vbf_amcPS': 0.0008210722, 'vbf_amc': 0.0008210722, 'ggh_powhegPS_m120': 0.012652906, 'ggh_amcPS_m120': 0.012652906, 'vbf_powhegPS_m120': 0.0009534505, 'vbf_amcPS_m120': 0.0009534505, 'ggh_powhegPS_m130': 0.008504687, 'ggh_amcPS_m130': 0.008504687, 'vbf_powhegPS_m130': 0.0006826649, 'vbf_amcPS_m130': 0.0006826649, 'wmh': 0.000116, 'wph': 0.000183, 'zh': 0.000192, 'tth': 0.00011}, 'integrated_lumis': 59970.0, 'jec_parameters': {'jec_variations': ['Absolute_up', 'Absolute_down', 'Absolute2018_up', 'Absolute2018_down', 'BBEC1_up', 'BBEC1_down', 'BBEC12018_up', 'BBEC12018_down', 'EC2_up', 'EC2_down', 'EC22018_up', 'EC22018_down', 'HF_up', 'HF_down', 'HF2018_up', 'HF2018_down', 'RelativeBal_up', 'RelativeBal_down', 'RelativeSample2018_up', 'RelativeSample2018_down', 'FlavorQCD_up', 'FlavorQCD_down'], 'runs': ['A', 'B', 'C', 'D'], 'jec_levels_mc': ['L1FastJet', 'L2Relative', 'L3Absolute'], 'jec_levels_data': ['L1FastJet', 'L2Relative', 'L3Absolute', 'L2L3Residual'], 'jec_tags': 'Autumn18_V19_MC', 'jer_tags': 'Autumn18_V7_MC', 'jec_data_tags': {'Autumn18_RunA_V19_DATA': ['A'], 'Autumn18_RunB_V19_DATA': ['B'], 'Autumn18_RunC_V19_DATA': ['C'], 'Autumn18_RunD_V19_DATA': ['D']}, 'jer_variations': ['jer1_up', 'jer1_down', 'jer2_up', 'jer2_down', 'jer3_up', 'jer3_down', 'jer4_up', 'jer4_down', 'jer5_up', 'jer5_down', 'jer6_up', 'jer6_down']}, 'do_roccor': True, 'do_fsr': True, 'do_geofit': True, 'year': '2018', 'do_jecunc': False, 'do_jerunc': False}\n"
     ]
    }
   ],
   "source": [
    "! python make_parameters.py --year 2018"
   ]
  },
  {
   "cell_type": "code",
   "execution_count": 10,
   "id": "233643f1-e373-462b-937b-1170a5270106",
   "metadata": {
    "scrolled": true
   },
   "outputs": [
    {
     "name": "stdout",
     "output_type": "stream",
     "text": [
      "Local scale Client created\n",
      "100%|███████████████████████████████████████████| 10/10 [02:37<00:00, 15.78s/it]\n",
      "Finished everything in 161.582 s.\n",
      "Total Events in files 1566916916.\n",
      "2024-02-16 01:09:18,721 - distributed.worker - ERROR - Failed to communicate with scheduler during heartbeat.\n",
      "Traceback (most recent call last):\n",
      "  File \"/depot/cms/users/yun79/conda_envs/copperheadV2/lib/python3.10/site-packages/distributed/comm/tcp.py\", line 225, in read\n",
      "    frames_nosplit_nbytes_bin = await stream.read_bytes(fmt_size)\n",
      "tornado.iostream.StreamClosedError: Stream is closed\n",
      "\n",
      "The above exception was the direct cause of the following exception:\n",
      "\n",
      "Traceback (most recent call last):\n",
      "  File \"/depot/cms/users/yun79/conda_envs/copperheadV2/lib/python3.10/site-packages/distributed/worker.py\", line 1252, in heartbeat\n",
      "    response = await retry_operation(\n",
      "  File \"/depot/cms/users/yun79/conda_envs/copperheadV2/lib/python3.10/site-packages/distributed/utils_comm.py\", line 455, in retry_operation\n",
      "    return await retry(\n",
      "  File \"/depot/cms/users/yun79/conda_envs/copperheadV2/lib/python3.10/site-packages/distributed/utils_comm.py\", line 434, in retry\n",
      "    return await coro()\n",
      "  File \"/depot/cms/users/yun79/conda_envs/copperheadV2/lib/python3.10/site-packages/distributed/core.py\", line 1394, in send_recv_from_rpc\n",
      "    return await send_recv(comm=comm, op=key, **kwargs)\n",
      "  File \"/depot/cms/users/yun79/conda_envs/copperheadV2/lib/python3.10/site-packages/distributed/core.py\", line 1153, in send_recv\n",
      "    response = await comm.read(deserializers=deserializers)\n",
      "  File \"/depot/cms/users/yun79/conda_envs/copperheadV2/lib/python3.10/site-packages/distributed/comm/tcp.py\", line 237, in read\n",
      "    convert_stream_closed_error(self, e)\n",
      "  File \"/depot/cms/users/yun79/conda_envs/copperheadV2/lib/python3.10/site-packages/distributed/comm/tcp.py\", line 142, in convert_stream_closed_error\n",
      "    raise CommClosedError(f\"in {obj}: {exc}\") from exc\n",
      "distributed.comm.core.CommClosedError: in <TCP (closed) ConnectionPool.heartbeat_worker local=tcp://127.0.0.1:35190 remote=tcp://127.0.0.1:35189>: Stream is closed\n",
      "2024-02-16 01:09:18,727 - distributed.worker - ERROR - Failed to communicate with scheduler during heartbeat.\n",
      "Traceback (most recent call last):\n",
      "  File \"/depot/cms/users/yun79/conda_envs/copperheadV2/lib/python3.10/site-packages/distributed/comm/tcp.py\", line 225, in read\n",
      "    frames_nosplit_nbytes_bin = await stream.read_bytes(fmt_size)\n",
      "tornado.iostream.StreamClosedError: Stream is closed\n",
      "\n",
      "The above exception was the direct cause of the following exception:\n",
      "\n",
      "Traceback (most recent call last):\n",
      "  File \"/depot/cms/users/yun79/conda_envs/copperheadV2/lib/python3.10/site-packages/distributed/worker.py\", line 1252, in heartbeat\n",
      "    response = await retry_operation(\n",
      "  File \"/depot/cms/users/yun79/conda_envs/copperheadV2/lib/python3.10/site-packages/distributed/utils_comm.py\", line 455, in retry_operation\n",
      "    return await retry(\n",
      "  File \"/depot/cms/users/yun79/conda_envs/copperheadV2/lib/python3.10/site-packages/distributed/utils_comm.py\", line 434, in retry\n",
      "    return await coro()\n",
      "  File \"/depot/cms/users/yun79/conda_envs/copperheadV2/lib/python3.10/site-packages/distributed/core.py\", line 1394, in send_recv_from_rpc\n",
      "    return await send_recv(comm=comm, op=key, **kwargs)\n",
      "  File \"/depot/cms/users/yun79/conda_envs/copperheadV2/lib/python3.10/site-packages/distributed/core.py\", line 1153, in send_recv\n",
      "    response = await comm.read(deserializers=deserializers)\n",
      "  File \"/depot/cms/users/yun79/conda_envs/copperheadV2/lib/python3.10/site-packages/distributed/comm/tcp.py\", line 237, in read\n",
      "    convert_stream_closed_error(self, e)\n",
      "  File \"/depot/cms/users/yun79/conda_envs/copperheadV2/lib/python3.10/site-packages/distributed/comm/tcp.py\", line 142, in convert_stream_closed_error\n",
      "    raise CommClosedError(f\"in {obj}: {exc}\") from exc\n",
      "distributed.comm.core.CommClosedError: in <TCP (closed) ConnectionPool.heartbeat_worker local=tcp://127.0.0.1:35202 remote=tcp://127.0.0.1:35189>: Stream is closed\n",
      "\u001b[0m\u001b[0m\u001b[0m\u001b[0m\u001b[0m\u001b[0m\u001b[0m\u001b[0m\u001b[0m\u001b[0m\u001b[0m\u001b[0m\u001b[0m\u001b[0m\u001b[0m\u001b[0m\u001b[0m\u001b[0m\u001b[0m\u001b[0m\u001b[0m\u001b[0m\u001b[0m\u001b[0m\u001b[0m\u001b[0m\u001b[0m\u001b[0m\u001b[0m\u001b[0m\u001b[0m\u001b[0m\u001b[0m"
     ]
    }
   ],
   "source": [
    "# ! python run_prestage.py --year 2018 --chunksize 10000\n",
    "# ! python run_prestage.py --year 2018 --chunksize 5000\n",
    "# ! python run_prestage.py --year 2018 --chunksize 20000\n",
    "! python run_prestage.py --year 2018 --chunksize 100000\n"
   ]
  },
  {
   "cell_type": "code",
   "execution_count": 11,
   "id": "6293544c-833b-467b-8684-cf37c127ae47",
   "metadata": {
    "scrolled": true
   },
   "outputs": [
    {
     "name": "stdout",
     "output_type": "stream",
     "text": [
      "Finished everything in 0.05 s.\n"
     ]
    }
   ],
   "source": [
    "# ! python run_prestage.py --change_fraction 0.1\n",
    "! python run_prestage.py --change_fraction 0.001\n",
    "# ! python run_prestage.py --change_fraction 0.2"
   ]
  },
  {
   "cell_type": "code",
   "execution_count": 20,
   "id": "dfb8f786-37c3-428a-b1dd-d71d5a58758e",
   "metadata": {
    "editable": true,
    "scrolled": true,
    "slideshow": {
     "slide_type": ""
    },
    "tags": []
   },
   "outputs": [
    {
     "name": "stdout",
     "output_type": "stream",
     "text": [
      "Local scale Client created\n",
      "client dashboard link: http://127.0.0.1:8787/status\n",
      "cluster scale up\n",
      "  0%|                                                    | 0/10 [00:00<?, ?it/s]/depot/cms/users/yun79/conda_envs/copperheadV2/lib/python3.10/site-packages/awkward/_nplikes/array_module.py:245: RuntimeWarning: invalid value encountered in sqrt\n",
      "  return impl(*broadcasted_args, **(kwargs or {}))\n",
      "/depot/cms/users/yun79/conda_envs/copperheadV2/lib/python3.10/site-packages/awkward/_nplikes/array_module.py:245: RuntimeWarning: invalid value encountered in sqrt\n",
      "  return impl(*broadcasted_args, **(kwargs or {}))\n",
      " 10%|████▍                                       | 1/10 [00:46<06:57, 46.37s/it]/depot/cms/users/yun79/conda_envs/copperheadV2/lib/python3.10/site-packages/awkward/_nplikes/array_module.py:245: RuntimeWarning: invalid value encountered in sqrt\n",
      "  return impl(*broadcasted_args, **(kwargs or {}))\n",
      " 20%|████████▊                                   | 2/10 [01:21<05:15, 39.50s/it]/depot/cms/users/yun79/conda_envs/copperheadV2/lib/python3.10/site-packages/awkward/_nplikes/array_module.py:245: RuntimeWarning: invalid value encountered in sqrt\n",
      "  return impl(*broadcasted_args, **(kwargs or {}))\n",
      "/depot/cms/users/yun79/conda_envs/copperheadV2/lib/python3.10/site-packages/awkward/_nplikes/array_module.py:245: RuntimeWarning: invalid value encountered in sqrt\n",
      "  return impl(*broadcasted_args, **(kwargs or {}))\n",
      " 30%|█████████████▏                              | 3/10 [01:55<04:19, 37.13s/it]/depot/cms/users/yun79/conda_envs/copperheadV2/lib/python3.10/site-packages/awkward/_nplikes/array_module.py:245: RuntimeWarning: invalid value encountered in sqrt\n",
      "  return impl(*broadcasted_args, **(kwargs or {}))\n",
      "/depot/cms/users/yun79/conda_envs/copperheadV2/lib/python3.10/site-packages/awkward/_nplikes/array_module.py:245: RuntimeWarning: invalid value encountered in sqrt\n",
      "  return impl(*broadcasted_args, **(kwargs or {}))\n",
      "/depot/cms/users/yun79/conda_envs/copperheadV2/lib/python3.10/site-packages/awkward/_nplikes/array_module.py:245: RuntimeWarning: invalid value encountered in sqrt\n",
      "  return impl(*broadcasted_args, **(kwargs or {}))\n",
      " 40%|█████████████████▌                          | 4/10 [02:36<03:52, 38.77s/it]weight_collection len(weight_ones):  dask.awkward<numaxis0, type=Scalar, dtype=int64>\n",
      "weight_collection integrated_lumi: \n",
      "  59970.0\n",
      "do_lhe: True\n",
      "do_thu: False\n",
      "do_pdf: True\n",
      "self.weight_collection.weights: {'nominal': dask.awkward<multiply, npartitions=3>, 'pu_wgt_off': dask.awkward<multiply, npartitions=3>, 'pu_wgt_up': dask.awkward<multiply, npartitions=3>, 'pu_wgt_down': dask.awkward<multiply, npartitions=3>, 'genwgt_off': dask.awkward<multiply, npartitions=3>, 'lumi_off': dask.awkward<multiply, npartitions=3>, 'muID_off': dask.awkward<multiply, npartitions=3>, 'muID_up': dask.awkward<multiply, npartitions=3>, 'muID_down': dask.awkward<multiply, npartitions=3>, 'muIso_off': dask.awkward<multiply, npartitions=3>, 'muIso_up': dask.awkward<multiply, npartitions=3>, 'muIso_down': dask.awkward<multiply, npartitions=3>, 'muTrig_off': dask.awkward<multiply, npartitions=3>, 'muTrig_up': dask.awkward<values-astype, npartitions=3>, 'muTrig_down': dask.awkward<values-astype, npartitions=3>, 'pdf_2rms_up': dask.awkward<values-astype, npartitions=3>, 'pdf_2rms_down': dask.awkward<values-astype, npartitions=3>} \n",
      " 50%|██████████████████████                      | 5/10 [03:20<03:23, 40.78s/it]weight_collection len(weight_ones):  dask.awkward<numaxis0, type=Scalar, dtype=int64>\n",
      "weight_collection integrated_lumi: \n",
      "  59970.0\n",
      "do_lhe: True\n",
      "do_thu: False\n",
      "do_pdf: True\n",
      "self.weight_collection.weights: {'nominal': dask.awkward<multiply, npartitions=3>, 'pu_wgt_off': dask.awkward<multiply, npartitions=3>, 'pu_wgt_up': dask.awkward<multiply, npartitions=3>, 'pu_wgt_down': dask.awkward<multiply, npartitions=3>, 'genwgt_off': dask.awkward<multiply, npartitions=3>, 'lumi_off': dask.awkward<multiply, npartitions=3>, 'muID_off': dask.awkward<multiply, npartitions=3>, 'muID_up': dask.awkward<multiply, npartitions=3>, 'muID_down': dask.awkward<multiply, npartitions=3>, 'muIso_off': dask.awkward<multiply, npartitions=3>, 'muIso_up': dask.awkward<multiply, npartitions=3>, 'muIso_down': dask.awkward<multiply, npartitions=3>, 'muTrig_off': dask.awkward<multiply, npartitions=3>, 'muTrig_up': dask.awkward<values-astype, npartitions=3>, 'muTrig_down': dask.awkward<values-astype, npartitions=3>, 'pdf_2rms_up': dask.awkward<values-astype, npartitions=3>, 'pdf_2rms_down': dask.awkward<values-astype, npartitions=3>} \n",
      "/depot/cms/users/yun79/conda_envs/copperheadV2/lib/python3.10/site-packages/awkward/_nplikes/array_module.py:245: RuntimeWarning: invalid value encountered in sqrt\n",
      "  return impl(*broadcasted_args, **(kwargs or {}))\n",
      " 60%|██████████████████████████▍                 | 6/10 [03:59<02:40, 40.06s/it]weight_collection len(weight_ones):  dask.awkward<numaxis0, type=Scalar, dtype=int64>\n",
      "weight_collection integrated_lumi: \n",
      "  59970.0\n",
      "do_lhe: True\n",
      "do_thu: False\n",
      "do_pdf: False\n",
      "self.weight_collection.weights: {'nominal': dask.awkward<multiply, npartitions=2>, 'pu_wgt_off': dask.awkward<multiply, npartitions=2>, 'pu_wgt_up': dask.awkward<multiply, npartitions=2>, 'pu_wgt_down': dask.awkward<multiply, npartitions=2>, 'genwgt_off': dask.awkward<multiply, npartitions=2>, 'lumi_off': dask.awkward<multiply, npartitions=2>, 'muID_off': dask.awkward<multiply, npartitions=2>, 'muID_up': dask.awkward<multiply, npartitions=2>, 'muID_down': dask.awkward<multiply, npartitions=2>, 'muIso_off': dask.awkward<multiply, npartitions=2>, 'muIso_up': dask.awkward<multiply, npartitions=2>, 'muIso_down': dask.awkward<multiply, npartitions=2>, 'muTrig_off': dask.awkward<multiply, npartitions=2>, 'muTrig_up': dask.awkward<values-astype, npartitions=2>, 'muTrig_down': dask.awkward<values-astype, npartitions=2>} \n",
      "/depot/cms/users/yun79/conda_envs/copperheadV2/lib/python3.10/site-packages/awkward/_nplikes/array_module.py:245: RuntimeWarning: invalid value encountered in sqrt\n",
      "  return impl(*broadcasted_args, **(kwargs or {}))\n",
      " 70%|██████████████████████████████▊             | 7/10 [04:41<02:01, 40.56s/it]weight_collection len(weight_ones):  dask.awkward<numaxis0, type=Scalar, dtype=int64>\n",
      "weight_collection integrated_lumi: \n",
      "  59970.0\n",
      "do_lhe: True\n",
      "do_thu: False\n",
      "do_pdf: False\n",
      "self.weight_collection.weights: {'nominal': dask.awkward<multiply, npartitions=1>, 'pu_wgt_off': dask.awkward<multiply, npartitions=1>, 'pu_wgt_up': dask.awkward<multiply, npartitions=1>, 'pu_wgt_down': dask.awkward<multiply, npartitions=1>, 'genwgt_off': dask.awkward<multiply, npartitions=1>, 'lumi_off': dask.awkward<multiply, npartitions=1>, 'muID_off': dask.awkward<multiply, npartitions=1>, 'muID_up': dask.awkward<multiply, npartitions=1>, 'muID_down': dask.awkward<multiply, npartitions=1>, 'muIso_off': dask.awkward<multiply, npartitions=1>, 'muIso_up': dask.awkward<multiply, npartitions=1>, 'muIso_down': dask.awkward<multiply, npartitions=1>, 'muTrig_off': dask.awkward<multiply, npartitions=1>, 'muTrig_up': dask.awkward<values-astype, npartitions=1>, 'muTrig_down': dask.awkward<values-astype, npartitions=1>} \n",
      " 80%|███████████████████████████████████▏        | 8/10 [05:12<01:15, 37.58s/it]weight_collection len(weight_ones):  dask.awkward<numaxis0, type=Scalar, dtype=int64>\n",
      "weight_collection integrated_lumi: \n",
      "  59970.0\n",
      "do_lhe: True\n",
      "do_thu: False\n",
      "do_pdf: True\n",
      "self.weight_collection.weights: {'nominal': dask.awkward<multiply, npartitions=1>, 'pu_wgt_off': dask.awkward<multiply, npartitions=1>, 'pu_wgt_up': dask.awkward<multiply, npartitions=1>, 'pu_wgt_down': dask.awkward<multiply, npartitions=1>, 'genwgt_off': dask.awkward<multiply, npartitions=1>, 'lumi_off': dask.awkward<multiply, npartitions=1>, 'muID_off': dask.awkward<multiply, npartitions=1>, 'muID_up': dask.awkward<multiply, npartitions=1>, 'muID_down': dask.awkward<multiply, npartitions=1>, 'muIso_off': dask.awkward<multiply, npartitions=1>, 'muIso_up': dask.awkward<multiply, npartitions=1>, 'muIso_down': dask.awkward<multiply, npartitions=1>, 'muTrig_off': dask.awkward<multiply, npartitions=1>, 'muTrig_up': dask.awkward<values-astype, npartitions=1>, 'muTrig_down': dask.awkward<values-astype, npartitions=1>, 'pdf_2rms_up': dask.awkward<values-astype, npartitions=1>, 'pdf_2rms_down': dask.awkward<values-astype, npartitions=1>} \n",
      " 90%|███████████████████████████████████████▌    | 9/10 [05:41<00:34, 34.91s/it]weight_collection len(weight_ones):  dask.awkward<numaxis0, type=Scalar, dtype=int64>\n",
      "weight_collection integrated_lumi: \n",
      "  59970.0\n",
      "do_lhe: True\n",
      "do_thu: True\n",
      "do_pdf: True\n",
      "self.weight_collection.weights: {'nominal': dask.awkward<multiply, npartitions=1>, 'pu_wgt_off': dask.awkward<multiply, npartitions=1>, 'pu_wgt_up': dask.awkward<multiply, npartitions=1>, 'pu_wgt_down': dask.awkward<multiply, npartitions=1>, 'genwgt_off': dask.awkward<multiply, npartitions=1>, 'lumi_off': dask.awkward<multiply, npartitions=1>, 'muID_off': dask.awkward<multiply, npartitions=1>, 'muID_up': dask.awkward<multiply, npartitions=1>, 'muID_down': dask.awkward<multiply, npartitions=1>, 'muIso_off': dask.awkward<multiply, npartitions=1>, 'muIso_up': dask.awkward<multiply, npartitions=1>, 'muIso_down': dask.awkward<multiply, npartitions=1>, 'muTrig_off': dask.awkward<multiply, npartitions=1>, 'muTrig_up': dask.awkward<values-astype, npartitions=1>, 'muTrig_down': dask.awkward<values-astype, npartitions=1>, 'THU_VBF_Yield_up': dask.awkward<values-astype, npartitions=1>, 'THU_VBF_Yield_down': dask.awkward<values-astype, npartitions=1>, 'THU_VBF_PTH200_up': dask.awkward<values-astype, npartitions=1>, 'THU_VBF_PTH200_down': dask.awkward<values-astype, npartitions=1>, 'THU_VBF_Mjj60_up': dask.awkward<values-astype, npartitions=1>, 'THU_VBF_Mjj60_down': dask.awkward<values-astype, npartitions=1>, 'THU_VBF_Mjj120_up': dask.awkward<values-astype, npartitions=1>, 'THU_VBF_Mjj120_down': dask.awkward<values-astype, npartitions=1>, 'THU_VBF_Mjj350_up': dask.awkward<values-astype, npartitions=1>, 'THU_VBF_Mjj350_down': dask.awkward<values-astype, npartitions=1>, 'THU_VBF_Mjj700_up': dask.awkward<values-astype, npartitions=1>, 'THU_VBF_Mjj700_down': dask.awkward<values-astype, npartitions=1>, 'THU_VBF_Mjj1000_up': dask.awkward<values-astype, npartitions=1>, 'THU_VBF_Mjj1000_down': dask.awkward<values-astype, npartitions=1>, 'THU_VBF_Mjj1500_up': dask.awkward<values-astype, npartitions=1>, 'THU_VBF_Mjj1500_down': dask.awkward<values-astype, npartitions=1>, 'THU_VBF_PTH25_up': dask.awkward<values-astype, npartitions=1>, 'THU_VBF_PTH25_down': dask.awkward<values-astype, npartitions=1>, 'THU_VBF_JET01_up': dask.awkward<values-astype, npartitions=1>, 'THU_VBF_JET01_down': dask.awkward<values-astype, npartitions=1>, 'pdf_2rms_up': dask.awkward<values-astype, npartitions=1>, 'pdf_2rms_down': dask.awkward<values-astype, npartitions=1>} \n",
      "100%|███████████████████████████████████████████| 10/10 [06:12<00:00, 37.22s/it]\n",
      "Finished everything in 374.916 s.\n",
      "\u001b[0m\u001b[0m\u001b[0m\u001b[0m\u001b[0m\u001b[0m\u001b[0m\u001b[0m\u001b[0m\u001b[0m\u001b[0m\u001b[0m\u001b[0m\u001b[0m\u001b[0m\u001b[0m2024-02-16 01:48:47,227 - distributed.deploy.adaptive_core - INFO - Adaptive stop\n",
      "\u001b[0m2024-02-16 01:48:47,660 - distributed.deploy.adaptive_core - INFO - Adaptive stop\n"
     ]
    }
   ],
   "source": [
    "! python run_stage1.py"
   ]
  },
  {
   "cell_type": "code",
   "execution_count": 8,
   "id": "257d66b3-1aad-4315-9ab4-0c5d9c9ea2cf",
   "metadata": {
    "scrolled": true
   },
   "outputs": [
    {
     "name": "stdout",
     "output_type": "stream",
     "text": [
      "load_path: /depot/cms/users/yun79/results/stage1/test\n",
      "range_dict.keys(): dict_keys(['cos_theta', 'rpt', 'mass_res_rel', 'mass_res', 'mass_log', 'mass', 'pt_over_mass', 'pt_log', 'pt', 'eta', 'phi_cs', 'phi', 'rap', 'dEta', 'dPhi', 'dR', 'puId', 'zeppenfeld', 'njets', 'qgl', 'default'])\n",
      "range max: 250\n",
      "plotting: dimuon_mass\n",
      "data_A matched with /depot/cms/users/yun79/results/stage1/test/V2stage1_data_A.csv\n",
      "sample_type: Data\n",
      "data_B matched with /depot/cms/users/yun79/results/stage1/test/V2stage1_data_B.csv\n",
      "sample_type: Data\n",
      "data_C matched with /depot/cms/users/yun79/results/stage1/test/V2stage1_data_C.csv\n",
      "sample_type: Data\n",
      "data_D matched with /depot/cms/users/yun79/results/stage1/test/V2stage1_data_D.csv\n",
      "sample_type: Data\n",
      "dy_M-50 matched with /depot/cms/users/yun79/results/stage1/test/V2stage1_dy_M-50.csv\n",
      "sample_type: MC\n",
      "dy_M-100To200 matched with /depot/cms/users/yun79/results/stage1/test/V2stage1_dy_M-100To200.csv\n",
      "sample_type: MC\n",
      "ggh_powheg matched with /depot/cms/users/yun79/results/stage1/test/V2stage1_ggh_powheg.csv\n",
      "sample_type: MC\n",
      "vbf_powheg matched with /depot/cms/users/yun79/results/stage1/test/V2stage1_vbf_powheg.csv\n",
      "sample_type: MC\n",
      "dy_M-50 matched with /depot/cms/users/yun79/results/stage1/test/V2stage1_dy_M-50.csv\n",
      "sample_type: Bkg\n",
      "dy_M-100To200 matched with /depot/cms/users/yun79/results/stage1/test/V2stage1_dy_M-100To200.csv\n",
      "sample_type: Bkg\n",
      "ggh_powheg matched with /depot/cms/users/yun79/results/stage1/test/V2stage1_ggh_powheg.csv\n",
      "sample_type: Sig\n",
      "vbf_powheg matched with /depot/cms/users/yun79/results/stage1/test/V2stage1_vbf_powheg.csv\n",
      "sample_type: Sig\n",
      "range max: 250\n",
      "plotting: jet1_pt\n",
      "data_A matched with /depot/cms/users/yun79/results/stage1/test/V2stage1_data_A.csv\n",
      "sample_type: Data\n",
      "data_B matched with /depot/cms/users/yun79/results/stage1/test/V2stage1_data_B.csv\n",
      "sample_type: Data\n",
      "data_C matched with /depot/cms/users/yun79/results/stage1/test/V2stage1_data_C.csv\n",
      "sample_type: Data\n",
      "data_D matched with /depot/cms/users/yun79/results/stage1/test/V2stage1_data_D.csv\n",
      "sample_type: Data\n",
      "dy_M-50 matched with /depot/cms/users/yun79/results/stage1/test/V2stage1_dy_M-50.csv\n",
      "sample_type: MC\n",
      "dy_M-100To200 matched with /depot/cms/users/yun79/results/stage1/test/V2stage1_dy_M-100To200.csv\n",
      "sample_type: MC\n",
      "ggh_powheg matched with /depot/cms/users/yun79/results/stage1/test/V2stage1_ggh_powheg.csv\n",
      "sample_type: MC\n",
      "vbf_powheg matched with /depot/cms/users/yun79/results/stage1/test/V2stage1_vbf_powheg.csv\n",
      "sample_type: MC\n",
      "dy_M-50 matched with /depot/cms/users/yun79/results/stage1/test/V2stage1_dy_M-50.csv\n",
      "sample_type: Bkg\n",
      "dy_M-100To200 matched with /depot/cms/users/yun79/results/stage1/test/V2stage1_dy_M-100To200.csv\n",
      "sample_type: Bkg\n",
      "ggh_powheg matched with /depot/cms/users/yun79/results/stage1/test/V2stage1_ggh_powheg.csv\n",
      "sample_type: Sig\n",
      "vbf_powheg matched with /depot/cms/users/yun79/results/stage1/test/V2stage1_vbf_powheg.csv\n",
      "sample_type: Sig\n",
      "range max: 250\n",
      "plotting: jet2_pt\n",
      "data_A matched with /depot/cms/users/yun79/results/stage1/test/V2stage1_data_A.csv\n",
      "sample_type: Data\n",
      "data_B matched with /depot/cms/users/yun79/results/stage1/test/V2stage1_data_B.csv\n",
      "sample_type: Data\n",
      "data_C matched with /depot/cms/users/yun79/results/stage1/test/V2stage1_data_C.csv\n",
      "sample_type: Data\n",
      "data_D matched with /depot/cms/users/yun79/results/stage1/test/V2stage1_data_D.csv\n",
      "sample_type: Data\n",
      "dy_M-50 matched with /depot/cms/users/yun79/results/stage1/test/V2stage1_dy_M-50.csv\n",
      "sample_type: MC\n",
      "dy_M-100To200 matched with /depot/cms/users/yun79/results/stage1/test/V2stage1_dy_M-100To200.csv\n",
      "sample_type: MC\n",
      "ggh_powheg matched with /depot/cms/users/yun79/results/stage1/test/V2stage1_ggh_powheg.csv\n",
      "sample_type: MC\n",
      "vbf_powheg matched with /depot/cms/users/yun79/results/stage1/test/V2stage1_vbf_powheg.csv\n",
      "sample_type: MC\n",
      "dy_M-50 matched with /depot/cms/users/yun79/results/stage1/test/V2stage1_dy_M-50.csv\n",
      "sample_type: Bkg\n",
      "dy_M-100To200 matched with /depot/cms/users/yun79/results/stage1/test/V2stage1_dy_M-100To200.csv\n",
      "sample_type: Bkg\n",
      "ggh_powheg matched with /depot/cms/users/yun79/results/stage1/test/V2stage1_ggh_powheg.csv\n",
      "sample_type: Sig\n",
      "vbf_powheg matched with /depot/cms/users/yun79/results/stage1/test/V2stage1_vbf_powheg.csv\n",
      "sample_type: Sig\n"
     ]
    }
   ],
   "source": [
    "! python run_stage1_validation.py"
   ]
  },
  {
   "cell_type": "code",
   "execution_count": null,
   "id": "635854f3-2795-4f06-aac4-edeeb46821e4",
   "metadata": {},
   "outputs": [],
   "source": []
  }
 ],
 "metadata": {
  "kernelspec": {
   "display_name": "Python [conda env:copperheadV2]",
   "language": "python",
   "name": "conda-env-copperheadV2-py"
  },
  "language_info": {
   "codemirror_mode": {
    "name": "ipython",
    "version": 3
   },
   "file_extension": ".py",
   "mimetype": "text/x-python",
   "name": "python",
   "nbconvert_exporter": "python",
   "pygments_lexer": "ipython3",
   "version": "3.10.13"
  }
 },
 "nbformat": 4,
 "nbformat_minor": 5
}
