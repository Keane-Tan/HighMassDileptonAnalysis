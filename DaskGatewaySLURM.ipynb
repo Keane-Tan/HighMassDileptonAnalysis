{
 "cells": [
  {
   "cell_type": "code",
   "execution_count": 1,
   "id": "275494e4-3a0f-4d26-aafe-8abd771df5b4",
   "metadata": {},
   "outputs": [],
   "source": [
    "from dask_gateway import Gateway\n",
    "gateway = Gateway()"
   ]
  },
  {
   "cell_type": "code",
   "execution_count": 2,
   "id": "c1a51702-2fab-4bd6-a4f0-22cf289d5948",
   "metadata": {
    "editable": true,
    "slideshow": {
     "slide_type": ""
    },
    "tags": []
   },
   "outputs": [
    {
     "data": {
      "text/html": [
       "<div style='background-color: #f2f2f2; display: inline-block; padding: 10px; border: 1px solid #999999;'>\n",
       "  <h3>GatewayCluster</h3>\n",
       "  <ul>\n",
       "    <li><b>Name: </b>688817c899904138bd35bb9eb0296a18\n",
       "    <li><b>Dashboard: </b><a href='http://dask-gateway.geddes.rcac.purdue.edu/clusters/688817c899904138bd35bb9eb0296a18/status' target='_blank'>http://dask-gateway.geddes.rcac.purdue.edu/clusters/688817c899904138bd35bb9eb0296a18/status</a>\n",
       "  </ul>\n",
       "</div>\n"
      ],
      "text/plain": [
       "GatewayCluster<688817c899904138bd35bb9eb0296a18, status=running>"
      ]
     },
     "metadata": {},
     "output_type": "display_data"
    }
   ],
   "source": [
    "cluster = gateway.new_cluster(\n",
    "    # conda_env = \"/depot/cms/kernels/coffea2024\",\n",
    "    conda_env = \"/depot/cms/users/yun79/conda_envs/copperheadV2\",\n",
    "    queue = \"cms\",\n",
    "    worker_cores = 1,\n",
    "    worker_memory = 3,\n",
    "    env = {\n",
    "        \"WORKDIR\": \"/depot/cms/private/users/yun79/valerie/fork/copperheadV2\",\n",
    "        \"X509_USER_PROXY\": \"/depot/cms/users/yun79/x509up_u383571\"\n",
    "    },\n",
    "    # cluster_start_timeout = 21600,\n",
    ")\n",
    "cluster.scale(80) # or do .adapt\n",
    "cluster"
   ]
  },
  {
   "cell_type": "code",
   "execution_count": 3,
   "id": "7509afd5-e613-4dad-99f0-ebcda0453090",
   "metadata": {},
   "outputs": [],
   "source": [
    "\"\"\"\n",
    "To shutdown the cluster, run this cell\n",
    "Equivalently, you can also do \"squeue -u <username>\" \n",
    "if this is the only slurm job you're doing\n",
    "\"\"\"\n",
    "\n",
    "for cluster_info in gateway.list_clusters():\n",
    "    gateway.connect(cluster_info.name).shutdown()"
   ]
  },
  {
   "cell_type": "code",
   "execution_count": 5,
   "id": "f04bf8e2-e9bd-4b41-9c5e-0b45b0e99f0c",
   "metadata": {},
   "outputs": [],
   "source": []
  },
  {
   "cell_type": "code",
   "execution_count": 7,
   "id": "7824bd5c-1ad4-4075-b802-9691e0bd9040",
   "metadata": {},
   "outputs": [],
   "source": []
  },
  {
   "cell_type": "code",
   "execution_count": null,
   "id": "61b1a67a-53d2-4837-b5c4-2fd124dd128f",
   "metadata": {},
   "outputs": [],
   "source": []
  }
 ],
 "metadata": {
  "kernelspec": {
   "display_name": "Python [conda env:copperheadV2]",
   "language": "python",
   "name": "conda-env-copperheadV2-py"
  },
  "language_info": {
   "codemirror_mode": {
    "name": "ipython",
    "version": 3
   },
   "file_extension": ".py",
   "mimetype": "text/x-python",
   "name": "python",
   "nbconvert_exporter": "python",
   "pygments_lexer": "ipython3",
   "version": "3.10.13"
  }
 },
 "nbformat": 4,
 "nbformat_minor": 5
}
