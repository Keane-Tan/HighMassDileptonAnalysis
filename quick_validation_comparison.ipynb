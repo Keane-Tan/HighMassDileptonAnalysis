{
 "cells": [
  {
   "cell_type": "code",
   "execution_count": 1,
   "id": "76f00d86-2368-468a-8c84-0cbdba38aaae",
   "metadata": {},
   "outputs": [],
   "source": [
    "import dask_awkward as dak\n",
    "import awkward as ak\n",
    "import numpy as np\n",
    "import matplotlib.pyplot as plt\n",
    "load_path = \"/depot/cms/users/yun79/results/stage1/test_full2/f1_0\"\n",
    "sample = \"vbf_powheg\"\n",
    "# full_load_path = load_path+f\"/{sample}/*/*.parquet\"\n",
    "# full_load_path = load_path+f\"/{sample}/0/*.parquet\"\n",
    "full_load_path = \"/depot/cms/users/yun79/results/stage1/test_full2/2018/f1_0/vbf_powheg/0/*.parquet\"\n",
    "\n",
    "df_new = dak.from_parquet(full_load_path) \n",
    "# region_cut = (df_new.h_peak | df_new.h_sidebands)\n",
    "# df_new = df_new[region_cut]"
   ]
  },
  {
   "cell_type": "code",
   "execution_count": 2,
   "id": "375b621a-e6d0-4918-8663-459d123c918d",
   "metadata": {},
   "outputs": [],
   "source": [
    "# hist_dimuon, edges = np.histogram(df_new[region_cut].dimuon_mass.compute(), bins=binning )\n",
    "# plt.stairs(hist_dimuon, edges, label = \"df_new\")\n",
    "# plt.legend(loc=\"upper right\")"
   ]
  },
  {
   "cell_type": "code",
   "execution_count": 3,
   "id": "85a7af5a-ff70-4fa9-86de-03b2f48d853c",
   "metadata": {},
   "outputs": [],
   "source": [
    "full_load_path = f\"/depot/cms/users/yun79/hmm/test_validation/stage1_output/2018/{sample}/*.parquet\"\n",
    "import dask.dataframe as dd\n",
    "import pandas as pd\n",
    "# df = dd.from_pandas(pd.DataFrame(), npartitions=1)\n",
    "df_old = dd.read_parquet(full_load_path)\n",
    "# region = df_old.region.compute()"
   ]
  },
  {
   "cell_type": "code",
   "execution_count": 132,
   "id": "72d66e82-af3f-4e1d-aea1-e4a4d2b17068",
   "metadata": {},
   "outputs": [
    {
     "name": "stdout",
     "output_type": "stream",
     "text": [
      "6139\n",
      "126\n"
     ]
    }
   ],
   "source": [
    "# print((region == \"h-peak\").sum())\n",
    "# print((region == \"h-sidebands\").sum())"
   ]
  },
  {
   "cell_type": "code",
   "execution_count": 133,
   "id": "f67a9125-d9cc-44c0-acc2-953440ff35dc",
   "metadata": {},
   "outputs": [
    {
     "data": {
      "text/plain": [
       "6265"
      ]
     },
     "execution_count": 133,
     "metadata": {},
     "output_type": "execute_result"
    }
   ],
   "source": [
    "6139 +126"
   ]
  },
  {
   "cell_type": "code",
   "execution_count": 4,
   "id": "ece570be-87c4-406c-9636-639fc36b0bdc",
   "metadata": {},
   "outputs": [
    {
     "name": "stdout",
     "output_type": "stream",
     "text": [
      "[1, 2, 1, 2, 2, 2, 2, 1, 2, 2, 3, 2, 2, ..., 2, 2, 1, 1, 1, 3, 2, 2, 3, 2, 2, 2]\n",
      "entry\n",
      "0        1.0\n",
      "1        2.0\n",
      "2        1.0\n",
      "3        2.0\n",
      "5        2.0\n",
      "        ... \n",
      "10039    2.0\n",
      "10040    3.0\n",
      "10041    2.0\n",
      "10042    2.0\n",
      "10043    2.0\n",
      "Name: nmuons, Length: 9770, dtype: float64\n"
     ]
    }
   ],
   "source": [
    "nmuons_new = df_new[\"nmuons\"].compute()\n",
    "print(nmuons_new)\n",
    "nmuons_old = df_old[\"nmuons\"].compute()\n",
    "print(nmuons_old)"
   ]
  },
  {
   "cell_type": "code",
   "execution_count": 5,
   "id": "7f553f64-2876-42d0-bbd9-ffc6e396be6f",
   "metadata": {},
   "outputs": [
    {
     "name": "stdout",
     "output_type": "stream",
     "text": [
      "6527\n",
      "(6527,)\n"
     ]
    }
   ],
   "source": [
    "print(ak.sum(nmuons_new==2, axis=0))\n",
    "print(nmuons_old[nmuons_old==2].shape)"
   ]
  },
  {
   "cell_type": "code",
   "execution_count": 6,
   "id": "978b0bb2-eefa-413b-b4f3-0083ed1b487b",
   "metadata": {},
   "outputs": [
    {
     "data": {
      "text/plain": [
       "<function matplotlib.pyplot.show(close=None, block=None)>"
      ]
     },
     "execution_count": 6,
     "metadata": {},
     "output_type": "execute_result"
    },
    {
     "data": {
      "image/png": "[encoded data removed]",
      "text/plain": [
       "<Figure size 640x480 with 1 Axes>"
      ]
     },
     "metadata": {},
     "output_type": "display_data"
    }
   ],
   "source": [
    "binning = np.linspace(*[0, 6.01, 7])\n",
    "hist_old, edges = np.histogram(nmuons_new, bins=binning )\n",
    "hist_new, _= np.histogram(nmuons_old, bins=binning )\n",
    "plt.stairs(hist_old, edges, label = \"df_old\")\n",
    "plt.stairs(hist_new, edges, label = \"df_new\")\n",
    "plt.legend(loc=\"upper right\")\n",
    "plt.show"
   ]
  },
  {
   "cell_type": "code",
   "execution_count": 11,
   "id": "8e156302-de7e-437a-ae47-28cd01cd7603",
   "metadata": {},
   "outputs": [
    {
     "name": "stderr",
     "output_type": "stream",
     "text": [
      "/depot/cms/kernels/coffea2024/lib/python3.10/site-packages/dask/dataframe/core.py:5181: UserWarning: Boolean Series key will be reindexed to match DataFrame index.\n",
      "  meta = self._meta[_extract_meta(key)]\n"
     ]
    },
    {
     "data": {
      "text/html": [
       "<div>\n",
       "<style scoped>\n",
       "    .dataframe tbody tr th:only-of-type {\n",
       "        vertical-align: middle;\n",
       "    }\n",
       "\n",
       "    .dataframe tbody tr th {\n",
       "        vertical-align: top;\n",
       "    }\n",
       "\n",
       "    .dataframe thead th {\n",
       "        text-align: right;\n",
       "    }\n",
       "</style>\n",
       "<table border=\"1\" class=\"dataframe\">\n",
       "  <thead>\n",
       "    <tr style=\"text-align: right;\">\n",
       "      <th></th>\n",
       "      <th>run</th>\n",
       "      <th>event</th>\n",
       "      <th>npv</th>\n",
       "      <th>met</th>\n",
       "      <th>LHEMass</th>\n",
       "      <th>mu1_pt</th>\n",
       "      <th>mu2_pt</th>\n",
       "      <th>nmuons</th>\n",
       "      <th>dataset</th>\n",
       "    </tr>\n",
       "    <tr>\n",
       "      <th>entry</th>\n",
       "      <th></th>\n",
       "      <th></th>\n",
       "      <th></th>\n",
       "      <th></th>\n",
       "      <th></th>\n",
       "      <th></th>\n",
       "      <th></th>\n",
       "      <th></th>\n",
       "      <th></th>\n",
       "    </tr>\n",
       "  </thead>\n",
       "  <tbody>\n",
       "    <tr>\n",
       "      <th>0</th>\n",
       "      <td>1</td>\n",
       "      <td>195003</td>\n",
       "      <td>20</td>\n",
       "      <td>38.692532</td>\n",
       "      <td>0</td>\n",
       "      <td>18.547428</td>\n",
       "      <td>18.547428</td>\n",
       "      <td>1.0</td>\n",
       "      <td>vbf_powheg</td>\n",
       "    </tr>\n",
       "    <tr>\n",
       "      <th>2</th>\n",
       "      <td>1</td>\n",
       "      <td>195006</td>\n",
       "      <td>17</td>\n",
       "      <td>20.669426</td>\n",
       "      <td>0</td>\n",
       "      <td>74.524536</td>\n",
       "      <td>74.524536</td>\n",
       "      <td>1.0</td>\n",
       "      <td>vbf_powheg</td>\n",
       "    </tr>\n",
       "    <tr>\n",
       "      <th>8</th>\n",
       "      <td>1</td>\n",
       "      <td>195010</td>\n",
       "      <td>24</td>\n",
       "      <td>78.072212</td>\n",
       "      <td>0</td>\n",
       "      <td>51.610859</td>\n",
       "      <td>51.610859</td>\n",
       "      <td>1.0</td>\n",
       "      <td>vbf_powheg</td>\n",
       "    </tr>\n",
       "    <tr>\n",
       "      <th>28</th>\n",
       "      <td>1</td>\n",
       "      <td>195018</td>\n",
       "      <td>30</td>\n",
       "      <td>155.556717</td>\n",
       "      <td>0</td>\n",
       "      <td>24.212162</td>\n",
       "      <td>24.212162</td>\n",
       "      <td>1.0</td>\n",
       "      <td>vbf_powheg</td>\n",
       "    </tr>\n",
       "    <tr>\n",
       "      <th>31</th>\n",
       "      <td>1</td>\n",
       "      <td>195034</td>\n",
       "      <td>23</td>\n",
       "      <td>20.897215</td>\n",
       "      <td>0</td>\n",
       "      <td>132.282867</td>\n",
       "      <td>132.282867</td>\n",
       "      <td>1.0</td>\n",
       "      <td>vbf_powheg</td>\n",
       "    </tr>\n",
       "    <tr>\n",
       "      <th>...</th>\n",
       "      <td>...</td>\n",
       "      <td>...</td>\n",
       "      <td>...</td>\n",
       "      <td>...</td>\n",
       "      <td>...</td>\n",
       "      <td>...</td>\n",
       "      <td>...</td>\n",
       "      <td>...</td>\n",
       "      <td>...</td>\n",
       "    </tr>\n",
       "    <tr>\n",
       "      <th>10025</th>\n",
       "      <td>1</td>\n",
       "      <td>619037</td>\n",
       "      <td>21</td>\n",
       "      <td>8.845778</td>\n",
       "      <td>0</td>\n",
       "      <td>60.765217</td>\n",
       "      <td>60.765217</td>\n",
       "      <td>1.0</td>\n",
       "      <td>vbf_powheg</td>\n",
       "    </tr>\n",
       "    <tr>\n",
       "      <th>10030</th>\n",
       "      <td>1</td>\n",
       "      <td>619028</td>\n",
       "      <td>37</td>\n",
       "      <td>125.761681</td>\n",
       "      <td>0</td>\n",
       "      <td>31.148886</td>\n",
       "      <td>31.148886</td>\n",
       "      <td>1.0</td>\n",
       "      <td>vbf_powheg</td>\n",
       "    </tr>\n",
       "    <tr>\n",
       "      <th>10034</th>\n",
       "      <td>1</td>\n",
       "      <td>619036</td>\n",
       "      <td>25</td>\n",
       "      <td>77.338600</td>\n",
       "      <td>0</td>\n",
       "      <td>28.174803</td>\n",
       "      <td>28.174803</td>\n",
       "      <td>1.0</td>\n",
       "      <td>vbf_powheg</td>\n",
       "    </tr>\n",
       "    <tr>\n",
       "      <th>10035</th>\n",
       "      <td>1</td>\n",
       "      <td>619030</td>\n",
       "      <td>19</td>\n",
       "      <td>64.341454</td>\n",
       "      <td>0</td>\n",
       "      <td>4.668554</td>\n",
       "      <td>4.668554</td>\n",
       "      <td>1.0</td>\n",
       "      <td>vbf_powheg</td>\n",
       "    </tr>\n",
       "    <tr>\n",
       "      <th>10036</th>\n",
       "      <td>1</td>\n",
       "      <td>619043</td>\n",
       "      <td>31</td>\n",
       "      <td>150.035080</td>\n",
       "      <td>0</td>\n",
       "      <td>15.848397</td>\n",
       "      <td>15.848397</td>\n",
       "      <td>1.0</td>\n",
       "      <td>vbf_powheg</td>\n",
       "    </tr>\n",
       "  </tbody>\n",
       "</table>\n",
       "<p>1715 rows × 9 columns</p>\n",
       "</div>"
      ],
      "text/plain": [
       "       run   event  npv         met  LHEMass      mu1_pt      mu2_pt  nmuons  \\\n",
       "entry                                                                          \n",
       "0        1  195003   20   38.692532        0   18.547428   18.547428     1.0   \n",
       "2        1  195006   17   20.669426        0   74.524536   74.524536     1.0   \n",
       "8        1  195010   24   78.072212        0   51.610859   51.610859     1.0   \n",
       "28       1  195018   30  155.556717        0   24.212162   24.212162     1.0   \n",
       "31       1  195034   23   20.897215        0  132.282867  132.282867     1.0   \n",
       "...    ...     ...  ...         ...      ...         ...         ...     ...   \n",
       "10025    1  619037   21    8.845778        0   60.765217   60.765217     1.0   \n",
       "10030    1  619028   37  125.761681        0   31.148886   31.148886     1.0   \n",
       "10034    1  619036   25   77.338600        0   28.174803   28.174803     1.0   \n",
       "10035    1  619030   19   64.341454        0    4.668554    4.668554     1.0   \n",
       "10036    1  619043   31  150.035080        0   15.848397   15.848397     1.0   \n",
       "\n",
       "          dataset  \n",
       "entry              \n",
       "0      vbf_powheg  \n",
       "2      vbf_powheg  \n",
       "8      vbf_powheg  \n",
       "28     vbf_powheg  \n",
       "31     vbf_powheg  \n",
       "...           ...  \n",
       "10025  vbf_powheg  \n",
       "10030  vbf_powheg  \n",
       "10034  vbf_powheg  \n",
       "10035  vbf_powheg  \n",
       "10036  vbf_powheg  \n",
       "\n",
       "[1715 rows x 9 columns]"
      ]
     },
     "execution_count": 11,
     "metadata": {},
     "output_type": "execute_result"
    }
   ],
   "source": [
    "df_old[nmuons_old<2].compute()"
   ]
  },
  {
   "cell_type": "code",
   "execution_count": 3,
   "id": "27e79b3f-a06d-4748-998f-997c4abadd51",
   "metadata": {},
   "outputs": [
    {
     "name": "stdout",
     "output_type": "stream",
     "text": [
      "3.026836633682251\n",
      "3.0268366\n",
      "3.000633716583252\n",
      "3.0006337\n"
     ]
    }
   ],
   "source": [
    "print(ak.min(df_old[\"mu1_pt\"].compute()))\n",
    "print(ak.min(df_new[\"mu1_pt\"].compute()))\n",
    "print(ak.min(df_old[\"mu2_pt\"].compute()))\n",
    "print(ak.min(df_new[\"mu2_pt\"].compute()))"
   ]
  },
  {
   "cell_type": "code",
   "execution_count": 16,
   "id": "9dcee1d3-2333-4ce6-a851-eee80ae7dfba",
   "metadata": {},
   "outputs": [
    {
     "name": "stdout",
     "output_type": "stream",
     "text": [
      "9770\n",
      "9770\n",
      "8055\n",
      "8055\n"
     ]
    },
    {
     "name": "stderr",
     "output_type": "stream",
     "text": [
      "/depot/cms/kernels/coffea2024/lib/python3.10/site-packages/dask/dataframe/core.py:5181: UserWarning: Boolean Series key will be reindexed to match DataFrame index.\n",
      "  meta = self._meta[_extract_meta(key)]\n"
     ]
    }
   ],
   "source": [
    "print(ak.num(df_old[\"mu1_pt\"].compute(), axis=0))\n",
    "print(ak.num(df_new[\"mu1_pt\"].compute(), axis=0))\n",
    "print(ak.num(df_old[nmuons_old >1][\"mu2_pt\"].compute(), axis=0))\n",
    "# print(df_old[nmuons_old >1][\"mu2_pt\"].compute().shape)\n",
    "print(ak.num(df_new[nmuons_new >1][\"mu2_pt\"].compute(), axis=0))"
   ]
  },
  {
   "cell_type": "code",
   "execution_count": 14,
   "id": "9d52d8ae-514f-4981-abb4-6252f54b06ed",
   "metadata": {},
   "outputs": [
    {
     "data": {
      "text/html": [
       "<div>\n",
       "<style scoped>\n",
       "    .dataframe tbody tr th:only-of-type {\n",
       "        vertical-align: middle;\n",
       "    }\n",
       "\n",
       "    .dataframe tbody tr th {\n",
       "        vertical-align: top;\n",
       "    }\n",
       "\n",
       "    .dataframe thead th {\n",
       "        text-align: right;\n",
       "    }\n",
       "</style>\n",
       "<table border=\"1\" class=\"dataframe\">\n",
       "  <thead>\n",
       "    <tr style=\"text-align: right;\">\n",
       "      <th></th>\n",
       "      <th>run</th>\n",
       "      <th>event</th>\n",
       "      <th>npv</th>\n",
       "      <th>met</th>\n",
       "      <th>LHEMass</th>\n",
       "      <th>mu1_pt</th>\n",
       "      <th>mu2_pt</th>\n",
       "      <th>dataset</th>\n",
       "    </tr>\n",
       "    <tr>\n",
       "      <th>entry</th>\n",
       "      <th></th>\n",
       "      <th></th>\n",
       "      <th></th>\n",
       "      <th></th>\n",
       "      <th></th>\n",
       "      <th></th>\n",
       "      <th></th>\n",
       "      <th></th>\n",
       "    </tr>\n",
       "  </thead>\n",
       "  <tbody>\n",
       "  </tbody>\n",
       "</table>\n",
       "</div>"
      ],
      "text/plain": [
       "Empty DataFrame\n",
       "Columns: [run, event, npv, met, LHEMass, mu1_pt, mu2_pt, dataset]\n",
       "Index: []"
      ]
     },
     "execution_count": 14,
     "metadata": {},
     "output_type": "execute_result"
    }
   ],
   "source": [
    "df_new[\"mu2_pt\"] >"
   ]
  },
  {
   "cell_type": "code",
   "execution_count": null,
   "id": "e18665aa-4659-4ca2-afac-f3912093c4d1",
   "metadata": {},
   "outputs": [],
   "source": []
  },
  {
   "cell_type": "code",
   "execution_count": 6,
   "id": "5a2a9fc1-aa80-4094-b5a1-c53162b5573e",
   "metadata": {},
   "outputs": [
    {
     "name": "stdout",
     "output_type": "stream",
     "text": [
      "9770\n"
     ]
    }
   ],
   "source": [
    "print(ak.sum((df_old[\"mu1_pt\"] > 0).compute(), axis=0))"
   ]
  },
  {
   "cell_type": "code",
   "execution_count": null,
   "id": "6680dea8-582c-447a-871e-13091c4c786b",
   "metadata": {},
   "outputs": [],
   "source": [
    "# var = \"mu1_pt\"\n",
    "# var = \"dimuon_mass\"\n",
    "# var = \"jet1_pt\"\n",
    "# variables = [\"mu1_pt\", \"mu2_pt\", \"dimuon_mass\"]\n",
    "variables = [\"mu1_pt\"]\n",
    "for var in variables:\n",
    "    binning = np.linspace(*[25, 300, 50])\n",
    "    old_len = ak.num(df_old[\"mu1_pt\"].compute(), axis=0)\n",
    "    new_len = ak.num(df_new[\"mu1_pt\"].compute(), axis=0)\n",
    "    new_weights = np.ones(new_len)\n",
    "    new_weights = new_weights*old_len/new_len\n",
    "    hist_old, edges = np.histogram(df_old[var].compute(), bins=binning )\n",
    "    # hist_old, edges = np.histogram(df_old[var+\"_nominal\"].compute(), bins=binning )\n",
    "    \n",
    "    # hist_new, _= np.histogram(df_new[region_cut][var].compute(), bins=binning , weights=new_weights)\n",
    "    hist_new, _= np.histogram(df_new[var].compute(), bins=binning )\n",
    "    \n",
    "    plt.stairs(hist_old, edges, label = \"df_old\")\n",
    "    plt.stairs(hist_new, edges, label = \"df_new\")\n",
    "    plt.legend(loc=\"upper right\")\n",
    "    plt.title(var)\n",
    "    plt.show()\n",
    "    plt.stairs((hist_new-hist_old), edges)\n",
    "    plt.title(var+\" diff\")\n",
    "    plt.show()"
   ]
  },
  {
   "cell_type": "code",
   "execution_count": 17,
   "id": "47661fb9-4613-4840-ba7e-4efbe0ff2baf",
   "metadata": {},
   "outputs": [
    {
     "name": "stderr",
     "output_type": "stream",
     "text": [
      "/depot/cms/kernels/coffea2024/lib/python3.10/site-packages/dask/dataframe/core.py:5181: UserWarning: Boolean Series key will be reindexed to match DataFrame index.\n",
      "  meta = self._meta[_extract_meta(key)]\n"
     ]
    },
    {
     "data": {
      "image/png": "[encoded data removed]",
      "text/plain": [
       "<Figure size 640x480 with 1 Axes>"
      ]
     },
     "metadata": {},
     "output_type": "display_data"
    },
    {
     "data": {
      "image/png": "[encoded data removed]",
      "text/plain": [
       "<Figure size 640x480 with 1 Axes>"
      ]
     },
     "metadata": {},
     "output_type": "display_data"
    }
   ],
   "source": [
    "\"\"\"\n",
    "For mu2, special condition is needed bc when there's only one muon, mu2==mu1 in copperhead\n",
    "\"\"\"\n",
    "# var = \"mu1_pt\"\n",
    "# var = \"dimuon_mass\"\n",
    "# var = \"jet1_pt\"\n",
    "# variables = [\"mu1_pt\", \"mu2_pt\", \"dimuon_mass\"]\n",
    "variables = [\"mu2_pt\"]\n",
    "for var in variables:\n",
    "    binning = np.linspace(*[25, 300, 50])\n",
    "    # the way copperheadV1 defines mu2 is the muon with the lowest pt, thus the\n",
    "    # only way to make copperheadV1 and copperheadV2 same is to ensure nmuons ==2\n",
    "    hist_old, edges = np.histogram(df_old[nmuons_old ==2][var].compute(), bins=binning )\n",
    "    hist_new, _= np.histogram(df_new[nmuons_new ==2][var].compute(), bins=binning )\n",
    "    \n",
    "    plt.stairs(hist_old, edges, label = \"df_old\")\n",
    "    plt.stairs(hist_new, edges, label = \"df_new\")\n",
    "    plt.legend(loc=\"upper right\")\n",
    "    plt.title(var)\n",
    "    plt.show()\n",
    "    plt.stairs((hist_new-hist_old), edges)\n",
    "    plt.title(var+\" diff\")\n",
    "    plt.show()"
   ]
  },
  {
   "cell_type": "code",
   "execution_count": 21,
   "id": "e91a6a5e-df2f-4938-b45a-69aa01dd9550",
   "metadata": {},
   "outputs": [
    {
     "data": {
      "text/plain": [
       "0"
      ]
     },
     "execution_count": 21,
     "metadata": {},
     "output_type": "execute_result"
    }
   ],
   "source": [
    "diff = hist_old-hist_new\n",
    "len(diff[diff !=0])"
   ]
  },
  {
   "cell_type": "code",
   "execution_count": 6,
   "id": "cf03ad70-be0f-4f19-b2bf-3537710a6e2a",
   "metadata": {},
   "outputs": [
    {
     "data": {
      "text/plain": [
       "<matplotlib.patches.StepPatch at 0x7f64d2761360>"
      ]
     },
     "execution_count": 6,
     "metadata": {},
     "output_type": "execute_result"
    },
    {
     "data": {
      "image/png": "[encoded data removed]",
      "text/plain": [
       "<Figure size 640x480 with 1 Axes>"
      ]
     },
     "metadata": {},
     "output_type": "display_data"
    }
   ],
   "source": []
  },
  {
   "cell_type": "code",
   "execution_count": null,
   "id": "58737885-0c7c-4fe3-8f4d-caa66628f5f3",
   "metadata": {},
   "outputs": [],
   "source": [
    "# df_old.fields\n",
    "# df_old[\"mu1_pt\"].compute()\n",
    "# df_old[\"region\"].compute()\n",
    "# df_old[\"wgt_nominal\"].compute()\n"
   ]
  },
  {
   "cell_type": "code",
   "execution_count": 43,
   "id": "035e3ed6-53b4-4cfb-a793-6bc53408b664",
   "metadata": {},
   "outputs": [],
   "source": [
    "# (df_old).fields\n",
    "regions = df_old.region.compute() "
   ]
  },
  {
   "cell_type": "code",
   "execution_count": 59,
   "id": "667f1e1a-f20c-409a-9fff-73730acfd5fe",
   "metadata": {},
   "outputs": [],
   "source": [
    "# import dask.dataframe as dd\n",
    "# import pandas as pd\n",
    "# # df = dd.from_pandas(pd.DataFrame(), npartitions=1)\n",
    "# df = dd.read_parquet(full_load_path)\n",
    "# region = df.region.compute()"
   ]
  },
  {
   "cell_type": "code",
   "execution_count": 55,
   "id": "21b0852d-dfcb-4836-82cb-210304b468f2",
   "metadata": {},
   "outputs": [
    {
     "data": {
      "text/plain": [
       "entry\n",
       "3067      True\n",
       "4094     False\n",
       "4405      True\n",
       "6031     False\n",
       "6797      True\n",
       "         ...  \n",
       "90309    False\n",
       "90479    False\n",
       "92886     True\n",
       "94390    False\n",
       "95004     True\n",
       "Name: region, Length: 89712, dtype: bool[pyarrow]"
      ]
     },
     "execution_count": 55,
     "metadata": {},
     "output_type": "execute_result"
    }
   ],
   "source": [
    "region== \"h-peak\""
   ]
  },
  {
   "cell_type": "code",
   "execution_count": 60,
   "id": "a13880bc-9dc8-40dc-91d2-15175cd3e4aa",
   "metadata": {},
   "outputs": [
    {
     "data": {
      "text/plain": [
       "entry\n",
       "3067          h-peak\n",
       "4094     h-sidebands\n",
       "4405          h-peak\n",
       "6031     h-sidebands\n",
       "6797          h-peak\n",
       "            ...     \n",
       "90309    h-sidebands\n",
       "90479    h-sidebands\n",
       "92886         h-peak\n",
       "94390    h-sidebands\n",
       "95004         h-peak\n",
       "Name: region, Length: 89712, dtype: string"
      ]
     },
     "execution_count": 60,
     "metadata": {},
     "output_type": "execute_result"
    }
   ],
   "source": [
    "region"
   ]
  },
  {
   "cell_type": "code",
   "execution_count": 58,
   "id": "6db06227-f830-4def-86b8-352762b5775c",
   "metadata": {},
   "outputs": [
    {
     "data": {
      "text/plain": [
       "Index(['LHEMass', 'dataset', 'dimuon_cos_theta_cs', 'dimuon_cos_theta_cs_pisa',\n",
       "       'dimuon_dEta', 'dimuon_dPhi', 'dimuon_dR', 'dimuon_ebe_mass_res',\n",
       "       'dimuon_ebe_mass_res_rel', 'dimuon_eta', 'dimuon_mass', 'dimuon_phi',\n",
       "       'dimuon_phi_cs', 'dimuon_phi_cs_pisa', 'dimuon_pisa_mass_res',\n",
       "       'dimuon_pisa_mass_res_rel', 'dimuon_pt', 'dimuon_pt_log', 'event',\n",
       "       'htsoft2_nominal', 'htsoft5_nominal', 'jet1_eta_nominal',\n",
       "       'jet1_has_matched_gen_nominal', 'jet1_phi_nominal', 'jet1_pt_nominal',\n",
       "       'jet1_qgl_nominal', 'jet2_eta_nominal', 'jet2_has_matched_gen_nominal',\n",
       "       'jet2_phi_nominal', 'jet2_pt_nominal', 'jet2_qgl_nominal',\n",
       "       'jj_dEta_nominal', 'jj_dPhi_nominal', 'jj_eta_nominal',\n",
       "       'jj_mass_nominal', 'jj_mass_log_nominal', 'jj_phi_nominal',\n",
       "       'jj_pt_nominal', 'll_zstar_log_nominal', 'met', 'mmj1_dEta_nominal',\n",
       "       'mmj1_dPhi_nominal', 'mmj2_dEta_nominal', 'mmj2_dPhi_nominal',\n",
       "       'mmj_min_dEta_nominal', 'mmj_min_dPhi_nominal', 'mmjj_eta_nominal',\n",
       "       'mmjj_mass_nominal', 'mmjj_phi_nominal', 'mmjj_pt_nominal', 'mu1_eta',\n",
       "       'mu1_iso', 'mu1_phi', 'mu1_pt', 'mu1_pt_over_mass', 'mu2_eta',\n",
       "       'mu2_iso', 'mu2_phi', 'mu2_pt', 'mu2_pt_over_mass',\n",
       "       'nBtagLoose_nominal', 'nBtagMedium_nominal', 'njets_nominal', 'npv',\n",
       "       'nsoftjets2_nominal', 'nsoftjets5_nominal', 'region', 'rpt_nominal',\n",
       "       'run', 'wgt_nominal', 'year', 'zeppenfeld_nominal'],\n",
       "      dtype='object')"
      ]
     },
     "execution_count": 58,
     "metadata": {},
     "output_type": "execute_result"
    }
   ],
   "source": [
    "df.columns"
   ]
  },
  {
   "cell_type": "code",
   "execution_count": null,
   "id": "d9d26852-9f3d-45a0-9db2-7a31d378cec3",
   "metadata": {},
   "outputs": [],
   "source": [
    "1267979"
   ]
  }
 ],
 "metadata": {
  "kernelspec": {
   "display_name": "Python [conda env:coffea2024]",
   "language": "python",
   "name": "conda-env-coffea2024-py"
  },
  "language_info": {
   "codemirror_mode": {
    "name": "ipython",
    "version": 3
   },
   "file_extension": ".py",
   "mimetype": "text/x-python",
   "name": "python",
   "nbconvert_exporter": "python",
   "pygments_lexer": "ipython3",
   "version": "3.10.13"
  }
 },
 "nbformat": 4,
 "nbformat_minor": 5
}
