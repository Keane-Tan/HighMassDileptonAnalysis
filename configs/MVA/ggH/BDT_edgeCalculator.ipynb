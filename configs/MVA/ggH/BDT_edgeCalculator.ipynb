{
 "cells": [
  {
   "cell_type": "code",
   "execution_count": 1,
   "id": "da040fdc-7bee-4eb1-b5cc-0c94f464341d",
   "metadata": {},
   "outputs": [],
   "source": [
    "import time\n",
    "import numpy as np\n",
    "import pickle\n",
    "import awkward as ak\n",
    "import dask_awkward as dak\n",
    "from distributed import Client\n",
    "from omegaconf import OmegaConf\n",
    "\n",
    "from typing import Tuple, List, Dict\n",
    "from sklearn.metrics import roc_curve, auc, roc_auc_score\n",
    "import matplotlib.pyplot as plt\n",
    "import mplhep as hep\n",
    "import matplotlib.pyplot as plt\n",
    "import matplotlib\n",
    "plt.style.use(hep.style.CMS)"
   ]
  },
  {
   "cell_type": "code",
   "execution_count": 2,
   "id": "a09ad774-6d96-4d77-9038-05e4b36526ab",
   "metadata": {},
   "outputs": [
    {
     "name": "stdout",
     "output_type": "stream",
     "text": [
      "(10002975,)\n",
      "(287560,)\n"
     ]
    }
   ],
   "source": [
    "year = \"2016preVFP\"\n",
    "stage2_out_name = \"BDT_WgtON_original_AN_BDT_Sept27\"\n",
    "# stage2_out_name = \"BDT_WgtON_original_AN_BDT_noDimuRap_Sept27\"\n",
    "\n",
    "load_path = f\"/work/users/yun79/stage2_output/{stage2_out_name}/ggh/{year}/processed_events_bkgMC*.parquet\"\n",
    "\n",
    "\n",
    "processed_events = ak.from_parquet(load_path)\n",
    "nan_filter = ~np.isnan(ak.to_numpy(processed_events.wgt_nominal_total))\n",
    "processed_events = processed_events[nan_filter]\n",
    "region = processed_events.h_peak | processed_events.h_sidebands\n",
    "# DNN_score_raw is a sigmoid output\n",
    "bkg = (ak.to_numpy(processed_events.BDT_score[region])) # eval\n",
    "# bkg = (ak.to_numpy(processed_events.BDT_score_val[region])) # val\n",
    "bkg_wgt = (ak.to_numpy(processed_events.wgt_nominal_total[region]))\n",
    "bkg_label = 0*np.ones_like(bkg)\n",
    "\n",
    "# we only have ggH and VBF for signal, which I hope is enough\n",
    "# load_path = f\"/work/users/yun79/stage2_output/{stage2_out_name}/ggh/{year}/processed_events_sigMC*.parquet\"\n",
    "load_path = f\"/work/users/yun79/stage2_output/{stage2_out_name}/ggh/{year}/processed_events_sigMC_ggh.parquet\"\n",
    "\n",
    "\n",
    "processed_events = ak.from_parquet(load_path)\n",
    "region = processed_events.h_peak | processed_events.h_sidebands\n",
    "sig = (ak.to_numpy(processed_events.BDT_score[region])) # eval\n",
    "# sig = (ak.to_numpy(processed_events.BDT_score_val[region])) # val\n",
    "sig_wgt = (ak.to_numpy(processed_events.wgt_nominal_total[region]))\n",
    "sig_label = np.ones_like(sig)\n",
    "# print(np.min(bkg))\n",
    "# print(np.max(bkg))\n",
    "# print(np.min(sig))\n",
    "# print(np.max(sig))\n",
    "print(bkg.shape)\n",
    "print(sig.shape)\n",
    "pred = np.concatenate((bkg,sig), axis=0)\n",
    "wgt_total = np.concatenate((bkg_wgt,sig_wgt), axis=0)\n",
    "label = np.concatenate((bkg_label,sig_label), axis=0)\n",
    "# print(pred.shape)\n",
    "# print(wgt_total.shape)\n",
    "# print(label.shape)"
   ]
  },
  {
   "cell_type": "code",
   "execution_count": 3,
   "id": "7b759a54-a429-40df-9b19-7d08acb80dc1",
   "metadata": {},
   "outputs": [
    {
     "data": {
      "text/plain": [
       "<Figure size 1000x1000 with 0 Axes>"
      ]
     },
     "metadata": {},
     "output_type": "display_data"
    }
   ],
   "source": [
    "# seperate signal and background\n",
    "binning = np.linspace(start=0,stop=1, num=60) \n",
    "bkg_pred = bkg\n",
    "bkg_wgt = bkg_wgt / np.sum(bkg_wgt) # normalize\n",
    "bkg_hist, edges = np.histogram(bkg_pred, bins=binning, weights=bkg_wgt)\n",
    "\n",
    "sig_pred = sig\n",
    "sig_wgt = sig_wgt / np.sum(sig_wgt) # normalize\n",
    "sig_hist, _ = np.histogram(sig_pred, bins=binning, weights=sig_wgt)\n",
    "# print(f\"bkg_hist: {bkg_hist}\")\n",
    "plt.stairs(bkg_hist, edges, label = \"background\")\n",
    "plt.stairs(sig_hist, edges, label = \"signal\")\n",
    "plt.xlabel('BDT Score')\n",
    "plt.legend()\n",
    "plt.savefig(f\"6_5_{year}_eval.png\")\n",
    "# plt.savefig(f\"6_5_val.png\")\n",
    "# plt.show()\n",
    "plt.clf()\n",
    "\n"
   ]
  },
  {
   "cell_type": "code",
   "execution_count": 4,
   "id": "cc8c6052-7084-4d5f-9a7e-f33962e4fc54",
   "metadata": {},
   "outputs": [],
   "source": [
    "import numba \n",
    "\n",
    "@numba.njit(parallel=True)\n",
    "def customROC_curve_AN(label, pred, weight):\n",
    "    \"\"\"\n",
    "    generates signal and background efficiency consistent with the AN,\n",
    "    as described by Fig 4.6 of Dmitry's PhD thesis\n",
    "    \"\"\"\n",
    "    # we assume sigmoid output with labels 0 = background, 1 = signal\n",
    "    # thresholds = np.linspace(start=0,stop=1, num=10000) \n",
    "    thresholds = np.linspace(start=0,stop=1, num=5000)\n",
    "    effBkg_total = -99*np.ones_like(thresholds) \n",
    "    effSig_total = -99*np.ones_like(thresholds) \n",
    "    # for ix in range(len(thresholds)):\n",
    "    for ix in numba.prange(len(thresholds)):\n",
    "        threshold = thresholds[ix]\n",
    "        # get FP and TP\n",
    "        positive_filter = (pred >= threshold)\n",
    "        falsePositive_filter = positive_filter & (label == 0)\n",
    "        FP = np.sum(weight[falsePositive_filter])#  FP = false positive\n",
    "        truePositive_filter = positive_filter & (label == 1)\n",
    "        TP = np.sum(weight[truePositive_filter])#  TP = true positive\n",
    "        \n",
    "\n",
    "        # get TN and FN\n",
    "        negative_filter = (pred < threshold) # just picked negative to be <=\n",
    "        trueNegative_filter = negative_filter & (label == 0)\n",
    "        TN = np.sum(weight[trueNegative_filter])#  TN = true negative\n",
    "        falseNegative_filter = negative_filter & (label == 1)\n",
    "        FN = np.sum(weight[falseNegative_filter])#  FN = false negative\n",
    "\n",
    "        \n",
    "\n",
    "\n",
    "        effBkg = TN / (TN + FP) # Dmitry PhD thesis definition\n",
    "        effSig = FN / (FN + TP) # Dmitry PhD thesis definition\n",
    "        effBkg_total[ix] = effBkg\n",
    "        effSig_total[ix] = effSig\n",
    "        \n",
    "\n",
    "        # print(f\"effSig: {effSig}\")\n",
    "        # print(f\"FN: {FN}\")\n",
    "        # print(f\"TP: {TP}\")\n",
    "        # print(f\"threshold: {threshold}\")\n",
    "        \n",
    "        # sanity check\n",
    "        # assert ((np.sum(positive_filter) + np.sum(negative_filter)) == len(pred))\n",
    "        # total_yield = FP + TP + FN + TN\n",
    "        # assert(np.isclose(total_yield, np.sum(weight)))\n",
    "        # print(f\"total_yield: {total_yield}\")\n",
    "        # print(f\"np.sum(weight): {np.sum(weight)}\")\n",
    "    print(f\"np.sum(effBkg_total ==-99) : {np.sum(effBkg_total ==-99)}\")\n",
    "    print(f\"np.sum(effSig_total ==-99) : {np.sum(effSig_total ==-99)}\")\n",
    "    effBkg_total[np.isnan(effBkg_total)] = 1\n",
    "    effSig_total[np.isnan(effSig_total)] = 1\n",
    "    return (effBkg_total, effSig_total, thresholds)\n",
    "\n"
   ]
  },
  {
   "cell_type": "code",
   "execution_count": 5,
   "id": "6f220910-1927-4f93-a9d5-495623104c5c",
   "metadata": {},
   "outputs": [],
   "source": [
    "# # test\n",
    "# import numba \n",
    "\n",
    "# @numba.njit(parallel=True)\n",
    "# def customROC_curve_AN(label, pred, weight):\n",
    "#     \"\"\"\n",
    "#     generates signal and background efficiency consistent with the AN,\n",
    "#     as described by Fig 4.6 of Dmitry's PhD thesis\n",
    "#     \"\"\"\n",
    "#     # we assume sigmoid output with labels 0 = background, 1 = signal\n",
    "#     # thresholds = np.linspace(start=0,stop=1, num=2500) \n",
    "#     thresholds = np.linspace(start=0,stop=1, num=50)\n",
    "#     effBkg_total = -99*np.ones_like(thresholds) \n",
    "#     effSig_total = -99*np.ones_like(thresholds) \n",
    "#     # for ix in range(len(thresholds)):\n",
    "#     for ix in numba.prange(len(thresholds)):\n",
    "#         threshold = thresholds[ix]\n",
    "#         # get FP and TP\n",
    "#         positive_filter = (pred >= threshold)\n",
    "#         falsePositive_filter = positive_filter & (label == 0)\n",
    "#         FP = np.sum(weight[falsePositive_filter])#  FP = false positive\n",
    "#         truePositive_filter = positive_filter & (label == 1)\n",
    "#         TP = np.sum(weight[truePositive_filter])#  TP = true positive\n",
    "        \n",
    "\n",
    "#         # get TN and FN\n",
    "#         negative_filter = (pred < threshold) # just picked negative to be <=\n",
    "#         trueNegative_filter = negative_filter & (label == 0)\n",
    "#         TN = np.sum(weight[trueNegative_filter])#  TN = true negative\n",
    "#         falseNegative_filter = negative_filter & (label == 1)\n",
    "#         FN = np.sum(weight[falseNegative_filter])#  FN = false negative\n",
    "\n",
    "        \n",
    "\n",
    "#         # effBkg = TN / (FN + TN)\n",
    "#         # effSig = TP / (TP + FP)\n",
    "#         # effBkg = TN / (FP + TN)\n",
    "#         # effSig = TP / (TP + FN)\n",
    "#         effBkg = TN / (TN + FP)\n",
    "#         effSig = FN / (FN + TP)\n",
    "#         # effBkg = FP / (TN + FP)\n",
    "#         # effSig = TP / (FN + TP)\n",
    "#         effBkg_total[ix] = effBkg\n",
    "#         effSig_total[ix] = effSig\n",
    "\n",
    "#         # print(f\"TN: {TN}\")\n",
    "#         # print(f\"FN: {FN}\")\n",
    "        \n",
    "#         # sanity check\n",
    "#         # assert ((np.sum(positive_filter) + np.sum(negative_filter)) == len(pred))\n",
    "#         # total_yield = FP + TP + FN + TN\n",
    "#         # assert(np.isclose(total_yield, np.sum(weight)))\n",
    "#         # print(f\"total_yield: {total_yield}\")\n",
    "#         # print(f\"np.sum(weight): {np.sum(weight)}\")\n",
    "#     print(f\"np.sum(effBkg_total ==-99) : {np.sum(effBkg_total ==-99)}\")\n",
    "#     print(f\"np.sum(effSig_total ==-99) : {np.sum(effSig_total ==-99)}\")\n",
    "#     effBkg_total[np.isnan(effBkg_total)] = 1\n",
    "#     effSig_total[np.isnan(effSig_total)] = 1\n",
    "#     return (effBkg_total, effSig_total, thresholds)\n",
    "\n"
   ]
  },
  {
   "cell_type": "code",
   "execution_count": 6,
   "id": "c79799c7-ca6a-402b-9ecf-d9266768065a",
   "metadata": {
    "scrolled": true
   },
   "outputs": [
    {
     "name": "stdout",
     "output_type": "stream",
     "text": [
      "np.sum(effBkg_total ==-99) : 0\n",
      "np.sum(effSig_total ==-99) : 0\n"
     ]
    },
    {
     "data": {
      "text/plain": [
       "<Figure size 1000x1000 with 0 Axes>"
      ]
     },
     "metadata": {},
     "output_type": "display_data"
    }
   ],
   "source": [
    "eff_bkg, eff_sig, thresholds = customROC_curve_AN(label, pred, wgt_total)\n",
    "# print(f\"eff_sig: {eff_sig}\")\n",
    "plt.figure()  \n",
    "plt.plot(eff_sig, eff_bkg, label=\"Stage2 ROC Curve (Eval)\")\n",
    "\n",
    "# plt.vlines(eff_sig, 0, eff_bkg, linestyle=\"dashed\")\n",
    "plt.vlines(np.linspace(0,1,11), 0, 1, linestyle=\"dashed\", color=\"grey\")\n",
    "plt.hlines(np.logspace(-4,0,5), 0, 1, linestyle=\"dashed\", color=\"grey\")\n",
    "# plt.hlines(eff_bkg, 0, eff_sig, linestyle=\"dashed\")\n",
    "plt.xlim([0.0, 1.0])\n",
    "# plt.ylim([0.0, 1.0])\n",
    "plt.xlabel('Signal eff')\n",
    "plt.yscale(\"log\")\n",
    "plt.ylim([0.0001, 1.0])\n",
    "plt.ylabel('Background eff')\n",
    "plt.title(f'ROC curve for ggH BDT {year}')\n",
    "# plt.plot([0, 1], [0, 1], color='navy', lw=2, linestyle='--')\n",
    "plt.legend()\n",
    "# plt.show()\n",
    "plt.savefig(f\"quick_checks/plots/ROC_curve_{year}_eval.png\")\n",
    "# plt.savefig(\"ROC_curve_val.png\")\n",
    "plt.clf()"
   ]
  },
  {
   "cell_type": "code",
   "execution_count": 7,
   "id": "0e36db9c-4cc1-460b-8188-c43fd2b96fd2",
   "metadata": {},
   "outputs": [
    {
     "data": {
      "text/plain": [
       "<Figure size 1000x1000 with 0 Axes>"
      ]
     },
     "metadata": {},
     "output_type": "display_data"
    }
   ],
   "source": [
    "# plot to find the best threshold for signal efficiency\n",
    "plt.figure()  \n",
    "plt.plot(thresholds, eff_sig)\n",
    "plt.ylabel('Signal eff')\n",
    "plt.xlabel('thresholds')\n",
    "# plt.show()\n",
    "plt.savefig(f\"quick_checks/plots/Sig_eff_{year}_eval.png\")\n",
    "# plt.savefig(\"Sig_eff_val.png\")\n",
    "plt.clf()"
   ]
  },
  {
   "cell_type": "code",
   "execution_count": 8,
   "id": "f4a5401f-f1f1-4a1f-bf95-2d9d1e3dbc85",
   "metadata": {
    "scrolled": true
   },
   "outputs": [],
   "source": [
    "# def findBDT_binVals(thres, eff_sigs, sigEffBinEdges):\n",
    "#     \"\"\"\n",
    "#     we expect len(sigEffBinEdges) == number of categories + 1,\n",
    "#     we expect sshape of thres == shape of eff_sigs\n",
    "#     \"\"\"\n",
    "#     bin_vals = []\n",
    "#     for target_eff in sigEffBinEdges:\n",
    "#         print(f\"target_eff: {target_eff}\")\n",
    "#         for ix in range(1,len(eff_sigs)):\n",
    "#             # print(f\"ix: {ix}\")\n",
    "#             ith_sigEff = eff_sigs[ix]\n",
    "#             thres_oneb4 = thres[ix-1]\n",
    "#             thres_current = thres[ix]\n",
    "            \n",
    "#             if target_eff <= ith_sigEff:\n",
    "#                 print(f\"ith_sigEff: {ith_sigEff}\")\n",
    "#                 print(f\"thres_oneb4: {thres_oneb4}\")\n",
    "#                 print(f\"thres_current: {thres_current}\")\n",
    "#                 bin_vals.append(thres_current)\n",
    "#                 break\n",
    "#         print(f\"-----------------------------------------\")\n",
    "#     return bin_vals\n",
    "\n",
    "\n",
    "# # sigEffBinEdges = [0, 0.3, 0.65, 0.8, 0.95, 1.0] \n",
    "# sigEffBinEdges = [0.30457106331479633,\n",
    "#  0.6578274705868433,\n",
    "#  0.8062508933940177,\n",
    "#  0.9456462813510415,\n",
    "#  1.0] # Run2 edges\n",
    "# bin_vals = findBDT_binVals(thresholds, eff_sig, sigEffBinEdges)\n",
    "# print(bin_vals) "
   ]
  },
  {
   "cell_type": "code",
   "execution_count": 9,
   "id": "67ce7ffb-703d-4fbe-8d48-ea59379105fa",
   "metadata": {},
   "outputs": [],
   "source": [
    "# load_path = f\"/work/users/yun79/stage2_output/BDT_WgtON_original_AN_BDT_Sept27/ggh/{year}/processed_events_sigMC*.parquet\"\n",
    "\n",
    "# processed_events = ak.from_parquet(load_path)\n",
    "# bdt_eval = processed_events.BDT_score\n",
    "# bdt_val = processed_events.BDT_score_val"
   ]
  },
  {
   "cell_type": "code",
   "execution_count": 10,
   "id": "8332e763-cb85-4839-9726-d6a70cf20a8a",
   "metadata": {},
   "outputs": [],
   "source": [
    "# np.sum(bdt_eval != bdt_val)"
   ]
  },
  {
   "cell_type": "code",
   "execution_count": 11,
   "id": "5264fe04-c3ac-485d-95bf-cc8f871d6814",
   "metadata": {},
   "outputs": [
    {
     "name": "stdout",
     "output_type": "stream",
     "text": [
      "target_eff: 0.4940555272\n",
      "ith_bkgEff: 0.4946078610760107\n",
      "thres_oneb4: 0.11122224444888978\n",
      "thres_current: 0.11142228445689138\n",
      "-----------------------------------------\n",
      "target_eff: 0.818256357\n",
      "ith_bkgEff: 0.8188049688950233\n",
      "thres_oneb4: 0.1858371674334867\n",
      "thres_current: 0.1860372074414883\n",
      "-----------------------------------------\n",
      "target_eff: 0.9168108849\n",
      "ith_bkgEff: 0.9169343935951816\n",
      "thres_oneb4: 0.23504700940188036\n",
      "thres_current: 0.23524704940988198\n",
      "-----------------------------------------\n",
      "target_eff: 0.9864517068\n",
      "ith_bkgEff: 0.9864935094426229\n",
      "thres_oneb4: 0.3300660132026405\n",
      "thres_current: 0.3302660532106421\n",
      "-----------------------------------------\n",
      "target_eff: 1.0\n",
      "ith_bkgEff: 1.0000001460942696\n",
      "thres_oneb4: 0.8761752350470094\n",
      "thres_current: 0.876375275055011\n",
      "-----------------------------------------\n",
      "[0.11142228445689138, 0.1860372074414883, 0.23524704940988198, 0.3302660532106421, 0.876375275055011]\n"
     ]
    }
   ],
   "source": [
    "def findBDT_binVals_basedOnBkgEff(thres, eff_bkgs, bkgEffBinEdges):\n",
    "    \"\"\"\n",
    "    we expect len(bkgEffBinEdges) == number of categories + 1,\n",
    "    we expect sshape of thres == shape of eff_sigs\n",
    "    \"\"\"\n",
    "    bin_vals = []\n",
    "    for target_eff in bkgEffBinEdges:\n",
    "        print(f\"target_eff: {target_eff}\")\n",
    "        for ix in range(1,len(eff_bkgs)):\n",
    "            # print(f\"ix: {ix}\")\n",
    "            ith_bkgEff = eff_bkgs[ix]\n",
    "            thres_oneb4 = thres[ix-1]\n",
    "            thres_current = thres[ix]\n",
    "            \n",
    "            if target_eff <= ith_bkgEff:\n",
    "                print(f\"ith_bkgEff: {ith_bkgEff}\")\n",
    "                print(f\"thres_oneb4: {thres_oneb4}\")\n",
    "                print(f\"thres_current: {thres_current}\")\n",
    "                bin_vals.append(thres_current)\n",
    "                break\n",
    "        print(f\"-----------------------------------------\")\n",
    "    return bin_vals\n",
    "\n",
    "\n",
    "bkgEffBinEdges = [0.4940555272,\n",
    "0.818256357,\n",
    "0.9168108849,\n",
    "0.9864517068,\n",
    " 1.0] # Run2 edges\n",
    "bin_vals = findBDT_binVals_basedOnBkgEff(thresholds, eff_bkg, bkgEffBinEdges)\n",
    "print(bin_vals) "
   ]
  },
  {
   "cell_type": "code",
   "execution_count": null,
   "id": "adb27af7-f04d-4d8e-b853-ff28d6795258",
   "metadata": {},
   "outputs": [],
   "source": []
  }
 ],
 "metadata": {
  "kernelspec": {
   "display_name": "Python [conda env:root632]",
   "language": "python",
   "name": "conda-env-root632-py"
  },
  "language_info": {
   "codemirror_mode": {
    "name": "ipython",
    "version": 3
   },
   "file_extension": ".py",
   "mimetype": "text/x-python",
   "name": "python",
   "nbconvert_exporter": "python",
   "pygments_lexer": "ipython3",
   "version": "3.12.5"
  }
 },
 "nbformat": 4,
 "nbformat_minor": 5
}
