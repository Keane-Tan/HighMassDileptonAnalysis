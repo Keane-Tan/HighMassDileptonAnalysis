{
 "cells": [
  {
   "cell_type": "markdown",
   "id": "68f14fb3-aa01-4206-bb5c-b44940dea8fe",
   "metadata": {},
   "source": [
    "# Zpt re-wgt Validation\n",
    "\n",
    "This notebook shows the script to plot ZpT-rewgt validation code to verify that the Zpt-rewgt has been properly generated\n",
    "\n",
    "This script is inspired from validation_plotter_unified.py, and thus share a lot of same formatting.\n",
    "\n"
   ]
  },
  {
   "cell_type": "code",
   "execution_count": 1,
   "id": "3506c3fc-ce59-4558-a715-ddbf6208a509",
   "metadata": {},
   "outputs": [],
   "source": [
    "data_l = ['A', 'B', 'C', 'D','E', 'F','H', 'G']\n",
    "bkg_l = ['DY','TT','ST','VV','EWK']\n",
    "# bkg_l = ['DY','TT','ST','VV']\n",
    "# sig_l = ['ggH', 'VBF']\n",
    "sig_l = []\n",
    "\n",
    "vars2plot = ['dimuon']\n",
    "\n",
    "lumi_dict = {\n",
    "    \"2018\" : 59.83,\n",
    "    \"2017\" : 41.48,\n",
    "    \"2016postVFP\": 19.5,\n",
    "    \"2016preVFP\": 16.81,\n",
    "}\n",
    "status = \"Private_Work\"\n",
    "region = \"signal\""
   ]
  },
  {
   "cell_type": "code",
   "execution_count": null,
   "id": "d1a7ed8a-1579-4d7d-8978-2bb04192472b",
   "metadata": {
    "scrolled": true
   },
   "outputs": [
    {
     "name": "stdout",
     "output_type": "stream",
     "text": [
      "nocat mode!\n",
      "jet_multiplicity: 0\n",
      "category_selection length: 30248918\n",
      "category_selection dy_M-100To200 sum : 5417480\n",
      "var: dimuon_pt\n",
      "values is nan: False\n",
      "values is none: False\n",
      "DY activated\n",
      "process: dy_m105_160_amc\n",
      "skipping dy_m105_160_amc\n",
      "process: ttjets_dl\n",
      "is_data: False\n",
      "args.region: signal\n"
     ]
    }
   ],
   "source": [
    "\"\"\"\n",
    "First we plot Zpt off stage1 plots to match AN-19-124 fig 4.3\n",
    "\"\"\"\n",
    "# label = \"V2_Jan09_ForZptReWgt\"\n",
    "# label = \"V2_Jan17_JecDefault_plotEveryonesZptWgt\"\n",
    "label = \"V2_Jan22_JecDefault_plotEveryonesZptWgt\"\n",
    "\n",
    "year = \"2018\"\n",
    "# year = \"2017\"\n",
    "# year = \"2016postVFP\"\n",
    "# year = \"2016preVFP\"\n",
    "lumi = lumi_dict[year]\n",
    "load_path = f\"/depot/cms/users/yun79/hmm/copperheadV1clean/{label}/stage1_output/{year}/f1_0/\"\n",
    "plot_setting = \"./plot_settings_Zpt_reWgt.json\"\n",
    "\n",
    "keep_zpt_on = True # dummy value\n",
    "\n",
    "\n",
    "njet = -1\n",
    "\n",
    "zpt_name = \"yes_zpt\"\n",
    "! python zpt_validation_plotter.py -y {year} --load_path {load_path}  -var {' '.join(vars2plot)} --data {' '.join(data_l)} --background {' '.join(bkg_l)} --signal {' '.join(sig_l)} --lumi {lumi} --status {status} -cat nocat -reg {region} --label {label} --plot_setting {plot_setting} --zpt_on {keep_zpt_on} --jet_multiplicity {njet} --zpt_wgt_name {zpt_name}\n",
    "\n",
    "zpt_name = \"no_zpt\"\n",
    "! python zpt_validation_plotter.py -y {year} --load_path {load_path}  -var {' '.join(vars2plot)} --data {' '.join(data_l)} --background {' '.join(bkg_l)} --signal {' '.join(sig_l)} --lumi {lumi} --status {status} -cat nocat -reg {region} --label {label} --plot_setting {plot_setting} --zpt_on {keep_zpt_on} --jet_multiplicity {njet} --zpt_wgt_name {zpt_name}\n",
    "\n",
    "\n",
    "njet = 0\n",
    "\n",
    "zpt_name = \"yes_zpt\"\n",
    "! python zpt_validation_plotter.py -y {year} --load_path {load_path}  -var {' '.join(vars2plot)} --data {' '.join(data_l)} --background {' '.join(bkg_l)} --signal {' '.join(sig_l)} --lumi {lumi} --status {status} -cat nocat -reg {region} --label {label} --plot_setting {plot_setting} --zpt_on {keep_zpt_on} --jet_multiplicity {njet} --zpt_wgt_name {zpt_name}\n",
    "\n",
    "zpt_name = \"no_zpt\"\n",
    "! python zpt_validation_plotter.py -y {year} --load_path {load_path}  -var {' '.join(vars2plot)} --data {' '.join(data_l)} --background {' '.join(bkg_l)} --signal {' '.join(sig_l)} --lumi {lumi} --status {status} -cat nocat -reg {region} --label {label} --plot_setting {plot_setting} --zpt_on {keep_zpt_on} --jet_multiplicity {njet} --zpt_wgt_name {zpt_name}\n",
    "\n",
    "njet = 1\n",
    "\n",
    "zpt_name = \"yes_zpt\"\n",
    "! python zpt_validation_plotter.py -y {year} --load_path {load_path}  -var {' '.join(vars2plot)} --data {' '.join(data_l)} --background {' '.join(bkg_l)} --signal {' '.join(sig_l)} --lumi {lumi} --status {status} -cat nocat -reg {region} --label {label} --plot_setting {plot_setting} --zpt_on {keep_zpt_on} --jet_multiplicity {njet} --zpt_wgt_name {zpt_name}\n",
    "\n",
    "zpt_name = \"no_zpt\"\n",
    "! python zpt_validation_plotter.py -y {year} --load_path {load_path}  -var {' '.join(vars2plot)} --data {' '.join(data_l)} --background {' '.join(bkg_l)} --signal {' '.join(sig_l)} --lumi {lumi} --status {status} -cat nocat -reg {region} --label {label} --plot_setting {plot_setting} --zpt_on {keep_zpt_on} --jet_multiplicity {njet} --zpt_wgt_name {zpt_name}\n",
    "\n",
    "\n",
    "njet = 2\n",
    "\n",
    "zpt_name = \"yes_zpt\"\n",
    "! python zpt_validation_plotter.py -y {year} --load_path {load_path}  -var {' '.join(vars2plot)} --data {' '.join(data_l)} --background {' '.join(bkg_l)} --signal {' '.join(sig_l)} --lumi {lumi} --status {status} -cat nocat -reg {region} --label {label} --plot_setting {plot_setting} --zpt_on {keep_zpt_on} --jet_multiplicity {njet} --zpt_wgt_name {zpt_name}\n",
    "\n",
    "zpt_name = \"no_zpt\"\n",
    "! python zpt_validation_plotter.py -y {year} --load_path {load_path}  -var {' '.join(vars2plot)} --data {' '.join(data_l)} --background {' '.join(bkg_l)} --signal {' '.join(sig_l)} --lumi {lumi} --status {status} -cat nocat -reg {region} --label {label} --plot_setting {plot_setting} --zpt_on {keep_zpt_on} --jet_multiplicity {njet} --zpt_wgt_name {zpt_name}\n",
    "\n"
   ]
  },
  {
   "cell_type": "code",
   "execution_count": null,
   "id": "7b56249f-49e4-48a6-bb53-57f0e33070d4",
   "metadata": {},
   "outputs": [],
   "source": []
  }
 ],
 "metadata": {
  "kernelspec": {
   "display_name": "Python [conda env:coffea_latest]",
   "language": "python",
   "name": "conda-env-coffea_latest-py"
  },
  "language_info": {
   "codemirror_mode": {
    "name": "ipython",
    "version": 3
   },
   "file_extension": ".py",
   "mimetype": "text/x-python",
   "name": "python",
   "nbconvert_exporter": "python",
   "pygments_lexer": "ipython3",
   "version": "3.11.11"
  }
 },
 "nbformat": 4,
 "nbformat_minor": 5
}
