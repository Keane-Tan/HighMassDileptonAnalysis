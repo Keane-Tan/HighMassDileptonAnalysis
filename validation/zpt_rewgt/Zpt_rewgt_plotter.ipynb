{
 "cells": [
  {
   "cell_type": "markdown",
   "id": "68f14fb3-aa01-4206-bb5c-b44940dea8fe",
   "metadata": {},
   "source": [
    "# Stage 1 Validation\n",
    "This script is inspired from validation_plotter_unified.py, and thus share a lot of same formatting.\n",
    "\n"
   ]
  },
  {
   "cell_type": "code",
   "execution_count": 1,
   "id": "3506c3fc-ce59-4558-a715-ddbf6208a509",
   "metadata": {},
   "outputs": [],
   "source": [
    "data_l = ['A', 'B', 'C', 'D','E', 'F','H', 'G']\n",
    "# data_l = ['B', ]\n",
    "bkg_l = ['DY','TT','ST','VV','EWK']\n",
    "sig_l = ['ggH', 'VBF']\n",
    "\n",
    "#----------------------------------------------------\n",
    "\n",
    "\n",
    "# lumi = 137.9\n",
    "\n",
    "lumi_dict = {\n",
    "    \"2018\" : 59.97,\n",
    "    \"2017\" : 41.5,\n",
    "    \"2016postVFP\": 19.5,\n",
    "    \"2016preVFP\": 16.8,\n",
    "}\n",
    "status = \"Private_Work\"\n",
    "\n",
    "region = \"signal\""
   ]
  },
  {
   "cell_type": "code",
   "execution_count": 3,
   "id": "5cd72782-62c0-4ecc-a8d2-fbc219ed7118",
   "metadata": {
    "scrolled": true
   },
   "outputs": [
    {
     "name": "stdout",
     "output_type": "stream",
     "text": [
      "/bin/bash: -c: line 0: syntax error near unexpected token `('\n",
      "/bin/bash: -c: line 0: ` python zpt_validation_plotter.py -y {year} --load_path {load_path}  -var {' '.join(vars2plot)} --data {' '.join(data_l)} --background {' '.join(bkg_l)} --signal {' '.join(sig_l)} --lumi {lumi} --status {status} -cat nocat -reg {region} --label {label}'\n"
     ]
    }
   ],
   "source": [
    "fraction = 1.0\n",
    "fraction_str = str(fraction).replace('.', '_')\n",
    "\n",
    "label = \"V2_Jan11_NewZptReWgt\"\n",
    "year = \"2018\"\n",
    "lumi = lumi_dict[year]\n",
    "load_path = f\"/depot/cms/users/yun79/hmm/copperheadV1clean/{label}/stage1_output/{year}/f1_0/\"\n",
    "\n",
    "# No cat\n",
    "! python zpt_validation_plotter.py -y {year} --load_path {load_path}  -var {' '.join(vars2plot)} --data {' '.join(data_l)} --background {' '.join(bkg_l)} --signal {' '.join(sig_l)} --lumi {lumi} --status {status} -cat nocat -reg {region} --label {label} \n",
    "# # VBF cat\n",
    "# ! python zpt_validation_plotter.py -y {year} --load_path {load_path}  -var {' '.join(vars2plot)} --data {' '.join(data_l)} --background {' '.join(bkg_l)} --signal {' '.join(sig_l)} --lumi {lumi} --status {status} -cat vbf -reg {region} --label {label}\n",
    "# # ggH cat\n",
    "# ! python zpt_validation_plotter.py -y {year} --load_path {load_path}  -var {' '.join(vars2plot)} --data {' '.join(data_l)} --background {' '.join(bkg_l)} --signal {' '.join(sig_l)} --lumi {lumi} --status {status} -cat ggh -reg {region}  --label {label}"
   ]
  },
  {
   "cell_type": "code",
   "execution_count": null,
   "id": "61c2b9ff-dc63-484d-a483-1d1b422dc845",
   "metadata": {},
   "outputs": [],
   "source": [
    "year = \"2017\"\n",
    "lumi = lumi_dict[year]\n",
    "# No cat\n",
    "! python validation_plotter_unified.py -y {year} --load_path {load_path}  -var {' '.join(vars2plot)} --data {' '.join(data_l)} --background {' '.join(bkg_l)} --signal {' '.join(sig_l)} --lumi {lumi} --status {status} -cat nocat -reg {region} --label {label} \n",
    "# VBF cat\n",
    "! python validation_plotter_unified.py -y {year} --load_path {load_path}  -var {' '.join(vars2plot)} --data {' '.join(data_l)} --background {' '.join(bkg_l)} --signal {' '.join(sig_l)} --lumi {lumi} --status {status} -cat vbf -reg {region} --label {label}\n",
    "# ggH cat\n",
    "! python validation_plotter_unified.py -y {year} --load_path {load_path}  -var {' '.join(vars2plot)} --data {' '.join(data_l)} --background {' '.join(bkg_l)} --signal {' '.join(sig_l)} --lumi {lumi} --status {status} -cat ggh -reg {region}  --label {label}"
   ]
  },
  {
   "cell_type": "code",
   "execution_count": null,
   "id": "60c9eff7-ce16-4de9-b6db-f4385ce76799",
   "metadata": {},
   "outputs": [],
   "source": [
    "year = \"2016postVFP\"\n",
    "lumi = lumi_dict[year]\n",
    "# No cat\n",
    "! python validation_plotter_unified.py -y {year} --load_path {load_path}  -var {' '.join(vars2plot)} --data {' '.join(data_l)} --background {' '.join(bkg_l)} --signal {' '.join(sig_l)} --lumi {lumi} --status {status} -cat nocat -reg {region} --label {label} \n",
    "# VBF cat\n",
    "! python validation_plotter_unified.py -y {year} --load_path {load_path}  -var {' '.join(vars2plot)} --data {' '.join(data_l)} --background {' '.join(bkg_l)} --signal {' '.join(sig_l)} --lumi {lumi} --status {status} -cat vbf -reg {region} --label {label}\n",
    "# ggH cat\n",
    "! python validation_plotter_unified.py -y {year} --load_path {load_path}  -var {' '.join(vars2plot)} --data {' '.join(data_l)} --background {' '.join(bkg_l)} --signal {' '.join(sig_l)} --lumi {lumi} --status {status} -cat ggh -reg {region}  --label {label}"
   ]
  },
  {
   "cell_type": "code",
   "execution_count": null,
   "id": "11242f6f-6e2f-4fb4-89e8-b8a8adc01b7a",
   "metadata": {},
   "outputs": [],
   "source": [
    "year = \"2016preVFP\"\n",
    "lumi = lumi_dict[year]\n",
    "# No cat\n",
    "! python validation_plotter_unified.py -y {year} --load_path {load_path}  -var {' '.join(vars2plot)} --data {' '.join(data_l)} --background {' '.join(bkg_l)} --signal {' '.join(sig_l)} --lumi {lumi} --status {status} -cat nocat -reg {region} --label {label} \n",
    "# VBF cat\n",
    "! python validation_plotter_unified.py -y {year} --load_path {load_path}  -var {' '.join(vars2plot)} --data {' '.join(data_l)} --background {' '.join(bkg_l)} --signal {' '.join(sig_l)} --lumi {lumi} --status {status} -cat vbf -reg {region} --label {label}\n",
    "# ggH cat\n",
    "! python validation_plotter_unified.py -y {year} --load_path {load_path}  -var {' '.join(vars2plot)} --data {' '.join(data_l)} --background {' '.join(bkg_l)} --signal {' '.join(sig_l)} --lumi {lumi} --status {status} -cat ggh -reg {region}  --label {label}"
   ]
  }
 ],
 "metadata": {
  "kernelspec": {
   "display_name": "Python [conda env:root632]",
   "language": "python",
   "name": "conda-env-root632-py"
  },
  "language_info": {
   "codemirror_mode": {
    "name": "ipython",
    "version": 3
   },
   "file_extension": ".py",
   "mimetype": "text/x-python",
   "name": "python",
   "nbconvert_exporter": "python",
   "pygments_lexer": "ipython3",
   "version": "3.12.7"
  }
 },
 "nbformat": 4,
 "nbformat_minor": 5
}
