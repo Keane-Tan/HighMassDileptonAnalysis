{
 "cells": [
  {
   "cell_type": "markdown",
   "id": "a4fbbc30-121f-48f7-9b3c-e59c106491c6",
   "metadata": {},
   "source": [
    "## CopperHead V2 tutorial\n",
    "\n",
    "This framework builds upon columnar analysis platform coffea 202x python package, using awkward arrays and dask distributed for parallelization.\n",
    "\n",
    "First we setup our config by specifying the era/year we will be doing our analysis work on."
   ]
  },
  {
   "cell_type": "markdown",
   "id": "00cb7be6-e877-4fca-a691-b1f57ee591b0",
   "metadata": {},
   "source": [
    "# Pre-stage\n",
    "We run ```make_parameters.py``` while specifying the year with ```--year``` flag. The output of the python script will be saved in ```./config/parameters.json```"
   ]
  },
  {
   "cell_type": "code",
   "execution_count": null,
   "id": "0a4b698a-d859-4a4d-86ec-ebffb387cec6",
   "metadata": {},
   "outputs": [],
   "source": [
    "! python make_parameters.py --year 2018"
   ]
  },
  {
   "cell_type": "markdown",
   "id": "28d19ab0-1f67-4a82-bb57-7aeba184795b",
   "metadata": {},
   "source": [
    "Now we prepare the list of samples that we will be performing our analysis on. This can be done by executing ```run_prestage.py``` script, specifying the chunksize by using ```--chunksize``` flag and listing the samples we would like to perform our analysis on with ```--input_string``` flag."
   ]
  },
  {
   "cell_type": "markdown",
   "id": "12ed50e0-7df3-445a-9b43-d11076c5a964",
   "metadata": {},
   "source": [
    "The chunksize value is simple: it is an integer value of \"chunks\" of rows of data that each worker works on during parallelized workflow. \n",
    "\n",
    "Moreover, one can specify the list of data runs, MC background samples and MC signal samples for the analysis to run on by using --data, --background and --signal flag respectively. If left empty/ imcompatible (ie data 'A' in year 2017), it will just skip and move on.\n"
   ]
  },
  {
   "cell_type": "code",
   "execution_count": null,
   "id": "3a2dd9cc-f6b7-4f3b-bdbb-12a08f0d6da6",
   "metadata": {},
   "outputs": [],
   "source": [
    "data_l = ['A', 'B', 'C', 'D']\n",
    "bkg_l = ['DY', 'TT',]\n",
    "sig_l = ['ggH', 'VBF']\n",
    "! python run_prestage.py --chunksize 80000 --year 2018 --cluster True --data {' '.join(data_l)} --background {' '.join(bkg_l)} --signal {' '.join(sig_l)}"
   ]
  },
  {
   "cell_type": "markdown",
   "id": "db1baf3e-85d6-4561-b20a-0ab6cd6260be",
   "metadata": {},
   "source": [
    "If we wish to run our analysis only onto a subset of our samples in order to save time, for example, we can do so my specifying the fraction of the samples we would like to perform our analysis on with the ```--change_fraction``` flag with the accompanying floating value representing the fraction of the samples we want to work on.\n",
    "\n",
    "For example running this cell below would trim our  ```./config/fraction_processor_samples.json``` by approximately ten percent."
   ]
  },
  {
   "cell_type": "code",
   "execution_count": null,
   "id": "2cad2673-af7b-4797-9e3c-9e38abc46a9a",
   "metadata": {},
   "outputs": [],
   "source": [
    "! python run_prestage.py --change_fraction 0.1"
   ]
  },
  {
   "cell_type": "markdown",
   "id": "cf3b9dcb-c1ed-4db8-b878-4b08b4186bc6",
   "metadata": {},
   "source": [
    "The code above will only less than a second. This will save a new config file ```./config/fraction_processor_samples.json```. Please note that we don't overwrite the original full config file ```./config/fraction_processor_samples.json```. This is so that if you would like to change your fraction value, you can do so quickly, instead of waiting a full minute to redo the whole prestage step."
   ]
  },
  {
   "cell_type": "markdown",
   "id": "2b8cd851-aaf5-443c-8e60-f4b713e40838",
   "metadata": {},
   "source": [
    "# Running Stage 1\n",
    "\n",
    "Now we're ready to execute stage 1 of the analysis, which refers to the baseline selections we apply just before categorization of Higgs decay categories. we do this by simply running ```run_stage1.py```, though we recommend to also add ```-W ignore``` option to suppress warning flags. This operation takes the most time, ranging from 30 mins for fraction of around 0.25, all the way to hours for a full sample run. The outputs of the ```run_stage1.py``` will be saved as collection of ```.parquet``` files in the directory that's defined in the ```--save_path``` flag along with the sample name and fraction. \n",
    "\n",
    "For instance, data_A samples with fraction 0.25 with sample_path of ```/depot/cms/users/yun79/results/stage1/test/``` would be saved at ```/depot/cms/users/yun79/results/stage1/test/f0_25/data_A```"
   ]
  },
  {
   "cell_type": "code",
   "execution_count": null,
   "id": "15c248c1-d49a-4f99-aafe-905717d07400",
   "metadata": {},
   "outputs": [],
   "source": [
    "! python -W ignore run_stage1.py --save_path \"/depot/cms/users/yun79/results/stage1/test/\""
   ]
  },
  {
   "cell_type": "markdown",
   "id": "68f14fb3-aa01-4206-bb5c-b44940dea8fe",
   "metadata": {},
   "source": [
    "# Stage 1 Validation\n",
    "Now we validate our stage 1 outputs by plotting validation histograms. Like ```run_prestage.py``` script, we can specify the options of the plots via ```--input_string``` flag, but with different formating, but this time with mostly just boolean values: \n",
    "\n",
    "\n",
    "Ratio_{Y or N}/LogY_{Y or N}/ShowLumi_{Y or N}/Status_{work or prelim}\n",
    "\n",
    "Where we specify if we want Data/MC ratio plot in the bottom panel on with \"Y\" to mean yes and \"N\" to mean no after ```Ratio_```, plot in log scale in the y axis after ```LogY_```, show integrated luminosity value of the run after ```ShowLumi_``` and status of the plot after ```Status_```, where the option is \"work\" for \"Work in Progress\", \"prelim\" for \"Preliminary\" and empty character (\"\") for no mention of the status at all.\n",
    "\n",
    "Ie: Ratio_Y/LogY_Y/ShowLumi_N/Status_work indicates to have Data/MC ratio plot on the bottom, plot in logarithmic scale, don't show the integrated luminosity value, and have \"Work in progress\" label\n",
    "\n",
    "next is the ```--load_path``` flag, which should be identical to the path specified in ```--save_path``` flag when running the ```run_stage1.py``` script.\n",
    "\n",
    "One can also specify the path to where the validation plots will be saved by adding ```--save_path``` flag onto ```run_stage1_validation.py``` script, or just use the default path ```./validation/figs```"
   ]
  },
  {
   "cell_type": "code",
   "execution_count": null,
   "id": "e8122b75-efe3-4512-a278-36ca6ad480d4",
   "metadata": {},
   "outputs": [],
   "source": [
    "! python run_stage1_validation.py --fraction 0.001 --input_string \"Ratio_Y/LogY_Y/ShowLumi_N/Status_work\" --load_path \"/depot/cms/users/yun79/results/stage1/test/\""
   ]
  },
  {
   "cell_type": "code",
   "execution_count": 109,
   "id": "3506c3fc-ce59-4558-a715-ddbf6208a509",
   "metadata": {},
   "outputs": [],
   "source": [
    "# data_l = ['A', 'B', 'C', 'D']\n",
    "data_l = ['A',  'B', 'C']\n",
    "bkg_l = ['DY','TT',]\n",
    "sig_l = ['ggH', 'VBF']\n",
    "# vars2plot = ['jet', 'mu', 'dimuon'] \n",
    "vars2plot = ['jet'] \n",
    "lumi = 137.9\n",
    "status = \"Private_Work\""
   ]
  },
  {
   "cell_type": "code",
   "execution_count": 121,
   "id": "5cd72782-62c0-4ecc-a8d2-fbc219ed7118",
   "metadata": {},
   "outputs": [
    {
     "name": "stdout",
     "output_type": "stream",
     "text": [
      "variables2plot: ['jet1_pt', 'jet2_pt', 'jet1_eta', 'jet2_eta', 'jet1_phi', 'jet2_phi']\n",
      "process: data_A\n",
      "fraction_weight: 1000.0009602331048\n",
      "data activated\n",
      "process: data_B\n",
      "fraction_weight: 1000.0001417635383\n",
      "data activated\n",
      "TROOT::Append:0: RuntimeWarning: Replacing existing TH1: jet1_pt_hist_data (Potential memory leak).\n",
      "process: data_C\n",
      "fraction_weight: 1000.0000818285964\n",
      "data activated\n",
      "TROOT::Append:0: RuntimeWarning: Replacing existing TH1: jet1_pt_hist_data (Potential memory leak).\n",
      "process: dy_M-50\n",
      "fraction_weight: 1000.0041430105877\n",
      "process: dy_M-100To200\n",
      "fraction_weight: 1000.0043496895032\n",
      "DY activated\n",
      "process: ttjets_dl\n",
      "fraction_weight: 1000.0\n",
      "top activated\n",
      "process: ttjets_sl\n",
      "fraction_weight: 1000.0\n",
      "top activated\n",
      "TROOT::Append:0: RuntimeWarning: Replacing existing TH1: jet1_pt_hist_Top (Potential memory leak).\n",
      "process: ggh_powheg\n",
      "fraction_weight: 1000.0\n",
      "ggH activated\n",
      "process: vbf_powheg\n",
      "fraction_weight: 1000.0\n",
      "VBF activated\n",
      "ratio activated\n",
      "Name: num_hist Title: jet1_pt NbinsX: 29\n",
      "Name: jet1_pt_hist_DY Title: jet1_pt NbinsX: 29\n",
      "Info in <TCanvas::Print>: pdf file ./validation/figs//ROOT/jet1_pt.pdf has been created\n",
      "process: data_A\n",
      "fraction_weight: 1000.0009602331048\n",
      "data activated\n",
      "process: data_B\n",
      "fraction_weight: 1000.0001417635383\n",
      "data activated\n",
      "TROOT::Append:0: RuntimeWarning: Replacing existing TH1: jet2_pt_hist_data (Potential memory leak).\n",
      "process: data_C\n",
      "fraction_weight: 1000.0000818285964\n",
      "data activated\n",
      "TROOT::Append:0: RuntimeWarning: Replacing existing TH1: jet2_pt_hist_data (Potential memory leak).\n",
      "process: dy_M-50\n",
      "fraction_weight: 1000.0041430105877\n",
      "process: dy_M-100To200\n",
      "fraction_weight: 1000.0043496895032\n",
      "DY activated\n",
      "process: ttjets_dl\n",
      "fraction_weight: 1000.0\n",
      "top activated\n",
      "process: ttjets_sl\n",
      "fraction_weight: 1000.0\n",
      "top activated\n",
      "TROOT::Append:0: RuntimeWarning: Replacing existing TH1: jet2_pt_hist_Top (Potential memory leak).\n",
      "process: ggh_powheg\n",
      "fraction_weight: 1000.0\n",
      "ggH activated\n",
      "process: vbf_powheg\n",
      "fraction_weight: 1000.0\n",
      "VBF activated\n",
      "TROOT::Append:0: RuntimeWarning: Replacing existing TH1: dummy_hist (Potential memory leak).\n",
      "ratio activated\n",
      "Name: num_hist Title: jet2_pt NbinsX: 29\n",
      "Name: jet2_pt_hist_DY Title: jet2_pt NbinsX: 29\n",
      "Info in <TCanvas::Print>: pdf file ./validation/figs//ROOT/jet2_pt.pdf has been created\n",
      "process: data_A\n",
      "fraction_weight: 1000.0009602331048\n",
      "data activated\n",
      "process: data_B\n",
      "fraction_weight: 1000.0001417635383\n",
      "data activated\n",
      "TROOT::Append:0: RuntimeWarning: Replacing existing TH1: jet1_eta_hist_data (Potential memory leak).\n",
      "process: data_C\n",
      "fraction_weight: 1000.0000818285964\n",
      "data activated\n",
      "TROOT::Append:0: RuntimeWarning: Replacing existing TH1: jet1_eta_hist_data (Potential memory leak).\n",
      "process: dy_M-50\n",
      "fraction_weight: 1000.0041430105877\n",
      "process: dy_M-100To200\n",
      "fraction_weight: 1000.0043496895032\n",
      "DY activated\n",
      "process: ttjets_dl\n",
      "fraction_weight: 1000.0\n",
      "top activated\n",
      "process: ttjets_sl\n",
      "fraction_weight: 1000.0\n",
      "top activated\n",
      "TROOT::Append:0: RuntimeWarning: Replacing existing TH1: jet1_eta_hist_Top (Potential memory leak).\n",
      "process: ggh_powheg\n",
      "fraction_weight: 1000.0\n",
      "ggH activated\n",
      "process: vbf_powheg\n",
      "fraction_weight: 1000.0\n",
      "VBF activated\n",
      "TROOT::Append:0: RuntimeWarning: Replacing existing TH1: dummy_hist (Potential memory leak).\n",
      "ratio activated\n",
      "Name: num_hist Title: jet1_eta NbinsX: 29\n",
      "Name: jet1_eta_hist_DY Title: jet1_eta NbinsX: 29\n",
      "Info in <TCanvas::Print>: pdf file ./validation/figs//ROOT/jet1_eta.pdf has been created\n",
      "process: data_A\n",
      "fraction_weight: 1000.0009602331048\n",
      "data activated\n",
      "process: data_B\n",
      "fraction_weight: 1000.0001417635383\n",
      "data activated\n",
      "TROOT::Append:0: RuntimeWarning: Replacing existing TH1: jet2_eta_hist_data (Potential memory leak).\n",
      "process: data_C\n",
      "fraction_weight: 1000.0000818285964\n",
      "data activated\n",
      "TROOT::Append:0: RuntimeWarning: Replacing existing TH1: jet2_eta_hist_data (Potential memory leak).\n",
      "process: dy_M-50\n",
      "fraction_weight: 1000.0041430105877\n",
      "process: dy_M-100To200\n",
      "fraction_weight: 1000.0043496895032\n",
      "DY activated\n",
      "process: ttjets_dl\n",
      "fraction_weight: 1000.0\n",
      "top activated\n",
      "process: ttjets_sl\n",
      "fraction_weight: 1000.0\n",
      "top activated\n",
      "TROOT::Append:0: RuntimeWarning: Replacing existing TH1: jet2_eta_hist_Top (Potential memory leak).\n",
      "process: ggh_powheg\n",
      "fraction_weight: 1000.0\n",
      "ggH activated\n",
      "process: vbf_powheg\n",
      "fraction_weight: 1000.0\n",
      "VBF activated\n",
      "TROOT::Append:0: RuntimeWarning: Replacing existing TH1: dummy_hist (Potential memory leak).\n",
      "ratio activated\n",
      "Name: num_hist Title: jet2_eta NbinsX: 29\n",
      "Name: jet2_eta_hist_DY Title: jet2_eta NbinsX: 29\n",
      "Info in <TCanvas::Print>: pdf file ./validation/figs//ROOT/jet2_eta.pdf has been created\n",
      "process: data_A\n",
      "fraction_weight: 1000.0009602331048\n",
      "data activated\n",
      "process: data_B\n",
      "fraction_weight: 1000.0001417635383\n",
      "data activated\n",
      "TROOT::Append:0: RuntimeWarning: Replacing existing TH1: jet1_phi_hist_data (Potential memory leak).\n",
      "process: data_C\n",
      "fraction_weight: 1000.0000818285964\n",
      "data activated\n",
      "TROOT::Append:0: RuntimeWarning: Replacing existing TH1: jet1_phi_hist_data (Potential memory leak).\n",
      "process: dy_M-50\n",
      "fraction_weight: 1000.0041430105877\n",
      "process: dy_M-100To200\n",
      "fraction_weight: 1000.0043496895032\n",
      "DY activated\n",
      "process: ttjets_dl\n",
      "fraction_weight: 1000.0\n",
      "top activated\n",
      "process: ttjets_sl\n",
      "fraction_weight: 1000.0\n",
      "top activated\n",
      "TROOT::Append:0: RuntimeWarning: Replacing existing TH1: jet1_phi_hist_Top (Potential memory leak).\n",
      "process: ggh_powheg\n",
      "fraction_weight: 1000.0\n",
      "ggH activated\n",
      "process: vbf_powheg\n",
      "fraction_weight: 1000.0\n",
      "VBF activated\n",
      "TROOT::Append:0: RuntimeWarning: Replacing existing TH1: dummy_hist (Potential memory leak).\n",
      "ratio activated\n",
      "Name: num_hist Title: jet1_phi NbinsX: 29\n",
      "Name: jet1_phi_hist_DY Title: jet1_phi NbinsX: 29\n",
      "Info in <TCanvas::Print>: pdf file ./validation/figs//ROOT/jet1_phi.pdf has been created\n",
      "process: data_A\n",
      "fraction_weight: 1000.0009602331048\n",
      "data activated\n",
      "process: data_B\n",
      "fraction_weight: 1000.0001417635383\n",
      "data activated\n",
      "TROOT::Append:0: RuntimeWarning: Replacing existing TH1: jet2_phi_hist_data (Potential memory leak).\n",
      "process: data_C\n",
      "fraction_weight: 1000.0000818285964\n",
      "data activated\n",
      "TROOT::Append:0: RuntimeWarning: Replacing existing TH1: jet2_phi_hist_data (Potential memory leak).\n",
      "process: dy_M-50\n",
      "fraction_weight: 1000.0041430105877\n",
      "process: dy_M-100To200\n",
      "fraction_weight: 1000.0043496895032\n",
      "DY activated\n",
      "process: ttjets_dl\n",
      "fraction_weight: 1000.0\n",
      "top activated\n",
      "process: ttjets_sl\n",
      "fraction_weight: 1000.0\n",
      "top activated\n",
      "TROOT::Append:0: RuntimeWarning: Replacing existing TH1: jet2_phi_hist_Top (Potential memory leak).\n",
      "process: ggh_powheg\n",
      "fraction_weight: 1000.0\n",
      "ggH activated\n",
      "process: vbf_powheg\n",
      "fraction_weight: 1000.0\n",
      "VBF activated\n",
      "TROOT::Append:0: RuntimeWarning: Replacing existing TH1: dummy_hist (Potential memory leak).\n",
      "ratio activated\n",
      "Name: num_hist Title: jet2_phi NbinsX: 29\n",
      "Name: jet2_phi_hist_DY Title: jet2_phi NbinsX: 29\n",
      "Info in <TCanvas::Print>: pdf file ./validation/figs//ROOT/jet2_phi.pdf has been created\n"
     ]
    }
   ],
   "source": [
    "# fraction = 0.1\n",
    "fraction = 0.001\n",
    "fraction_str = str(fraction).replace('.', '_')\n",
    "load_path = f\"/depot/cms/users/yun79/results/stage1/test_full3/f{fraction_str}\"\n",
    "# ! python validation_plotter_ROOT.py --load_path {load_path} --data {' '.join(data_l)} --background {' '.join(bkg_l)} --signal {' '.join(sig_l)} --lumi 137.9 \n",
    "# ! python validation_plotter_unified.py --load_path {load_path} --data {' '.join(data_l)} --background {' '.join(bkg_l)} --signal {' '.join(sig_l)} --lumi 137.9 --status {status} --no_ratio\n",
    "! python validation_plotter_unified.py --load_path {load_path} --data {' '.join(data_l)} --background {' '.join(bkg_l)} --signal {' '.join(sig_l)} --lumi 137.9 --status {status}  --ROOT_style   "
   ]
  },
  {
   "cell_type": "code",
   "execution_count": 44,
   "id": "a8f63e91-910f-4d98-83aa-c6acb8e22ae6",
   "metadata": {},
   "outputs": [
    {
     "name": "stdout",
     "output_type": "stream",
     "text": [
      "dy_M-100To200  dy_M-50\tggh_powheg  ttjets_dl  ttjets_sl  vbf_powheg\n"
     ]
    }
   ],
   "source": [
    "! ls /depot/cms/users/yun79/results/stage1/test_full/f0_001/"
   ]
  },
  {
   "cell_type": "code",
   "execution_count": null,
   "id": "862e826a-81d7-4b76-b12f-410693b93ab6",
   "metadata": {},
   "outputs": [],
   "source": []
  }
 ],
 "metadata": {
  "kernelspec": {
   "display_name": "Python [conda env:coffea2024]",
   "language": "python",
   "name": "conda-env-coffea2024-py"
  },
  "language_info": {
   "codemirror_mode": {
    "name": "ipython",
    "version": 3
   },
   "file_extension": ".py",
   "mimetype": "text/x-python",
   "name": "python",
   "nbconvert_exporter": "python",
   "pygments_lexer": "ipython3",
   "version": "3.10.13"
  }
 },
 "nbformat": 4,
 "nbformat_minor": 5
}
