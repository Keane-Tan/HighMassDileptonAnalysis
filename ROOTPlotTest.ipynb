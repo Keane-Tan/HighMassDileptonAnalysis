{
 "cells": [
  {
   "cell_type": "code",
   "execution_count": 1,
   "id": "07e037c0-183b-4742-9a3b-508d6b17f370",
   "metadata": {},
   "outputs": [
    {
     "name": "stdout",
     "output_type": "stream",
     "text": [
      "Welcome to JupyROOT 6.30/04\n"
     ]
    }
   ],
   "source": [
    "import ROOT\n",
    "import dask_awkward as dak\n",
    "import numpy as np"
   ]
  },
  {
   "cell_type": "code",
   "execution_count": 2,
   "id": "ed71d25f-214f-42c6-9333-3a3ebae0ea6f",
   "metadata": {},
   "outputs": [],
   "source": [
    "def setTDRStyle():\n",
    "  ROOT.gStyle.SetCanvasBorderMode(0);\n",
    "  ROOT.gStyle.SetCanvasColor(0);\n",
    "  ROOT.gStyle.SetCanvasDefH(600);\n",
    "  ROOT.gStyle.SetCanvasDefW(600);\n",
    "  ROOT.gStyle.SetCanvasDefX(0);\n",
    "  ROOT.gStyle.SetCanvasDefY(0);\n",
    "\n",
    "  ROOT.gStyle.SetPadBorderMode(0);\n",
    "  ROOT.gStyle.SetPadColor(0); \n",
    "  ROOT.gStyle.SetPadGridX(0);\n",
    "  ROOT.gStyle.SetPadGridY(0);\n",
    "  ROOT.gStyle.SetGridColor(0);\n",
    "  ROOT.gStyle.SetGridStyle(3);\n",
    "  ROOT.gStyle.SetGridWidth(1);\n",
    "\n",
    "  ROOT.gStyle.SetFrameBorderMode(0);\n",
    "  ROOT.gStyle.SetFrameBorderSize(1);\n",
    "  ROOT.gStyle.SetFrameFillColor(0);\n",
    "  ROOT.gStyle.SetFrameFillStyle(0);\n",
    "  ROOT.gStyle.SetFrameLineColor(1);\n",
    "  ROOT.gStyle.SetFrameLineStyle(1);\n",
    "  ROOT.gStyle.SetFrameLineWidth(1);\n",
    "  ROOT.gStyle.SetHistLineColor(1);\n",
    "  ROOT.gStyle.SetHistLineStyle(0);\n",
    "  ROOT.gStyle.SetHistLineWidth(1);\n",
    "\n",
    "  ROOT.gStyle.SetEndErrorSize(2);\n",
    "  ROOT.gStyle.SetFuncColor(2);\n",
    "  ROOT.gStyle.SetFuncStyle(1);\n",
    "  ROOT.gStyle.SetFuncWidth(1);\n",
    "  ROOT.gStyle.SetOptDate(0);\n",
    "  \n",
    "  ROOT.gStyle.SetOptFile(0);\n",
    "  ROOT.gStyle.SetOptStat(0);\n",
    "  ROOT.gStyle.SetStatColor(0); \n",
    "  ROOT.gStyle.SetStatFont(42);\n",
    "  ROOT.gStyle.SetStatFontSize(0.04);\n",
    "  ROOT.gStyle.SetStatTextColor(1);\n",
    "  ROOT.gStyle.SetStatFormat(\"6.4g\");\n",
    "  ROOT.gStyle.SetStatBorderSize(1);\n",
    "  ROOT.gStyle.SetStatH(0.1);\n",
    "  ROOT.gStyle.SetStatW(0.15);\n",
    "\n",
    "  ROOT.gStyle.SetPadTopMargin(0.07);\n",
    "  ROOT.gStyle.SetPadBottomMargin(0.13);\n",
    "  ROOT.gStyle.SetPadLeftMargin(0.12);\n",
    "  ROOT.gStyle.SetPadRightMargin(0.05);\n",
    "\n",
    "  ROOT.gStyle.SetOptTitle(0);\n",
    "  ROOT.gStyle.SetTitleFont(42);\n",
    "  ROOT.gStyle.SetTitleColor(1);\n",
    "  ROOT.gStyle.SetTitleTextColor(1);\n",
    "  ROOT.gStyle.SetTitleFillColor(10);\n",
    "  ROOT.gStyle.SetTitleFontSize(0.05);\n",
    "\n",
    "  ROOT.gStyle.SetTitleColor(1, \"XYZ\");\n",
    "  ROOT.gStyle.SetTitleFont(42, \"XYZ\");\n",
    "  ROOT.gStyle.SetTitleSize(0.05, \"XYZ\");\n",
    "  ROOT.gStyle.SetTitleXOffset(0.9);\n",
    "  ROOT.gStyle.SetTitleYOffset(1.05);\n",
    " \n",
    "  ROOT.gStyle.SetLabelColor(1, \"XYZ\");\n",
    "  ROOT.gStyle.SetLabelFont(42, \"XYZ\");\n",
    "  ROOT.gStyle.SetLabelOffset(0.007, \"XYZ\");\n",
    "  ROOT.gStyle.SetLabelSize(0.04, \"XYZ\");\n",
    "\n",
    "  ROOT.gStyle.SetAxisColor(1, \"XYZ\");\n",
    "  ROOT.gStyle.SetStripDecimals(1); \n",
    "  ROOT.gStyle.SetTickLength(0.025, \"XYZ\");\n",
    "  ROOT.gStyle.SetNdivisions(510, \"XYZ\");\n",
    "  ROOT.gStyle.SetPadTickX(1); \n",
    "  ROOT.gStyle.SetPadTickY(1);\n",
    "\n",
    "  ROOT.gStyle.SetOptLogx(0);\n",
    "  ROOT.gStyle.SetOptLogy(0);\n",
    "  ROOT.gStyle.SetOptLogz(0);\n",
    "\n",
    "  ROOT.gStyle.SetPaperSize(20.,20.);\n",
    "  ROOT.gStyle.SetPaintTextFormat(\".2f\");\n",
    "\n"
   ]
  },
  {
   "cell_type": "code",
   "execution_count": 3,
   "id": "7e759dec-25a6-4074-8227-5da085457555",
   "metadata": {},
   "outputs": [],
   "source": [
    "def CMS_lumi( pad,  lumi,  up = False,  skipPreliminary = True, reduceSize = False, offset = 0,offsetLumi = 0):\n",
    "  latex2 = ROOT.TLatex();\n",
    "  latex2.SetNDC();\n",
    "  latex2.SetTextSize(0.6*pad.GetTopMargin());\n",
    "  latex2.SetTextFont(42);\n",
    "  latex2.SetTextAlign(31);\n",
    "  if(reduceSize):\n",
    "    latex2.SetTextSize(0.5*pad.GetTopMargin());\n",
    "  \n",
    "  if(lumi != \"\"):\n",
    "    latex2.DrawLatex(0.94+offsetLumi, 0.95,(lumi+\" fb^{-1} (13 TeV)\"));\n",
    "  else:\n",
    "    latex2.DrawLatex(0.88+offsetLumi, 0.95,(lumi+\"(13 TeV)\"));\n",
    "\n",
    "  if(up):\n",
    "    latex2.SetTextSize(0.65*pad.GetTopMargin());\n",
    "    if(reduceSize):\n",
    "      latex2.SetTextSize(0.5*pad.GetTopMargin());\n",
    "    latex2.SetTextFont(62);\n",
    "    latex2.SetTextAlign(11);    \n",
    "    latex2.DrawLatex(0.15+offset, 0.95, \"CMS\");\n",
    "  else:\n",
    "    latex2.SetTextSize(0.6*pad.GetTopMargin());\n",
    "    if(reduceSize):\n",
    "      latex2.SetTextSize(0.45*pad.GetTopMargin());\n",
    "    elif(reduceSize == 2):\n",
    "      latex2.SetTextSize(0.40*pad.GetTopMargin());\n",
    "\n",
    "    latex2.SetTextFont(62);\n",
    "    latex2.SetTextAlign(11);    \n",
    "    latex2.DrawLatex(0.175+offset, 0.86, \"CMS\");\n",
    "\n",
    "  if(not skipPreliminary):\n",
    "    \n",
    "    if(up):\n",
    "      latex2.SetTextSize(0.55*pad.GetTopMargin());\n",
    "      latex2.SetTextFont(52);\n",
    "      latex2.SetTextAlign(11);\n",
    "      latex2.DrawLatex(0.235+offset, 0.95, \"Preliminary\");\n",
    "    \n",
    "    else:\n",
    "      latex2.SetTextSize(0.6*pad.GetTopMargin());\n",
    "      if(reduceSize):\n",
    "          latex2.SetTextSize(0.45*pad.GetTopMargin());\n",
    "      latex2.SetTextFont(52);\n",
    "      latex2.SetTextAlign(11);    \n",
    "      if(reduceSize):\n",
    "          latex2.DrawLatex(0.235+offset, 0.86, \"Preliminary\");\n",
    "      else:\n",
    "          latex2.DrawLatex(0.28+offset, 0.86, \"Preliminary\");"
   ]
  },
  {
   "cell_type": "code",
   "execution_count": 33,
   "id": "9be614e2-b8c1-4772-8711-1eb85e823e03",
   "metadata": {},
   "outputs": [
    {
     "name": "stderr",
     "output_type": "stream",
     "text": [
      "Warning in <TCanvas::Constructor>: Deleting canvas with same name: canvas\n"
     ]
    }
   ],
   "source": [
    "#Plotting part\n",
    "setTDRStyle()\n",
    "canvas = ROOT.TCanvas(\"canvas\",\"\",600,750);\n",
    "canvas.cd();\n",
    "\n",
    "pad = ROOT.TPad(\"pad\",\"pad\",0,0.,1,1);\n",
    "pad.SetFillColor(0);\n",
    "pad.SetFillStyle(0);\n",
    "pad.SetTickx(1);\n",
    "pad.SetTicky(1);\n",
    "pad.SetBottomMargin(0.3);\n",
    "pad.SetRightMargin(0.06);\n",
    "pad.Draw();\n",
    "pad.cd();\n",
    "\n",
    "# # Background histograms\n",
    "# hs = ROOT.THStack(\"hs\", \"\");\n",
    "# hist_zjets = hist_dyjets.at(iobs).Clone(\"histo_zjets\");"
   ]
  },
  {
   "cell_type": "code",
   "execution_count": 34,
   "id": "a2fe8d00-5fe0-40b5-8e04-b2472f46de80",
   "metadata": {},
   "outputs": [],
   "source": [
    "leg = ROOT.TLegend(0.40,0.70,0.96,0.9)\n",
    "leg.SetFillColor(0);\n",
    "leg.SetFillStyle(0);\n",
    "leg.SetBorderSize(0);\n",
    "leg.SetNColumns(2);"
   ]
  },
  {
   "cell_type": "code",
   "execution_count": 35,
   "id": "12c7a0f2-9fe4-46a7-8640-7fa5ace0c997",
   "metadata": {},
   "outputs": [
    {
     "name": "stdout",
     "output_type": "stream",
     "text": [
      "process: vbf_powheg\n",
      "process: data_A\n",
      "data activated\n",
      "process: data_B\n",
      "data activated\n"
     ]
    },
    {
     "name": "stderr",
     "output_type": "stream",
     "text": [
      "Warning in <TROOT::Append>: Replacing existing TH1: jet1_pt_hist_data (Potential memory leak).\n",
      "Warning in <TROOT::Append>: Replacing existing TH1: jet1_pt_hist_data (Potential memory leak).\n",
      "Warning in <TROOT::Append>: Replacing existing TH1: jet1_pt_hist_data (Potential memory leak).\n"
     ]
    }
   ],
   "source": [
    "import json\n",
    "with open(\"./histogram/plot_settings.json\", \"r\") as file:\n",
    "    plot_settings = json.load(file)\n",
    "# available_processes = [\"data_A\",\"vbf_powheg\"]\n",
    "available_processes = [\"vbf_powheg\", \"data_A\", \"data_B\"]\n",
    "# process = \"vbf_powheg\"\n",
    "load_path = \"/depot/cms/users/yun79/results/stage1/test_full\"\n",
    "load_path = load_path + f\"/f0_1\"\n",
    "# color_map= {\n",
    "#     \"vbf_powheg\" : \n",
    "# }\n",
    "var = \"jet1_pt\"\n",
    "binning = np.linspace(*plot_settings[var][\"binning_linspace\"])\n",
    "data_hists = []\n",
    "mc_hists = []\n",
    "# dummy_hist.Draw(\"hist\");\n",
    "\n",
    "for process in available_processes:\n",
    "    print(f\"process: {process}\")\n",
    "    full_load_path = load_path+f\"/{process}/*/*.parquet\"\n",
    "    events = dak.from_parquet(full_load_path) \n",
    "    \n",
    "    np_hist, _ = np.histogram(events[var].compute(), bins=binning)\n",
    "    # print(f\"max(np_hist): {max(np_hist)}\")\n",
    "    # print(f\"(np_hist): {(np_hist)}\")\n",
    "    # print(f\"(np_hist): {np.any(np_hist==0)}\")\n",
    "    \n",
    "    if \"data\" in process:\n",
    "        print(\"data activated\")\n",
    "        jet1_pt_hist_data = ROOT.TH1F( 'jet1_pt_hist_data', 'jet1_pt', len(binning)-1, min(binning), max(binning))\n",
    "        for idx in range (len(np_hist)): # paste the np histogram values to root histogram\n",
    "            jet1_pt_hist_data.SetBinContent(1+idx, np_hist[idx])\n",
    "        # print(f\"jet1_pt_hist: {jet1_pt_hist.GetBinContent(2)}\")\n",
    "        # jet1_pt_hist.GetXaxis().SetTitle(\"obs\");\n",
    "        # jet1_pt_hist.SetMarkerStyle(20);\n",
    "        # jet1_pt_hist.SetMarkerSize(1);\n",
    "        # jet1_pt_hist.SetMarkerColor(1);\n",
    "        # jet1_pt_hist.SetLineColor(1);\n",
    "        data_hists.append(jet1_pt_hist_data)\n",
    "        # jet1_pt_hist.GetYaxis().SetRangeUser(0.01,10e9);\n",
    "        # jet1_pt_hist.Draw(\"EPsame\");\n",
    "        # jet1_pt_hist.Draw(\"ehist\");\n",
    "    else:\n",
    "        # pass\n",
    "        # print(\"mc activated\")\n",
    "        # jet1_pt_hist.SetFillColor(ROOT.kBlue);\n",
    "        # jet1_pt_hist.SetLineColor(1);\n",
    "        # jet1_pt_hist.Draw(\"hist same\")\n",
    "        jet1_pt_hist_mc = ROOT.TH1F( 'jet1_pt_hist_data', 'jet1_pt', len(binning)-1, min(binning), max(binning))\n",
    "        for idx in range (len(np_hist)):\n",
    "            jet1_pt_hist_mc.SetBinContent(1+idx, np_hist[idx])\n",
    "        mc_hists.append(jet1_pt_hist_mc)\n",
    "        \n",
    "    \n",
    "    # leg.AddEntry(jet1_pt_hist, process,\"PEL\");\n"
   ]
  },
  {
   "cell_type": "code",
   "execution_count": 36,
   "id": "79b8e1b5-7870-4a31-ad6f-d553fb983f2c",
   "metadata": {},
   "outputs": [],
   "source": [
    "# dummy_hist = ROOT.TH1F('dummy_hist', \"dummy\", len(binning)-1, min(binning), max(binning))\n",
    "dummy_hist = data_hists[0].Clone(\"dummy_hist\");\n",
    "dummy_hist.GetXaxis().SetTitleSize(0);\n",
    "dummy_hist.GetXaxis().SetLabelSize(0);\n",
    "dummy_hist.GetXaxis().SetTitle(\"obs\");\n",
    "# dummy_hist.GetYaxis().SetRangeUser(0.01,10e9);\n",
    "dummy_hist.SetTitle(\"Events\")\n",
    "dummy_hist.Draw(\"EP\");\n",
    "for mc_hist in mc_hists:\n",
    "    mc_hist.SetFillColor(ROOT.kBlue);\n",
    "    mc_hist.SetLineColor(1);\n",
    "    mc_hist.GetYaxis().SetRangeUser(0.01,10e9);\n",
    "    mc_hist.Draw(\"hist same\");\n",
    "\n",
    "# stack and plot data \n",
    "data_hist_stacked = data_hists[0]\n",
    "if len(data_hists) > 1:\n",
    "    for idx in range(1, len(data_hists)):\n",
    "        data_hist_stacked.Add(data_hists[idx])\n",
    "\n",
    "data_hist_stacked.SetMarkerStyle(20);\n",
    "data_hist_stacked.SetMarkerSize(1);\n",
    "data_hist_stacked.SetMarkerColor(1);\n",
    "# data_hist_stacked.SetLineColor(1);\n",
    "data_hist_stacked.Draw(\"EPsame\");\n",
    "\n",
    "        \n",
    "# for data_hist in data_hists:\n",
    "#     data_hist.SetMarkerStyle(20);\n",
    "#     data_hist.SetMarkerSize(1);\n",
    "#     data_hist.SetMarkerColor(1);\n",
    "#     data_hist.SetLineColor(1);\n",
    "#     data_hist.Draw(\"EPsame\");\n",
    "#     data_hist.GetXaxis().SetTitle(\"obs\");"
   ]
  },
  {
   "cell_type": "code",
   "execution_count": 37,
   "id": "e3c218e4-98cb-4631-9c49-ca3464b0977c",
   "metadata": {},
   "outputs": [
    {
     "name": "stderr",
     "output_type": "stream",
     "text": [
      "Info in <TCanvas::Print>: pdf file test.pdf has been created\n"
     ]
    }
   ],
   "source": [
    "# leg.Draw(\"same\");\n",
    "CMS_lumi(canvas, \"59.7\");\n",
    "pad.RedrawAxis(\"sameaxis\");\n",
    "# CMS_lumi(canvas,\"137.2\");\n",
    "\n",
    "# pad.RedrawAxis(\"sameaxis\");\n",
    "pad.cd();\n",
    "dummy_hist.GetYaxis().SetRangeUser(0.01,10e9);\n",
    "pad.SetLogy();\n",
    "pad.Modified();\n",
    "pad.Update();\n",
    "pad.RedrawAxis(\"sameaxis\");\n",
    "canvas.SaveAs(\"test.pdf\");"
   ]
  },
  {
   "cell_type": "code",
   "execution_count": 31,
   "id": "50a695c2-8c1e-4f15-bf5a-3c60ae4021ff",
   "metadata": {},
   "outputs": [],
   "source": [
    "# dummy_hist = data_hists[0].Clone(\"dummy_hist\");\n",
    "# dummy_hist.GetBinContent(1)"
   ]
  },
  {
   "cell_type": "code",
   "execution_count": 32,
   "id": "5d767a93-a9fe-46b3-b4bc-28ddd2659951",
   "metadata": {},
   "outputs": [],
   "source": [
    "# print(jet1_pt_hist.GetXaxis().GetBinLowEdge(len(edges)+1))\n",
    "# print(jet1_pt_hist.GetBinContent(len(edges)))\n",
    "# print(np_hist[len(edges)])\n",
    "# # max(edges)"
   ]
  },
  {
   "cell_type": "code",
   "execution_count": 85,
   "id": "ba309b1c-dd3c-44f2-83d9-d4069561dc0c",
   "metadata": {},
   "outputs": [],
   "source": []
  },
  {
   "cell_type": "code",
   "execution_count": 49,
   "id": "0935babc-169e-4c1d-8773-2451d110c7f9",
   "metadata": {},
   "outputs": [],
   "source": [
    "import dask_awkward as dak\n",
    "import awkward as ak\n",
    "import uproot\n",
    "import numpy as np\n",
    "process = \"vbf_powheg\"\n",
    "load_path = \"/depot/cms/users/yun79/results/stage1/test_full\"\n",
    "load_path = load_path + f\"/f0_1\"\n",
    "full_load_path = load_path+f\"/{process}/*/*.parquet\"\n",
    "events = dak.from_parquet(full_load_path) \n",
    "var = \"jet1_pt\"\n",
    "np_hist, edges = np.histogram(events[var].compute(), bins=np.linspace(*plot_settings[var][\"binning_linspace\"]))"
   ]
  },
  {
   "cell_type": "code",
   "execution_count": 74,
   "id": "bb2a641b-44a6-4423-b7ce-a1ed8029ea80",
   "metadata": {},
   "outputs": [
    {
     "data": {
      "text/plain": [
       "40.0"
      ]
     },
     "execution_count": 74,
     "metadata": {},
     "output_type": "execute_result"
    }
   ],
   "source": [
    "jet1_pt_hist.GetBinContent(2)\n",
    "# jet1_pt_hist.GetXaxis().GetBinLowEdge(2)"
   ]
  },
  {
   "cell_type": "code",
   "execution_count": 73,
   "id": "ae9ffd64-8c3e-4248-9351-c5a5ff70cac8",
   "metadata": {},
   "outputs": [
    {
     "data": {
      "text/html": [
       "<pre>[6,\n",
       " 40,\n",
       " 203,\n",
       " 647,\n",
       " 1.19e+03,\n",
       " 1.91e+03,\n",
       " 2.48e+03,\n",
       " 2.8e+03,\n",
       " 2.94e+03,\n",
       " 2.72e+03,\n",
       " ...,\n",
       " 566,\n",
       " 489,\n",
       " 459,\n",
       " 348,\n",
       " 295,\n",
       " 271,\n",
       " 252,\n",
       " 199,\n",
       " 182]\n",
       "------------------\n",
       "type: 29 * float64</pre>"
      ],
      "text/plain": [
       "<Array [6, 40, 203, 647, 1.19e+03, ..., 271, 252, 199, 182] type='29 * float64'>"
      ]
     },
     "execution_count": 73,
     "metadata": {},
     "output_type": "execute_result"
    }
   ],
   "source": [
    "np_hist"
   ]
  },
  {
   "cell_type": "code",
   "execution_count": 63,
   "id": "2f0ff2c4-2439-4ec9-9788-e30f9f40c0d2",
   "metadata": {},
   "outputs": [
    {
     "data": {
      "text/plain": [
       "0.0"
      ]
     },
     "execution_count": 63,
     "metadata": {},
     "output_type": "execute_result"
    }
   ],
   "source": [
    "# jet1_pt_hist.GetBinContent(1)\n",
    "jet1_pt_hist.GetBinContent(2)"
   ]
  },
  {
   "cell_type": "code",
   "execution_count": 52,
   "id": "0e298a60-02da-4b96-9f8e-dd5344da8d16",
   "metadata": {},
   "outputs": [
    {
     "data": {
      "text/plain": [
       "300.0"
      ]
     },
     "execution_count": 52,
     "metadata": {},
     "output_type": "execute_result"
    }
   ],
   "source": [
    "max(edges)"
   ]
  },
  {
   "cell_type": "code",
   "execution_count": 55,
   "id": "8e5d0692-a5cf-4daf-80e0-8c3b5cf0f17c",
   "metadata": {},
   "outputs": [
    {
     "data": {
      "text/plain": [
       "29"
      ]
     },
     "execution_count": 55,
     "metadata": {},
     "output_type": "execute_result"
    }
   ],
   "source": [
    "len(np_hist)"
   ]
  },
  {
   "cell_type": "code",
   "execution_count": null,
   "id": "da78b748-e80d-46e9-a708-15ce399ffa6f",
   "metadata": {},
   "outputs": [],
   "source": []
  }
 ],
 "metadata": {
  "kernelspec": {
   "display_name": "Python [conda env:coffea2024]",
   "language": "python",
   "name": "conda-env-coffea2024-py"
  },
  "language_info": {
   "codemirror_mode": {
    "name": "ipython",
    "version": 3
   },
   "file_extension": ".py",
   "mimetype": "text/x-python",
   "name": "python",
   "nbconvert_exporter": "python",
   "pygments_lexer": "ipython3",
   "version": "3.10.13"
  }
 },
 "nbformat": 4,
 "nbformat_minor": 5
}
